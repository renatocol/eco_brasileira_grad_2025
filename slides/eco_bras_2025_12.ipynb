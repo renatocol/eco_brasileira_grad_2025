{
 "cells": [
  {
   "cell_type": "markdown",
   "metadata": {
    "heading_collapsed": true,
    "slideshow": {
     "slide_type": "slide"
    }
   },
   "source": [
    "## <center>Economia Brasileira - FEA-USP</center>\n",
    "\n",
    "### <center>Aula 12 - O governo Dilma</center>\n",
    "\n",
    "#### <center>Renato Perim Colistete</center>\n",
    "\n",
    "\n",
    "#### <center>2025</center>  "
   ]
  },
  {
   "cell_type": "markdown",
   "metadata": {
    "slideshow": {
     "slide_type": "slide"
    }
   },
   "source": [
    "## Objetivos\n",
    "\n",
    "Esta aula reconstitui as principais políticas macroeconômicas do primeiro governo de Dilma Roussef, entre 2011 e 2014.\n",
    "\n",
    "O foco é a política macroeconômica e seus resultados, em particular a mudança mais explícita da orientação quanto ao regime de metas de inflação, a política fiscal e ao câmbio ocorrida no período.\n",
    "\n",
    "Outros temas - política social, distribuição de renda e desempenho da indústria - serão vistos nas próximas aulas."
   ]
  },
  {
   "cell_type": "markdown",
   "metadata": {
    "slideshow": {
     "slide_type": "slide"
    }
   },
   "source": [
    "## Novo governo\n",
    "\n",
    "Ao contrário das transições políticas anteriores marcadas por instabilidade e incerteza, a passagem do governo Lula para o governo Dilma ocorreu sem maiores sobressaltos - por exemplo, em indicadores relacionados ao setor externo e aos juros."
   ]
  },
  {
   "cell_type": "markdown",
   "metadata": {
    "slideshow": {
     "slide_type": "fragment"
    }
   },
   "source": [
    "A transição ocorreu no contexto dos bons resultados macroeconômicos dos anos anteriores e da rápida recuperação da crise de 2008/2009."
   ]
  },
  {
   "cell_type": "markdown",
   "metadata": {
    "slideshow": {
     "slide_type": "fragment"
    }
   },
   "source": [
    "Paralelamente, os resultados do balanço de pagamentos mantiveram-se favoráveis na transição, de forma inédita em relação às décadas anteriores (embora os indicadores externos tenham começado a se deteriorar logo em seguida, como veremos adiante). "
   ]
  },
  {
   "cell_type": "markdown",
   "metadata": {
    "slideshow": {
     "slide_type": "subslide"
    }
   },
   "source": [
    "Ver nas figuras a seguir os dados pós-2010 para o setor externo, já apresentados na aula anterior: termos de troca e reservas. Alguma mudança perceptível?"
   ]
  },
  {
   "cell_type": "code",
   "execution_count": 2,
   "metadata": {
    "slideshow": {
     "slide_type": "notes"
    }
   },
   "outputs": [
    {
     "data": {
      "application/javascript": [
       "(function(root) {\n",
       "  function now() {\n",
       "    return new Date();\n",
       "  }\n",
       "\n",
       "  var force = true;\n",
       "  var py_version = '3.4.2'.replace('rc', '-rc.').replace('.dev', '-dev.');\n",
       "  var reloading = false;\n",
       "  var Bokeh = root.Bokeh;\n",
       "\n",
       "  if (typeof (root._bokeh_timeout) === \"undefined\" || force) {\n",
       "    root._bokeh_timeout = Date.now() + 5000;\n",
       "    root._bokeh_failed_load = false;\n",
       "  }\n",
       "\n",
       "  function run_callbacks() {\n",
       "    try {\n",
       "      root._bokeh_onload_callbacks.forEach(function(callback) {\n",
       "        if (callback != null)\n",
       "          callback();\n",
       "      });\n",
       "    } finally {\n",
       "      delete root._bokeh_onload_callbacks;\n",
       "    }\n",
       "    console.debug(\"Bokeh: all callbacks have finished\");\n",
       "  }\n",
       "\n",
       "  function load_libs(css_urls, js_urls, js_modules, js_exports, callback) {\n",
       "    if (css_urls == null) css_urls = [];\n",
       "    if (js_urls == null) js_urls = [];\n",
       "    if (js_modules == null) js_modules = [];\n",
       "    if (js_exports == null) js_exports = {};\n",
       "\n",
       "    root._bokeh_onload_callbacks.push(callback);\n",
       "\n",
       "    if (root._bokeh_is_loading > 0) {\n",
       "      console.debug(\"Bokeh: BokehJS is being loaded, scheduling callback at\", now());\n",
       "      return null;\n",
       "    }\n",
       "    if (js_urls.length === 0 && js_modules.length === 0 && Object.keys(js_exports).length === 0) {\n",
       "      run_callbacks();\n",
       "      return null;\n",
       "    }\n",
       "    if (!reloading) {\n",
       "      console.debug(\"Bokeh: BokehJS not loaded, scheduling load and callback at\", now());\n",
       "    }\n",
       "\n",
       "    function on_load() {\n",
       "      root._bokeh_is_loading--;\n",
       "      if (root._bokeh_is_loading === 0) {\n",
       "        console.debug(\"Bokeh: all BokehJS libraries/stylesheets loaded\");\n",
       "        run_callbacks()\n",
       "      }\n",
       "    }\n",
       "    window._bokeh_on_load = on_load\n",
       "\n",
       "    function on_error() {\n",
       "      console.error(\"failed to load \" + url);\n",
       "    }\n",
       "\n",
       "    var skip = [];\n",
       "    if (window.requirejs) {\n",
       "      window.requirejs.config({'packages': {}, 'paths': {}, 'shim': {}});\n",
       "      root._bokeh_is_loading = css_urls.length + 0;\n",
       "    } else {\n",
       "      root._bokeh_is_loading = css_urls.length + js_urls.length + js_modules.length + Object.keys(js_exports).length;\n",
       "    }\n",
       "\n",
       "    var existing_stylesheets = []\n",
       "    var links = document.getElementsByTagName('link')\n",
       "    for (var i = 0; i < links.length; i++) {\n",
       "      var link = links[i]\n",
       "      if (link.href != null) {\n",
       "\texisting_stylesheets.push(link.href)\n",
       "      }\n",
       "    }\n",
       "    for (var i = 0; i < css_urls.length; i++) {\n",
       "      var url = css_urls[i];\n",
       "      if (existing_stylesheets.indexOf(url) !== -1) {\n",
       "\ton_load()\n",
       "\tcontinue;\n",
       "      }\n",
       "      const element = document.createElement(\"link\");\n",
       "      element.onload = on_load;\n",
       "      element.onerror = on_error;\n",
       "      element.rel = \"stylesheet\";\n",
       "      element.type = \"text/css\";\n",
       "      element.href = url;\n",
       "      console.debug(\"Bokeh: injecting link tag for BokehJS stylesheet: \", url);\n",
       "      document.body.appendChild(element);\n",
       "    }    var existing_scripts = []\n",
       "    var scripts = document.getElementsByTagName('script')\n",
       "    for (var i = 0; i < scripts.length; i++) {\n",
       "      var script = scripts[i]\n",
       "      if (script.src != null) {\n",
       "\texisting_scripts.push(script.src)\n",
       "      }\n",
       "    }\n",
       "    for (var i = 0; i < js_urls.length; i++) {\n",
       "      var url = js_urls[i];\n",
       "      if (skip.indexOf(url) !== -1 || existing_scripts.indexOf(url) !== -1) {\n",
       "\tif (!window.requirejs) {\n",
       "\t  on_load();\n",
       "\t}\n",
       "\tcontinue;\n",
       "      }\n",
       "      var element = document.createElement('script');\n",
       "      element.onload = on_load;\n",
       "      element.onerror = on_error;\n",
       "      element.async = false;\n",
       "      element.src = url;\n",
       "      console.debug(\"Bokeh: injecting script tag for BokehJS library: \", url);\n",
       "      document.head.appendChild(element);\n",
       "    }\n",
       "    for (var i = 0; i < js_modules.length; i++) {\n",
       "      var url = js_modules[i];\n",
       "      if (skip.indexOf(url) !== -1 || existing_scripts.indexOf(url) !== -1) {\n",
       "\tif (!window.requirejs) {\n",
       "\t  on_load();\n",
       "\t}\n",
       "\tcontinue;\n",
       "      }\n",
       "      var element = document.createElement('script');\n",
       "      element.onload = on_load;\n",
       "      element.onerror = on_error;\n",
       "      element.async = false;\n",
       "      element.src = url;\n",
       "      element.type = \"module\";\n",
       "      console.debug(\"Bokeh: injecting script tag for BokehJS library: \", url);\n",
       "      document.head.appendChild(element);\n",
       "    }\n",
       "    for (const name in js_exports) {\n",
       "      var url = js_exports[name];\n",
       "      if (skip.indexOf(url) >= 0 || root[name] != null) {\n",
       "\tif (!window.requirejs) {\n",
       "\t  on_load();\n",
       "\t}\n",
       "\tcontinue;\n",
       "      }\n",
       "      var element = document.createElement('script');\n",
       "      element.onerror = on_error;\n",
       "      element.async = false;\n",
       "      element.type = \"module\";\n",
       "      console.debug(\"Bokeh: injecting script tag for BokehJS library: \", url);\n",
       "      element.textContent = `\n",
       "      import ${name} from \"${url}\"\n",
       "      window.${name} = ${name}\n",
       "      window._bokeh_on_load()\n",
       "      `\n",
       "      document.head.appendChild(element);\n",
       "    }\n",
       "    if (!js_urls.length && !js_modules.length) {\n",
       "      on_load()\n",
       "    }\n",
       "  };\n",
       "\n",
       "  function inject_raw_css(css) {\n",
       "    const element = document.createElement(\"style\");\n",
       "    element.appendChild(document.createTextNode(css));\n",
       "    document.body.appendChild(element);\n",
       "  }\n",
       "\n",
       "  var js_urls = [\"https://cdn.bokeh.org/bokeh/release/bokeh-3.4.2.min.js\", \"https://cdn.bokeh.org/bokeh/release/bokeh-gl-3.4.2.min.js\", \"https://cdn.bokeh.org/bokeh/release/bokeh-widgets-3.4.2.min.js\", \"https://cdn.bokeh.org/bokeh/release/bokeh-tables-3.4.2.min.js\", \"https://cdn.holoviz.org/panel/1.4.5/dist/panel.min.js\"];\n",
       "  var js_modules = [];\n",
       "  var js_exports = {};\n",
       "  var css_urls = [];\n",
       "  var inline_js = [    function(Bokeh) {\n",
       "      Bokeh.set_log_level(\"info\");\n",
       "    },\n",
       "function(Bokeh) {} // ensure no trailing comma for IE\n",
       "  ];\n",
       "\n",
       "  function run_inline_js() {\n",
       "    if ((root.Bokeh !== undefined) || (force === true)) {\n",
       "      for (var i = 0; i < inline_js.length; i++) {\n",
       "\ttry {\n",
       "          inline_js[i].call(root, root.Bokeh);\n",
       "\t} catch(e) {\n",
       "\t  if (!reloading) {\n",
       "\t    throw e;\n",
       "\t  }\n",
       "\t}\n",
       "      }\n",
       "      // Cache old bokeh versions\n",
       "      if (Bokeh != undefined && !reloading) {\n",
       "\tvar NewBokeh = root.Bokeh;\n",
       "\tif (Bokeh.versions === undefined) {\n",
       "\t  Bokeh.versions = new Map();\n",
       "\t}\n",
       "\tif (NewBokeh.version !== Bokeh.version) {\n",
       "\t  Bokeh.versions.set(NewBokeh.version, NewBokeh)\n",
       "\t}\n",
       "\troot.Bokeh = Bokeh;\n",
       "      }} else if (Date.now() < root._bokeh_timeout) {\n",
       "      setTimeout(run_inline_js, 100);\n",
       "    } else if (!root._bokeh_failed_load) {\n",
       "      console.log(\"Bokeh: BokehJS failed to load within specified timeout.\");\n",
       "      root._bokeh_failed_load = true;\n",
       "    }\n",
       "    root._bokeh_is_initializing = false\n",
       "  }\n",
       "\n",
       "  function load_or_wait() {\n",
       "    // Implement a backoff loop that tries to ensure we do not load multiple\n",
       "    // versions of Bokeh and its dependencies at the same time.\n",
       "    // In recent versions we use the root._bokeh_is_initializing flag\n",
       "    // to determine whether there is an ongoing attempt to initialize\n",
       "    // bokeh, however for backward compatibility we also try to ensure\n",
       "    // that we do not start loading a newer (Panel>=1.0 and Bokeh>3) version\n",
       "    // before older versions are fully initialized.\n",
       "    if (root._bokeh_is_initializing && Date.now() > root._bokeh_timeout) {\n",
       "      root._bokeh_is_initializing = false;\n",
       "      root._bokeh_onload_callbacks = undefined;\n",
       "      console.log(\"Bokeh: BokehJS was loaded multiple times but one version failed to initialize.\");\n",
       "      load_or_wait();\n",
       "    } else if (root._bokeh_is_initializing || (typeof root._bokeh_is_initializing === \"undefined\" && root._bokeh_onload_callbacks !== undefined)) {\n",
       "      setTimeout(load_or_wait, 100);\n",
       "    } else {\n",
       "      root._bokeh_is_initializing = true\n",
       "      root._bokeh_onload_callbacks = []\n",
       "      var bokeh_loaded = Bokeh != null && (Bokeh.version === py_version || (Bokeh.versions !== undefined && Bokeh.versions.has(py_version)));\n",
       "      if (!reloading && !bokeh_loaded) {\n",
       "\troot.Bokeh = undefined;\n",
       "      }\n",
       "      load_libs(css_urls, js_urls, js_modules, js_exports, function() {\n",
       "\tconsole.debug(\"Bokeh: BokehJS plotting callback run at\", now());\n",
       "\trun_inline_js();\n",
       "      });\n",
       "    }\n",
       "  }\n",
       "  // Give older versions of the autoload script a head-start to ensure\n",
       "  // they initialize before we start loading newer version.\n",
       "  setTimeout(load_or_wait, 100)\n",
       "}(window));"
      ],
      "application/vnd.holoviews_load.v0+json": "(function(root) {\n  function now() {\n    return new Date();\n  }\n\n  var force = true;\n  var py_version = '3.4.2'.replace('rc', '-rc.').replace('.dev', '-dev.');\n  var reloading = false;\n  var Bokeh = root.Bokeh;\n\n  if (typeof (root._bokeh_timeout) === \"undefined\" || force) {\n    root._bokeh_timeout = Date.now() + 5000;\n    root._bokeh_failed_load = false;\n  }\n\n  function run_callbacks() {\n    try {\n      root._bokeh_onload_callbacks.forEach(function(callback) {\n        if (callback != null)\n          callback();\n      });\n    } finally {\n      delete root._bokeh_onload_callbacks;\n    }\n    console.debug(\"Bokeh: all callbacks have finished\");\n  }\n\n  function load_libs(css_urls, js_urls, js_modules, js_exports, callback) {\n    if (css_urls == null) css_urls = [];\n    if (js_urls == null) js_urls = [];\n    if (js_modules == null) js_modules = [];\n    if (js_exports == null) js_exports = {};\n\n    root._bokeh_onload_callbacks.push(callback);\n\n    if (root._bokeh_is_loading > 0) {\n      console.debug(\"Bokeh: BokehJS is being loaded, scheduling callback at\", now());\n      return null;\n    }\n    if (js_urls.length === 0 && js_modules.length === 0 && Object.keys(js_exports).length === 0) {\n      run_callbacks();\n      return null;\n    }\n    if (!reloading) {\n      console.debug(\"Bokeh: BokehJS not loaded, scheduling load and callback at\", now());\n    }\n\n    function on_load() {\n      root._bokeh_is_loading--;\n      if (root._bokeh_is_loading === 0) {\n        console.debug(\"Bokeh: all BokehJS libraries/stylesheets loaded\");\n        run_callbacks()\n      }\n    }\n    window._bokeh_on_load = on_load\n\n    function on_error() {\n      console.error(\"failed to load \" + url);\n    }\n\n    var skip = [];\n    if (window.requirejs) {\n      window.requirejs.config({'packages': {}, 'paths': {}, 'shim': {}});\n      root._bokeh_is_loading = css_urls.length + 0;\n    } else {\n      root._bokeh_is_loading = css_urls.length + js_urls.length + js_modules.length + Object.keys(js_exports).length;\n    }\n\n    var existing_stylesheets = []\n    var links = document.getElementsByTagName('link')\n    for (var i = 0; i < links.length; i++) {\n      var link = links[i]\n      if (link.href != null) {\n\texisting_stylesheets.push(link.href)\n      }\n    }\n    for (var i = 0; i < css_urls.length; i++) {\n      var url = css_urls[i];\n      if (existing_stylesheets.indexOf(url) !== -1) {\n\ton_load()\n\tcontinue;\n      }\n      const element = document.createElement(\"link\");\n      element.onload = on_load;\n      element.onerror = on_error;\n      element.rel = \"stylesheet\";\n      element.type = \"text/css\";\n      element.href = url;\n      console.debug(\"Bokeh: injecting link tag for BokehJS stylesheet: \", url);\n      document.body.appendChild(element);\n    }    var existing_scripts = []\n    var scripts = document.getElementsByTagName('script')\n    for (var i = 0; i < scripts.length; i++) {\n      var script = scripts[i]\n      if (script.src != null) {\n\texisting_scripts.push(script.src)\n      }\n    }\n    for (var i = 0; i < js_urls.length; i++) {\n      var url = js_urls[i];\n      if (skip.indexOf(url) !== -1 || existing_scripts.indexOf(url) !== -1) {\n\tif (!window.requirejs) {\n\t  on_load();\n\t}\n\tcontinue;\n      }\n      var element = document.createElement('script');\n      element.onload = on_load;\n      element.onerror = on_error;\n      element.async = false;\n      element.src = url;\n      console.debug(\"Bokeh: injecting script tag for BokehJS library: \", url);\n      document.head.appendChild(element);\n    }\n    for (var i = 0; i < js_modules.length; i++) {\n      var url = js_modules[i];\n      if (skip.indexOf(url) !== -1 || existing_scripts.indexOf(url) !== -1) {\n\tif (!window.requirejs) {\n\t  on_load();\n\t}\n\tcontinue;\n      }\n      var element = document.createElement('script');\n      element.onload = on_load;\n      element.onerror = on_error;\n      element.async = false;\n      element.src = url;\n      element.type = \"module\";\n      console.debug(\"Bokeh: injecting script tag for BokehJS library: \", url);\n      document.head.appendChild(element);\n    }\n    for (const name in js_exports) {\n      var url = js_exports[name];\n      if (skip.indexOf(url) >= 0 || root[name] != null) {\n\tif (!window.requirejs) {\n\t  on_load();\n\t}\n\tcontinue;\n      }\n      var element = document.createElement('script');\n      element.onerror = on_error;\n      element.async = false;\n      element.type = \"module\";\n      console.debug(\"Bokeh: injecting script tag for BokehJS library: \", url);\n      element.textContent = `\n      import ${name} from \"${url}\"\n      window.${name} = ${name}\n      window._bokeh_on_load()\n      `\n      document.head.appendChild(element);\n    }\n    if (!js_urls.length && !js_modules.length) {\n      on_load()\n    }\n  };\n\n  function inject_raw_css(css) {\n    const element = document.createElement(\"style\");\n    element.appendChild(document.createTextNode(css));\n    document.body.appendChild(element);\n  }\n\n  var js_urls = [\"https://cdn.bokeh.org/bokeh/release/bokeh-3.4.2.min.js\", \"https://cdn.bokeh.org/bokeh/release/bokeh-gl-3.4.2.min.js\", \"https://cdn.bokeh.org/bokeh/release/bokeh-widgets-3.4.2.min.js\", \"https://cdn.bokeh.org/bokeh/release/bokeh-tables-3.4.2.min.js\", \"https://cdn.holoviz.org/panel/1.4.5/dist/panel.min.js\"];\n  var js_modules = [];\n  var js_exports = {};\n  var css_urls = [];\n  var inline_js = [    function(Bokeh) {\n      Bokeh.set_log_level(\"info\");\n    },\nfunction(Bokeh) {} // ensure no trailing comma for IE\n  ];\n\n  function run_inline_js() {\n    if ((root.Bokeh !== undefined) || (force === true)) {\n      for (var i = 0; i < inline_js.length; i++) {\n\ttry {\n          inline_js[i].call(root, root.Bokeh);\n\t} catch(e) {\n\t  if (!reloading) {\n\t    throw e;\n\t  }\n\t}\n      }\n      // Cache old bokeh versions\n      if (Bokeh != undefined && !reloading) {\n\tvar NewBokeh = root.Bokeh;\n\tif (Bokeh.versions === undefined) {\n\t  Bokeh.versions = new Map();\n\t}\n\tif (NewBokeh.version !== Bokeh.version) {\n\t  Bokeh.versions.set(NewBokeh.version, NewBokeh)\n\t}\n\troot.Bokeh = Bokeh;\n      }} else if (Date.now() < root._bokeh_timeout) {\n      setTimeout(run_inline_js, 100);\n    } else if (!root._bokeh_failed_load) {\n      console.log(\"Bokeh: BokehJS failed to load within specified timeout.\");\n      root._bokeh_failed_load = true;\n    }\n    root._bokeh_is_initializing = false\n  }\n\n  function load_or_wait() {\n    // Implement a backoff loop that tries to ensure we do not load multiple\n    // versions of Bokeh and its dependencies at the same time.\n    // In recent versions we use the root._bokeh_is_initializing flag\n    // to determine whether there is an ongoing attempt to initialize\n    // bokeh, however for backward compatibility we also try to ensure\n    // that we do not start loading a newer (Panel>=1.0 and Bokeh>3) version\n    // before older versions are fully initialized.\n    if (root._bokeh_is_initializing && Date.now() > root._bokeh_timeout) {\n      root._bokeh_is_initializing = false;\n      root._bokeh_onload_callbacks = undefined;\n      console.log(\"Bokeh: BokehJS was loaded multiple times but one version failed to initialize.\");\n      load_or_wait();\n    } else if (root._bokeh_is_initializing || (typeof root._bokeh_is_initializing === \"undefined\" && root._bokeh_onload_callbacks !== undefined)) {\n      setTimeout(load_or_wait, 100);\n    } else {\n      root._bokeh_is_initializing = true\n      root._bokeh_onload_callbacks = []\n      var bokeh_loaded = Bokeh != null && (Bokeh.version === py_version || (Bokeh.versions !== undefined && Bokeh.versions.has(py_version)));\n      if (!reloading && !bokeh_loaded) {\n\troot.Bokeh = undefined;\n      }\n      load_libs(css_urls, js_urls, js_modules, js_exports, function() {\n\tconsole.debug(\"Bokeh: BokehJS plotting callback run at\", now());\n\trun_inline_js();\n      });\n    }\n  }\n  // Give older versions of the autoload script a head-start to ensure\n  // they initialize before we start loading newer version.\n  setTimeout(load_or_wait, 100)\n}(window));"
     },
     "metadata": {},
     "output_type": "display_data"
    },
    {
     "data": {
      "application/javascript": [
       "\n",
       "if ((window.PyViz === undefined) || (window.PyViz instanceof HTMLElement)) {\n",
       "  window.PyViz = {comms: {}, comm_status:{}, kernels:{}, receivers: {}, plot_index: []}\n",
       "}\n",
       "\n",
       "\n",
       "    function JupyterCommManager() {\n",
       "    }\n",
       "\n",
       "    JupyterCommManager.prototype.register_target = function(plot_id, comm_id, msg_handler) {\n",
       "      if (window.comm_manager || ((window.Jupyter !== undefined) && (Jupyter.notebook.kernel != null))) {\n",
       "        var comm_manager = window.comm_manager || Jupyter.notebook.kernel.comm_manager;\n",
       "        comm_manager.register_target(comm_id, function(comm) {\n",
       "          comm.on_msg(msg_handler);\n",
       "        });\n",
       "      } else if ((plot_id in window.PyViz.kernels) && (window.PyViz.kernels[plot_id])) {\n",
       "        window.PyViz.kernels[plot_id].registerCommTarget(comm_id, function(comm) {\n",
       "          comm.onMsg = msg_handler;\n",
       "        });\n",
       "      } else if (typeof google != 'undefined' && google.colab.kernel != null) {\n",
       "        google.colab.kernel.comms.registerTarget(comm_id, (comm) => {\n",
       "          var messages = comm.messages[Symbol.asyncIterator]();\n",
       "          function processIteratorResult(result) {\n",
       "            var message = result.value;\n",
       "            console.log(message)\n",
       "            var content = {data: message.data, comm_id};\n",
       "            var buffers = []\n",
       "            for (var buffer of message.buffers || []) {\n",
       "              buffers.push(new DataView(buffer))\n",
       "            }\n",
       "            var metadata = message.metadata || {};\n",
       "            var msg = {content, buffers, metadata}\n",
       "            msg_handler(msg);\n",
       "            return messages.next().then(processIteratorResult);\n",
       "          }\n",
       "          return messages.next().then(processIteratorResult);\n",
       "        })\n",
       "      }\n",
       "    }\n",
       "\n",
       "    JupyterCommManager.prototype.get_client_comm = function(plot_id, comm_id, msg_handler) {\n",
       "      if (comm_id in window.PyViz.comms) {\n",
       "        return window.PyViz.comms[comm_id];\n",
       "      } else if (window.comm_manager || ((window.Jupyter !== undefined) && (Jupyter.notebook.kernel != null))) {\n",
       "        var comm_manager = window.comm_manager || Jupyter.notebook.kernel.comm_manager;\n",
       "        var comm = comm_manager.new_comm(comm_id, {}, {}, {}, comm_id);\n",
       "        if (msg_handler) {\n",
       "          comm.on_msg(msg_handler);\n",
       "        }\n",
       "      } else if ((plot_id in window.PyViz.kernels) && (window.PyViz.kernels[plot_id])) {\n",
       "        var comm = window.PyViz.kernels[plot_id].connectToComm(comm_id);\n",
       "        comm.open();\n",
       "        if (msg_handler) {\n",
       "          comm.onMsg = msg_handler;\n",
       "        }\n",
       "      } else if (typeof google != 'undefined' && google.colab.kernel != null) {\n",
       "        var comm_promise = google.colab.kernel.comms.open(comm_id)\n",
       "        comm_promise.then((comm) => {\n",
       "          window.PyViz.comms[comm_id] = comm;\n",
       "          if (msg_handler) {\n",
       "            var messages = comm.messages[Symbol.asyncIterator]();\n",
       "            function processIteratorResult(result) {\n",
       "              var message = result.value;\n",
       "              var content = {data: message.data};\n",
       "              var metadata = message.metadata || {comm_id};\n",
       "              var msg = {content, metadata}\n",
       "              msg_handler(msg);\n",
       "              return messages.next().then(processIteratorResult);\n",
       "            }\n",
       "            return messages.next().then(processIteratorResult);\n",
       "          }\n",
       "        })\n",
       "        var sendClosure = (data, metadata, buffers, disposeOnDone) => {\n",
       "          return comm_promise.then((comm) => {\n",
       "            comm.send(data, metadata, buffers, disposeOnDone);\n",
       "          });\n",
       "        };\n",
       "        var comm = {\n",
       "          send: sendClosure\n",
       "        };\n",
       "      }\n",
       "      window.PyViz.comms[comm_id] = comm;\n",
       "      return comm;\n",
       "    }\n",
       "    window.PyViz.comm_manager = new JupyterCommManager();\n",
       "    \n",
       "\n",
       "\n",
       "var JS_MIME_TYPE = 'application/javascript';\n",
       "var HTML_MIME_TYPE = 'text/html';\n",
       "var EXEC_MIME_TYPE = 'application/vnd.holoviews_exec.v0+json';\n",
       "var CLASS_NAME = 'output';\n",
       "\n",
       "/**\n",
       " * Render data to the DOM node\n",
       " */\n",
       "function render(props, node) {\n",
       "  var div = document.createElement(\"div\");\n",
       "  var script = document.createElement(\"script\");\n",
       "  node.appendChild(div);\n",
       "  node.appendChild(script);\n",
       "}\n",
       "\n",
       "/**\n",
       " * Handle when a new output is added\n",
       " */\n",
       "function handle_add_output(event, handle) {\n",
       "  var output_area = handle.output_area;\n",
       "  var output = handle.output;\n",
       "  if ((output.data == undefined) || (!output.data.hasOwnProperty(EXEC_MIME_TYPE))) {\n",
       "    return\n",
       "  }\n",
       "  var id = output.metadata[EXEC_MIME_TYPE][\"id\"];\n",
       "  var toinsert = output_area.element.find(\".\" + CLASS_NAME.split(' ')[0]);\n",
       "  if (id !== undefined) {\n",
       "    var nchildren = toinsert.length;\n",
       "    var html_node = toinsert[nchildren-1].children[0];\n",
       "    html_node.innerHTML = output.data[HTML_MIME_TYPE];\n",
       "    var scripts = [];\n",
       "    var nodelist = html_node.querySelectorAll(\"script\");\n",
       "    for (var i in nodelist) {\n",
       "      if (nodelist.hasOwnProperty(i)) {\n",
       "        scripts.push(nodelist[i])\n",
       "      }\n",
       "    }\n",
       "\n",
       "    scripts.forEach( function (oldScript) {\n",
       "      var newScript = document.createElement(\"script\");\n",
       "      var attrs = [];\n",
       "      var nodemap = oldScript.attributes;\n",
       "      for (var j in nodemap) {\n",
       "        if (nodemap.hasOwnProperty(j)) {\n",
       "          attrs.push(nodemap[j])\n",
       "        }\n",
       "      }\n",
       "      attrs.forEach(function(attr) { newScript.setAttribute(attr.name, attr.value) });\n",
       "      newScript.appendChild(document.createTextNode(oldScript.innerHTML));\n",
       "      oldScript.parentNode.replaceChild(newScript, oldScript);\n",
       "    });\n",
       "    if (JS_MIME_TYPE in output.data) {\n",
       "      toinsert[nchildren-1].children[1].textContent = output.data[JS_MIME_TYPE];\n",
       "    }\n",
       "    output_area._hv_plot_id = id;\n",
       "    if ((window.Bokeh !== undefined) && (id in Bokeh.index)) {\n",
       "      window.PyViz.plot_index[id] = Bokeh.index[id];\n",
       "    } else {\n",
       "      window.PyViz.plot_index[id] = null;\n",
       "    }\n",
       "  } else if (output.metadata[EXEC_MIME_TYPE][\"server_id\"] !== undefined) {\n",
       "    var bk_div = document.createElement(\"div\");\n",
       "    bk_div.innerHTML = output.data[HTML_MIME_TYPE];\n",
       "    var script_attrs = bk_div.children[0].attributes;\n",
       "    for (var i = 0; i < script_attrs.length; i++) {\n",
       "      toinsert[toinsert.length - 1].childNodes[1].setAttribute(script_attrs[i].name, script_attrs[i].value);\n",
       "    }\n",
       "    // store reference to server id on output_area\n",
       "    output_area._bokeh_server_id = output.metadata[EXEC_MIME_TYPE][\"server_id\"];\n",
       "  }\n",
       "}\n",
       "\n",
       "/**\n",
       " * Handle when an output is cleared or removed\n",
       " */\n",
       "function handle_clear_output(event, handle) {\n",
       "  var id = handle.cell.output_area._hv_plot_id;\n",
       "  var server_id = handle.cell.output_area._bokeh_server_id;\n",
       "  if (((id === undefined) || !(id in PyViz.plot_index)) && (server_id !== undefined)) { return; }\n",
       "  var comm = window.PyViz.comm_manager.get_client_comm(\"hv-extension-comm\", \"hv-extension-comm\", function () {});\n",
       "  if (server_id !== null) {\n",
       "    comm.send({event_type: 'server_delete', 'id': server_id});\n",
       "    return;\n",
       "  } else if (comm !== null) {\n",
       "    comm.send({event_type: 'delete', 'id': id});\n",
       "  }\n",
       "  delete PyViz.plot_index[id];\n",
       "  if ((window.Bokeh !== undefined) & (id in window.Bokeh.index)) {\n",
       "    var doc = window.Bokeh.index[id].model.document\n",
       "    doc.clear();\n",
       "    const i = window.Bokeh.documents.indexOf(doc);\n",
       "    if (i > -1) {\n",
       "      window.Bokeh.documents.splice(i, 1);\n",
       "    }\n",
       "  }\n",
       "}\n",
       "\n",
       "/**\n",
       " * Handle kernel restart event\n",
       " */\n",
       "function handle_kernel_cleanup(event, handle) {\n",
       "  delete PyViz.comms[\"hv-extension-comm\"];\n",
       "  window.PyViz.plot_index = {}\n",
       "}\n",
       "\n",
       "/**\n",
       " * Handle update_display_data messages\n",
       " */\n",
       "function handle_update_output(event, handle) {\n",
       "  handle_clear_output(event, {cell: {output_area: handle.output_area}})\n",
       "  handle_add_output(event, handle)\n",
       "}\n",
       "\n",
       "function register_renderer(events, OutputArea) {\n",
       "  function append_mime(data, metadata, element) {\n",
       "    // create a DOM node to render to\n",
       "    var toinsert = this.create_output_subarea(\n",
       "    metadata,\n",
       "    CLASS_NAME,\n",
       "    EXEC_MIME_TYPE\n",
       "    );\n",
       "    this.keyboard_manager.register_events(toinsert);\n",
       "    // Render to node\n",
       "    var props = {data: data, metadata: metadata[EXEC_MIME_TYPE]};\n",
       "    render(props, toinsert[0]);\n",
       "    element.append(toinsert);\n",
       "    return toinsert\n",
       "  }\n",
       "\n",
       "  events.on('output_added.OutputArea', handle_add_output);\n",
       "  events.on('output_updated.OutputArea', handle_update_output);\n",
       "  events.on('clear_output.CodeCell', handle_clear_output);\n",
       "  events.on('delete.Cell', handle_clear_output);\n",
       "  events.on('kernel_ready.Kernel', handle_kernel_cleanup);\n",
       "\n",
       "  OutputArea.prototype.register_mime_type(EXEC_MIME_TYPE, append_mime, {\n",
       "    safe: true,\n",
       "    index: 0\n",
       "  });\n",
       "}\n",
       "\n",
       "if (window.Jupyter !== undefined) {\n",
       "  try {\n",
       "    var events = require('base/js/events');\n",
       "    var OutputArea = require('notebook/js/outputarea').OutputArea;\n",
       "    if (OutputArea.prototype.mime_types().indexOf(EXEC_MIME_TYPE) == -1) {\n",
       "      register_renderer(events, OutputArea);\n",
       "    }\n",
       "  } catch(err) {\n",
       "  }\n",
       "}\n"
      ],
      "application/vnd.holoviews_load.v0+json": "\nif ((window.PyViz === undefined) || (window.PyViz instanceof HTMLElement)) {\n  window.PyViz = {comms: {}, comm_status:{}, kernels:{}, receivers: {}, plot_index: []}\n}\n\n\n    function JupyterCommManager() {\n    }\n\n    JupyterCommManager.prototype.register_target = function(plot_id, comm_id, msg_handler) {\n      if (window.comm_manager || ((window.Jupyter !== undefined) && (Jupyter.notebook.kernel != null))) {\n        var comm_manager = window.comm_manager || Jupyter.notebook.kernel.comm_manager;\n        comm_manager.register_target(comm_id, function(comm) {\n          comm.on_msg(msg_handler);\n        });\n      } else if ((plot_id in window.PyViz.kernels) && (window.PyViz.kernels[plot_id])) {\n        window.PyViz.kernels[plot_id].registerCommTarget(comm_id, function(comm) {\n          comm.onMsg = msg_handler;\n        });\n      } else if (typeof google != 'undefined' && google.colab.kernel != null) {\n        google.colab.kernel.comms.registerTarget(comm_id, (comm) => {\n          var messages = comm.messages[Symbol.asyncIterator]();\n          function processIteratorResult(result) {\n            var message = result.value;\n            console.log(message)\n            var content = {data: message.data, comm_id};\n            var buffers = []\n            for (var buffer of message.buffers || []) {\n              buffers.push(new DataView(buffer))\n            }\n            var metadata = message.metadata || {};\n            var msg = {content, buffers, metadata}\n            msg_handler(msg);\n            return messages.next().then(processIteratorResult);\n          }\n          return messages.next().then(processIteratorResult);\n        })\n      }\n    }\n\n    JupyterCommManager.prototype.get_client_comm = function(plot_id, comm_id, msg_handler) {\n      if (comm_id in window.PyViz.comms) {\n        return window.PyViz.comms[comm_id];\n      } else if (window.comm_manager || ((window.Jupyter !== undefined) && (Jupyter.notebook.kernel != null))) {\n        var comm_manager = window.comm_manager || Jupyter.notebook.kernel.comm_manager;\n        var comm = comm_manager.new_comm(comm_id, {}, {}, {}, comm_id);\n        if (msg_handler) {\n          comm.on_msg(msg_handler);\n        }\n      } else if ((plot_id in window.PyViz.kernels) && (window.PyViz.kernels[plot_id])) {\n        var comm = window.PyViz.kernels[plot_id].connectToComm(comm_id);\n        comm.open();\n        if (msg_handler) {\n          comm.onMsg = msg_handler;\n        }\n      } else if (typeof google != 'undefined' && google.colab.kernel != null) {\n        var comm_promise = google.colab.kernel.comms.open(comm_id)\n        comm_promise.then((comm) => {\n          window.PyViz.comms[comm_id] = comm;\n          if (msg_handler) {\n            var messages = comm.messages[Symbol.asyncIterator]();\n            function processIteratorResult(result) {\n              var message = result.value;\n              var content = {data: message.data};\n              var metadata = message.metadata || {comm_id};\n              var msg = {content, metadata}\n              msg_handler(msg);\n              return messages.next().then(processIteratorResult);\n            }\n            return messages.next().then(processIteratorResult);\n          }\n        })\n        var sendClosure = (data, metadata, buffers, disposeOnDone) => {\n          return comm_promise.then((comm) => {\n            comm.send(data, metadata, buffers, disposeOnDone);\n          });\n        };\n        var comm = {\n          send: sendClosure\n        };\n      }\n      window.PyViz.comms[comm_id] = comm;\n      return comm;\n    }\n    window.PyViz.comm_manager = new JupyterCommManager();\n    \n\n\nvar JS_MIME_TYPE = 'application/javascript';\nvar HTML_MIME_TYPE = 'text/html';\nvar EXEC_MIME_TYPE = 'application/vnd.holoviews_exec.v0+json';\nvar CLASS_NAME = 'output';\n\n/**\n * Render data to the DOM node\n */\nfunction render(props, node) {\n  var div = document.createElement(\"div\");\n  var script = document.createElement(\"script\");\n  node.appendChild(div);\n  node.appendChild(script);\n}\n\n/**\n * Handle when a new output is added\n */\nfunction handle_add_output(event, handle) {\n  var output_area = handle.output_area;\n  var output = handle.output;\n  if ((output.data == undefined) || (!output.data.hasOwnProperty(EXEC_MIME_TYPE))) {\n    return\n  }\n  var id = output.metadata[EXEC_MIME_TYPE][\"id\"];\n  var toinsert = output_area.element.find(\".\" + CLASS_NAME.split(' ')[0]);\n  if (id !== undefined) {\n    var nchildren = toinsert.length;\n    var html_node = toinsert[nchildren-1].children[0];\n    html_node.innerHTML = output.data[HTML_MIME_TYPE];\n    var scripts = [];\n    var nodelist = html_node.querySelectorAll(\"script\");\n    for (var i in nodelist) {\n      if (nodelist.hasOwnProperty(i)) {\n        scripts.push(nodelist[i])\n      }\n    }\n\n    scripts.forEach( function (oldScript) {\n      var newScript = document.createElement(\"script\");\n      var attrs = [];\n      var nodemap = oldScript.attributes;\n      for (var j in nodemap) {\n        if (nodemap.hasOwnProperty(j)) {\n          attrs.push(nodemap[j])\n        }\n      }\n      attrs.forEach(function(attr) { newScript.setAttribute(attr.name, attr.value) });\n      newScript.appendChild(document.createTextNode(oldScript.innerHTML));\n      oldScript.parentNode.replaceChild(newScript, oldScript);\n    });\n    if (JS_MIME_TYPE in output.data) {\n      toinsert[nchildren-1].children[1].textContent = output.data[JS_MIME_TYPE];\n    }\n    output_area._hv_plot_id = id;\n    if ((window.Bokeh !== undefined) && (id in Bokeh.index)) {\n      window.PyViz.plot_index[id] = Bokeh.index[id];\n    } else {\n      window.PyViz.plot_index[id] = null;\n    }\n  } else if (output.metadata[EXEC_MIME_TYPE][\"server_id\"] !== undefined) {\n    var bk_div = document.createElement(\"div\");\n    bk_div.innerHTML = output.data[HTML_MIME_TYPE];\n    var script_attrs = bk_div.children[0].attributes;\n    for (var i = 0; i < script_attrs.length; i++) {\n      toinsert[toinsert.length - 1].childNodes[1].setAttribute(script_attrs[i].name, script_attrs[i].value);\n    }\n    // store reference to server id on output_area\n    output_area._bokeh_server_id = output.metadata[EXEC_MIME_TYPE][\"server_id\"];\n  }\n}\n\n/**\n * Handle when an output is cleared or removed\n */\nfunction handle_clear_output(event, handle) {\n  var id = handle.cell.output_area._hv_plot_id;\n  var server_id = handle.cell.output_area._bokeh_server_id;\n  if (((id === undefined) || !(id in PyViz.plot_index)) && (server_id !== undefined)) { return; }\n  var comm = window.PyViz.comm_manager.get_client_comm(\"hv-extension-comm\", \"hv-extension-comm\", function () {});\n  if (server_id !== null) {\n    comm.send({event_type: 'server_delete', 'id': server_id});\n    return;\n  } else if (comm !== null) {\n    comm.send({event_type: 'delete', 'id': id});\n  }\n  delete PyViz.plot_index[id];\n  if ((window.Bokeh !== undefined) & (id in window.Bokeh.index)) {\n    var doc = window.Bokeh.index[id].model.document\n    doc.clear();\n    const i = window.Bokeh.documents.indexOf(doc);\n    if (i > -1) {\n      window.Bokeh.documents.splice(i, 1);\n    }\n  }\n}\n\n/**\n * Handle kernel restart event\n */\nfunction handle_kernel_cleanup(event, handle) {\n  delete PyViz.comms[\"hv-extension-comm\"];\n  window.PyViz.plot_index = {}\n}\n\n/**\n * Handle update_display_data messages\n */\nfunction handle_update_output(event, handle) {\n  handle_clear_output(event, {cell: {output_area: handle.output_area}})\n  handle_add_output(event, handle)\n}\n\nfunction register_renderer(events, OutputArea) {\n  function append_mime(data, metadata, element) {\n    // create a DOM node to render to\n    var toinsert = this.create_output_subarea(\n    metadata,\n    CLASS_NAME,\n    EXEC_MIME_TYPE\n    );\n    this.keyboard_manager.register_events(toinsert);\n    // Render to node\n    var props = {data: data, metadata: metadata[EXEC_MIME_TYPE]};\n    render(props, toinsert[0]);\n    element.append(toinsert);\n    return toinsert\n  }\n\n  events.on('output_added.OutputArea', handle_add_output);\n  events.on('output_updated.OutputArea', handle_update_output);\n  events.on('clear_output.CodeCell', handle_clear_output);\n  events.on('delete.Cell', handle_clear_output);\n  events.on('kernel_ready.Kernel', handle_kernel_cleanup);\n\n  OutputArea.prototype.register_mime_type(EXEC_MIME_TYPE, append_mime, {\n    safe: true,\n    index: 0\n  });\n}\n\nif (window.Jupyter !== undefined) {\n  try {\n    var events = require('base/js/events');\n    var OutputArea = require('notebook/js/outputarea').OutputArea;\n    if (OutputArea.prototype.mime_types().indexOf(EXEC_MIME_TYPE) == -1) {\n      register_renderer(events, OutputArea);\n    }\n  } catch(err) {\n  }\n}\n"
     },
     "metadata": {},
     "output_type": "display_data"
    },
    {
     "data": {
      "text/html": [
       "<style>*[data-root-id],\n",
       "*[data-root-id] > * {\n",
       "  box-sizing: border-box;\n",
       "  font-family: var(--jp-ui-font-family);\n",
       "  font-size: var(--jp-ui-font-size1);\n",
       "  color: var(--vscode-editor-foreground, var(--jp-ui-font-color1));\n",
       "}\n",
       "\n",
       "/* Override VSCode background color */\n",
       ".cell-output-ipywidget-background:has(\n",
       "    > .cell-output-ipywidget-background > .lm-Widget > *[data-root-id]\n",
       "  ),\n",
       ".cell-output-ipywidget-background:has(> .lm-Widget > *[data-root-id]) {\n",
       "  background-color: transparent !important;\n",
       "}\n",
       "</style>"
      ]
     },
     "metadata": {},
     "output_type": "display_data"
    },
    {
     "data": {
      "application/vnd.holoviews_exec.v0+json": "",
      "text/html": [
       "<div id='a486c74c-155e-4cbc-babb-53a3afb0700f'>\n",
       "  <div id=\"cb878c08-1e3c-4b1c-9838-93f3148a9084\" data-root-id=\"a486c74c-155e-4cbc-babb-53a3afb0700f\" style=\"display: contents;\"></div>\n",
       "</div>\n",
       "<script type=\"application/javascript\">(function(root) {\n",
       "  var docs_json = {\"8f4a4b38-1cd2-4b62-869c-5a50004e6113\":{\"version\":\"3.4.2\",\"title\":\"Bokeh Application\",\"roots\":[{\"type\":\"object\",\"name\":\"panel.models.browser.BrowserInfo\",\"id\":\"a486c74c-155e-4cbc-babb-53a3afb0700f\"},{\"type\":\"object\",\"name\":\"panel.models.comm_manager.CommManager\",\"id\":\"4b934715-75cc-4241-a9f3-974d857a5379\",\"attributes\":{\"plot_id\":\"a486c74c-155e-4cbc-babb-53a3afb0700f\",\"comm_id\":\"7f2f03eb1f21467aaae500a1573b01f5\",\"client_comm_id\":\"af323dc79f6f4574ae179b0d96807f66\"}}],\"defs\":[{\"type\":\"model\",\"name\":\"ReactiveHTML1\"},{\"type\":\"model\",\"name\":\"FlexBox1\",\"properties\":[{\"name\":\"align_content\",\"kind\":\"Any\",\"default\":\"flex-start\"},{\"name\":\"align_items\",\"kind\":\"Any\",\"default\":\"flex-start\"},{\"name\":\"flex_direction\",\"kind\":\"Any\",\"default\":\"row\"},{\"name\":\"flex_wrap\",\"kind\":\"Any\",\"default\":\"wrap\"},{\"name\":\"gap\",\"kind\":\"Any\",\"default\":\"\"},{\"name\":\"justify_content\",\"kind\":\"Any\",\"default\":\"flex-start\"}]},{\"type\":\"model\",\"name\":\"FloatPanel1\",\"properties\":[{\"name\":\"config\",\"kind\":\"Any\",\"default\":{\"type\":\"map\"}},{\"name\":\"contained\",\"kind\":\"Any\",\"default\":true},{\"name\":\"position\",\"kind\":\"Any\",\"default\":\"right-top\"},{\"name\":\"offsetx\",\"kind\":\"Any\",\"default\":null},{\"name\":\"offsety\",\"kind\":\"Any\",\"default\":null},{\"name\":\"theme\",\"kind\":\"Any\",\"default\":\"primary\"},{\"name\":\"status\",\"kind\":\"Any\",\"default\":\"normalized\"}]},{\"type\":\"model\",\"name\":\"GridStack1\",\"properties\":[{\"name\":\"mode\",\"kind\":\"Any\",\"default\":\"warn\"},{\"name\":\"ncols\",\"kind\":\"Any\",\"default\":null},{\"name\":\"nrows\",\"kind\":\"Any\",\"default\":null},{\"name\":\"allow_resize\",\"kind\":\"Any\",\"default\":true},{\"name\":\"allow_drag\",\"kind\":\"Any\",\"default\":true},{\"name\":\"state\",\"kind\":\"Any\",\"default\":[]}]},{\"type\":\"model\",\"name\":\"drag1\",\"properties\":[{\"name\":\"slider_width\",\"kind\":\"Any\",\"default\":5},{\"name\":\"slider_color\",\"kind\":\"Any\",\"default\":\"black\"},{\"name\":\"value\",\"kind\":\"Any\",\"default\":50}]},{\"type\":\"model\",\"name\":\"click1\",\"properties\":[{\"name\":\"terminal_output\",\"kind\":\"Any\",\"default\":\"\"},{\"name\":\"debug_name\",\"kind\":\"Any\",\"default\":\"\"},{\"name\":\"clears\",\"kind\":\"Any\",\"default\":0}]},{\"type\":\"model\",\"name\":\"FastWrapper1\",\"properties\":[{\"name\":\"object\",\"kind\":\"Any\",\"default\":null},{\"name\":\"style\",\"kind\":\"Any\",\"default\":null}]},{\"type\":\"model\",\"name\":\"NotificationAreaBase1\",\"properties\":[{\"name\":\"js_events\",\"kind\":\"Any\",\"default\":{\"type\":\"map\"}},{\"name\":\"position\",\"kind\":\"Any\",\"default\":\"bottom-right\"},{\"name\":\"_clear\",\"kind\":\"Any\",\"default\":0}]},{\"type\":\"model\",\"name\":\"NotificationArea1\",\"properties\":[{\"name\":\"js_events\",\"kind\":\"Any\",\"default\":{\"type\":\"map\"}},{\"name\":\"notifications\",\"kind\":\"Any\",\"default\":[]},{\"name\":\"position\",\"kind\":\"Any\",\"default\":\"bottom-right\"},{\"name\":\"_clear\",\"kind\":\"Any\",\"default\":0},{\"name\":\"types\",\"kind\":\"Any\",\"default\":[{\"type\":\"map\",\"entries\":[[\"type\",\"warning\"],[\"background\",\"#ffc107\"],[\"icon\",{\"type\":\"map\",\"entries\":[[\"className\",\"fas fa-exclamation-triangle\"],[\"tagName\",\"i\"],[\"color\",\"white\"]]}]]},{\"type\":\"map\",\"entries\":[[\"type\",\"info\"],[\"background\",\"#007bff\"],[\"icon\",{\"type\":\"map\",\"entries\":[[\"className\",\"fas fa-info-circle\"],[\"tagName\",\"i\"],[\"color\",\"white\"]]}]]}]}]},{\"type\":\"model\",\"name\":\"Notification\",\"properties\":[{\"name\":\"background\",\"kind\":\"Any\",\"default\":null},{\"name\":\"duration\",\"kind\":\"Any\",\"default\":3000},{\"name\":\"icon\",\"kind\":\"Any\",\"default\":null},{\"name\":\"message\",\"kind\":\"Any\",\"default\":\"\"},{\"name\":\"notification_type\",\"kind\":\"Any\",\"default\":null},{\"name\":\"_destroyed\",\"kind\":\"Any\",\"default\":false}]},{\"type\":\"model\",\"name\":\"TemplateActions1\",\"properties\":[{\"name\":\"open_modal\",\"kind\":\"Any\",\"default\":0},{\"name\":\"close_modal\",\"kind\":\"Any\",\"default\":0}]},{\"type\":\"model\",\"name\":\"BootstrapTemplateActions1\",\"properties\":[{\"name\":\"open_modal\",\"kind\":\"Any\",\"default\":0},{\"name\":\"close_modal\",\"kind\":\"Any\",\"default\":0}]},{\"type\":\"model\",\"name\":\"TemplateEditor1\",\"properties\":[{\"name\":\"layout\",\"kind\":\"Any\",\"default\":[]}]},{\"type\":\"model\",\"name\":\"MaterialTemplateActions1\",\"properties\":[{\"name\":\"open_modal\",\"kind\":\"Any\",\"default\":0},{\"name\":\"close_modal\",\"kind\":\"Any\",\"default\":0}]},{\"type\":\"model\",\"name\":\"copy_to_clipboard1\",\"properties\":[{\"name\":\"fill\",\"kind\":\"Any\",\"default\":\"none\"},{\"name\":\"value\",\"kind\":\"Any\",\"default\":null}]}]}};\n",
       "  var render_items = [{\"docid\":\"8f4a4b38-1cd2-4b62-869c-5a50004e6113\",\"roots\":{\"a486c74c-155e-4cbc-babb-53a3afb0700f\":\"cb878c08-1e3c-4b1c-9838-93f3148a9084\"},\"root_ids\":[\"a486c74c-155e-4cbc-babb-53a3afb0700f\"]}];\n",
       "  var docs = Object.values(docs_json)\n",
       "  if (!docs) {\n",
       "    return\n",
       "  }\n",
       "  const py_version = docs[0].version.replace('rc', '-rc.').replace('.dev', '-dev.')\n",
       "  async function embed_document(root) {\n",
       "    var Bokeh = get_bokeh(root)\n",
       "    await Bokeh.embed.embed_items_notebook(docs_json, render_items);\n",
       "    for (const render_item of render_items) {\n",
       "      for (const root_id of render_item.root_ids) {\n",
       "\tconst id_el = document.getElementById(root_id)\n",
       "\tif (id_el.children.length && id_el.children[0].hasAttribute('data-root-id')) {\n",
       "\t  const root_el = id_el.children[0]\n",
       "\t  root_el.id = root_el.id + '-rendered'\n",
       "\t  for (const child of root_el.children) {\n",
       "            // Ensure JupyterLab does not capture keyboard shortcuts\n",
       "            // see: https://jupyterlab.readthedocs.io/en/4.1.x/extension/notebook.html#keyboard-interaction-model\n",
       "\t    child.setAttribute('data-lm-suppress-shortcuts', 'true')\n",
       "\t  }\n",
       "\t}\n",
       "      }\n",
       "    }\n",
       "  }\n",
       "  function get_bokeh(root) {\n",
       "    if (root.Bokeh === undefined) {\n",
       "      return null\n",
       "    } else if (root.Bokeh.version !== py_version) {\n",
       "      if (root.Bokeh.versions === undefined || !root.Bokeh.versions.has(py_version)) {\n",
       "\treturn null\n",
       "      }\n",
       "      return root.Bokeh.versions.get(py_version);\n",
       "    } else if (root.Bokeh.version === py_version) {\n",
       "      return root.Bokeh\n",
       "    }\n",
       "    return null\n",
       "  }\n",
       "  function is_loaded(root) {\n",
       "    var Bokeh = get_bokeh(root)\n",
       "    return (Bokeh != null && Bokeh.Panel !== undefined)\n",
       "  }\n",
       "  if (is_loaded(root)) {\n",
       "    embed_document(root);\n",
       "  } else {\n",
       "    var attempts = 0;\n",
       "    var timer = setInterval(function(root) {\n",
       "      if (is_loaded(root)) {\n",
       "        clearInterval(timer);\n",
       "        embed_document(root);\n",
       "      } else if (document.readyState == \"complete\") {\n",
       "        attempts++;\n",
       "        if (attempts > 200) {\n",
       "          clearInterval(timer);\n",
       "\t  var Bokeh = get_bokeh(root)\n",
       "\t  if (Bokeh == null || Bokeh.Panel == null) {\n",
       "            console.warn(\"Panel: ERROR: Unable to run Panel code because Bokeh or Panel library is missing\");\n",
       "\t  } else {\n",
       "\t    console.warn(\"Panel: WARNING: Attempting to render but not all required libraries could be resolved.\")\n",
       "\t    embed_document(root)\n",
       "\t  }\n",
       "        }\n",
       "      }\n",
       "    }, 25, root)\n",
       "  }\n",
       "})(window);</script>"
      ]
     },
     "metadata": {
      "application/vnd.holoviews_exec.v0+json": {
       "id": "a486c74c-155e-4cbc-babb-53a3afb0700f"
      }
     },
     "output_type": "display_data"
    },
    {
     "data": {
      "application/javascript": [
       "(function(root) {\n",
       "  function now() {\n",
       "    return new Date();\n",
       "  }\n",
       "\n",
       "  var force = true;\n",
       "  var py_version = '3.4.2'.replace('rc', '-rc.').replace('.dev', '-dev.');\n",
       "  var reloading = true;\n",
       "  var Bokeh = root.Bokeh;\n",
       "\n",
       "  if (typeof (root._bokeh_timeout) === \"undefined\" || force) {\n",
       "    root._bokeh_timeout = Date.now() + 5000;\n",
       "    root._bokeh_failed_load = false;\n",
       "  }\n",
       "\n",
       "  function run_callbacks() {\n",
       "    try {\n",
       "      root._bokeh_onload_callbacks.forEach(function(callback) {\n",
       "        if (callback != null)\n",
       "          callback();\n",
       "      });\n",
       "    } finally {\n",
       "      delete root._bokeh_onload_callbacks;\n",
       "    }\n",
       "    console.debug(\"Bokeh: all callbacks have finished\");\n",
       "  }\n",
       "\n",
       "  function load_libs(css_urls, js_urls, js_modules, js_exports, callback) {\n",
       "    if (css_urls == null) css_urls = [];\n",
       "    if (js_urls == null) js_urls = [];\n",
       "    if (js_modules == null) js_modules = [];\n",
       "    if (js_exports == null) js_exports = {};\n",
       "\n",
       "    root._bokeh_onload_callbacks.push(callback);\n",
       "\n",
       "    if (root._bokeh_is_loading > 0) {\n",
       "      console.debug(\"Bokeh: BokehJS is being loaded, scheduling callback at\", now());\n",
       "      return null;\n",
       "    }\n",
       "    if (js_urls.length === 0 && js_modules.length === 0 && Object.keys(js_exports).length === 0) {\n",
       "      run_callbacks();\n",
       "      return null;\n",
       "    }\n",
       "    if (!reloading) {\n",
       "      console.debug(\"Bokeh: BokehJS not loaded, scheduling load and callback at\", now());\n",
       "    }\n",
       "\n",
       "    function on_load() {\n",
       "      root._bokeh_is_loading--;\n",
       "      if (root._bokeh_is_loading === 0) {\n",
       "        console.debug(\"Bokeh: all BokehJS libraries/stylesheets loaded\");\n",
       "        run_callbacks()\n",
       "      }\n",
       "    }\n",
       "    window._bokeh_on_load = on_load\n",
       "\n",
       "    function on_error() {\n",
       "      console.error(\"failed to load \" + url);\n",
       "    }\n",
       "\n",
       "    var skip = [];\n",
       "    if (window.requirejs) {\n",
       "      window.requirejs.config({'packages': {}, 'paths': {}, 'shim': {}});\n",
       "      root._bokeh_is_loading = css_urls.length + 0;\n",
       "    } else {\n",
       "      root._bokeh_is_loading = css_urls.length + js_urls.length + js_modules.length + Object.keys(js_exports).length;\n",
       "    }\n",
       "\n",
       "    var existing_stylesheets = []\n",
       "    var links = document.getElementsByTagName('link')\n",
       "    for (var i = 0; i < links.length; i++) {\n",
       "      var link = links[i]\n",
       "      if (link.href != null) {\n",
       "\texisting_stylesheets.push(link.href)\n",
       "      }\n",
       "    }\n",
       "    for (var i = 0; i < css_urls.length; i++) {\n",
       "      var url = css_urls[i];\n",
       "      if (existing_stylesheets.indexOf(url) !== -1) {\n",
       "\ton_load()\n",
       "\tcontinue;\n",
       "      }\n",
       "      const element = document.createElement(\"link\");\n",
       "      element.onload = on_load;\n",
       "      element.onerror = on_error;\n",
       "      element.rel = \"stylesheet\";\n",
       "      element.type = \"text/css\";\n",
       "      element.href = url;\n",
       "      console.debug(\"Bokeh: injecting link tag for BokehJS stylesheet: \", url);\n",
       "      document.body.appendChild(element);\n",
       "    }    var existing_scripts = []\n",
       "    var scripts = document.getElementsByTagName('script')\n",
       "    for (var i = 0; i < scripts.length; i++) {\n",
       "      var script = scripts[i]\n",
       "      if (script.src != null) {\n",
       "\texisting_scripts.push(script.src)\n",
       "      }\n",
       "    }\n",
       "    for (var i = 0; i < js_urls.length; i++) {\n",
       "      var url = js_urls[i];\n",
       "      if (skip.indexOf(url) !== -1 || existing_scripts.indexOf(url) !== -1) {\n",
       "\tif (!window.requirejs) {\n",
       "\t  on_load();\n",
       "\t}\n",
       "\tcontinue;\n",
       "      }\n",
       "      var element = document.createElement('script');\n",
       "      element.onload = on_load;\n",
       "      element.onerror = on_error;\n",
       "      element.async = false;\n",
       "      element.src = url;\n",
       "      console.debug(\"Bokeh: injecting script tag for BokehJS library: \", url);\n",
       "      document.head.appendChild(element);\n",
       "    }\n",
       "    for (var i = 0; i < js_modules.length; i++) {\n",
       "      var url = js_modules[i];\n",
       "      if (skip.indexOf(url) !== -1 || existing_scripts.indexOf(url) !== -1) {\n",
       "\tif (!window.requirejs) {\n",
       "\t  on_load();\n",
       "\t}\n",
       "\tcontinue;\n",
       "      }\n",
       "      var element = document.createElement('script');\n",
       "      element.onload = on_load;\n",
       "      element.onerror = on_error;\n",
       "      element.async = false;\n",
       "      element.src = url;\n",
       "      element.type = \"module\";\n",
       "      console.debug(\"Bokeh: injecting script tag for BokehJS library: \", url);\n",
       "      document.head.appendChild(element);\n",
       "    }\n",
       "    for (const name in js_exports) {\n",
       "      var url = js_exports[name];\n",
       "      if (skip.indexOf(url) >= 0 || root[name] != null) {\n",
       "\tif (!window.requirejs) {\n",
       "\t  on_load();\n",
       "\t}\n",
       "\tcontinue;\n",
       "      }\n",
       "      var element = document.createElement('script');\n",
       "      element.onerror = on_error;\n",
       "      element.async = false;\n",
       "      element.type = \"module\";\n",
       "      console.debug(\"Bokeh: injecting script tag for BokehJS library: \", url);\n",
       "      element.textContent = `\n",
       "      import ${name} from \"${url}\"\n",
       "      window.${name} = ${name}\n",
       "      window._bokeh_on_load()\n",
       "      `\n",
       "      document.head.appendChild(element);\n",
       "    }\n",
       "    if (!js_urls.length && !js_modules.length) {\n",
       "      on_load()\n",
       "    }\n",
       "  };\n",
       "\n",
       "  function inject_raw_css(css) {\n",
       "    const element = document.createElement(\"style\");\n",
       "    element.appendChild(document.createTextNode(css));\n",
       "    document.body.appendChild(element);\n",
       "  }\n",
       "\n",
       "  var js_urls = [];\n",
       "  var js_modules = [];\n",
       "  var js_exports = {};\n",
       "  var css_urls = [];\n",
       "  var inline_js = [    function(Bokeh) {\n",
       "      Bokeh.set_log_level(\"info\");\n",
       "    },\n",
       "function(Bokeh) {} // ensure no trailing comma for IE\n",
       "  ];\n",
       "\n",
       "  function run_inline_js() {\n",
       "    if ((root.Bokeh !== undefined) || (force === true)) {\n",
       "      for (var i = 0; i < inline_js.length; i++) {\n",
       "\ttry {\n",
       "          inline_js[i].call(root, root.Bokeh);\n",
       "\t} catch(e) {\n",
       "\t  if (!reloading) {\n",
       "\t    throw e;\n",
       "\t  }\n",
       "\t}\n",
       "      }\n",
       "      // Cache old bokeh versions\n",
       "      if (Bokeh != undefined && !reloading) {\n",
       "\tvar NewBokeh = root.Bokeh;\n",
       "\tif (Bokeh.versions === undefined) {\n",
       "\t  Bokeh.versions = new Map();\n",
       "\t}\n",
       "\tif (NewBokeh.version !== Bokeh.version) {\n",
       "\t  Bokeh.versions.set(NewBokeh.version, NewBokeh)\n",
       "\t}\n",
       "\troot.Bokeh = Bokeh;\n",
       "      }} else if (Date.now() < root._bokeh_timeout) {\n",
       "      setTimeout(run_inline_js, 100);\n",
       "    } else if (!root._bokeh_failed_load) {\n",
       "      console.log(\"Bokeh: BokehJS failed to load within specified timeout.\");\n",
       "      root._bokeh_failed_load = true;\n",
       "    }\n",
       "    root._bokeh_is_initializing = false\n",
       "  }\n",
       "\n",
       "  function load_or_wait() {\n",
       "    // Implement a backoff loop that tries to ensure we do not load multiple\n",
       "    // versions of Bokeh and its dependencies at the same time.\n",
       "    // In recent versions we use the root._bokeh_is_initializing flag\n",
       "    // to determine whether there is an ongoing attempt to initialize\n",
       "    // bokeh, however for backward compatibility we also try to ensure\n",
       "    // that we do not start loading a newer (Panel>=1.0 and Bokeh>3) version\n",
       "    // before older versions are fully initialized.\n",
       "    if (root._bokeh_is_initializing && Date.now() > root._bokeh_timeout) {\n",
       "      root._bokeh_is_initializing = false;\n",
       "      root._bokeh_onload_callbacks = undefined;\n",
       "      console.log(\"Bokeh: BokehJS was loaded multiple times but one version failed to initialize.\");\n",
       "      load_or_wait();\n",
       "    } else if (root._bokeh_is_initializing || (typeof root._bokeh_is_initializing === \"undefined\" && root._bokeh_onload_callbacks !== undefined)) {\n",
       "      setTimeout(load_or_wait, 100);\n",
       "    } else {\n",
       "      root._bokeh_is_initializing = true\n",
       "      root._bokeh_onload_callbacks = []\n",
       "      var bokeh_loaded = Bokeh != null && (Bokeh.version === py_version || (Bokeh.versions !== undefined && Bokeh.versions.has(py_version)));\n",
       "      if (!reloading && !bokeh_loaded) {\n",
       "\troot.Bokeh = undefined;\n",
       "      }\n",
       "      load_libs(css_urls, js_urls, js_modules, js_exports, function() {\n",
       "\tconsole.debug(\"Bokeh: BokehJS plotting callback run at\", now());\n",
       "\trun_inline_js();\n",
       "      });\n",
       "    }\n",
       "  }\n",
       "  // Give older versions of the autoload script a head-start to ensure\n",
       "  // they initialize before we start loading newer version.\n",
       "  setTimeout(load_or_wait, 100)\n",
       "}(window));"
      ],
      "application/vnd.holoviews_load.v0+json": "(function(root) {\n  function now() {\n    return new Date();\n  }\n\n  var force = true;\n  var py_version = '3.4.2'.replace('rc', '-rc.').replace('.dev', '-dev.');\n  var reloading = true;\n  var Bokeh = root.Bokeh;\n\n  if (typeof (root._bokeh_timeout) === \"undefined\" || force) {\n    root._bokeh_timeout = Date.now() + 5000;\n    root._bokeh_failed_load = false;\n  }\n\n  function run_callbacks() {\n    try {\n      root._bokeh_onload_callbacks.forEach(function(callback) {\n        if (callback != null)\n          callback();\n      });\n    } finally {\n      delete root._bokeh_onload_callbacks;\n    }\n    console.debug(\"Bokeh: all callbacks have finished\");\n  }\n\n  function load_libs(css_urls, js_urls, js_modules, js_exports, callback) {\n    if (css_urls == null) css_urls = [];\n    if (js_urls == null) js_urls = [];\n    if (js_modules == null) js_modules = [];\n    if (js_exports == null) js_exports = {};\n\n    root._bokeh_onload_callbacks.push(callback);\n\n    if (root._bokeh_is_loading > 0) {\n      console.debug(\"Bokeh: BokehJS is being loaded, scheduling callback at\", now());\n      return null;\n    }\n    if (js_urls.length === 0 && js_modules.length === 0 && Object.keys(js_exports).length === 0) {\n      run_callbacks();\n      return null;\n    }\n    if (!reloading) {\n      console.debug(\"Bokeh: BokehJS not loaded, scheduling load and callback at\", now());\n    }\n\n    function on_load() {\n      root._bokeh_is_loading--;\n      if (root._bokeh_is_loading === 0) {\n        console.debug(\"Bokeh: all BokehJS libraries/stylesheets loaded\");\n        run_callbacks()\n      }\n    }\n    window._bokeh_on_load = on_load\n\n    function on_error() {\n      console.error(\"failed to load \" + url);\n    }\n\n    var skip = [];\n    if (window.requirejs) {\n      window.requirejs.config({'packages': {}, 'paths': {}, 'shim': {}});\n      root._bokeh_is_loading = css_urls.length + 0;\n    } else {\n      root._bokeh_is_loading = css_urls.length + js_urls.length + js_modules.length + Object.keys(js_exports).length;\n    }\n\n    var existing_stylesheets = []\n    var links = document.getElementsByTagName('link')\n    for (var i = 0; i < links.length; i++) {\n      var link = links[i]\n      if (link.href != null) {\n\texisting_stylesheets.push(link.href)\n      }\n    }\n    for (var i = 0; i < css_urls.length; i++) {\n      var url = css_urls[i];\n      if (existing_stylesheets.indexOf(url) !== -1) {\n\ton_load()\n\tcontinue;\n      }\n      const element = document.createElement(\"link\");\n      element.onload = on_load;\n      element.onerror = on_error;\n      element.rel = \"stylesheet\";\n      element.type = \"text/css\";\n      element.href = url;\n      console.debug(\"Bokeh: injecting link tag for BokehJS stylesheet: \", url);\n      document.body.appendChild(element);\n    }    var existing_scripts = []\n    var scripts = document.getElementsByTagName('script')\n    for (var i = 0; i < scripts.length; i++) {\n      var script = scripts[i]\n      if (script.src != null) {\n\texisting_scripts.push(script.src)\n      }\n    }\n    for (var i = 0; i < js_urls.length; i++) {\n      var url = js_urls[i];\n      if (skip.indexOf(url) !== -1 || existing_scripts.indexOf(url) !== -1) {\n\tif (!window.requirejs) {\n\t  on_load();\n\t}\n\tcontinue;\n      }\n      var element = document.createElement('script');\n      element.onload = on_load;\n      element.onerror = on_error;\n      element.async = false;\n      element.src = url;\n      console.debug(\"Bokeh: injecting script tag for BokehJS library: \", url);\n      document.head.appendChild(element);\n    }\n    for (var i = 0; i < js_modules.length; i++) {\n      var url = js_modules[i];\n      if (skip.indexOf(url) !== -1 || existing_scripts.indexOf(url) !== -1) {\n\tif (!window.requirejs) {\n\t  on_load();\n\t}\n\tcontinue;\n      }\n      var element = document.createElement('script');\n      element.onload = on_load;\n      element.onerror = on_error;\n      element.async = false;\n      element.src = url;\n      element.type = \"module\";\n      console.debug(\"Bokeh: injecting script tag for BokehJS library: \", url);\n      document.head.appendChild(element);\n    }\n    for (const name in js_exports) {\n      var url = js_exports[name];\n      if (skip.indexOf(url) >= 0 || root[name] != null) {\n\tif (!window.requirejs) {\n\t  on_load();\n\t}\n\tcontinue;\n      }\n      var element = document.createElement('script');\n      element.onerror = on_error;\n      element.async = false;\n      element.type = \"module\";\n      console.debug(\"Bokeh: injecting script tag for BokehJS library: \", url);\n      element.textContent = `\n      import ${name} from \"${url}\"\n      window.${name} = ${name}\n      window._bokeh_on_load()\n      `\n      document.head.appendChild(element);\n    }\n    if (!js_urls.length && !js_modules.length) {\n      on_load()\n    }\n  };\n\n  function inject_raw_css(css) {\n    const element = document.createElement(\"style\");\n    element.appendChild(document.createTextNode(css));\n    document.body.appendChild(element);\n  }\n\n  var js_urls = [];\n  var js_modules = [];\n  var js_exports = {};\n  var css_urls = [];\n  var inline_js = [    function(Bokeh) {\n      Bokeh.set_log_level(\"info\");\n    },\nfunction(Bokeh) {} // ensure no trailing comma for IE\n  ];\n\n  function run_inline_js() {\n    if ((root.Bokeh !== undefined) || (force === true)) {\n      for (var i = 0; i < inline_js.length; i++) {\n\ttry {\n          inline_js[i].call(root, root.Bokeh);\n\t} catch(e) {\n\t  if (!reloading) {\n\t    throw e;\n\t  }\n\t}\n      }\n      // Cache old bokeh versions\n      if (Bokeh != undefined && !reloading) {\n\tvar NewBokeh = root.Bokeh;\n\tif (Bokeh.versions === undefined) {\n\t  Bokeh.versions = new Map();\n\t}\n\tif (NewBokeh.version !== Bokeh.version) {\n\t  Bokeh.versions.set(NewBokeh.version, NewBokeh)\n\t}\n\troot.Bokeh = Bokeh;\n      }} else if (Date.now() < root._bokeh_timeout) {\n      setTimeout(run_inline_js, 100);\n    } else if (!root._bokeh_failed_load) {\n      console.log(\"Bokeh: BokehJS failed to load within specified timeout.\");\n      root._bokeh_failed_load = true;\n    }\n    root._bokeh_is_initializing = false\n  }\n\n  function load_or_wait() {\n    // Implement a backoff loop that tries to ensure we do not load multiple\n    // versions of Bokeh and its dependencies at the same time.\n    // In recent versions we use the root._bokeh_is_initializing flag\n    // to determine whether there is an ongoing attempt to initialize\n    // bokeh, however for backward compatibility we also try to ensure\n    // that we do not start loading a newer (Panel>=1.0 and Bokeh>3) version\n    // before older versions are fully initialized.\n    if (root._bokeh_is_initializing && Date.now() > root._bokeh_timeout) {\n      root._bokeh_is_initializing = false;\n      root._bokeh_onload_callbacks = undefined;\n      console.log(\"Bokeh: BokehJS was loaded multiple times but one version failed to initialize.\");\n      load_or_wait();\n    } else if (root._bokeh_is_initializing || (typeof root._bokeh_is_initializing === \"undefined\" && root._bokeh_onload_callbacks !== undefined)) {\n      setTimeout(load_or_wait, 100);\n    } else {\n      root._bokeh_is_initializing = true\n      root._bokeh_onload_callbacks = []\n      var bokeh_loaded = Bokeh != null && (Bokeh.version === py_version || (Bokeh.versions !== undefined && Bokeh.versions.has(py_version)));\n      if (!reloading && !bokeh_loaded) {\n\troot.Bokeh = undefined;\n      }\n      load_libs(css_urls, js_urls, js_modules, js_exports, function() {\n\tconsole.debug(\"Bokeh: BokehJS plotting callback run at\", now());\n\trun_inline_js();\n      });\n    }\n  }\n  // Give older versions of the autoload script a head-start to ensure\n  // they initialize before we start loading newer version.\n  setTimeout(load_or_wait, 100)\n}(window));"
     },
     "metadata": {},
     "output_type": "display_data"
    },
    {
     "data": {
      "application/javascript": [
       "\n",
       "if ((window.PyViz === undefined) || (window.PyViz instanceof HTMLElement)) {\n",
       "  window.PyViz = {comms: {}, comm_status:{}, kernels:{}, receivers: {}, plot_index: []}\n",
       "}\n",
       "\n",
       "\n",
       "    function JupyterCommManager() {\n",
       "    }\n",
       "\n",
       "    JupyterCommManager.prototype.register_target = function(plot_id, comm_id, msg_handler) {\n",
       "      if (window.comm_manager || ((window.Jupyter !== undefined) && (Jupyter.notebook.kernel != null))) {\n",
       "        var comm_manager = window.comm_manager || Jupyter.notebook.kernel.comm_manager;\n",
       "        comm_manager.register_target(comm_id, function(comm) {\n",
       "          comm.on_msg(msg_handler);\n",
       "        });\n",
       "      } else if ((plot_id in window.PyViz.kernels) && (window.PyViz.kernels[plot_id])) {\n",
       "        window.PyViz.kernels[plot_id].registerCommTarget(comm_id, function(comm) {\n",
       "          comm.onMsg = msg_handler;\n",
       "        });\n",
       "      } else if (typeof google != 'undefined' && google.colab.kernel != null) {\n",
       "        google.colab.kernel.comms.registerTarget(comm_id, (comm) => {\n",
       "          var messages = comm.messages[Symbol.asyncIterator]();\n",
       "          function processIteratorResult(result) {\n",
       "            var message = result.value;\n",
       "            console.log(message)\n",
       "            var content = {data: message.data, comm_id};\n",
       "            var buffers = []\n",
       "            for (var buffer of message.buffers || []) {\n",
       "              buffers.push(new DataView(buffer))\n",
       "            }\n",
       "            var metadata = message.metadata || {};\n",
       "            var msg = {content, buffers, metadata}\n",
       "            msg_handler(msg);\n",
       "            return messages.next().then(processIteratorResult);\n",
       "          }\n",
       "          return messages.next().then(processIteratorResult);\n",
       "        })\n",
       "      }\n",
       "    }\n",
       "\n",
       "    JupyterCommManager.prototype.get_client_comm = function(plot_id, comm_id, msg_handler) {\n",
       "      if (comm_id in window.PyViz.comms) {\n",
       "        return window.PyViz.comms[comm_id];\n",
       "      } else if (window.comm_manager || ((window.Jupyter !== undefined) && (Jupyter.notebook.kernel != null))) {\n",
       "        var comm_manager = window.comm_manager || Jupyter.notebook.kernel.comm_manager;\n",
       "        var comm = comm_manager.new_comm(comm_id, {}, {}, {}, comm_id);\n",
       "        if (msg_handler) {\n",
       "          comm.on_msg(msg_handler);\n",
       "        }\n",
       "      } else if ((plot_id in window.PyViz.kernels) && (window.PyViz.kernels[plot_id])) {\n",
       "        var comm = window.PyViz.kernels[plot_id].connectToComm(comm_id);\n",
       "        comm.open();\n",
       "        if (msg_handler) {\n",
       "          comm.onMsg = msg_handler;\n",
       "        }\n",
       "      } else if (typeof google != 'undefined' && google.colab.kernel != null) {\n",
       "        var comm_promise = google.colab.kernel.comms.open(comm_id)\n",
       "        comm_promise.then((comm) => {\n",
       "          window.PyViz.comms[comm_id] = comm;\n",
       "          if (msg_handler) {\n",
       "            var messages = comm.messages[Symbol.asyncIterator]();\n",
       "            function processIteratorResult(result) {\n",
       "              var message = result.value;\n",
       "              var content = {data: message.data};\n",
       "              var metadata = message.metadata || {comm_id};\n",
       "              var msg = {content, metadata}\n",
       "              msg_handler(msg);\n",
       "              return messages.next().then(processIteratorResult);\n",
       "            }\n",
       "            return messages.next().then(processIteratorResult);\n",
       "          }\n",
       "        })\n",
       "        var sendClosure = (data, metadata, buffers, disposeOnDone) => {\n",
       "          return comm_promise.then((comm) => {\n",
       "            comm.send(data, metadata, buffers, disposeOnDone);\n",
       "          });\n",
       "        };\n",
       "        var comm = {\n",
       "          send: sendClosure\n",
       "        };\n",
       "      }\n",
       "      window.PyViz.comms[comm_id] = comm;\n",
       "      return comm;\n",
       "    }\n",
       "    window.PyViz.comm_manager = new JupyterCommManager();\n",
       "    \n",
       "\n",
       "\n",
       "var JS_MIME_TYPE = 'application/javascript';\n",
       "var HTML_MIME_TYPE = 'text/html';\n",
       "var EXEC_MIME_TYPE = 'application/vnd.holoviews_exec.v0+json';\n",
       "var CLASS_NAME = 'output';\n",
       "\n",
       "/**\n",
       " * Render data to the DOM node\n",
       " */\n",
       "function render(props, node) {\n",
       "  var div = document.createElement(\"div\");\n",
       "  var script = document.createElement(\"script\");\n",
       "  node.appendChild(div);\n",
       "  node.appendChild(script);\n",
       "}\n",
       "\n",
       "/**\n",
       " * Handle when a new output is added\n",
       " */\n",
       "function handle_add_output(event, handle) {\n",
       "  var output_area = handle.output_area;\n",
       "  var output = handle.output;\n",
       "  if ((output.data == undefined) || (!output.data.hasOwnProperty(EXEC_MIME_TYPE))) {\n",
       "    return\n",
       "  }\n",
       "  var id = output.metadata[EXEC_MIME_TYPE][\"id\"];\n",
       "  var toinsert = output_area.element.find(\".\" + CLASS_NAME.split(' ')[0]);\n",
       "  if (id !== undefined) {\n",
       "    var nchildren = toinsert.length;\n",
       "    var html_node = toinsert[nchildren-1].children[0];\n",
       "    html_node.innerHTML = output.data[HTML_MIME_TYPE];\n",
       "    var scripts = [];\n",
       "    var nodelist = html_node.querySelectorAll(\"script\");\n",
       "    for (var i in nodelist) {\n",
       "      if (nodelist.hasOwnProperty(i)) {\n",
       "        scripts.push(nodelist[i])\n",
       "      }\n",
       "    }\n",
       "\n",
       "    scripts.forEach( function (oldScript) {\n",
       "      var newScript = document.createElement(\"script\");\n",
       "      var attrs = [];\n",
       "      var nodemap = oldScript.attributes;\n",
       "      for (var j in nodemap) {\n",
       "        if (nodemap.hasOwnProperty(j)) {\n",
       "          attrs.push(nodemap[j])\n",
       "        }\n",
       "      }\n",
       "      attrs.forEach(function(attr) { newScript.setAttribute(attr.name, attr.value) });\n",
       "      newScript.appendChild(document.createTextNode(oldScript.innerHTML));\n",
       "      oldScript.parentNode.replaceChild(newScript, oldScript);\n",
       "    });\n",
       "    if (JS_MIME_TYPE in output.data) {\n",
       "      toinsert[nchildren-1].children[1].textContent = output.data[JS_MIME_TYPE];\n",
       "    }\n",
       "    output_area._hv_plot_id = id;\n",
       "    if ((window.Bokeh !== undefined) && (id in Bokeh.index)) {\n",
       "      window.PyViz.plot_index[id] = Bokeh.index[id];\n",
       "    } else {\n",
       "      window.PyViz.plot_index[id] = null;\n",
       "    }\n",
       "  } else if (output.metadata[EXEC_MIME_TYPE][\"server_id\"] !== undefined) {\n",
       "    var bk_div = document.createElement(\"div\");\n",
       "    bk_div.innerHTML = output.data[HTML_MIME_TYPE];\n",
       "    var script_attrs = bk_div.children[0].attributes;\n",
       "    for (var i = 0; i < script_attrs.length; i++) {\n",
       "      toinsert[toinsert.length - 1].childNodes[1].setAttribute(script_attrs[i].name, script_attrs[i].value);\n",
       "    }\n",
       "    // store reference to server id on output_area\n",
       "    output_area._bokeh_server_id = output.metadata[EXEC_MIME_TYPE][\"server_id\"];\n",
       "  }\n",
       "}\n",
       "\n",
       "/**\n",
       " * Handle when an output is cleared or removed\n",
       " */\n",
       "function handle_clear_output(event, handle) {\n",
       "  var id = handle.cell.output_area._hv_plot_id;\n",
       "  var server_id = handle.cell.output_area._bokeh_server_id;\n",
       "  if (((id === undefined) || !(id in PyViz.plot_index)) && (server_id !== undefined)) { return; }\n",
       "  var comm = window.PyViz.comm_manager.get_client_comm(\"hv-extension-comm\", \"hv-extension-comm\", function () {});\n",
       "  if (server_id !== null) {\n",
       "    comm.send({event_type: 'server_delete', 'id': server_id});\n",
       "    return;\n",
       "  } else if (comm !== null) {\n",
       "    comm.send({event_type: 'delete', 'id': id});\n",
       "  }\n",
       "  delete PyViz.plot_index[id];\n",
       "  if ((window.Bokeh !== undefined) & (id in window.Bokeh.index)) {\n",
       "    var doc = window.Bokeh.index[id].model.document\n",
       "    doc.clear();\n",
       "    const i = window.Bokeh.documents.indexOf(doc);\n",
       "    if (i > -1) {\n",
       "      window.Bokeh.documents.splice(i, 1);\n",
       "    }\n",
       "  }\n",
       "}\n",
       "\n",
       "/**\n",
       " * Handle kernel restart event\n",
       " */\n",
       "function handle_kernel_cleanup(event, handle) {\n",
       "  delete PyViz.comms[\"hv-extension-comm\"];\n",
       "  window.PyViz.plot_index = {}\n",
       "}\n",
       "\n",
       "/**\n",
       " * Handle update_display_data messages\n",
       " */\n",
       "function handle_update_output(event, handle) {\n",
       "  handle_clear_output(event, {cell: {output_area: handle.output_area}})\n",
       "  handle_add_output(event, handle)\n",
       "}\n",
       "\n",
       "function register_renderer(events, OutputArea) {\n",
       "  function append_mime(data, metadata, element) {\n",
       "    // create a DOM node to render to\n",
       "    var toinsert = this.create_output_subarea(\n",
       "    metadata,\n",
       "    CLASS_NAME,\n",
       "    EXEC_MIME_TYPE\n",
       "    );\n",
       "    this.keyboard_manager.register_events(toinsert);\n",
       "    // Render to node\n",
       "    var props = {data: data, metadata: metadata[EXEC_MIME_TYPE]};\n",
       "    render(props, toinsert[0]);\n",
       "    element.append(toinsert);\n",
       "    return toinsert\n",
       "  }\n",
       "\n",
       "  events.on('output_added.OutputArea', handle_add_output);\n",
       "  events.on('output_updated.OutputArea', handle_update_output);\n",
       "  events.on('clear_output.CodeCell', handle_clear_output);\n",
       "  events.on('delete.Cell', handle_clear_output);\n",
       "  events.on('kernel_ready.Kernel', handle_kernel_cleanup);\n",
       "\n",
       "  OutputArea.prototype.register_mime_type(EXEC_MIME_TYPE, append_mime, {\n",
       "    safe: true,\n",
       "    index: 0\n",
       "  });\n",
       "}\n",
       "\n",
       "if (window.Jupyter !== undefined) {\n",
       "  try {\n",
       "    var events = require('base/js/events');\n",
       "    var OutputArea = require('notebook/js/outputarea').OutputArea;\n",
       "    if (OutputArea.prototype.mime_types().indexOf(EXEC_MIME_TYPE) == -1) {\n",
       "      register_renderer(events, OutputArea);\n",
       "    }\n",
       "  } catch(err) {\n",
       "  }\n",
       "}\n"
      ],
      "application/vnd.holoviews_load.v0+json": "\nif ((window.PyViz === undefined) || (window.PyViz instanceof HTMLElement)) {\n  window.PyViz = {comms: {}, comm_status:{}, kernels:{}, receivers: {}, plot_index: []}\n}\n\n\n    function JupyterCommManager() {\n    }\n\n    JupyterCommManager.prototype.register_target = function(plot_id, comm_id, msg_handler) {\n      if (window.comm_manager || ((window.Jupyter !== undefined) && (Jupyter.notebook.kernel != null))) {\n        var comm_manager = window.comm_manager || Jupyter.notebook.kernel.comm_manager;\n        comm_manager.register_target(comm_id, function(comm) {\n          comm.on_msg(msg_handler);\n        });\n      } else if ((plot_id in window.PyViz.kernels) && (window.PyViz.kernels[plot_id])) {\n        window.PyViz.kernels[plot_id].registerCommTarget(comm_id, function(comm) {\n          comm.onMsg = msg_handler;\n        });\n      } else if (typeof google != 'undefined' && google.colab.kernel != null) {\n        google.colab.kernel.comms.registerTarget(comm_id, (comm) => {\n          var messages = comm.messages[Symbol.asyncIterator]();\n          function processIteratorResult(result) {\n            var message = result.value;\n            console.log(message)\n            var content = {data: message.data, comm_id};\n            var buffers = []\n            for (var buffer of message.buffers || []) {\n              buffers.push(new DataView(buffer))\n            }\n            var metadata = message.metadata || {};\n            var msg = {content, buffers, metadata}\n            msg_handler(msg);\n            return messages.next().then(processIteratorResult);\n          }\n          return messages.next().then(processIteratorResult);\n        })\n      }\n    }\n\n    JupyterCommManager.prototype.get_client_comm = function(plot_id, comm_id, msg_handler) {\n      if (comm_id in window.PyViz.comms) {\n        return window.PyViz.comms[comm_id];\n      } else if (window.comm_manager || ((window.Jupyter !== undefined) && (Jupyter.notebook.kernel != null))) {\n        var comm_manager = window.comm_manager || Jupyter.notebook.kernel.comm_manager;\n        var comm = comm_manager.new_comm(comm_id, {}, {}, {}, comm_id);\n        if (msg_handler) {\n          comm.on_msg(msg_handler);\n        }\n      } else if ((plot_id in window.PyViz.kernels) && (window.PyViz.kernels[plot_id])) {\n        var comm = window.PyViz.kernels[plot_id].connectToComm(comm_id);\n        comm.open();\n        if (msg_handler) {\n          comm.onMsg = msg_handler;\n        }\n      } else if (typeof google != 'undefined' && google.colab.kernel != null) {\n        var comm_promise = google.colab.kernel.comms.open(comm_id)\n        comm_promise.then((comm) => {\n          window.PyViz.comms[comm_id] = comm;\n          if (msg_handler) {\n            var messages = comm.messages[Symbol.asyncIterator]();\n            function processIteratorResult(result) {\n              var message = result.value;\n              var content = {data: message.data};\n              var metadata = message.metadata || {comm_id};\n              var msg = {content, metadata}\n              msg_handler(msg);\n              return messages.next().then(processIteratorResult);\n            }\n            return messages.next().then(processIteratorResult);\n          }\n        })\n        var sendClosure = (data, metadata, buffers, disposeOnDone) => {\n          return comm_promise.then((comm) => {\n            comm.send(data, metadata, buffers, disposeOnDone);\n          });\n        };\n        var comm = {\n          send: sendClosure\n        };\n      }\n      window.PyViz.comms[comm_id] = comm;\n      return comm;\n    }\n    window.PyViz.comm_manager = new JupyterCommManager();\n    \n\n\nvar JS_MIME_TYPE = 'application/javascript';\nvar HTML_MIME_TYPE = 'text/html';\nvar EXEC_MIME_TYPE = 'application/vnd.holoviews_exec.v0+json';\nvar CLASS_NAME = 'output';\n\n/**\n * Render data to the DOM node\n */\nfunction render(props, node) {\n  var div = document.createElement(\"div\");\n  var script = document.createElement(\"script\");\n  node.appendChild(div);\n  node.appendChild(script);\n}\n\n/**\n * Handle when a new output is added\n */\nfunction handle_add_output(event, handle) {\n  var output_area = handle.output_area;\n  var output = handle.output;\n  if ((output.data == undefined) || (!output.data.hasOwnProperty(EXEC_MIME_TYPE))) {\n    return\n  }\n  var id = output.metadata[EXEC_MIME_TYPE][\"id\"];\n  var toinsert = output_area.element.find(\".\" + CLASS_NAME.split(' ')[0]);\n  if (id !== undefined) {\n    var nchildren = toinsert.length;\n    var html_node = toinsert[nchildren-1].children[0];\n    html_node.innerHTML = output.data[HTML_MIME_TYPE];\n    var scripts = [];\n    var nodelist = html_node.querySelectorAll(\"script\");\n    for (var i in nodelist) {\n      if (nodelist.hasOwnProperty(i)) {\n        scripts.push(nodelist[i])\n      }\n    }\n\n    scripts.forEach( function (oldScript) {\n      var newScript = document.createElement(\"script\");\n      var attrs = [];\n      var nodemap = oldScript.attributes;\n      for (var j in nodemap) {\n        if (nodemap.hasOwnProperty(j)) {\n          attrs.push(nodemap[j])\n        }\n      }\n      attrs.forEach(function(attr) { newScript.setAttribute(attr.name, attr.value) });\n      newScript.appendChild(document.createTextNode(oldScript.innerHTML));\n      oldScript.parentNode.replaceChild(newScript, oldScript);\n    });\n    if (JS_MIME_TYPE in output.data) {\n      toinsert[nchildren-1].children[1].textContent = output.data[JS_MIME_TYPE];\n    }\n    output_area._hv_plot_id = id;\n    if ((window.Bokeh !== undefined) && (id in Bokeh.index)) {\n      window.PyViz.plot_index[id] = Bokeh.index[id];\n    } else {\n      window.PyViz.plot_index[id] = null;\n    }\n  } else if (output.metadata[EXEC_MIME_TYPE][\"server_id\"] !== undefined) {\n    var bk_div = document.createElement(\"div\");\n    bk_div.innerHTML = output.data[HTML_MIME_TYPE];\n    var script_attrs = bk_div.children[0].attributes;\n    for (var i = 0; i < script_attrs.length; i++) {\n      toinsert[toinsert.length - 1].childNodes[1].setAttribute(script_attrs[i].name, script_attrs[i].value);\n    }\n    // store reference to server id on output_area\n    output_area._bokeh_server_id = output.metadata[EXEC_MIME_TYPE][\"server_id\"];\n  }\n}\n\n/**\n * Handle when an output is cleared or removed\n */\nfunction handle_clear_output(event, handle) {\n  var id = handle.cell.output_area._hv_plot_id;\n  var server_id = handle.cell.output_area._bokeh_server_id;\n  if (((id === undefined) || !(id in PyViz.plot_index)) && (server_id !== undefined)) { return; }\n  var comm = window.PyViz.comm_manager.get_client_comm(\"hv-extension-comm\", \"hv-extension-comm\", function () {});\n  if (server_id !== null) {\n    comm.send({event_type: 'server_delete', 'id': server_id});\n    return;\n  } else if (comm !== null) {\n    comm.send({event_type: 'delete', 'id': id});\n  }\n  delete PyViz.plot_index[id];\n  if ((window.Bokeh !== undefined) & (id in window.Bokeh.index)) {\n    var doc = window.Bokeh.index[id].model.document\n    doc.clear();\n    const i = window.Bokeh.documents.indexOf(doc);\n    if (i > -1) {\n      window.Bokeh.documents.splice(i, 1);\n    }\n  }\n}\n\n/**\n * Handle kernel restart event\n */\nfunction handle_kernel_cleanup(event, handle) {\n  delete PyViz.comms[\"hv-extension-comm\"];\n  window.PyViz.plot_index = {}\n}\n\n/**\n * Handle update_display_data messages\n */\nfunction handle_update_output(event, handle) {\n  handle_clear_output(event, {cell: {output_area: handle.output_area}})\n  handle_add_output(event, handle)\n}\n\nfunction register_renderer(events, OutputArea) {\n  function append_mime(data, metadata, element) {\n    // create a DOM node to render to\n    var toinsert = this.create_output_subarea(\n    metadata,\n    CLASS_NAME,\n    EXEC_MIME_TYPE\n    );\n    this.keyboard_manager.register_events(toinsert);\n    // Render to node\n    var props = {data: data, metadata: metadata[EXEC_MIME_TYPE]};\n    render(props, toinsert[0]);\n    element.append(toinsert);\n    return toinsert\n  }\n\n  events.on('output_added.OutputArea', handle_add_output);\n  events.on('output_updated.OutputArea', handle_update_output);\n  events.on('clear_output.CodeCell', handle_clear_output);\n  events.on('delete.Cell', handle_clear_output);\n  events.on('kernel_ready.Kernel', handle_kernel_cleanup);\n\n  OutputArea.prototype.register_mime_type(EXEC_MIME_TYPE, append_mime, {\n    safe: true,\n    index: 0\n  });\n}\n\nif (window.Jupyter !== undefined) {\n  try {\n    var events = require('base/js/events');\n    var OutputArea = require('notebook/js/outputarea').OutputArea;\n    if (OutputArea.prototype.mime_types().indexOf(EXEC_MIME_TYPE) == -1) {\n      register_renderer(events, OutputArea);\n    }\n  } catch(err) {\n  }\n}\n"
     },
     "metadata": {},
     "output_type": "display_data"
    },
    {
     "data": {
      "text/html": [
       "<style>*[data-root-id],\n",
       "*[data-root-id] > * {\n",
       "  box-sizing: border-box;\n",
       "  font-family: var(--jp-ui-font-family);\n",
       "  font-size: var(--jp-ui-font-size1);\n",
       "  color: var(--vscode-editor-foreground, var(--jp-ui-font-color1));\n",
       "}\n",
       "\n",
       "/* Override VSCode background color */\n",
       ".cell-output-ipywidget-background:has(\n",
       "    > .cell-output-ipywidget-background > .lm-Widget > *[data-root-id]\n",
       "  ),\n",
       ".cell-output-ipywidget-background:has(> .lm-Widget > *[data-root-id]) {\n",
       "  background-color: transparent !important;\n",
       "}\n",
       "</style>"
      ]
     },
     "metadata": {},
     "output_type": "display_data"
    }
   ],
   "source": [
    "import pandas as pd\n",
    "import numpy as np\n",
    "\n",
    "import holoviews as hv\n",
    "from holoviews import dim, opts\n",
    "import hvplot.pandas\n",
    "hv.extension('matplotlib')"
   ]
  },
  {
   "cell_type": "code",
   "execution_count": 38,
   "metadata": {
    "slideshow": {
     "slide_type": "notes"
    }
   },
   "outputs": [],
   "source": [
    "p = pd.read_excel('br_terms_1990_2021.xlsx')\n",
    "\n",
    "termos = p.hvplot.line('Ano', ['Termos de troca'],\n",
    "                       height=400,\n",
    "                       width=800,\n",
    "                       rot=45,\n",
    "                       padding=0.02,\n",
    "                       group_label='Indicador',\n",
    "                       legend='bottom',\n",
    "                       cmap='Set2',\n",
    "                       ylim=(60, 130),\n",
    "                       xlim=(1990, 2021),\n",
    "                       yticks=20,\n",
    "                       xticks=20,\n",
    "                       xlabel='',\n",
    "                       ylabel='Índice 2008=100',\n",
    "                       label='Termos de troca, Brasil, 1990-2021'\n",
    "                      ).opts(fontsize={'title': 14, 'labels': 11, 'xticks': 11, 'yticks': 11})"
   ]
  },
  {
   "cell_type": "code",
   "execution_count": 39,
   "metadata": {
    "slideshow": {
     "slide_type": "slide"
    }
   },
   "outputs": [
    {
     "data": {
      "text/html": [
       "<img src='data:image/png;base64,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' style='max-width:100%; margin: auto; display: block; '/>"
      ],
      "text/plain": [
       ":Curve   [Ano]   (Termos de troca)"
      ]
     },
     "execution_count": 39,
     "metadata": {
      "application/vnd.holoviews_exec.v0+json": {}
     },
     "output_type": "execute_result"
    }
   ],
   "source": [
    "termos"
   ]
  },
  {
   "cell_type": "code",
   "execution_count": 49,
   "metadata": {
    "slideshow": {
     "slide_type": "notes"
    }
   },
   "outputs": [],
   "source": [
    "r = pd.read_excel('br_reservas_debt_1975_2018.xlsx')\n",
    "\n",
    "min_ano = r['Ano'].min()\n",
    "max_ano = r['Ano'].max()\n",
    "\n",
    "reservas_div = r.hvplot.bar('Ano', 'Reservas (% dívida externa)',\n",
    "                            height=450,\n",
    "                            width=750,\n",
    "                            rot=40,\n",
    "                            padding=0.02,\n",
    "                            legend='top_left',\n",
    "                            color='dodgerblue',\n",
    "                            yticks=18,\n",
    "                            xticks=16,\n",
    "                            ylim=(0,90),\n",
    "                            xlabel='',\n",
    "                            ylabel='% da dívida externa total',\n",
    "                            xlim=(min_ano-0.5, max_ano+0.5),\n",
    "                            yformatter='%.1f',\n",
    "                            label='Reservas internacionais - % da dívida externa total, Brasil, 1975-2018'\n",
    "                           ).opts(fontsize={'title': 14, 'labels': 11, 'xticks': 11, 'yticks': 11}).opts(multi_level=False)"
   ]
  },
  {
   "cell_type": "code",
   "execution_count": 50,
   "metadata": {
    "slideshow": {
     "slide_type": "slide"
    }
   },
   "outputs": [
    {
     "data": {
      "text/html": [
       "<img src='data:image/png;base64,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' style='max-width:100%; margin: auto; display: block; '/>"
      ],
      "text/plain": [
       ":Bars   [Ano]   (Reservas (% dívida externa))"
      ]
     },
     "execution_count": 50,
     "metadata": {
      "application/vnd.holoviews_exec.v0+json": {}
     },
     "output_type": "execute_result"
    }
   ],
   "source": [
    "reservas_div"
   ]
  },
  {
   "cell_type": "code",
   "execution_count": 55,
   "metadata": {
    "editable": true,
    "slideshow": {
     "slide_type": "notes"
    },
    "tags": []
   },
   "outputs": [],
   "source": [
    "r = pd.read_excel('br_reservas_imp_1975_2018.xlsx')\n",
    "\n",
    "min_ano = r['Ano'].min()\n",
    "max_ano = r['Ano'].max()\n",
    "\n",
    "reservas_imp = r.hvplot.bar('Ano', 'Reservas (meses de importações)',\n",
    "                            height=450,\n",
    "                            width=750,\n",
    "                            rot=40,\n",
    "                            padding=0.02,\n",
    "                            legend='top_left',\n",
    "                            color='salmon',\n",
    "                            yticks=18,\n",
    "                            xticks=16,\n",
    "                            xlabel='',\n",
    "                            ylabel='número de meses',\n",
    "                            xlim=(min_ano-0.5, max_ano+0.5),\n",
    "                            yformatter='%.0f',\n",
    "                            label='Total das reservas internacionais, Brasil, 1975-2018 (em meses de importações)'\n",
    "                           ).opts(fontsize={'title': 14, 'labels': 11, 'xticks': 11, 'yticks': 11}).opts(multi_level=False)"
   ]
  },
  {
   "cell_type": "code",
   "execution_count": 56,
   "metadata": {
    "slideshow": {
     "slide_type": "slide"
    }
   },
   "outputs": [
    {
     "data": {
      "text/html": [
       "<img src='data:image/png;base64,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' style='max-width:100%; margin: auto; display: block; '/>"
      ],
      "text/plain": [
       ":Bars   [Ano]   (Reservas (meses de importações))"
      ]
     },
     "execution_count": 56,
     "metadata": {
      "application/vnd.holoviews_exec.v0+json": {}
     },
     "output_type": "execute_result"
    }
   ],
   "source": [
    "reservas_imp"
   ]
  },
  {
   "cell_type": "markdown",
   "metadata": {
    "slideshow": {
     "slide_type": "slide"
    }
   },
   "source": [
    "## Orientação\n",
    "\n",
    "A equipe econômica do novo governo (Guido Mantega, Fazenda; Alexandre Tombini, Banco Central) buscou consolidar uma nova orientação da política macroeconômica, já iniciada no 2o governo Lula. Elementos:"
   ]
  },
  {
   "cell_type": "markdown",
   "metadata": {
    "slideshow": {
     "slide_type": "fragment"
    }
   },
   "source": [
    "- tolerância com a meta de inflação - informalmente visando o limite superior da banda, em vez do centro da meta;"
   ]
  },
  {
   "cell_type": "markdown",
   "metadata": {
    "slideshow": {
     "slide_type": "fragment"
    }
   },
   "source": [
    "- redução da taxa de juros básica - Selic;"
   ]
  },
  {
   "cell_type": "markdown",
   "metadata": {
    "slideshow": {
     "slide_type": "slide"
    }
   },
   "source": [
    "## Mais elementos\n",
    "\n",
    "- limites ao câmbio flutuante via intervenção mais sistemática do Bacen no mercado de câmbio;"
   ]
  },
  {
   "cell_type": "markdown",
   "metadata": {
    "slideshow": {
     "slide_type": "fragment"
    }
   },
   "source": [
    "- menor superávit primário;"
   ]
  },
  {
   "cell_type": "markdown",
   "metadata": {
    "slideshow": {
     "slide_type": "fragment"
    }
   },
   "source": [
    "- elevação do investimento público via BNDES e estatais (Petrobrás e Eletrobrás)."
   ]
  },
  {
   "cell_type": "markdown",
   "metadata": {
    "slideshow": {
     "slide_type": "fragment"
    }
   },
   "source": [
    " Vejamos esses pontos a seguir (o desempenho do investimento público será tratado na próxima aula)."
   ]
  },
  {
   "cell_type": "markdown",
   "metadata": {
    "slideshow": {
     "slide_type": "slide"
    }
   },
   "source": [
    "## Nova matriz econômica\n",
    "\n",
    "Esse conjunto de medidas - e outras complementares - foi batizado de \"Nova Matriz Econômica\" por membros da equipe econômica, mas o conceito permaneceu relativamente ambíguo. "
   ]
  },
  {
   "cell_type": "markdown",
   "metadata": {
    "editable": true,
    "slideshow": {
     "slide_type": "fragment"
    },
    "tags": []
   },
   "source": [
    "A referência mais conhecida é o artigo de Guido Mantega, “O primeiro ano da Nova Matriz Econômica”, no Valor Econômico, 19/12/2012 (além dele, ver o texto de Barbosa e Souza, 2010 na bibliografia da disciplina)."
   ]
  },
  {
   "cell_type": "markdown",
   "metadata": {
    "editable": true,
    "slideshow": {
     "slide_type": "fragment"
    },
    "tags": []
   },
   "source": [
    "O objetivo anunciado foi reconfigurar os instrumentos e objetivos da política econômica a fim de que superassem as restrições estabelecidas pelo modelo macroeconômico vigente (\"tripé econômico\"), definindo maior espaço para um papel indutor do Estado no crescimento econômico. "
   ]
  },
  {
   "cell_type": "markdown",
   "metadata": {
    "editable": true,
    "slideshow": {
     "slide_type": "subslide"
    },
    "tags": []
   },
   "source": [
    "Tripé econômico: regime de metas de inflação, superávit fiscal primário e câmbio flutuante. "
   ]
  },
  {
   "cell_type": "markdown",
   "metadata": {
    "editable": true,
    "slideshow": {
     "slide_type": "subslide"
    },
    "tags": []
   },
   "source": [
    "Notar, contudo, que *não* houve abandono formal de nenhum dos objetivos do chamado tripé (superávit fiscal, meta de inflação, câmbio flutuante), o que torna a análise do período mais difícil."
   ]
  },
  {
   "cell_type": "markdown",
   "metadata": {
    "editable": true,
    "slideshow": {
     "slide_type": "slide"
    },
    "tags": []
   },
   "source": [
    "## Metas de inflação\n",
    "\n",
    "Durante todo o período do novo governo, a **meta de inflação** foi mantida em 4,5%, com bandas de 2% (isto é, bandas inferior e superior de 2,5% e 6,5% a.a.). Mas o empenho em alcançar a meta variou ao longo do tempo (ver a tabela a seguir)."
   ]
  },
  {
   "cell_type": "markdown",
   "metadata": {
    "editable": true,
    "slideshow": {
     "slide_type": "fragment"
    },
    "tags": []
   },
   "source": [
    "Nos primeiros meses de 2011, o Banco Central seguiu uma política monetária apertada, buscando corrigir a flexibilização monetária e do crédito do ano anterior, dominado pela disputa eleitoral."
   ]
  },
  {
   "cell_type": "markdown",
   "metadata": {
    "editable": true,
    "slideshow": {
     "slide_type": "fragment"
    },
    "tags": []
   },
   "source": [
    "Uma mudança importante ocorreu *após 6 meses* do início do governo Dilma, em agosto de 2011, quando o Copom anunciou a *redução* da taxa Selic de 12,5% para 12% a.a. (depois de aumentá-la nas reuniões anteriores)."
   ]
  },
  {
   "cell_type": "markdown",
   "metadata": {
    "editable": true,
    "slideshow": {
     "slide_type": "subslide"
    },
    "tags": []
   },
   "source": [
    "### <center>Metas e inflação observada</center>\n",
    "\n",
    "<center><img src=\"br_regime_metas.png\" width=\"1000\" height=\"450\"></center>"
   ]
  },
  {
   "cell_type": "markdown",
   "metadata": {
    "slideshow": {
     "slide_type": "slide"
    }
   },
   "source": [
    "## Recepção\n",
    "\n",
    "A decisão de reduzir a taxa Selic surpreendeu, uma vez que ocorreu em um momento em que a inflação projetada apresentava tendência de alta."
   ]
  },
  {
   "cell_type": "markdown",
   "metadata": {
    "slideshow": {
     "slide_type": "fragment"
    }
   },
   "source": [
    "O diagnóstico do Copom foi que o baixo crescimento (PIB em 2011 = 4,0%) e os sinais de uma nova recessão internacional justificariam uma ação preventiva e a reversão da taxa Selic, a fim de evitar efeitos negativos na economia doméstica."
   ]
  },
  {
   "cell_type": "markdown",
   "metadata": {
    "slideshow": {
     "slide_type": "fragment"
    }
   },
   "source": [
    "Por outro lado, a opinião dominante foi que o Bacen sinalizou uma política monetária mais tolerante com a inflação, que visava mais a banda superior do que o centro da meta. Banda superior: 6,5%, inflação observada em 2011: 6,5%.  "
   ]
  },
  {
   "cell_type": "markdown",
   "metadata": {
    "slideshow": {
     "slide_type": "slide"
    }
   },
   "source": [
    "## Inflação e Selic\n",
    "\n",
    "Ainda assim, a inflação foi um pouco menor em 2012 (5,8%) e 2013 (5,9%), mas manteve-se distante da meta de 4,5% e retomou a tendência de alta."
   ]
  },
  {
   "cell_type": "markdown",
   "metadata": {
    "slideshow": {
     "slide_type": "fragment"
    }
   },
   "source": [
    "Já em 2013, a subida dos preços levou a uma nova mudança do Copom, com elevação da taxa Selic a partir de abril de 2013. Apesar da guinada, e em um contexto de eleição presidencial, a inflação atingiu 6,4% em 2014 (comparar com 2006 = 3,1%). "
   ]
  },
  {
   "cell_type": "markdown",
   "metadata": {
    "slideshow": {
     "slide_type": "fragment"
    }
   },
   "source": [
    "Em 2014, medidas paralelas (isto é, fora do âmbito da política monetária ou fiscal) para contenção dos preços passaram a ser generalizadas: adiamento de reajustes de tarifas e preços públicos (por exemplo, combustível e energia elétrica; mais detalhes adiante). "
   ]
  },
  {
   "cell_type": "markdown",
   "metadata": {
    "slideshow": {
     "slide_type": "subslide"
    }
   },
   "source": [
    "De uma maneira ou de outra, os resultados da inflação tornaram-se mais críticos no ano seguinte, em 2015, com o IPCA chegando a 10,7% (diante da meta de 4,5% a.a., banda de 2%; ver [aqui](https://normativos.bcb.gov.br/Lists/Normativos/Attachments/48918/Res_4237_v1_O.pdf)), a despeito do adiamento de reajustes e de outros artifícios adotados. "
   ]
  },
  {
   "cell_type": "markdown",
   "metadata": {
    "slideshow": {
     "slide_type": "fragment"
    }
   },
   "source": [
    "Ver as figuras com o IPCA e a taxa Selic a seguir."
   ]
  },
  {
   "cell_type": "code",
   "execution_count": 153,
   "metadata": {
    "editable": true,
    "slideshow": {
     "slide_type": "notes"
    },
    "tags": []
   },
   "outputs": [],
   "source": [
    "p = pd.read_excel('ipca_1995_2019.xlsx')\n",
    "\n",
    "ipca = p.hvplot.line('Ano', 'IPCA',\n",
    "                    height=450,\n",
    "                    width=800,\n",
    "                    rot=30,\n",
    "                    padding=0.1,\n",
    "                    legend='top_right',\n",
    "                    color='red',\n",
    "                    xlim=(2000, 2019),\n",
    "                    ylim=(0, 15),\n",
    "                    yticks=18,\n",
    "                    xticks=12,\n",
    "                    xlabel='',\n",
    "                    ylabel='taxa de crescimento anual, %',\n",
    "                    label='Inflação, Brasil, 2000-2019 (IPCA, anual, %)'\n",
    "                   ).opts(fontsize={'title': 14, 'labels': 11, 'xticks': 11, 'yticks': 11})"
   ]
  },
  {
   "cell_type": "code",
   "execution_count": 154,
   "metadata": {
    "editable": true,
    "slideshow": {
     "slide_type": "slide"
    },
    "tags": []
   },
   "outputs": [
    {
     "data": {
      "text/html": [
       "<img src='data:image/png;base64,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' style='max-width:100%; margin: auto; display: block; '/>"
      ],
      "text/plain": [
       ":Curve   [Ano]   (IPCA)"
      ]
     },
     "execution_count": 154,
     "metadata": {
      "application/vnd.holoviews_exec.v0+json": {}
     },
     "output_type": "execute_result"
    }
   ],
   "source": [
    "ipca"
   ]
  },
  {
   "cell_type": "code",
   "execution_count": 75,
   "metadata": {
    "editable": true,
    "slideshow": {
     "slide_type": "notes"
    },
    "tags": []
   },
   "outputs": [],
   "source": [
    "p = pd.read_excel('br_selic_2000_2019.xlsx')\n",
    "\n",
    "selic = p.hvplot.step('Ano', 'Taxa Selic',\n",
    "                      height=450,\n",
    "                      width=800,\n",
    "                      rot=30,\n",
    "                      padding=0.05,\n",
    "                      legend=True,\n",
    "                      color='crimson',\n",
    "                      alpha=1,\n",
    "                      xlabel='',\n",
    "                      ylabel='taxa mensal anualizada, %',\n",
    "                      yformatter='%.1f',\n",
    "                      xlim=(2000, 2019),\n",
    "                      xticks=12,\n",
    "                      ylim=(5, 30),\n",
    "                      yticks=24,\n",
    "                      label='Taxa básica de juros - Selic, jan/2000-dez/2019 (mês, anualizada, %)'\n",
    "                     ).opts(fontsize={'title': 14, 'labels': 11, 'xticks': 11, 'yticks': 11})"
   ]
  },
  {
   "cell_type": "code",
   "execution_count": 76,
   "metadata": {
    "slideshow": {
     "slide_type": "slide"
    }
   },
   "outputs": [
    {
     "data": {
      "text/html": [
       "<img src='data:image/png;base64,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' style='max-width:100%; margin: auto; display: block; '/>"
      ],
      "text/plain": [
       ":Curve   [Ano]   (Taxa Selic)"
      ]
     },
     "execution_count": 76,
     "metadata": {
      "application/vnd.holoviews_exec.v0+json": {}
     },
     "output_type": "execute_result"
    }
   ],
   "source": [
    "selic"
   ]
  },
  {
   "cell_type": "markdown",
   "metadata": {
    "slideshow": {
     "slide_type": "slide"
    }
   },
   "source": [
    "## Câmbio\n",
    "\n",
    "A **política cambial**, por sua vez, buscou conter a apreciação do Real e induzir sua depreciação em relação ao dólar. Exemplos:"
   ]
  },
  {
   "cell_type": "markdown",
   "metadata": {
    "slideshow": {
     "slide_type": "fragment"
    }
   },
   "source": [
    "- introdução do IOF sobre derivativos cambiais e variação de prazos e alíquotas sobre outras aplicações para desestimular a abundante entrada de capital de curto prazo; "
   ]
  },
  {
   "cell_type": "markdown",
   "metadata": {
    "slideshow": {
     "slide_type": "fragment"
    }
   },
   "source": [
    "- operações de compra de dólar com o objetivo de forçar a depreciação do Real."
   ]
  },
  {
   "cell_type": "markdown",
   "metadata": {
    "slideshow": {
     "slide_type": "slide"
    }
   },
   "source": [
    "## Mudanças\n",
    "\n",
    "Essa política também variou ao longo do período - por exemplo com o Banco Central voltando às operações de venda de dólar em meados de 2013."
   ]
  },
  {
   "cell_type": "markdown",
   "metadata": {
    "slideshow": {
     "slide_type": "fragment"
    }
   },
   "source": [
    "Além disso, lembrar: "
   ]
  },
  {
   "cell_type": "markdown",
   "metadata": {
    "slideshow": {
     "slide_type": "fragment"
    }
   },
   "source": [
    "a política de redução da taxa Selic contribuía igualmente para reduzir a atração dos títulos brasileiros, diminuir a entrada de dólares e conter a valorização ou induzir a desvalorização do Real."
   ]
  },
  {
   "cell_type": "markdown",
   "metadata": {
    "slideshow": {
     "slide_type": "slide"
    }
   },
   "source": [
    "## Política fiscal\n",
    "\n",
    "Com relação ao **setor público**, o quadro é mais complexo. Manteve-se o compromisso formal com o superávit primário, mas a tendência foi de aceitar ou buscar a diminuição do resultado primário no período."
   ]
  },
  {
   "cell_type": "markdown",
   "metadata": {
    "slideshow": {
     "slide_type": "fragment"
    }
   },
   "source": [
    "O período aprofundou tendências e políticas iniciadas já no 2o governo Lula."
   ]
  },
  {
   "cell_type": "markdown",
   "metadata": {
    "slideshow": {
     "slide_type": "fragment"
    }
   },
   "source": [
    "Essas políticas incluíam a atuação mais incisiva das empresas estatais e a ampliação de renúncias fiscais (subsídos e desonerações), combinadas com artifícios contábeis."
   ]
  },
  {
   "cell_type": "markdown",
   "metadata": {
    "slideshow": {
     "slide_type": "subslide"
    }
   },
   "source": [
    "Outra tendência foi a continuidade do crescimento das despesas primárias, mas agora *acompanhada por queda da receita líquida* do governo central (receita total menos transferências), conf. a figura a seguir."
   ]
  },
  {
   "cell_type": "markdown",
   "metadata": {
    "slideshow": {
     "slide_type": "fragment"
    }
   },
   "source": [
    "Observar que, em 2011, a queda da receita líquida foi acompanhada pela *redução* da despesa primária. A partir de 2012, porém, a tendência se inverte, isto é, a receita líquida continuou caindo mas com aumento da despesa primária."
   ]
  },
  {
   "cell_type": "code",
   "execution_count": 81,
   "metadata": {
    "slideshow": {
     "slide_type": "notes"
    }
   },
   "outputs": [
    {
     "name": "stderr",
     "output_type": "stream",
     "text": [
      "WARNING:param.main: Option 'line_dash' for VLine type not valid for selected backend ('matplotlib'). Option only applies to following backends: ['bokeh']\n",
      "WARNING:param.main: Option 'line_width' for VLine type not valid for selected backend ('matplotlib'). Option only applies to following backends: ['bokeh']\n"
     ]
    }
   ],
   "source": [
    "r = pd.read_excel('br_receita_despesa_1997_2021.xlsx')\n",
    "\n",
    "rec_desp = r.hvplot.line('Ano', ['Receita líquida', 'Despesa primária'],\n",
    "                         height=450,\n",
    "                         width=800,\n",
    "                         rot=30,\n",
    "                         padding=0.05,\n",
    "                         group_label='Resultados',\n",
    "                         legend='bottom',\n",
    "                         cmap='Set1',\n",
    "                         xlabel='',\n",
    "                         ylabel='%',\n",
    "                         xlim=(1997, 2021),\n",
    "                         ylim=(12, 27),\n",
    "                         yformatter='%.1f',\n",
    "                         xticks=24,\n",
    "                         yticks=18,\n",
    "                         label='Receita e despesa do governo central, Brasil, 1997-2021 (% do PIB)'\n",
    "                        ).opts(fontsize={'title': 14, 'labels': 11, 'xticks': 11, \n",
    "                                         'yticks': 11})\n",
    "\n",
    "vline = hv.VLine(2010)\n",
    "\n",
    "receita = rec_desp * vline.opts(color='limegreen', line_dash='dashed', line_width=1)"
   ]
  },
  {
   "cell_type": "code",
   "execution_count": 82,
   "metadata": {
    "slideshow": {
     "slide_type": "slide"
    }
   },
   "outputs": [
    {
     "data": {
      "text/html": [
       "<img src='data:image/png;base64,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' style='max-width:100%; margin: auto; display: block; '/>"
      ],
      "text/plain": [
       ":Overlay\n",
       "   .NdOverlay.Receita_e_despesa_do_governo_central_comma_Brasil_comma_1997_hyphen_minus_2021_left_parenthesis_percent_do_PIB_right_parenthesis :NdOverlay   [Resultados]\n",
       "      :Curve   [Ano]   (value)\n",
       "   .VLine.I                                                                                                                                    :VLine   [x,y]"
      ]
     },
     "execution_count": 82,
     "metadata": {
      "application/vnd.holoviews_exec.v0+json": {}
     },
     "output_type": "execute_result"
    }
   ],
   "source": [
    "receita"
   ]
  },
  {
   "cell_type": "markdown",
   "metadata": {
    "slideshow": {
     "slide_type": "slide"
    }
   },
   "source": [
    "## Resultado primário do governo central\n",
    "\n",
    "Como resultado, o superávit primário declinou nos dois anos seguintes, com déficits daí em diante, após um resultado positivo substancial em 2011.   "
   ]
  },
  {
   "cell_type": "markdown",
   "metadata": {
    "slideshow": {
     "slide_type": "fragment"
    }
   },
   "source": [
    "Ver o gráfico a seguir com o resultado primário do período."
   ]
  },
  {
   "cell_type": "code",
   "execution_count": 105,
   "metadata": {
    "slideshow": {
     "slide_type": "notes"
    }
   },
   "outputs": [],
   "source": [
    "p = pd.read_excel('br_primario_1997_2019.xlsx')\n",
    "\n",
    "min_ano = r['Ano'].min()\n",
    "max_ano = r['Ano'].max()\n",
    "\n",
    "prim = p.hvplot.bar('Ano', 'Resultado primário',\n",
    "                    height=450,\n",
    "                    width=800,\n",
    "                    rot=30,\n",
    "                    padding=0.02,\n",
    "                    legend=False,\n",
    "                    color='crimson',\n",
    "                    alpha=0.7,\n",
    "                    xlabel='',\n",
    "                    ylabel='',\n",
    "                    xlim=(min_ano-0.5, max_ano+0.5),\n",
    "                    ylim=(-3, 3),\n",
    "                    xticks=16,\n",
    "                    yformatter='%.1f',\n",
    "                    label='Resultado primário do governo central, Brasil, 1997-2019 (% do PIB)'\n",
    "                   ).opts(fontsize={'title': 14, 'labels': 11,\n",
    "                                    'xticks': 11, 'yticks': 11}).opts(multi_level=False)"
   ]
  },
  {
   "cell_type": "code",
   "execution_count": 106,
   "metadata": {
    "slideshow": {
     "slide_type": "slide"
    }
   },
   "outputs": [
    {
     "data": {
      "text/html": [
       "<img src='data:image/png;base64,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' style='max-width:100%; margin: auto; display: block; '/>"
      ],
      "text/plain": [
       ":Bars   [Ano]   (Resultado primário)"
      ]
     },
     "execution_count": 106,
     "metadata": {
      "application/vnd.holoviews_exec.v0+json": {}
     },
     "output_type": "execute_result"
    }
   ],
   "source": [
    "prim"
   ]
  },
  {
   "cell_type": "markdown",
   "metadata": {
    "slideshow": {
     "slide_type": "slide"
    }
   },
   "source": [
    "## Superávit estrutural e impulso fiscal\n",
    "\n",
    "Um conceito relevante para analisar esses resultados é o de superávit estrutural."
   ]
  },
  {
   "cell_type": "markdown",
   "metadata": {
    "slideshow": {
     "slide_type": "fragment"
    }
   },
   "source": [
    "O resultado estrutural desconta tanto receitas e despesas decorrentes do ciclo econômico quanto receitas e despesas extraordinárias."
   ]
  },
  {
   "cell_type": "markdown",
   "metadata": {
    "slideshow": {
     "slide_type": "fragment"
    }
   },
   "source": [
    "Esse conceito é usado para analisar o esforço fiscal efetivo do setor público e avaliar se a política fiscal é contracionista, neutra ou expansionista."
   ]
  },
  {
   "cell_type": "markdown",
   "metadata": {
    "slideshow": {
     "slide_type": "slide"
    }
   },
   "source": [
    "## Impulso fiscal\n",
    "\n",
    "Outro conceito relacionado ao resultado estrutural é o de impulso fiscal."
   ]
  },
  {
   "cell_type": "markdown",
   "metadata": {
    "slideshow": {
     "slide_type": "fragment"
    }
   },
   "source": [
    "O impulso fiscal é definido pela diferença entre o resultado estrutural de um ano em relação ao do ano anterior."
   ]
  },
  {
   "cell_type": "markdown",
   "metadata": {
    "slideshow": {
     "slide_type": "fragment"
    }
   },
   "source": [
    "O resultado líquido do impulso fiscal é expresso com *valor positivo = expansão; valor negativo = contração*. "
   ]
  },
  {
   "cell_type": "markdown",
   "metadata": {
    "slideshow": {
     "slide_type": "subslide"
    }
   },
   "source": [
    "As figuras a seguir apresentam o resultado estrutural (superávit ou déficit) e o impulso fiscal (positivo ou negativo) do governo geral (isto é, todas as esferas de governo da federação)."
   ]
  },
  {
   "cell_type": "code",
   "execution_count": 155,
   "metadata": {
    "editable": true,
    "slideshow": {
     "slide_type": "notes"
    },
    "tags": []
   },
   "outputs": [],
   "source": [
    "p = pd.read_excel('br_prim_estrutural_2000_2019.xlsx')\n",
    "\n",
    "estrutural = p.hvplot.bar('Ano', ['Resultado efetivo', 'Resultado estrutural'],\n",
    "                          height=450,\n",
    "                          width=800,\n",
    "                          rot=30,\n",
    "                          padding=0.05,\n",
    "                          legend='bottom',\n",
    "                          cmap='Set1',\n",
    "                          alpha=0.7,\n",
    "                          yformatter='%.1f',\n",
    "                          xlabel='',\n",
    "                          ylabel='% do PIB',\n",
    "                          group_label='Resultado fiscal',\n",
    "                          ylim=(-3, 4),\n",
    "                          label='Resultado primário efetivo e estrutural, Governo geral, 2000-2019'\n",
    "                         ).opts(fontsize={'title': 14, 'labels': 11,\n",
    "                                          'xticks': 11, 'yticks': 11}).opts(multi_level=False)"
   ]
  },
  {
   "cell_type": "code",
   "execution_count": 156,
   "metadata": {
    "editable": true,
    "slideshow": {
     "slide_type": "slide"
    },
    "tags": []
   },
   "outputs": [
    {
     "data": {
      "text/html": [
       "<img src='data:image/png;base64,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' style='max-width:100%; margin: auto; display: block; '/>"
      ],
      "text/plain": [
       ":Bars   [Ano,Resultado fiscal]   (value)"
      ]
     },
     "execution_count": 156,
     "metadata": {
      "application/vnd.holoviews_exec.v0+json": {}
     },
     "output_type": "execute_result"
    }
   ],
   "source": [
    "estrutural"
   ]
  },
  {
   "cell_type": "code",
   "execution_count": 167,
   "metadata": {
    "editable": true,
    "slideshow": {
     "slide_type": "notes"
    },
    "tags": []
   },
   "outputs": [],
   "source": [
    "a = pd.read_excel('br_prim_estrutural_2000_2019.xlsx')\n",
    "\n",
    "impulso = a.hvplot.bar('Ano', ['Impulso fiscal'],\n",
    "                       height=450,\n",
    "                       width=800,\n",
    "                       rot=45,\n",
    "                       padding=0.05,\n",
    "                       legend='bottom',\n",
    "                       color='green',\n",
    "                       alpha=0.7,\n",
    "                       xlabel='',\n",
    "                       ylabel='% do PIB',\n",
    "                       group_label='Resultado',\n",
    "                       ylim=(-1.5, 1.5),\n",
    "                       #xlim=(2001, 2019),\n",
    "                       yformatter='%.1f',\n",
    "                       label='Impulso fiscal, Governo geral, 2001-2019 (positivo = expansão)'\n",
    "                      ).opts(fontsize={'title': 14, 'labels': 11, \n",
    "                                       'xticks': 11, 'yticks': 11}).opts(multi_level=False)"
   ]
  },
  {
   "cell_type": "code",
   "execution_count": 168,
   "metadata": {
    "editable": true,
    "slideshow": {
     "slide_type": "slide"
    },
    "tags": []
   },
   "outputs": [
    {
     "data": {
      "text/html": [
       "<img src='data:image/png;base64,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' style='max-width:100%; margin: auto; display: block; '/>"
      ],
      "text/plain": [
       ":Bars   [Ano,Resultado]   (value)"
      ]
     },
     "execution_count": 168,
     "metadata": {
      "application/vnd.holoviews_exec.v0+json": {}
     },
     "output_type": "execute_result"
    }
   ],
   "source": [
    "impulso"
   ]
  },
  {
   "cell_type": "markdown",
   "metadata": {
    "editable": true,
    "slideshow": {
     "slide_type": "slide"
    },
    "tags": []
   },
   "source": [
    "## Desempenho\n",
    "\n",
    "Em resumo, as figuras mostram o declínio acentuado do superávit primário no período (exceto em 2011), culminando com déficit primário em 2014, com o resultado efetivo menor do que o estrutural."
   ]
  },
  {
   "cell_type": "markdown",
   "metadata": {
    "editable": true,
    "slideshow": {
     "slide_type": "fragment"
    },
    "tags": []
   },
   "source": [
    "O ano de 2011 exibiu um expressivo esforço fiscal do governo geral como um todo e uma redução do impulso fiscal (contração de -1,2% em relação PIB). "
   ]
  },
  {
   "cell_type": "markdown",
   "metadata": {
    "slideshow": {
     "slide_type": "fragment"
    }
   },
   "source": [
    "Os anos seguintes foram de crescente expansão fiscal, chegando a 1,4% do PIB em 2014 e déficit primário efetivo de -0,5% e déficit estrutural de 1,5% do PIB - com tendência de crescimento. "
   ]
  },
  {
   "cell_type": "markdown",
   "metadata": {
    "slideshow": {
     "slide_type": "slide"
    }
   },
   "source": [
    "## Receitas e desonerações\n",
    "\n",
    "No plano fiscal, uma das políticas perseguidas pelo governo Dilma, iniciada já no governo anterior, foi a de expandir as renúncias fiscais (tributárias, previdenciárias e creditícias) para empresas do setor produtivo."
   ]
  },
  {
   "cell_type": "markdown",
   "metadata": {
    "slideshow": {
     "slide_type": "fragment"
    }
   },
   "source": [
    "O efeito *esperado* era que o alívio da carga tributária induzisse as empresas a aumentar investimentos, resultando em maior crescimento econômico e maior arrecadação com o aumento de produção e vendas."
   ]
  },
  {
   "cell_type": "markdown",
   "metadata": {
    "slideshow": {
     "slide_type": "fragment"
    }
   },
   "source": [
    "O resultado observado, porém, foi a redução ainda maior da arrecadação, sem resposta do investimento privado e a persistência do baixo crescimento econômico. "
   ]
  },
  {
   "cell_type": "markdown",
   "metadata": {
    "slideshow": {
     "slide_type": "subslide"
    }
   },
   "source": [
    "Uma síntese dessa orientação da política fiscal:"
   ]
  },
  {
   "cell_type": "markdown",
   "metadata": {
    "slideshow": {
     "slide_type": "fragment"
    }
   },
   "source": [
    "2011 e 2014: Carga tributária federal = 22,8% e 22,1% do PIB; Renúncias tributárias e previdenciárias = 3,5% e 4,6% do PIB, respectivamente. "
   ]
  },
  {
   "cell_type": "markdown",
   "metadata": {
    "slideshow": {
     "slide_type": "slide"
    }
   },
   "source": [
    "## Renúncias fiscais\n",
    "\n",
    "Em 2014, o conjunto dos benefícios tributários, previdenciários e creditícios ultrapassou o *total das despesas* com educação, saúde e assistência social do governo federal."
   ]
  },
  {
   "cell_type": "markdown",
   "metadata": {
    "slideshow": {
     "slide_type": "fragment"
    }
   },
   "source": [
    "Globalmente, as desonerações concentraram-se nas áreas mais desenvolvidas do país."
   ]
  },
  {
   "cell_type": "markdown",
   "metadata": {
    "slideshow": {
     "slide_type": "fragment"
    }
   },
   "source": [
    "A região nordeste recebeu o menor valor de renúncia fiscal per capita. A região norte, por sua vez, foi beneficiada sobretudo pelos subsídios às empresas da Zona Franca de Manaus. Ver a seguir:"
   ]
  },
  {
   "cell_type": "markdown",
   "metadata": {
    "slideshow": {
     "slide_type": "slide"
    }
   },
   "source": [
    "### <center></center>\n",
    "\n",
    "<center><img src=\"br_tcu_desonera_2014.png\" width=\"900\" height=\"450\"></center>"
   ]
  },
  {
   "cell_type": "markdown",
   "metadata": {
    "slideshow": {
     "slide_type": "subslide"
    }
   },
   "source": [
    "### <center></center>\n",
    "\n",
    "<center><img src=\"br_tcu_regiao_2014.png\" width=\"900\" height=\"450\"></center>"
   ]
  },
  {
   "cell_type": "markdown",
   "metadata": {
    "slideshow": {
     "slide_type": "slide"
    }
   },
   "source": [
    "## Quadro fiscal e alternativas\n",
    "\n",
    "Em resumo, a situação fiscal envolvia: a) queda da receita líquida da União; b) política de aumento de desonerações; c) política de aumento das despesas públicas; "
   ]
  },
  {
   "cell_type": "markdown",
   "metadata": {
    "slideshow": {
     "slide_type": "fragment"
    }
   },
   "source": [
    "d) manutenção de metas de superávit primário, ainda que reduzidas; d) e o crescimento histórico das despesas obrigatórias (previdência, por exemplo) visto em aulas anteriores."
   ]
  },
  {
   "cell_type": "markdown",
   "metadata": {
    "slideshow": {
     "slide_type": "fragment"
    }
   },
   "source": [
    "Diante desse quadro, a opção do governo foi reforçar a criação de receitas atípicas e a realização de operações contábeis variadas como tentativa de acomodar os gastos crescentes à receita líquida declinante. "
   ]
  },
  {
   "cell_type": "markdown",
   "metadata": {
    "slideshow": {
     "slide_type": "subslide"
    }
   },
   "source": [
    "Ver exemplos a seguir, primeiro com uma conta corriqueira: Restos a pagar."
   ]
  },
  {
   "cell_type": "markdown",
   "metadata": {
    "slideshow": {
     "slide_type": "slide"
    }
   },
   "source": [
    "## Restos a pagar\n",
    "\n",
    "As operações visando acomodar a queda nas receitas líquidas, no superávit primário e o aumento das despesas incluíram um conjunto variado de artifícios contábeis."
   ]
  },
  {
   "cell_type": "markdown",
   "metadata": {
    "slideshow": {
     "slide_type": "fragment"
    }
   },
   "source": [
    "Um deles foi ampliar o adiamento do pagamento de despesas já liquidadas ou ainda em liquidação para o ano orçamentário seguinte."
   ]
  },
  {
   "cell_type": "markdown",
   "metadata": {
    "slideshow": {
     "slide_type": "fragment"
    }
   },
   "source": [
    "Essa operação reduzia os gastos efetivamente realizados no ano de origem e diminuía o efeito negativo sobre o superávit primário."
   ]
  },
  {
   "cell_type": "markdown",
   "metadata": {
    "slideshow": {
     "slide_type": "subslide"
    }
   },
   "source": [
    "Essa prática contábil, considerada normal quando mantida como resíduo da execução orçamentária, foi ampliada desde o final dos anos 2000 e tornou-se política recorrente daí em diante. Ver gráfico."
   ]
  },
  {
   "cell_type": "code",
   "execution_count": 169,
   "metadata": {
    "editable": true,
    "slideshow": {
     "slide_type": "notes"
    },
    "tags": []
   },
   "outputs": [],
   "source": [
    "p = pd.read_excel('br_tcu_restos_2001_2014.xlsx')\n",
    "\n",
    "restos = p.hvplot.bar('Ano', ['Restos a pagar em relação às dotações orçamentárias'],\n",
    "                      height=450,\n",
    "                      width=800,\n",
    "                      rot=0,\n",
    "                      padding=0.05,\n",
    "                      legend='bottom',\n",
    "                      color='dodgerblue',\n",
    "                      yformatter='%.1f',\n",
    "                      xlabel='',\n",
    "                      ylabel='%',\n",
    "                      group_label='Resultados',\n",
    "                      ylim=(0, 14),\n",
    "                      label='Restos a pagar, Governo federal, 2001-2014, %'\n",
    "                     ).opts(fontsize={'title': 14, 'labels': 11, \n",
    "                                            'xticks': 11, 'yticks': 11}).opts(multi_level=False)"
   ]
  },
  {
   "cell_type": "code",
   "execution_count": 170,
   "metadata": {
    "editable": true,
    "slideshow": {
     "slide_type": "slide"
    },
    "tags": []
   },
   "outputs": [
    {
     "data": {
      "text/html": [
       "<img src='data:image/png;base64,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' style='max-width:100%; margin: auto; display: block; '/>"
      ],
      "text/plain": [
       ":Bars   [Ano,Resultados]   (value)"
      ]
     },
     "execution_count": 170,
     "metadata": {
      "application/vnd.holoviews_exec.v0+json": {}
     },
     "output_type": "execute_result"
    }
   ],
   "source": [
    "restos"
   ]
  },
  {
   "cell_type": "markdown",
   "metadata": {
    "editable": true,
    "slideshow": {
     "slide_type": "slide"
    },
    "tags": []
   },
   "source": [
    "## Preços\n",
    "\n",
    "Do lado dos preços, buscou-se contornar a alta da inflação por meio de controle direto de tarifas e preços públicos administrados, como notado antes."
   ]
  },
  {
   "cell_type": "markdown",
   "metadata": {
    "slideshow": {
     "slide_type": "fragment"
    }
   },
   "source": [
    "A intervenção nos preços foi combinada com desonerações tributárias a fim de evitar o repasse de custos para os preços por parte das empresas privadas  (por exemplo, do setor elétrico e transporte)."
   ]
  },
  {
   "cell_type": "markdown",
   "metadata": {
    "slideshow": {
     "slide_type": "fragment"
    }
   },
   "source": [
    "Além de criar desconfiança e acumular distorções nos preços relativos, a intervenção nos preços e as desonerações tributárias comprometeram as finanças de empresas estatais, como a Petrobrás e as do setor elétrico."
   ]
  },
  {
   "cell_type": "markdown",
   "metadata": {
    "slideshow": {
     "slide_type": "slide"
    }
   },
   "source": [
    "## Mais artifícios\n",
    "\n",
    "Outro exemplo foram as trocas de ativos e recursos envolvendo BNDES, Caixa Econômica Federal e Tesouro, iniciadas pelo menos desde 2009 e aprofundadas no novo governo."
   ]
  },
  {
   "cell_type": "markdown",
   "metadata": {
    "slideshow": {
     "slide_type": "fragment"
    }
   },
   "source": [
    "Por exemplo, a venda pelo Tesouro ao BNDES de direitos sobre dividendos da Eletrobrás, recebendo em contrapartida recursos contabilizados como receita extraordinária (2009). Ver mais exemplos no texto do programa."
   ]
  },
  {
   "cell_type": "markdown",
   "metadata": {
    "slideshow": {
     "slide_type": "subslide"
    }
   },
   "source": [
    "Mais adiante, as operações contábeis incluíram as chamadas \"pedaladas fiscais\" - o atraso deliberado pelo Tesouro do repasse de recursos para despesas fiscais intermediadas por bancos (públicos e privados) e autarquias (INSS, por exemplo). "
   ]
  },
  {
   "cell_type": "markdown",
   "metadata": {
    "slideshow": {
     "slide_type": "fragment"
    }
   },
   "source": [
    "O objetivo do Tesouro e do Ministério da Fazenda era melhorar artificialmente a demonstração contábil das receitas públicas federais. A prática foi amplamente divulgada pela imprensa em 2014."
   ]
  },
  {
   "cell_type": "markdown",
   "metadata": {
    "slideshow": {
     "slide_type": "slide"
    }
   },
   "source": [
    "## Desempenho\n",
    "\n",
    "Para concluir, vejamos outros indicadores gerais, além dos já mostrados anteriormente, que resumem o desempenho econômico do período: "
   ]
  },
  {
   "cell_type": "markdown",
   "metadata": {
    "slideshow": {
     "slide_type": "fragment"
    }
   },
   "source": [
    "a) resultado nominal do governo central; b) evolução do PIB e do produto industrial e c) nível do PIB per capita em um período longo, 1996 e 2021."
   ]
  },
  {
   "cell_type": "code",
   "execution_count": 113,
   "metadata": {
    "slideshow": {
     "slide_type": "notes"
    }
   },
   "outputs": [],
   "source": [
    "p = pd.read_excel('br_primario_1997_2019.xlsx')\n",
    "\n",
    "gov = p.hvplot.bar('Ano', ['Resultado primário', 'Juros nominais','NFSP'],\n",
    "                   height=450,\n",
    "                   width=800,\n",
    "                   rot=45,\n",
    "                   stacked=True,\n",
    "                   padding=0.02,\n",
    "                   yformatter='%.1f',\n",
    "                   legend='bottom',\n",
    "                   group_label='Resultados fiscais',\n",
    "                   cmap='Set1',\n",
    "                   alpha=0.7,\n",
    "                   xlabel='',\n",
    "                   ylabel='%',\n",
    "                   ylim=(-20, 5),\n",
    "                   label='Resultados do governo central, Brasil, 1997-2019 (% do PIB)'\n",
    "                  ).opts(fontsize={'title': 14, 'labels': 11,\n",
    "                                   'xticks': 11, 'yticks': 11}).opts(multi_level=False)"
   ]
  },
  {
   "cell_type": "code",
   "execution_count": 114,
   "metadata": {
    "slideshow": {
     "slide_type": "slide"
    }
   },
   "outputs": [
    {
     "data": {
      "text/html": [
       "<img src='data:image/png;base64,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' style='max-width:100%; margin: auto; display: block; '/>"
      ],
      "text/plain": [
       ":Bars   [Ano,Resultados fiscais]   (value)"
      ]
     },
     "execution_count": 114,
     "metadata": {
      "application/vnd.holoviews_exec.v0+json": {}
     },
     "output_type": "execute_result"
    }
   ],
   "source": [
    "gov"
   ]
  },
  {
   "cell_type": "code",
   "execution_count": 117,
   "metadata": {
    "slideshow": {
     "slide_type": "notes"
    }
   },
   "outputs": [],
   "source": [
    "pr = pd.read_excel('br_pib_real_1990_2021.xlsx')\n",
    "\n",
    "produto = pr.hvplot.bar('Ano', ['PIB', 'Indústria'],\n",
    "                        height=450,\n",
    "                        width=800,\n",
    "                        stacked=True,\n",
    "                        rot=45,\n",
    "                        padding=0.02,\n",
    "                        legend='bottom',\n",
    "                        cmap='tab10',\n",
    "                        yticks=22,\n",
    "                        ylim=(-14,20),\n",
    "                        xlabel='',\n",
    "                        ylabel='taxa de crescimento anual, %',\n",
    "                        group_label='Produto',\n",
    "                        label='Crescimento do PIB e da indústria, Brasil, 1990-2021'\n",
    "                       ).opts(fontsize={'title': 14, 'labels': 11, 'xticks': 11, \n",
    "                                        'yticks': 11, 'legend': 11}).opts(multi_level=False)"
   ]
  },
  {
   "cell_type": "code",
   "execution_count": 118,
   "metadata": {
    "slideshow": {
     "slide_type": "slide"
    }
   },
   "outputs": [
    {
     "data": {
      "text/html": [
       "<img src='data:image/png;base64,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' style='max-width:100%; margin: auto; display: block; '/>"
      ],
      "text/plain": [
       ":Bars   [Ano,Produto]   (value)"
      ]
     },
     "execution_count": 118,
     "metadata": {
      "application/vnd.holoviews_exec.v0+json": {}
     },
     "output_type": "execute_result"
    }
   ],
   "source": [
    "produto"
   ]
  },
  {
   "cell_type": "code",
   "execution_count": 126,
   "metadata": {
    "slideshow": {
     "slide_type": "notes"
    }
   },
   "outputs": [],
   "source": [
    "p = pd.read_excel('br_pibpc_1996_2021.xlsx')\n",
    "\n",
    "pib_pc = p.hvplot.line('Ano', 'PIB per capita R$ índice',\n",
    "                         height=430,\n",
    "                         width=800,\n",
    "                         rot=30,\n",
    "                         padding=0.05,\n",
    "                         group_label='Resultados',\n",
    "                         legend='bottom',\n",
    "                         cmap='Set1',\n",
    "                         xlabel='',\n",
    "                         ylabel='indice 2000 = 100',\n",
    "                         xlim=(1996, 2021),\n",
    "                         ylim=(90, 140),\n",
    "                         yformatter='%.0f',\n",
    "                         xticks=16,\n",
    "                         yticks=12,\n",
    "                         label='PIB per capita, Brasil, 1996-2021, em R$ constante, 2000=100)'\n",
    "                        ).opts(fontsize={'title': 14, 'labels': 11, 'xticks': 11, \n",
    "                                         'yticks': 11})"
   ]
  },
  {
   "cell_type": "code",
   "execution_count": 127,
   "metadata": {
    "slideshow": {
     "slide_type": "slide"
    }
   },
   "outputs": [
    {
     "data": {
      "text/html": [
       "<img src='data:image/png;base64,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' style='max-width:100%; margin: auto; display: block; '/>"
      ],
      "text/plain": [
       ":Curve   [Ano]   (PIB per capita R$ índice)"
      ]
     },
     "execution_count": 127,
     "metadata": {
      "application/vnd.holoviews_exec.v0+json": {}
     },
     "output_type": "execute_result"
    }
   ],
   "source": [
    "pib_pc"
   ]
  }
 ],
 "metadata": {
  "celltoolbar": "Slideshow",
  "kernelspec": {
   "display_name": "Python 3 (ipykernel)",
   "language": "python",
   "name": "python3"
  },
  "language_info": {
   "codemirror_mode": {
    "name": "ipython",
    "version": 3
   },
   "file_extension": ".py",
   "mimetype": "text/x-python",
   "name": "python",
   "nbconvert_exporter": "python",
   "pygments_lexer": "ipython3",
   "version": "3.9.23"
  },
  "toc": {
   "base_numbering": 1,
   "nav_menu": {},
   "number_sections": false,
   "sideBar": true,
   "skip_h1_title": false,
   "title_cell": "Table of Contents",
   "title_sidebar": "Contents",
   "toc_cell": false,
   "toc_position": {},
   "toc_section_display": true,
   "toc_window_display": false
  }
 },
 "nbformat": 4,
 "nbformat_minor": 4
}
