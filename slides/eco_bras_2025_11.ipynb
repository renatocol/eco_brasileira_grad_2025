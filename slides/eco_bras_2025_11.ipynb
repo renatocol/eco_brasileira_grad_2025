{
 "cells": [
  {
   "cell_type": "markdown",
   "metadata": {
    "heading_collapsed": true,
    "slideshow": {
     "slide_type": "slide"
    }
   },
   "source": [
    "## <center>Economia Brasileira - FEA-USP</center>\n",
    "\n",
    "### <center>Aula 11 - O governo Lula</center>\n",
    "\n",
    "#### <center>Renato Perim Colistete</center>\n",
    "\n",
    "\n",
    "#### <center>2025</center>  "
   ]
  },
  {
   "cell_type": "markdown",
   "metadata": {
    "slideshow": {
     "slide_type": "slide"
    }
   },
   "source": [
    "## Objetivos\n",
    "\n",
    "Nesta aula passaremos em revista as principais medidas econômicas dos dois governos Lula, de 2003 a 2010.\n",
    "\n",
    "Destacaremos a orientação geral da política macroeconômica e alguns dos seus resultados. Enfatizaremos a adesão ao regime de metas de inflação, a condução da política fiscal e o quadro externo.\n",
    "\n",
    "Outros tópicos - política social, distribuição de renda e desempenho da indústria - serão vistos adiante."
   ]
  },
  {
   "cell_type": "markdown",
   "metadata": {
    "slideshow": {
     "slide_type": "slide"
    }
   },
   "source": [
    "## Transição\n",
    "\n",
    "A transição do governo Fernando Henrique Cardoso (jan/1995 a jan/2003) para o governo Luis Inácio da Silva (jan/2003 a jan/2011) foi marcada por instabilidade e incerteza quanto à continuidade da política econômica."
   ]
  },
  {
   "cell_type": "markdown",
   "metadata": {
    "slideshow": {
     "slide_type": "fragment"
    }
   },
   "source": [
    "Porém, como vimos anteriormente, o compromisso com a manutenção da política, firmado pela nova equipe de governo ainda durante as eleições, e as medidas posteriores à posse foram bem-sucedidas em conter a incerteza e a instabilidade."
   ]
  },
  {
   "cell_type": "markdown",
   "metadata": {
    "slideshow": {
     "slide_type": "subslide"
    }
   },
   "source": [
    "Em particular, duas mudanças ocorridas em anos anteriores foram preservadas e continuaram importantes após 2003: o regime de metas de inflação (jun/1999) e a Lei de Responsabilidade Fiscal (maio/2000). "
   ]
  },
  {
   "cell_type": "markdown",
   "metadata": {
    "slideshow": {
     "slide_type": "fragment"
    }
   },
   "source": [
    "A LRF já foi abordada antes, vejamos rapidamente a adoção do regime de metas."
   ]
  },
  {
   "cell_type": "markdown",
   "metadata": {
    "slideshow": {
     "slide_type": "slide"
    }
   },
   "source": [
    "## Metas de inflação\n",
    "\n",
    "O regime de metas de inflação do Banco Central foi adotado em junho de 1999 ([decreto 3.088, 21/6/1999](http://www.planalto.gov.br/ccivil_03/decreto/D3088.htm)) como âncora das expectativas inflacionárias, na sequência da grande flutuação do câmbio naquele ano após longo período de paridade praticamente fixa. Ver [aqui](https://www.bcb.gov.br/controleinflacao/normasinflacao) a legislação completa do regime de metas."
   ]
  },
  {
   "cell_type": "markdown",
   "metadata": {
    "slideshow": {
     "slide_type": "fragment"
    }
   },
   "source": [
    "O princípio básico do regime foi que a meta anunciada publicamente para a inflação futura funcionasse como âncora das expectativas dos agentes em relação aos preços."
   ]
  },
  {
   "cell_type": "markdown",
   "metadata": {
    "slideshow": {
     "slide_type": "fragment"
    }
   },
   "source": [
    "Fixação das metas nos primeiros anos: variação dos preços medidos pelo IPCA, banda de 2%, período de referência de 12 meses (atualmente, meta para 2025 de 3,0%, banda de 1,5%). Ver [aqui](https://www.bcb.gov.br/controleinflacao/normasinflacao) as metas adotadas desde 1999."
   ]
  },
  {
   "cell_type": "markdown",
   "metadata": {
    "slideshow": {
     "slide_type": "slide"
    }
   },
   "source": [
    "## Implementação\n",
    "\n",
    "No caso de descumprimento da meta anunciada (considerando as bandas), o presidente do Banco Central deve anunciar publicamente as razões do desvio, as medidas tomadas para corrigí-lo e o prazo para o retorno à meta. "
   ]
  },
  {
   "cell_type": "markdown",
   "metadata": {
    "slideshow": {
     "slide_type": "fragment"
    }
   },
   "source": [
    "O instrumento único para obtenção das metas é a taxa de juros de curto prazo, apurada no Sistema Especial de\n",
    "Liquidação e Custódia a partir da taxa média dos financiamentos diários (*overnight*), com lastro em títulos federais – ou simplesmente taxa Selic. Ver aqui o [histórico das taxas Selic](https://www.bcb.gov.br/controleinflacao/historicotaxasjuros)."
   ]
  },
  {
   "cell_type": "markdown",
   "metadata": {
    "slideshow": {
     "slide_type": "fragment"
    }
   },
   "source": [
    "O regime de metas pressupõe autonomia do Bacen. A execução operacional das metas fica a cargo do Comitê de Política Monetária (Copom, criado em jun/1996, [Circular no. 2.698 do Bacen](https://www.bcb.gov.br/pre/normativos/circ/1996/pdf/circ_2698_v1_O.pdf)), composto pela diretoria do Bacen e que se reúne aproximadamente a cada 6 semanas. "
   ]
  },
  {
   "cell_type": "markdown",
   "metadata": {
    "editable": true,
    "slideshow": {
     "slide_type": "subslide"
    },
    "tags": []
   },
   "source": [
    "O Conselho Monetário Nacional (CMN, composto pelos titulares do Ministério da Fazenda, Ministério do Planejamento e da presidência do Banco Central) define a política monetária, creditícia e cambial, inclusive a meta de inflação."
   ]
  },
  {
   "cell_type": "markdown",
   "metadata": {
    "editable": true,
    "slideshow": {
     "slide_type": "slide"
    },
    "tags": []
   },
   "source": [
    "## Contexto\n",
    "\n",
    "Antes concentrada no controle da oferta monetária, a política monetária mudou (últimos 20/25 anos internacionalmente) para o controle da taxa de juros básica. "
   ]
  },
  {
   "cell_type": "markdown",
   "metadata": {
    "slideshow": {
     "slide_type": "fragment"
    }
   },
   "source": [
    "Razões: endogeneidadede da oferta de moeda, flutuação acentuada da demanda de moeda, inovações financeiras. "
   ]
  },
  {
   "cell_type": "markdown",
   "metadata": {
    "slideshow": {
     "slide_type": "fragment"
    }
   },
   "source": [
    "Novo regime: política de metas de inflação e autonomia da Autoridade Monetária como forma de coordenar e disciplinar expectativas de preços dos agentes."
   ]
  },
  {
   "cell_type": "markdown",
   "metadata": {
    "slideshow": {
     "slide_type": "slide"
    }
   },
   "source": [
    "## Instabilidade\n",
    "\n",
    "Com a aproximação das eleições em out/2002 e aumento da incerteza quanto ao futuro da política econômica, a inflação anualizada subiu no final do governo FH Cardoso. "
   ]
  },
  {
   "cell_type": "markdown",
   "metadata": {
    "slideshow": {
     "slide_type": "fragment"
    }
   },
   "source": [
    "Confirmada a vitória da oposição, os preços deram um salto nas primeiras semanas de 2003 (+- 18%, IPCA)."
   ]
  },
  {
   "cell_type": "markdown",
   "metadata": {
    "slideshow": {
     "slide_type": "fragment"
    }
   },
   "source": [
    "Com preços disparando, fuga de capital e desvalorização do Real, o Banco Central atuou subindo a taxa Selic de 18% para 25% *antes* da posse do novo governo Lula."
   ]
  },
  {
   "cell_type": "markdown",
   "metadata": {
    "slideshow": {
     "slide_type": "slide"
    }
   },
   "source": [
    "## Primeiros meses do novo governo\n",
    "\n",
    "As medidas iniciais do novo governo Lula visaram demonstrar o compromisso com a estabilidade de preços e consistência com a política macroeconômica do governo anterior. Alguns exemplos:"
   ]
  },
  {
   "cell_type": "markdown",
   "metadata": {
    "slideshow": {
     "slide_type": "fragment"
    }
   },
   "source": [
    "- nomeação de Henrique Meirelles (Banco de Boston até 2002, recém-eleito deputado federal pelo PSDB de Goiás) para a presidência do Banco Central."
   ]
  },
  {
   "cell_type": "markdown",
   "metadata": {
    "slideshow": {
     "slide_type": "fragment"
    }
   },
   "source": [
    "- Anúncio (em 21/1/2003) de metas de inflação para 2003 (8,5%) e 2004 (5,5%) com o intuito de atingir o intervalo de tolerância fixado anteriormente (2002) para 2004 (meta de 3,75% e banda de 2,5%). "
   ]
  },
  {
   "cell_type": "markdown",
   "metadata": {
    "slideshow": {
     "slide_type": "subslide"
    }
   },
   "source": [
    "- Notar que a inflação de 2002 foi de 12,5%, contra a meta de 3,5%, com banda de +-2% (ver gráfico adiante)."
   ]
  },
  {
   "cell_type": "markdown",
   "metadata": {
    "slideshow": {
     "slide_type": "slide"
    }
   },
   "source": [
    "## Mais medidas\n",
    "\n",
    "- elevação em 0,5% da taxa Selic na 1a reunião do Copom do novo Banco Central (jan/2003): de 25% para 25,5% a.a."
   ]
  },
  {
   "cell_type": "markdown",
   "metadata": {
    "slideshow": {
     "slide_type": "fragment"
    }
   },
   "source": [
    "- em fev/2003, o novo ministro da Fazenda, Antonio Palocci, anunciou aumento da meta de superávit primário para aquele ano, de 3,75% para 4,25% do PIB."
   ]
  },
  {
   "cell_type": "markdown",
   "metadata": {
    "slideshow": {
     "slide_type": "fragment"
    }
   },
   "source": [
    " Ver metas e resultados a seguir."
   ]
  },
  {
   "cell_type": "markdown",
   "metadata": {
    "slideshow": {
     "slide_type": "subslide"
    }
   },
   "source": [
    "### <center>Metas e inflação observada</center>\n",
    "\n",
    "<center><img src=\"br_regime_metas.png\" width=\"700\"></center>"
   ]
  },
  {
   "cell_type": "markdown",
   "metadata": {
    "slideshow": {
     "slide_type": "slide"
    }
   },
   "source": [
    "## Política fiscal\n",
    "\n",
    "E a politica fiscal no novo governo Lula? Em 2003, houve queda da arrecadação, que foi acompanhada por redução de gastos, sobretudo na rubrica “Outras despesas de custeio e capital”."
   ]
  },
  {
   "cell_type": "markdown",
   "metadata": {
    "slideshow": {
     "slide_type": "fragment"
    }
   },
   "source": [
    "Desta forma, alcançou-se o compromisso de manter elevado o superávit primário do setor público (3,27% do PIB contra 3,22% em 2002), embora bastante aquém da meta anunciada em fevereiro (4,75%)."
   ]
  },
  {
   "cell_type": "markdown",
   "metadata": {
    "editable": true,
    "slideshow": {
     "slide_type": "fragment"
    },
    "tags": []
   },
   "source": [
    "Nos anos seguintes a política foi mantida; inclusive, em 2004 e 2005 houve aumentos substanciais do superávit primário – 3,72% e 3,79% do PIB, respectivamente (a figura a seguir refere-se ao primário do governo central apenas)."
   ]
  },
  {
   "cell_type": "code",
   "execution_count": 153,
   "metadata": {
    "editable": true,
    "slideshow": {
     "slide_type": "notes"
    },
    "tags": []
   },
   "outputs": [
    {
     "data": {
      "application/javascript": [
       "(function(root) {\n",
       "  function now() {\n",
       "    return new Date();\n",
       "  }\n",
       "\n",
       "  var force = true;\n",
       "  var py_version = '3.4.2'.replace('rc', '-rc.').replace('.dev', '-dev.');\n",
       "  var reloading = false;\n",
       "  var Bokeh = root.Bokeh;\n",
       "\n",
       "  if (typeof (root._bokeh_timeout) === \"undefined\" || force) {\n",
       "    root._bokeh_timeout = Date.now() + 5000;\n",
       "    root._bokeh_failed_load = false;\n",
       "  }\n",
       "\n",
       "  function run_callbacks() {\n",
       "    try {\n",
       "      root._bokeh_onload_callbacks.forEach(function(callback) {\n",
       "        if (callback != null)\n",
       "          callback();\n",
       "      });\n",
       "    } finally {\n",
       "      delete root._bokeh_onload_callbacks;\n",
       "    }\n",
       "    console.debug(\"Bokeh: all callbacks have finished\");\n",
       "  }\n",
       "\n",
       "  function load_libs(css_urls, js_urls, js_modules, js_exports, callback) {\n",
       "    if (css_urls == null) css_urls = [];\n",
       "    if (js_urls == null) js_urls = [];\n",
       "    if (js_modules == null) js_modules = [];\n",
       "    if (js_exports == null) js_exports = {};\n",
       "\n",
       "    root._bokeh_onload_callbacks.push(callback);\n",
       "\n",
       "    if (root._bokeh_is_loading > 0) {\n",
       "      console.debug(\"Bokeh: BokehJS is being loaded, scheduling callback at\", now());\n",
       "      return null;\n",
       "    }\n",
       "    if (js_urls.length === 0 && js_modules.length === 0 && Object.keys(js_exports).length === 0) {\n",
       "      run_callbacks();\n",
       "      return null;\n",
       "    }\n",
       "    if (!reloading) {\n",
       "      console.debug(\"Bokeh: BokehJS not loaded, scheduling load and callback at\", now());\n",
       "    }\n",
       "\n",
       "    function on_load() {\n",
       "      root._bokeh_is_loading--;\n",
       "      if (root._bokeh_is_loading === 0) {\n",
       "        console.debug(\"Bokeh: all BokehJS libraries/stylesheets loaded\");\n",
       "        run_callbacks()\n",
       "      }\n",
       "    }\n",
       "    window._bokeh_on_load = on_load\n",
       "\n",
       "    function on_error() {\n",
       "      console.error(\"failed to load \" + url);\n",
       "    }\n",
       "\n",
       "    var skip = [];\n",
       "    if (window.requirejs) {\n",
       "      window.requirejs.config({'packages': {}, 'paths': {}, 'shim': {}});\n",
       "      root._bokeh_is_loading = css_urls.length + 0;\n",
       "    } else {\n",
       "      root._bokeh_is_loading = css_urls.length + js_urls.length + js_modules.length + Object.keys(js_exports).length;\n",
       "    }\n",
       "\n",
       "    var existing_stylesheets = []\n",
       "    var links = document.getElementsByTagName('link')\n",
       "    for (var i = 0; i < links.length; i++) {\n",
       "      var link = links[i]\n",
       "      if (link.href != null) {\n",
       "\texisting_stylesheets.push(link.href)\n",
       "      }\n",
       "    }\n",
       "    for (var i = 0; i < css_urls.length; i++) {\n",
       "      var url = css_urls[i];\n",
       "      if (existing_stylesheets.indexOf(url) !== -1) {\n",
       "\ton_load()\n",
       "\tcontinue;\n",
       "      }\n",
       "      const element = document.createElement(\"link\");\n",
       "      element.onload = on_load;\n",
       "      element.onerror = on_error;\n",
       "      element.rel = \"stylesheet\";\n",
       "      element.type = \"text/css\";\n",
       "      element.href = url;\n",
       "      console.debug(\"Bokeh: injecting link tag for BokehJS stylesheet: \", url);\n",
       "      document.body.appendChild(element);\n",
       "    }    var existing_scripts = []\n",
       "    var scripts = document.getElementsByTagName('script')\n",
       "    for (var i = 0; i < scripts.length; i++) {\n",
       "      var script = scripts[i]\n",
       "      if (script.src != null) {\n",
       "\texisting_scripts.push(script.src)\n",
       "      }\n",
       "    }\n",
       "    for (var i = 0; i < js_urls.length; i++) {\n",
       "      var url = js_urls[i];\n",
       "      if (skip.indexOf(url) !== -1 || existing_scripts.indexOf(url) !== -1) {\n",
       "\tif (!window.requirejs) {\n",
       "\t  on_load();\n",
       "\t}\n",
       "\tcontinue;\n",
       "      }\n",
       "      var element = document.createElement('script');\n",
       "      element.onload = on_load;\n",
       "      element.onerror = on_error;\n",
       "      element.async = false;\n",
       "      element.src = url;\n",
       "      console.debug(\"Bokeh: injecting script tag for BokehJS library: \", url);\n",
       "      document.head.appendChild(element);\n",
       "    }\n",
       "    for (var i = 0; i < js_modules.length; i++) {\n",
       "      var url = js_modules[i];\n",
       "      if (skip.indexOf(url) !== -1 || existing_scripts.indexOf(url) !== -1) {\n",
       "\tif (!window.requirejs) {\n",
       "\t  on_load();\n",
       "\t}\n",
       "\tcontinue;\n",
       "      }\n",
       "      var element = document.createElement('script');\n",
       "      element.onload = on_load;\n",
       "      element.onerror = on_error;\n",
       "      element.async = false;\n",
       "      element.src = url;\n",
       "      element.type = \"module\";\n",
       "      console.debug(\"Bokeh: injecting script tag for BokehJS library: \", url);\n",
       "      document.head.appendChild(element);\n",
       "    }\n",
       "    for (const name in js_exports) {\n",
       "      var url = js_exports[name];\n",
       "      if (skip.indexOf(url) >= 0 || root[name] != null) {\n",
       "\tif (!window.requirejs) {\n",
       "\t  on_load();\n",
       "\t}\n",
       "\tcontinue;\n",
       "      }\n",
       "      var element = document.createElement('script');\n",
       "      element.onerror = on_error;\n",
       "      element.async = false;\n",
       "      element.type = \"module\";\n",
       "      console.debug(\"Bokeh: injecting script tag for BokehJS library: \", url);\n",
       "      element.textContent = `\n",
       "      import ${name} from \"${url}\"\n",
       "      window.${name} = ${name}\n",
       "      window._bokeh_on_load()\n",
       "      `\n",
       "      document.head.appendChild(element);\n",
       "    }\n",
       "    if (!js_urls.length && !js_modules.length) {\n",
       "      on_load()\n",
       "    }\n",
       "  };\n",
       "\n",
       "  function inject_raw_css(css) {\n",
       "    const element = document.createElement(\"style\");\n",
       "    element.appendChild(document.createTextNode(css));\n",
       "    document.body.appendChild(element);\n",
       "  }\n",
       "\n",
       "  var js_urls = [\"https://cdn.bokeh.org/bokeh/release/bokeh-3.4.2.min.js\", \"https://cdn.bokeh.org/bokeh/release/bokeh-gl-3.4.2.min.js\", \"https://cdn.bokeh.org/bokeh/release/bokeh-widgets-3.4.2.min.js\", \"https://cdn.bokeh.org/bokeh/release/bokeh-tables-3.4.2.min.js\", \"https://cdn.holoviz.org/panel/1.4.5/dist/panel.min.js\"];\n",
       "  var js_modules = [];\n",
       "  var js_exports = {};\n",
       "  var css_urls = [];\n",
       "  var inline_js = [    function(Bokeh) {\n",
       "      Bokeh.set_log_level(\"info\");\n",
       "    },\n",
       "function(Bokeh) {} // ensure no trailing comma for IE\n",
       "  ];\n",
       "\n",
       "  function run_inline_js() {\n",
       "    if ((root.Bokeh !== undefined) || (force === true)) {\n",
       "      for (var i = 0; i < inline_js.length; i++) {\n",
       "\ttry {\n",
       "          inline_js[i].call(root, root.Bokeh);\n",
       "\t} catch(e) {\n",
       "\t  if (!reloading) {\n",
       "\t    throw e;\n",
       "\t  }\n",
       "\t}\n",
       "      }\n",
       "      // Cache old bokeh versions\n",
       "      if (Bokeh != undefined && !reloading) {\n",
       "\tvar NewBokeh = root.Bokeh;\n",
       "\tif (Bokeh.versions === undefined) {\n",
       "\t  Bokeh.versions = new Map();\n",
       "\t}\n",
       "\tif (NewBokeh.version !== Bokeh.version) {\n",
       "\t  Bokeh.versions.set(NewBokeh.version, NewBokeh)\n",
       "\t}\n",
       "\troot.Bokeh = Bokeh;\n",
       "      }} else if (Date.now() < root._bokeh_timeout) {\n",
       "      setTimeout(run_inline_js, 100);\n",
       "    } else if (!root._bokeh_failed_load) {\n",
       "      console.log(\"Bokeh: BokehJS failed to load within specified timeout.\");\n",
       "      root._bokeh_failed_load = true;\n",
       "    }\n",
       "    root._bokeh_is_initializing = false\n",
       "  }\n",
       "\n",
       "  function load_or_wait() {\n",
       "    // Implement a backoff loop that tries to ensure we do not load multiple\n",
       "    // versions of Bokeh and its dependencies at the same time.\n",
       "    // In recent versions we use the root._bokeh_is_initializing flag\n",
       "    // to determine whether there is an ongoing attempt to initialize\n",
       "    // bokeh, however for backward compatibility we also try to ensure\n",
       "    // that we do not start loading a newer (Panel>=1.0 and Bokeh>3) version\n",
       "    // before older versions are fully initialized.\n",
       "    if (root._bokeh_is_initializing && Date.now() > root._bokeh_timeout) {\n",
       "      root._bokeh_is_initializing = false;\n",
       "      root._bokeh_onload_callbacks = undefined;\n",
       "      console.log(\"Bokeh: BokehJS was loaded multiple times but one version failed to initialize.\");\n",
       "      load_or_wait();\n",
       "    } else if (root._bokeh_is_initializing || (typeof root._bokeh_is_initializing === \"undefined\" && root._bokeh_onload_callbacks !== undefined)) {\n",
       "      setTimeout(load_or_wait, 100);\n",
       "    } else {\n",
       "      root._bokeh_is_initializing = true\n",
       "      root._bokeh_onload_callbacks = []\n",
       "      var bokeh_loaded = Bokeh != null && (Bokeh.version === py_version || (Bokeh.versions !== undefined && Bokeh.versions.has(py_version)));\n",
       "      if (!reloading && !bokeh_loaded) {\n",
       "\troot.Bokeh = undefined;\n",
       "      }\n",
       "      load_libs(css_urls, js_urls, js_modules, js_exports, function() {\n",
       "\tconsole.debug(\"Bokeh: BokehJS plotting callback run at\", now());\n",
       "\trun_inline_js();\n",
       "      });\n",
       "    }\n",
       "  }\n",
       "  // Give older versions of the autoload script a head-start to ensure\n",
       "  // they initialize before we start loading newer version.\n",
       "  setTimeout(load_or_wait, 100)\n",
       "}(window));"
      ],
      "application/vnd.holoviews_load.v0+json": "(function(root) {\n  function now() {\n    return new Date();\n  }\n\n  var force = true;\n  var py_version = '3.4.2'.replace('rc', '-rc.').replace('.dev', '-dev.');\n  var reloading = false;\n  var Bokeh = root.Bokeh;\n\n  if (typeof (root._bokeh_timeout) === \"undefined\" || force) {\n    root._bokeh_timeout = Date.now() + 5000;\n    root._bokeh_failed_load = false;\n  }\n\n  function run_callbacks() {\n    try {\n      root._bokeh_onload_callbacks.forEach(function(callback) {\n        if (callback != null)\n          callback();\n      });\n    } finally {\n      delete root._bokeh_onload_callbacks;\n    }\n    console.debug(\"Bokeh: all callbacks have finished\");\n  }\n\n  function load_libs(css_urls, js_urls, js_modules, js_exports, callback) {\n    if (css_urls == null) css_urls = [];\n    if (js_urls == null) js_urls = [];\n    if (js_modules == null) js_modules = [];\n    if (js_exports == null) js_exports = {};\n\n    root._bokeh_onload_callbacks.push(callback);\n\n    if (root._bokeh_is_loading > 0) {\n      console.debug(\"Bokeh: BokehJS is being loaded, scheduling callback at\", now());\n      return null;\n    }\n    if (js_urls.length === 0 && js_modules.length === 0 && Object.keys(js_exports).length === 0) {\n      run_callbacks();\n      return null;\n    }\n    if (!reloading) {\n      console.debug(\"Bokeh: BokehJS not loaded, scheduling load and callback at\", now());\n    }\n\n    function on_load() {\n      root._bokeh_is_loading--;\n      if (root._bokeh_is_loading === 0) {\n        console.debug(\"Bokeh: all BokehJS libraries/stylesheets loaded\");\n        run_callbacks()\n      }\n    }\n    window._bokeh_on_load = on_load\n\n    function on_error() {\n      console.error(\"failed to load \" + url);\n    }\n\n    var skip = [];\n    if (window.requirejs) {\n      window.requirejs.config({'packages': {}, 'paths': {}, 'shim': {}});\n      root._bokeh_is_loading = css_urls.length + 0;\n    } else {\n      root._bokeh_is_loading = css_urls.length + js_urls.length + js_modules.length + Object.keys(js_exports).length;\n    }\n\n    var existing_stylesheets = []\n    var links = document.getElementsByTagName('link')\n    for (var i = 0; i < links.length; i++) {\n      var link = links[i]\n      if (link.href != null) {\n\texisting_stylesheets.push(link.href)\n      }\n    }\n    for (var i = 0; i < css_urls.length; i++) {\n      var url = css_urls[i];\n      if (existing_stylesheets.indexOf(url) !== -1) {\n\ton_load()\n\tcontinue;\n      }\n      const element = document.createElement(\"link\");\n      element.onload = on_load;\n      element.onerror = on_error;\n      element.rel = \"stylesheet\";\n      element.type = \"text/css\";\n      element.href = url;\n      console.debug(\"Bokeh: injecting link tag for BokehJS stylesheet: \", url);\n      document.body.appendChild(element);\n    }    var existing_scripts = []\n    var scripts = document.getElementsByTagName('script')\n    for (var i = 0; i < scripts.length; i++) {\n      var script = scripts[i]\n      if (script.src != null) {\n\texisting_scripts.push(script.src)\n      }\n    }\n    for (var i = 0; i < js_urls.length; i++) {\n      var url = js_urls[i];\n      if (skip.indexOf(url) !== -1 || existing_scripts.indexOf(url) !== -1) {\n\tif (!window.requirejs) {\n\t  on_load();\n\t}\n\tcontinue;\n      }\n      var element = document.createElement('script');\n      element.onload = on_load;\n      element.onerror = on_error;\n      element.async = false;\n      element.src = url;\n      console.debug(\"Bokeh: injecting script tag for BokehJS library: \", url);\n      document.head.appendChild(element);\n    }\n    for (var i = 0; i < js_modules.length; i++) {\n      var url = js_modules[i];\n      if (skip.indexOf(url) !== -1 || existing_scripts.indexOf(url) !== -1) {\n\tif (!window.requirejs) {\n\t  on_load();\n\t}\n\tcontinue;\n      }\n      var element = document.createElement('script');\n      element.onload = on_load;\n      element.onerror = on_error;\n      element.async = false;\n      element.src = url;\n      element.type = \"module\";\n      console.debug(\"Bokeh: injecting script tag for BokehJS library: \", url);\n      document.head.appendChild(element);\n    }\n    for (const name in js_exports) {\n      var url = js_exports[name];\n      if (skip.indexOf(url) >= 0 || root[name] != null) {\n\tif (!window.requirejs) {\n\t  on_load();\n\t}\n\tcontinue;\n      }\n      var element = document.createElement('script');\n      element.onerror = on_error;\n      element.async = false;\n      element.type = \"module\";\n      console.debug(\"Bokeh: injecting script tag for BokehJS library: \", url);\n      element.textContent = `\n      import ${name} from \"${url}\"\n      window.${name} = ${name}\n      window._bokeh_on_load()\n      `\n      document.head.appendChild(element);\n    }\n    if (!js_urls.length && !js_modules.length) {\n      on_load()\n    }\n  };\n\n  function inject_raw_css(css) {\n    const element = document.createElement(\"style\");\n    element.appendChild(document.createTextNode(css));\n    document.body.appendChild(element);\n  }\n\n  var js_urls = [\"https://cdn.bokeh.org/bokeh/release/bokeh-3.4.2.min.js\", \"https://cdn.bokeh.org/bokeh/release/bokeh-gl-3.4.2.min.js\", \"https://cdn.bokeh.org/bokeh/release/bokeh-widgets-3.4.2.min.js\", \"https://cdn.bokeh.org/bokeh/release/bokeh-tables-3.4.2.min.js\", \"https://cdn.holoviz.org/panel/1.4.5/dist/panel.min.js\"];\n  var js_modules = [];\n  var js_exports = {};\n  var css_urls = [];\n  var inline_js = [    function(Bokeh) {\n      Bokeh.set_log_level(\"info\");\n    },\nfunction(Bokeh) {} // ensure no trailing comma for IE\n  ];\n\n  function run_inline_js() {\n    if ((root.Bokeh !== undefined) || (force === true)) {\n      for (var i = 0; i < inline_js.length; i++) {\n\ttry {\n          inline_js[i].call(root, root.Bokeh);\n\t} catch(e) {\n\t  if (!reloading) {\n\t    throw e;\n\t  }\n\t}\n      }\n      // Cache old bokeh versions\n      if (Bokeh != undefined && !reloading) {\n\tvar NewBokeh = root.Bokeh;\n\tif (Bokeh.versions === undefined) {\n\t  Bokeh.versions = new Map();\n\t}\n\tif (NewBokeh.version !== Bokeh.version) {\n\t  Bokeh.versions.set(NewBokeh.version, NewBokeh)\n\t}\n\troot.Bokeh = Bokeh;\n      }} else if (Date.now() < root._bokeh_timeout) {\n      setTimeout(run_inline_js, 100);\n    } else if (!root._bokeh_failed_load) {\n      console.log(\"Bokeh: BokehJS failed to load within specified timeout.\");\n      root._bokeh_failed_load = true;\n    }\n    root._bokeh_is_initializing = false\n  }\n\n  function load_or_wait() {\n    // Implement a backoff loop that tries to ensure we do not load multiple\n    // versions of Bokeh and its dependencies at the same time.\n    // In recent versions we use the root._bokeh_is_initializing flag\n    // to determine whether there is an ongoing attempt to initialize\n    // bokeh, however for backward compatibility we also try to ensure\n    // that we do not start loading a newer (Panel>=1.0 and Bokeh>3) version\n    // before older versions are fully initialized.\n    if (root._bokeh_is_initializing && Date.now() > root._bokeh_timeout) {\n      root._bokeh_is_initializing = false;\n      root._bokeh_onload_callbacks = undefined;\n      console.log(\"Bokeh: BokehJS was loaded multiple times but one version failed to initialize.\");\n      load_or_wait();\n    } else if (root._bokeh_is_initializing || (typeof root._bokeh_is_initializing === \"undefined\" && root._bokeh_onload_callbacks !== undefined)) {\n      setTimeout(load_or_wait, 100);\n    } else {\n      root._bokeh_is_initializing = true\n      root._bokeh_onload_callbacks = []\n      var bokeh_loaded = Bokeh != null && (Bokeh.version === py_version || (Bokeh.versions !== undefined && Bokeh.versions.has(py_version)));\n      if (!reloading && !bokeh_loaded) {\n\troot.Bokeh = undefined;\n      }\n      load_libs(css_urls, js_urls, js_modules, js_exports, function() {\n\tconsole.debug(\"Bokeh: BokehJS plotting callback run at\", now());\n\trun_inline_js();\n      });\n    }\n  }\n  // Give older versions of the autoload script a head-start to ensure\n  // they initialize before we start loading newer version.\n  setTimeout(load_or_wait, 100)\n}(window));"
     },
     "metadata": {},
     "output_type": "display_data"
    },
    {
     "data": {
      "application/javascript": [
       "\n",
       "if ((window.PyViz === undefined) || (window.PyViz instanceof HTMLElement)) {\n",
       "  window.PyViz = {comms: {}, comm_status:{}, kernels:{}, receivers: {}, plot_index: []}\n",
       "}\n",
       "\n",
       "\n",
       "    function JupyterCommManager() {\n",
       "    }\n",
       "\n",
       "    JupyterCommManager.prototype.register_target = function(plot_id, comm_id, msg_handler) {\n",
       "      if (window.comm_manager || ((window.Jupyter !== undefined) && (Jupyter.notebook.kernel != null))) {\n",
       "        var comm_manager = window.comm_manager || Jupyter.notebook.kernel.comm_manager;\n",
       "        comm_manager.register_target(comm_id, function(comm) {\n",
       "          comm.on_msg(msg_handler);\n",
       "        });\n",
       "      } else if ((plot_id in window.PyViz.kernels) && (window.PyViz.kernels[plot_id])) {\n",
       "        window.PyViz.kernels[plot_id].registerCommTarget(comm_id, function(comm) {\n",
       "          comm.onMsg = msg_handler;\n",
       "        });\n",
       "      } else if (typeof google != 'undefined' && google.colab.kernel != null) {\n",
       "        google.colab.kernel.comms.registerTarget(comm_id, (comm) => {\n",
       "          var messages = comm.messages[Symbol.asyncIterator]();\n",
       "          function processIteratorResult(result) {\n",
       "            var message = result.value;\n",
       "            console.log(message)\n",
       "            var content = {data: message.data, comm_id};\n",
       "            var buffers = []\n",
       "            for (var buffer of message.buffers || []) {\n",
       "              buffers.push(new DataView(buffer))\n",
       "            }\n",
       "            var metadata = message.metadata || {};\n",
       "            var msg = {content, buffers, metadata}\n",
       "            msg_handler(msg);\n",
       "            return messages.next().then(processIteratorResult);\n",
       "          }\n",
       "          return messages.next().then(processIteratorResult);\n",
       "        })\n",
       "      }\n",
       "    }\n",
       "\n",
       "    JupyterCommManager.prototype.get_client_comm = function(plot_id, comm_id, msg_handler) {\n",
       "      if (comm_id in window.PyViz.comms) {\n",
       "        return window.PyViz.comms[comm_id];\n",
       "      } else if (window.comm_manager || ((window.Jupyter !== undefined) && (Jupyter.notebook.kernel != null))) {\n",
       "        var comm_manager = window.comm_manager || Jupyter.notebook.kernel.comm_manager;\n",
       "        var comm = comm_manager.new_comm(comm_id, {}, {}, {}, comm_id);\n",
       "        if (msg_handler) {\n",
       "          comm.on_msg(msg_handler);\n",
       "        }\n",
       "      } else if ((plot_id in window.PyViz.kernels) && (window.PyViz.kernels[plot_id])) {\n",
       "        var comm = window.PyViz.kernels[plot_id].connectToComm(comm_id);\n",
       "        comm.open();\n",
       "        if (msg_handler) {\n",
       "          comm.onMsg = msg_handler;\n",
       "        }\n",
       "      } else if (typeof google != 'undefined' && google.colab.kernel != null) {\n",
       "        var comm_promise = google.colab.kernel.comms.open(comm_id)\n",
       "        comm_promise.then((comm) => {\n",
       "          window.PyViz.comms[comm_id] = comm;\n",
       "          if (msg_handler) {\n",
       "            var messages = comm.messages[Symbol.asyncIterator]();\n",
       "            function processIteratorResult(result) {\n",
       "              var message = result.value;\n",
       "              var content = {data: message.data};\n",
       "              var metadata = message.metadata || {comm_id};\n",
       "              var msg = {content, metadata}\n",
       "              msg_handler(msg);\n",
       "              return messages.next().then(processIteratorResult);\n",
       "            }\n",
       "            return messages.next().then(processIteratorResult);\n",
       "          }\n",
       "        })\n",
       "        var sendClosure = (data, metadata, buffers, disposeOnDone) => {\n",
       "          return comm_promise.then((comm) => {\n",
       "            comm.send(data, metadata, buffers, disposeOnDone);\n",
       "          });\n",
       "        };\n",
       "        var comm = {\n",
       "          send: sendClosure\n",
       "        };\n",
       "      }\n",
       "      window.PyViz.comms[comm_id] = comm;\n",
       "      return comm;\n",
       "    }\n",
       "    window.PyViz.comm_manager = new JupyterCommManager();\n",
       "    \n",
       "\n",
       "\n",
       "var JS_MIME_TYPE = 'application/javascript';\n",
       "var HTML_MIME_TYPE = 'text/html';\n",
       "var EXEC_MIME_TYPE = 'application/vnd.holoviews_exec.v0+json';\n",
       "var CLASS_NAME = 'output';\n",
       "\n",
       "/**\n",
       " * Render data to the DOM node\n",
       " */\n",
       "function render(props, node) {\n",
       "  var div = document.createElement(\"div\");\n",
       "  var script = document.createElement(\"script\");\n",
       "  node.appendChild(div);\n",
       "  node.appendChild(script);\n",
       "}\n",
       "\n",
       "/**\n",
       " * Handle when a new output is added\n",
       " */\n",
       "function handle_add_output(event, handle) {\n",
       "  var output_area = handle.output_area;\n",
       "  var output = handle.output;\n",
       "  if ((output.data == undefined) || (!output.data.hasOwnProperty(EXEC_MIME_TYPE))) {\n",
       "    return\n",
       "  }\n",
       "  var id = output.metadata[EXEC_MIME_TYPE][\"id\"];\n",
       "  var toinsert = output_area.element.find(\".\" + CLASS_NAME.split(' ')[0]);\n",
       "  if (id !== undefined) {\n",
       "    var nchildren = toinsert.length;\n",
       "    var html_node = toinsert[nchildren-1].children[0];\n",
       "    html_node.innerHTML = output.data[HTML_MIME_TYPE];\n",
       "    var scripts = [];\n",
       "    var nodelist = html_node.querySelectorAll(\"script\");\n",
       "    for (var i in nodelist) {\n",
       "      if (nodelist.hasOwnProperty(i)) {\n",
       "        scripts.push(nodelist[i])\n",
       "      }\n",
       "    }\n",
       "\n",
       "    scripts.forEach( function (oldScript) {\n",
       "      var newScript = document.createElement(\"script\");\n",
       "      var attrs = [];\n",
       "      var nodemap = oldScript.attributes;\n",
       "      for (var j in nodemap) {\n",
       "        if (nodemap.hasOwnProperty(j)) {\n",
       "          attrs.push(nodemap[j])\n",
       "        }\n",
       "      }\n",
       "      attrs.forEach(function(attr) { newScript.setAttribute(attr.name, attr.value) });\n",
       "      newScript.appendChild(document.createTextNode(oldScript.innerHTML));\n",
       "      oldScript.parentNode.replaceChild(newScript, oldScript);\n",
       "    });\n",
       "    if (JS_MIME_TYPE in output.data) {\n",
       "      toinsert[nchildren-1].children[1].textContent = output.data[JS_MIME_TYPE];\n",
       "    }\n",
       "    output_area._hv_plot_id = id;\n",
       "    if ((window.Bokeh !== undefined) && (id in Bokeh.index)) {\n",
       "      window.PyViz.plot_index[id] = Bokeh.index[id];\n",
       "    } else {\n",
       "      window.PyViz.plot_index[id] = null;\n",
       "    }\n",
       "  } else if (output.metadata[EXEC_MIME_TYPE][\"server_id\"] !== undefined) {\n",
       "    var bk_div = document.createElement(\"div\");\n",
       "    bk_div.innerHTML = output.data[HTML_MIME_TYPE];\n",
       "    var script_attrs = bk_div.children[0].attributes;\n",
       "    for (var i = 0; i < script_attrs.length; i++) {\n",
       "      toinsert[toinsert.length - 1].childNodes[1].setAttribute(script_attrs[i].name, script_attrs[i].value);\n",
       "    }\n",
       "    // store reference to server id on output_area\n",
       "    output_area._bokeh_server_id = output.metadata[EXEC_MIME_TYPE][\"server_id\"];\n",
       "  }\n",
       "}\n",
       "\n",
       "/**\n",
       " * Handle when an output is cleared or removed\n",
       " */\n",
       "function handle_clear_output(event, handle) {\n",
       "  var id = handle.cell.output_area._hv_plot_id;\n",
       "  var server_id = handle.cell.output_area._bokeh_server_id;\n",
       "  if (((id === undefined) || !(id in PyViz.plot_index)) && (server_id !== undefined)) { return; }\n",
       "  var comm = window.PyViz.comm_manager.get_client_comm(\"hv-extension-comm\", \"hv-extension-comm\", function () {});\n",
       "  if (server_id !== null) {\n",
       "    comm.send({event_type: 'server_delete', 'id': server_id});\n",
       "    return;\n",
       "  } else if (comm !== null) {\n",
       "    comm.send({event_type: 'delete', 'id': id});\n",
       "  }\n",
       "  delete PyViz.plot_index[id];\n",
       "  if ((window.Bokeh !== undefined) & (id in window.Bokeh.index)) {\n",
       "    var doc = window.Bokeh.index[id].model.document\n",
       "    doc.clear();\n",
       "    const i = window.Bokeh.documents.indexOf(doc);\n",
       "    if (i > -1) {\n",
       "      window.Bokeh.documents.splice(i, 1);\n",
       "    }\n",
       "  }\n",
       "}\n",
       "\n",
       "/**\n",
       " * Handle kernel restart event\n",
       " */\n",
       "function handle_kernel_cleanup(event, handle) {\n",
       "  delete PyViz.comms[\"hv-extension-comm\"];\n",
       "  window.PyViz.plot_index = {}\n",
       "}\n",
       "\n",
       "/**\n",
       " * Handle update_display_data messages\n",
       " */\n",
       "function handle_update_output(event, handle) {\n",
       "  handle_clear_output(event, {cell: {output_area: handle.output_area}})\n",
       "  handle_add_output(event, handle)\n",
       "}\n",
       "\n",
       "function register_renderer(events, OutputArea) {\n",
       "  function append_mime(data, metadata, element) {\n",
       "    // create a DOM node to render to\n",
       "    var toinsert = this.create_output_subarea(\n",
       "    metadata,\n",
       "    CLASS_NAME,\n",
       "    EXEC_MIME_TYPE\n",
       "    );\n",
       "    this.keyboard_manager.register_events(toinsert);\n",
       "    // Render to node\n",
       "    var props = {data: data, metadata: metadata[EXEC_MIME_TYPE]};\n",
       "    render(props, toinsert[0]);\n",
       "    element.append(toinsert);\n",
       "    return toinsert\n",
       "  }\n",
       "\n",
       "  events.on('output_added.OutputArea', handle_add_output);\n",
       "  events.on('output_updated.OutputArea', handle_update_output);\n",
       "  events.on('clear_output.CodeCell', handle_clear_output);\n",
       "  events.on('delete.Cell', handle_clear_output);\n",
       "  events.on('kernel_ready.Kernel', handle_kernel_cleanup);\n",
       "\n",
       "  OutputArea.prototype.register_mime_type(EXEC_MIME_TYPE, append_mime, {\n",
       "    safe: true,\n",
       "    index: 0\n",
       "  });\n",
       "}\n",
       "\n",
       "if (window.Jupyter !== undefined) {\n",
       "  try {\n",
       "    var events = require('base/js/events');\n",
       "    var OutputArea = require('notebook/js/outputarea').OutputArea;\n",
       "    if (OutputArea.prototype.mime_types().indexOf(EXEC_MIME_TYPE) == -1) {\n",
       "      register_renderer(events, OutputArea);\n",
       "    }\n",
       "  } catch(err) {\n",
       "  }\n",
       "}\n"
      ],
      "application/vnd.holoviews_load.v0+json": "\nif ((window.PyViz === undefined) || (window.PyViz instanceof HTMLElement)) {\n  window.PyViz = {comms: {}, comm_status:{}, kernels:{}, receivers: {}, plot_index: []}\n}\n\n\n    function JupyterCommManager() {\n    }\n\n    JupyterCommManager.prototype.register_target = function(plot_id, comm_id, msg_handler) {\n      if (window.comm_manager || ((window.Jupyter !== undefined) && (Jupyter.notebook.kernel != null))) {\n        var comm_manager = window.comm_manager || Jupyter.notebook.kernel.comm_manager;\n        comm_manager.register_target(comm_id, function(comm) {\n          comm.on_msg(msg_handler);\n        });\n      } else if ((plot_id in window.PyViz.kernels) && (window.PyViz.kernels[plot_id])) {\n        window.PyViz.kernels[plot_id].registerCommTarget(comm_id, function(comm) {\n          comm.onMsg = msg_handler;\n        });\n      } else if (typeof google != 'undefined' && google.colab.kernel != null) {\n        google.colab.kernel.comms.registerTarget(comm_id, (comm) => {\n          var messages = comm.messages[Symbol.asyncIterator]();\n          function processIteratorResult(result) {\n            var message = result.value;\n            console.log(message)\n            var content = {data: message.data, comm_id};\n            var buffers = []\n            for (var buffer of message.buffers || []) {\n              buffers.push(new DataView(buffer))\n            }\n            var metadata = message.metadata || {};\n            var msg = {content, buffers, metadata}\n            msg_handler(msg);\n            return messages.next().then(processIteratorResult);\n          }\n          return messages.next().then(processIteratorResult);\n        })\n      }\n    }\n\n    JupyterCommManager.prototype.get_client_comm = function(plot_id, comm_id, msg_handler) {\n      if (comm_id in window.PyViz.comms) {\n        return window.PyViz.comms[comm_id];\n      } else if (window.comm_manager || ((window.Jupyter !== undefined) && (Jupyter.notebook.kernel != null))) {\n        var comm_manager = window.comm_manager || Jupyter.notebook.kernel.comm_manager;\n        var comm = comm_manager.new_comm(comm_id, {}, {}, {}, comm_id);\n        if (msg_handler) {\n          comm.on_msg(msg_handler);\n        }\n      } else if ((plot_id in window.PyViz.kernels) && (window.PyViz.kernels[plot_id])) {\n        var comm = window.PyViz.kernels[plot_id].connectToComm(comm_id);\n        comm.open();\n        if (msg_handler) {\n          comm.onMsg = msg_handler;\n        }\n      } else if (typeof google != 'undefined' && google.colab.kernel != null) {\n        var comm_promise = google.colab.kernel.comms.open(comm_id)\n        comm_promise.then((comm) => {\n          window.PyViz.comms[comm_id] = comm;\n          if (msg_handler) {\n            var messages = comm.messages[Symbol.asyncIterator]();\n            function processIteratorResult(result) {\n              var message = result.value;\n              var content = {data: message.data};\n              var metadata = message.metadata || {comm_id};\n              var msg = {content, metadata}\n              msg_handler(msg);\n              return messages.next().then(processIteratorResult);\n            }\n            return messages.next().then(processIteratorResult);\n          }\n        })\n        var sendClosure = (data, metadata, buffers, disposeOnDone) => {\n          return comm_promise.then((comm) => {\n            comm.send(data, metadata, buffers, disposeOnDone);\n          });\n        };\n        var comm = {\n          send: sendClosure\n        };\n      }\n      window.PyViz.comms[comm_id] = comm;\n      return comm;\n    }\n    window.PyViz.comm_manager = new JupyterCommManager();\n    \n\n\nvar JS_MIME_TYPE = 'application/javascript';\nvar HTML_MIME_TYPE = 'text/html';\nvar EXEC_MIME_TYPE = 'application/vnd.holoviews_exec.v0+json';\nvar CLASS_NAME = 'output';\n\n/**\n * Render data to the DOM node\n */\nfunction render(props, node) {\n  var div = document.createElement(\"div\");\n  var script = document.createElement(\"script\");\n  node.appendChild(div);\n  node.appendChild(script);\n}\n\n/**\n * Handle when a new output is added\n */\nfunction handle_add_output(event, handle) {\n  var output_area = handle.output_area;\n  var output = handle.output;\n  if ((output.data == undefined) || (!output.data.hasOwnProperty(EXEC_MIME_TYPE))) {\n    return\n  }\n  var id = output.metadata[EXEC_MIME_TYPE][\"id\"];\n  var toinsert = output_area.element.find(\".\" + CLASS_NAME.split(' ')[0]);\n  if (id !== undefined) {\n    var nchildren = toinsert.length;\n    var html_node = toinsert[nchildren-1].children[0];\n    html_node.innerHTML = output.data[HTML_MIME_TYPE];\n    var scripts = [];\n    var nodelist = html_node.querySelectorAll(\"script\");\n    for (var i in nodelist) {\n      if (nodelist.hasOwnProperty(i)) {\n        scripts.push(nodelist[i])\n      }\n    }\n\n    scripts.forEach( function (oldScript) {\n      var newScript = document.createElement(\"script\");\n      var attrs = [];\n      var nodemap = oldScript.attributes;\n      for (var j in nodemap) {\n        if (nodemap.hasOwnProperty(j)) {\n          attrs.push(nodemap[j])\n        }\n      }\n      attrs.forEach(function(attr) { newScript.setAttribute(attr.name, attr.value) });\n      newScript.appendChild(document.createTextNode(oldScript.innerHTML));\n      oldScript.parentNode.replaceChild(newScript, oldScript);\n    });\n    if (JS_MIME_TYPE in output.data) {\n      toinsert[nchildren-1].children[1].textContent = output.data[JS_MIME_TYPE];\n    }\n    output_area._hv_plot_id = id;\n    if ((window.Bokeh !== undefined) && (id in Bokeh.index)) {\n      window.PyViz.plot_index[id] = Bokeh.index[id];\n    } else {\n      window.PyViz.plot_index[id] = null;\n    }\n  } else if (output.metadata[EXEC_MIME_TYPE][\"server_id\"] !== undefined) {\n    var bk_div = document.createElement(\"div\");\n    bk_div.innerHTML = output.data[HTML_MIME_TYPE];\n    var script_attrs = bk_div.children[0].attributes;\n    for (var i = 0; i < script_attrs.length; i++) {\n      toinsert[toinsert.length - 1].childNodes[1].setAttribute(script_attrs[i].name, script_attrs[i].value);\n    }\n    // store reference to server id on output_area\n    output_area._bokeh_server_id = output.metadata[EXEC_MIME_TYPE][\"server_id\"];\n  }\n}\n\n/**\n * Handle when an output is cleared or removed\n */\nfunction handle_clear_output(event, handle) {\n  var id = handle.cell.output_area._hv_plot_id;\n  var server_id = handle.cell.output_area._bokeh_server_id;\n  if (((id === undefined) || !(id in PyViz.plot_index)) && (server_id !== undefined)) { return; }\n  var comm = window.PyViz.comm_manager.get_client_comm(\"hv-extension-comm\", \"hv-extension-comm\", function () {});\n  if (server_id !== null) {\n    comm.send({event_type: 'server_delete', 'id': server_id});\n    return;\n  } else if (comm !== null) {\n    comm.send({event_type: 'delete', 'id': id});\n  }\n  delete PyViz.plot_index[id];\n  if ((window.Bokeh !== undefined) & (id in window.Bokeh.index)) {\n    var doc = window.Bokeh.index[id].model.document\n    doc.clear();\n    const i = window.Bokeh.documents.indexOf(doc);\n    if (i > -1) {\n      window.Bokeh.documents.splice(i, 1);\n    }\n  }\n}\n\n/**\n * Handle kernel restart event\n */\nfunction handle_kernel_cleanup(event, handle) {\n  delete PyViz.comms[\"hv-extension-comm\"];\n  window.PyViz.plot_index = {}\n}\n\n/**\n * Handle update_display_data messages\n */\nfunction handle_update_output(event, handle) {\n  handle_clear_output(event, {cell: {output_area: handle.output_area}})\n  handle_add_output(event, handle)\n}\n\nfunction register_renderer(events, OutputArea) {\n  function append_mime(data, metadata, element) {\n    // create a DOM node to render to\n    var toinsert = this.create_output_subarea(\n    metadata,\n    CLASS_NAME,\n    EXEC_MIME_TYPE\n    );\n    this.keyboard_manager.register_events(toinsert);\n    // Render to node\n    var props = {data: data, metadata: metadata[EXEC_MIME_TYPE]};\n    render(props, toinsert[0]);\n    element.append(toinsert);\n    return toinsert\n  }\n\n  events.on('output_added.OutputArea', handle_add_output);\n  events.on('output_updated.OutputArea', handle_update_output);\n  events.on('clear_output.CodeCell', handle_clear_output);\n  events.on('delete.Cell', handle_clear_output);\n  events.on('kernel_ready.Kernel', handle_kernel_cleanup);\n\n  OutputArea.prototype.register_mime_type(EXEC_MIME_TYPE, append_mime, {\n    safe: true,\n    index: 0\n  });\n}\n\nif (window.Jupyter !== undefined) {\n  try {\n    var events = require('base/js/events');\n    var OutputArea = require('notebook/js/outputarea').OutputArea;\n    if (OutputArea.prototype.mime_types().indexOf(EXEC_MIME_TYPE) == -1) {\n      register_renderer(events, OutputArea);\n    }\n  } catch(err) {\n  }\n}\n"
     },
     "metadata": {},
     "output_type": "display_data"
    },
    {
     "data": {
      "text/html": [
       "<style>*[data-root-id],\n",
       "*[data-root-id] > * {\n",
       "  box-sizing: border-box;\n",
       "  font-family: var(--jp-ui-font-family);\n",
       "  font-size: var(--jp-ui-font-size1);\n",
       "  color: var(--vscode-editor-foreground, var(--jp-ui-font-color1));\n",
       "}\n",
       "\n",
       "/* Override VSCode background color */\n",
       ".cell-output-ipywidget-background:has(\n",
       "    > .cell-output-ipywidget-background > .lm-Widget > *[data-root-id]\n",
       "  ),\n",
       ".cell-output-ipywidget-background:has(> .lm-Widget > *[data-root-id]) {\n",
       "  background-color: transparent !important;\n",
       "}\n",
       "</style>"
      ]
     },
     "metadata": {},
     "output_type": "display_data"
    },
    {
     "data": {
      "application/vnd.holoviews_exec.v0+json": "",
      "text/html": [
       "<div id='5f070eaa-2458-449b-a632-326bf271c1d7'>\n",
       "  <div id=\"c77c1c91-2e82-4edd-b488-148329e9e288\" data-root-id=\"5f070eaa-2458-449b-a632-326bf271c1d7\" style=\"display: contents;\"></div>\n",
       "</div>\n",
       "<script type=\"application/javascript\">(function(root) {\n",
       "  var docs_json = {\"b99382ad-e26a-4067-87e4-40da27aa8162\":{\"version\":\"3.4.2\",\"title\":\"Bokeh Application\",\"roots\":[{\"type\":\"object\",\"name\":\"panel.models.browser.BrowserInfo\",\"id\":\"5f070eaa-2458-449b-a632-326bf271c1d7\"},{\"type\":\"object\",\"name\":\"panel.models.comm_manager.CommManager\",\"id\":\"530bde39-1ca0-451e-8a87-54cb698befb8\",\"attributes\":{\"plot_id\":\"5f070eaa-2458-449b-a632-326bf271c1d7\",\"comm_id\":\"a81ae753b08c43ddbc14d4098bcee9d2\",\"client_comm_id\":\"cfa098c4973a41eeb70c22f309899598\"}}],\"defs\":[{\"type\":\"model\",\"name\":\"ReactiveHTML1\"},{\"type\":\"model\",\"name\":\"FlexBox1\",\"properties\":[{\"name\":\"align_content\",\"kind\":\"Any\",\"default\":\"flex-start\"},{\"name\":\"align_items\",\"kind\":\"Any\",\"default\":\"flex-start\"},{\"name\":\"flex_direction\",\"kind\":\"Any\",\"default\":\"row\"},{\"name\":\"flex_wrap\",\"kind\":\"Any\",\"default\":\"wrap\"},{\"name\":\"gap\",\"kind\":\"Any\",\"default\":\"\"},{\"name\":\"justify_content\",\"kind\":\"Any\",\"default\":\"flex-start\"}]},{\"type\":\"model\",\"name\":\"FloatPanel1\",\"properties\":[{\"name\":\"config\",\"kind\":\"Any\",\"default\":{\"type\":\"map\"}},{\"name\":\"contained\",\"kind\":\"Any\",\"default\":true},{\"name\":\"position\",\"kind\":\"Any\",\"default\":\"right-top\"},{\"name\":\"offsetx\",\"kind\":\"Any\",\"default\":null},{\"name\":\"offsety\",\"kind\":\"Any\",\"default\":null},{\"name\":\"theme\",\"kind\":\"Any\",\"default\":\"primary\"},{\"name\":\"status\",\"kind\":\"Any\",\"default\":\"normalized\"}]},{\"type\":\"model\",\"name\":\"GridStack1\",\"properties\":[{\"name\":\"mode\",\"kind\":\"Any\",\"default\":\"warn\"},{\"name\":\"ncols\",\"kind\":\"Any\",\"default\":null},{\"name\":\"nrows\",\"kind\":\"Any\",\"default\":null},{\"name\":\"allow_resize\",\"kind\":\"Any\",\"default\":true},{\"name\":\"allow_drag\",\"kind\":\"Any\",\"default\":true},{\"name\":\"state\",\"kind\":\"Any\",\"default\":[]}]},{\"type\":\"model\",\"name\":\"drag1\",\"properties\":[{\"name\":\"slider_width\",\"kind\":\"Any\",\"default\":5},{\"name\":\"slider_color\",\"kind\":\"Any\",\"default\":\"black\"},{\"name\":\"value\",\"kind\":\"Any\",\"default\":50}]},{\"type\":\"model\",\"name\":\"click1\",\"properties\":[{\"name\":\"terminal_output\",\"kind\":\"Any\",\"default\":\"\"},{\"name\":\"debug_name\",\"kind\":\"Any\",\"default\":\"\"},{\"name\":\"clears\",\"kind\":\"Any\",\"default\":0}]},{\"type\":\"model\",\"name\":\"FastWrapper1\",\"properties\":[{\"name\":\"object\",\"kind\":\"Any\",\"default\":null},{\"name\":\"style\",\"kind\":\"Any\",\"default\":null}]},{\"type\":\"model\",\"name\":\"NotificationAreaBase1\",\"properties\":[{\"name\":\"js_events\",\"kind\":\"Any\",\"default\":{\"type\":\"map\"}},{\"name\":\"position\",\"kind\":\"Any\",\"default\":\"bottom-right\"},{\"name\":\"_clear\",\"kind\":\"Any\",\"default\":0}]},{\"type\":\"model\",\"name\":\"NotificationArea1\",\"properties\":[{\"name\":\"js_events\",\"kind\":\"Any\",\"default\":{\"type\":\"map\"}},{\"name\":\"notifications\",\"kind\":\"Any\",\"default\":[]},{\"name\":\"position\",\"kind\":\"Any\",\"default\":\"bottom-right\"},{\"name\":\"_clear\",\"kind\":\"Any\",\"default\":0},{\"name\":\"types\",\"kind\":\"Any\",\"default\":[{\"type\":\"map\",\"entries\":[[\"type\",\"warning\"],[\"background\",\"#ffc107\"],[\"icon\",{\"type\":\"map\",\"entries\":[[\"className\",\"fas fa-exclamation-triangle\"],[\"tagName\",\"i\"],[\"color\",\"white\"]]}]]},{\"type\":\"map\",\"entries\":[[\"type\",\"info\"],[\"background\",\"#007bff\"],[\"icon\",{\"type\":\"map\",\"entries\":[[\"className\",\"fas fa-info-circle\"],[\"tagName\",\"i\"],[\"color\",\"white\"]]}]]}]}]},{\"type\":\"model\",\"name\":\"Notification\",\"properties\":[{\"name\":\"background\",\"kind\":\"Any\",\"default\":null},{\"name\":\"duration\",\"kind\":\"Any\",\"default\":3000},{\"name\":\"icon\",\"kind\":\"Any\",\"default\":null},{\"name\":\"message\",\"kind\":\"Any\",\"default\":\"\"},{\"name\":\"notification_type\",\"kind\":\"Any\",\"default\":null},{\"name\":\"_destroyed\",\"kind\":\"Any\",\"default\":false}]},{\"type\":\"model\",\"name\":\"TemplateActions1\",\"properties\":[{\"name\":\"open_modal\",\"kind\":\"Any\",\"default\":0},{\"name\":\"close_modal\",\"kind\":\"Any\",\"default\":0}]},{\"type\":\"model\",\"name\":\"BootstrapTemplateActions1\",\"properties\":[{\"name\":\"open_modal\",\"kind\":\"Any\",\"default\":0},{\"name\":\"close_modal\",\"kind\":\"Any\",\"default\":0}]},{\"type\":\"model\",\"name\":\"TemplateEditor1\",\"properties\":[{\"name\":\"layout\",\"kind\":\"Any\",\"default\":[]}]},{\"type\":\"model\",\"name\":\"MaterialTemplateActions1\",\"properties\":[{\"name\":\"open_modal\",\"kind\":\"Any\",\"default\":0},{\"name\":\"close_modal\",\"kind\":\"Any\",\"default\":0}]},{\"type\":\"model\",\"name\":\"copy_to_clipboard1\",\"properties\":[{\"name\":\"fill\",\"kind\":\"Any\",\"default\":\"none\"},{\"name\":\"value\",\"kind\":\"Any\",\"default\":null}]}]}};\n",
       "  var render_items = [{\"docid\":\"b99382ad-e26a-4067-87e4-40da27aa8162\",\"roots\":{\"5f070eaa-2458-449b-a632-326bf271c1d7\":\"c77c1c91-2e82-4edd-b488-148329e9e288\"},\"root_ids\":[\"5f070eaa-2458-449b-a632-326bf271c1d7\"]}];\n",
       "  var docs = Object.values(docs_json)\n",
       "  if (!docs) {\n",
       "    return\n",
       "  }\n",
       "  const py_version = docs[0].version.replace('rc', '-rc.').replace('.dev', '-dev.')\n",
       "  async function embed_document(root) {\n",
       "    var Bokeh = get_bokeh(root)\n",
       "    await Bokeh.embed.embed_items_notebook(docs_json, render_items);\n",
       "    for (const render_item of render_items) {\n",
       "      for (const root_id of render_item.root_ids) {\n",
       "\tconst id_el = document.getElementById(root_id)\n",
       "\tif (id_el.children.length && id_el.children[0].hasAttribute('data-root-id')) {\n",
       "\t  const root_el = id_el.children[0]\n",
       "\t  root_el.id = root_el.id + '-rendered'\n",
       "\t  for (const child of root_el.children) {\n",
       "            // Ensure JupyterLab does not capture keyboard shortcuts\n",
       "            // see: https://jupyterlab.readthedocs.io/en/4.1.x/extension/notebook.html#keyboard-interaction-model\n",
       "\t    child.setAttribute('data-lm-suppress-shortcuts', 'true')\n",
       "\t  }\n",
       "\t}\n",
       "      }\n",
       "    }\n",
       "  }\n",
       "  function get_bokeh(root) {\n",
       "    if (root.Bokeh === undefined) {\n",
       "      return null\n",
       "    } else if (root.Bokeh.version !== py_version) {\n",
       "      if (root.Bokeh.versions === undefined || !root.Bokeh.versions.has(py_version)) {\n",
       "\treturn null\n",
       "      }\n",
       "      return root.Bokeh.versions.get(py_version);\n",
       "    } else if (root.Bokeh.version === py_version) {\n",
       "      return root.Bokeh\n",
       "    }\n",
       "    return null\n",
       "  }\n",
       "  function is_loaded(root) {\n",
       "    var Bokeh = get_bokeh(root)\n",
       "    return (Bokeh != null && Bokeh.Panel !== undefined)\n",
       "  }\n",
       "  if (is_loaded(root)) {\n",
       "    embed_document(root);\n",
       "  } else {\n",
       "    var attempts = 0;\n",
       "    var timer = setInterval(function(root) {\n",
       "      if (is_loaded(root)) {\n",
       "        clearInterval(timer);\n",
       "        embed_document(root);\n",
       "      } else if (document.readyState == \"complete\") {\n",
       "        attempts++;\n",
       "        if (attempts > 200) {\n",
       "          clearInterval(timer);\n",
       "\t  var Bokeh = get_bokeh(root)\n",
       "\t  if (Bokeh == null || Bokeh.Panel == null) {\n",
       "            console.warn(\"Panel: ERROR: Unable to run Panel code because Bokeh or Panel library is missing\");\n",
       "\t  } else {\n",
       "\t    console.warn(\"Panel: WARNING: Attempting to render but not all required libraries could be resolved.\")\n",
       "\t    embed_document(root)\n",
       "\t  }\n",
       "        }\n",
       "      }\n",
       "    }, 25, root)\n",
       "  }\n",
       "})(window);</script>"
      ]
     },
     "metadata": {
      "application/vnd.holoviews_exec.v0+json": {
       "id": "5f070eaa-2458-449b-a632-326bf271c1d7"
      }
     },
     "output_type": "display_data"
    },
    {
     "data": {
      "application/javascript": [
       "(function(root) {\n",
       "  function now() {\n",
       "    return new Date();\n",
       "  }\n",
       "\n",
       "  var force = true;\n",
       "  var py_version = '3.4.2'.replace('rc', '-rc.').replace('.dev', '-dev.');\n",
       "  var reloading = true;\n",
       "  var Bokeh = root.Bokeh;\n",
       "\n",
       "  if (typeof (root._bokeh_timeout) === \"undefined\" || force) {\n",
       "    root._bokeh_timeout = Date.now() + 5000;\n",
       "    root._bokeh_failed_load = false;\n",
       "  }\n",
       "\n",
       "  function run_callbacks() {\n",
       "    try {\n",
       "      root._bokeh_onload_callbacks.forEach(function(callback) {\n",
       "        if (callback != null)\n",
       "          callback();\n",
       "      });\n",
       "    } finally {\n",
       "      delete root._bokeh_onload_callbacks;\n",
       "    }\n",
       "    console.debug(\"Bokeh: all callbacks have finished\");\n",
       "  }\n",
       "\n",
       "  function load_libs(css_urls, js_urls, js_modules, js_exports, callback) {\n",
       "    if (css_urls == null) css_urls = [];\n",
       "    if (js_urls == null) js_urls = [];\n",
       "    if (js_modules == null) js_modules = [];\n",
       "    if (js_exports == null) js_exports = {};\n",
       "\n",
       "    root._bokeh_onload_callbacks.push(callback);\n",
       "\n",
       "    if (root._bokeh_is_loading > 0) {\n",
       "      console.debug(\"Bokeh: BokehJS is being loaded, scheduling callback at\", now());\n",
       "      return null;\n",
       "    }\n",
       "    if (js_urls.length === 0 && js_modules.length === 0 && Object.keys(js_exports).length === 0) {\n",
       "      run_callbacks();\n",
       "      return null;\n",
       "    }\n",
       "    if (!reloading) {\n",
       "      console.debug(\"Bokeh: BokehJS not loaded, scheduling load and callback at\", now());\n",
       "    }\n",
       "\n",
       "    function on_load() {\n",
       "      root._bokeh_is_loading--;\n",
       "      if (root._bokeh_is_loading === 0) {\n",
       "        console.debug(\"Bokeh: all BokehJS libraries/stylesheets loaded\");\n",
       "        run_callbacks()\n",
       "      }\n",
       "    }\n",
       "    window._bokeh_on_load = on_load\n",
       "\n",
       "    function on_error() {\n",
       "      console.error(\"failed to load \" + url);\n",
       "    }\n",
       "\n",
       "    var skip = [];\n",
       "    if (window.requirejs) {\n",
       "      window.requirejs.config({'packages': {}, 'paths': {}, 'shim': {}});\n",
       "      root._bokeh_is_loading = css_urls.length + 0;\n",
       "    } else {\n",
       "      root._bokeh_is_loading = css_urls.length + js_urls.length + js_modules.length + Object.keys(js_exports).length;\n",
       "    }\n",
       "\n",
       "    var existing_stylesheets = []\n",
       "    var links = document.getElementsByTagName('link')\n",
       "    for (var i = 0; i < links.length; i++) {\n",
       "      var link = links[i]\n",
       "      if (link.href != null) {\n",
       "\texisting_stylesheets.push(link.href)\n",
       "      }\n",
       "    }\n",
       "    for (var i = 0; i < css_urls.length; i++) {\n",
       "      var url = css_urls[i];\n",
       "      if (existing_stylesheets.indexOf(url) !== -1) {\n",
       "\ton_load()\n",
       "\tcontinue;\n",
       "      }\n",
       "      const element = document.createElement(\"link\");\n",
       "      element.onload = on_load;\n",
       "      element.onerror = on_error;\n",
       "      element.rel = \"stylesheet\";\n",
       "      element.type = \"text/css\";\n",
       "      element.href = url;\n",
       "      console.debug(\"Bokeh: injecting link tag for BokehJS stylesheet: \", url);\n",
       "      document.body.appendChild(element);\n",
       "    }    var existing_scripts = []\n",
       "    var scripts = document.getElementsByTagName('script')\n",
       "    for (var i = 0; i < scripts.length; i++) {\n",
       "      var script = scripts[i]\n",
       "      if (script.src != null) {\n",
       "\texisting_scripts.push(script.src)\n",
       "      }\n",
       "    }\n",
       "    for (var i = 0; i < js_urls.length; i++) {\n",
       "      var url = js_urls[i];\n",
       "      if (skip.indexOf(url) !== -1 || existing_scripts.indexOf(url) !== -1) {\n",
       "\tif (!window.requirejs) {\n",
       "\t  on_load();\n",
       "\t}\n",
       "\tcontinue;\n",
       "      }\n",
       "      var element = document.createElement('script');\n",
       "      element.onload = on_load;\n",
       "      element.onerror = on_error;\n",
       "      element.async = false;\n",
       "      element.src = url;\n",
       "      console.debug(\"Bokeh: injecting script tag for BokehJS library: \", url);\n",
       "      document.head.appendChild(element);\n",
       "    }\n",
       "    for (var i = 0; i < js_modules.length; i++) {\n",
       "      var url = js_modules[i];\n",
       "      if (skip.indexOf(url) !== -1 || existing_scripts.indexOf(url) !== -1) {\n",
       "\tif (!window.requirejs) {\n",
       "\t  on_load();\n",
       "\t}\n",
       "\tcontinue;\n",
       "      }\n",
       "      var element = document.createElement('script');\n",
       "      element.onload = on_load;\n",
       "      element.onerror = on_error;\n",
       "      element.async = false;\n",
       "      element.src = url;\n",
       "      element.type = \"module\";\n",
       "      console.debug(\"Bokeh: injecting script tag for BokehJS library: \", url);\n",
       "      document.head.appendChild(element);\n",
       "    }\n",
       "    for (const name in js_exports) {\n",
       "      var url = js_exports[name];\n",
       "      if (skip.indexOf(url) >= 0 || root[name] != null) {\n",
       "\tif (!window.requirejs) {\n",
       "\t  on_load();\n",
       "\t}\n",
       "\tcontinue;\n",
       "      }\n",
       "      var element = document.createElement('script');\n",
       "      element.onerror = on_error;\n",
       "      element.async = false;\n",
       "      element.type = \"module\";\n",
       "      console.debug(\"Bokeh: injecting script tag for BokehJS library: \", url);\n",
       "      element.textContent = `\n",
       "      import ${name} from \"${url}\"\n",
       "      window.${name} = ${name}\n",
       "      window._bokeh_on_load()\n",
       "      `\n",
       "      document.head.appendChild(element);\n",
       "    }\n",
       "    if (!js_urls.length && !js_modules.length) {\n",
       "      on_load()\n",
       "    }\n",
       "  };\n",
       "\n",
       "  function inject_raw_css(css) {\n",
       "    const element = document.createElement(\"style\");\n",
       "    element.appendChild(document.createTextNode(css));\n",
       "    document.body.appendChild(element);\n",
       "  }\n",
       "\n",
       "  var js_urls = [];\n",
       "  var js_modules = [];\n",
       "  var js_exports = {};\n",
       "  var css_urls = [];\n",
       "  var inline_js = [    function(Bokeh) {\n",
       "      Bokeh.set_log_level(\"info\");\n",
       "    },\n",
       "function(Bokeh) {} // ensure no trailing comma for IE\n",
       "  ];\n",
       "\n",
       "  function run_inline_js() {\n",
       "    if ((root.Bokeh !== undefined) || (force === true)) {\n",
       "      for (var i = 0; i < inline_js.length; i++) {\n",
       "\ttry {\n",
       "          inline_js[i].call(root, root.Bokeh);\n",
       "\t} catch(e) {\n",
       "\t  if (!reloading) {\n",
       "\t    throw e;\n",
       "\t  }\n",
       "\t}\n",
       "      }\n",
       "      // Cache old bokeh versions\n",
       "      if (Bokeh != undefined && !reloading) {\n",
       "\tvar NewBokeh = root.Bokeh;\n",
       "\tif (Bokeh.versions === undefined) {\n",
       "\t  Bokeh.versions = new Map();\n",
       "\t}\n",
       "\tif (NewBokeh.version !== Bokeh.version) {\n",
       "\t  Bokeh.versions.set(NewBokeh.version, NewBokeh)\n",
       "\t}\n",
       "\troot.Bokeh = Bokeh;\n",
       "      }} else if (Date.now() < root._bokeh_timeout) {\n",
       "      setTimeout(run_inline_js, 100);\n",
       "    } else if (!root._bokeh_failed_load) {\n",
       "      console.log(\"Bokeh: BokehJS failed to load within specified timeout.\");\n",
       "      root._bokeh_failed_load = true;\n",
       "    }\n",
       "    root._bokeh_is_initializing = false\n",
       "  }\n",
       "\n",
       "  function load_or_wait() {\n",
       "    // Implement a backoff loop that tries to ensure we do not load multiple\n",
       "    // versions of Bokeh and its dependencies at the same time.\n",
       "    // In recent versions we use the root._bokeh_is_initializing flag\n",
       "    // to determine whether there is an ongoing attempt to initialize\n",
       "    // bokeh, however for backward compatibility we also try to ensure\n",
       "    // that we do not start loading a newer (Panel>=1.0 and Bokeh>3) version\n",
       "    // before older versions are fully initialized.\n",
       "    if (root._bokeh_is_initializing && Date.now() > root._bokeh_timeout) {\n",
       "      root._bokeh_is_initializing = false;\n",
       "      root._bokeh_onload_callbacks = undefined;\n",
       "      console.log(\"Bokeh: BokehJS was loaded multiple times but one version failed to initialize.\");\n",
       "      load_or_wait();\n",
       "    } else if (root._bokeh_is_initializing || (typeof root._bokeh_is_initializing === \"undefined\" && root._bokeh_onload_callbacks !== undefined)) {\n",
       "      setTimeout(load_or_wait, 100);\n",
       "    } else {\n",
       "      root._bokeh_is_initializing = true\n",
       "      root._bokeh_onload_callbacks = []\n",
       "      var bokeh_loaded = Bokeh != null && (Bokeh.version === py_version || (Bokeh.versions !== undefined && Bokeh.versions.has(py_version)));\n",
       "      if (!reloading && !bokeh_loaded) {\n",
       "\troot.Bokeh = undefined;\n",
       "      }\n",
       "      load_libs(css_urls, js_urls, js_modules, js_exports, function() {\n",
       "\tconsole.debug(\"Bokeh: BokehJS plotting callback run at\", now());\n",
       "\trun_inline_js();\n",
       "      });\n",
       "    }\n",
       "  }\n",
       "  // Give older versions of the autoload script a head-start to ensure\n",
       "  // they initialize before we start loading newer version.\n",
       "  setTimeout(load_or_wait, 100)\n",
       "}(window));"
      ],
      "application/vnd.holoviews_load.v0+json": "(function(root) {\n  function now() {\n    return new Date();\n  }\n\n  var force = true;\n  var py_version = '3.4.2'.replace('rc', '-rc.').replace('.dev', '-dev.');\n  var reloading = true;\n  var Bokeh = root.Bokeh;\n\n  if (typeof (root._bokeh_timeout) === \"undefined\" || force) {\n    root._bokeh_timeout = Date.now() + 5000;\n    root._bokeh_failed_load = false;\n  }\n\n  function run_callbacks() {\n    try {\n      root._bokeh_onload_callbacks.forEach(function(callback) {\n        if (callback != null)\n          callback();\n      });\n    } finally {\n      delete root._bokeh_onload_callbacks;\n    }\n    console.debug(\"Bokeh: all callbacks have finished\");\n  }\n\n  function load_libs(css_urls, js_urls, js_modules, js_exports, callback) {\n    if (css_urls == null) css_urls = [];\n    if (js_urls == null) js_urls = [];\n    if (js_modules == null) js_modules = [];\n    if (js_exports == null) js_exports = {};\n\n    root._bokeh_onload_callbacks.push(callback);\n\n    if (root._bokeh_is_loading > 0) {\n      console.debug(\"Bokeh: BokehJS is being loaded, scheduling callback at\", now());\n      return null;\n    }\n    if (js_urls.length === 0 && js_modules.length === 0 && Object.keys(js_exports).length === 0) {\n      run_callbacks();\n      return null;\n    }\n    if (!reloading) {\n      console.debug(\"Bokeh: BokehJS not loaded, scheduling load and callback at\", now());\n    }\n\n    function on_load() {\n      root._bokeh_is_loading--;\n      if (root._bokeh_is_loading === 0) {\n        console.debug(\"Bokeh: all BokehJS libraries/stylesheets loaded\");\n        run_callbacks()\n      }\n    }\n    window._bokeh_on_load = on_load\n\n    function on_error() {\n      console.error(\"failed to load \" + url);\n    }\n\n    var skip = [];\n    if (window.requirejs) {\n      window.requirejs.config({'packages': {}, 'paths': {}, 'shim': {}});\n      root._bokeh_is_loading = css_urls.length + 0;\n    } else {\n      root._bokeh_is_loading = css_urls.length + js_urls.length + js_modules.length + Object.keys(js_exports).length;\n    }\n\n    var existing_stylesheets = []\n    var links = document.getElementsByTagName('link')\n    for (var i = 0; i < links.length; i++) {\n      var link = links[i]\n      if (link.href != null) {\n\texisting_stylesheets.push(link.href)\n      }\n    }\n    for (var i = 0; i < css_urls.length; i++) {\n      var url = css_urls[i];\n      if (existing_stylesheets.indexOf(url) !== -1) {\n\ton_load()\n\tcontinue;\n      }\n      const element = document.createElement(\"link\");\n      element.onload = on_load;\n      element.onerror = on_error;\n      element.rel = \"stylesheet\";\n      element.type = \"text/css\";\n      element.href = url;\n      console.debug(\"Bokeh: injecting link tag for BokehJS stylesheet: \", url);\n      document.body.appendChild(element);\n    }    var existing_scripts = []\n    var scripts = document.getElementsByTagName('script')\n    for (var i = 0; i < scripts.length; i++) {\n      var script = scripts[i]\n      if (script.src != null) {\n\texisting_scripts.push(script.src)\n      }\n    }\n    for (var i = 0; i < js_urls.length; i++) {\n      var url = js_urls[i];\n      if (skip.indexOf(url) !== -1 || existing_scripts.indexOf(url) !== -1) {\n\tif (!window.requirejs) {\n\t  on_load();\n\t}\n\tcontinue;\n      }\n      var element = document.createElement('script');\n      element.onload = on_load;\n      element.onerror = on_error;\n      element.async = false;\n      element.src = url;\n      console.debug(\"Bokeh: injecting script tag for BokehJS library: \", url);\n      document.head.appendChild(element);\n    }\n    for (var i = 0; i < js_modules.length; i++) {\n      var url = js_modules[i];\n      if (skip.indexOf(url) !== -1 || existing_scripts.indexOf(url) !== -1) {\n\tif (!window.requirejs) {\n\t  on_load();\n\t}\n\tcontinue;\n      }\n      var element = document.createElement('script');\n      element.onload = on_load;\n      element.onerror = on_error;\n      element.async = false;\n      element.src = url;\n      element.type = \"module\";\n      console.debug(\"Bokeh: injecting script tag for BokehJS library: \", url);\n      document.head.appendChild(element);\n    }\n    for (const name in js_exports) {\n      var url = js_exports[name];\n      if (skip.indexOf(url) >= 0 || root[name] != null) {\n\tif (!window.requirejs) {\n\t  on_load();\n\t}\n\tcontinue;\n      }\n      var element = document.createElement('script');\n      element.onerror = on_error;\n      element.async = false;\n      element.type = \"module\";\n      console.debug(\"Bokeh: injecting script tag for BokehJS library: \", url);\n      element.textContent = `\n      import ${name} from \"${url}\"\n      window.${name} = ${name}\n      window._bokeh_on_load()\n      `\n      document.head.appendChild(element);\n    }\n    if (!js_urls.length && !js_modules.length) {\n      on_load()\n    }\n  };\n\n  function inject_raw_css(css) {\n    const element = document.createElement(\"style\");\n    element.appendChild(document.createTextNode(css));\n    document.body.appendChild(element);\n  }\n\n  var js_urls = [];\n  var js_modules = [];\n  var js_exports = {};\n  var css_urls = [];\n  var inline_js = [    function(Bokeh) {\n      Bokeh.set_log_level(\"info\");\n    },\nfunction(Bokeh) {} // ensure no trailing comma for IE\n  ];\n\n  function run_inline_js() {\n    if ((root.Bokeh !== undefined) || (force === true)) {\n      for (var i = 0; i < inline_js.length; i++) {\n\ttry {\n          inline_js[i].call(root, root.Bokeh);\n\t} catch(e) {\n\t  if (!reloading) {\n\t    throw e;\n\t  }\n\t}\n      }\n      // Cache old bokeh versions\n      if (Bokeh != undefined && !reloading) {\n\tvar NewBokeh = root.Bokeh;\n\tif (Bokeh.versions === undefined) {\n\t  Bokeh.versions = new Map();\n\t}\n\tif (NewBokeh.version !== Bokeh.version) {\n\t  Bokeh.versions.set(NewBokeh.version, NewBokeh)\n\t}\n\troot.Bokeh = Bokeh;\n      }} else if (Date.now() < root._bokeh_timeout) {\n      setTimeout(run_inline_js, 100);\n    } else if (!root._bokeh_failed_load) {\n      console.log(\"Bokeh: BokehJS failed to load within specified timeout.\");\n      root._bokeh_failed_load = true;\n    }\n    root._bokeh_is_initializing = false\n  }\n\n  function load_or_wait() {\n    // Implement a backoff loop that tries to ensure we do not load multiple\n    // versions of Bokeh and its dependencies at the same time.\n    // In recent versions we use the root._bokeh_is_initializing flag\n    // to determine whether there is an ongoing attempt to initialize\n    // bokeh, however for backward compatibility we also try to ensure\n    // that we do not start loading a newer (Panel>=1.0 and Bokeh>3) version\n    // before older versions are fully initialized.\n    if (root._bokeh_is_initializing && Date.now() > root._bokeh_timeout) {\n      root._bokeh_is_initializing = false;\n      root._bokeh_onload_callbacks = undefined;\n      console.log(\"Bokeh: BokehJS was loaded multiple times but one version failed to initialize.\");\n      load_or_wait();\n    } else if (root._bokeh_is_initializing || (typeof root._bokeh_is_initializing === \"undefined\" && root._bokeh_onload_callbacks !== undefined)) {\n      setTimeout(load_or_wait, 100);\n    } else {\n      root._bokeh_is_initializing = true\n      root._bokeh_onload_callbacks = []\n      var bokeh_loaded = Bokeh != null && (Bokeh.version === py_version || (Bokeh.versions !== undefined && Bokeh.versions.has(py_version)));\n      if (!reloading && !bokeh_loaded) {\n\troot.Bokeh = undefined;\n      }\n      load_libs(css_urls, js_urls, js_modules, js_exports, function() {\n\tconsole.debug(\"Bokeh: BokehJS plotting callback run at\", now());\n\trun_inline_js();\n      });\n    }\n  }\n  // Give older versions of the autoload script a head-start to ensure\n  // they initialize before we start loading newer version.\n  setTimeout(load_or_wait, 100)\n}(window));"
     },
     "metadata": {},
     "output_type": "display_data"
    },
    {
     "data": {
      "application/javascript": [
       "\n",
       "if ((window.PyViz === undefined) || (window.PyViz instanceof HTMLElement)) {\n",
       "  window.PyViz = {comms: {}, comm_status:{}, kernels:{}, receivers: {}, plot_index: []}\n",
       "}\n",
       "\n",
       "\n",
       "    function JupyterCommManager() {\n",
       "    }\n",
       "\n",
       "    JupyterCommManager.prototype.register_target = function(plot_id, comm_id, msg_handler) {\n",
       "      if (window.comm_manager || ((window.Jupyter !== undefined) && (Jupyter.notebook.kernel != null))) {\n",
       "        var comm_manager = window.comm_manager || Jupyter.notebook.kernel.comm_manager;\n",
       "        comm_manager.register_target(comm_id, function(comm) {\n",
       "          comm.on_msg(msg_handler);\n",
       "        });\n",
       "      } else if ((plot_id in window.PyViz.kernels) && (window.PyViz.kernels[plot_id])) {\n",
       "        window.PyViz.kernels[plot_id].registerCommTarget(comm_id, function(comm) {\n",
       "          comm.onMsg = msg_handler;\n",
       "        });\n",
       "      } else if (typeof google != 'undefined' && google.colab.kernel != null) {\n",
       "        google.colab.kernel.comms.registerTarget(comm_id, (comm) => {\n",
       "          var messages = comm.messages[Symbol.asyncIterator]();\n",
       "          function processIteratorResult(result) {\n",
       "            var message = result.value;\n",
       "            console.log(message)\n",
       "            var content = {data: message.data, comm_id};\n",
       "            var buffers = []\n",
       "            for (var buffer of message.buffers || []) {\n",
       "              buffers.push(new DataView(buffer))\n",
       "            }\n",
       "            var metadata = message.metadata || {};\n",
       "            var msg = {content, buffers, metadata}\n",
       "            msg_handler(msg);\n",
       "            return messages.next().then(processIteratorResult);\n",
       "          }\n",
       "          return messages.next().then(processIteratorResult);\n",
       "        })\n",
       "      }\n",
       "    }\n",
       "\n",
       "    JupyterCommManager.prototype.get_client_comm = function(plot_id, comm_id, msg_handler) {\n",
       "      if (comm_id in window.PyViz.comms) {\n",
       "        return window.PyViz.comms[comm_id];\n",
       "      } else if (window.comm_manager || ((window.Jupyter !== undefined) && (Jupyter.notebook.kernel != null))) {\n",
       "        var comm_manager = window.comm_manager || Jupyter.notebook.kernel.comm_manager;\n",
       "        var comm = comm_manager.new_comm(comm_id, {}, {}, {}, comm_id);\n",
       "        if (msg_handler) {\n",
       "          comm.on_msg(msg_handler);\n",
       "        }\n",
       "      } else if ((plot_id in window.PyViz.kernels) && (window.PyViz.kernels[plot_id])) {\n",
       "        var comm = window.PyViz.kernels[plot_id].connectToComm(comm_id);\n",
       "        comm.open();\n",
       "        if (msg_handler) {\n",
       "          comm.onMsg = msg_handler;\n",
       "        }\n",
       "      } else if (typeof google != 'undefined' && google.colab.kernel != null) {\n",
       "        var comm_promise = google.colab.kernel.comms.open(comm_id)\n",
       "        comm_promise.then((comm) => {\n",
       "          window.PyViz.comms[comm_id] = comm;\n",
       "          if (msg_handler) {\n",
       "            var messages = comm.messages[Symbol.asyncIterator]();\n",
       "            function processIteratorResult(result) {\n",
       "              var message = result.value;\n",
       "              var content = {data: message.data};\n",
       "              var metadata = message.metadata || {comm_id};\n",
       "              var msg = {content, metadata}\n",
       "              msg_handler(msg);\n",
       "              return messages.next().then(processIteratorResult);\n",
       "            }\n",
       "            return messages.next().then(processIteratorResult);\n",
       "          }\n",
       "        })\n",
       "        var sendClosure = (data, metadata, buffers, disposeOnDone) => {\n",
       "          return comm_promise.then((comm) => {\n",
       "            comm.send(data, metadata, buffers, disposeOnDone);\n",
       "          });\n",
       "        };\n",
       "        var comm = {\n",
       "          send: sendClosure\n",
       "        };\n",
       "      }\n",
       "      window.PyViz.comms[comm_id] = comm;\n",
       "      return comm;\n",
       "    }\n",
       "    window.PyViz.comm_manager = new JupyterCommManager();\n",
       "    \n",
       "\n",
       "\n",
       "var JS_MIME_TYPE = 'application/javascript';\n",
       "var HTML_MIME_TYPE = 'text/html';\n",
       "var EXEC_MIME_TYPE = 'application/vnd.holoviews_exec.v0+json';\n",
       "var CLASS_NAME = 'output';\n",
       "\n",
       "/**\n",
       " * Render data to the DOM node\n",
       " */\n",
       "function render(props, node) {\n",
       "  var div = document.createElement(\"div\");\n",
       "  var script = document.createElement(\"script\");\n",
       "  node.appendChild(div);\n",
       "  node.appendChild(script);\n",
       "}\n",
       "\n",
       "/**\n",
       " * Handle when a new output is added\n",
       " */\n",
       "function handle_add_output(event, handle) {\n",
       "  var output_area = handle.output_area;\n",
       "  var output = handle.output;\n",
       "  if ((output.data == undefined) || (!output.data.hasOwnProperty(EXEC_MIME_TYPE))) {\n",
       "    return\n",
       "  }\n",
       "  var id = output.metadata[EXEC_MIME_TYPE][\"id\"];\n",
       "  var toinsert = output_area.element.find(\".\" + CLASS_NAME.split(' ')[0]);\n",
       "  if (id !== undefined) {\n",
       "    var nchildren = toinsert.length;\n",
       "    var html_node = toinsert[nchildren-1].children[0];\n",
       "    html_node.innerHTML = output.data[HTML_MIME_TYPE];\n",
       "    var scripts = [];\n",
       "    var nodelist = html_node.querySelectorAll(\"script\");\n",
       "    for (var i in nodelist) {\n",
       "      if (nodelist.hasOwnProperty(i)) {\n",
       "        scripts.push(nodelist[i])\n",
       "      }\n",
       "    }\n",
       "\n",
       "    scripts.forEach( function (oldScript) {\n",
       "      var newScript = document.createElement(\"script\");\n",
       "      var attrs = [];\n",
       "      var nodemap = oldScript.attributes;\n",
       "      for (var j in nodemap) {\n",
       "        if (nodemap.hasOwnProperty(j)) {\n",
       "          attrs.push(nodemap[j])\n",
       "        }\n",
       "      }\n",
       "      attrs.forEach(function(attr) { newScript.setAttribute(attr.name, attr.value) });\n",
       "      newScript.appendChild(document.createTextNode(oldScript.innerHTML));\n",
       "      oldScript.parentNode.replaceChild(newScript, oldScript);\n",
       "    });\n",
       "    if (JS_MIME_TYPE in output.data) {\n",
       "      toinsert[nchildren-1].children[1].textContent = output.data[JS_MIME_TYPE];\n",
       "    }\n",
       "    output_area._hv_plot_id = id;\n",
       "    if ((window.Bokeh !== undefined) && (id in Bokeh.index)) {\n",
       "      window.PyViz.plot_index[id] = Bokeh.index[id];\n",
       "    } else {\n",
       "      window.PyViz.plot_index[id] = null;\n",
       "    }\n",
       "  } else if (output.metadata[EXEC_MIME_TYPE][\"server_id\"] !== undefined) {\n",
       "    var bk_div = document.createElement(\"div\");\n",
       "    bk_div.innerHTML = output.data[HTML_MIME_TYPE];\n",
       "    var script_attrs = bk_div.children[0].attributes;\n",
       "    for (var i = 0; i < script_attrs.length; i++) {\n",
       "      toinsert[toinsert.length - 1].childNodes[1].setAttribute(script_attrs[i].name, script_attrs[i].value);\n",
       "    }\n",
       "    // store reference to server id on output_area\n",
       "    output_area._bokeh_server_id = output.metadata[EXEC_MIME_TYPE][\"server_id\"];\n",
       "  }\n",
       "}\n",
       "\n",
       "/**\n",
       " * Handle when an output is cleared or removed\n",
       " */\n",
       "function handle_clear_output(event, handle) {\n",
       "  var id = handle.cell.output_area._hv_plot_id;\n",
       "  var server_id = handle.cell.output_area._bokeh_server_id;\n",
       "  if (((id === undefined) || !(id in PyViz.plot_index)) && (server_id !== undefined)) { return; }\n",
       "  var comm = window.PyViz.comm_manager.get_client_comm(\"hv-extension-comm\", \"hv-extension-comm\", function () {});\n",
       "  if (server_id !== null) {\n",
       "    comm.send({event_type: 'server_delete', 'id': server_id});\n",
       "    return;\n",
       "  } else if (comm !== null) {\n",
       "    comm.send({event_type: 'delete', 'id': id});\n",
       "  }\n",
       "  delete PyViz.plot_index[id];\n",
       "  if ((window.Bokeh !== undefined) & (id in window.Bokeh.index)) {\n",
       "    var doc = window.Bokeh.index[id].model.document\n",
       "    doc.clear();\n",
       "    const i = window.Bokeh.documents.indexOf(doc);\n",
       "    if (i > -1) {\n",
       "      window.Bokeh.documents.splice(i, 1);\n",
       "    }\n",
       "  }\n",
       "}\n",
       "\n",
       "/**\n",
       " * Handle kernel restart event\n",
       " */\n",
       "function handle_kernel_cleanup(event, handle) {\n",
       "  delete PyViz.comms[\"hv-extension-comm\"];\n",
       "  window.PyViz.plot_index = {}\n",
       "}\n",
       "\n",
       "/**\n",
       " * Handle update_display_data messages\n",
       " */\n",
       "function handle_update_output(event, handle) {\n",
       "  handle_clear_output(event, {cell: {output_area: handle.output_area}})\n",
       "  handle_add_output(event, handle)\n",
       "}\n",
       "\n",
       "function register_renderer(events, OutputArea) {\n",
       "  function append_mime(data, metadata, element) {\n",
       "    // create a DOM node to render to\n",
       "    var toinsert = this.create_output_subarea(\n",
       "    metadata,\n",
       "    CLASS_NAME,\n",
       "    EXEC_MIME_TYPE\n",
       "    );\n",
       "    this.keyboard_manager.register_events(toinsert);\n",
       "    // Render to node\n",
       "    var props = {data: data, metadata: metadata[EXEC_MIME_TYPE]};\n",
       "    render(props, toinsert[0]);\n",
       "    element.append(toinsert);\n",
       "    return toinsert\n",
       "  }\n",
       "\n",
       "  events.on('output_added.OutputArea', handle_add_output);\n",
       "  events.on('output_updated.OutputArea', handle_update_output);\n",
       "  events.on('clear_output.CodeCell', handle_clear_output);\n",
       "  events.on('delete.Cell', handle_clear_output);\n",
       "  events.on('kernel_ready.Kernel', handle_kernel_cleanup);\n",
       "\n",
       "  OutputArea.prototype.register_mime_type(EXEC_MIME_TYPE, append_mime, {\n",
       "    safe: true,\n",
       "    index: 0\n",
       "  });\n",
       "}\n",
       "\n",
       "if (window.Jupyter !== undefined) {\n",
       "  try {\n",
       "    var events = require('base/js/events');\n",
       "    var OutputArea = require('notebook/js/outputarea').OutputArea;\n",
       "    if (OutputArea.prototype.mime_types().indexOf(EXEC_MIME_TYPE) == -1) {\n",
       "      register_renderer(events, OutputArea);\n",
       "    }\n",
       "  } catch(err) {\n",
       "  }\n",
       "}\n"
      ],
      "application/vnd.holoviews_load.v0+json": "\nif ((window.PyViz === undefined) || (window.PyViz instanceof HTMLElement)) {\n  window.PyViz = {comms: {}, comm_status:{}, kernels:{}, receivers: {}, plot_index: []}\n}\n\n\n    function JupyterCommManager() {\n    }\n\n    JupyterCommManager.prototype.register_target = function(plot_id, comm_id, msg_handler) {\n      if (window.comm_manager || ((window.Jupyter !== undefined) && (Jupyter.notebook.kernel != null))) {\n        var comm_manager = window.comm_manager || Jupyter.notebook.kernel.comm_manager;\n        comm_manager.register_target(comm_id, function(comm) {\n          comm.on_msg(msg_handler);\n        });\n      } else if ((plot_id in window.PyViz.kernels) && (window.PyViz.kernels[plot_id])) {\n        window.PyViz.kernels[plot_id].registerCommTarget(comm_id, function(comm) {\n          comm.onMsg = msg_handler;\n        });\n      } else if (typeof google != 'undefined' && google.colab.kernel != null) {\n        google.colab.kernel.comms.registerTarget(comm_id, (comm) => {\n          var messages = comm.messages[Symbol.asyncIterator]();\n          function processIteratorResult(result) {\n            var message = result.value;\n            console.log(message)\n            var content = {data: message.data, comm_id};\n            var buffers = []\n            for (var buffer of message.buffers || []) {\n              buffers.push(new DataView(buffer))\n            }\n            var metadata = message.metadata || {};\n            var msg = {content, buffers, metadata}\n            msg_handler(msg);\n            return messages.next().then(processIteratorResult);\n          }\n          return messages.next().then(processIteratorResult);\n        })\n      }\n    }\n\n    JupyterCommManager.prototype.get_client_comm = function(plot_id, comm_id, msg_handler) {\n      if (comm_id in window.PyViz.comms) {\n        return window.PyViz.comms[comm_id];\n      } else if (window.comm_manager || ((window.Jupyter !== undefined) && (Jupyter.notebook.kernel != null))) {\n        var comm_manager = window.comm_manager || Jupyter.notebook.kernel.comm_manager;\n        var comm = comm_manager.new_comm(comm_id, {}, {}, {}, comm_id);\n        if (msg_handler) {\n          comm.on_msg(msg_handler);\n        }\n      } else if ((plot_id in window.PyViz.kernels) && (window.PyViz.kernels[plot_id])) {\n        var comm = window.PyViz.kernels[plot_id].connectToComm(comm_id);\n        comm.open();\n        if (msg_handler) {\n          comm.onMsg = msg_handler;\n        }\n      } else if (typeof google != 'undefined' && google.colab.kernel != null) {\n        var comm_promise = google.colab.kernel.comms.open(comm_id)\n        comm_promise.then((comm) => {\n          window.PyViz.comms[comm_id] = comm;\n          if (msg_handler) {\n            var messages = comm.messages[Symbol.asyncIterator]();\n            function processIteratorResult(result) {\n              var message = result.value;\n              var content = {data: message.data};\n              var metadata = message.metadata || {comm_id};\n              var msg = {content, metadata}\n              msg_handler(msg);\n              return messages.next().then(processIteratorResult);\n            }\n            return messages.next().then(processIteratorResult);\n          }\n        })\n        var sendClosure = (data, metadata, buffers, disposeOnDone) => {\n          return comm_promise.then((comm) => {\n            comm.send(data, metadata, buffers, disposeOnDone);\n          });\n        };\n        var comm = {\n          send: sendClosure\n        };\n      }\n      window.PyViz.comms[comm_id] = comm;\n      return comm;\n    }\n    window.PyViz.comm_manager = new JupyterCommManager();\n    \n\n\nvar JS_MIME_TYPE = 'application/javascript';\nvar HTML_MIME_TYPE = 'text/html';\nvar EXEC_MIME_TYPE = 'application/vnd.holoviews_exec.v0+json';\nvar CLASS_NAME = 'output';\n\n/**\n * Render data to the DOM node\n */\nfunction render(props, node) {\n  var div = document.createElement(\"div\");\n  var script = document.createElement(\"script\");\n  node.appendChild(div);\n  node.appendChild(script);\n}\n\n/**\n * Handle when a new output is added\n */\nfunction handle_add_output(event, handle) {\n  var output_area = handle.output_area;\n  var output = handle.output;\n  if ((output.data == undefined) || (!output.data.hasOwnProperty(EXEC_MIME_TYPE))) {\n    return\n  }\n  var id = output.metadata[EXEC_MIME_TYPE][\"id\"];\n  var toinsert = output_area.element.find(\".\" + CLASS_NAME.split(' ')[0]);\n  if (id !== undefined) {\n    var nchildren = toinsert.length;\n    var html_node = toinsert[nchildren-1].children[0];\n    html_node.innerHTML = output.data[HTML_MIME_TYPE];\n    var scripts = [];\n    var nodelist = html_node.querySelectorAll(\"script\");\n    for (var i in nodelist) {\n      if (nodelist.hasOwnProperty(i)) {\n        scripts.push(nodelist[i])\n      }\n    }\n\n    scripts.forEach( function (oldScript) {\n      var newScript = document.createElement(\"script\");\n      var attrs = [];\n      var nodemap = oldScript.attributes;\n      for (var j in nodemap) {\n        if (nodemap.hasOwnProperty(j)) {\n          attrs.push(nodemap[j])\n        }\n      }\n      attrs.forEach(function(attr) { newScript.setAttribute(attr.name, attr.value) });\n      newScript.appendChild(document.createTextNode(oldScript.innerHTML));\n      oldScript.parentNode.replaceChild(newScript, oldScript);\n    });\n    if (JS_MIME_TYPE in output.data) {\n      toinsert[nchildren-1].children[1].textContent = output.data[JS_MIME_TYPE];\n    }\n    output_area._hv_plot_id = id;\n    if ((window.Bokeh !== undefined) && (id in Bokeh.index)) {\n      window.PyViz.plot_index[id] = Bokeh.index[id];\n    } else {\n      window.PyViz.plot_index[id] = null;\n    }\n  } else if (output.metadata[EXEC_MIME_TYPE][\"server_id\"] !== undefined) {\n    var bk_div = document.createElement(\"div\");\n    bk_div.innerHTML = output.data[HTML_MIME_TYPE];\n    var script_attrs = bk_div.children[0].attributes;\n    for (var i = 0; i < script_attrs.length; i++) {\n      toinsert[toinsert.length - 1].childNodes[1].setAttribute(script_attrs[i].name, script_attrs[i].value);\n    }\n    // store reference to server id on output_area\n    output_area._bokeh_server_id = output.metadata[EXEC_MIME_TYPE][\"server_id\"];\n  }\n}\n\n/**\n * Handle when an output is cleared or removed\n */\nfunction handle_clear_output(event, handle) {\n  var id = handle.cell.output_area._hv_plot_id;\n  var server_id = handle.cell.output_area._bokeh_server_id;\n  if (((id === undefined) || !(id in PyViz.plot_index)) && (server_id !== undefined)) { return; }\n  var comm = window.PyViz.comm_manager.get_client_comm(\"hv-extension-comm\", \"hv-extension-comm\", function () {});\n  if (server_id !== null) {\n    comm.send({event_type: 'server_delete', 'id': server_id});\n    return;\n  } else if (comm !== null) {\n    comm.send({event_type: 'delete', 'id': id});\n  }\n  delete PyViz.plot_index[id];\n  if ((window.Bokeh !== undefined) & (id in window.Bokeh.index)) {\n    var doc = window.Bokeh.index[id].model.document\n    doc.clear();\n    const i = window.Bokeh.documents.indexOf(doc);\n    if (i > -1) {\n      window.Bokeh.documents.splice(i, 1);\n    }\n  }\n}\n\n/**\n * Handle kernel restart event\n */\nfunction handle_kernel_cleanup(event, handle) {\n  delete PyViz.comms[\"hv-extension-comm\"];\n  window.PyViz.plot_index = {}\n}\n\n/**\n * Handle update_display_data messages\n */\nfunction handle_update_output(event, handle) {\n  handle_clear_output(event, {cell: {output_area: handle.output_area}})\n  handle_add_output(event, handle)\n}\n\nfunction register_renderer(events, OutputArea) {\n  function append_mime(data, metadata, element) {\n    // create a DOM node to render to\n    var toinsert = this.create_output_subarea(\n    metadata,\n    CLASS_NAME,\n    EXEC_MIME_TYPE\n    );\n    this.keyboard_manager.register_events(toinsert);\n    // Render to node\n    var props = {data: data, metadata: metadata[EXEC_MIME_TYPE]};\n    render(props, toinsert[0]);\n    element.append(toinsert);\n    return toinsert\n  }\n\n  events.on('output_added.OutputArea', handle_add_output);\n  events.on('output_updated.OutputArea', handle_update_output);\n  events.on('clear_output.CodeCell', handle_clear_output);\n  events.on('delete.Cell', handle_clear_output);\n  events.on('kernel_ready.Kernel', handle_kernel_cleanup);\n\n  OutputArea.prototype.register_mime_type(EXEC_MIME_TYPE, append_mime, {\n    safe: true,\n    index: 0\n  });\n}\n\nif (window.Jupyter !== undefined) {\n  try {\n    var events = require('base/js/events');\n    var OutputArea = require('notebook/js/outputarea').OutputArea;\n    if (OutputArea.prototype.mime_types().indexOf(EXEC_MIME_TYPE) == -1) {\n      register_renderer(events, OutputArea);\n    }\n  } catch(err) {\n  }\n}\n"
     },
     "metadata": {},
     "output_type": "display_data"
    },
    {
     "data": {
      "text/html": [
       "<style>*[data-root-id],\n",
       "*[data-root-id] > * {\n",
       "  box-sizing: border-box;\n",
       "  font-family: var(--jp-ui-font-family);\n",
       "  font-size: var(--jp-ui-font-size1);\n",
       "  color: var(--vscode-editor-foreground, var(--jp-ui-font-color1));\n",
       "}\n",
       "\n",
       "/* Override VSCode background color */\n",
       ".cell-output-ipywidget-background:has(\n",
       "    > .cell-output-ipywidget-background > .lm-Widget > *[data-root-id]\n",
       "  ),\n",
       ".cell-output-ipywidget-background:has(> .lm-Widget > *[data-root-id]) {\n",
       "  background-color: transparent !important;\n",
       "}\n",
       "</style>"
      ]
     },
     "metadata": {},
     "output_type": "display_data"
    }
   ],
   "source": [
    "import pandas as pd\n",
    "import numpy as np\n",
    "\n",
    "import holoviews as hv\n",
    "from holoviews import dim, opts\n",
    "import hvplot.pandas\n",
    "hv.extension('matplotlib')"
   ]
  },
  {
   "cell_type": "code",
   "execution_count": 33,
   "metadata": {
    "editable": true,
    "slideshow": {
     "slide_type": "notes"
    },
    "tags": []
   },
   "outputs": [],
   "source": [
    "b = pd.read_excel('br_primario_1997_2019.xlsx')\n",
    "\n",
    "min_ano = b['Ano'].min()\n",
    "max_ano = b['Ano'].max()\n",
    "\n",
    "prim = b.hvplot.bar('Ano', 'Resultado primário',\n",
    "                    height=450,\n",
    "                    width=800,\n",
    "                    rot=0,\n",
    "                    padding=0.1,\n",
    "                    legend=False,\n",
    "                    color='crimson',\n",
    "                    alpha=0.7,\n",
    "                    xlabel='',\n",
    "                    ylabel='',\n",
    "                    xticks=15,\n",
    "                    xlim=(min_ano-0.5, max_ano+0.5),\n",
    "                    yformatter='%.1f',\n",
    "                    label='Resultado primário do governo central, Brasil, 1997-2019 (% do PIB)'\n",
    "                   ).opts(fontsize={'title': 14, 'labels': 11, 'xticks': 11, 'yticks': 11})"
   ]
  },
  {
   "cell_type": "code",
   "execution_count": 34,
   "metadata": {
    "editable": true,
    "slideshow": {
     "slide_type": "slide"
    },
    "tags": []
   },
   "outputs": [
    {
     "data": {
      "text/html": [
       "<img src='data:image/png;base64,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' style='max-width:100%; margin: auto; display: block; '/>"
      ],
      "text/plain": [
       ":Bars   [Ano]   (Resultado primário)"
      ]
     },
     "execution_count": 34,
     "metadata": {
      "application/vnd.holoviews_exec.v0+json": {}
     },
     "output_type": "execute_result"
    }
   ],
   "source": [
    "prim"
   ]
  },
  {
   "cell_type": "markdown",
   "metadata": {
    "editable": true,
    "slideshow": {
     "slide_type": "slide"
    },
    "tags": []
   },
   "source": [
    "## Causas\n",
    "\n",
    "Notar, porém, que esses ganhos não resultaram da redução de gastos – que subiram de 15,14% do PIB em 2003 para 15,59% em 2004 e 16,38% em 2005."
   ]
  },
  {
   "cell_type": "markdown",
   "metadata": {
    "slideshow": {
     "slide_type": "fragment"
    }
   },
   "source": [
    "O superávit primário cresceu especialmente devido ao grande aumento das receitas (22,74% do PIB\n",
    "em 2005 contra 20,98% em 2003)."
   ]
  },
  {
   "cell_type": "markdown",
   "metadata": {
    "slideshow": {
     "slide_type": "fragment"
    }
   },
   "source": [
    "A partir de 2006, o superávit primário tendeu a cair (especialmente em 2009 e 2012). Os gastos do governo central cresceram substancialmente, chegando a 18,58% do PIB em 2010 (15,14% em 2005). "
   ]
  },
  {
   "cell_type": "markdown",
   "metadata": {
    "slideshow": {
     "slide_type": "subslide"
    }
   },
   "source": [
    "Quais razões possíveis? Mudança no MF (Palocci substituido por Guido Mantega em mar/2006)? 2o mandato (eleição em out/2006)? Para detalhes das contas, ver a seguir."
   ]
  },
  {
   "cell_type": "markdown",
   "metadata": {
    "slideshow": {
     "slide_type": "slide"
    }
   },
   "source": [
    "### <center></center>\n",
    "\n",
    "<center><img src=\"br_resultado_fiscal_1997_2011.png\" width=\"900\" height=\"950\"></center>"
   ]
  },
  {
   "cell_type": "code",
   "execution_count": 29,
   "metadata": {
    "slideshow": {
     "slide_type": "notes"
    }
   },
   "outputs": [],
   "source": [
    "p = pd.read_excel('br_primario_1997_2019.xlsx')\n",
    "\n",
    "gov = p.hvplot.bar('Ano', ['Resultado primário', 'Juros nominais','NFSP'],\n",
    "                   height=450,\n",
    "                   width=800,\n",
    "                   rot=45,\n",
    "                   stacked=True,\n",
    "                   padding=0.02,\n",
    "                   legend='bottom',\n",
    "                   cmap='Set1',\n",
    "                   alpha=0.7,\n",
    "                   group_label= 'Resultados',\n",
    "                   xlabel='',\n",
    "                   ylabel='%',\n",
    "                   yformatter='%.1f',\n",
    "                   label='Resultados do governo central, Brasil, 1997-2019 (% do PIB)'\n",
    "                  ).opts(fontsize={'title': 14, 'labels': 11,\n",
    "                                   'xticks': 11, 'yticks': 11}).opts(multi_level=False)"
   ]
  },
  {
   "cell_type": "code",
   "execution_count": 30,
   "metadata": {
    "slideshow": {
     "slide_type": "slide"
    }
   },
   "outputs": [
    {
     "data": {
      "text/html": [
       "<img src='data:image/png;base64,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' style='max-width:100%; margin: auto; display: block; '/>"
      ],
      "text/plain": [
       ":Bars   [Ano,Resultados]   (value)"
      ]
     },
     "execution_count": 30,
     "metadata": {
      "application/vnd.holoviews_exec.v0+json": {}
     },
     "output_type": "execute_result"
    }
   ],
   "source": [
    "gov"
   ]
  },
  {
   "cell_type": "markdown",
   "metadata": {
    "slideshow": {
     "slide_type": "slide"
    }
   },
   "source": [
    "## Crise de 2008\n",
    "\n",
    "A crise internacional de 2008/9 reforçou a tendência de mudança da política macroeconômica do governo Lula."
   ]
  },
  {
   "cell_type": "markdown",
   "metadata": {
    "slideshow": {
     "slide_type": "fragment"
    }
   },
   "source": [
    " O crescimento do PIB foi ainda alto em 2008 (5,0%), mas despencou em 2009 (-0,1%). Indústria: 4,1% (2008), -9,2% (2009). Não obstante, o crescimento voltou com força no ano seguinte, embora tendo uma base inferior no ano da crise: 7,5% em 2010; indústria, 9,2% (mas 4,0% e 2,2% em 2011). Ver os números adiante."
   ]
  },
  {
   "cell_type": "markdown",
   "metadata": {
    "slideshow": {
     "slide_type": "fragment"
    }
   },
   "source": [
    "A resposta do governo à crise deu-se em várias frentes: expansão do crédito, redução dos juros, sustentação da taxa de câmbio, socorro às empresas endividadas em moeda estrangeira e vários estímulos fiscais para diferentes setores econômicos."
   ]
  },
  {
   "cell_type": "markdown",
   "metadata": {
    "slideshow": {
     "slide_type": "subslide"
    }
   },
   "source": [
    "Além das contas do orçamento, as operações para-fiscais via empréstimos subsidiados do BNDES e CEF receberam grande impulso."
   ]
  },
  {
   "cell_type": "markdown",
   "metadata": {
    "slideshow": {
     "slide_type": "slide"
    }
   },
   "source": [
    "## Comércio exterior\n",
    "\n",
    "O início do governo Lula coincidiu com os efeitos mais visiveis e expressivos da grande expansão do comércio internacional liderada pela China."
   ]
  },
  {
   "cell_type": "markdown",
   "metadata": {
    "slideshow": {
     "slide_type": "fragment"
    }
   },
   "source": [
    "O efeito desta expansão global sobre os preços de *commodities* exportadas pelo Brasil e os termos de troca foi direto."
   ]
  },
  {
   "cell_type": "markdown",
   "metadata": {
    "slideshow": {
     "slide_type": "fragment"
    }
   },
   "source": [
    "Ver as figuras a seguir com as séries dos termos de troca e da capacidade para importar (*income terms of trade*). Reparem em especial o desempenho da capacidade para importar."
   ]
  },
  {
   "cell_type": "code",
   "execution_count": 53,
   "metadata": {
    "slideshow": {
     "slide_type": "notes"
    }
   },
   "outputs": [],
   "source": [
    "p = pd.read_excel('br_terms_1990_2019.xlsx')\n",
    "\n",
    "termos = p.hvplot.line('Ano', ['Termos de troca', 'Capacidade para importar'],\n",
    "                       height=450,\n",
    "                       width=800,\n",
    "                       rot=45,\n",
    "                       padding=0.02,\n",
    "                       group_label='Indicador',\n",
    "                       legend='bottom',\n",
    "                       cmap='Set2',\n",
    "                       ylim=(0, 150),\n",
    "                       xlim=(1990, 2011),\n",
    "                       yticks=20,\n",
    "                       xticks=22,\n",
    "                       xlabel='',\n",
    "                       ylabel='Índice 2006=100',\n",
    "                       label='Termos de troca e capacidade para importar, Brasil, 1990-2011'\n",
    "                      ).opts(fontsize={'title': 14, 'labels': 11, 'xticks': 11, 'yticks': 11})"
   ]
  },
  {
   "cell_type": "code",
   "execution_count": 54,
   "metadata": {
    "slideshow": {
     "slide_type": "slide"
    }
   },
   "outputs": [
    {
     "data": {
      "text/html": [
       "<img src='data:image/png;base64,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' style='max-width:100%; margin: auto; display: block; '/>"
      ],
      "text/plain": [
       ":NdOverlay   [Indicador]\n",
       "   :Curve   [Ano]   (value)"
      ]
     },
     "execution_count": 54,
     "metadata": {
      "application/vnd.holoviews_exec.v0+json": {}
     },
     "output_type": "execute_result"
    }
   ],
   "source": [
    "termos"
   ]
  },
  {
   "cell_type": "markdown",
   "metadata": {
    "slideshow": {
     "slide_type": "slide"
    }
   },
   "source": [
    "## Resultados macro\n",
    "\n",
    "Para concluir, vejamos os principais resultados dos agregados macroeconômicos, comparados aos números anteriores e posteriores a 2003-2010."
   ]
  },
  {
   "cell_type": "markdown",
   "metadata": {
    "slideshow": {
     "slide_type": "fragment"
    }
   },
   "source": [
    "Primeiro, o crescimento da produção foi positivo durante toda a década de 2000, com exceção de 2008, conforme observado antes."
   ]
  },
  {
   "cell_type": "markdown",
   "metadata": {
    "slideshow": {
     "slide_type": "fragment"
    }
   },
   "source": [
    "Quanto à inflação, depois de queda de 12,5% em 2002 para 3,14% em 2006, o índice de preços ao consumidor subiu para 5,9% em 2010, com tendência de alta."
   ]
  },
  {
   "cell_type": "code",
   "execution_count": 92,
   "metadata": {
    "slideshow": {
     "slide_type": "notes"
    }
   },
   "outputs": [],
   "source": [
    "pr = pd.read_excel('br_pib_real_1990_2021.xlsx')\n",
    "\n",
    "produto = pr.hvplot.bar('Ano', ['PIB', 'Indústria'],\n",
    "                        height=450,\n",
    "                        width=900,\n",
    "                        stacked=True,\n",
    "                        rot=45,\n",
    "                        padding=0.02,\n",
    "                        legend='bottom',\n",
    "                        cmap='tab10',\n",
    "                        yticks=12,\n",
    "                        xticks=8,\n",
    "                        ylim=(-18,18),\n",
    "                        group_label='Produto',\n",
    "                        xlabel='',\n",
    "                        ylabel='taxa de crescimento anual, %',\n",
    "                        label='Crescimento do PIB e da indústria, Brasil, 1990-2011'\n",
    "                       ).opts(fontsize={'title': 14, 'labels': 11, 'xticks': 11, \n",
    "                                        'yticks': 11, 'legend': 11}).opts(multi_level=False)"
   ]
  },
  {
   "cell_type": "code",
   "execution_count": 93,
   "metadata": {
    "slideshow": {
     "slide_type": "slide"
    }
   },
   "outputs": [
    {
     "data": {
      "text/html": [
       "<img src='data:image/png;base64,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' style='max-width:100%; margin: auto; display: block; '/>"
      ],
      "text/plain": [
       ":Bars   [Ano,Produto]   (value)"
      ]
     },
     "execution_count": 93,
     "metadata": {
      "application/vnd.holoviews_exec.v0+json": {}
     },
     "output_type": "execute_result"
    }
   ],
   "source": [
    "produto"
   ]
  },
  {
   "cell_type": "code",
   "execution_count": 94,
   "metadata": {
    "slideshow": {
     "slide_type": "slide"
    }
   },
   "outputs": [
    {
     "data": {
      "text/html": [
       "<div>\n",
       "<style scoped>\n",
       "    .dataframe tbody tr th:only-of-type {\n",
       "        vertical-align: middle;\n",
       "    }\n",
       "\n",
       "    .dataframe tbody tr th {\n",
       "        vertical-align: top;\n",
       "    }\n",
       "\n",
       "    .dataframe thead th {\n",
       "        text-align: right;\n",
       "    }\n",
       "</style>\n",
       "<table border=\"1\" class=\"dataframe\">\n",
       "  <thead>\n",
       "    <tr style=\"text-align: right;\">\n",
       "      <th></th>\n",
       "      <th>Ano</th>\n",
       "      <th>PIB</th>\n",
       "      <th>Indústria</th>\n",
       "    </tr>\n",
       "  </thead>\n",
       "  <tbody>\n",
       "    <tr>\n",
       "      <th>0</th>\n",
       "      <td>1990</td>\n",
       "      <td>-4.350000</td>\n",
       "      <td>-8.18</td>\n",
       "    </tr>\n",
       "    <tr>\n",
       "      <th>1</th>\n",
       "      <td>1991</td>\n",
       "      <td>1.032190</td>\n",
       "      <td>0.26</td>\n",
       "    </tr>\n",
       "    <tr>\n",
       "      <th>2</th>\n",
       "      <td>1992</td>\n",
       "      <td>-0.544072</td>\n",
       "      <td>-4.22</td>\n",
       "    </tr>\n",
       "    <tr>\n",
       "      <th>3</th>\n",
       "      <td>1993</td>\n",
       "      <td>4.924690</td>\n",
       "      <td>7.01</td>\n",
       "    </tr>\n",
       "    <tr>\n",
       "      <th>4</th>\n",
       "      <td>1994</td>\n",
       "      <td>5.852870</td>\n",
       "      <td>6.73</td>\n",
       "    </tr>\n",
       "    <tr>\n",
       "      <th>5</th>\n",
       "      <td>1995</td>\n",
       "      <td>4.223794</td>\n",
       "      <td>1.91</td>\n",
       "    </tr>\n",
       "    <tr>\n",
       "      <th>6</th>\n",
       "      <td>1996</td>\n",
       "      <td>2.208864</td>\n",
       "      <td>0.97</td>\n",
       "    </tr>\n",
       "    <tr>\n",
       "      <th>7</th>\n",
       "      <td>1997</td>\n",
       "      <td>3.394846</td>\n",
       "      <td>4.37</td>\n",
       "    </tr>\n",
       "    <tr>\n",
       "      <th>8</th>\n",
       "      <td>1998</td>\n",
       "      <td>0.338098</td>\n",
       "      <td>-2.09</td>\n",
       "    </tr>\n",
       "    <tr>\n",
       "      <th>9</th>\n",
       "      <td>1999</td>\n",
       "      <td>0.467938</td>\n",
       "      <td>-2.61</td>\n",
       "    </tr>\n",
       "    <tr>\n",
       "      <th>10</th>\n",
       "      <td>2000</td>\n",
       "      <td>4.387949</td>\n",
       "      <td>4.41</td>\n",
       "    </tr>\n",
       "    <tr>\n",
       "      <th>11</th>\n",
       "      <td>2001</td>\n",
       "      <td>1.389896</td>\n",
       "      <td>-0.64</td>\n",
       "    </tr>\n",
       "    <tr>\n",
       "      <th>12</th>\n",
       "      <td>2002</td>\n",
       "      <td>3.053462</td>\n",
       "      <td>3.80</td>\n",
       "    </tr>\n",
       "    <tr>\n",
       "      <th>13</th>\n",
       "      <td>2003</td>\n",
       "      <td>1.140829</td>\n",
       "      <td>0.10</td>\n",
       "    </tr>\n",
       "    <tr>\n",
       "      <th>14</th>\n",
       "      <td>2004</td>\n",
       "      <td>5.759965</td>\n",
       "      <td>8.21</td>\n",
       "    </tr>\n",
       "    <tr>\n",
       "      <th>15</th>\n",
       "      <td>2005</td>\n",
       "      <td>3.202132</td>\n",
       "      <td>1.99</td>\n",
       "    </tr>\n",
       "    <tr>\n",
       "      <th>16</th>\n",
       "      <td>2006</td>\n",
       "      <td>3.961989</td>\n",
       "      <td>2.01</td>\n",
       "    </tr>\n",
       "    <tr>\n",
       "      <th>17</th>\n",
       "      <td>2007</td>\n",
       "      <td>6.069871</td>\n",
       "      <td>6.21</td>\n",
       "    </tr>\n",
       "    <tr>\n",
       "      <th>18</th>\n",
       "      <td>2008</td>\n",
       "      <td>5.094195</td>\n",
       "      <td>4.10</td>\n",
       "    </tr>\n",
       "    <tr>\n",
       "      <th>19</th>\n",
       "      <td>2009</td>\n",
       "      <td>-0.125812</td>\n",
       "      <td>-4.70</td>\n",
       "    </tr>\n",
       "    <tr>\n",
       "      <th>20</th>\n",
       "      <td>2010</td>\n",
       "      <td>7.528226</td>\n",
       "      <td>10.20</td>\n",
       "    </tr>\n",
       "    <tr>\n",
       "      <th>21</th>\n",
       "      <td>2011</td>\n",
       "      <td>3.974423</td>\n",
       "      <td>4.11</td>\n",
       "    </tr>\n",
       "    <tr>\n",
       "      <th>22</th>\n",
       "      <td>2012</td>\n",
       "      <td>1.921176</td>\n",
       "      <td>-0.72</td>\n",
       "    </tr>\n",
       "    <tr>\n",
       "      <th>23</th>\n",
       "      <td>2013</td>\n",
       "      <td>3.004823</td>\n",
       "      <td>2.17</td>\n",
       "    </tr>\n",
       "    <tr>\n",
       "      <th>24</th>\n",
       "      <td>2014</td>\n",
       "      <td>0.503956</td>\n",
       "      <td>-1.51</td>\n",
       "    </tr>\n",
       "    <tr>\n",
       "      <th>25</th>\n",
       "      <td>2015</td>\n",
       "      <td>-3.545763</td>\n",
       "      <td>-5.76</td>\n",
       "    </tr>\n",
       "    <tr>\n",
       "      <th>26</th>\n",
       "      <td>2016</td>\n",
       "      <td>-3.275917</td>\n",
       "      <td>-4.57</td>\n",
       "    </tr>\n",
       "    <tr>\n",
       "      <th>27</th>\n",
       "      <td>2017</td>\n",
       "      <td>1.322869</td>\n",
       "      <td>-0.50</td>\n",
       "    </tr>\n",
       "    <tr>\n",
       "      <th>28</th>\n",
       "      <td>2018</td>\n",
       "      <td>1.783667</td>\n",
       "      <td>0.72</td>\n",
       "    </tr>\n",
       "    <tr>\n",
       "      <th>29</th>\n",
       "      <td>2019</td>\n",
       "      <td>1.220778</td>\n",
       "      <td>-0.67</td>\n",
       "    </tr>\n",
       "    <tr>\n",
       "      <th>30</th>\n",
       "      <td>2020</td>\n",
       "      <td>-3.878676</td>\n",
       "      <td>-3.40</td>\n",
       "    </tr>\n",
       "    <tr>\n",
       "      <th>31</th>\n",
       "      <td>2021</td>\n",
       "      <td>4.619422</td>\n",
       "      <td>4.48</td>\n",
       "    </tr>\n",
       "  </tbody>\n",
       "</table>\n",
       "</div>"
      ],
      "text/plain": [
       "     Ano       PIB  Indústria\n",
       "0   1990 -4.350000      -8.18\n",
       "1   1991  1.032190       0.26\n",
       "2   1992 -0.544072      -4.22\n",
       "3   1993  4.924690       7.01\n",
       "4   1994  5.852870       6.73\n",
       "5   1995  4.223794       1.91\n",
       "6   1996  2.208864       0.97\n",
       "7   1997  3.394846       4.37\n",
       "8   1998  0.338098      -2.09\n",
       "9   1999  0.467938      -2.61\n",
       "10  2000  4.387949       4.41\n",
       "11  2001  1.389896      -0.64\n",
       "12  2002  3.053462       3.80\n",
       "13  2003  1.140829       0.10\n",
       "14  2004  5.759965       8.21\n",
       "15  2005  3.202132       1.99\n",
       "16  2006  3.961989       2.01\n",
       "17  2007  6.069871       6.21\n",
       "18  2008  5.094195       4.10\n",
       "19  2009 -0.125812      -4.70\n",
       "20  2010  7.528226      10.20\n",
       "21  2011  3.974423       4.11\n",
       "22  2012  1.921176      -0.72\n",
       "23  2013  3.004823       2.17\n",
       "24  2014  0.503956      -1.51\n",
       "25  2015 -3.545763      -5.76\n",
       "26  2016 -3.275917      -4.57\n",
       "27  2017  1.322869      -0.50\n",
       "28  2018  1.783667       0.72\n",
       "29  2019  1.220778      -0.67\n",
       "30  2020 -3.878676      -3.40\n",
       "31  2021  4.619422       4.48"
      ]
     },
     "execution_count": 94,
     "metadata": {},
     "output_type": "execute_result"
    }
   ],
   "source": [
    "pr"
   ]
  },
  {
   "cell_type": "code",
   "execution_count": 130,
   "metadata": {
    "slideshow": {
     "slide_type": "notes"
    }
   },
   "outputs": [],
   "source": [
    "p = pd.read_excel('ipca_1995_2019.xlsx')\n",
    "\n",
    "min_ano = p['Ano'].min()\n",
    "max_ano = p['Ano'].max()\n",
    "\n",
    "ipca = p.hvplot.bar('Ano', 'IPCA',\n",
    "                    height=450,\n",
    "                    width=800,\n",
    "                    rot=0,\n",
    "                    padding=0.1,\n",
    "                    legend='top_right',\n",
    "                    color='tomato',\n",
    "                    xlim=(min_ano-0.5, max_ano+0.5),\n",
    "                    #xlim=(1995, 2019),\n",
    "                    yticks=18,\n",
    "                    xticks=9,\n",
    "                    xlabel='',\n",
    "                    ylabel='taxa de crescimento anual, %',\n",
    "                    label='Inflação, Brasil, 1995-2019 (IPCA, anual, %)'\n",
    "                   ).opts(fontsize={'title': 14, 'labels': 11, 'xticks': 11,\n",
    "                                    'yticks': 11, 'legend': 11})"
   ]
  },
  {
   "cell_type": "code",
   "execution_count": 131,
   "metadata": {
    "slideshow": {
     "slide_type": "slide"
    }
   },
   "outputs": [
    {
     "data": {
      "text/html": [
       "<img src='data:image/png;base64,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' style='max-width:100%; margin: auto; display: block; '/>"
      ],
      "text/plain": [
       ":Bars   [Ano]   (IPCA)"
      ]
     },
     "execution_count": 131,
     "metadata": {
      "application/vnd.holoviews_exec.v0+json": {}
     },
     "output_type": "execute_result"
    }
   ],
   "source": [
    "ipca"
   ]
  },
  {
   "cell_type": "markdown",
   "metadata": {
    "slideshow": {
     "slide_type": "slide"
    }
   },
   "source": [
    "## Setor externo e reservas\n",
    "\n",
    "No balanço de pagamentos, as transações correntes saíram de saldo positivo até 2007 (1,8% do PIB em 2004, 0,1% em 2007) para negativo daí em diante (por exemplo, -1,7% do PIB em 2008 e -2,2% em 2010). Sinal de crescente deterioração externa nesse aspecto."
   ]
  },
  {
   "cell_type": "markdown",
   "metadata": {
    "slideshow": {
     "slide_type": "fragment"
    }
   },
   "source": [
    "*Mas* durante todo o período as entradas de capital se mantiveram elevadas, bem com o estoque das reservas internacionais. De fato, como vimos anteriormente, a reestruturação da dívida externa no início dos anos 1990 marcou o retorno do Brasil ao mercado de crédito internacional."
   ]
  },
  {
   "cell_type": "markdown",
   "metadata": {
    "slideshow": {
     "slide_type": "fragment"
    }
   },
   "source": [
    "Mas a partir de meados da década de 2000, no início do primeiro governo Lula, a entrada de capital externo atingiu níveis excepcionais. Notar que essa tendência manteve-se nos anos seguintes, apesar da mudança no desempenho macroeconômico, como veremos na próxima aula."
   ]
  },
  {
   "cell_type": "markdown",
   "metadata": {
    "slideshow": {
     "slide_type": "subslide"
    }
   },
   "source": [
    "Vejam os gráficos a seguir e comparem os períodos antes e depois dos anos 2000 considerando o total de reservas e dois indicadores: reservas em relação à dívida externa e reservas em meses de importações. "
   ]
  },
  {
   "cell_type": "code",
   "execution_count": 138,
   "metadata": {
    "slideshow": {
     "slide_type": "notes"
    }
   },
   "outputs": [],
   "source": [
    "r = pd.read_excel('br_reservas_int_1980_2019.xlsx')\n",
    "\n",
    "min_ano = r['Ano'].min()\n",
    "max_ano = r['Ano'].max()\n",
    "\n",
    "reservas_lp = r.hvplot.bar('Ano', 'Reservas internacionais',\n",
    "                              height=450,\n",
    "                              width=850,\n",
    "                              rot=0,\n",
    "                              padding=0.02,\n",
    "                              legend='top_left',\n",
    "                              color='blueviolet',\n",
    "                              yticks=18,\n",
    "                              xticks=16,\n",
    "                              xlabel='',\n",
    "                              ylabel='',\n",
    "                              xlim=(min_ano-0.5, max_ano+0.5),\n",
    "                              yformatter='%.0f',\n",
    "                              label='Reservas internacionais, Brasil, 1978-2019 (em milhões de US$)'\n",
    "                             ).opts(fontsize={'title': 14, 'labels': 11, 'xticks': 11,\n",
    "                                              'yticks': 11, 'legend': 11}).opts(multi_level=False)"
   ]
  },
  {
   "cell_type": "code",
   "execution_count": 139,
   "metadata": {
    "slideshow": {
     "slide_type": "slide"
    }
   },
   "outputs": [
    {
     "data": {
      "text/html": [
       "<img src='data:image/png;base64,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' style='max-width:100%; margin: auto; display: block; '/>"
      ],
      "text/plain": [
       ":Bars   [Ano]   (Reservas internacionais)"
      ]
     },
     "execution_count": 139,
     "metadata": {
      "application/vnd.holoviews_exec.v0+json": {}
     },
     "output_type": "execute_result"
    }
   ],
   "source": [
    "reservas_lp"
   ]
  },
  {
   "cell_type": "code",
   "execution_count": 146,
   "metadata": {
    "slideshow": {
     "slide_type": "notes"
    }
   },
   "outputs": [],
   "source": [
    "r = pd.read_excel('br_reservas_debt_1975_2018.xlsx')\n",
    "\n",
    "min_ano = r['Ano'].min()\n",
    "max_ano = r['Ano'].max()\n",
    "\n",
    "reservas_div = r.hvplot.bar('Ano', 'Reservas (% dívida externa)',\n",
    "                            height=450,\n",
    "                            width=850,\n",
    "                            rot=0,\n",
    "                            padding=0.1,\n",
    "                            legend='top_left',\n",
    "                            color='dodgerblue',\n",
    "                            yticks=18,\n",
    "                            xticks=17,\n",
    "                            ylim=(0,90),\n",
    "                            xlabel='',\n",
    "                            ylabel='% da dívida externa total',\n",
    "                            xlim=(min_ano-0.5, max_ano+0.5),\n",
    "                            yformatter='%.1f',\n",
    "                            label='Reservas internacionais - % da dívida externa total, Brasil, 1975-2018'\n",
    "                           ).opts(fontsize={'title': 14, 'labels': 11, 'xticks': 11,\n",
    "                                              'yticks': 11, 'legend': 11}).opts(multi_level=False)"
   ]
  },
  {
   "cell_type": "code",
   "execution_count": 147,
   "metadata": {
    "slideshow": {
     "slide_type": "slide"
    }
   },
   "outputs": [
    {
     "data": {
      "text/html": [
       "<img src='data:image/png;base64,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' style='max-width:100%; margin: auto; display: block; '/>"
      ],
      "text/plain": [
       ":Bars   [Ano]   (Reservas (% dívida externa))"
      ]
     },
     "execution_count": 147,
     "metadata": {
      "application/vnd.holoviews_exec.v0+json": {}
     },
     "output_type": "execute_result"
    }
   ],
   "source": [
    "reservas_div"
   ]
  },
  {
   "cell_type": "code",
   "execution_count": 151,
   "metadata": {
    "slideshow": {
     "slide_type": "notes"
    }
   },
   "outputs": [],
   "source": [
    "r = pd.read_excel('br_reservas_imp_1975_2018.xlsx')\n",
    "\n",
    "min_ano = r['Ano'].min()\n",
    "max_ano = r['Ano'].max()\n",
    "\n",
    "reservas_imp = r.hvplot.bar('Ano', 'Reservas (meses de importações)',\n",
    "                            height=450,\n",
    "                            width=800,\n",
    "                            rot=0,\n",
    "                            padding=0.02,\n",
    "                            legend='top_left',\n",
    "                            color='salmon',\n",
    "                            yticks=18,\n",
    "                            xticks=16,\n",
    "                            xlabel='',\n",
    "                            ylabel='número de meses',\n",
    "                            xlim=(min_ano-0.5, max_ano+0.5),\n",
    "                            yformatter='%.0f',\n",
    "                            label='Total das reservas internacionais, Brasil, 1975-2018 (em meses de importações)'\n",
    "                           ).opts(fontsize={'title': 14, 'labels': 11, 'xticks': 11, \n",
    "                                            'yticks': 11, 'legend': 11}).opts(multi_level=False)"
   ]
  },
  {
   "cell_type": "code",
   "execution_count": 152,
   "metadata": {
    "slideshow": {
     "slide_type": "slide"
    }
   },
   "outputs": [
    {
     "data": {
      "text/html": [
       "<img src='data:image/png;base64,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' style='max-width:100%; margin: auto; display: block; '/>"
      ],
      "text/plain": [
       ":Bars   [Ano]   (Reservas (meses de importações))"
      ]
     },
     "execution_count": 152,
     "metadata": {
      "application/vnd.holoviews_exec.v0+json": {}
     },
     "output_type": "execute_result"
    }
   ],
   "source": [
    "reservas_imp"
   ]
  }
 ],
 "metadata": {
  "celltoolbar": "Slideshow",
  "kernelspec": {
   "display_name": "Python 3 (ipykernel)",
   "language": "python",
   "name": "python3"
  },
  "language_info": {
   "codemirror_mode": {
    "name": "ipython",
    "version": 3
   },
   "file_extension": ".py",
   "mimetype": "text/x-python",
   "name": "python",
   "nbconvert_exporter": "python",
   "pygments_lexer": "ipython3",
   "version": "3.9.23"
  },
  "toc": {
   "base_numbering": 1,
   "nav_menu": {},
   "number_sections": false,
   "sideBar": true,
   "skip_h1_title": false,
   "title_cell": "Table of Contents",
   "title_sidebar": "Contents",
   "toc_cell": false,
   "toc_position": {},
   "toc_section_display": true,
   "toc_window_display": false
  }
 },
 "nbformat": 4,
 "nbformat_minor": 4
}
