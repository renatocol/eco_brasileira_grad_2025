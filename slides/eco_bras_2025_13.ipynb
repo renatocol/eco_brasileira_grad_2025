{
 "cells": [
  {
   "cell_type": "markdown",
   "metadata": {
    "heading_collapsed": true,
    "slideshow": {
     "slide_type": "slide"
    }
   },
   "source": [
    "## <center>Economia Brasileira - FEA-USP</center>\n",
    "\n",
    "### <center>Aula 13 - Transformações setoriais</center>\n",
    "\n",
    "#### <center>Renato Perim Colistete</center>\n",
    "\n",
    "\n",
    "#### <center>2025</center>  "
   ]
  },
  {
   "cell_type": "markdown",
   "metadata": {
    "slideshow": {
     "slide_type": "slide"
    }
   },
   "source": [
    "## Objetivos\n",
    "\n",
    "Avaliaremos nesta aula as transformações setoriais da economia brasileira nas últimas décadas, sob diferentes ângulos.\n",
    "\n",
    "Selecionamos dois temas: inicialmente, o desempenho da renda *per capita* e da taxa de investimento no longo prazo e no período recente, comparando o Brasil com outras economias da América Latina.\n",
    "\n",
    "Em seguida, analisaremos as mudanças estruturais a partir de dois indicadores: conteúdo tecnológico das exportações e produtividade setorial da economia brasileira. Daremos destaque ao desempenho da indústria e à queda relativa de sua participação no produto (desindustrialização)."
   ]
  },
  {
   "cell_type": "markdown",
   "metadata": {
    "slideshow": {
     "slide_type": "slide"
    }
   },
   "source": [
    "## Contexto - PIB per capita\n",
    "\n",
    "Inicialmente, o que aconteceu com a renda *per capita* de Brasil, Argentina e Coreia do Sul nas últimas décadas? O indicador a seguir é definido em relação aos Estados Unidos (EUA=100)."
   ]
  },
  {
   "cell_type": "markdown",
   "metadata": {
    "slideshow": {
     "slide_type": "fragment"
    }
   },
   "source": [
    "O índice de Argentina e Brasil diverge do nível de renda *per capita* dos Estados Unidos ao longo dos anos 1980 e parte de 1990, recuperando-se na década seguinte – na Argentina em 2003 e no Brasil a partir de 2007 – mas já revertendo na Argentina em 2011 e no Brasil em 2015."
   ]
  },
  {
   "cell_type": "markdown",
   "metadata": {
    "slideshow": {
     "slide_type": "fragment"
    }
   },
   "source": [
    "Por sua vez, a Coreia do Sul exibiu tendência contínua de convergência, chegando a 54% do PIB *per capita* dos EUA em 2020, contra Argentina = 19% e Brasil = 14%."
   ]
  },
  {
   "cell_type": "code",
   "execution_count": 1,
   "metadata": {
    "slideshow": {
     "slide_type": "notes"
    }
   },
   "outputs": [
    {
     "data": {
      "application/javascript": [
       "(function(root) {\n",
       "  function now() {\n",
       "    return new Date();\n",
       "  }\n",
       "\n",
       "  var force = true;\n",
       "  var py_version = '3.4.2'.replace('rc', '-rc.').replace('.dev', '-dev.');\n",
       "  var reloading = false;\n",
       "  var Bokeh = root.Bokeh;\n",
       "\n",
       "  if (typeof (root._bokeh_timeout) === \"undefined\" || force) {\n",
       "    root._bokeh_timeout = Date.now() + 5000;\n",
       "    root._bokeh_failed_load = false;\n",
       "  }\n",
       "\n",
       "  function run_callbacks() {\n",
       "    try {\n",
       "      root._bokeh_onload_callbacks.forEach(function(callback) {\n",
       "        if (callback != null)\n",
       "          callback();\n",
       "      });\n",
       "    } finally {\n",
       "      delete root._bokeh_onload_callbacks;\n",
       "    }\n",
       "    console.debug(\"Bokeh: all callbacks have finished\");\n",
       "  }\n",
       "\n",
       "  function load_libs(css_urls, js_urls, js_modules, js_exports, callback) {\n",
       "    if (css_urls == null) css_urls = [];\n",
       "    if (js_urls == null) js_urls = [];\n",
       "    if (js_modules == null) js_modules = [];\n",
       "    if (js_exports == null) js_exports = {};\n",
       "\n",
       "    root._bokeh_onload_callbacks.push(callback);\n",
       "\n",
       "    if (root._bokeh_is_loading > 0) {\n",
       "      console.debug(\"Bokeh: BokehJS is being loaded, scheduling callback at\", now());\n",
       "      return null;\n",
       "    }\n",
       "    if (js_urls.length === 0 && js_modules.length === 0 && Object.keys(js_exports).length === 0) {\n",
       "      run_callbacks();\n",
       "      return null;\n",
       "    }\n",
       "    if (!reloading) {\n",
       "      console.debug(\"Bokeh: BokehJS not loaded, scheduling load and callback at\", now());\n",
       "    }\n",
       "\n",
       "    function on_load() {\n",
       "      root._bokeh_is_loading--;\n",
       "      if (root._bokeh_is_loading === 0) {\n",
       "        console.debug(\"Bokeh: all BokehJS libraries/stylesheets loaded\");\n",
       "        run_callbacks()\n",
       "      }\n",
       "    }\n",
       "    window._bokeh_on_load = on_load\n",
       "\n",
       "    function on_error() {\n",
       "      console.error(\"failed to load \" + url);\n",
       "    }\n",
       "\n",
       "    var skip = [];\n",
       "    if (window.requirejs) {\n",
       "      window.requirejs.config({'packages': {}, 'paths': {}, 'shim': {}});\n",
       "      root._bokeh_is_loading = css_urls.length + 0;\n",
       "    } else {\n",
       "      root._bokeh_is_loading = css_urls.length + js_urls.length + js_modules.length + Object.keys(js_exports).length;\n",
       "    }\n",
       "\n",
       "    var existing_stylesheets = []\n",
       "    var links = document.getElementsByTagName('link')\n",
       "    for (var i = 0; i < links.length; i++) {\n",
       "      var link = links[i]\n",
       "      if (link.href != null) {\n",
       "\texisting_stylesheets.push(link.href)\n",
       "      }\n",
       "    }\n",
       "    for (var i = 0; i < css_urls.length; i++) {\n",
       "      var url = css_urls[i];\n",
       "      if (existing_stylesheets.indexOf(url) !== -1) {\n",
       "\ton_load()\n",
       "\tcontinue;\n",
       "      }\n",
       "      const element = document.createElement(\"link\");\n",
       "      element.onload = on_load;\n",
       "      element.onerror = on_error;\n",
       "      element.rel = \"stylesheet\";\n",
       "      element.type = \"text/css\";\n",
       "      element.href = url;\n",
       "      console.debug(\"Bokeh: injecting link tag for BokehJS stylesheet: \", url);\n",
       "      document.body.appendChild(element);\n",
       "    }    var existing_scripts = []\n",
       "    var scripts = document.getElementsByTagName('script')\n",
       "    for (var i = 0; i < scripts.length; i++) {\n",
       "      var script = scripts[i]\n",
       "      if (script.src != null) {\n",
       "\texisting_scripts.push(script.src)\n",
       "      }\n",
       "    }\n",
       "    for (var i = 0; i < js_urls.length; i++) {\n",
       "      var url = js_urls[i];\n",
       "      if (skip.indexOf(url) !== -1 || existing_scripts.indexOf(url) !== -1) {\n",
       "\tif (!window.requirejs) {\n",
       "\t  on_load();\n",
       "\t}\n",
       "\tcontinue;\n",
       "      }\n",
       "      var element = document.createElement('script');\n",
       "      element.onload = on_load;\n",
       "      element.onerror = on_error;\n",
       "      element.async = false;\n",
       "      element.src = url;\n",
       "      console.debug(\"Bokeh: injecting script tag for BokehJS library: \", url);\n",
       "      document.head.appendChild(element);\n",
       "    }\n",
       "    for (var i = 0; i < js_modules.length; i++) {\n",
       "      var url = js_modules[i];\n",
       "      if (skip.indexOf(url) !== -1 || existing_scripts.indexOf(url) !== -1) {\n",
       "\tif (!window.requirejs) {\n",
       "\t  on_load();\n",
       "\t}\n",
       "\tcontinue;\n",
       "      }\n",
       "      var element = document.createElement('script');\n",
       "      element.onload = on_load;\n",
       "      element.onerror = on_error;\n",
       "      element.async = false;\n",
       "      element.src = url;\n",
       "      element.type = \"module\";\n",
       "      console.debug(\"Bokeh: injecting script tag for BokehJS library: \", url);\n",
       "      document.head.appendChild(element);\n",
       "    }\n",
       "    for (const name in js_exports) {\n",
       "      var url = js_exports[name];\n",
       "      if (skip.indexOf(url) >= 0 || root[name] != null) {\n",
       "\tif (!window.requirejs) {\n",
       "\t  on_load();\n",
       "\t}\n",
       "\tcontinue;\n",
       "      }\n",
       "      var element = document.createElement('script');\n",
       "      element.onerror = on_error;\n",
       "      element.async = false;\n",
       "      element.type = \"module\";\n",
       "      console.debug(\"Bokeh: injecting script tag for BokehJS library: \", url);\n",
       "      element.textContent = `\n",
       "      import ${name} from \"${url}\"\n",
       "      window.${name} = ${name}\n",
       "      window._bokeh_on_load()\n",
       "      `\n",
       "      document.head.appendChild(element);\n",
       "    }\n",
       "    if (!js_urls.length && !js_modules.length) {\n",
       "      on_load()\n",
       "    }\n",
       "  };\n",
       "\n",
       "  function inject_raw_css(css) {\n",
       "    const element = document.createElement(\"style\");\n",
       "    element.appendChild(document.createTextNode(css));\n",
       "    document.body.appendChild(element);\n",
       "  }\n",
       "\n",
       "  var js_urls = [\"https://cdn.bokeh.org/bokeh/release/bokeh-3.4.2.min.js\", \"https://cdn.bokeh.org/bokeh/release/bokeh-gl-3.4.2.min.js\", \"https://cdn.bokeh.org/bokeh/release/bokeh-widgets-3.4.2.min.js\", \"https://cdn.bokeh.org/bokeh/release/bokeh-tables-3.4.2.min.js\", \"https://cdn.holoviz.org/panel/1.4.5/dist/panel.min.js\"];\n",
       "  var js_modules = [];\n",
       "  var js_exports = {};\n",
       "  var css_urls = [];\n",
       "  var inline_js = [    function(Bokeh) {\n",
       "      Bokeh.set_log_level(\"info\");\n",
       "    },\n",
       "function(Bokeh) {} // ensure no trailing comma for IE\n",
       "  ];\n",
       "\n",
       "  function run_inline_js() {\n",
       "    if ((root.Bokeh !== undefined) || (force === true)) {\n",
       "      for (var i = 0; i < inline_js.length; i++) {\n",
       "\ttry {\n",
       "          inline_js[i].call(root, root.Bokeh);\n",
       "\t} catch(e) {\n",
       "\t  if (!reloading) {\n",
       "\t    throw e;\n",
       "\t  }\n",
       "\t}\n",
       "      }\n",
       "      // Cache old bokeh versions\n",
       "      if (Bokeh != undefined && !reloading) {\n",
       "\tvar NewBokeh = root.Bokeh;\n",
       "\tif (Bokeh.versions === undefined) {\n",
       "\t  Bokeh.versions = new Map();\n",
       "\t}\n",
       "\tif (NewBokeh.version !== Bokeh.version) {\n",
       "\t  Bokeh.versions.set(NewBokeh.version, NewBokeh)\n",
       "\t}\n",
       "\troot.Bokeh = Bokeh;\n",
       "      }} else if (Date.now() < root._bokeh_timeout) {\n",
       "      setTimeout(run_inline_js, 100);\n",
       "    } else if (!root._bokeh_failed_load) {\n",
       "      console.log(\"Bokeh: BokehJS failed to load within specified timeout.\");\n",
       "      root._bokeh_failed_load = true;\n",
       "    }\n",
       "    root._bokeh_is_initializing = false\n",
       "  }\n",
       "\n",
       "  function load_or_wait() {\n",
       "    // Implement a backoff loop that tries to ensure we do not load multiple\n",
       "    // versions of Bokeh and its dependencies at the same time.\n",
       "    // In recent versions we use the root._bokeh_is_initializing flag\n",
       "    // to determine whether there is an ongoing attempt to initialize\n",
       "    // bokeh, however for backward compatibility we also try to ensure\n",
       "    // that we do not start loading a newer (Panel>=1.0 and Bokeh>3) version\n",
       "    // before older versions are fully initialized.\n",
       "    if (root._bokeh_is_initializing && Date.now() > root._bokeh_timeout) {\n",
       "      root._bokeh_is_initializing = false;\n",
       "      root._bokeh_onload_callbacks = undefined;\n",
       "      console.log(\"Bokeh: BokehJS was loaded multiple times but one version failed to initialize.\");\n",
       "      load_or_wait();\n",
       "    } else if (root._bokeh_is_initializing || (typeof root._bokeh_is_initializing === \"undefined\" && root._bokeh_onload_callbacks !== undefined)) {\n",
       "      setTimeout(load_or_wait, 100);\n",
       "    } else {\n",
       "      root._bokeh_is_initializing = true\n",
       "      root._bokeh_onload_callbacks = []\n",
       "      var bokeh_loaded = Bokeh != null && (Bokeh.version === py_version || (Bokeh.versions !== undefined && Bokeh.versions.has(py_version)));\n",
       "      if (!reloading && !bokeh_loaded) {\n",
       "\troot.Bokeh = undefined;\n",
       "      }\n",
       "      load_libs(css_urls, js_urls, js_modules, js_exports, function() {\n",
       "\tconsole.debug(\"Bokeh: BokehJS plotting callback run at\", now());\n",
       "\trun_inline_js();\n",
       "      });\n",
       "    }\n",
       "  }\n",
       "  // Give older versions of the autoload script a head-start to ensure\n",
       "  // they initialize before we start loading newer version.\n",
       "  setTimeout(load_or_wait, 100)\n",
       "}(window));"
      ],
      "application/vnd.holoviews_load.v0+json": "(function(root) {\n  function now() {\n    return new Date();\n  }\n\n  var force = true;\n  var py_version = '3.4.2'.replace('rc', '-rc.').replace('.dev', '-dev.');\n  var reloading = false;\n  var Bokeh = root.Bokeh;\n\n  if (typeof (root._bokeh_timeout) === \"undefined\" || force) {\n    root._bokeh_timeout = Date.now() + 5000;\n    root._bokeh_failed_load = false;\n  }\n\n  function run_callbacks() {\n    try {\n      root._bokeh_onload_callbacks.forEach(function(callback) {\n        if (callback != null)\n          callback();\n      });\n    } finally {\n      delete root._bokeh_onload_callbacks;\n    }\n    console.debug(\"Bokeh: all callbacks have finished\");\n  }\n\n  function load_libs(css_urls, js_urls, js_modules, js_exports, callback) {\n    if (css_urls == null) css_urls = [];\n    if (js_urls == null) js_urls = [];\n    if (js_modules == null) js_modules = [];\n    if (js_exports == null) js_exports = {};\n\n    root._bokeh_onload_callbacks.push(callback);\n\n    if (root._bokeh_is_loading > 0) {\n      console.debug(\"Bokeh: BokehJS is being loaded, scheduling callback at\", now());\n      return null;\n    }\n    if (js_urls.length === 0 && js_modules.length === 0 && Object.keys(js_exports).length === 0) {\n      run_callbacks();\n      return null;\n    }\n    if (!reloading) {\n      console.debug(\"Bokeh: BokehJS not loaded, scheduling load and callback at\", now());\n    }\n\n    function on_load() {\n      root._bokeh_is_loading--;\n      if (root._bokeh_is_loading === 0) {\n        console.debug(\"Bokeh: all BokehJS libraries/stylesheets loaded\");\n        run_callbacks()\n      }\n    }\n    window._bokeh_on_load = on_load\n\n    function on_error() {\n      console.error(\"failed to load \" + url);\n    }\n\n    var skip = [];\n    if (window.requirejs) {\n      window.requirejs.config({'packages': {}, 'paths': {}, 'shim': {}});\n      root._bokeh_is_loading = css_urls.length + 0;\n    } else {\n      root._bokeh_is_loading = css_urls.length + js_urls.length + js_modules.length + Object.keys(js_exports).length;\n    }\n\n    var existing_stylesheets = []\n    var links = document.getElementsByTagName('link')\n    for (var i = 0; i < links.length; i++) {\n      var link = links[i]\n      if (link.href != null) {\n\texisting_stylesheets.push(link.href)\n      }\n    }\n    for (var i = 0; i < css_urls.length; i++) {\n      var url = css_urls[i];\n      if (existing_stylesheets.indexOf(url) !== -1) {\n\ton_load()\n\tcontinue;\n      }\n      const element = document.createElement(\"link\");\n      element.onload = on_load;\n      element.onerror = on_error;\n      element.rel = \"stylesheet\";\n      element.type = \"text/css\";\n      element.href = url;\n      console.debug(\"Bokeh: injecting link tag for BokehJS stylesheet: \", url);\n      document.body.appendChild(element);\n    }    var existing_scripts = []\n    var scripts = document.getElementsByTagName('script')\n    for (var i = 0; i < scripts.length; i++) {\n      var script = scripts[i]\n      if (script.src != null) {\n\texisting_scripts.push(script.src)\n      }\n    }\n    for (var i = 0; i < js_urls.length; i++) {\n      var url = js_urls[i];\n      if (skip.indexOf(url) !== -1 || existing_scripts.indexOf(url) !== -1) {\n\tif (!window.requirejs) {\n\t  on_load();\n\t}\n\tcontinue;\n      }\n      var element = document.createElement('script');\n      element.onload = on_load;\n      element.onerror = on_error;\n      element.async = false;\n      element.src = url;\n      console.debug(\"Bokeh: injecting script tag for BokehJS library: \", url);\n      document.head.appendChild(element);\n    }\n    for (var i = 0; i < js_modules.length; i++) {\n      var url = js_modules[i];\n      if (skip.indexOf(url) !== -1 || existing_scripts.indexOf(url) !== -1) {\n\tif (!window.requirejs) {\n\t  on_load();\n\t}\n\tcontinue;\n      }\n      var element = document.createElement('script');\n      element.onload = on_load;\n      element.onerror = on_error;\n      element.async = false;\n      element.src = url;\n      element.type = \"module\";\n      console.debug(\"Bokeh: injecting script tag for BokehJS library: \", url);\n      document.head.appendChild(element);\n    }\n    for (const name in js_exports) {\n      var url = js_exports[name];\n      if (skip.indexOf(url) >= 0 || root[name] != null) {\n\tif (!window.requirejs) {\n\t  on_load();\n\t}\n\tcontinue;\n      }\n      var element = document.createElement('script');\n      element.onerror = on_error;\n      element.async = false;\n      element.type = \"module\";\n      console.debug(\"Bokeh: injecting script tag for BokehJS library: \", url);\n      element.textContent = `\n      import ${name} from \"${url}\"\n      window.${name} = ${name}\n      window._bokeh_on_load()\n      `\n      document.head.appendChild(element);\n    }\n    if (!js_urls.length && !js_modules.length) {\n      on_load()\n    }\n  };\n\n  function inject_raw_css(css) {\n    const element = document.createElement(\"style\");\n    element.appendChild(document.createTextNode(css));\n    document.body.appendChild(element);\n  }\n\n  var js_urls = [\"https://cdn.bokeh.org/bokeh/release/bokeh-3.4.2.min.js\", \"https://cdn.bokeh.org/bokeh/release/bokeh-gl-3.4.2.min.js\", \"https://cdn.bokeh.org/bokeh/release/bokeh-widgets-3.4.2.min.js\", \"https://cdn.bokeh.org/bokeh/release/bokeh-tables-3.4.2.min.js\", \"https://cdn.holoviz.org/panel/1.4.5/dist/panel.min.js\"];\n  var js_modules = [];\n  var js_exports = {};\n  var css_urls = [];\n  var inline_js = [    function(Bokeh) {\n      Bokeh.set_log_level(\"info\");\n    },\nfunction(Bokeh) {} // ensure no trailing comma for IE\n  ];\n\n  function run_inline_js() {\n    if ((root.Bokeh !== undefined) || (force === true)) {\n      for (var i = 0; i < inline_js.length; i++) {\n\ttry {\n          inline_js[i].call(root, root.Bokeh);\n\t} catch(e) {\n\t  if (!reloading) {\n\t    throw e;\n\t  }\n\t}\n      }\n      // Cache old bokeh versions\n      if (Bokeh != undefined && !reloading) {\n\tvar NewBokeh = root.Bokeh;\n\tif (Bokeh.versions === undefined) {\n\t  Bokeh.versions = new Map();\n\t}\n\tif (NewBokeh.version !== Bokeh.version) {\n\t  Bokeh.versions.set(NewBokeh.version, NewBokeh)\n\t}\n\troot.Bokeh = Bokeh;\n      }} else if (Date.now() < root._bokeh_timeout) {\n      setTimeout(run_inline_js, 100);\n    } else if (!root._bokeh_failed_load) {\n      console.log(\"Bokeh: BokehJS failed to load within specified timeout.\");\n      root._bokeh_failed_load = true;\n    }\n    root._bokeh_is_initializing = false\n  }\n\n  function load_or_wait() {\n    // Implement a backoff loop that tries to ensure we do not load multiple\n    // versions of Bokeh and its dependencies at the same time.\n    // In recent versions we use the root._bokeh_is_initializing flag\n    // to determine whether there is an ongoing attempt to initialize\n    // bokeh, however for backward compatibility we also try to ensure\n    // that we do not start loading a newer (Panel>=1.0 and Bokeh>3) version\n    // before older versions are fully initialized.\n    if (root._bokeh_is_initializing && Date.now() > root._bokeh_timeout) {\n      root._bokeh_is_initializing = false;\n      root._bokeh_onload_callbacks = undefined;\n      console.log(\"Bokeh: BokehJS was loaded multiple times but one version failed to initialize.\");\n      load_or_wait();\n    } else if (root._bokeh_is_initializing || (typeof root._bokeh_is_initializing === \"undefined\" && root._bokeh_onload_callbacks !== undefined)) {\n      setTimeout(load_or_wait, 100);\n    } else {\n      root._bokeh_is_initializing = true\n      root._bokeh_onload_callbacks = []\n      var bokeh_loaded = Bokeh != null && (Bokeh.version === py_version || (Bokeh.versions !== undefined && Bokeh.versions.has(py_version)));\n      if (!reloading && !bokeh_loaded) {\n\troot.Bokeh = undefined;\n      }\n      load_libs(css_urls, js_urls, js_modules, js_exports, function() {\n\tconsole.debug(\"Bokeh: BokehJS plotting callback run at\", now());\n\trun_inline_js();\n      });\n    }\n  }\n  // Give older versions of the autoload script a head-start to ensure\n  // they initialize before we start loading newer version.\n  setTimeout(load_or_wait, 100)\n}(window));"
     },
     "metadata": {},
     "output_type": "display_data"
    },
    {
     "data": {
      "application/javascript": [
       "\n",
       "if ((window.PyViz === undefined) || (window.PyViz instanceof HTMLElement)) {\n",
       "  window.PyViz = {comms: {}, comm_status:{}, kernels:{}, receivers: {}, plot_index: []}\n",
       "}\n",
       "\n",
       "\n",
       "    function JupyterCommManager() {\n",
       "    }\n",
       "\n",
       "    JupyterCommManager.prototype.register_target = function(plot_id, comm_id, msg_handler) {\n",
       "      if (window.comm_manager || ((window.Jupyter !== undefined) && (Jupyter.notebook.kernel != null))) {\n",
       "        var comm_manager = window.comm_manager || Jupyter.notebook.kernel.comm_manager;\n",
       "        comm_manager.register_target(comm_id, function(comm) {\n",
       "          comm.on_msg(msg_handler);\n",
       "        });\n",
       "      } else if ((plot_id in window.PyViz.kernels) && (window.PyViz.kernels[plot_id])) {\n",
       "        window.PyViz.kernels[plot_id].registerCommTarget(comm_id, function(comm) {\n",
       "          comm.onMsg = msg_handler;\n",
       "        });\n",
       "      } else if (typeof google != 'undefined' && google.colab.kernel != null) {\n",
       "        google.colab.kernel.comms.registerTarget(comm_id, (comm) => {\n",
       "          var messages = comm.messages[Symbol.asyncIterator]();\n",
       "          function processIteratorResult(result) {\n",
       "            var message = result.value;\n",
       "            console.log(message)\n",
       "            var content = {data: message.data, comm_id};\n",
       "            var buffers = []\n",
       "            for (var buffer of message.buffers || []) {\n",
       "              buffers.push(new DataView(buffer))\n",
       "            }\n",
       "            var metadata = message.metadata || {};\n",
       "            var msg = {content, buffers, metadata}\n",
       "            msg_handler(msg);\n",
       "            return messages.next().then(processIteratorResult);\n",
       "          }\n",
       "          return messages.next().then(processIteratorResult);\n",
       "        })\n",
       "      }\n",
       "    }\n",
       "\n",
       "    JupyterCommManager.prototype.get_client_comm = function(plot_id, comm_id, msg_handler) {\n",
       "      if (comm_id in window.PyViz.comms) {\n",
       "        return window.PyViz.comms[comm_id];\n",
       "      } else if (window.comm_manager || ((window.Jupyter !== undefined) && (Jupyter.notebook.kernel != null))) {\n",
       "        var comm_manager = window.comm_manager || Jupyter.notebook.kernel.comm_manager;\n",
       "        var comm = comm_manager.new_comm(comm_id, {}, {}, {}, comm_id);\n",
       "        if (msg_handler) {\n",
       "          comm.on_msg(msg_handler);\n",
       "        }\n",
       "      } else if ((plot_id in window.PyViz.kernels) && (window.PyViz.kernels[plot_id])) {\n",
       "        var comm = window.PyViz.kernels[plot_id].connectToComm(comm_id);\n",
       "        comm.open();\n",
       "        if (msg_handler) {\n",
       "          comm.onMsg = msg_handler;\n",
       "        }\n",
       "      } else if (typeof google != 'undefined' && google.colab.kernel != null) {\n",
       "        var comm_promise = google.colab.kernel.comms.open(comm_id)\n",
       "        comm_promise.then((comm) => {\n",
       "          window.PyViz.comms[comm_id] = comm;\n",
       "          if (msg_handler) {\n",
       "            var messages = comm.messages[Symbol.asyncIterator]();\n",
       "            function processIteratorResult(result) {\n",
       "              var message = result.value;\n",
       "              var content = {data: message.data};\n",
       "              var metadata = message.metadata || {comm_id};\n",
       "              var msg = {content, metadata}\n",
       "              msg_handler(msg);\n",
       "              return messages.next().then(processIteratorResult);\n",
       "            }\n",
       "            return messages.next().then(processIteratorResult);\n",
       "          }\n",
       "        })\n",
       "        var sendClosure = (data, metadata, buffers, disposeOnDone) => {\n",
       "          return comm_promise.then((comm) => {\n",
       "            comm.send(data, metadata, buffers, disposeOnDone);\n",
       "          });\n",
       "        };\n",
       "        var comm = {\n",
       "          send: sendClosure\n",
       "        };\n",
       "      }\n",
       "      window.PyViz.comms[comm_id] = comm;\n",
       "      return comm;\n",
       "    }\n",
       "    window.PyViz.comm_manager = new JupyterCommManager();\n",
       "    \n",
       "\n",
       "\n",
       "var JS_MIME_TYPE = 'application/javascript';\n",
       "var HTML_MIME_TYPE = 'text/html';\n",
       "var EXEC_MIME_TYPE = 'application/vnd.holoviews_exec.v0+json';\n",
       "var CLASS_NAME = 'output';\n",
       "\n",
       "/**\n",
       " * Render data to the DOM node\n",
       " */\n",
       "function render(props, node) {\n",
       "  var div = document.createElement(\"div\");\n",
       "  var script = document.createElement(\"script\");\n",
       "  node.appendChild(div);\n",
       "  node.appendChild(script);\n",
       "}\n",
       "\n",
       "/**\n",
       " * Handle when a new output is added\n",
       " */\n",
       "function handle_add_output(event, handle) {\n",
       "  var output_area = handle.output_area;\n",
       "  var output = handle.output;\n",
       "  if ((output.data == undefined) || (!output.data.hasOwnProperty(EXEC_MIME_TYPE))) {\n",
       "    return\n",
       "  }\n",
       "  var id = output.metadata[EXEC_MIME_TYPE][\"id\"];\n",
       "  var toinsert = output_area.element.find(\".\" + CLASS_NAME.split(' ')[0]);\n",
       "  if (id !== undefined) {\n",
       "    var nchildren = toinsert.length;\n",
       "    var html_node = toinsert[nchildren-1].children[0];\n",
       "    html_node.innerHTML = output.data[HTML_MIME_TYPE];\n",
       "    var scripts = [];\n",
       "    var nodelist = html_node.querySelectorAll(\"script\");\n",
       "    for (var i in nodelist) {\n",
       "      if (nodelist.hasOwnProperty(i)) {\n",
       "        scripts.push(nodelist[i])\n",
       "      }\n",
       "    }\n",
       "\n",
       "    scripts.forEach( function (oldScript) {\n",
       "      var newScript = document.createElement(\"script\");\n",
       "      var attrs = [];\n",
       "      var nodemap = oldScript.attributes;\n",
       "      for (var j in nodemap) {\n",
       "        if (nodemap.hasOwnProperty(j)) {\n",
       "          attrs.push(nodemap[j])\n",
       "        }\n",
       "      }\n",
       "      attrs.forEach(function(attr) { newScript.setAttribute(attr.name, attr.value) });\n",
       "      newScript.appendChild(document.createTextNode(oldScript.innerHTML));\n",
       "      oldScript.parentNode.replaceChild(newScript, oldScript);\n",
       "    });\n",
       "    if (JS_MIME_TYPE in output.data) {\n",
       "      toinsert[nchildren-1].children[1].textContent = output.data[JS_MIME_TYPE];\n",
       "    }\n",
       "    output_area._hv_plot_id = id;\n",
       "    if ((window.Bokeh !== undefined) && (id in Bokeh.index)) {\n",
       "      window.PyViz.plot_index[id] = Bokeh.index[id];\n",
       "    } else {\n",
       "      window.PyViz.plot_index[id] = null;\n",
       "    }\n",
       "  } else if (output.metadata[EXEC_MIME_TYPE][\"server_id\"] !== undefined) {\n",
       "    var bk_div = document.createElement(\"div\");\n",
       "    bk_div.innerHTML = output.data[HTML_MIME_TYPE];\n",
       "    var script_attrs = bk_div.children[0].attributes;\n",
       "    for (var i = 0; i < script_attrs.length; i++) {\n",
       "      toinsert[toinsert.length - 1].childNodes[1].setAttribute(script_attrs[i].name, script_attrs[i].value);\n",
       "    }\n",
       "    // store reference to server id on output_area\n",
       "    output_area._bokeh_server_id = output.metadata[EXEC_MIME_TYPE][\"server_id\"];\n",
       "  }\n",
       "}\n",
       "\n",
       "/**\n",
       " * Handle when an output is cleared or removed\n",
       " */\n",
       "function handle_clear_output(event, handle) {\n",
       "  var id = handle.cell.output_area._hv_plot_id;\n",
       "  var server_id = handle.cell.output_area._bokeh_server_id;\n",
       "  if (((id === undefined) || !(id in PyViz.plot_index)) && (server_id !== undefined)) { return; }\n",
       "  var comm = window.PyViz.comm_manager.get_client_comm(\"hv-extension-comm\", \"hv-extension-comm\", function () {});\n",
       "  if (server_id !== null) {\n",
       "    comm.send({event_type: 'server_delete', 'id': server_id});\n",
       "    return;\n",
       "  } else if (comm !== null) {\n",
       "    comm.send({event_type: 'delete', 'id': id});\n",
       "  }\n",
       "  delete PyViz.plot_index[id];\n",
       "  if ((window.Bokeh !== undefined) & (id in window.Bokeh.index)) {\n",
       "    var doc = window.Bokeh.index[id].model.document\n",
       "    doc.clear();\n",
       "    const i = window.Bokeh.documents.indexOf(doc);\n",
       "    if (i > -1) {\n",
       "      window.Bokeh.documents.splice(i, 1);\n",
       "    }\n",
       "  }\n",
       "}\n",
       "\n",
       "/**\n",
       " * Handle kernel restart event\n",
       " */\n",
       "function handle_kernel_cleanup(event, handle) {\n",
       "  delete PyViz.comms[\"hv-extension-comm\"];\n",
       "  window.PyViz.plot_index = {}\n",
       "}\n",
       "\n",
       "/**\n",
       " * Handle update_display_data messages\n",
       " */\n",
       "function handle_update_output(event, handle) {\n",
       "  handle_clear_output(event, {cell: {output_area: handle.output_area}})\n",
       "  handle_add_output(event, handle)\n",
       "}\n",
       "\n",
       "function register_renderer(events, OutputArea) {\n",
       "  function append_mime(data, metadata, element) {\n",
       "    // create a DOM node to render to\n",
       "    var toinsert = this.create_output_subarea(\n",
       "    metadata,\n",
       "    CLASS_NAME,\n",
       "    EXEC_MIME_TYPE\n",
       "    );\n",
       "    this.keyboard_manager.register_events(toinsert);\n",
       "    // Render to node\n",
       "    var props = {data: data, metadata: metadata[EXEC_MIME_TYPE]};\n",
       "    render(props, toinsert[0]);\n",
       "    element.append(toinsert);\n",
       "    return toinsert\n",
       "  }\n",
       "\n",
       "  events.on('output_added.OutputArea', handle_add_output);\n",
       "  events.on('output_updated.OutputArea', handle_update_output);\n",
       "  events.on('clear_output.CodeCell', handle_clear_output);\n",
       "  events.on('delete.Cell', handle_clear_output);\n",
       "  events.on('kernel_ready.Kernel', handle_kernel_cleanup);\n",
       "\n",
       "  OutputArea.prototype.register_mime_type(EXEC_MIME_TYPE, append_mime, {\n",
       "    safe: true,\n",
       "    index: 0\n",
       "  });\n",
       "}\n",
       "\n",
       "if (window.Jupyter !== undefined) {\n",
       "  try {\n",
       "    var events = require('base/js/events');\n",
       "    var OutputArea = require('notebook/js/outputarea').OutputArea;\n",
       "    if (OutputArea.prototype.mime_types().indexOf(EXEC_MIME_TYPE) == -1) {\n",
       "      register_renderer(events, OutputArea);\n",
       "    }\n",
       "  } catch(err) {\n",
       "  }\n",
       "}\n"
      ],
      "application/vnd.holoviews_load.v0+json": "\nif ((window.PyViz === undefined) || (window.PyViz instanceof HTMLElement)) {\n  window.PyViz = {comms: {}, comm_status:{}, kernels:{}, receivers: {}, plot_index: []}\n}\n\n\n    function JupyterCommManager() {\n    }\n\n    JupyterCommManager.prototype.register_target = function(plot_id, comm_id, msg_handler) {\n      if (window.comm_manager || ((window.Jupyter !== undefined) && (Jupyter.notebook.kernel != null))) {\n        var comm_manager = window.comm_manager || Jupyter.notebook.kernel.comm_manager;\n        comm_manager.register_target(comm_id, function(comm) {\n          comm.on_msg(msg_handler);\n        });\n      } else if ((plot_id in window.PyViz.kernels) && (window.PyViz.kernels[plot_id])) {\n        window.PyViz.kernels[plot_id].registerCommTarget(comm_id, function(comm) {\n          comm.onMsg = msg_handler;\n        });\n      } else if (typeof google != 'undefined' && google.colab.kernel != null) {\n        google.colab.kernel.comms.registerTarget(comm_id, (comm) => {\n          var messages = comm.messages[Symbol.asyncIterator]();\n          function processIteratorResult(result) {\n            var message = result.value;\n            console.log(message)\n            var content = {data: message.data, comm_id};\n            var buffers = []\n            for (var buffer of message.buffers || []) {\n              buffers.push(new DataView(buffer))\n            }\n            var metadata = message.metadata || {};\n            var msg = {content, buffers, metadata}\n            msg_handler(msg);\n            return messages.next().then(processIteratorResult);\n          }\n          return messages.next().then(processIteratorResult);\n        })\n      }\n    }\n\n    JupyterCommManager.prototype.get_client_comm = function(plot_id, comm_id, msg_handler) {\n      if (comm_id in window.PyViz.comms) {\n        return window.PyViz.comms[comm_id];\n      } else if (window.comm_manager || ((window.Jupyter !== undefined) && (Jupyter.notebook.kernel != null))) {\n        var comm_manager = window.comm_manager || Jupyter.notebook.kernel.comm_manager;\n        var comm = comm_manager.new_comm(comm_id, {}, {}, {}, comm_id);\n        if (msg_handler) {\n          comm.on_msg(msg_handler);\n        }\n      } else if ((plot_id in window.PyViz.kernels) && (window.PyViz.kernels[plot_id])) {\n        var comm = window.PyViz.kernels[plot_id].connectToComm(comm_id);\n        comm.open();\n        if (msg_handler) {\n          comm.onMsg = msg_handler;\n        }\n      } else if (typeof google != 'undefined' && google.colab.kernel != null) {\n        var comm_promise = google.colab.kernel.comms.open(comm_id)\n        comm_promise.then((comm) => {\n          window.PyViz.comms[comm_id] = comm;\n          if (msg_handler) {\n            var messages = comm.messages[Symbol.asyncIterator]();\n            function processIteratorResult(result) {\n              var message = result.value;\n              var content = {data: message.data};\n              var metadata = message.metadata || {comm_id};\n              var msg = {content, metadata}\n              msg_handler(msg);\n              return messages.next().then(processIteratorResult);\n            }\n            return messages.next().then(processIteratorResult);\n          }\n        })\n        var sendClosure = (data, metadata, buffers, disposeOnDone) => {\n          return comm_promise.then((comm) => {\n            comm.send(data, metadata, buffers, disposeOnDone);\n          });\n        };\n        var comm = {\n          send: sendClosure\n        };\n      }\n      window.PyViz.comms[comm_id] = comm;\n      return comm;\n    }\n    window.PyViz.comm_manager = new JupyterCommManager();\n    \n\n\nvar JS_MIME_TYPE = 'application/javascript';\nvar HTML_MIME_TYPE = 'text/html';\nvar EXEC_MIME_TYPE = 'application/vnd.holoviews_exec.v0+json';\nvar CLASS_NAME = 'output';\n\n/**\n * Render data to the DOM node\n */\nfunction render(props, node) {\n  var div = document.createElement(\"div\");\n  var script = document.createElement(\"script\");\n  node.appendChild(div);\n  node.appendChild(script);\n}\n\n/**\n * Handle when a new output is added\n */\nfunction handle_add_output(event, handle) {\n  var output_area = handle.output_area;\n  var output = handle.output;\n  if ((output.data == undefined) || (!output.data.hasOwnProperty(EXEC_MIME_TYPE))) {\n    return\n  }\n  var id = output.metadata[EXEC_MIME_TYPE][\"id\"];\n  var toinsert = output_area.element.find(\".\" + CLASS_NAME.split(' ')[0]);\n  if (id !== undefined) {\n    var nchildren = toinsert.length;\n    var html_node = toinsert[nchildren-1].children[0];\n    html_node.innerHTML = output.data[HTML_MIME_TYPE];\n    var scripts = [];\n    var nodelist = html_node.querySelectorAll(\"script\");\n    for (var i in nodelist) {\n      if (nodelist.hasOwnProperty(i)) {\n        scripts.push(nodelist[i])\n      }\n    }\n\n    scripts.forEach( function (oldScript) {\n      var newScript = document.createElement(\"script\");\n      var attrs = [];\n      var nodemap = oldScript.attributes;\n      for (var j in nodemap) {\n        if (nodemap.hasOwnProperty(j)) {\n          attrs.push(nodemap[j])\n        }\n      }\n      attrs.forEach(function(attr) { newScript.setAttribute(attr.name, attr.value) });\n      newScript.appendChild(document.createTextNode(oldScript.innerHTML));\n      oldScript.parentNode.replaceChild(newScript, oldScript);\n    });\n    if (JS_MIME_TYPE in output.data) {\n      toinsert[nchildren-1].children[1].textContent = output.data[JS_MIME_TYPE];\n    }\n    output_area._hv_plot_id = id;\n    if ((window.Bokeh !== undefined) && (id in Bokeh.index)) {\n      window.PyViz.plot_index[id] = Bokeh.index[id];\n    } else {\n      window.PyViz.plot_index[id] = null;\n    }\n  } else if (output.metadata[EXEC_MIME_TYPE][\"server_id\"] !== undefined) {\n    var bk_div = document.createElement(\"div\");\n    bk_div.innerHTML = output.data[HTML_MIME_TYPE];\n    var script_attrs = bk_div.children[0].attributes;\n    for (var i = 0; i < script_attrs.length; i++) {\n      toinsert[toinsert.length - 1].childNodes[1].setAttribute(script_attrs[i].name, script_attrs[i].value);\n    }\n    // store reference to server id on output_area\n    output_area._bokeh_server_id = output.metadata[EXEC_MIME_TYPE][\"server_id\"];\n  }\n}\n\n/**\n * Handle when an output is cleared or removed\n */\nfunction handle_clear_output(event, handle) {\n  var id = handle.cell.output_area._hv_plot_id;\n  var server_id = handle.cell.output_area._bokeh_server_id;\n  if (((id === undefined) || !(id in PyViz.plot_index)) && (server_id !== undefined)) { return; }\n  var comm = window.PyViz.comm_manager.get_client_comm(\"hv-extension-comm\", \"hv-extension-comm\", function () {});\n  if (server_id !== null) {\n    comm.send({event_type: 'server_delete', 'id': server_id});\n    return;\n  } else if (comm !== null) {\n    comm.send({event_type: 'delete', 'id': id});\n  }\n  delete PyViz.plot_index[id];\n  if ((window.Bokeh !== undefined) & (id in window.Bokeh.index)) {\n    var doc = window.Bokeh.index[id].model.document\n    doc.clear();\n    const i = window.Bokeh.documents.indexOf(doc);\n    if (i > -1) {\n      window.Bokeh.documents.splice(i, 1);\n    }\n  }\n}\n\n/**\n * Handle kernel restart event\n */\nfunction handle_kernel_cleanup(event, handle) {\n  delete PyViz.comms[\"hv-extension-comm\"];\n  window.PyViz.plot_index = {}\n}\n\n/**\n * Handle update_display_data messages\n */\nfunction handle_update_output(event, handle) {\n  handle_clear_output(event, {cell: {output_area: handle.output_area}})\n  handle_add_output(event, handle)\n}\n\nfunction register_renderer(events, OutputArea) {\n  function append_mime(data, metadata, element) {\n    // create a DOM node to render to\n    var toinsert = this.create_output_subarea(\n    metadata,\n    CLASS_NAME,\n    EXEC_MIME_TYPE\n    );\n    this.keyboard_manager.register_events(toinsert);\n    // Render to node\n    var props = {data: data, metadata: metadata[EXEC_MIME_TYPE]};\n    render(props, toinsert[0]);\n    element.append(toinsert);\n    return toinsert\n  }\n\n  events.on('output_added.OutputArea', handle_add_output);\n  events.on('output_updated.OutputArea', handle_update_output);\n  events.on('clear_output.CodeCell', handle_clear_output);\n  events.on('delete.Cell', handle_clear_output);\n  events.on('kernel_ready.Kernel', handle_kernel_cleanup);\n\n  OutputArea.prototype.register_mime_type(EXEC_MIME_TYPE, append_mime, {\n    safe: true,\n    index: 0\n  });\n}\n\nif (window.Jupyter !== undefined) {\n  try {\n    var events = require('base/js/events');\n    var OutputArea = require('notebook/js/outputarea').OutputArea;\n    if (OutputArea.prototype.mime_types().indexOf(EXEC_MIME_TYPE) == -1) {\n      register_renderer(events, OutputArea);\n    }\n  } catch(err) {\n  }\n}\n"
     },
     "metadata": {},
     "output_type": "display_data"
    },
    {
     "data": {
      "text/html": [
       "<style>*[data-root-id],\n",
       "*[data-root-id] > * {\n",
       "  box-sizing: border-box;\n",
       "  font-family: var(--jp-ui-font-family);\n",
       "  font-size: var(--jp-ui-font-size1);\n",
       "  color: var(--vscode-editor-foreground, var(--jp-ui-font-color1));\n",
       "}\n",
       "\n",
       "/* Override VSCode background color */\n",
       ".cell-output-ipywidget-background:has(\n",
       "    > .cell-output-ipywidget-background > .lm-Widget > *[data-root-id]\n",
       "  ),\n",
       ".cell-output-ipywidget-background:has(> .lm-Widget > *[data-root-id]) {\n",
       "  background-color: transparent !important;\n",
       "}\n",
       "</style>"
      ]
     },
     "metadata": {},
     "output_type": "display_data"
    },
    {
     "data": {
      "application/vnd.holoviews_exec.v0+json": "",
      "text/html": [
       "<div id='8fa51204-403e-4ab8-bb9e-2de1232a8e44'>\n",
       "  <div id=\"e530384b-fe09-4acb-9447-3ecbfc4c0503\" data-root-id=\"8fa51204-403e-4ab8-bb9e-2de1232a8e44\" style=\"display: contents;\"></div>\n",
       "</div>\n",
       "<script type=\"application/javascript\">(function(root) {\n",
       "  var docs_json = {\"f118f8f9-cdb8-4c5a-af98-0680b98f52d4\":{\"version\":\"3.4.2\",\"title\":\"Bokeh Application\",\"roots\":[{\"type\":\"object\",\"name\":\"panel.models.browser.BrowserInfo\",\"id\":\"8fa51204-403e-4ab8-bb9e-2de1232a8e44\"},{\"type\":\"object\",\"name\":\"panel.models.comm_manager.CommManager\",\"id\":\"bba3be65-e7d5-42f8-8146-1997c4e120f4\",\"attributes\":{\"plot_id\":\"8fa51204-403e-4ab8-bb9e-2de1232a8e44\",\"comm_id\":\"3fd7dedba3c04d20b9b1ee61b22bb152\",\"client_comm_id\":\"37f8f0f9f7564efb8f25ffa811099bc7\"}}],\"defs\":[{\"type\":\"model\",\"name\":\"ReactiveHTML1\"},{\"type\":\"model\",\"name\":\"FlexBox1\",\"properties\":[{\"name\":\"align_content\",\"kind\":\"Any\",\"default\":\"flex-start\"},{\"name\":\"align_items\",\"kind\":\"Any\",\"default\":\"flex-start\"},{\"name\":\"flex_direction\",\"kind\":\"Any\",\"default\":\"row\"},{\"name\":\"flex_wrap\",\"kind\":\"Any\",\"default\":\"wrap\"},{\"name\":\"gap\",\"kind\":\"Any\",\"default\":\"\"},{\"name\":\"justify_content\",\"kind\":\"Any\",\"default\":\"flex-start\"}]},{\"type\":\"model\",\"name\":\"FloatPanel1\",\"properties\":[{\"name\":\"config\",\"kind\":\"Any\",\"default\":{\"type\":\"map\"}},{\"name\":\"contained\",\"kind\":\"Any\",\"default\":true},{\"name\":\"position\",\"kind\":\"Any\",\"default\":\"right-top\"},{\"name\":\"offsetx\",\"kind\":\"Any\",\"default\":null},{\"name\":\"offsety\",\"kind\":\"Any\",\"default\":null},{\"name\":\"theme\",\"kind\":\"Any\",\"default\":\"primary\"},{\"name\":\"status\",\"kind\":\"Any\",\"default\":\"normalized\"}]},{\"type\":\"model\",\"name\":\"GridStack1\",\"properties\":[{\"name\":\"mode\",\"kind\":\"Any\",\"default\":\"warn\"},{\"name\":\"ncols\",\"kind\":\"Any\",\"default\":null},{\"name\":\"nrows\",\"kind\":\"Any\",\"default\":null},{\"name\":\"allow_resize\",\"kind\":\"Any\",\"default\":true},{\"name\":\"allow_drag\",\"kind\":\"Any\",\"default\":true},{\"name\":\"state\",\"kind\":\"Any\",\"default\":[]}]},{\"type\":\"model\",\"name\":\"drag1\",\"properties\":[{\"name\":\"slider_width\",\"kind\":\"Any\",\"default\":5},{\"name\":\"slider_color\",\"kind\":\"Any\",\"default\":\"black\"},{\"name\":\"value\",\"kind\":\"Any\",\"default\":50}]},{\"type\":\"model\",\"name\":\"click1\",\"properties\":[{\"name\":\"terminal_output\",\"kind\":\"Any\",\"default\":\"\"},{\"name\":\"debug_name\",\"kind\":\"Any\",\"default\":\"\"},{\"name\":\"clears\",\"kind\":\"Any\",\"default\":0}]},{\"type\":\"model\",\"name\":\"FastWrapper1\",\"properties\":[{\"name\":\"object\",\"kind\":\"Any\",\"default\":null},{\"name\":\"style\",\"kind\":\"Any\",\"default\":null}]},{\"type\":\"model\",\"name\":\"NotificationAreaBase1\",\"properties\":[{\"name\":\"js_events\",\"kind\":\"Any\",\"default\":{\"type\":\"map\"}},{\"name\":\"position\",\"kind\":\"Any\",\"default\":\"bottom-right\"},{\"name\":\"_clear\",\"kind\":\"Any\",\"default\":0}]},{\"type\":\"model\",\"name\":\"NotificationArea1\",\"properties\":[{\"name\":\"js_events\",\"kind\":\"Any\",\"default\":{\"type\":\"map\"}},{\"name\":\"notifications\",\"kind\":\"Any\",\"default\":[]},{\"name\":\"position\",\"kind\":\"Any\",\"default\":\"bottom-right\"},{\"name\":\"_clear\",\"kind\":\"Any\",\"default\":0},{\"name\":\"types\",\"kind\":\"Any\",\"default\":[{\"type\":\"map\",\"entries\":[[\"type\",\"warning\"],[\"background\",\"#ffc107\"],[\"icon\",{\"type\":\"map\",\"entries\":[[\"className\",\"fas fa-exclamation-triangle\"],[\"tagName\",\"i\"],[\"color\",\"white\"]]}]]},{\"type\":\"map\",\"entries\":[[\"type\",\"info\"],[\"background\",\"#007bff\"],[\"icon\",{\"type\":\"map\",\"entries\":[[\"className\",\"fas fa-info-circle\"],[\"tagName\",\"i\"],[\"color\",\"white\"]]}]]}]}]},{\"type\":\"model\",\"name\":\"Notification\",\"properties\":[{\"name\":\"background\",\"kind\":\"Any\",\"default\":null},{\"name\":\"duration\",\"kind\":\"Any\",\"default\":3000},{\"name\":\"icon\",\"kind\":\"Any\",\"default\":null},{\"name\":\"message\",\"kind\":\"Any\",\"default\":\"\"},{\"name\":\"notification_type\",\"kind\":\"Any\",\"default\":null},{\"name\":\"_destroyed\",\"kind\":\"Any\",\"default\":false}]},{\"type\":\"model\",\"name\":\"TemplateActions1\",\"properties\":[{\"name\":\"open_modal\",\"kind\":\"Any\",\"default\":0},{\"name\":\"close_modal\",\"kind\":\"Any\",\"default\":0}]},{\"type\":\"model\",\"name\":\"BootstrapTemplateActions1\",\"properties\":[{\"name\":\"open_modal\",\"kind\":\"Any\",\"default\":0},{\"name\":\"close_modal\",\"kind\":\"Any\",\"default\":0}]},{\"type\":\"model\",\"name\":\"TemplateEditor1\",\"properties\":[{\"name\":\"layout\",\"kind\":\"Any\",\"default\":[]}]},{\"type\":\"model\",\"name\":\"MaterialTemplateActions1\",\"properties\":[{\"name\":\"open_modal\",\"kind\":\"Any\",\"default\":0},{\"name\":\"close_modal\",\"kind\":\"Any\",\"default\":0}]},{\"type\":\"model\",\"name\":\"copy_to_clipboard1\",\"properties\":[{\"name\":\"fill\",\"kind\":\"Any\",\"default\":\"none\"},{\"name\":\"value\",\"kind\":\"Any\",\"default\":null}]}]}};\n",
       "  var render_items = [{\"docid\":\"f118f8f9-cdb8-4c5a-af98-0680b98f52d4\",\"roots\":{\"8fa51204-403e-4ab8-bb9e-2de1232a8e44\":\"e530384b-fe09-4acb-9447-3ecbfc4c0503\"},\"root_ids\":[\"8fa51204-403e-4ab8-bb9e-2de1232a8e44\"]}];\n",
       "  var docs = Object.values(docs_json)\n",
       "  if (!docs) {\n",
       "    return\n",
       "  }\n",
       "  const py_version = docs[0].version.replace('rc', '-rc.').replace('.dev', '-dev.')\n",
       "  async function embed_document(root) {\n",
       "    var Bokeh = get_bokeh(root)\n",
       "    await Bokeh.embed.embed_items_notebook(docs_json, render_items);\n",
       "    for (const render_item of render_items) {\n",
       "      for (const root_id of render_item.root_ids) {\n",
       "\tconst id_el = document.getElementById(root_id)\n",
       "\tif (id_el.children.length && id_el.children[0].hasAttribute('data-root-id')) {\n",
       "\t  const root_el = id_el.children[0]\n",
       "\t  root_el.id = root_el.id + '-rendered'\n",
       "\t  for (const child of root_el.children) {\n",
       "            // Ensure JupyterLab does not capture keyboard shortcuts\n",
       "            // see: https://jupyterlab.readthedocs.io/en/4.1.x/extension/notebook.html#keyboard-interaction-model\n",
       "\t    child.setAttribute('data-lm-suppress-shortcuts', 'true')\n",
       "\t  }\n",
       "\t}\n",
       "      }\n",
       "    }\n",
       "  }\n",
       "  function get_bokeh(root) {\n",
       "    if (root.Bokeh === undefined) {\n",
       "      return null\n",
       "    } else if (root.Bokeh.version !== py_version) {\n",
       "      if (root.Bokeh.versions === undefined || !root.Bokeh.versions.has(py_version)) {\n",
       "\treturn null\n",
       "      }\n",
       "      return root.Bokeh.versions.get(py_version);\n",
       "    } else if (root.Bokeh.version === py_version) {\n",
       "      return root.Bokeh\n",
       "    }\n",
       "    return null\n",
       "  }\n",
       "  function is_loaded(root) {\n",
       "    var Bokeh = get_bokeh(root)\n",
       "    return (Bokeh != null && Bokeh.Panel !== undefined)\n",
       "  }\n",
       "  if (is_loaded(root)) {\n",
       "    embed_document(root);\n",
       "  } else {\n",
       "    var attempts = 0;\n",
       "    var timer = setInterval(function(root) {\n",
       "      if (is_loaded(root)) {\n",
       "        clearInterval(timer);\n",
       "        embed_document(root);\n",
       "      } else if (document.readyState == \"complete\") {\n",
       "        attempts++;\n",
       "        if (attempts > 200) {\n",
       "          clearInterval(timer);\n",
       "\t  var Bokeh = get_bokeh(root)\n",
       "\t  if (Bokeh == null || Bokeh.Panel == null) {\n",
       "            console.warn(\"Panel: ERROR: Unable to run Panel code because Bokeh or Panel library is missing\");\n",
       "\t  } else {\n",
       "\t    console.warn(\"Panel: WARNING: Attempting to render but not all required libraries could be resolved.\")\n",
       "\t    embed_document(root)\n",
       "\t  }\n",
       "        }\n",
       "      }\n",
       "    }, 25, root)\n",
       "  }\n",
       "})(window);</script>"
      ]
     },
     "metadata": {
      "application/vnd.holoviews_exec.v0+json": {
       "id": "8fa51204-403e-4ab8-bb9e-2de1232a8e44"
      }
     },
     "output_type": "display_data"
    },
    {
     "data": {
      "application/javascript": [
       "(function(root) {\n",
       "  function now() {\n",
       "    return new Date();\n",
       "  }\n",
       "\n",
       "  var force = true;\n",
       "  var py_version = '3.4.2'.replace('rc', '-rc.').replace('.dev', '-dev.');\n",
       "  var reloading = true;\n",
       "  var Bokeh = root.Bokeh;\n",
       "\n",
       "  if (typeof (root._bokeh_timeout) === \"undefined\" || force) {\n",
       "    root._bokeh_timeout = Date.now() + 5000;\n",
       "    root._bokeh_failed_load = false;\n",
       "  }\n",
       "\n",
       "  function run_callbacks() {\n",
       "    try {\n",
       "      root._bokeh_onload_callbacks.forEach(function(callback) {\n",
       "        if (callback != null)\n",
       "          callback();\n",
       "      });\n",
       "    } finally {\n",
       "      delete root._bokeh_onload_callbacks;\n",
       "    }\n",
       "    console.debug(\"Bokeh: all callbacks have finished\");\n",
       "  }\n",
       "\n",
       "  function load_libs(css_urls, js_urls, js_modules, js_exports, callback) {\n",
       "    if (css_urls == null) css_urls = [];\n",
       "    if (js_urls == null) js_urls = [];\n",
       "    if (js_modules == null) js_modules = [];\n",
       "    if (js_exports == null) js_exports = {};\n",
       "\n",
       "    root._bokeh_onload_callbacks.push(callback);\n",
       "\n",
       "    if (root._bokeh_is_loading > 0) {\n",
       "      console.debug(\"Bokeh: BokehJS is being loaded, scheduling callback at\", now());\n",
       "      return null;\n",
       "    }\n",
       "    if (js_urls.length === 0 && js_modules.length === 0 && Object.keys(js_exports).length === 0) {\n",
       "      run_callbacks();\n",
       "      return null;\n",
       "    }\n",
       "    if (!reloading) {\n",
       "      console.debug(\"Bokeh: BokehJS not loaded, scheduling load and callback at\", now());\n",
       "    }\n",
       "\n",
       "    function on_load() {\n",
       "      root._bokeh_is_loading--;\n",
       "      if (root._bokeh_is_loading === 0) {\n",
       "        console.debug(\"Bokeh: all BokehJS libraries/stylesheets loaded\");\n",
       "        run_callbacks()\n",
       "      }\n",
       "    }\n",
       "    window._bokeh_on_load = on_load\n",
       "\n",
       "    function on_error() {\n",
       "      console.error(\"failed to load \" + url);\n",
       "    }\n",
       "\n",
       "    var skip = [];\n",
       "    if (window.requirejs) {\n",
       "      window.requirejs.config({'packages': {}, 'paths': {}, 'shim': {}});\n",
       "      root._bokeh_is_loading = css_urls.length + 0;\n",
       "    } else {\n",
       "      root._bokeh_is_loading = css_urls.length + js_urls.length + js_modules.length + Object.keys(js_exports).length;\n",
       "    }\n",
       "\n",
       "    var existing_stylesheets = []\n",
       "    var links = document.getElementsByTagName('link')\n",
       "    for (var i = 0; i < links.length; i++) {\n",
       "      var link = links[i]\n",
       "      if (link.href != null) {\n",
       "\texisting_stylesheets.push(link.href)\n",
       "      }\n",
       "    }\n",
       "    for (var i = 0; i < css_urls.length; i++) {\n",
       "      var url = css_urls[i];\n",
       "      if (existing_stylesheets.indexOf(url) !== -1) {\n",
       "\ton_load()\n",
       "\tcontinue;\n",
       "      }\n",
       "      const element = document.createElement(\"link\");\n",
       "      element.onload = on_load;\n",
       "      element.onerror = on_error;\n",
       "      element.rel = \"stylesheet\";\n",
       "      element.type = \"text/css\";\n",
       "      element.href = url;\n",
       "      console.debug(\"Bokeh: injecting link tag for BokehJS stylesheet: \", url);\n",
       "      document.body.appendChild(element);\n",
       "    }    var existing_scripts = []\n",
       "    var scripts = document.getElementsByTagName('script')\n",
       "    for (var i = 0; i < scripts.length; i++) {\n",
       "      var script = scripts[i]\n",
       "      if (script.src != null) {\n",
       "\texisting_scripts.push(script.src)\n",
       "      }\n",
       "    }\n",
       "    for (var i = 0; i < js_urls.length; i++) {\n",
       "      var url = js_urls[i];\n",
       "      if (skip.indexOf(url) !== -1 || existing_scripts.indexOf(url) !== -1) {\n",
       "\tif (!window.requirejs) {\n",
       "\t  on_load();\n",
       "\t}\n",
       "\tcontinue;\n",
       "      }\n",
       "      var element = document.createElement('script');\n",
       "      element.onload = on_load;\n",
       "      element.onerror = on_error;\n",
       "      element.async = false;\n",
       "      element.src = url;\n",
       "      console.debug(\"Bokeh: injecting script tag for BokehJS library: \", url);\n",
       "      document.head.appendChild(element);\n",
       "    }\n",
       "    for (var i = 0; i < js_modules.length; i++) {\n",
       "      var url = js_modules[i];\n",
       "      if (skip.indexOf(url) !== -1 || existing_scripts.indexOf(url) !== -1) {\n",
       "\tif (!window.requirejs) {\n",
       "\t  on_load();\n",
       "\t}\n",
       "\tcontinue;\n",
       "      }\n",
       "      var element = document.createElement('script');\n",
       "      element.onload = on_load;\n",
       "      element.onerror = on_error;\n",
       "      element.async = false;\n",
       "      element.src = url;\n",
       "      element.type = \"module\";\n",
       "      console.debug(\"Bokeh: injecting script tag for BokehJS library: \", url);\n",
       "      document.head.appendChild(element);\n",
       "    }\n",
       "    for (const name in js_exports) {\n",
       "      var url = js_exports[name];\n",
       "      if (skip.indexOf(url) >= 0 || root[name] != null) {\n",
       "\tif (!window.requirejs) {\n",
       "\t  on_load();\n",
       "\t}\n",
       "\tcontinue;\n",
       "      }\n",
       "      var element = document.createElement('script');\n",
       "      element.onerror = on_error;\n",
       "      element.async = false;\n",
       "      element.type = \"module\";\n",
       "      console.debug(\"Bokeh: injecting script tag for BokehJS library: \", url);\n",
       "      element.textContent = `\n",
       "      import ${name} from \"${url}\"\n",
       "      window.${name} = ${name}\n",
       "      window._bokeh_on_load()\n",
       "      `\n",
       "      document.head.appendChild(element);\n",
       "    }\n",
       "    if (!js_urls.length && !js_modules.length) {\n",
       "      on_load()\n",
       "    }\n",
       "  };\n",
       "\n",
       "  function inject_raw_css(css) {\n",
       "    const element = document.createElement(\"style\");\n",
       "    element.appendChild(document.createTextNode(css));\n",
       "    document.body.appendChild(element);\n",
       "  }\n",
       "\n",
       "  var js_urls = [];\n",
       "  var js_modules = [];\n",
       "  var js_exports = {};\n",
       "  var css_urls = [];\n",
       "  var inline_js = [    function(Bokeh) {\n",
       "      Bokeh.set_log_level(\"info\");\n",
       "    },\n",
       "function(Bokeh) {} // ensure no trailing comma for IE\n",
       "  ];\n",
       "\n",
       "  function run_inline_js() {\n",
       "    if ((root.Bokeh !== undefined) || (force === true)) {\n",
       "      for (var i = 0; i < inline_js.length; i++) {\n",
       "\ttry {\n",
       "          inline_js[i].call(root, root.Bokeh);\n",
       "\t} catch(e) {\n",
       "\t  if (!reloading) {\n",
       "\t    throw e;\n",
       "\t  }\n",
       "\t}\n",
       "      }\n",
       "      // Cache old bokeh versions\n",
       "      if (Bokeh != undefined && !reloading) {\n",
       "\tvar NewBokeh = root.Bokeh;\n",
       "\tif (Bokeh.versions === undefined) {\n",
       "\t  Bokeh.versions = new Map();\n",
       "\t}\n",
       "\tif (NewBokeh.version !== Bokeh.version) {\n",
       "\t  Bokeh.versions.set(NewBokeh.version, NewBokeh)\n",
       "\t}\n",
       "\troot.Bokeh = Bokeh;\n",
       "      }} else if (Date.now() < root._bokeh_timeout) {\n",
       "      setTimeout(run_inline_js, 100);\n",
       "    } else if (!root._bokeh_failed_load) {\n",
       "      console.log(\"Bokeh: BokehJS failed to load within specified timeout.\");\n",
       "      root._bokeh_failed_load = true;\n",
       "    }\n",
       "    root._bokeh_is_initializing = false\n",
       "  }\n",
       "\n",
       "  function load_or_wait() {\n",
       "    // Implement a backoff loop that tries to ensure we do not load multiple\n",
       "    // versions of Bokeh and its dependencies at the same time.\n",
       "    // In recent versions we use the root._bokeh_is_initializing flag\n",
       "    // to determine whether there is an ongoing attempt to initialize\n",
       "    // bokeh, however for backward compatibility we also try to ensure\n",
       "    // that we do not start loading a newer (Panel>=1.0 and Bokeh>3) version\n",
       "    // before older versions are fully initialized.\n",
       "    if (root._bokeh_is_initializing && Date.now() > root._bokeh_timeout) {\n",
       "      root._bokeh_is_initializing = false;\n",
       "      root._bokeh_onload_callbacks = undefined;\n",
       "      console.log(\"Bokeh: BokehJS was loaded multiple times but one version failed to initialize.\");\n",
       "      load_or_wait();\n",
       "    } else if (root._bokeh_is_initializing || (typeof root._bokeh_is_initializing === \"undefined\" && root._bokeh_onload_callbacks !== undefined)) {\n",
       "      setTimeout(load_or_wait, 100);\n",
       "    } else {\n",
       "      root._bokeh_is_initializing = true\n",
       "      root._bokeh_onload_callbacks = []\n",
       "      var bokeh_loaded = Bokeh != null && (Bokeh.version === py_version || (Bokeh.versions !== undefined && Bokeh.versions.has(py_version)));\n",
       "      if (!reloading && !bokeh_loaded) {\n",
       "\troot.Bokeh = undefined;\n",
       "      }\n",
       "      load_libs(css_urls, js_urls, js_modules, js_exports, function() {\n",
       "\tconsole.debug(\"Bokeh: BokehJS plotting callback run at\", now());\n",
       "\trun_inline_js();\n",
       "      });\n",
       "    }\n",
       "  }\n",
       "  // Give older versions of the autoload script a head-start to ensure\n",
       "  // they initialize before we start loading newer version.\n",
       "  setTimeout(load_or_wait, 100)\n",
       "}(window));"
      ],
      "application/vnd.holoviews_load.v0+json": "(function(root) {\n  function now() {\n    return new Date();\n  }\n\n  var force = true;\n  var py_version = '3.4.2'.replace('rc', '-rc.').replace('.dev', '-dev.');\n  var reloading = true;\n  var Bokeh = root.Bokeh;\n\n  if (typeof (root._bokeh_timeout) === \"undefined\" || force) {\n    root._bokeh_timeout = Date.now() + 5000;\n    root._bokeh_failed_load = false;\n  }\n\n  function run_callbacks() {\n    try {\n      root._bokeh_onload_callbacks.forEach(function(callback) {\n        if (callback != null)\n          callback();\n      });\n    } finally {\n      delete root._bokeh_onload_callbacks;\n    }\n    console.debug(\"Bokeh: all callbacks have finished\");\n  }\n\n  function load_libs(css_urls, js_urls, js_modules, js_exports, callback) {\n    if (css_urls == null) css_urls = [];\n    if (js_urls == null) js_urls = [];\n    if (js_modules == null) js_modules = [];\n    if (js_exports == null) js_exports = {};\n\n    root._bokeh_onload_callbacks.push(callback);\n\n    if (root._bokeh_is_loading > 0) {\n      console.debug(\"Bokeh: BokehJS is being loaded, scheduling callback at\", now());\n      return null;\n    }\n    if (js_urls.length === 0 && js_modules.length === 0 && Object.keys(js_exports).length === 0) {\n      run_callbacks();\n      return null;\n    }\n    if (!reloading) {\n      console.debug(\"Bokeh: BokehJS not loaded, scheduling load and callback at\", now());\n    }\n\n    function on_load() {\n      root._bokeh_is_loading--;\n      if (root._bokeh_is_loading === 0) {\n        console.debug(\"Bokeh: all BokehJS libraries/stylesheets loaded\");\n        run_callbacks()\n      }\n    }\n    window._bokeh_on_load = on_load\n\n    function on_error() {\n      console.error(\"failed to load \" + url);\n    }\n\n    var skip = [];\n    if (window.requirejs) {\n      window.requirejs.config({'packages': {}, 'paths': {}, 'shim': {}});\n      root._bokeh_is_loading = css_urls.length + 0;\n    } else {\n      root._bokeh_is_loading = css_urls.length + js_urls.length + js_modules.length + Object.keys(js_exports).length;\n    }\n\n    var existing_stylesheets = []\n    var links = document.getElementsByTagName('link')\n    for (var i = 0; i < links.length; i++) {\n      var link = links[i]\n      if (link.href != null) {\n\texisting_stylesheets.push(link.href)\n      }\n    }\n    for (var i = 0; i < css_urls.length; i++) {\n      var url = css_urls[i];\n      if (existing_stylesheets.indexOf(url) !== -1) {\n\ton_load()\n\tcontinue;\n      }\n      const element = document.createElement(\"link\");\n      element.onload = on_load;\n      element.onerror = on_error;\n      element.rel = \"stylesheet\";\n      element.type = \"text/css\";\n      element.href = url;\n      console.debug(\"Bokeh: injecting link tag for BokehJS stylesheet: \", url);\n      document.body.appendChild(element);\n    }    var existing_scripts = []\n    var scripts = document.getElementsByTagName('script')\n    for (var i = 0; i < scripts.length; i++) {\n      var script = scripts[i]\n      if (script.src != null) {\n\texisting_scripts.push(script.src)\n      }\n    }\n    for (var i = 0; i < js_urls.length; i++) {\n      var url = js_urls[i];\n      if (skip.indexOf(url) !== -1 || existing_scripts.indexOf(url) !== -1) {\n\tif (!window.requirejs) {\n\t  on_load();\n\t}\n\tcontinue;\n      }\n      var element = document.createElement('script');\n      element.onload = on_load;\n      element.onerror = on_error;\n      element.async = false;\n      element.src = url;\n      console.debug(\"Bokeh: injecting script tag for BokehJS library: \", url);\n      document.head.appendChild(element);\n    }\n    for (var i = 0; i < js_modules.length; i++) {\n      var url = js_modules[i];\n      if (skip.indexOf(url) !== -1 || existing_scripts.indexOf(url) !== -1) {\n\tif (!window.requirejs) {\n\t  on_load();\n\t}\n\tcontinue;\n      }\n      var element = document.createElement('script');\n      element.onload = on_load;\n      element.onerror = on_error;\n      element.async = false;\n      element.src = url;\n      element.type = \"module\";\n      console.debug(\"Bokeh: injecting script tag for BokehJS library: \", url);\n      document.head.appendChild(element);\n    }\n    for (const name in js_exports) {\n      var url = js_exports[name];\n      if (skip.indexOf(url) >= 0 || root[name] != null) {\n\tif (!window.requirejs) {\n\t  on_load();\n\t}\n\tcontinue;\n      }\n      var element = document.createElement('script');\n      element.onerror = on_error;\n      element.async = false;\n      element.type = \"module\";\n      console.debug(\"Bokeh: injecting script tag for BokehJS library: \", url);\n      element.textContent = `\n      import ${name} from \"${url}\"\n      window.${name} = ${name}\n      window._bokeh_on_load()\n      `\n      document.head.appendChild(element);\n    }\n    if (!js_urls.length && !js_modules.length) {\n      on_load()\n    }\n  };\n\n  function inject_raw_css(css) {\n    const element = document.createElement(\"style\");\n    element.appendChild(document.createTextNode(css));\n    document.body.appendChild(element);\n  }\n\n  var js_urls = [];\n  var js_modules = [];\n  var js_exports = {};\n  var css_urls = [];\n  var inline_js = [    function(Bokeh) {\n      Bokeh.set_log_level(\"info\");\n    },\nfunction(Bokeh) {} // ensure no trailing comma for IE\n  ];\n\n  function run_inline_js() {\n    if ((root.Bokeh !== undefined) || (force === true)) {\n      for (var i = 0; i < inline_js.length; i++) {\n\ttry {\n          inline_js[i].call(root, root.Bokeh);\n\t} catch(e) {\n\t  if (!reloading) {\n\t    throw e;\n\t  }\n\t}\n      }\n      // Cache old bokeh versions\n      if (Bokeh != undefined && !reloading) {\n\tvar NewBokeh = root.Bokeh;\n\tif (Bokeh.versions === undefined) {\n\t  Bokeh.versions = new Map();\n\t}\n\tif (NewBokeh.version !== Bokeh.version) {\n\t  Bokeh.versions.set(NewBokeh.version, NewBokeh)\n\t}\n\troot.Bokeh = Bokeh;\n      }} else if (Date.now() < root._bokeh_timeout) {\n      setTimeout(run_inline_js, 100);\n    } else if (!root._bokeh_failed_load) {\n      console.log(\"Bokeh: BokehJS failed to load within specified timeout.\");\n      root._bokeh_failed_load = true;\n    }\n    root._bokeh_is_initializing = false\n  }\n\n  function load_or_wait() {\n    // Implement a backoff loop that tries to ensure we do not load multiple\n    // versions of Bokeh and its dependencies at the same time.\n    // In recent versions we use the root._bokeh_is_initializing flag\n    // to determine whether there is an ongoing attempt to initialize\n    // bokeh, however for backward compatibility we also try to ensure\n    // that we do not start loading a newer (Panel>=1.0 and Bokeh>3) version\n    // before older versions are fully initialized.\n    if (root._bokeh_is_initializing && Date.now() > root._bokeh_timeout) {\n      root._bokeh_is_initializing = false;\n      root._bokeh_onload_callbacks = undefined;\n      console.log(\"Bokeh: BokehJS was loaded multiple times but one version failed to initialize.\");\n      load_or_wait();\n    } else if (root._bokeh_is_initializing || (typeof root._bokeh_is_initializing === \"undefined\" && root._bokeh_onload_callbacks !== undefined)) {\n      setTimeout(load_or_wait, 100);\n    } else {\n      root._bokeh_is_initializing = true\n      root._bokeh_onload_callbacks = []\n      var bokeh_loaded = Bokeh != null && (Bokeh.version === py_version || (Bokeh.versions !== undefined && Bokeh.versions.has(py_version)));\n      if (!reloading && !bokeh_loaded) {\n\troot.Bokeh = undefined;\n      }\n      load_libs(css_urls, js_urls, js_modules, js_exports, function() {\n\tconsole.debug(\"Bokeh: BokehJS plotting callback run at\", now());\n\trun_inline_js();\n      });\n    }\n  }\n  // Give older versions of the autoload script a head-start to ensure\n  // they initialize before we start loading newer version.\n  setTimeout(load_or_wait, 100)\n}(window));"
     },
     "metadata": {},
     "output_type": "display_data"
    },
    {
     "data": {
      "application/javascript": [
       "\n",
       "if ((window.PyViz === undefined) || (window.PyViz instanceof HTMLElement)) {\n",
       "  window.PyViz = {comms: {}, comm_status:{}, kernels:{}, receivers: {}, plot_index: []}\n",
       "}\n",
       "\n",
       "\n",
       "    function JupyterCommManager() {\n",
       "    }\n",
       "\n",
       "    JupyterCommManager.prototype.register_target = function(plot_id, comm_id, msg_handler) {\n",
       "      if (window.comm_manager || ((window.Jupyter !== undefined) && (Jupyter.notebook.kernel != null))) {\n",
       "        var comm_manager = window.comm_manager || Jupyter.notebook.kernel.comm_manager;\n",
       "        comm_manager.register_target(comm_id, function(comm) {\n",
       "          comm.on_msg(msg_handler);\n",
       "        });\n",
       "      } else if ((plot_id in window.PyViz.kernels) && (window.PyViz.kernels[plot_id])) {\n",
       "        window.PyViz.kernels[plot_id].registerCommTarget(comm_id, function(comm) {\n",
       "          comm.onMsg = msg_handler;\n",
       "        });\n",
       "      } else if (typeof google != 'undefined' && google.colab.kernel != null) {\n",
       "        google.colab.kernel.comms.registerTarget(comm_id, (comm) => {\n",
       "          var messages = comm.messages[Symbol.asyncIterator]();\n",
       "          function processIteratorResult(result) {\n",
       "            var message = result.value;\n",
       "            console.log(message)\n",
       "            var content = {data: message.data, comm_id};\n",
       "            var buffers = []\n",
       "            for (var buffer of message.buffers || []) {\n",
       "              buffers.push(new DataView(buffer))\n",
       "            }\n",
       "            var metadata = message.metadata || {};\n",
       "            var msg = {content, buffers, metadata}\n",
       "            msg_handler(msg);\n",
       "            return messages.next().then(processIteratorResult);\n",
       "          }\n",
       "          return messages.next().then(processIteratorResult);\n",
       "        })\n",
       "      }\n",
       "    }\n",
       "\n",
       "    JupyterCommManager.prototype.get_client_comm = function(plot_id, comm_id, msg_handler) {\n",
       "      if (comm_id in window.PyViz.comms) {\n",
       "        return window.PyViz.comms[comm_id];\n",
       "      } else if (window.comm_manager || ((window.Jupyter !== undefined) && (Jupyter.notebook.kernel != null))) {\n",
       "        var comm_manager = window.comm_manager || Jupyter.notebook.kernel.comm_manager;\n",
       "        var comm = comm_manager.new_comm(comm_id, {}, {}, {}, comm_id);\n",
       "        if (msg_handler) {\n",
       "          comm.on_msg(msg_handler);\n",
       "        }\n",
       "      } else if ((plot_id in window.PyViz.kernels) && (window.PyViz.kernels[plot_id])) {\n",
       "        var comm = window.PyViz.kernels[plot_id].connectToComm(comm_id);\n",
       "        comm.open();\n",
       "        if (msg_handler) {\n",
       "          comm.onMsg = msg_handler;\n",
       "        }\n",
       "      } else if (typeof google != 'undefined' && google.colab.kernel != null) {\n",
       "        var comm_promise = google.colab.kernel.comms.open(comm_id)\n",
       "        comm_promise.then((comm) => {\n",
       "          window.PyViz.comms[comm_id] = comm;\n",
       "          if (msg_handler) {\n",
       "            var messages = comm.messages[Symbol.asyncIterator]();\n",
       "            function processIteratorResult(result) {\n",
       "              var message = result.value;\n",
       "              var content = {data: message.data};\n",
       "              var metadata = message.metadata || {comm_id};\n",
       "              var msg = {content, metadata}\n",
       "              msg_handler(msg);\n",
       "              return messages.next().then(processIteratorResult);\n",
       "            }\n",
       "            return messages.next().then(processIteratorResult);\n",
       "          }\n",
       "        })\n",
       "        var sendClosure = (data, metadata, buffers, disposeOnDone) => {\n",
       "          return comm_promise.then((comm) => {\n",
       "            comm.send(data, metadata, buffers, disposeOnDone);\n",
       "          });\n",
       "        };\n",
       "        var comm = {\n",
       "          send: sendClosure\n",
       "        };\n",
       "      }\n",
       "      window.PyViz.comms[comm_id] = comm;\n",
       "      return comm;\n",
       "    }\n",
       "    window.PyViz.comm_manager = new JupyterCommManager();\n",
       "    \n",
       "\n",
       "\n",
       "var JS_MIME_TYPE = 'application/javascript';\n",
       "var HTML_MIME_TYPE = 'text/html';\n",
       "var EXEC_MIME_TYPE = 'application/vnd.holoviews_exec.v0+json';\n",
       "var CLASS_NAME = 'output';\n",
       "\n",
       "/**\n",
       " * Render data to the DOM node\n",
       " */\n",
       "function render(props, node) {\n",
       "  var div = document.createElement(\"div\");\n",
       "  var script = document.createElement(\"script\");\n",
       "  node.appendChild(div);\n",
       "  node.appendChild(script);\n",
       "}\n",
       "\n",
       "/**\n",
       " * Handle when a new output is added\n",
       " */\n",
       "function handle_add_output(event, handle) {\n",
       "  var output_area = handle.output_area;\n",
       "  var output = handle.output;\n",
       "  if ((output.data == undefined) || (!output.data.hasOwnProperty(EXEC_MIME_TYPE))) {\n",
       "    return\n",
       "  }\n",
       "  var id = output.metadata[EXEC_MIME_TYPE][\"id\"];\n",
       "  var toinsert = output_area.element.find(\".\" + CLASS_NAME.split(' ')[0]);\n",
       "  if (id !== undefined) {\n",
       "    var nchildren = toinsert.length;\n",
       "    var html_node = toinsert[nchildren-1].children[0];\n",
       "    html_node.innerHTML = output.data[HTML_MIME_TYPE];\n",
       "    var scripts = [];\n",
       "    var nodelist = html_node.querySelectorAll(\"script\");\n",
       "    for (var i in nodelist) {\n",
       "      if (nodelist.hasOwnProperty(i)) {\n",
       "        scripts.push(nodelist[i])\n",
       "      }\n",
       "    }\n",
       "\n",
       "    scripts.forEach( function (oldScript) {\n",
       "      var newScript = document.createElement(\"script\");\n",
       "      var attrs = [];\n",
       "      var nodemap = oldScript.attributes;\n",
       "      for (var j in nodemap) {\n",
       "        if (nodemap.hasOwnProperty(j)) {\n",
       "          attrs.push(nodemap[j])\n",
       "        }\n",
       "      }\n",
       "      attrs.forEach(function(attr) { newScript.setAttribute(attr.name, attr.value) });\n",
       "      newScript.appendChild(document.createTextNode(oldScript.innerHTML));\n",
       "      oldScript.parentNode.replaceChild(newScript, oldScript);\n",
       "    });\n",
       "    if (JS_MIME_TYPE in output.data) {\n",
       "      toinsert[nchildren-1].children[1].textContent = output.data[JS_MIME_TYPE];\n",
       "    }\n",
       "    output_area._hv_plot_id = id;\n",
       "    if ((window.Bokeh !== undefined) && (id in Bokeh.index)) {\n",
       "      window.PyViz.plot_index[id] = Bokeh.index[id];\n",
       "    } else {\n",
       "      window.PyViz.plot_index[id] = null;\n",
       "    }\n",
       "  } else if (output.metadata[EXEC_MIME_TYPE][\"server_id\"] !== undefined) {\n",
       "    var bk_div = document.createElement(\"div\");\n",
       "    bk_div.innerHTML = output.data[HTML_MIME_TYPE];\n",
       "    var script_attrs = bk_div.children[0].attributes;\n",
       "    for (var i = 0; i < script_attrs.length; i++) {\n",
       "      toinsert[toinsert.length - 1].childNodes[1].setAttribute(script_attrs[i].name, script_attrs[i].value);\n",
       "    }\n",
       "    // store reference to server id on output_area\n",
       "    output_area._bokeh_server_id = output.metadata[EXEC_MIME_TYPE][\"server_id\"];\n",
       "  }\n",
       "}\n",
       "\n",
       "/**\n",
       " * Handle when an output is cleared or removed\n",
       " */\n",
       "function handle_clear_output(event, handle) {\n",
       "  var id = handle.cell.output_area._hv_plot_id;\n",
       "  var server_id = handle.cell.output_area._bokeh_server_id;\n",
       "  if (((id === undefined) || !(id in PyViz.plot_index)) && (server_id !== undefined)) { return; }\n",
       "  var comm = window.PyViz.comm_manager.get_client_comm(\"hv-extension-comm\", \"hv-extension-comm\", function () {});\n",
       "  if (server_id !== null) {\n",
       "    comm.send({event_type: 'server_delete', 'id': server_id});\n",
       "    return;\n",
       "  } else if (comm !== null) {\n",
       "    comm.send({event_type: 'delete', 'id': id});\n",
       "  }\n",
       "  delete PyViz.plot_index[id];\n",
       "  if ((window.Bokeh !== undefined) & (id in window.Bokeh.index)) {\n",
       "    var doc = window.Bokeh.index[id].model.document\n",
       "    doc.clear();\n",
       "    const i = window.Bokeh.documents.indexOf(doc);\n",
       "    if (i > -1) {\n",
       "      window.Bokeh.documents.splice(i, 1);\n",
       "    }\n",
       "  }\n",
       "}\n",
       "\n",
       "/**\n",
       " * Handle kernel restart event\n",
       " */\n",
       "function handle_kernel_cleanup(event, handle) {\n",
       "  delete PyViz.comms[\"hv-extension-comm\"];\n",
       "  window.PyViz.plot_index = {}\n",
       "}\n",
       "\n",
       "/**\n",
       " * Handle update_display_data messages\n",
       " */\n",
       "function handle_update_output(event, handle) {\n",
       "  handle_clear_output(event, {cell: {output_area: handle.output_area}})\n",
       "  handle_add_output(event, handle)\n",
       "}\n",
       "\n",
       "function register_renderer(events, OutputArea) {\n",
       "  function append_mime(data, metadata, element) {\n",
       "    // create a DOM node to render to\n",
       "    var toinsert = this.create_output_subarea(\n",
       "    metadata,\n",
       "    CLASS_NAME,\n",
       "    EXEC_MIME_TYPE\n",
       "    );\n",
       "    this.keyboard_manager.register_events(toinsert);\n",
       "    // Render to node\n",
       "    var props = {data: data, metadata: metadata[EXEC_MIME_TYPE]};\n",
       "    render(props, toinsert[0]);\n",
       "    element.append(toinsert);\n",
       "    return toinsert\n",
       "  }\n",
       "\n",
       "  events.on('output_added.OutputArea', handle_add_output);\n",
       "  events.on('output_updated.OutputArea', handle_update_output);\n",
       "  events.on('clear_output.CodeCell', handle_clear_output);\n",
       "  events.on('delete.Cell', handle_clear_output);\n",
       "  events.on('kernel_ready.Kernel', handle_kernel_cleanup);\n",
       "\n",
       "  OutputArea.prototype.register_mime_type(EXEC_MIME_TYPE, append_mime, {\n",
       "    safe: true,\n",
       "    index: 0\n",
       "  });\n",
       "}\n",
       "\n",
       "if (window.Jupyter !== undefined) {\n",
       "  try {\n",
       "    var events = require('base/js/events');\n",
       "    var OutputArea = require('notebook/js/outputarea').OutputArea;\n",
       "    if (OutputArea.prototype.mime_types().indexOf(EXEC_MIME_TYPE) == -1) {\n",
       "      register_renderer(events, OutputArea);\n",
       "    }\n",
       "  } catch(err) {\n",
       "  }\n",
       "}\n"
      ],
      "application/vnd.holoviews_load.v0+json": "\nif ((window.PyViz === undefined) || (window.PyViz instanceof HTMLElement)) {\n  window.PyViz = {comms: {}, comm_status:{}, kernels:{}, receivers: {}, plot_index: []}\n}\n\n\n    function JupyterCommManager() {\n    }\n\n    JupyterCommManager.prototype.register_target = function(plot_id, comm_id, msg_handler) {\n      if (window.comm_manager || ((window.Jupyter !== undefined) && (Jupyter.notebook.kernel != null))) {\n        var comm_manager = window.comm_manager || Jupyter.notebook.kernel.comm_manager;\n        comm_manager.register_target(comm_id, function(comm) {\n          comm.on_msg(msg_handler);\n        });\n      } else if ((plot_id in window.PyViz.kernels) && (window.PyViz.kernels[plot_id])) {\n        window.PyViz.kernels[plot_id].registerCommTarget(comm_id, function(comm) {\n          comm.onMsg = msg_handler;\n        });\n      } else if (typeof google != 'undefined' && google.colab.kernel != null) {\n        google.colab.kernel.comms.registerTarget(comm_id, (comm) => {\n          var messages = comm.messages[Symbol.asyncIterator]();\n          function processIteratorResult(result) {\n            var message = result.value;\n            console.log(message)\n            var content = {data: message.data, comm_id};\n            var buffers = []\n            for (var buffer of message.buffers || []) {\n              buffers.push(new DataView(buffer))\n            }\n            var metadata = message.metadata || {};\n            var msg = {content, buffers, metadata}\n            msg_handler(msg);\n            return messages.next().then(processIteratorResult);\n          }\n          return messages.next().then(processIteratorResult);\n        })\n      }\n    }\n\n    JupyterCommManager.prototype.get_client_comm = function(plot_id, comm_id, msg_handler) {\n      if (comm_id in window.PyViz.comms) {\n        return window.PyViz.comms[comm_id];\n      } else if (window.comm_manager || ((window.Jupyter !== undefined) && (Jupyter.notebook.kernel != null))) {\n        var comm_manager = window.comm_manager || Jupyter.notebook.kernel.comm_manager;\n        var comm = comm_manager.new_comm(comm_id, {}, {}, {}, comm_id);\n        if (msg_handler) {\n          comm.on_msg(msg_handler);\n        }\n      } else if ((plot_id in window.PyViz.kernels) && (window.PyViz.kernels[plot_id])) {\n        var comm = window.PyViz.kernels[plot_id].connectToComm(comm_id);\n        comm.open();\n        if (msg_handler) {\n          comm.onMsg = msg_handler;\n        }\n      } else if (typeof google != 'undefined' && google.colab.kernel != null) {\n        var comm_promise = google.colab.kernel.comms.open(comm_id)\n        comm_promise.then((comm) => {\n          window.PyViz.comms[comm_id] = comm;\n          if (msg_handler) {\n            var messages = comm.messages[Symbol.asyncIterator]();\n            function processIteratorResult(result) {\n              var message = result.value;\n              var content = {data: message.data};\n              var metadata = message.metadata || {comm_id};\n              var msg = {content, metadata}\n              msg_handler(msg);\n              return messages.next().then(processIteratorResult);\n            }\n            return messages.next().then(processIteratorResult);\n          }\n        })\n        var sendClosure = (data, metadata, buffers, disposeOnDone) => {\n          return comm_promise.then((comm) => {\n            comm.send(data, metadata, buffers, disposeOnDone);\n          });\n        };\n        var comm = {\n          send: sendClosure\n        };\n      }\n      window.PyViz.comms[comm_id] = comm;\n      return comm;\n    }\n    window.PyViz.comm_manager = new JupyterCommManager();\n    \n\n\nvar JS_MIME_TYPE = 'application/javascript';\nvar HTML_MIME_TYPE = 'text/html';\nvar EXEC_MIME_TYPE = 'application/vnd.holoviews_exec.v0+json';\nvar CLASS_NAME = 'output';\n\n/**\n * Render data to the DOM node\n */\nfunction render(props, node) {\n  var div = document.createElement(\"div\");\n  var script = document.createElement(\"script\");\n  node.appendChild(div);\n  node.appendChild(script);\n}\n\n/**\n * Handle when a new output is added\n */\nfunction handle_add_output(event, handle) {\n  var output_area = handle.output_area;\n  var output = handle.output;\n  if ((output.data == undefined) || (!output.data.hasOwnProperty(EXEC_MIME_TYPE))) {\n    return\n  }\n  var id = output.metadata[EXEC_MIME_TYPE][\"id\"];\n  var toinsert = output_area.element.find(\".\" + CLASS_NAME.split(' ')[0]);\n  if (id !== undefined) {\n    var nchildren = toinsert.length;\n    var html_node = toinsert[nchildren-1].children[0];\n    html_node.innerHTML = output.data[HTML_MIME_TYPE];\n    var scripts = [];\n    var nodelist = html_node.querySelectorAll(\"script\");\n    for (var i in nodelist) {\n      if (nodelist.hasOwnProperty(i)) {\n        scripts.push(nodelist[i])\n      }\n    }\n\n    scripts.forEach( function (oldScript) {\n      var newScript = document.createElement(\"script\");\n      var attrs = [];\n      var nodemap = oldScript.attributes;\n      for (var j in nodemap) {\n        if (nodemap.hasOwnProperty(j)) {\n          attrs.push(nodemap[j])\n        }\n      }\n      attrs.forEach(function(attr) { newScript.setAttribute(attr.name, attr.value) });\n      newScript.appendChild(document.createTextNode(oldScript.innerHTML));\n      oldScript.parentNode.replaceChild(newScript, oldScript);\n    });\n    if (JS_MIME_TYPE in output.data) {\n      toinsert[nchildren-1].children[1].textContent = output.data[JS_MIME_TYPE];\n    }\n    output_area._hv_plot_id = id;\n    if ((window.Bokeh !== undefined) && (id in Bokeh.index)) {\n      window.PyViz.plot_index[id] = Bokeh.index[id];\n    } else {\n      window.PyViz.plot_index[id] = null;\n    }\n  } else if (output.metadata[EXEC_MIME_TYPE][\"server_id\"] !== undefined) {\n    var bk_div = document.createElement(\"div\");\n    bk_div.innerHTML = output.data[HTML_MIME_TYPE];\n    var script_attrs = bk_div.children[0].attributes;\n    for (var i = 0; i < script_attrs.length; i++) {\n      toinsert[toinsert.length - 1].childNodes[1].setAttribute(script_attrs[i].name, script_attrs[i].value);\n    }\n    // store reference to server id on output_area\n    output_area._bokeh_server_id = output.metadata[EXEC_MIME_TYPE][\"server_id\"];\n  }\n}\n\n/**\n * Handle when an output is cleared or removed\n */\nfunction handle_clear_output(event, handle) {\n  var id = handle.cell.output_area._hv_plot_id;\n  var server_id = handle.cell.output_area._bokeh_server_id;\n  if (((id === undefined) || !(id in PyViz.plot_index)) && (server_id !== undefined)) { return; }\n  var comm = window.PyViz.comm_manager.get_client_comm(\"hv-extension-comm\", \"hv-extension-comm\", function () {});\n  if (server_id !== null) {\n    comm.send({event_type: 'server_delete', 'id': server_id});\n    return;\n  } else if (comm !== null) {\n    comm.send({event_type: 'delete', 'id': id});\n  }\n  delete PyViz.plot_index[id];\n  if ((window.Bokeh !== undefined) & (id in window.Bokeh.index)) {\n    var doc = window.Bokeh.index[id].model.document\n    doc.clear();\n    const i = window.Bokeh.documents.indexOf(doc);\n    if (i > -1) {\n      window.Bokeh.documents.splice(i, 1);\n    }\n  }\n}\n\n/**\n * Handle kernel restart event\n */\nfunction handle_kernel_cleanup(event, handle) {\n  delete PyViz.comms[\"hv-extension-comm\"];\n  window.PyViz.plot_index = {}\n}\n\n/**\n * Handle update_display_data messages\n */\nfunction handle_update_output(event, handle) {\n  handle_clear_output(event, {cell: {output_area: handle.output_area}})\n  handle_add_output(event, handle)\n}\n\nfunction register_renderer(events, OutputArea) {\n  function append_mime(data, metadata, element) {\n    // create a DOM node to render to\n    var toinsert = this.create_output_subarea(\n    metadata,\n    CLASS_NAME,\n    EXEC_MIME_TYPE\n    );\n    this.keyboard_manager.register_events(toinsert);\n    // Render to node\n    var props = {data: data, metadata: metadata[EXEC_MIME_TYPE]};\n    render(props, toinsert[0]);\n    element.append(toinsert);\n    return toinsert\n  }\n\n  events.on('output_added.OutputArea', handle_add_output);\n  events.on('output_updated.OutputArea', handle_update_output);\n  events.on('clear_output.CodeCell', handle_clear_output);\n  events.on('delete.Cell', handle_clear_output);\n  events.on('kernel_ready.Kernel', handle_kernel_cleanup);\n\n  OutputArea.prototype.register_mime_type(EXEC_MIME_TYPE, append_mime, {\n    safe: true,\n    index: 0\n  });\n}\n\nif (window.Jupyter !== undefined) {\n  try {\n    var events = require('base/js/events');\n    var OutputArea = require('notebook/js/outputarea').OutputArea;\n    if (OutputArea.prototype.mime_types().indexOf(EXEC_MIME_TYPE) == -1) {\n      register_renderer(events, OutputArea);\n    }\n  } catch(err) {\n  }\n}\n"
     },
     "metadata": {},
     "output_type": "display_data"
    },
    {
     "data": {
      "text/html": [
       "<style>*[data-root-id],\n",
       "*[data-root-id] > * {\n",
       "  box-sizing: border-box;\n",
       "  font-family: var(--jp-ui-font-family);\n",
       "  font-size: var(--jp-ui-font-size1);\n",
       "  color: var(--vscode-editor-foreground, var(--jp-ui-font-color1));\n",
       "}\n",
       "\n",
       "/* Override VSCode background color */\n",
       ".cell-output-ipywidget-background:has(\n",
       "    > .cell-output-ipywidget-background > .lm-Widget > *[data-root-id]\n",
       "  ),\n",
       ".cell-output-ipywidget-background:has(> .lm-Widget > *[data-root-id]) {\n",
       "  background-color: transparent !important;\n",
       "}\n",
       "</style>"
      ]
     },
     "metadata": {},
     "output_type": "display_data"
    }
   ],
   "source": [
    "import pandas as pd\n",
    "import numpy as np\n",
    "\n",
    "import holoviews as hv\n",
    "from holoviews import dim, opts\n",
    "import hvplot.pandas\n",
    "hv.extension('bokeh', 'matplotlib')"
   ]
  },
  {
   "cell_type": "code",
   "execution_count": 2,
   "metadata": {
    "slideshow": {
     "slide_type": "notes"
    }
   },
   "outputs": [],
   "source": [
    "p = pd.read_excel('al_pibpc_1980_2020.xlsx')\n",
    "\n",
    "pib_pc = p.hvplot.line('Ano', ['Argentina', 'Brasil', 'Coreia do Sul'],\n",
    "                       height=500,\n",
    "                       width=750,\n",
    "                       rot=30,\n",
    "                       padding=0.15,\n",
    "                       group_label='Países',\n",
    "                       legend='bottom',\n",
    "                       xlabel='',\n",
    "                       xlim=(1980, 2020),\n",
    "                       xticks=22,\n",
    "                       ylim=(0, 60),\n",
    "                       yticks=18,\n",
    "                       yformatter='%.0f',\n",
    "                       ylabel='EUA=100',\n",
    "                       grid=False,\n",
    "                       title='PIB per capita, 1980-2020 (preços constantes em US$ de 2015, EUA=100)'\n",
    "                      ).opts(fontsize={'title': 11, 'labels': 10, 'xticks': 8, 'yticks': 8})"
   ]
  },
  {
   "cell_type": "code",
   "execution_count": 3,
   "metadata": {
    "slideshow": {
     "slide_type": "slide"
    }
   },
   "outputs": [
    {
     "data": {},
     "metadata": {},
     "output_type": "display_data"
    },
    {
     "data": {
      "application/vnd.holoviews_exec.v0+json": "",
      "text/html": [
       "<div id='19b334f2-f9fd-4bf3-bb5a-8a583318c353'>\n",
       "  <div id=\"cd347c23-daff-4d3c-936e-2007f35abfcd\" data-root-id=\"19b334f2-f9fd-4bf3-bb5a-8a583318c353\" style=\"display: contents;\"></div>\n",
       "</div>\n",
       "<script type=\"application/javascript\">(function(root) {\n",
       "  var docs_json = {\"c882303b-d77f-4d97-8343-414309af315f\":{\"version\":\"3.4.2\",\"title\":\"Bokeh Application\",\"roots\":[{\"type\":\"object\",\"name\":\"Row\",\"id\":\"19b334f2-f9fd-4bf3-bb5a-8a583318c353\",\"attributes\":{\"name\":\"Row00319\",\"tags\":[\"embedded\"],\"stylesheets\":[\"\\n:host(.pn-loading):before, .pn-loading:before {\\n  background-color: #c3c3c3;\\n  mask-size: auto calc(min(50%, 400px));\\n  -webkit-mask-size: auto calc(min(50%, 400px));\\n}\",{\"type\":\"object\",\"name\":\"ImportedStyleSheet\",\"id\":\"743b0b6d-66a9-49cc-b10c-db9124227b08\",\"attributes\":{\"url\":\"https://cdn.holoviz.org/panel/1.4.5/dist/css/loading.css\"}},{\"type\":\"object\",\"name\":\"ImportedStyleSheet\",\"id\":\"67f6642d-c0e5-4216-ba76-012261f79f17\",\"attributes\":{\"url\":\"https://cdn.holoviz.org/panel/1.4.5/dist/css/listpanel.css\"}},{\"type\":\"object\",\"name\":\"ImportedStyleSheet\",\"id\":\"457a2614-984a-4eca-9f77-72f8cd1e4733\",\"attributes\":{\"url\":\"https://cdn.holoviz.org/panel/1.4.5/dist/bundled/theme/default.css\"}},{\"type\":\"object\",\"name\":\"ImportedStyleSheet\",\"id\":\"c3541a93-4aa3-468f-9556-d9941dea4ec9\",\"attributes\":{\"url\":\"https://cdn.holoviz.org/panel/1.4.5/dist/bundled/theme/native.css\"}}],\"min_width\":750,\"margin\":0,\"sizing_mode\":\"stretch_width\",\"align\":\"start\",\"children\":[{\"type\":\"object\",\"name\":\"Spacer\",\"id\":\"ae6412ca-d306-45b5-af9d-5b178acd40a7\",\"attributes\":{\"name\":\"HSpacer00323\",\"stylesheets\":[\"\\n:host(.pn-loading):before, .pn-loading:before {\\n  background-color: #c3c3c3;\\n  mask-size: auto calc(min(50%, 400px));\\n  -webkit-mask-size: auto calc(min(50%, 400px));\\n}\",{\"id\":\"743b0b6d-66a9-49cc-b10c-db9124227b08\"},{\"id\":\"457a2614-984a-4eca-9f77-72f8cd1e4733\"},{\"id\":\"c3541a93-4aa3-468f-9556-d9941dea4ec9\"}],\"margin\":0,\"sizing_mode\":\"stretch_width\",\"align\":\"start\"}},{\"type\":\"object\",\"name\":\"Figure\",\"id\":\"e760252b-9488-4bce-bad0-82007f79a33b\",\"attributes\":{\"width\":750,\"height\":500,\"margin\":[5,10],\"sizing_mode\":\"fixed\",\"align\":\"start\",\"x_range\":{\"type\":\"object\",\"name\":\"Range1d\",\"id\":\"ca231fe1-351f-4f7a-a8ed-1de39476f790\",\"attributes\":{\"name\":\"Ano\",\"tags\":[[[\"Ano\",null]],[]],\"start\":1980,\"end\":2020,\"reset_start\":1980,\"reset_end\":2020}},\"y_range\":{\"type\":\"object\",\"name\":\"Range1d\",\"id\":\"45589d8a-3b00-427e-8f7f-50d50606dfa2\",\"attributes\":{\"name\":\"Argentina\",\"tags\":[[[\"value\",null]],{\"type\":\"map\",\"entries\":[[\"invert_yaxis\",false],[\"autorange\",false]]}],\"end\":60,\"reset_start\":0,\"reset_end\":60}},\"x_scale\":{\"type\":\"object\",\"name\":\"LinearScale\",\"id\":\"b4b12255-d0df-4400-bdbb-23ecc9a4dacc\"},\"y_scale\":{\"type\":\"object\",\"name\":\"LinearScale\",\"id\":\"efd05e24-71a4-4edd-8b9f-d9390d5df3ad\"},\"title\":{\"type\":\"object\",\"name\":\"Title\",\"id\":\"7af7ea52-5d7f-4008-8832-efbeb674e4a0\",\"attributes\":{\"text\":\"PIB per capita, 1980-2020 (pre\\u00e7os constantes em US$ de 2015, EUA=100)\",\"text_color\":\"black\",\"text_font_size\":\"11pt\"}},\"renderers\":[{\"type\":\"object\",\"name\":\"GlyphRenderer\",\"id\":\"87159d21-aedb-4cce-be02-ca0f64aa2b21\",\"attributes\":{\"name\":\"Argentina\",\"data_source\":{\"type\":\"object\",\"name\":\"ColumnDataSource\",\"id\":\"6adc8fae-b734-4800-ab77-364b37386262\",\"attributes\":{\"selected\":{\"type\":\"object\",\"name\":\"Selection\",\"id\":\"837d79f0-db80-4520-a1cf-fd2d4b51b451\",\"attributes\":{\"indices\":[],\"line_indices\":[]}},\"selection_policy\":{\"type\":\"object\",\"name\":\"UnionRenderers\",\"id\":\"b61f3f6e-9e57-4314-9235-1607d12e9867\"},\"data\":{\"type\":\"map\",\"entries\":[[\"Ano\",{\"type\":\"ndarray\",\"array\":{\"type\":\"bytes\",\"data\":\"vAcAAL0HAAC+BwAAvwcAAMAHAADBBwAAwgcAAMMHAADEBwAAxQcAAMYHAADHBwAAyAcAAMkHAADKBwAAywcAAMwHAADNBwAAzgcAAM8HAADQBwAA0QcAANIHAADTBwAA1AcAANUHAADWBwAA1wcAANgHAADZBwAA2gcAANsHAADcBwAA3QcAAN4HAADfBwAA4AcAAOEHAADiBwAA4wcAAOQHAAA=\"},\"shape\":[41],\"dtype\":\"int32\",\"order\":\"little\"}],[\"Argentina\",{\"type\":\"ndarray\",\"array\":{\"type\":\"bytes\",\"data\":\"iAa6TfWQQECTM00/hXQ+QMZwMFu7lj5AOGWjgvJOPkCSIv4FfH48QAOHbscCwDlA2YOB9ek+OkDg64FjC+E5QBRIyp1aajhA3H2/ulS+NUDCK67RTb80QCkdakfkpjZArzVVDUugN0BlkB8kNeI4QFOPCdNaTjlANYqujiXvN0D6bJ/J1VQ4QND9rCQ+NjlALGpuC2YROUDcBwYG4CA3QFBFJEsACjZACvaZ5XvWNEAxVg9PrTgyQFOTLK8yPTNAHQiZuawuNEDJQRLI6TI1QMmPhubyQTZAPfs67eXNN0Cgtytw2co4QAZGOkoa5zdAmK5D7FOvOUAUeBOyd7I6QOzQhh7fvDlASeIIpSHFOUBM4FrY/mk4QE64VJncPzhAeNkrt5hEN0DZ5W9Tt0g3QFZKGu5P6DVAMcOHKZjlNEDTT7mAsH0zQA==\"},\"shape\":[41],\"dtype\":\"float64\",\"order\":\"little\"}],[\"Pa\\u00edses\",[\"Argentina\",\"Argentina\",\"Argentina\",\"Argentina\",\"Argentina\",\"Argentina\",\"Argentina\",\"Argentina\",\"Argentina\",\"Argentina\",\"Argentina\",\"Argentina\",\"Argentina\",\"Argentina\",\"Argentina\",\"Argentina\",\"Argentina\",\"Argentina\",\"Argentina\",\"Argentina\",\"Argentina\",\"Argentina\",\"Argentina\",\"Argentina\",\"Argentina\",\"Argentina\",\"Argentina\",\"Argentina\",\"Argentina\",\"Argentina\",\"Argentina\",\"Argentina\",\"Argentina\",\"Argentina\",\"Argentina\",\"Argentina\",\"Argentina\",\"Argentina\",\"Argentina\",\"Argentina\",\"Argentina\"]]]}}},\"view\":{\"type\":\"object\",\"name\":\"CDSView\",\"id\":\"c5849647-1039-4e35-9229-855b27283619\",\"attributes\":{\"filter\":{\"type\":\"object\",\"name\":\"AllIndices\",\"id\":\"642522b3-296c-41e1-8343-b7e693cd96b0\"}}},\"glyph\":{\"type\":\"object\",\"name\":\"Line\",\"id\":\"e89bfe93-0e49-490f-aa5f-6b40afa53b7f\",\"attributes\":{\"tags\":[\"apply_ranges\"],\"x\":{\"type\":\"field\",\"field\":\"Ano\"},\"y\":{\"type\":\"field\",\"field\":\"Argentina\"},\"line_color\":\"#30a2da\",\"line_width\":2}},\"selection_glyph\":{\"type\":\"object\",\"name\":\"Line\",\"id\":\"66c690b4-284e-49ef-b36e-a06ee976d9cd\",\"attributes\":{\"tags\":[\"apply_ranges\"],\"x\":{\"type\":\"field\",\"field\":\"Ano\"},\"y\":{\"type\":\"field\",\"field\":\"Argentina\"},\"line_color\":\"#30a2da\",\"line_width\":2}},\"nonselection_glyph\":{\"type\":\"object\",\"name\":\"Line\",\"id\":\"faa84482-fa59-4c0f-8aa5-75967665c6ec\",\"attributes\":{\"tags\":[\"apply_ranges\"],\"x\":{\"type\":\"field\",\"field\":\"Ano\"},\"y\":{\"type\":\"field\",\"field\":\"Argentina\"},\"line_color\":\"#30a2da\",\"line_alpha\":0.1,\"line_width\":2}},\"muted_glyph\":{\"type\":\"object\",\"name\":\"Line\",\"id\":\"e007884f-b277-4680-ad7f-f8b464b26c03\",\"attributes\":{\"tags\":[\"apply_ranges\"],\"x\":{\"type\":\"field\",\"field\":\"Ano\"},\"y\":{\"type\":\"field\",\"field\":\"Argentina\"},\"line_color\":\"#30a2da\",\"line_alpha\":0.2,\"line_width\":2}}}},{\"type\":\"object\",\"name\":\"GlyphRenderer\",\"id\":\"119c9859-b17f-4b2a-b823-e55c6453803d\",\"attributes\":{\"name\":\"Brasil\",\"data_source\":{\"type\":\"object\",\"name\":\"ColumnDataSource\",\"id\":\"a968319c-de5d-4094-b6ef-e5e99f8f88ed\",\"attributes\":{\"selected\":{\"type\":\"object\",\"name\":\"Selection\",\"id\":\"18312109-7030-40cf-8819-03f4927b88b6\",\"attributes\":{\"indices\":[],\"line_indices\":[]}},\"selection_policy\":{\"type\":\"object\",\"name\":\"UnionRenderers\",\"id\":\"47b3ceaa-7192-4104-91fd-4d6a8f971db3\"},\"data\":{\"type\":\"map\",\"entries\":[[\"Ano\",{\"type\":\"ndarray\",\"array\":{\"type\":\"bytes\",\"data\":\"vAcAAL0HAAC+BwAAvwcAAMAHAADBBwAAwgcAAMMHAADEBwAAxQcAAMYHAADHBwAAyAcAAMkHAADKBwAAywcAAMwHAADNBwAAzgcAAM8HAADQBwAA0QcAANIHAADTBwAA1AcAANUHAADWBwAA1wcAANgHAADZBwAA2gcAANsHAADcBwAA3QcAAN4HAADfBwAA4AcAAOEHAADiBwAA4wcAAOQHAAA=\"},\"shape\":[41],\"dtype\":\"int32\",\"order\":\"little\"}],[\"Brasil\",{\"type\":\"ndarray\",\"array\":{\"type\":\"bytes\",\"data\":\"hIZzSI3fNEDA8f4svjkzQDBClJ8EeDNAl9LrCwbSMUBGwDSCnUYxQMiwskPpqDFAiXYP9TEjMkCrxu2efvMxQOz8NYwODDFAWx36lMXOMEDzWaJR8FcvQBY40lNHkS9AlgBLmv46LkAa1BmRV8MuQBoH4eTXLC9Auy13gaOCL0ClzICDW+cuQFePlp5pgC5A/Y+OqZIvLUAjnb6ZHeYrQPXD+ja44StA1n4e2mniK0Dxn2hxqyIsQL5PyUAUjitAaJHCRo7/K0AHUYGgA9orQNFYf+6uHSxAoBrNj3g/LUCpkg3N18MuQFOSClbJfy9ApJ1ZbHl+MEB2N3RwE9swQMYDllJYxjBAoEqV14fvMEDAyRsx05QwQLmHvIsmAC9Asgp6pohzLUCMRqhwHhwtQDoCO+BvsSxAxK7PWfJlLEAvJ9z1pEYsQA==\"},\"shape\":[41],\"dtype\":\"float64\",\"order\":\"little\"}],[\"Pa\\u00edses\",[\"Brasil\",\"Brasil\",\"Brasil\",\"Brasil\",\"Brasil\",\"Brasil\",\"Brasil\",\"Brasil\",\"Brasil\",\"Brasil\",\"Brasil\",\"Brasil\",\"Brasil\",\"Brasil\",\"Brasil\",\"Brasil\",\"Brasil\",\"Brasil\",\"Brasil\",\"Brasil\",\"Brasil\",\"Brasil\",\"Brasil\",\"Brasil\",\"Brasil\",\"Brasil\",\"Brasil\",\"Brasil\",\"Brasil\",\"Brasil\",\"Brasil\",\"Brasil\",\"Brasil\",\"Brasil\",\"Brasil\",\"Brasil\",\"Brasil\",\"Brasil\",\"Brasil\",\"Brasil\",\"Brasil\"]]]}}},\"view\":{\"type\":\"object\",\"name\":\"CDSView\",\"id\":\"28c26f98-b58d-4fc3-8de5-c3d9015d76cd\",\"attributes\":{\"filter\":{\"type\":\"object\",\"name\":\"AllIndices\",\"id\":\"afa2f0db-186c-4e60-876c-50d9625fc503\"}}},\"glyph\":{\"type\":\"object\",\"name\":\"Line\",\"id\":\"3f1ee3c1-38ba-4740-8df3-31b81a57a3b5\",\"attributes\":{\"tags\":[\"apply_ranges\"],\"x\":{\"type\":\"field\",\"field\":\"Ano\"},\"y\":{\"type\":\"field\",\"field\":\"Brasil\"},\"line_color\":\"#fc4f30\",\"line_width\":2}},\"selection_glyph\":{\"type\":\"object\",\"name\":\"Line\",\"id\":\"336b2966-4b16-4a47-aaa7-e79f88e20f51\",\"attributes\":{\"tags\":[\"apply_ranges\"],\"x\":{\"type\":\"field\",\"field\":\"Ano\"},\"y\":{\"type\":\"field\",\"field\":\"Brasil\"},\"line_color\":\"#fc4f30\",\"line_width\":2}},\"nonselection_glyph\":{\"type\":\"object\",\"name\":\"Line\",\"id\":\"84895337-1461-4c30-8d27-4335bd76a4d3\",\"attributes\":{\"tags\":[\"apply_ranges\"],\"x\":{\"type\":\"field\",\"field\":\"Ano\"},\"y\":{\"type\":\"field\",\"field\":\"Brasil\"},\"line_color\":\"#fc4f30\",\"line_alpha\":0.1,\"line_width\":2}},\"muted_glyph\":{\"type\":\"object\",\"name\":\"Line\",\"id\":\"517e7e1b-ca0d-45e2-8162-ebf67396a74c\",\"attributes\":{\"tags\":[\"apply_ranges\"],\"x\":{\"type\":\"field\",\"field\":\"Ano\"},\"y\":{\"type\":\"field\",\"field\":\"Brasil\"},\"line_color\":\"#fc4f30\",\"line_alpha\":0.2,\"line_width\":2}}}},{\"type\":\"object\",\"name\":\"GlyphRenderer\",\"id\":\"4e7a1127-67fb-410c-8294-13e57b552989\",\"attributes\":{\"name\":\"Coreia do Sul\",\"data_source\":{\"type\":\"object\",\"name\":\"ColumnDataSource\",\"id\":\"5c02fdba-b98b-4c5e-b9bb-f28e9f628aa7\",\"attributes\":{\"selected\":{\"type\":\"object\",\"name\":\"Selection\",\"id\":\"4700fe80-8fb2-43ca-9fbf-f17f45979007\",\"attributes\":{\"indices\":[],\"line_indices\":[]}},\"selection_policy\":{\"type\":\"object\",\"name\":\"UnionRenderers\",\"id\":\"72af5cb8-962e-4e4c-9884-0f3fcfee59d4\"},\"data\":{\"type\":\"map\",\"entries\":[[\"Ano\",{\"type\":\"ndarray\",\"array\":{\"type\":\"bytes\",\"data\":\"vAcAAL0HAAC+BwAAvwcAAMAHAADBBwAAwgcAAMMHAADEBwAAxQcAAMYHAADHBwAAyAcAAMkHAADKBwAAywcAAMwHAADNBwAAzgcAAM8HAADQBwAA0QcAANIHAADTBwAA1AcAANUHAADWBwAA1wcAANgHAADZBwAA2gcAANsHAADcBwAA3QcAAN4HAADfBwAA4AcAAOEHAADiBwAA4wcAAOQHAAA=\"},\"shape\":[41],\"dtype\":\"int32\",\"order\":\"little\"}],[\"Coreia do Sul\",{\"type\":\"ndarray\",\"array\":{\"type\":\"bytes\",\"data\":\"fCQV0wIMKkBIWrax8xUrQFYaZ6fdtC1AscFSORYDMEA0yVlmRXIwQM3BxGNIAjFAdfKB9/ZJMkC2IiVgkOgzQLlUUGjHYjVAx9N/YNATNkDvg0Qi8Nc3QPpdOIaliDpAuMf0w4RQO0BBcyD3V388QE8HEIax/z1AeThtCpQKQEC0hfgdjLZAQOB1gWt4C0FA0Z5EfW4XP0Ct2lEiWZ1AQEl0fq4zc0FAlRmluP8nQkCr+V13mEpDQNnuoVJBaUNA2sVWOO3GQ0CPoAEGKhJEQOVYQLqpoURAd2CCFJOFRUATjFeZ8z1GQDlmSQTRFUdAEQRMTZ4eSECTYo2bw51IQJFKvpVTtEhA6B6YDbQVSUBgqawP4UZJQFbu7C2nQ0lAyD3XcbWnSUCDf/mEG/RJQFVZQoqI9ElAj4RzWBIBSkCCde4beulKQA==\"},\"shape\":[41],\"dtype\":\"float64\",\"order\":\"little\"}],[\"Coreia_do_Sul\",{\"type\":\"ndarray\",\"array\":{\"type\":\"bytes\",\"data\":\"fCQV0wIMKkBIWrax8xUrQFYaZ6fdtC1AscFSORYDMEA0yVlmRXIwQM3BxGNIAjFAdfKB9/ZJMkC2IiVgkOgzQLlUUGjHYjVAx9N/YNATNkDvg0Qi8Nc3QPpdOIaliDpAuMf0w4RQO0BBcyD3V388QE8HEIax/z1AeThtCpQKQEC0hfgdjLZAQOB1gWt4C0FA0Z5EfW4XP0Ct2lEiWZ1AQEl0fq4zc0FAlRmluP8nQkCr+V13mEpDQNnuoVJBaUNA2sVWOO3GQ0CPoAEGKhJEQOVYQLqpoURAd2CCFJOFRUATjFeZ8z1GQDlmSQTRFUdAEQRMTZ4eSECTYo2bw51IQJFKvpVTtEhA6B6YDbQVSUBgqawP4UZJQFbu7C2nQ0lAyD3XcbWnSUCDf/mEG/RJQFVZQoqI9ElAj4RzWBIBSkCCde4beulKQA==\"},\"shape\":[41],\"dtype\":\"float64\",\"order\":\"little\"}],[\"Pa\\u00edses\",[\"Coreia do Sul\",\"Coreia do Sul\",\"Coreia do Sul\",\"Coreia do Sul\",\"Coreia do Sul\",\"Coreia do Sul\",\"Coreia do Sul\",\"Coreia do Sul\",\"Coreia do Sul\",\"Coreia do Sul\",\"Coreia do Sul\",\"Coreia do Sul\",\"Coreia do Sul\",\"Coreia do Sul\",\"Coreia do Sul\",\"Coreia do Sul\",\"Coreia do Sul\",\"Coreia do Sul\",\"Coreia do Sul\",\"Coreia do Sul\",\"Coreia do Sul\",\"Coreia do Sul\",\"Coreia do Sul\",\"Coreia do Sul\",\"Coreia do Sul\",\"Coreia do Sul\",\"Coreia do Sul\",\"Coreia do Sul\",\"Coreia do Sul\",\"Coreia do Sul\",\"Coreia do Sul\",\"Coreia do Sul\",\"Coreia do Sul\",\"Coreia do Sul\",\"Coreia do Sul\",\"Coreia do Sul\",\"Coreia do Sul\",\"Coreia do Sul\",\"Coreia do Sul\",\"Coreia do Sul\",\"Coreia do Sul\"]]]}}},\"view\":{\"type\":\"object\",\"name\":\"CDSView\",\"id\":\"73e2c9a3-24ac-4643-a08b-47df373b2a2a\",\"attributes\":{\"filter\":{\"type\":\"object\",\"name\":\"AllIndices\",\"id\":\"76e25717-0b9d-4132-8260-aa739db47b40\"}}},\"glyph\":{\"type\":\"object\",\"name\":\"Line\",\"id\":\"4ae4fe45-f6c3-418c-81a8-62dfde690f56\",\"attributes\":{\"tags\":[\"apply_ranges\"],\"x\":{\"type\":\"field\",\"field\":\"Ano\"},\"y\":{\"type\":\"field\",\"field\":\"Coreia do Sul\"},\"line_color\":\"#e5ae38\",\"line_width\":2}},\"selection_glyph\":{\"type\":\"object\",\"name\":\"Line\",\"id\":\"6ff16f1f-1b5c-404b-a696-2d6acfd9f2de\",\"attributes\":{\"tags\":[\"apply_ranges\"],\"x\":{\"type\":\"field\",\"field\":\"Ano\"},\"y\":{\"type\":\"field\",\"field\":\"Coreia do Sul\"},\"line_color\":\"#e5ae38\",\"line_width\":2}},\"nonselection_glyph\":{\"type\":\"object\",\"name\":\"Line\",\"id\":\"f9ea037d-46be-4658-a66f-d360200f1b77\",\"attributes\":{\"tags\":[\"apply_ranges\"],\"x\":{\"type\":\"field\",\"field\":\"Ano\"},\"y\":{\"type\":\"field\",\"field\":\"Coreia do Sul\"},\"line_color\":\"#e5ae38\",\"line_alpha\":0.1,\"line_width\":2}},\"muted_glyph\":{\"type\":\"object\",\"name\":\"Line\",\"id\":\"efc70d2b-2a20-4719-b027-9ee77b0df848\",\"attributes\":{\"tags\":[\"apply_ranges\"],\"x\":{\"type\":\"field\",\"field\":\"Ano\"},\"y\":{\"type\":\"field\",\"field\":\"Coreia do Sul\"},\"line_color\":\"#e5ae38\",\"line_alpha\":0.2,\"line_width\":2}}}}],\"toolbar\":{\"type\":\"object\",\"name\":\"Toolbar\",\"id\":\"b3532f51-a05c-4f27-949c-04f38f6632c8\",\"attributes\":{\"tools\":[{\"type\":\"object\",\"name\":\"WheelZoomTool\",\"id\":\"a67311ff-9094-4b8a-bd8d-49b746b66520\",\"attributes\":{\"tags\":[\"hv_created\"],\"renderers\":\"auto\",\"zoom_together\":\"none\"}},{\"type\":\"object\",\"name\":\"HoverTool\",\"id\":\"efcfce4b-93ed-4020-827f-78bed19851f6\",\"attributes\":{\"tags\":[\"hv_created\"],\"renderers\":[{\"id\":\"87159d21-aedb-4cce-be02-ca0f64aa2b21\"}],\"tooltips\":[[\"Pa\\u00edses\",\"@{Pa\\u00edses}\"],[\"Ano\",\"@{Ano}\"],[\"value\",\"@{Argentina}\"]]}},{\"type\":\"object\",\"name\":\"HoverTool\",\"id\":\"a978b2fd-99f9-4ee4-86d3-abb79e3b66aa\",\"attributes\":{\"tags\":[\"hv_created\"],\"renderers\":[{\"id\":\"119c9859-b17f-4b2a-b823-e55c6453803d\"}],\"tooltips\":[[\"Pa\\u00edses\",\"@{Pa\\u00edses}\"],[\"Ano\",\"@{Ano}\"],[\"value\",\"@{Brasil}\"]]}},{\"type\":\"object\",\"name\":\"HoverTool\",\"id\":\"cae3db04-6191-43ce-9ea1-8e95cb9e0013\",\"attributes\":{\"tags\":[\"hv_created\"],\"renderers\":[{\"id\":\"4e7a1127-67fb-410c-8294-13e57b552989\"}],\"tooltips\":[[\"Pa\\u00edses\",\"@{Pa\\u00edses}\"],[\"Ano\",\"@{Ano}\"],[\"value\",\"@{Coreia_do_Sul}\"]]}},{\"type\":\"object\",\"name\":\"SaveTool\",\"id\":\"fbdd5ec3-a579-4bf8-b347-88a1717488c1\"},{\"type\":\"object\",\"name\":\"PanTool\",\"id\":\"dd13dd3d-e988-44a8-acd9-5338d0fa73a5\"},{\"type\":\"object\",\"name\":\"BoxZoomTool\",\"id\":\"496734b4-07b6-4c7d-bf9b-2042d155892d\",\"attributes\":{\"overlay\":{\"type\":\"object\",\"name\":\"BoxAnnotation\",\"id\":\"af0a0a79-9985-4233-9935-4ce235dc9387\",\"attributes\":{\"syncable\":false,\"level\":\"overlay\",\"visible\":false,\"left\":{\"type\":\"number\",\"value\":\"nan\"},\"right\":{\"type\":\"number\",\"value\":\"nan\"},\"top\":{\"type\":\"number\",\"value\":\"nan\"},\"bottom\":{\"type\":\"number\",\"value\":\"nan\"},\"left_units\":\"canvas\",\"right_units\":\"canvas\",\"top_units\":\"canvas\",\"bottom_units\":\"canvas\",\"line_color\":\"black\",\"line_alpha\":1.0,\"line_width\":2,\"line_dash\":[4,4],\"fill_color\":\"lightgrey\",\"fill_alpha\":0.5}}}},{\"type\":\"object\",\"name\":\"ResetTool\",\"id\":\"28b4e014-6eb2-401b-9a8c-746f885db256\"}],\"active_drag\":{\"id\":\"dd13dd3d-e988-44a8-acd9-5338d0fa73a5\"},\"active_scroll\":{\"id\":\"a67311ff-9094-4b8a-bd8d-49b746b66520\"}}},\"left\":[{\"type\":\"object\",\"name\":\"LinearAxis\",\"id\":\"36510580-9ce3-4b20-9e7d-c5fc21698c9a\",\"attributes\":{\"ticker\":{\"type\":\"object\",\"name\":\"BasicTicker\",\"id\":\"9c0c3125-a526-4d11-9a7f-770b28499280\",\"attributes\":{\"desired_num_ticks\":18,\"mantissas\":[1,2,5]}},\"formatter\":{\"type\":\"object\",\"name\":\"PrintfTickFormatter\",\"id\":\"09ecada3-1202-4dd4-9e38-5aee1e64cb87\",\"attributes\":{\"format\":\"%.0f\"}},\"axis_label\":\"EUA=100\",\"axis_label_text_font_size\":\"10pt\",\"major_label_policy\":{\"type\":\"object\",\"name\":\"AllLabels\",\"id\":\"662ed551-5058-4350-be25-887b6ef416db\"},\"major_label_text_font_size\":\"8pt\"}}],\"below\":[{\"type\":\"object\",\"name\":\"LinearAxis\",\"id\":\"d5a8abc5-6d51-4ae6-9d0b-7866d7af6e14\",\"attributes\":{\"ticker\":{\"type\":\"object\",\"name\":\"BasicTicker\",\"id\":\"17583e40-c8bb-4139-a6dd-628b7590de31\",\"attributes\":{\"desired_num_ticks\":22,\"mantissas\":[1,2,5]}},\"formatter\":{\"type\":\"object\",\"name\":\"BasicTickFormatter\",\"id\":\"c94e1076-af86-40ba-9286-d77f3f14fed4\"},\"axis_label\":\"\",\"axis_label_text_font_size\":\"10pt\",\"major_label_orientation\":0.5235987755982988,\"major_label_policy\":{\"type\":\"object\",\"name\":\"AllLabels\",\"id\":\"5f2e4445-8083-4770-9315-8eb1fedd4d78\"},\"major_label_text_font_size\":\"8pt\"}},{\"type\":\"object\",\"name\":\"Legend\",\"id\":\"79df9957-426c-45c1-a016-d8a2f512b596\",\"attributes\":{\"location\":[0,0],\"orientation\":\"horizontal\",\"title\":\"Pa\\u00edses\",\"click_policy\":\"mute\",\"items\":[{\"type\":\"object\",\"name\":\"LegendItem\",\"id\":\"af13e67a-d98a-4205-8103-f28f37509e16\",\"attributes\":{\"label\":{\"type\":\"value\",\"value\":\"Argentina\"},\"renderers\":[{\"id\":\"87159d21-aedb-4cce-be02-ca0f64aa2b21\"}]}},{\"type\":\"object\",\"name\":\"LegendItem\",\"id\":\"762ae1de-b5e6-48cb-a95d-1895b28ce543\",\"attributes\":{\"label\":{\"type\":\"value\",\"value\":\"Brasil\"},\"renderers\":[{\"id\":\"119c9859-b17f-4b2a-b823-e55c6453803d\"}]}},{\"type\":\"object\",\"name\":\"LegendItem\",\"id\":\"843fc339-531f-4392-b45d-0bf8965978d7\",\"attributes\":{\"label\":{\"type\":\"value\",\"value\":\"Coreia do Sul\"},\"renderers\":[{\"id\":\"4e7a1127-67fb-410c-8294-13e57b552989\"}]}}]}}],\"center\":[{\"type\":\"object\",\"name\":\"Grid\",\"id\":\"bff104e6-3d16-4689-9597-1b7061427ca1\",\"attributes\":{\"axis\":{\"id\":\"d5a8abc5-6d51-4ae6-9d0b-7866d7af6e14\"},\"grid_line_color\":null}},{\"type\":\"object\",\"name\":\"Grid\",\"id\":\"68a4cd81-e2bb-43d5-b824-dc773d430cac\",\"attributes\":{\"dimension\":1,\"axis\":{\"id\":\"36510580-9ce3-4b20-9e7d-c5fc21698c9a\"},\"grid_line_color\":null}}],\"min_border_top\":10,\"min_border_bottom\":10,\"min_border_left\":10,\"min_border_right\":10,\"output_backend\":\"webgl\"}},{\"type\":\"object\",\"name\":\"Spacer\",\"id\":\"545fb5ea-b055-4056-976c-2b56eb4cf754\",\"attributes\":{\"name\":\"HSpacer00324\",\"stylesheets\":[\"\\n:host(.pn-loading):before, .pn-loading:before {\\n  background-color: #c3c3c3;\\n  mask-size: auto calc(min(50%, 400px));\\n  -webkit-mask-size: auto calc(min(50%, 400px));\\n}\",{\"id\":\"743b0b6d-66a9-49cc-b10c-db9124227b08\"},{\"id\":\"457a2614-984a-4eca-9f77-72f8cd1e4733\"},{\"id\":\"c3541a93-4aa3-468f-9556-d9941dea4ec9\"}],\"margin\":0,\"sizing_mode\":\"stretch_width\",\"align\":\"start\"}}]}}],\"defs\":[{\"type\":\"model\",\"name\":\"ReactiveHTML1\"},{\"type\":\"model\",\"name\":\"FlexBox1\",\"properties\":[{\"name\":\"align_content\",\"kind\":\"Any\",\"default\":\"flex-start\"},{\"name\":\"align_items\",\"kind\":\"Any\",\"default\":\"flex-start\"},{\"name\":\"flex_direction\",\"kind\":\"Any\",\"default\":\"row\"},{\"name\":\"flex_wrap\",\"kind\":\"Any\",\"default\":\"wrap\"},{\"name\":\"gap\",\"kind\":\"Any\",\"default\":\"\"},{\"name\":\"justify_content\",\"kind\":\"Any\",\"default\":\"flex-start\"}]},{\"type\":\"model\",\"name\":\"FloatPanel1\",\"properties\":[{\"name\":\"config\",\"kind\":\"Any\",\"default\":{\"type\":\"map\"}},{\"name\":\"contained\",\"kind\":\"Any\",\"default\":true},{\"name\":\"position\",\"kind\":\"Any\",\"default\":\"right-top\"},{\"name\":\"offsetx\",\"kind\":\"Any\",\"default\":null},{\"name\":\"offsety\",\"kind\":\"Any\",\"default\":null},{\"name\":\"theme\",\"kind\":\"Any\",\"default\":\"primary\"},{\"name\":\"status\",\"kind\":\"Any\",\"default\":\"normalized\"}]},{\"type\":\"model\",\"name\":\"GridStack1\",\"properties\":[{\"name\":\"mode\",\"kind\":\"Any\",\"default\":\"warn\"},{\"name\":\"ncols\",\"kind\":\"Any\",\"default\":null},{\"name\":\"nrows\",\"kind\":\"Any\",\"default\":null},{\"name\":\"allow_resize\",\"kind\":\"Any\",\"default\":true},{\"name\":\"allow_drag\",\"kind\":\"Any\",\"default\":true},{\"name\":\"state\",\"kind\":\"Any\",\"default\":[]}]},{\"type\":\"model\",\"name\":\"drag1\",\"properties\":[{\"name\":\"slider_width\",\"kind\":\"Any\",\"default\":5},{\"name\":\"slider_color\",\"kind\":\"Any\",\"default\":\"black\"},{\"name\":\"value\",\"kind\":\"Any\",\"default\":50}]},{\"type\":\"model\",\"name\":\"click1\",\"properties\":[{\"name\":\"terminal_output\",\"kind\":\"Any\",\"default\":\"\"},{\"name\":\"debug_name\",\"kind\":\"Any\",\"default\":\"\"},{\"name\":\"clears\",\"kind\":\"Any\",\"default\":0}]},{\"type\":\"model\",\"name\":\"FastWrapper1\",\"properties\":[{\"name\":\"object\",\"kind\":\"Any\",\"default\":null},{\"name\":\"style\",\"kind\":\"Any\",\"default\":null}]},{\"type\":\"model\",\"name\":\"NotificationAreaBase1\",\"properties\":[{\"name\":\"js_events\",\"kind\":\"Any\",\"default\":{\"type\":\"map\"}},{\"name\":\"position\",\"kind\":\"Any\",\"default\":\"bottom-right\"},{\"name\":\"_clear\",\"kind\":\"Any\",\"default\":0}]},{\"type\":\"model\",\"name\":\"NotificationArea1\",\"properties\":[{\"name\":\"js_events\",\"kind\":\"Any\",\"default\":{\"type\":\"map\"}},{\"name\":\"notifications\",\"kind\":\"Any\",\"default\":[]},{\"name\":\"position\",\"kind\":\"Any\",\"default\":\"bottom-right\"},{\"name\":\"_clear\",\"kind\":\"Any\",\"default\":0},{\"name\":\"types\",\"kind\":\"Any\",\"default\":[{\"type\":\"map\",\"entries\":[[\"type\",\"warning\"],[\"background\",\"#ffc107\"],[\"icon\",{\"type\":\"map\",\"entries\":[[\"className\",\"fas fa-exclamation-triangle\"],[\"tagName\",\"i\"],[\"color\",\"white\"]]}]]},{\"type\":\"map\",\"entries\":[[\"type\",\"info\"],[\"background\",\"#007bff\"],[\"icon\",{\"type\":\"map\",\"entries\":[[\"className\",\"fas fa-info-circle\"],[\"tagName\",\"i\"],[\"color\",\"white\"]]}]]}]}]},{\"type\":\"model\",\"name\":\"Notification\",\"properties\":[{\"name\":\"background\",\"kind\":\"Any\",\"default\":null},{\"name\":\"duration\",\"kind\":\"Any\",\"default\":3000},{\"name\":\"icon\",\"kind\":\"Any\",\"default\":null},{\"name\":\"message\",\"kind\":\"Any\",\"default\":\"\"},{\"name\":\"notification_type\",\"kind\":\"Any\",\"default\":null},{\"name\":\"_destroyed\",\"kind\":\"Any\",\"default\":false}]},{\"type\":\"model\",\"name\":\"TemplateActions1\",\"properties\":[{\"name\":\"open_modal\",\"kind\":\"Any\",\"default\":0},{\"name\":\"close_modal\",\"kind\":\"Any\",\"default\":0}]},{\"type\":\"model\",\"name\":\"BootstrapTemplateActions1\",\"properties\":[{\"name\":\"open_modal\",\"kind\":\"Any\",\"default\":0},{\"name\":\"close_modal\",\"kind\":\"Any\",\"default\":0}]},{\"type\":\"model\",\"name\":\"TemplateEditor1\",\"properties\":[{\"name\":\"layout\",\"kind\":\"Any\",\"default\":[]}]},{\"type\":\"model\",\"name\":\"MaterialTemplateActions1\",\"properties\":[{\"name\":\"open_modal\",\"kind\":\"Any\",\"default\":0},{\"name\":\"close_modal\",\"kind\":\"Any\",\"default\":0}]},{\"type\":\"model\",\"name\":\"copy_to_clipboard1\",\"properties\":[{\"name\":\"fill\",\"kind\":\"Any\",\"default\":\"none\"},{\"name\":\"value\",\"kind\":\"Any\",\"default\":null}]}]}};\n",
       "  var render_items = [{\"docid\":\"c882303b-d77f-4d97-8343-414309af315f\",\"roots\":{\"19b334f2-f9fd-4bf3-bb5a-8a583318c353\":\"cd347c23-daff-4d3c-936e-2007f35abfcd\"},\"root_ids\":[\"19b334f2-f9fd-4bf3-bb5a-8a583318c353\"]}];\n",
       "  var docs = Object.values(docs_json)\n",
       "  if (!docs) {\n",
       "    return\n",
       "  }\n",
       "  const py_version = docs[0].version.replace('rc', '-rc.').replace('.dev', '-dev.')\n",
       "  async function embed_document(root) {\n",
       "    var Bokeh = get_bokeh(root)\n",
       "    await Bokeh.embed.embed_items_notebook(docs_json, render_items);\n",
       "    for (const render_item of render_items) {\n",
       "      for (const root_id of render_item.root_ids) {\n",
       "\tconst id_el = document.getElementById(root_id)\n",
       "\tif (id_el.children.length && id_el.children[0].hasAttribute('data-root-id')) {\n",
       "\t  const root_el = id_el.children[0]\n",
       "\t  root_el.id = root_el.id + '-rendered'\n",
       "\t  for (const child of root_el.children) {\n",
       "            // Ensure JupyterLab does not capture keyboard shortcuts\n",
       "            // see: https://jupyterlab.readthedocs.io/en/4.1.x/extension/notebook.html#keyboard-interaction-model\n",
       "\t    child.setAttribute('data-lm-suppress-shortcuts', 'true')\n",
       "\t  }\n",
       "\t}\n",
       "      }\n",
       "    }\n",
       "  }\n",
       "  function get_bokeh(root) {\n",
       "    if (root.Bokeh === undefined) {\n",
       "      return null\n",
       "    } else if (root.Bokeh.version !== py_version) {\n",
       "      if (root.Bokeh.versions === undefined || !root.Bokeh.versions.has(py_version)) {\n",
       "\treturn null\n",
       "      }\n",
       "      return root.Bokeh.versions.get(py_version);\n",
       "    } else if (root.Bokeh.version === py_version) {\n",
       "      return root.Bokeh\n",
       "    }\n",
       "    return null\n",
       "  }\n",
       "  function is_loaded(root) {\n",
       "    var Bokeh = get_bokeh(root)\n",
       "    return (Bokeh != null && Bokeh.Panel !== undefined)\n",
       "  }\n",
       "  if (is_loaded(root)) {\n",
       "    embed_document(root);\n",
       "  } else {\n",
       "    var attempts = 0;\n",
       "    var timer = setInterval(function(root) {\n",
       "      if (is_loaded(root)) {\n",
       "        clearInterval(timer);\n",
       "        embed_document(root);\n",
       "      } else if (document.readyState == \"complete\") {\n",
       "        attempts++;\n",
       "        if (attempts > 200) {\n",
       "          clearInterval(timer);\n",
       "\t  var Bokeh = get_bokeh(root)\n",
       "\t  if (Bokeh == null || Bokeh.Panel == null) {\n",
       "            console.warn(\"Panel: ERROR: Unable to run Panel code because Bokeh or Panel library is missing\");\n",
       "\t  } else {\n",
       "\t    console.warn(\"Panel: WARNING: Attempting to render but not all required libraries could be resolved.\")\n",
       "\t    embed_document(root)\n",
       "\t  }\n",
       "        }\n",
       "      }\n",
       "    }, 25, root)\n",
       "  }\n",
       "})(window);</script>"
      ],
      "text/plain": [
       ":NdOverlay   [Países]\n",
       "   :Curve   [Ano]   (value)"
      ]
     },
     "execution_count": 3,
     "metadata": {
      "application/vnd.holoviews_exec.v0+json": {
       "id": "19b334f2-f9fd-4bf3-bb5a-8a583318c353"
      }
     },
     "output_type": "execute_result"
    }
   ],
   "source": [
    "pib_pc"
   ]
  },
  {
   "cell_type": "markdown",
   "metadata": {
    "slideshow": {
     "slide_type": "slide"
    }
   },
   "source": [
    "## Investimentos comparados\n",
    "\n",
    "Vejamos a taxa de investimento (privado e público, como % do PIB) de Brasil, América Latina e países da Ásia em uma perspectiva de longo prazo. Quais foram as tendências entre as décadas de 1950 e 2000? Houve algum padrão?"
   ]
  },
  {
   "cell_type": "markdown",
   "metadata": {
    "slideshow": {
     "slide_type": "fragment"
    }
   },
   "source": [
    "Tanto no Brasil como na América Latina como um todo, a taxa de investimento atingiu seu ápice nos anos 1970 e caiu a partir de 1980, com pequena recuperação no final da década de 2000."
   ]
  },
  {
   "cell_type": "markdown",
   "metadata": {
    "slideshow": {
     "slide_type": "fragment"
    }
   },
   "source": [
    "Por sua vez, o Leste Asiático teve expansão praticamente contínua da taxa de investimento, com Sul da Ásia com grande salto nos anos 2000."
   ]
  },
  {
   "cell_type": "markdown",
   "metadata": {
    "slideshow": {
     "slide_type": "subslide"
    }
   },
   "source": [
    "Definições: taxa de investimento = Formação Bruta de Capital Fixo (FBCF)/PIB; FBCF = aquisição de bens de capital e construção civil."
   ]
  },
  {
   "cell_type": "markdown",
   "metadata": {
    "slideshow": {
     "slide_type": "fragment"
    }
   },
   "source": [
    "Ver os gráficos gerais a seguir."
   ]
  },
  {
   "cell_type": "markdown",
   "metadata": {
    "slideshow": {
     "slide_type": "slide"
    }
   },
   "source": [
    "## <center>Investimentos AL e Ásia</center>\n",
    "\n",
    "<center><img src=\"al_investimento.png\" width=\"600\" height=\"450\"></center>"
   ]
  },
  {
   "cell_type": "markdown",
   "metadata": {
    "slideshow": {
     "slide_type": "slide"
    }
   },
   "source": [
    "## Setor privado\n",
    "\n",
    "Vamos olhar com mais detalhe o caso do Brasil. O ponto mais alto da taxa de investimento (FBCF) do *setor privado* ocorreu em 1989, com 21,3% do PIB (mas o período de alta inflação deixa dúvidas; em 1988 = 17,8%). Dos anos 1980 em diante, os percentuais mais baixos foram observados em 2017/2018 (12,6/12,5%) e 2016 (13,2%). "
   ]
  },
  {
   "cell_type": "markdown",
   "metadata": {
    "slideshow": {
     "slide_type": "fragment"
    }
   },
   "source": [
    "No período pós-Plano Real, a taxa de investimento do setor privado atingiu os maiores percentuais em 1995 e 2013 (16,8% do PIB). A queda a partir de 2013 foi grande: 2014 (15,9%), 2015 (14,9%), 2016 (13,2%) e 2017 (12,6%)."
   ]
  },
  {
   "cell_type": "markdown",
   "metadata": {
    "slideshow": {
     "slide_type": "fragment"
    }
   },
   "source": [
    "Observar que a taxa de investimento do setor privado teve aumento de 2007 até 2013, caindo porém de forma substancial nos anos seguintes. "
   ]
  },
  {
   "cell_type": "markdown",
   "metadata": {
    "slideshow": {
     "slide_type": "subslide"
    }
   },
   "source": [
    "Médias da taxa de investimento do setor privado por períodos: 1980-1989 = 16,1% do PIB; 1990-1999 = 15,0% do PIB; 2000-2006 = 14,8%; 2007-2014 = 16,0%; 2015-2021 = 14,0%. Ver figuras."
   ]
  },
  {
   "cell_type": "code",
   "execution_count": 4,
   "metadata": {
    "scrolled": true,
    "slideshow": {
     "slide_type": "notes"
    }
   },
   "outputs": [],
   "source": [
    "p = pd.read_excel('br_fbkf_1965_2021.xlsx')\n",
    "\n",
    "fbcf = p.hvplot.line('Ano', ['Setor público consolidado', 'Setor privado', 'FBCF total'],\n",
    "                     height=450,\n",
    "                     width=750,\n",
    "                     rot=0,\n",
    "                     padding=0.05,\n",
    "                     legend='bottom',\n",
    "                     group_label='Taxa de investimento',\n",
    "                     ylim=(0, 30),\n",
    "                     yticks=12,\n",
    "                     xticks=18,\n",
    "                     xlabel='',\n",
    "                     ylabel='% do PIB',\n",
    "                     yformatter='%.1f',\n",
    "                     xlim=(1965, 2021),\n",
    "                     title='Investimentos (FBCF), Setor público e privado, Brasil, 1965-2021 (em % do PIB)'\n",
    "                    ).opts(fontsize={'title': 11, 'labels': 8, 'xticks': 8, 'yticks': 8})"
   ]
  },
  {
   "cell_type": "code",
   "execution_count": 5,
   "metadata": {
    "slideshow": {
     "slide_type": "slide"
    }
   },
   "outputs": [
    {
     "data": {},
     "metadata": {},
     "output_type": "display_data"
    },
    {
     "data": {
      "application/vnd.holoviews_exec.v0+json": "",
      "text/html": [
       "<div id='88f5cb53-10b8-4648-aafb-bea004681bd0'>\n",
       "  <div id=\"bdbc042f-301a-4996-afdb-0bab38707b01\" data-root-id=\"88f5cb53-10b8-4648-aafb-bea004681bd0\" style=\"display: contents;\"></div>\n",
       "</div>\n",
       "<script type=\"application/javascript\">(function(root) {\n",
       "  var docs_json = {\"55100d4d-bd82-478c-9ab3-a97d760abab7\":{\"version\":\"3.4.2\",\"title\":\"Bokeh Application\",\"roots\":[{\"type\":\"object\",\"name\":\"Row\",\"id\":\"88f5cb53-10b8-4648-aafb-bea004681bd0\",\"attributes\":{\"name\":\"Row00410\",\"tags\":[\"embedded\"],\"stylesheets\":[\"\\n:host(.pn-loading):before, .pn-loading:before {\\n  background-color: #c3c3c3;\\n  mask-size: auto calc(min(50%, 400px));\\n  -webkit-mask-size: auto calc(min(50%, 400px));\\n}\",{\"type\":\"object\",\"name\":\"ImportedStyleSheet\",\"id\":\"47e26b9a-7ecf-4761-afbf-43e34c4e8590\",\"attributes\":{\"url\":\"https://cdn.holoviz.org/panel/1.4.5/dist/css/loading.css\"}},{\"type\":\"object\",\"name\":\"ImportedStyleSheet\",\"id\":\"750b65e4-aac2-4517-b228-48c0e1e21c05\",\"attributes\":{\"url\":\"https://cdn.holoviz.org/panel/1.4.5/dist/css/listpanel.css\"}},{\"type\":\"object\",\"name\":\"ImportedStyleSheet\",\"id\":\"3246d43d-515b-4629-88e4-96e48ea763d6\",\"attributes\":{\"url\":\"https://cdn.holoviz.org/panel/1.4.5/dist/bundled/theme/default.css\"}},{\"type\":\"object\",\"name\":\"ImportedStyleSheet\",\"id\":\"ec4f43d0-a9f5-410f-8466-19618c70f0d2\",\"attributes\":{\"url\":\"https://cdn.holoviz.org/panel/1.4.5/dist/bundled/theme/native.css\"}}],\"min_width\":750,\"margin\":0,\"sizing_mode\":\"stretch_width\",\"align\":\"start\",\"children\":[{\"type\":\"object\",\"name\":\"Spacer\",\"id\":\"3a7ab171-6866-4eb1-9429-bddafea281d0\",\"attributes\":{\"name\":\"HSpacer00414\",\"stylesheets\":[\"\\n:host(.pn-loading):before, .pn-loading:before {\\n  background-color: #c3c3c3;\\n  mask-size: auto calc(min(50%, 400px));\\n  -webkit-mask-size: auto calc(min(50%, 400px));\\n}\",{\"id\":\"47e26b9a-7ecf-4761-afbf-43e34c4e8590\"},{\"id\":\"3246d43d-515b-4629-88e4-96e48ea763d6\"},{\"id\":\"ec4f43d0-a9f5-410f-8466-19618c70f0d2\"}],\"margin\":0,\"sizing_mode\":\"stretch_width\",\"align\":\"start\"}},{\"type\":\"object\",\"name\":\"Figure\",\"id\":\"3f04b68f-6c22-4ab8-b501-3e90600eb314\",\"attributes\":{\"width\":750,\"height\":450,\"margin\":[5,10],\"sizing_mode\":\"fixed\",\"align\":\"start\",\"x_range\":{\"type\":\"object\",\"name\":\"Range1d\",\"id\":\"3179e201-b73d-4fd6-b67c-ded81935c334\",\"attributes\":{\"name\":\"Ano\",\"tags\":[[[\"Ano\",null]],[]],\"start\":1965,\"end\":2021,\"reset_start\":1965,\"reset_end\":2021}},\"y_range\":{\"type\":\"object\",\"name\":\"Range1d\",\"id\":\"527a75a1-fc27-40a0-ba79-bee78b088574\",\"attributes\":{\"name\":\"Setor p\\u00fablico consolidado\",\"tags\":[[[\"value\",null]],{\"type\":\"map\",\"entries\":[[\"invert_yaxis\",false],[\"autorange\",false]]}],\"end\":30,\"reset_start\":0,\"reset_end\":30}},\"x_scale\":{\"type\":\"object\",\"name\":\"LinearScale\",\"id\":\"199cf3c5-57e7-455b-9c1b-d26e36c7dff3\"},\"y_scale\":{\"type\":\"object\",\"name\":\"LinearScale\",\"id\":\"cc89577d-a257-4560-a8b7-f87b8a6c0623\"},\"title\":{\"type\":\"object\",\"name\":\"Title\",\"id\":\"c849eb38-0ebe-42c4-bc81-b5c2bf6a27e8\",\"attributes\":{\"text\":\"Investimentos (FBCF), Setor p\\u00fablico e privado, Brasil, 1965-2021 (em % do PIB)\",\"text_color\":\"black\",\"text_font_size\":\"11pt\"}},\"renderers\":[{\"type\":\"object\",\"name\":\"GlyphRenderer\",\"id\":\"07c63186-4329-4dd8-93cb-f2a14c6c3251\",\"attributes\":{\"name\":\"Setor p\\u00fablico consolidado\",\"data_source\":{\"type\":\"object\",\"name\":\"ColumnDataSource\",\"id\":\"ce4b4b46-5c3d-46d4-b725-f726c5aebacf\",\"attributes\":{\"selected\":{\"type\":\"object\",\"name\":\"Selection\",\"id\":\"917df694-e6f5-42a7-a3e3-d71016c42074\",\"attributes\":{\"indices\":[],\"line_indices\":[]}},\"selection_policy\":{\"type\":\"object\",\"name\":\"UnionRenderers\",\"id\":\"d63f595c-f7d9-43b7-845f-12a6a1aa4a34\"},\"data\":{\"type\":\"map\",\"entries\":[[\"Ano\",{\"type\":\"ndarray\",\"array\":{\"type\":\"bytes\",\"data\":\"rQcAAK4HAACvBwAAsAcAALEHAACyBwAAswcAALQHAAC1BwAAtgcAALcHAAC4BwAAuQcAALoHAAC7BwAAvAcAAL0HAAC+BwAAvwcAAMAHAADBBwAAwgcAAMMHAADEBwAAxQcAAMYHAADHBwAAyAcAAMkHAADKBwAAywcAAMwHAADNBwAAzgcAAM8HAADQBwAA0QcAANIHAADTBwAA1AcAANUHAADWBwAA1wcAANgHAADZBwAA2gcAANsHAADcBwAA3QcAAN4HAADfBwAA4AcAAOEHAADiBwAA4wcAAOQHAADlBwAA\"},\"shape\":[57],\"dtype\":\"int32\",\"order\":\"little\"}],[\"Setor p\\u00fablico consolidado\",{\"type\":\"ndarray\",\"array\":{\"type\":\"bytes\",\"data\":\"QWBkH5ItG0CnxwhQDDcYQK9i5rPaZRpAKw+FgJdjGUArKULZ7xEdQCVlIkLNEh1ANUbRzvAqGkC2mNUi4TweQAxyJjIsKRdAomwH7nstH0BJ5/2aMNMgQM6yhua2JiVAd/Fr9bj/IkDuC5InhOUgQOAKDdNauxtAp+3IvOxkGkA707ve304dQKyHTvClBRxArlkRu+EsGECvlCxWnYIUQPK7bHUHGxVAKjFgRfYhFkB/n+MYTDUZQKj0cYBN5hlAu9kpRuonFkCcoR9wjdkUQOylCa4jZRFAVFur0rbpE0CGXu9fpr4SQGhI/JhI7hFAf74wLr3eC0AQ1UmFHOoNQBXeI+1tKAxA2RxXM8YyD0DMRmA3S3UDQLqfUFTXaQRA4Tp4tgp0BkD/r39wKvYJQF/Be8h7twRA016OHjHLBED7YHAp5PsEQCzneRRTQgdAe7gnHXmxBkDQCDlBayYMQE9tHKreERBAQnwBVnPeEkBlx0s5eTsPQLBvEso6HxBAy/F83ryUEEB1ZPPLv9cPQEd7N6KRJAdATawc7xaOAkDY8JevFA3/Pzk0MNlOogRA7hlvZH9pAEApuNIM1nUFQBBL/nyubwBA\"},\"shape\":[57],\"dtype\":\"float64\",\"order\":\"little\"}],[\"Setor_p\\u00fablico_consolidado\",{\"type\":\"ndarray\",\"array\":{\"type\":\"bytes\",\"data\":\"QWBkH5ItG0CnxwhQDDcYQK9i5rPaZRpAKw+FgJdjGUArKULZ7xEdQCVlIkLNEh1ANUbRzvAqGkC2mNUi4TweQAxyJjIsKRdAomwH7nstH0BJ5/2aMNMgQM6yhua2JiVAd/Fr9bj/IkDuC5InhOUgQOAKDdNauxtAp+3IvOxkGkA707ve304dQKyHTvClBRxArlkRu+EsGECvlCxWnYIUQPK7bHUHGxVAKjFgRfYhFkB/n+MYTDUZQKj0cYBN5hlAu9kpRuonFkCcoR9wjdkUQOylCa4jZRFAVFur0rbpE0CGXu9fpr4SQGhI/JhI7hFAf74wLr3eC0AQ1UmFHOoNQBXeI+1tKAxA2RxXM8YyD0DMRmA3S3UDQLqfUFTXaQRA4Tp4tgp0BkD/r39wKvYJQF/Be8h7twRA016OHjHLBED7YHAp5PsEQCzneRRTQgdAe7gnHXmxBkDQCDlBayYMQE9tHKreERBAQnwBVnPeEkBlx0s5eTsPQLBvEso6HxBAy/F83ryUEEB1ZPPLv9cPQEd7N6KRJAdATawc7xaOAkDY8JevFA3/Pzk0MNlOogRA7hlvZH9pAEApuNIM1nUFQBBL/nyubwBA\"},\"shape\":[57],\"dtype\":\"float64\",\"order\":\"little\"}],[\"Taxa_de_investimento\",[\"Setor p\\u00fablico consolidado\",\"Setor p\\u00fablico consolidado\",\"Setor p\\u00fablico consolidado\",\"Setor p\\u00fablico consolidado\",\"Setor p\\u00fablico consolidado\",\"Setor p\\u00fablico consolidado\",\"Setor p\\u00fablico consolidado\",\"Setor p\\u00fablico consolidado\",\"Setor p\\u00fablico consolidado\",\"Setor p\\u00fablico consolidado\",\"Setor p\\u00fablico consolidado\",\"Setor p\\u00fablico consolidado\",\"Setor p\\u00fablico consolidado\",\"Setor p\\u00fablico consolidado\",\"Setor p\\u00fablico consolidado\",\"Setor p\\u00fablico consolidado\",\"Setor p\\u00fablico consolidado\",\"Setor p\\u00fablico consolidado\",\"Setor p\\u00fablico consolidado\",\"Setor p\\u00fablico consolidado\",\"Setor p\\u00fablico consolidado\",\"Setor p\\u00fablico consolidado\",\"Setor p\\u00fablico consolidado\",\"Setor p\\u00fablico consolidado\",\"Setor p\\u00fablico consolidado\",\"Setor p\\u00fablico consolidado\",\"Setor p\\u00fablico consolidado\",\"Setor p\\u00fablico consolidado\",\"Setor p\\u00fablico consolidado\",\"Setor p\\u00fablico consolidado\",\"Setor p\\u00fablico consolidado\",\"Setor p\\u00fablico consolidado\",\"Setor p\\u00fablico consolidado\",\"Setor p\\u00fablico consolidado\",\"Setor p\\u00fablico consolidado\",\"Setor p\\u00fablico consolidado\",\"Setor p\\u00fablico consolidado\",\"Setor p\\u00fablico consolidado\",\"Setor p\\u00fablico consolidado\",\"Setor p\\u00fablico consolidado\",\"Setor p\\u00fablico consolidado\",\"Setor p\\u00fablico consolidado\",\"Setor p\\u00fablico consolidado\",\"Setor p\\u00fablico consolidado\",\"Setor p\\u00fablico consolidado\",\"Setor p\\u00fablico consolidado\",\"Setor p\\u00fablico consolidado\",\"Setor p\\u00fablico consolidado\",\"Setor p\\u00fablico consolidado\",\"Setor p\\u00fablico consolidado\",\"Setor p\\u00fablico consolidado\",\"Setor p\\u00fablico consolidado\",\"Setor p\\u00fablico consolidado\",\"Setor p\\u00fablico consolidado\",\"Setor p\\u00fablico consolidado\",\"Setor p\\u00fablico consolidado\",\"Setor p\\u00fablico consolidado\"]]]}}},\"view\":{\"type\":\"object\",\"name\":\"CDSView\",\"id\":\"bb1621c4-4c3e-4c53-9a20-4298ada8669b\",\"attributes\":{\"filter\":{\"type\":\"object\",\"name\":\"AllIndices\",\"id\":\"62d173f8-c414-4b0d-9dc3-57e64d3e889e\"}}},\"glyph\":{\"type\":\"object\",\"name\":\"Line\",\"id\":\"233a1d04-0a32-41d1-b96f-5e4a7eb83e05\",\"attributes\":{\"tags\":[\"apply_ranges\"],\"x\":{\"type\":\"field\",\"field\":\"Ano\"},\"y\":{\"type\":\"field\",\"field\":\"Setor p\\u00fablico consolidado\"},\"line_color\":\"#30a2da\",\"line_width\":2}},\"selection_glyph\":{\"type\":\"object\",\"name\":\"Line\",\"id\":\"84814834-008a-4cd8-b087-a4da5945b01a\",\"attributes\":{\"tags\":[\"apply_ranges\"],\"x\":{\"type\":\"field\",\"field\":\"Ano\"},\"y\":{\"type\":\"field\",\"field\":\"Setor p\\u00fablico consolidado\"},\"line_color\":\"#30a2da\",\"line_width\":2}},\"nonselection_glyph\":{\"type\":\"object\",\"name\":\"Line\",\"id\":\"d094f88a-2576-48f0-bf16-8d0e6bd044ee\",\"attributes\":{\"tags\":[\"apply_ranges\"],\"x\":{\"type\":\"field\",\"field\":\"Ano\"},\"y\":{\"type\":\"field\",\"field\":\"Setor p\\u00fablico consolidado\"},\"line_color\":\"#30a2da\",\"line_alpha\":0.1,\"line_width\":2}},\"muted_glyph\":{\"type\":\"object\",\"name\":\"Line\",\"id\":\"249d0002-5cd4-416f-a771-10c580a01e68\",\"attributes\":{\"tags\":[\"apply_ranges\"],\"x\":{\"type\":\"field\",\"field\":\"Ano\"},\"y\":{\"type\":\"field\",\"field\":\"Setor p\\u00fablico consolidado\"},\"line_color\":\"#30a2da\",\"line_alpha\":0.2,\"line_width\":2}}}},{\"type\":\"object\",\"name\":\"GlyphRenderer\",\"id\":\"dd7a65d3-78fa-40f2-9b93-07fd887ae3b3\",\"attributes\":{\"name\":\"Setor privado\",\"data_source\":{\"type\":\"object\",\"name\":\"ColumnDataSource\",\"id\":\"eb63bb00-5fd7-4af3-8fe4-a86b30ec924d\",\"attributes\":{\"selected\":{\"type\":\"object\",\"name\":\"Selection\",\"id\":\"b2ec94ed-047d-4972-a4f5-6061f368ac9b\",\"attributes\":{\"indices\":[],\"line_indices\":[]}},\"selection_policy\":{\"type\":\"object\",\"name\":\"UnionRenderers\",\"id\":\"9ea90058-73ea-4643-ac82-f7cd3ff164a0\"},\"data\":{\"type\":\"map\",\"entries\":[[\"Ano\",{\"type\":\"ndarray\",\"array\":{\"type\":\"bytes\",\"data\":\"rQcAAK4HAACvBwAAsAcAALEHAACyBwAAswcAALQHAAC1BwAAtgcAALcHAAC4BwAAuQcAALoHAAC7BwAAvAcAAL0HAAC+BwAAvwcAAMAHAADBBwAAwgcAAMMHAADEBwAAxQcAAMYHAADHBwAAyAcAAMkHAADKBwAAywcAAMwHAADNBwAAzgcAAM8HAADQBwAA0QcAANIHAADTBwAA1AcAANUHAADWBwAA1wcAANgHAADZBwAA2gcAANsHAADcBwAA3QcAAN4HAADfBwAA4AcAAOEHAADiBwAA4wcAAOQHAADlBwAA\"},\"shape\":[57],\"dtype\":\"int32\",\"order\":\"little\"}],[\"Setor privado\",{\"type\":\"ndarray\",\"array\":{\"type\":\"bytes\",\"data\":\"TkL8pGWsH0BzTi1fH7ojQHtzvMT1MSNArSAbg7OsKEBHynE056wnQM6YfKXHISdAXBEfQRy7KkBsuvGbkospQJd+q5QwKC1APTDNxRoaLECcA7KsKdUtQGi4jHlWrydAUuj5SimxJ0AIaMVZOaIrQJ+pGdKBbTBAsK1mGeP1MEDVxms6Y/swQELawGBF9i9AXGsJmjPIK0AlWoS3Vo0rQHdzbSxOeClAs8toBfL1LEB4jP+Wnd4wQARlcTmV2TFA9+5qcOBSNUBPYjRvyuYuQAFirldHhStAdNbcVtnjKkCUcFNVoTEtQJmCllHwQzBAn8AtJ3PNMEA8FaOkfM0tQO7KG2rRNC9AAugBJ/1ILUB2xmnpBCstQB4K0AVwgS9A1vdvwQw5L0AU3RzwslwtQLmUsAvEByxAE+ecVylxLUB/Z48Jy90sQJR7bZ0XmyxAmhPUJnZRLkDsXPkZr7svQLmG64JEKy5A7GejE4eiL0CCwuXsdbQwQIckhMqrrzBAxDWqfkTEMEARtPuxDckvQKPWBH7K4i1A5xLn5e5oKkDmTEjlkDwpQGjDUbsKCSlAiREcUN3WKkAtLLihdtkrQPZN54pPHTFA\"},\"shape\":[57],\"dtype\":\"float64\",\"order\":\"little\"}],[\"Setor_privado\",{\"type\":\"ndarray\",\"array\":{\"type\":\"bytes\",\"data\":\"TkL8pGWsH0BzTi1fH7ojQHtzvMT1MSNArSAbg7OsKEBHynE056wnQM6YfKXHISdAXBEfQRy7KkBsuvGbkospQJd+q5QwKC1APTDNxRoaLECcA7KsKdUtQGi4jHlWrydAUuj5SimxJ0AIaMVZOaIrQJ+pGdKBbTBAsK1mGeP1MEDVxms6Y/swQELawGBF9i9AXGsJmjPIK0AlWoS3Vo0rQHdzbSxOeClAs8toBfL1LEB4jP+Wnd4wQARlcTmV2TFA9+5qcOBSNUBPYjRvyuYuQAFirldHhStAdNbcVtnjKkCUcFNVoTEtQJmCllHwQzBAn8AtJ3PNMEA8FaOkfM0tQO7KG2rRNC9AAugBJ/1ILUB2xmnpBCstQB4K0AVwgS9A1vdvwQw5L0AU3RzwslwtQLmUsAvEByxAE+ecVylxLUB/Z48Jy90sQJR7bZ0XmyxAmhPUJnZRLkDsXPkZr7svQLmG64JEKy5A7GejE4eiL0CCwuXsdbQwQIckhMqrrzBAxDWqfkTEMEARtPuxDckvQKPWBH7K4i1A5xLn5e5oKkDmTEjlkDwpQGjDUbsKCSlAiREcUN3WKkAtLLihdtkrQPZN54pPHTFA\"},\"shape\":[57],\"dtype\":\"float64\",\"order\":\"little\"}],[\"Taxa_de_investimento\",[\"Setor privado\",\"Setor privado\",\"Setor privado\",\"Setor privado\",\"Setor privado\",\"Setor privado\",\"Setor privado\",\"Setor privado\",\"Setor privado\",\"Setor privado\",\"Setor privado\",\"Setor privado\",\"Setor privado\",\"Setor privado\",\"Setor privado\",\"Setor privado\",\"Setor privado\",\"Setor privado\",\"Setor privado\",\"Setor privado\",\"Setor privado\",\"Setor privado\",\"Setor privado\",\"Setor privado\",\"Setor privado\",\"Setor privado\",\"Setor privado\",\"Setor privado\",\"Setor privado\",\"Setor privado\",\"Setor privado\",\"Setor privado\",\"Setor privado\",\"Setor privado\",\"Setor privado\",\"Setor privado\",\"Setor privado\",\"Setor privado\",\"Setor privado\",\"Setor privado\",\"Setor privado\",\"Setor privado\",\"Setor privado\",\"Setor privado\",\"Setor privado\",\"Setor privado\",\"Setor privado\",\"Setor privado\",\"Setor privado\",\"Setor privado\",\"Setor privado\",\"Setor privado\",\"Setor privado\",\"Setor privado\",\"Setor privado\",\"Setor privado\",\"Setor privado\"]]]}}},\"view\":{\"type\":\"object\",\"name\":\"CDSView\",\"id\":\"6e9c34d0-7500-41eb-b872-c3019d6a91d8\",\"attributes\":{\"filter\":{\"type\":\"object\",\"name\":\"AllIndices\",\"id\":\"f40f2811-7924-48b9-9ecc-18a4d4f31c0e\"}}},\"glyph\":{\"type\":\"object\",\"name\":\"Line\",\"id\":\"b02db0b4-f0cd-45a1-963b-1cbfeb664c2e\",\"attributes\":{\"tags\":[\"apply_ranges\"],\"x\":{\"type\":\"field\",\"field\":\"Ano\"},\"y\":{\"type\":\"field\",\"field\":\"Setor privado\"},\"line_color\":\"#fc4f30\",\"line_width\":2}},\"selection_glyph\":{\"type\":\"object\",\"name\":\"Line\",\"id\":\"88f2895a-88d6-4025-b95d-d21f23e4d85e\",\"attributes\":{\"tags\":[\"apply_ranges\"],\"x\":{\"type\":\"field\",\"field\":\"Ano\"},\"y\":{\"type\":\"field\",\"field\":\"Setor privado\"},\"line_color\":\"#fc4f30\",\"line_width\":2}},\"nonselection_glyph\":{\"type\":\"object\",\"name\":\"Line\",\"id\":\"e43bcf97-f36b-469d-acc9-f24428eaefe4\",\"attributes\":{\"tags\":[\"apply_ranges\"],\"x\":{\"type\":\"field\",\"field\":\"Ano\"},\"y\":{\"type\":\"field\",\"field\":\"Setor privado\"},\"line_color\":\"#fc4f30\",\"line_alpha\":0.1,\"line_width\":2}},\"muted_glyph\":{\"type\":\"object\",\"name\":\"Line\",\"id\":\"8cc58573-7bbf-4389-a700-ff06dd8bc24b\",\"attributes\":{\"tags\":[\"apply_ranges\"],\"x\":{\"type\":\"field\",\"field\":\"Ano\"},\"y\":{\"type\":\"field\",\"field\":\"Setor privado\"},\"line_color\":\"#fc4f30\",\"line_alpha\":0.2,\"line_width\":2}}}},{\"type\":\"object\",\"name\":\"GlyphRenderer\",\"id\":\"54f2cf48-bee8-4367-a271-d4337097ba77\",\"attributes\":{\"name\":\"FBCF total\",\"data_source\":{\"type\":\"object\",\"name\":\"ColumnDataSource\",\"id\":\"69f2429d-eaac-4f61-a5f6-9c27382bf435\",\"attributes\":{\"selected\":{\"type\":\"object\",\"name\":\"Selection\",\"id\":\"ff6e44ef-1448-41a9-b07a-1ce9b8737b8c\",\"attributes\":{\"indices\":[],\"line_indices\":[]}},\"selection_policy\":{\"type\":\"object\",\"name\":\"UnionRenderers\",\"id\":\"7447d700-1717-4bc9-ac2a-04173b3817ca\"},\"data\":{\"type\":\"map\",\"entries\":[[\"Ano\",{\"type\":\"ndarray\",\"array\":{\"type\":\"bytes\",\"data\":\"rQcAAK4HAACvBwAAsAcAALEHAACyBwAAswcAALQHAAC1BwAAtgcAALcHAAC4BwAAuQcAALoHAAC7BwAAvAcAAL0HAAC+BwAAvwcAAMAHAADBBwAAwgcAAMMHAADEBwAAxQcAAMYHAADHBwAAyAcAAMkHAADKBwAAywcAAMwHAADNBwAAzgcAAM8HAADQBwAA0QcAANIHAADTBwAA1AcAANUHAADWBwAA1wcAANgHAADZBwAA2gcAANsHAADcBwAA3QcAAN4HAADfBwAA4AcAAOEHAADiBwAA4wcAAOQHAADlBwAA\"},\"shape\":[57],\"dtype\":\"int32\",\"order\":\"little\"}],[\"FBCF total\",{\"type\":\"ndarray\",\"array\":{\"type\":\"bytes\",\"data\":\"R1Ew4vtsLUBHsjGHpdUvQGnSV49xMjBAH9SuoT+vMkBmb4mQ7xozQKLlRiOX1TJANtpDVEroM0BjQ66WAVU0QNdb31ZjXjRASnNoXmzYNUBy9dcjLVQ3QJu1CbAGazZA6uwyIHFYNUAGuqvA3kM2QFns3IZYXDdAJemYSB6PN0CpuxoyG084QBcPdCyM/DZAEQzJO1LvM0A8Uk2xUucyQL7okfPoAjJAKnIMlHYDNEBjdDid8Cs3QDPijZkoUzhAcWX1AdvcOkCRGaKTyKk0QHCaWZfsGzJAGEIZYFpsMkDjj6VCekgzQK2U1XeCvzRAYdjzzEpJNEA1xfriAaQyQEVhsnJ2HzNAl9frWdeKMkAS7KDbKwQxQAkZcu3yTTJAVQOHtwdrMkCKZB7GHu0xQIbC537RmjBAcj+gz/pRMUDTv/UJYg4xQLX6RTHWNTFA1AAPN+r+MUCZzyP1pGIzQKXe/OsZGjNADxNSX+CINEBpOw8U5Zs0QHPACH16tzRAKXJJtnPpNECdRnzSft8zQK9aSXP31TFABj6uoXQML0AYSzt7Mx4tQIfQnXGeMS5ABNg3KT3xLkATbXYSdpswQFUXh1pFKzNA\"},\"shape\":[57],\"dtype\":\"float64\",\"order\":\"little\"}],[\"FBCF_total\",{\"type\":\"ndarray\",\"array\":{\"type\":\"bytes\",\"data\":\"R1Ew4vtsLUBHsjGHpdUvQGnSV49xMjBAH9SuoT+vMkBmb4mQ7xozQKLlRiOX1TJANtpDVEroM0BjQ66WAVU0QNdb31ZjXjRASnNoXmzYNUBy9dcjLVQ3QJu1CbAGazZA6uwyIHFYNUAGuqvA3kM2QFns3IZYXDdAJemYSB6PN0CpuxoyG084QBcPdCyM/DZAEQzJO1LvM0A8Uk2xUucyQL7okfPoAjJAKnIMlHYDNEBjdDid8Cs3QDPijZkoUzhAcWX1AdvcOkCRGaKTyKk0QHCaWZfsGzJAGEIZYFpsMkDjj6VCekgzQK2U1XeCvzRAYdjzzEpJNEA1xfriAaQyQEVhsnJ2HzNAl9frWdeKMkAS7KDbKwQxQAkZcu3yTTJAVQOHtwdrMkCKZB7GHu0xQIbC537RmjBAcj+gz/pRMUDTv/UJYg4xQLX6RTHWNTFA1AAPN+r+MUCZzyP1pGIzQKXe/OsZGjNADxNSX+CINEBpOw8U5Zs0QHPACH16tzRAKXJJtnPpNECdRnzSft8zQK9aSXP31TFABj6uoXQML0AYSzt7Mx4tQIfQnXGeMS5ABNg3KT3xLkATbXYSdpswQFUXh1pFKzNA\"},\"shape\":[57],\"dtype\":\"float64\",\"order\":\"little\"}],[\"Taxa_de_investimento\",[\"FBCF total\",\"FBCF total\",\"FBCF total\",\"FBCF total\",\"FBCF total\",\"FBCF total\",\"FBCF total\",\"FBCF total\",\"FBCF total\",\"FBCF total\",\"FBCF total\",\"FBCF total\",\"FBCF total\",\"FBCF total\",\"FBCF total\",\"FBCF total\",\"FBCF total\",\"FBCF total\",\"FBCF total\",\"FBCF total\",\"FBCF total\",\"FBCF total\",\"FBCF total\",\"FBCF total\",\"FBCF total\",\"FBCF total\",\"FBCF total\",\"FBCF total\",\"FBCF total\",\"FBCF total\",\"FBCF total\",\"FBCF total\",\"FBCF total\",\"FBCF total\",\"FBCF total\",\"FBCF total\",\"FBCF total\",\"FBCF total\",\"FBCF total\",\"FBCF total\",\"FBCF total\",\"FBCF total\",\"FBCF total\",\"FBCF total\",\"FBCF total\",\"FBCF total\",\"FBCF total\",\"FBCF total\",\"FBCF total\",\"FBCF total\",\"FBCF total\",\"FBCF total\",\"FBCF total\",\"FBCF total\",\"FBCF total\",\"FBCF total\",\"FBCF total\"]]]}}},\"view\":{\"type\":\"object\",\"name\":\"CDSView\",\"id\":\"7c7339f1-ff89-4e96-a26d-c8d84a78eb19\",\"attributes\":{\"filter\":{\"type\":\"object\",\"name\":\"AllIndices\",\"id\":\"316b630d-fc27-49f4-b31e-c41e3fd70825\"}}},\"glyph\":{\"type\":\"object\",\"name\":\"Line\",\"id\":\"94159bd5-4be4-4bd7-9faa-f520d710d440\",\"attributes\":{\"tags\":[\"apply_ranges\"],\"x\":{\"type\":\"field\",\"field\":\"Ano\"},\"y\":{\"type\":\"field\",\"field\":\"FBCF total\"},\"line_color\":\"#e5ae38\",\"line_width\":2}},\"selection_glyph\":{\"type\":\"object\",\"name\":\"Line\",\"id\":\"1e334520-3da5-4e87-b653-aae899f4ce40\",\"attributes\":{\"tags\":[\"apply_ranges\"],\"x\":{\"type\":\"field\",\"field\":\"Ano\"},\"y\":{\"type\":\"field\",\"field\":\"FBCF total\"},\"line_color\":\"#e5ae38\",\"line_width\":2}},\"nonselection_glyph\":{\"type\":\"object\",\"name\":\"Line\",\"id\":\"be7a6af4-89c1-407d-96a7-71e4a6154bb4\",\"attributes\":{\"tags\":[\"apply_ranges\"],\"x\":{\"type\":\"field\",\"field\":\"Ano\"},\"y\":{\"type\":\"field\",\"field\":\"FBCF total\"},\"line_color\":\"#e5ae38\",\"line_alpha\":0.1,\"line_width\":2}},\"muted_glyph\":{\"type\":\"object\",\"name\":\"Line\",\"id\":\"30c037e0-d0ac-4992-b1f7-3e6179258582\",\"attributes\":{\"tags\":[\"apply_ranges\"],\"x\":{\"type\":\"field\",\"field\":\"Ano\"},\"y\":{\"type\":\"field\",\"field\":\"FBCF total\"},\"line_color\":\"#e5ae38\",\"line_alpha\":0.2,\"line_width\":2}}}}],\"toolbar\":{\"type\":\"object\",\"name\":\"Toolbar\",\"id\":\"78f878bc-2bc7-4cdf-9a3f-b39ca1337598\",\"attributes\":{\"tools\":[{\"type\":\"object\",\"name\":\"WheelZoomTool\",\"id\":\"2a92b469-464d-4091-a610-3aadbee81649\",\"attributes\":{\"tags\":[\"hv_created\"],\"renderers\":\"auto\",\"zoom_together\":\"none\"}},{\"type\":\"object\",\"name\":\"HoverTool\",\"id\":\"49b0a1af-3824-47b0-8a9a-4525060f6620\",\"attributes\":{\"tags\":[\"hv_created\"],\"renderers\":[{\"id\":\"07c63186-4329-4dd8-93cb-f2a14c6c3251\"}],\"tooltips\":[[\"Taxa de investimento\",\"@{Taxa_de_investimento}\"],[\"Ano\",\"@{Ano}\"],[\"value\",\"@{Setor_p\\u00fablico_consolidado}\"]]}},{\"type\":\"object\",\"name\":\"HoverTool\",\"id\":\"94be743b-3e3a-4189-8e9a-af64948e6bdc\",\"attributes\":{\"tags\":[\"hv_created\"],\"renderers\":[{\"id\":\"dd7a65d3-78fa-40f2-9b93-07fd887ae3b3\"}],\"tooltips\":[[\"Taxa de investimento\",\"@{Taxa_de_investimento}\"],[\"Ano\",\"@{Ano}\"],[\"value\",\"@{Setor_privado}\"]]}},{\"type\":\"object\",\"name\":\"HoverTool\",\"id\":\"7c5df40a-c264-4419-9f01-7fd548ceb237\",\"attributes\":{\"tags\":[\"hv_created\"],\"renderers\":[{\"id\":\"54f2cf48-bee8-4367-a271-d4337097ba77\"}],\"tooltips\":[[\"Taxa de investimento\",\"@{Taxa_de_investimento}\"],[\"Ano\",\"@{Ano}\"],[\"value\",\"@{FBCF_total}\"]]}},{\"type\":\"object\",\"name\":\"SaveTool\",\"id\":\"4cf82bf1-a9af-4c38-b2a5-f292cfdc6b1f\"},{\"type\":\"object\",\"name\":\"PanTool\",\"id\":\"013cc931-e56c-402b-be06-5477f7cfb314\"},{\"type\":\"object\",\"name\":\"BoxZoomTool\",\"id\":\"1b895cc7-9919-4351-9a20-467aab9a7132\",\"attributes\":{\"overlay\":{\"type\":\"object\",\"name\":\"BoxAnnotation\",\"id\":\"890619dd-9ac5-42ce-99b6-b8ff4acf2711\",\"attributes\":{\"syncable\":false,\"level\":\"overlay\",\"visible\":false,\"left\":{\"type\":\"number\",\"value\":\"nan\"},\"right\":{\"type\":\"number\",\"value\":\"nan\"},\"top\":{\"type\":\"number\",\"value\":\"nan\"},\"bottom\":{\"type\":\"number\",\"value\":\"nan\"},\"left_units\":\"canvas\",\"right_units\":\"canvas\",\"top_units\":\"canvas\",\"bottom_units\":\"canvas\",\"line_color\":\"black\",\"line_alpha\":1.0,\"line_width\":2,\"line_dash\":[4,4],\"fill_color\":\"lightgrey\",\"fill_alpha\":0.5}}}},{\"type\":\"object\",\"name\":\"ResetTool\",\"id\":\"3157d4c9-e691-4fa6-a361-8de81fe39123\"}],\"active_drag\":{\"id\":\"013cc931-e56c-402b-be06-5477f7cfb314\"},\"active_scroll\":{\"id\":\"2a92b469-464d-4091-a610-3aadbee81649\"}}},\"left\":[{\"type\":\"object\",\"name\":\"LinearAxis\",\"id\":\"d2ac4fa4-647d-461b-8d7c-df3021e8da66\",\"attributes\":{\"ticker\":{\"type\":\"object\",\"name\":\"BasicTicker\",\"id\":\"1eb1a407-353c-43d5-8124-4cd1cd68fcba\",\"attributes\":{\"desired_num_ticks\":12,\"mantissas\":[1,2,5]}},\"formatter\":{\"type\":\"object\",\"name\":\"PrintfTickFormatter\",\"id\":\"3478e347-4ad5-42e3-b43a-5667246c9deb\",\"attributes\":{\"format\":\"%.1f\"}},\"axis_label\":\"% do PIB\",\"axis_label_text_font_size\":\"8pt\",\"major_label_policy\":{\"type\":\"object\",\"name\":\"AllLabels\",\"id\":\"31b336c6-10ed-4d39-be77-b2fa12fb44bf\"},\"major_label_text_font_size\":\"8pt\"}}],\"below\":[{\"type\":\"object\",\"name\":\"LinearAxis\",\"id\":\"b4a8abfa-aabb-43be-a4b7-4f018f929b9a\",\"attributes\":{\"ticker\":{\"type\":\"object\",\"name\":\"BasicTicker\",\"id\":\"8c1f0c97-9dab-4d5c-9596-e04853a544ef\",\"attributes\":{\"desired_num_ticks\":18,\"mantissas\":[1,2,5]}},\"formatter\":{\"type\":\"object\",\"name\":\"BasicTickFormatter\",\"id\":\"596db081-6482-4a21-9cd5-78660b6264f1\"},\"axis_label\":\"\",\"axis_label_text_font_size\":\"8pt\",\"major_label_policy\":{\"type\":\"object\",\"name\":\"AllLabels\",\"id\":\"97afb266-5008-4c6b-9342-a107d81cdbe0\"},\"major_label_text_font_size\":\"8pt\"}},{\"type\":\"object\",\"name\":\"Legend\",\"id\":\"2ca01cc2-777b-463b-bb89-4acc5eb2fc7b\",\"attributes\":{\"location\":[0,0],\"orientation\":\"horizontal\",\"title\":\"Taxa de investimento\",\"click_policy\":\"mute\",\"items\":[{\"type\":\"object\",\"name\":\"LegendItem\",\"id\":\"a2904290-f899-436c-9bf8-b769873e1889\",\"attributes\":{\"label\":{\"type\":\"value\",\"value\":\"Setor p\\u00fablico consolidado\"},\"renderers\":[{\"id\":\"07c63186-4329-4dd8-93cb-f2a14c6c3251\"}]}},{\"type\":\"object\",\"name\":\"LegendItem\",\"id\":\"4be014fa-2f2f-4d11-98cd-71fea690f47c\",\"attributes\":{\"label\":{\"type\":\"value\",\"value\":\"Setor privado\"},\"renderers\":[{\"id\":\"dd7a65d3-78fa-40f2-9b93-07fd887ae3b3\"}]}},{\"type\":\"object\",\"name\":\"LegendItem\",\"id\":\"0f4b7d4d-dc17-4118-a030-2dd3440d9238\",\"attributes\":{\"label\":{\"type\":\"value\",\"value\":\"FBCF total\"},\"renderers\":[{\"id\":\"54f2cf48-bee8-4367-a271-d4337097ba77\"}]}}]}}],\"center\":[{\"type\":\"object\",\"name\":\"Grid\",\"id\":\"f6955157-df61-494a-b76e-9d035afb1065\",\"attributes\":{\"axis\":{\"id\":\"b4a8abfa-aabb-43be-a4b7-4f018f929b9a\"},\"grid_line_color\":null}},{\"type\":\"object\",\"name\":\"Grid\",\"id\":\"2eba04a4-2b74-4def-8de5-8e18481b428e\",\"attributes\":{\"dimension\":1,\"axis\":{\"id\":\"d2ac4fa4-647d-461b-8d7c-df3021e8da66\"},\"grid_line_color\":null}}],\"min_border_top\":10,\"min_border_bottom\":10,\"min_border_left\":10,\"min_border_right\":10,\"output_backend\":\"webgl\"}},{\"type\":\"object\",\"name\":\"Spacer\",\"id\":\"5894b14a-fb3a-45d8-a09d-18a3d0bcc756\",\"attributes\":{\"name\":\"HSpacer00415\",\"stylesheets\":[\"\\n:host(.pn-loading):before, .pn-loading:before {\\n  background-color: #c3c3c3;\\n  mask-size: auto calc(min(50%, 400px));\\n  -webkit-mask-size: auto calc(min(50%, 400px));\\n}\",{\"id\":\"47e26b9a-7ecf-4761-afbf-43e34c4e8590\"},{\"id\":\"3246d43d-515b-4629-88e4-96e48ea763d6\"},{\"id\":\"ec4f43d0-a9f5-410f-8466-19618c70f0d2\"}],\"margin\":0,\"sizing_mode\":\"stretch_width\",\"align\":\"start\"}}]}}],\"defs\":[{\"type\":\"model\",\"name\":\"ReactiveHTML1\"},{\"type\":\"model\",\"name\":\"FlexBox1\",\"properties\":[{\"name\":\"align_content\",\"kind\":\"Any\",\"default\":\"flex-start\"},{\"name\":\"align_items\",\"kind\":\"Any\",\"default\":\"flex-start\"},{\"name\":\"flex_direction\",\"kind\":\"Any\",\"default\":\"row\"},{\"name\":\"flex_wrap\",\"kind\":\"Any\",\"default\":\"wrap\"},{\"name\":\"gap\",\"kind\":\"Any\",\"default\":\"\"},{\"name\":\"justify_content\",\"kind\":\"Any\",\"default\":\"flex-start\"}]},{\"type\":\"model\",\"name\":\"FloatPanel1\",\"properties\":[{\"name\":\"config\",\"kind\":\"Any\",\"default\":{\"type\":\"map\"}},{\"name\":\"contained\",\"kind\":\"Any\",\"default\":true},{\"name\":\"position\",\"kind\":\"Any\",\"default\":\"right-top\"},{\"name\":\"offsetx\",\"kind\":\"Any\",\"default\":null},{\"name\":\"offsety\",\"kind\":\"Any\",\"default\":null},{\"name\":\"theme\",\"kind\":\"Any\",\"default\":\"primary\"},{\"name\":\"status\",\"kind\":\"Any\",\"default\":\"normalized\"}]},{\"type\":\"model\",\"name\":\"GridStack1\",\"properties\":[{\"name\":\"mode\",\"kind\":\"Any\",\"default\":\"warn\"},{\"name\":\"ncols\",\"kind\":\"Any\",\"default\":null},{\"name\":\"nrows\",\"kind\":\"Any\",\"default\":null},{\"name\":\"allow_resize\",\"kind\":\"Any\",\"default\":true},{\"name\":\"allow_drag\",\"kind\":\"Any\",\"default\":true},{\"name\":\"state\",\"kind\":\"Any\",\"default\":[]}]},{\"type\":\"model\",\"name\":\"drag1\",\"properties\":[{\"name\":\"slider_width\",\"kind\":\"Any\",\"default\":5},{\"name\":\"slider_color\",\"kind\":\"Any\",\"default\":\"black\"},{\"name\":\"value\",\"kind\":\"Any\",\"default\":50}]},{\"type\":\"model\",\"name\":\"click1\",\"properties\":[{\"name\":\"terminal_output\",\"kind\":\"Any\",\"default\":\"\"},{\"name\":\"debug_name\",\"kind\":\"Any\",\"default\":\"\"},{\"name\":\"clears\",\"kind\":\"Any\",\"default\":0}]},{\"type\":\"model\",\"name\":\"FastWrapper1\",\"properties\":[{\"name\":\"object\",\"kind\":\"Any\",\"default\":null},{\"name\":\"style\",\"kind\":\"Any\",\"default\":null}]},{\"type\":\"model\",\"name\":\"NotificationAreaBase1\",\"properties\":[{\"name\":\"js_events\",\"kind\":\"Any\",\"default\":{\"type\":\"map\"}},{\"name\":\"position\",\"kind\":\"Any\",\"default\":\"bottom-right\"},{\"name\":\"_clear\",\"kind\":\"Any\",\"default\":0}]},{\"type\":\"model\",\"name\":\"NotificationArea1\",\"properties\":[{\"name\":\"js_events\",\"kind\":\"Any\",\"default\":{\"type\":\"map\"}},{\"name\":\"notifications\",\"kind\":\"Any\",\"default\":[]},{\"name\":\"position\",\"kind\":\"Any\",\"default\":\"bottom-right\"},{\"name\":\"_clear\",\"kind\":\"Any\",\"default\":0},{\"name\":\"types\",\"kind\":\"Any\",\"default\":[{\"type\":\"map\",\"entries\":[[\"type\",\"warning\"],[\"background\",\"#ffc107\"],[\"icon\",{\"type\":\"map\",\"entries\":[[\"className\",\"fas fa-exclamation-triangle\"],[\"tagName\",\"i\"],[\"color\",\"white\"]]}]]},{\"type\":\"map\",\"entries\":[[\"type\",\"info\"],[\"background\",\"#007bff\"],[\"icon\",{\"type\":\"map\",\"entries\":[[\"className\",\"fas fa-info-circle\"],[\"tagName\",\"i\"],[\"color\",\"white\"]]}]]}]}]},{\"type\":\"model\",\"name\":\"Notification\",\"properties\":[{\"name\":\"background\",\"kind\":\"Any\",\"default\":null},{\"name\":\"duration\",\"kind\":\"Any\",\"default\":3000},{\"name\":\"icon\",\"kind\":\"Any\",\"default\":null},{\"name\":\"message\",\"kind\":\"Any\",\"default\":\"\"},{\"name\":\"notification_type\",\"kind\":\"Any\",\"default\":null},{\"name\":\"_destroyed\",\"kind\":\"Any\",\"default\":false}]},{\"type\":\"model\",\"name\":\"TemplateActions1\",\"properties\":[{\"name\":\"open_modal\",\"kind\":\"Any\",\"default\":0},{\"name\":\"close_modal\",\"kind\":\"Any\",\"default\":0}]},{\"type\":\"model\",\"name\":\"BootstrapTemplateActions1\",\"properties\":[{\"name\":\"open_modal\",\"kind\":\"Any\",\"default\":0},{\"name\":\"close_modal\",\"kind\":\"Any\",\"default\":0}]},{\"type\":\"model\",\"name\":\"TemplateEditor1\",\"properties\":[{\"name\":\"layout\",\"kind\":\"Any\",\"default\":[]}]},{\"type\":\"model\",\"name\":\"MaterialTemplateActions1\",\"properties\":[{\"name\":\"open_modal\",\"kind\":\"Any\",\"default\":0},{\"name\":\"close_modal\",\"kind\":\"Any\",\"default\":0}]},{\"type\":\"model\",\"name\":\"copy_to_clipboard1\",\"properties\":[{\"name\":\"fill\",\"kind\":\"Any\",\"default\":\"none\"},{\"name\":\"value\",\"kind\":\"Any\",\"default\":null}]}]}};\n",
       "  var render_items = [{\"docid\":\"55100d4d-bd82-478c-9ab3-a97d760abab7\",\"roots\":{\"88f5cb53-10b8-4648-aafb-bea004681bd0\":\"bdbc042f-301a-4996-afdb-0bab38707b01\"},\"root_ids\":[\"88f5cb53-10b8-4648-aafb-bea004681bd0\"]}];\n",
       "  var docs = Object.values(docs_json)\n",
       "  if (!docs) {\n",
       "    return\n",
       "  }\n",
       "  const py_version = docs[0].version.replace('rc', '-rc.').replace('.dev', '-dev.')\n",
       "  async function embed_document(root) {\n",
       "    var Bokeh = get_bokeh(root)\n",
       "    await Bokeh.embed.embed_items_notebook(docs_json, render_items);\n",
       "    for (const render_item of render_items) {\n",
       "      for (const root_id of render_item.root_ids) {\n",
       "\tconst id_el = document.getElementById(root_id)\n",
       "\tif (id_el.children.length && id_el.children[0].hasAttribute('data-root-id')) {\n",
       "\t  const root_el = id_el.children[0]\n",
       "\t  root_el.id = root_el.id + '-rendered'\n",
       "\t  for (const child of root_el.children) {\n",
       "            // Ensure JupyterLab does not capture keyboard shortcuts\n",
       "            // see: https://jupyterlab.readthedocs.io/en/4.1.x/extension/notebook.html#keyboard-interaction-model\n",
       "\t    child.setAttribute('data-lm-suppress-shortcuts', 'true')\n",
       "\t  }\n",
       "\t}\n",
       "      }\n",
       "    }\n",
       "  }\n",
       "  function get_bokeh(root) {\n",
       "    if (root.Bokeh === undefined) {\n",
       "      return null\n",
       "    } else if (root.Bokeh.version !== py_version) {\n",
       "      if (root.Bokeh.versions === undefined || !root.Bokeh.versions.has(py_version)) {\n",
       "\treturn null\n",
       "      }\n",
       "      return root.Bokeh.versions.get(py_version);\n",
       "    } else if (root.Bokeh.version === py_version) {\n",
       "      return root.Bokeh\n",
       "    }\n",
       "    return null\n",
       "  }\n",
       "  function is_loaded(root) {\n",
       "    var Bokeh = get_bokeh(root)\n",
       "    return (Bokeh != null && Bokeh.Panel !== undefined)\n",
       "  }\n",
       "  if (is_loaded(root)) {\n",
       "    embed_document(root);\n",
       "  } else {\n",
       "    var attempts = 0;\n",
       "    var timer = setInterval(function(root) {\n",
       "      if (is_loaded(root)) {\n",
       "        clearInterval(timer);\n",
       "        embed_document(root);\n",
       "      } else if (document.readyState == \"complete\") {\n",
       "        attempts++;\n",
       "        if (attempts > 200) {\n",
       "          clearInterval(timer);\n",
       "\t  var Bokeh = get_bokeh(root)\n",
       "\t  if (Bokeh == null || Bokeh.Panel == null) {\n",
       "            console.warn(\"Panel: ERROR: Unable to run Panel code because Bokeh or Panel library is missing\");\n",
       "\t  } else {\n",
       "\t    console.warn(\"Panel: WARNING: Attempting to render but not all required libraries could be resolved.\")\n",
       "\t    embed_document(root)\n",
       "\t  }\n",
       "        }\n",
       "      }\n",
       "    }, 25, root)\n",
       "  }\n",
       "})(window);</script>"
      ],
      "text/plain": [
       ":NdOverlay   [Taxa de investimento]\n",
       "   :Curve   [Ano]   (value)"
      ]
     },
     "execution_count": 5,
     "metadata": {
      "application/vnd.holoviews_exec.v0+json": {
       "id": "88f5cb53-10b8-4648-aafb-bea004681bd0"
      }
     },
     "output_type": "execute_result"
    }
   ],
   "source": [
    "fbcf"
   ]
  },
  {
   "cell_type": "markdown",
   "metadata": {
    "slideshow": {
     "slide_type": "slide"
    }
   },
   "source": [
    "## Setor público\n",
    "\n",
    "E o *setor público*? No gráfico anterior, vê-se que a participação mais elevada da FBCF do setor público consolidado (governo geral + estatais federais) deu-se em 1976, com 10,6% do PIB, quando iniciou queda que persiste até os dias de hoje. "
   ]
  },
  {
   "cell_type": "markdown",
   "metadata": {
    "slideshow": {
     "slide_type": "fragment"
    }
   },
   "source": [
    "Os percentuais mais baixos do setor público consolidado no conjunto da série histórica foram observados em 2017 (1,9%), 2019 e 2021 (2,1%) e 1999 (2,4%). "
   ]
  },
  {
   "cell_type": "markdown",
   "metadata": {
    "slideshow": {
     "slide_type": "fragment"
    }
   },
   "source": [
    "No período pós-Plano Real, o ponto mais alto ocorreu em 2010 (4,7% do PIB), que porém foi logo revertido no ano seguinte, apesar do aumento das despesas primárias, como visto antes. "
   ]
  },
  {
   "cell_type": "markdown",
   "metadata": {
    "slideshow": {
     "slide_type": "subslide"
    }
   },
   "source": [
    "Em particular, a taxa de investimento do setor público consolidado teve grande queda entre 2014 (4,0%) e 2015 (2,9%)"
   ]
  },
  {
   "cell_type": "markdown",
   "metadata": {
    "slideshow": {
     "slide_type": "fragment"
    }
   },
   "source": [
    "Médias da taxa de investimento do setor público consolidado por períodos: 1980-1989 = 6,1% do PIB; 1990-1999 = 4,1% do PIB; 2000-2006 = 2,8%; 2007-2014 = 3,9%; 2015-2021 = 2,4%. Ver figuras."
   ]
  },
  {
   "cell_type": "markdown",
   "metadata": {
    "slideshow": {
     "slide_type": "slide"
    }
   },
   "source": [
    "## Governo central e estatais federais\n",
    "\n",
    "Outro aspecto relevante é a distribuição dos investimentos públicos entre o governo federal e as estatais federais. As estatais atingiram sua maior participação em 1976, no auge do II PND, com 6,5% do PIB contra 4,0% do governo central."
   ]
  },
  {
   "cell_type": "markdown",
   "metadata": {
    "slideshow": {
     "slide_type": "fragment"
    }
   },
   "source": [
    "Daí em diante, os investimentos das estatais federais caíram precipitadamente, chegando a 2,4% do PIB em 1986, durante o Plano Cruzado (portanto, antes das privatizações). Em 1990 o percentual foi de 1,5% do PIB, baixando para 0,8% em 1999 e 2000."
   ]
  },
  {
   "cell_type": "markdown",
   "metadata": {
    "slideshow": {
     "slide_type": "fragment"
    }
   },
   "source": [
    "Em seguida, o investimento das estatais recuperou-se marginalmente, com um impulso maior a partir de 2008 (1,4%) até 2013 (1,9%), quando começou a declinar novamente, com o ponto mais baixo em 2017 e 2021 (0,7%)."
   ]
  },
  {
   "cell_type": "markdown",
   "metadata": {
    "slideshow": {
     "slide_type": "subslide"
    }
   },
   "source": [
    "Como se vê no gráfico abaixo, a partir de 1985 a participação das estatais federais nos investimentos permaneceu sempre abaixo da contribuição do governo central - tal como havia acontecido até 1974."
   ]
  },
  {
   "cell_type": "code",
   "execution_count": 6,
   "metadata": {
    "slideshow": {
     "slide_type": "notes"
    }
   },
   "outputs": [],
   "source": [
    "p = pd.read_excel('br_fbkf_1965_2021.xlsx')\n",
    "\n",
    "fbcf_2 = p.hvplot.line('Ano', ['Governo Central', 'Estatais Federais'],\n",
    "                       height=450,\n",
    "                       width=750,\n",
    "                       rot=0,\n",
    "                       padding=0.05,\n",
    "                       legend='bottom',\n",
    "                       group_label='Investimentos',\n",
    "                       ylim=(0, 7),\n",
    "                       yticks=12,\n",
    "                       xticks=18,\n",
    "                       xlabel='',\n",
    "                       ylabel='% do PIB',\n",
    "                       yformatter='%.1f',\n",
    "                       xlim=(1965, 2021),\n",
    "                       title='Investimentos (FBCF), Governo central e estatais, Brasil, 1965-2021 (% do PIB)'\n",
    "                      ).opts(fontsize={'title': 11, 'labels': 8, 'xticks': 8, 'yticks': 8})"
   ]
  },
  {
   "cell_type": "code",
   "execution_count": 7,
   "metadata": {
    "slideshow": {
     "slide_type": "slide"
    }
   },
   "outputs": [
    {
     "data": {},
     "metadata": {},
     "output_type": "display_data"
    },
    {
     "data": {
      "application/vnd.holoviews_exec.v0+json": "",
      "text/html": [
       "<div id='603fefb6-4daf-4c4e-b3d0-2df082b7dbe5'>\n",
       "  <div id=\"cffd92e0-ed92-417f-8273-d57cb3cdb007\" data-root-id=\"603fefb6-4daf-4c4e-b3d0-2df082b7dbe5\" style=\"display: contents;\"></div>\n",
       "</div>\n",
       "<script type=\"application/javascript\">(function(root) {\n",
       "  var docs_json = {\"f1fff89f-65d4-48ba-9a48-63f7920f7890\":{\"version\":\"3.4.2\",\"title\":\"Bokeh Application\",\"roots\":[{\"type\":\"object\",\"name\":\"Row\",\"id\":\"603fefb6-4daf-4c4e-b3d0-2df082b7dbe5\",\"attributes\":{\"name\":\"Row00497\",\"tags\":[\"embedded\"],\"stylesheets\":[\"\\n:host(.pn-loading):before, .pn-loading:before {\\n  background-color: #c3c3c3;\\n  mask-size: auto calc(min(50%, 400px));\\n  -webkit-mask-size: auto calc(min(50%, 400px));\\n}\",{\"type\":\"object\",\"name\":\"ImportedStyleSheet\",\"id\":\"986de7ac-ad79-430f-ba31-905de1f167db\",\"attributes\":{\"url\":\"https://cdn.holoviz.org/panel/1.4.5/dist/css/loading.css\"}},{\"type\":\"object\",\"name\":\"ImportedStyleSheet\",\"id\":\"db1903cf-628a-41e6-a931-81096ce180c7\",\"attributes\":{\"url\":\"https://cdn.holoviz.org/panel/1.4.5/dist/css/listpanel.css\"}},{\"type\":\"object\",\"name\":\"ImportedStyleSheet\",\"id\":\"5bc9951a-cb15-4018-b388-a6bf03570815\",\"attributes\":{\"url\":\"https://cdn.holoviz.org/panel/1.4.5/dist/bundled/theme/default.css\"}},{\"type\":\"object\",\"name\":\"ImportedStyleSheet\",\"id\":\"c948e907-5a2e-427d-aede-de7a685daa2e\",\"attributes\":{\"url\":\"https://cdn.holoviz.org/panel/1.4.5/dist/bundled/theme/native.css\"}}],\"min_width\":750,\"margin\":0,\"sizing_mode\":\"stretch_width\",\"align\":\"start\",\"children\":[{\"type\":\"object\",\"name\":\"Spacer\",\"id\":\"8fdcb8fc-3e3d-4e53-a9c2-92f536b3a0df\",\"attributes\":{\"name\":\"HSpacer00501\",\"stylesheets\":[\"\\n:host(.pn-loading):before, .pn-loading:before {\\n  background-color: #c3c3c3;\\n  mask-size: auto calc(min(50%, 400px));\\n  -webkit-mask-size: auto calc(min(50%, 400px));\\n}\",{\"id\":\"986de7ac-ad79-430f-ba31-905de1f167db\"},{\"id\":\"5bc9951a-cb15-4018-b388-a6bf03570815\"},{\"id\":\"c948e907-5a2e-427d-aede-de7a685daa2e\"}],\"margin\":0,\"sizing_mode\":\"stretch_width\",\"align\":\"start\"}},{\"type\":\"object\",\"name\":\"Figure\",\"id\":\"78ea715b-076c-4e43-9763-52b064bae23d\",\"attributes\":{\"width\":750,\"height\":450,\"margin\":[5,10],\"sizing_mode\":\"fixed\",\"align\":\"start\",\"x_range\":{\"type\":\"object\",\"name\":\"Range1d\",\"id\":\"901a1eac-a8af-40c9-9104-e3550bae24f6\",\"attributes\":{\"name\":\"Ano\",\"tags\":[[[\"Ano\",null]],[]],\"start\":1965,\"end\":2021,\"reset_start\":1965,\"reset_end\":2021}},\"y_range\":{\"type\":\"object\",\"name\":\"Range1d\",\"id\":\"d45abd8f-714d-44a4-921e-fdcc7b8f1b0a\",\"attributes\":{\"name\":\"Governo Central\",\"tags\":[[[\"value\",null]],{\"type\":\"map\",\"entries\":[[\"invert_yaxis\",false],[\"autorange\",false]]}],\"end\":7,\"reset_start\":0,\"reset_end\":7}},\"x_scale\":{\"type\":\"object\",\"name\":\"LinearScale\",\"id\":\"5c465818-4133-45a0-8612-c4cf398fb038\"},\"y_scale\":{\"type\":\"object\",\"name\":\"LinearScale\",\"id\":\"e4863c0f-35de-4d0f-8822-d49121b3dcaa\"},\"title\":{\"type\":\"object\",\"name\":\"Title\",\"id\":\"f11fde71-75ff-4285-9113-40f863f279d8\",\"attributes\":{\"text\":\"Investimentos (FBCF), Governo central e estatais, Brasil, 1965-2021 (% do PIB)\",\"text_color\":\"black\",\"text_font_size\":\"11pt\"}},\"renderers\":[{\"type\":\"object\",\"name\":\"GlyphRenderer\",\"id\":\"a577ee4a-d132-4a92-a150-79a5326342a9\",\"attributes\":{\"name\":\"Governo Central\",\"data_source\":{\"type\":\"object\",\"name\":\"ColumnDataSource\",\"id\":\"d1bd5a6d-9033-422d-aa43-76e3ca9dedc7\",\"attributes\":{\"selected\":{\"type\":\"object\",\"name\":\"Selection\",\"id\":\"e5b8975a-1c03-40f3-968d-a7d15a252171\",\"attributes\":{\"indices\":[],\"line_indices\":[]}},\"selection_policy\":{\"type\":\"object\",\"name\":\"UnionRenderers\",\"id\":\"e8f7887a-68a7-4c6e-bcc7-79d3780cf5dc\"},\"data\":{\"type\":\"map\",\"entries\":[[\"Ano\",{\"type\":\"ndarray\",\"array\":{\"type\":\"bytes\",\"data\":\"rQcAAK4HAACvBwAAsAcAALEHAACyBwAAswcAALQHAAC1BwAAtgcAALcHAAC4BwAAuQcAALoHAAC7BwAAvAcAAL0HAAC+BwAAvwcAAMAHAADBBwAAwgcAAMMHAADEBwAAxQcAAMYHAADHBwAAyAcAAMkHAADKBwAAywcAAMwHAADNBwAAzgcAAM8HAADQBwAA0QcAANIHAADTBwAA1AcAANUHAADWBwAA1wcAANgHAADZBwAA2gcAANsHAADcBwAA3QcAAN4HAADfBwAA4AcAAOEHAADiBwAA4wcAAOQHAADlBwAA\"},\"shape\":[57],\"dtype\":\"int32\",\"order\":\"little\"}],[\"Governo Central\",{\"type\":\"ndarray\",\"array\":{\"type\":\"bytes\",\"data\":\"UmRqRfjrEkBHDFpyPS0QQKdHXVTxdxJAcJQhn5OREUAK7yn0tncVQKCvM3V8sRFAurkaOQ0jEUBAtTNwFhQPQE28ANqorQ1AFhKWYNbXDkCNF/zTXZMPQEzpZHSAIRBAdTG6YV9gCkBRyeE3qi8JQBHOOCuhyANAXgRIevC/AkAnoGBLmToFQIOckBgSgwNAYAv3jrth/j/h1UoQnTcAQAk6ivW/ygRAiX8z87JzCUBNqBZ54DwKQBQ/a3r0aQtAxvAwjOCDB0BjZFtp+9oNQDk0mxWtsgRAFQEEx6FLCUBCr/4Lm30IQLIUTKgilAlATfhNFvPkAUCcGqO0+l0CQB+zFSpSPwBAG7sND2C5BEDJiaMbSZz6P1/jqiLOcPw/3ddJb7NF/z8LRq0u5gsBQMkDJsi3DPg/C/HuNuh9+T936dZR4OD5PwU+KLib//4/LkhdT6sk/D8Y/B1cxSQBQFxDn7wL3gFALRDkwLrIBkA0hJ9rXz0CQKS+vp9FxwFAcYcl+ovTAUAP9/+ML6EDQCyrsrTSRvs/xpr4HlSC+D/IPG/bZSH0PxlixgNY5fU/UWsHSVU09D8pQ/Wr3pv4P3lyW9umRfY/\"},\"shape\":[57],\"dtype\":\"float64\",\"order\":\"little\"}],[\"Governo_Central\",{\"type\":\"ndarray\",\"array\":{\"type\":\"bytes\",\"data\":\"UmRqRfjrEkBHDFpyPS0QQKdHXVTxdxJAcJQhn5OREUAK7yn0tncVQKCvM3V8sRFAurkaOQ0jEUBAtTNwFhQPQE28ANqorQ1AFhKWYNbXDkCNF/zTXZMPQEzpZHSAIRBAdTG6YV9gCkBRyeE3qi8JQBHOOCuhyANAXgRIevC/AkAnoGBLmToFQIOckBgSgwNAYAv3jrth/j/h1UoQnTcAQAk6ivW/ygRAiX8z87JzCUBNqBZ54DwKQBQ/a3r0aQtAxvAwjOCDB0BjZFtp+9oNQDk0mxWtsgRAFQEEx6FLCUBCr/4Lm30IQLIUTKgilAlATfhNFvPkAUCcGqO0+l0CQB+zFSpSPwBAG7sND2C5BEDJiaMbSZz6P1/jqiLOcPw/3ddJb7NF/z8LRq0u5gsBQMkDJsi3DPg/C/HuNuh9+T936dZR4OD5PwU+KLib//4/LkhdT6sk/D8Y/B1cxSQBQFxDn7wL3gFALRDkwLrIBkA0hJ9rXz0CQKS+vp9FxwFAcYcl+ovTAUAP9/+ML6EDQCyrsrTSRvs/xpr4HlSC+D/IPG/bZSH0PxlixgNY5fU/UWsHSVU09D8pQ/Wr3pv4P3lyW9umRfY/\"},\"shape\":[57],\"dtype\":\"float64\",\"order\":\"little\"}],[\"Investimentos\",[\"Governo Central\",\"Governo Central\",\"Governo Central\",\"Governo Central\",\"Governo Central\",\"Governo Central\",\"Governo Central\",\"Governo Central\",\"Governo Central\",\"Governo Central\",\"Governo Central\",\"Governo Central\",\"Governo Central\",\"Governo Central\",\"Governo Central\",\"Governo Central\",\"Governo Central\",\"Governo Central\",\"Governo Central\",\"Governo Central\",\"Governo Central\",\"Governo Central\",\"Governo Central\",\"Governo Central\",\"Governo Central\",\"Governo Central\",\"Governo Central\",\"Governo Central\",\"Governo Central\",\"Governo Central\",\"Governo Central\",\"Governo Central\",\"Governo Central\",\"Governo Central\",\"Governo Central\",\"Governo Central\",\"Governo Central\",\"Governo Central\",\"Governo Central\",\"Governo Central\",\"Governo Central\",\"Governo Central\",\"Governo Central\",\"Governo Central\",\"Governo Central\",\"Governo Central\",\"Governo Central\",\"Governo Central\",\"Governo Central\",\"Governo Central\",\"Governo Central\",\"Governo Central\",\"Governo Central\",\"Governo Central\",\"Governo Central\",\"Governo Central\",\"Governo Central\"]]]}}},\"view\":{\"type\":\"object\",\"name\":\"CDSView\",\"id\":\"053a6322-e1c3-4039-8cd5-a3c3050a0fe0\",\"attributes\":{\"filter\":{\"type\":\"object\",\"name\":\"AllIndices\",\"id\":\"0d327079-4f77-40d0-b999-8762bf49b228\"}}},\"glyph\":{\"type\":\"object\",\"name\":\"Line\",\"id\":\"8ec3d0cb-6389-4d6f-850b-614aa8839530\",\"attributes\":{\"tags\":[\"apply_ranges\"],\"x\":{\"type\":\"field\",\"field\":\"Ano\"},\"y\":{\"type\":\"field\",\"field\":\"Governo Central\"},\"line_color\":\"#30a2da\",\"line_width\":2}},\"selection_glyph\":{\"type\":\"object\",\"name\":\"Line\",\"id\":\"4cca34e7-880a-41a0-adc8-089f6a6b3099\",\"attributes\":{\"tags\":[\"apply_ranges\"],\"x\":{\"type\":\"field\",\"field\":\"Ano\"},\"y\":{\"type\":\"field\",\"field\":\"Governo Central\"},\"line_color\":\"#30a2da\",\"line_width\":2}},\"nonselection_glyph\":{\"type\":\"object\",\"name\":\"Line\",\"id\":\"d9d0bc89-e85f-4779-97b4-8ce37a2ca68a\",\"attributes\":{\"tags\":[\"apply_ranges\"],\"x\":{\"type\":\"field\",\"field\":\"Ano\"},\"y\":{\"type\":\"field\",\"field\":\"Governo Central\"},\"line_color\":\"#30a2da\",\"line_alpha\":0.1,\"line_width\":2}},\"muted_glyph\":{\"type\":\"object\",\"name\":\"Line\",\"id\":\"cdde7be5-7553-4a2a-a4a9-7a35501152ad\",\"attributes\":{\"tags\":[\"apply_ranges\"],\"x\":{\"type\":\"field\",\"field\":\"Ano\"},\"y\":{\"type\":\"field\",\"field\":\"Governo Central\"},\"line_color\":\"#30a2da\",\"line_alpha\":0.2,\"line_width\":2}}}},{\"type\":\"object\",\"name\":\"GlyphRenderer\",\"id\":\"100ca861-a02c-4641-b425-9fbdff84a878\",\"attributes\":{\"name\":\"Estatais Federais\",\"data_source\":{\"type\":\"object\",\"name\":\"ColumnDataSource\",\"id\":\"76f93754-6fea-4255-8f63-f637c8a817b2\",\"attributes\":{\"selected\":{\"type\":\"object\",\"name\":\"Selection\",\"id\":\"4a9bf51b-7f51-4769-9815-eba947bcacd5\",\"attributes\":{\"indices\":[],\"line_indices\":[]}},\"selection_policy\":{\"type\":\"object\",\"name\":\"UnionRenderers\",\"id\":\"fd871eed-9e00-45ea-9fa2-236fa9681767\"},\"data\":{\"type\":\"map\",\"entries\":[[\"Ano\",{\"type\":\"ndarray\",\"array\":{\"type\":\"bytes\",\"data\":\"rQcAAK4HAACvBwAAsAcAALEHAACyBwAAswcAALQHAAC1BwAAtgcAALcHAAC4BwAAuQcAALoHAAC7BwAAvAcAAL0HAAC+BwAAvwcAAMAHAADBBwAAwgcAAMMHAADEBwAAxQcAAMYHAADHBwAAyAcAAMkHAADKBwAAywcAAMwHAADNBwAAzgcAAM8HAADQBwAA0QcAANIHAADTBwAA1AcAANUHAADWBwAA1wcAANgHAADZBwAA2gcAANsHAADcBwAA3QcAAN4HAADfBwAA4AcAAOEHAADiBwAA4wcAAOQHAADlBwAA\"},\"shape\":[57],\"dtype\":\"int32\",\"order\":\"little\"}],[\"Estatais Federais\",{\"type\":\"ndarray\",\"array\":{\"type\":\"bytes\",\"data\":\"9PfzszODAECqdl27nRMAQCFsJH6lt/8/7uqNhQ9I/z+H6GCU42j+Pwtr3ZmhwgZA3hhtK8cPAkAUfHfVq2UNQMwnTIqvpABALsd4eyGDD0DAwv1LstwRQC58qFjtKxpANMr6OULPGEAzMzMzMzMVQNejcD0K1xFAeOukf/QEEUAngws5k7ESQGo5BuQcRBJA1pZT13KUEEBnUw6cnc0IQMQ9T/VOawVAy+KMlznQAkCwlrC4ty0IQDyqeIamYghAsMIiAPTLBECpvcftPrD3PxEv8Iw0L/w/JWulvJcP/T+TG8BnY//5Pzr4WBPdkPQ/ZYzFL5Tz8z/odE2hQxj3P+xVHIY30vc/fMOSSMzy9D/TBzqmmpzoPzu47AvBxeg/tztN+8NE6z/o06SDiNTxP/R+0cg/YvE/m8wtBnoY8D9R2AkB6BbwP64gl+EUCu8/myjy6kY+8T9vGTbKSwP2P4QuMy9ji/w/gNA91lfo/T9hhlibM/z5P3hBzOhf7vw/Hbiohdur/j/M2uZ9IG34PzRLvI9QAvM/ynuBfrMz6T9FaFGoXdflP4cGmq5FX/M/6ZCt/1I96T9WLbBtzU/yP6BHQj1sM+U/\"},\"shape\":[57],\"dtype\":\"float64\",\"order\":\"little\"}],[\"Estatais_Federais\",{\"type\":\"ndarray\",\"array\":{\"type\":\"bytes\",\"data\":\"9PfzszODAECqdl27nRMAQCFsJH6lt/8/7uqNhQ9I/z+H6GCU42j+Pwtr3ZmhwgZA3hhtK8cPAkAUfHfVq2UNQMwnTIqvpABALsd4eyGDD0DAwv1LstwRQC58qFjtKxpANMr6OULPGEAzMzMzMzMVQNejcD0K1xFAeOukf/QEEUAngws5k7ESQGo5BuQcRBJA1pZT13KUEEBnUw6cnc0IQMQ9T/VOawVAy+KMlznQAkCwlrC4ty0IQDyqeIamYghAsMIiAPTLBECpvcftPrD3PxEv8Iw0L/w/JWulvJcP/T+TG8BnY//5Pzr4WBPdkPQ/ZYzFL5Tz8z/odE2hQxj3P+xVHIY30vc/fMOSSMzy9D/TBzqmmpzoPzu47AvBxeg/tztN+8NE6z/o06SDiNTxP/R+0cg/YvE/m8wtBnoY8D9R2AkB6BbwP64gl+EUCu8/myjy6kY+8T9vGTbKSwP2P4QuMy9ji/w/gNA91lfo/T9hhlibM/z5P3hBzOhf7vw/Hbiohdur/j/M2uZ9IG34PzRLvI9QAvM/ynuBfrMz6T9FaFGoXdflP4cGmq5FX/M/6ZCt/1I96T9WLbBtzU/yP6BHQj1sM+U/\"},\"shape\":[57],\"dtype\":\"float64\",\"order\":\"little\"}],[\"Investimentos\",[\"Estatais Federais\",\"Estatais Federais\",\"Estatais Federais\",\"Estatais Federais\",\"Estatais Federais\",\"Estatais Federais\",\"Estatais Federais\",\"Estatais Federais\",\"Estatais Federais\",\"Estatais Federais\",\"Estatais Federais\",\"Estatais Federais\",\"Estatais Federais\",\"Estatais Federais\",\"Estatais Federais\",\"Estatais Federais\",\"Estatais Federais\",\"Estatais Federais\",\"Estatais Federais\",\"Estatais Federais\",\"Estatais Federais\",\"Estatais Federais\",\"Estatais Federais\",\"Estatais Federais\",\"Estatais Federais\",\"Estatais Federais\",\"Estatais Federais\",\"Estatais Federais\",\"Estatais Federais\",\"Estatais Federais\",\"Estatais Federais\",\"Estatais Federais\",\"Estatais Federais\",\"Estatais Federais\",\"Estatais Federais\",\"Estatais Federais\",\"Estatais Federais\",\"Estatais Federais\",\"Estatais Federais\",\"Estatais Federais\",\"Estatais Federais\",\"Estatais Federais\",\"Estatais Federais\",\"Estatais Federais\",\"Estatais Federais\",\"Estatais Federais\",\"Estatais Federais\",\"Estatais Federais\",\"Estatais Federais\",\"Estatais Federais\",\"Estatais Federais\",\"Estatais Federais\",\"Estatais Federais\",\"Estatais Federais\",\"Estatais Federais\",\"Estatais Federais\",\"Estatais Federais\"]]]}}},\"view\":{\"type\":\"object\",\"name\":\"CDSView\",\"id\":\"c06bd0a1-173e-4693-8fbb-56b6cce0597e\",\"attributes\":{\"filter\":{\"type\":\"object\",\"name\":\"AllIndices\",\"id\":\"0abc39f4-1db6-4da4-b6d9-8793cdc58789\"}}},\"glyph\":{\"type\":\"object\",\"name\":\"Line\",\"id\":\"e70bb6a3-6164-4da8-b60c-d0ae6a82c78f\",\"attributes\":{\"tags\":[\"apply_ranges\"],\"x\":{\"type\":\"field\",\"field\":\"Ano\"},\"y\":{\"type\":\"field\",\"field\":\"Estatais Federais\"},\"line_color\":\"#fc4f30\",\"line_width\":2}},\"selection_glyph\":{\"type\":\"object\",\"name\":\"Line\",\"id\":\"a8396904-c792-47ed-a5ed-bb3853cd1d40\",\"attributes\":{\"tags\":[\"apply_ranges\"],\"x\":{\"type\":\"field\",\"field\":\"Ano\"},\"y\":{\"type\":\"field\",\"field\":\"Estatais Federais\"},\"line_color\":\"#fc4f30\",\"line_width\":2}},\"nonselection_glyph\":{\"type\":\"object\",\"name\":\"Line\",\"id\":\"fb53ba62-d8ea-4a68-8c3c-8bdf227fa399\",\"attributes\":{\"tags\":[\"apply_ranges\"],\"x\":{\"type\":\"field\",\"field\":\"Ano\"},\"y\":{\"type\":\"field\",\"field\":\"Estatais Federais\"},\"line_color\":\"#fc4f30\",\"line_alpha\":0.1,\"line_width\":2}},\"muted_glyph\":{\"type\":\"object\",\"name\":\"Line\",\"id\":\"2996e39e-3373-4b2e-af08-3ef8e922d4c5\",\"attributes\":{\"tags\":[\"apply_ranges\"],\"x\":{\"type\":\"field\",\"field\":\"Ano\"},\"y\":{\"type\":\"field\",\"field\":\"Estatais Federais\"},\"line_color\":\"#fc4f30\",\"line_alpha\":0.2,\"line_width\":2}}}}],\"toolbar\":{\"type\":\"object\",\"name\":\"Toolbar\",\"id\":\"ea38cda1-9089-4fca-aba3-d787ae5e65b4\",\"attributes\":{\"tools\":[{\"type\":\"object\",\"name\":\"WheelZoomTool\",\"id\":\"c7d535e5-cb37-4241-b97e-7d18096827f0\",\"attributes\":{\"tags\":[\"hv_created\"],\"renderers\":\"auto\",\"zoom_together\":\"none\"}},{\"type\":\"object\",\"name\":\"HoverTool\",\"id\":\"4ee59ca1-bb7f-4420-9c6e-4bd30a30451e\",\"attributes\":{\"tags\":[\"hv_created\"],\"renderers\":[{\"id\":\"a577ee4a-d132-4a92-a150-79a5326342a9\"}],\"tooltips\":[[\"Investimentos\",\"@{Investimentos}\"],[\"Ano\",\"@{Ano}\"],[\"value\",\"@{Governo_Central}\"]]}},{\"type\":\"object\",\"name\":\"HoverTool\",\"id\":\"1fb9e3f4-9134-49b3-a573-c20566f47965\",\"attributes\":{\"tags\":[\"hv_created\"],\"renderers\":[{\"id\":\"100ca861-a02c-4641-b425-9fbdff84a878\"}],\"tooltips\":[[\"Investimentos\",\"@{Investimentos}\"],[\"Ano\",\"@{Ano}\"],[\"value\",\"@{Estatais_Federais}\"]]}},{\"type\":\"object\",\"name\":\"SaveTool\",\"id\":\"a851bddb-8bf9-45d8-9749-417d32024657\"},{\"type\":\"object\",\"name\":\"PanTool\",\"id\":\"17d41db6-5aee-480e-b194-2caeb8c1ea66\"},{\"type\":\"object\",\"name\":\"BoxZoomTool\",\"id\":\"f5e9b335-b025-460e-93dc-5157a5b385f8\",\"attributes\":{\"overlay\":{\"type\":\"object\",\"name\":\"BoxAnnotation\",\"id\":\"3205ff0f-4f0a-4be4-9b87-5655b116dc80\",\"attributes\":{\"syncable\":false,\"level\":\"overlay\",\"visible\":false,\"left\":{\"type\":\"number\",\"value\":\"nan\"},\"right\":{\"type\":\"number\",\"value\":\"nan\"},\"top\":{\"type\":\"number\",\"value\":\"nan\"},\"bottom\":{\"type\":\"number\",\"value\":\"nan\"},\"left_units\":\"canvas\",\"right_units\":\"canvas\",\"top_units\":\"canvas\",\"bottom_units\":\"canvas\",\"line_color\":\"black\",\"line_alpha\":1.0,\"line_width\":2,\"line_dash\":[4,4],\"fill_color\":\"lightgrey\",\"fill_alpha\":0.5}}}},{\"type\":\"object\",\"name\":\"ResetTool\",\"id\":\"3ee9af43-43f4-4079-8f17-1f870ef411a1\"}],\"active_drag\":{\"id\":\"17d41db6-5aee-480e-b194-2caeb8c1ea66\"},\"active_scroll\":{\"id\":\"c7d535e5-cb37-4241-b97e-7d18096827f0\"}}},\"left\":[{\"type\":\"object\",\"name\":\"LinearAxis\",\"id\":\"34c4f6a5-3060-4824-8cf8-df39454a3092\",\"attributes\":{\"ticker\":{\"type\":\"object\",\"name\":\"BasicTicker\",\"id\":\"ca2b9359-9b13-4485-82fc-d9facbd3c752\",\"attributes\":{\"desired_num_ticks\":12,\"mantissas\":[1,2,5]}},\"formatter\":{\"type\":\"object\",\"name\":\"PrintfTickFormatter\",\"id\":\"1a24ecfc-89b7-432a-8230-9c6b3de6529f\",\"attributes\":{\"format\":\"%.1f\"}},\"axis_label\":\"% do PIB\",\"axis_label_text_font_size\":\"8pt\",\"major_label_policy\":{\"type\":\"object\",\"name\":\"AllLabels\",\"id\":\"6e576508-0c67-42b4-af2f-d45c6b70665c\"},\"major_label_text_font_size\":\"8pt\"}}],\"below\":[{\"type\":\"object\",\"name\":\"LinearAxis\",\"id\":\"39f31805-2339-446e-b0ad-49b1648bd8dc\",\"attributes\":{\"ticker\":{\"type\":\"object\",\"name\":\"BasicTicker\",\"id\":\"a5fc919b-0711-4922-90d1-2d6d64f93b1d\",\"attributes\":{\"desired_num_ticks\":18,\"mantissas\":[1,2,5]}},\"formatter\":{\"type\":\"object\",\"name\":\"BasicTickFormatter\",\"id\":\"d0a2881a-5245-45e8-adbd-f0917395847e\"},\"axis_label\":\"\",\"axis_label_text_font_size\":\"8pt\",\"major_label_policy\":{\"type\":\"object\",\"name\":\"AllLabels\",\"id\":\"72c996bc-9a82-400f-822c-0fc46a5ed991\"},\"major_label_text_font_size\":\"8pt\"}},{\"type\":\"object\",\"name\":\"Legend\",\"id\":\"8bc6b224-d683-4f95-a4dc-5d245e01e063\",\"attributes\":{\"location\":[0,0],\"orientation\":\"horizontal\",\"title\":\"Investimentos\",\"click_policy\":\"mute\",\"items\":[{\"type\":\"object\",\"name\":\"LegendItem\",\"id\":\"9ce51366-5bde-4a1d-9d37-e8a32c168991\",\"attributes\":{\"label\":{\"type\":\"value\",\"value\":\"Governo Central\"},\"renderers\":[{\"id\":\"a577ee4a-d132-4a92-a150-79a5326342a9\"}]}},{\"type\":\"object\",\"name\":\"LegendItem\",\"id\":\"ed703341-9bc8-4d99-928d-54f464cf9c8b\",\"attributes\":{\"label\":{\"type\":\"value\",\"value\":\"Estatais Federais\"},\"renderers\":[{\"id\":\"100ca861-a02c-4641-b425-9fbdff84a878\"}]}}]}}],\"center\":[{\"type\":\"object\",\"name\":\"Grid\",\"id\":\"574cff69-56d3-41ef-997e-d6da687badc8\",\"attributes\":{\"axis\":{\"id\":\"39f31805-2339-446e-b0ad-49b1648bd8dc\"},\"grid_line_color\":null}},{\"type\":\"object\",\"name\":\"Grid\",\"id\":\"2546f948-64e3-480c-9ea2-369918b276f8\",\"attributes\":{\"dimension\":1,\"axis\":{\"id\":\"34c4f6a5-3060-4824-8cf8-df39454a3092\"},\"grid_line_color\":null}}],\"min_border_top\":10,\"min_border_bottom\":10,\"min_border_left\":10,\"min_border_right\":10,\"output_backend\":\"webgl\"}},{\"type\":\"object\",\"name\":\"Spacer\",\"id\":\"4f4c4032-8c5a-4da6-8e01-8e4c3f8b7ac8\",\"attributes\":{\"name\":\"HSpacer00502\",\"stylesheets\":[\"\\n:host(.pn-loading):before, .pn-loading:before {\\n  background-color: #c3c3c3;\\n  mask-size: auto calc(min(50%, 400px));\\n  -webkit-mask-size: auto calc(min(50%, 400px));\\n}\",{\"id\":\"986de7ac-ad79-430f-ba31-905de1f167db\"},{\"id\":\"5bc9951a-cb15-4018-b388-a6bf03570815\"},{\"id\":\"c948e907-5a2e-427d-aede-de7a685daa2e\"}],\"margin\":0,\"sizing_mode\":\"stretch_width\",\"align\":\"start\"}}]}}],\"defs\":[{\"type\":\"model\",\"name\":\"ReactiveHTML1\"},{\"type\":\"model\",\"name\":\"FlexBox1\",\"properties\":[{\"name\":\"align_content\",\"kind\":\"Any\",\"default\":\"flex-start\"},{\"name\":\"align_items\",\"kind\":\"Any\",\"default\":\"flex-start\"},{\"name\":\"flex_direction\",\"kind\":\"Any\",\"default\":\"row\"},{\"name\":\"flex_wrap\",\"kind\":\"Any\",\"default\":\"wrap\"},{\"name\":\"gap\",\"kind\":\"Any\",\"default\":\"\"},{\"name\":\"justify_content\",\"kind\":\"Any\",\"default\":\"flex-start\"}]},{\"type\":\"model\",\"name\":\"FloatPanel1\",\"properties\":[{\"name\":\"config\",\"kind\":\"Any\",\"default\":{\"type\":\"map\"}},{\"name\":\"contained\",\"kind\":\"Any\",\"default\":true},{\"name\":\"position\",\"kind\":\"Any\",\"default\":\"right-top\"},{\"name\":\"offsetx\",\"kind\":\"Any\",\"default\":null},{\"name\":\"offsety\",\"kind\":\"Any\",\"default\":null},{\"name\":\"theme\",\"kind\":\"Any\",\"default\":\"primary\"},{\"name\":\"status\",\"kind\":\"Any\",\"default\":\"normalized\"}]},{\"type\":\"model\",\"name\":\"GridStack1\",\"properties\":[{\"name\":\"mode\",\"kind\":\"Any\",\"default\":\"warn\"},{\"name\":\"ncols\",\"kind\":\"Any\",\"default\":null},{\"name\":\"nrows\",\"kind\":\"Any\",\"default\":null},{\"name\":\"allow_resize\",\"kind\":\"Any\",\"default\":true},{\"name\":\"allow_drag\",\"kind\":\"Any\",\"default\":true},{\"name\":\"state\",\"kind\":\"Any\",\"default\":[]}]},{\"type\":\"model\",\"name\":\"drag1\",\"properties\":[{\"name\":\"slider_width\",\"kind\":\"Any\",\"default\":5},{\"name\":\"slider_color\",\"kind\":\"Any\",\"default\":\"black\"},{\"name\":\"value\",\"kind\":\"Any\",\"default\":50}]},{\"type\":\"model\",\"name\":\"click1\",\"properties\":[{\"name\":\"terminal_output\",\"kind\":\"Any\",\"default\":\"\"},{\"name\":\"debug_name\",\"kind\":\"Any\",\"default\":\"\"},{\"name\":\"clears\",\"kind\":\"Any\",\"default\":0}]},{\"type\":\"model\",\"name\":\"FastWrapper1\",\"properties\":[{\"name\":\"object\",\"kind\":\"Any\",\"default\":null},{\"name\":\"style\",\"kind\":\"Any\",\"default\":null}]},{\"type\":\"model\",\"name\":\"NotificationAreaBase1\",\"properties\":[{\"name\":\"js_events\",\"kind\":\"Any\",\"default\":{\"type\":\"map\"}},{\"name\":\"position\",\"kind\":\"Any\",\"default\":\"bottom-right\"},{\"name\":\"_clear\",\"kind\":\"Any\",\"default\":0}]},{\"type\":\"model\",\"name\":\"NotificationArea1\",\"properties\":[{\"name\":\"js_events\",\"kind\":\"Any\",\"default\":{\"type\":\"map\"}},{\"name\":\"notifications\",\"kind\":\"Any\",\"default\":[]},{\"name\":\"position\",\"kind\":\"Any\",\"default\":\"bottom-right\"},{\"name\":\"_clear\",\"kind\":\"Any\",\"default\":0},{\"name\":\"types\",\"kind\":\"Any\",\"default\":[{\"type\":\"map\",\"entries\":[[\"type\",\"warning\"],[\"background\",\"#ffc107\"],[\"icon\",{\"type\":\"map\",\"entries\":[[\"className\",\"fas fa-exclamation-triangle\"],[\"tagName\",\"i\"],[\"color\",\"white\"]]}]]},{\"type\":\"map\",\"entries\":[[\"type\",\"info\"],[\"background\",\"#007bff\"],[\"icon\",{\"type\":\"map\",\"entries\":[[\"className\",\"fas fa-info-circle\"],[\"tagName\",\"i\"],[\"color\",\"white\"]]}]]}]}]},{\"type\":\"model\",\"name\":\"Notification\",\"properties\":[{\"name\":\"background\",\"kind\":\"Any\",\"default\":null},{\"name\":\"duration\",\"kind\":\"Any\",\"default\":3000},{\"name\":\"icon\",\"kind\":\"Any\",\"default\":null},{\"name\":\"message\",\"kind\":\"Any\",\"default\":\"\"},{\"name\":\"notification_type\",\"kind\":\"Any\",\"default\":null},{\"name\":\"_destroyed\",\"kind\":\"Any\",\"default\":false}]},{\"type\":\"model\",\"name\":\"TemplateActions1\",\"properties\":[{\"name\":\"open_modal\",\"kind\":\"Any\",\"default\":0},{\"name\":\"close_modal\",\"kind\":\"Any\",\"default\":0}]},{\"type\":\"model\",\"name\":\"BootstrapTemplateActions1\",\"properties\":[{\"name\":\"open_modal\",\"kind\":\"Any\",\"default\":0},{\"name\":\"close_modal\",\"kind\":\"Any\",\"default\":0}]},{\"type\":\"model\",\"name\":\"TemplateEditor1\",\"properties\":[{\"name\":\"layout\",\"kind\":\"Any\",\"default\":[]}]},{\"type\":\"model\",\"name\":\"MaterialTemplateActions1\",\"properties\":[{\"name\":\"open_modal\",\"kind\":\"Any\",\"default\":0},{\"name\":\"close_modal\",\"kind\":\"Any\",\"default\":0}]},{\"type\":\"model\",\"name\":\"copy_to_clipboard1\",\"properties\":[{\"name\":\"fill\",\"kind\":\"Any\",\"default\":\"none\"},{\"name\":\"value\",\"kind\":\"Any\",\"default\":null}]}]}};\n",
       "  var render_items = [{\"docid\":\"f1fff89f-65d4-48ba-9a48-63f7920f7890\",\"roots\":{\"603fefb6-4daf-4c4e-b3d0-2df082b7dbe5\":\"cffd92e0-ed92-417f-8273-d57cb3cdb007\"},\"root_ids\":[\"603fefb6-4daf-4c4e-b3d0-2df082b7dbe5\"]}];\n",
       "  var docs = Object.values(docs_json)\n",
       "  if (!docs) {\n",
       "    return\n",
       "  }\n",
       "  const py_version = docs[0].version.replace('rc', '-rc.').replace('.dev', '-dev.')\n",
       "  async function embed_document(root) {\n",
       "    var Bokeh = get_bokeh(root)\n",
       "    await Bokeh.embed.embed_items_notebook(docs_json, render_items);\n",
       "    for (const render_item of render_items) {\n",
       "      for (const root_id of render_item.root_ids) {\n",
       "\tconst id_el = document.getElementById(root_id)\n",
       "\tif (id_el.children.length && id_el.children[0].hasAttribute('data-root-id')) {\n",
       "\t  const root_el = id_el.children[0]\n",
       "\t  root_el.id = root_el.id + '-rendered'\n",
       "\t  for (const child of root_el.children) {\n",
       "            // Ensure JupyterLab does not capture keyboard shortcuts\n",
       "            // see: https://jupyterlab.readthedocs.io/en/4.1.x/extension/notebook.html#keyboard-interaction-model\n",
       "\t    child.setAttribute('data-lm-suppress-shortcuts', 'true')\n",
       "\t  }\n",
       "\t}\n",
       "      }\n",
       "    }\n",
       "  }\n",
       "  function get_bokeh(root) {\n",
       "    if (root.Bokeh === undefined) {\n",
       "      return null\n",
       "    } else if (root.Bokeh.version !== py_version) {\n",
       "      if (root.Bokeh.versions === undefined || !root.Bokeh.versions.has(py_version)) {\n",
       "\treturn null\n",
       "      }\n",
       "      return root.Bokeh.versions.get(py_version);\n",
       "    } else if (root.Bokeh.version === py_version) {\n",
       "      return root.Bokeh\n",
       "    }\n",
       "    return null\n",
       "  }\n",
       "  function is_loaded(root) {\n",
       "    var Bokeh = get_bokeh(root)\n",
       "    return (Bokeh != null && Bokeh.Panel !== undefined)\n",
       "  }\n",
       "  if (is_loaded(root)) {\n",
       "    embed_document(root);\n",
       "  } else {\n",
       "    var attempts = 0;\n",
       "    var timer = setInterval(function(root) {\n",
       "      if (is_loaded(root)) {\n",
       "        clearInterval(timer);\n",
       "        embed_document(root);\n",
       "      } else if (document.readyState == \"complete\") {\n",
       "        attempts++;\n",
       "        if (attempts > 200) {\n",
       "          clearInterval(timer);\n",
       "\t  var Bokeh = get_bokeh(root)\n",
       "\t  if (Bokeh == null || Bokeh.Panel == null) {\n",
       "            console.warn(\"Panel: ERROR: Unable to run Panel code because Bokeh or Panel library is missing\");\n",
       "\t  } else {\n",
       "\t    console.warn(\"Panel: WARNING: Attempting to render but not all required libraries could be resolved.\")\n",
       "\t    embed_document(root)\n",
       "\t  }\n",
       "        }\n",
       "      }\n",
       "    }, 25, root)\n",
       "  }\n",
       "})(window);</script>"
      ],
      "text/plain": [
       ":NdOverlay   [Investimentos]\n",
       "   :Curve   [Ano]   (value)"
      ]
     },
     "execution_count": 7,
     "metadata": {
      "application/vnd.holoviews_exec.v0+json": {
       "id": "603fefb6-4daf-4c4e-b3d0-2df082b7dbe5"
      }
     },
     "output_type": "execute_result"
    }
   ],
   "source": [
    "fbcf_2"
   ]
  },
  {
   "cell_type": "markdown",
   "metadata": {
    "slideshow": {
     "slide_type": "slide"
    }
   },
   "source": [
    "## Governos subnacionais\n",
    "\n",
    "Outra forma de avaliar a evolução dos investimentos no período é pela distribuição entre as esferas da federação (exclusive estatais federais). "
   ]
  },
  {
   "cell_type": "markdown",
   "metadata": {
    "slideshow": {
     "slide_type": "fragment"
    }
   },
   "source": [
    "Nas décadas de 1960 e 1970, a taxa de investimento do governo central era substancialmente maior do que a dos governos subnacionais - por exemplo, em 1976, governo federal = 4,0%, governo estadual = 1,3%, governo municipal = 0,9% do PIB."
   ]
  },
  {
   "cell_type": "markdown",
   "metadata": {
    "slideshow": {
     "slide_type": "fragment"
    }
   },
   "source": [
    "Em 2005, a distância entre o governo central e os subnacionais já havia se estreitado: governo federal = 1,6%, governo estadual = 0,7%, governo municipal = 0,6%."
   ]
  },
  {
   "cell_type": "markdown",
   "metadata": {
    "slideshow": {
     "slide_type": "subslide"
    }
   },
   "source": [
    "Após 2006, houve novo aumento na participação do governo central no investimento total, mas que se revelou apenas temporário em meio à crise fiscal. Ver gráfico."
   ]
  },
  {
   "cell_type": "code",
   "execution_count": 8,
   "metadata": {
    "slideshow": {
     "slide_type": "notes"
    }
   },
   "outputs": [],
   "source": [
    "p = pd.read_excel('br_fbkf_1965_2021.xlsx')\n",
    "\n",
    "fbcf_3 = p.hvplot.line('Ano', ['Governo Central', 'Governo Estadual', 'Governo Municipal'],\n",
    "                       height=450,\n",
    "                       width=750,\n",
    "                       rot=0,\n",
    "                       padding=0.05,\n",
    "                       legend='bottom',\n",
    "                       group_label='Investimentos',\n",
    "                       ylim=(0, 5.5),\n",
    "                       yticks=12,\n",
    "                       xticks=18,\n",
    "                       xlabel='',\n",
    "                       ylabel='% do PIB',\n",
    "                       yformatter='%.1f',\n",
    "                       xlim=(1965, 2021),\n",
    "                       title='Investimentos (FBCF), Governo central e estatais, Brasil, 1965-2021 (% do PIB)'\n",
    "                      ).opts(fontsize={'title': 11, 'labels': 8, 'xticks': 8, 'yticks': 8})"
   ]
  },
  {
   "cell_type": "code",
   "execution_count": 9,
   "metadata": {
    "slideshow": {
     "slide_type": "slide"
    }
   },
   "outputs": [
    {
     "data": {},
     "metadata": {},
     "output_type": "display_data"
    },
    {
     "data": {
      "application/vnd.holoviews_exec.v0+json": "",
      "text/html": [
       "<div id='90290a60-8c38-475d-b9af-7abeb961bd94'>\n",
       "  <div id=\"e85b08e8-a474-44c5-992d-66f8997fc31c\" data-root-id=\"90290a60-8c38-475d-b9af-7abeb961bd94\" style=\"display: contents;\"></div>\n",
       "</div>\n",
       "<script type=\"application/javascript\">(function(root) {\n",
       "  var docs_json = {\"b8183dec-fea9-48ee-aadb-8b6bdafa5608\":{\"version\":\"3.4.2\",\"title\":\"Bokeh Application\",\"roots\":[{\"type\":\"object\",\"name\":\"Row\",\"id\":\"90290a60-8c38-475d-b9af-7abeb961bd94\",\"attributes\":{\"name\":\"Row00579\",\"tags\":[\"embedded\"],\"stylesheets\":[\"\\n:host(.pn-loading):before, .pn-loading:before {\\n  background-color: #c3c3c3;\\n  mask-size: auto calc(min(50%, 400px));\\n  -webkit-mask-size: auto calc(min(50%, 400px));\\n}\",{\"type\":\"object\",\"name\":\"ImportedStyleSheet\",\"id\":\"a4803d37-d236-4133-b89c-47f9b2304c90\",\"attributes\":{\"url\":\"https://cdn.holoviz.org/panel/1.4.5/dist/css/loading.css\"}},{\"type\":\"object\",\"name\":\"ImportedStyleSheet\",\"id\":\"41fce1ac-a33e-4563-83e3-aea93c5f243e\",\"attributes\":{\"url\":\"https://cdn.holoviz.org/panel/1.4.5/dist/css/listpanel.css\"}},{\"type\":\"object\",\"name\":\"ImportedStyleSheet\",\"id\":\"dd51e1c1-a976-43e3-9f44-684e3b89b091\",\"attributes\":{\"url\":\"https://cdn.holoviz.org/panel/1.4.5/dist/bundled/theme/default.css\"}},{\"type\":\"object\",\"name\":\"ImportedStyleSheet\",\"id\":\"99489e33-0d5f-4ca0-a320-4299045422dd\",\"attributes\":{\"url\":\"https://cdn.holoviz.org/panel/1.4.5/dist/bundled/theme/native.css\"}}],\"min_width\":750,\"margin\":0,\"sizing_mode\":\"stretch_width\",\"align\":\"start\",\"children\":[{\"type\":\"object\",\"name\":\"Spacer\",\"id\":\"e04af019-b61e-4fdd-823b-09854bb9a0a0\",\"attributes\":{\"name\":\"HSpacer00583\",\"stylesheets\":[\"\\n:host(.pn-loading):before, .pn-loading:before {\\n  background-color: #c3c3c3;\\n  mask-size: auto calc(min(50%, 400px));\\n  -webkit-mask-size: auto calc(min(50%, 400px));\\n}\",{\"id\":\"a4803d37-d236-4133-b89c-47f9b2304c90\"},{\"id\":\"dd51e1c1-a976-43e3-9f44-684e3b89b091\"},{\"id\":\"99489e33-0d5f-4ca0-a320-4299045422dd\"}],\"margin\":0,\"sizing_mode\":\"stretch_width\",\"align\":\"start\"}},{\"type\":\"object\",\"name\":\"Figure\",\"id\":\"03b8953e-53d0-4ee4-9d0b-449ab2cbd168\",\"attributes\":{\"width\":750,\"height\":450,\"margin\":[5,10],\"sizing_mode\":\"fixed\",\"align\":\"start\",\"x_range\":{\"type\":\"object\",\"name\":\"Range1d\",\"id\":\"38d56a85-910e-4463-90cd-d4c51996c8c0\",\"attributes\":{\"name\":\"Ano\",\"tags\":[[[\"Ano\",null]],[]],\"start\":1965,\"end\":2021,\"reset_start\":1965,\"reset_end\":2021}},\"y_range\":{\"type\":\"object\",\"name\":\"Range1d\",\"id\":\"03ea425e-70a1-4dc7-b552-1227c259e790\",\"attributes\":{\"name\":\"Governo Central\",\"tags\":[[[\"value\",null]],{\"type\":\"map\",\"entries\":[[\"invert_yaxis\",false],[\"autorange\",false]]}],\"end\":5.5,\"reset_start\":0,\"reset_end\":5.5}},\"x_scale\":{\"type\":\"object\",\"name\":\"LinearScale\",\"id\":\"f447e54a-9717-4b17-bc0a-c00a76a332d6\"},\"y_scale\":{\"type\":\"object\",\"name\":\"LinearScale\",\"id\":\"9dc98417-2fba-4f5c-9b0e-43004aa0de85\"},\"title\":{\"type\":\"object\",\"name\":\"Title\",\"id\":\"d1a24544-3a2f-4980-8505-3ed9626dcc9b\",\"attributes\":{\"text\":\"Investimentos (FBCF), Governo central e estatais, Brasil, 1965-2021 (% do PIB)\",\"text_color\":\"black\",\"text_font_size\":\"11pt\"}},\"renderers\":[{\"type\":\"object\",\"name\":\"GlyphRenderer\",\"id\":\"36983e2e-b3a8-4d59-bece-605fccdff080\",\"attributes\":{\"name\":\"Governo Central\",\"data_source\":{\"type\":\"object\",\"name\":\"ColumnDataSource\",\"id\":\"2261b088-3ed1-40a7-9ca7-baaf0f0a9b29\",\"attributes\":{\"selected\":{\"type\":\"object\",\"name\":\"Selection\",\"id\":\"6558a614-f135-4940-8342-efb8ad375b18\",\"attributes\":{\"indices\":[],\"line_indices\":[]}},\"selection_policy\":{\"type\":\"object\",\"name\":\"UnionRenderers\",\"id\":\"554a4249-51ac-415a-8ed8-d4e5e15a4c0a\"},\"data\":{\"type\":\"map\",\"entries\":[[\"Ano\",{\"type\":\"ndarray\",\"array\":{\"type\":\"bytes\",\"data\":\"rQcAAK4HAACvBwAAsAcAALEHAACyBwAAswcAALQHAAC1BwAAtgcAALcHAAC4BwAAuQcAALoHAAC7BwAAvAcAAL0HAAC+BwAAvwcAAMAHAADBBwAAwgcAAMMHAADEBwAAxQcAAMYHAADHBwAAyAcAAMkHAADKBwAAywcAAMwHAADNBwAAzgcAAM8HAADQBwAA0QcAANIHAADTBwAA1AcAANUHAADWBwAA1wcAANgHAADZBwAA2gcAANsHAADcBwAA3QcAAN4HAADfBwAA4AcAAOEHAADiBwAA4wcAAOQHAADlBwAA\"},\"shape\":[57],\"dtype\":\"int32\",\"order\":\"little\"}],[\"Governo Central\",{\"type\":\"ndarray\",\"array\":{\"type\":\"bytes\",\"data\":\"UmRqRfjrEkBHDFpyPS0QQKdHXVTxdxJAcJQhn5OREUAK7yn0tncVQKCvM3V8sRFAurkaOQ0jEUBAtTNwFhQPQE28ANqorQ1AFhKWYNbXDkCNF/zTXZMPQEzpZHSAIRBAdTG6YV9gCkBRyeE3qi8JQBHOOCuhyANAXgRIevC/AkAnoGBLmToFQIOckBgSgwNAYAv3jrth/j/h1UoQnTcAQAk6ivW/ygRAiX8z87JzCUBNqBZ54DwKQBQ/a3r0aQtAxvAwjOCDB0BjZFtp+9oNQDk0mxWtsgRAFQEEx6FLCUBCr/4Lm30IQLIUTKgilAlATfhNFvPkAUCcGqO0+l0CQB+zFSpSPwBAG7sND2C5BEDJiaMbSZz6P1/jqiLOcPw/3ddJb7NF/z8LRq0u5gsBQMkDJsi3DPg/C/HuNuh9+T936dZR4OD5PwU+KLib//4/LkhdT6sk/D8Y/B1cxSQBQFxDn7wL3gFALRDkwLrIBkA0hJ9rXz0CQKS+vp9FxwFAcYcl+ovTAUAP9/+ML6EDQCyrsrTSRvs/xpr4HlSC+D/IPG/bZSH0PxlixgNY5fU/UWsHSVU09D8pQ/Wr3pv4P3lyW9umRfY/\"},\"shape\":[57],\"dtype\":\"float64\",\"order\":\"little\"}],[\"Governo_Central\",{\"type\":\"ndarray\",\"array\":{\"type\":\"bytes\",\"data\":\"UmRqRfjrEkBHDFpyPS0QQKdHXVTxdxJAcJQhn5OREUAK7yn0tncVQKCvM3V8sRFAurkaOQ0jEUBAtTNwFhQPQE28ANqorQ1AFhKWYNbXDkCNF/zTXZMPQEzpZHSAIRBAdTG6YV9gCkBRyeE3qi8JQBHOOCuhyANAXgRIevC/AkAnoGBLmToFQIOckBgSgwNAYAv3jrth/j/h1UoQnTcAQAk6ivW/ygRAiX8z87JzCUBNqBZ54DwKQBQ/a3r0aQtAxvAwjOCDB0BjZFtp+9oNQDk0mxWtsgRAFQEEx6FLCUBCr/4Lm30IQLIUTKgilAlATfhNFvPkAUCcGqO0+l0CQB+zFSpSPwBAG7sND2C5BEDJiaMbSZz6P1/jqiLOcPw/3ddJb7NF/z8LRq0u5gsBQMkDJsi3DPg/C/HuNuh9+T936dZR4OD5PwU+KLib//4/LkhdT6sk/D8Y/B1cxSQBQFxDn7wL3gFALRDkwLrIBkA0hJ9rXz0CQKS+vp9FxwFAcYcl+ovTAUAP9/+ML6EDQCyrsrTSRvs/xpr4HlSC+D/IPG/bZSH0PxlixgNY5fU/UWsHSVU09D8pQ/Wr3pv4P3lyW9umRfY/\"},\"shape\":[57],\"dtype\":\"float64\",\"order\":\"little\"}],[\"Investimentos\",[\"Governo Central\",\"Governo Central\",\"Governo Central\",\"Governo Central\",\"Governo Central\",\"Governo Central\",\"Governo Central\",\"Governo Central\",\"Governo Central\",\"Governo Central\",\"Governo Central\",\"Governo Central\",\"Governo Central\",\"Governo Central\",\"Governo Central\",\"Governo Central\",\"Governo Central\",\"Governo Central\",\"Governo Central\",\"Governo Central\",\"Governo Central\",\"Governo Central\",\"Governo Central\",\"Governo Central\",\"Governo Central\",\"Governo Central\",\"Governo Central\",\"Governo Central\",\"Governo Central\",\"Governo Central\",\"Governo Central\",\"Governo Central\",\"Governo Central\",\"Governo Central\",\"Governo Central\",\"Governo Central\",\"Governo Central\",\"Governo Central\",\"Governo Central\",\"Governo Central\",\"Governo Central\",\"Governo Central\",\"Governo Central\",\"Governo Central\",\"Governo Central\",\"Governo Central\",\"Governo Central\",\"Governo Central\",\"Governo Central\",\"Governo Central\",\"Governo Central\",\"Governo Central\",\"Governo Central\",\"Governo Central\",\"Governo Central\",\"Governo Central\",\"Governo Central\"]]]}}},\"view\":{\"type\":\"object\",\"name\":\"CDSView\",\"id\":\"c9886b9f-657a-43d9-98db-51eb3a148471\",\"attributes\":{\"filter\":{\"type\":\"object\",\"name\":\"AllIndices\",\"id\":\"9926e605-405a-40c5-806e-2f3abb046ee8\"}}},\"glyph\":{\"type\":\"object\",\"name\":\"Line\",\"id\":\"8ff8b305-f007-49c3-8a7b-148430a8dda7\",\"attributes\":{\"tags\":[\"apply_ranges\"],\"x\":{\"type\":\"field\",\"field\":\"Ano\"},\"y\":{\"type\":\"field\",\"field\":\"Governo Central\"},\"line_color\":\"#30a2da\",\"line_width\":2}},\"selection_glyph\":{\"type\":\"object\",\"name\":\"Line\",\"id\":\"57bc6f6a-1a1c-4d50-af3a-c937799d86f5\",\"attributes\":{\"tags\":[\"apply_ranges\"],\"x\":{\"type\":\"field\",\"field\":\"Ano\"},\"y\":{\"type\":\"field\",\"field\":\"Governo Central\"},\"line_color\":\"#30a2da\",\"line_width\":2}},\"nonselection_glyph\":{\"type\":\"object\",\"name\":\"Line\",\"id\":\"06dd2d1a-cdcd-4606-a7b0-810529bb435e\",\"attributes\":{\"tags\":[\"apply_ranges\"],\"x\":{\"type\":\"field\",\"field\":\"Ano\"},\"y\":{\"type\":\"field\",\"field\":\"Governo Central\"},\"line_color\":\"#30a2da\",\"line_alpha\":0.1,\"line_width\":2}},\"muted_glyph\":{\"type\":\"object\",\"name\":\"Line\",\"id\":\"b5b51730-0df1-4207-ab56-9bce11263d7c\",\"attributes\":{\"tags\":[\"apply_ranges\"],\"x\":{\"type\":\"field\",\"field\":\"Ano\"},\"y\":{\"type\":\"field\",\"field\":\"Governo Central\"},\"line_color\":\"#30a2da\",\"line_alpha\":0.2,\"line_width\":2}}}},{\"type\":\"object\",\"name\":\"GlyphRenderer\",\"id\":\"37d3cefa-9e33-4d78-bf55-9c7091298aeb\",\"attributes\":{\"name\":\"Governo Estadual\",\"data_source\":{\"type\":\"object\",\"name\":\"ColumnDataSource\",\"id\":\"8caf9262-ddb5-4389-a774-9edda09f0560\",\"attributes\":{\"selected\":{\"type\":\"object\",\"name\":\"Selection\",\"id\":\"cc4e40c3-e3b7-4200-82f3-4836bd966d30\",\"attributes\":{\"indices\":[],\"line_indices\":[]}},\"selection_policy\":{\"type\":\"object\",\"name\":\"UnionRenderers\",\"id\":\"a0f5e609-1487-45f7-9999-c213d36fa01f\"},\"data\":{\"type\":\"map\",\"entries\":[[\"Ano\",{\"type\":\"ndarray\",\"array\":{\"type\":\"bytes\",\"data\":\"rQcAAK4HAACvBwAAsAcAALEHAACyBwAAswcAALQHAAC1BwAAtgcAALcHAAC4BwAAuQcAALoHAAC7BwAAvAcAAL0HAAC+BwAAvwcAAMAHAADBBwAAwgcAAMMHAADEBwAAxQcAAMYHAADHBwAAyAcAAMkHAADKBwAAywcAAMwHAADNBwAAzgcAAM8HAADQBwAA0QcAANIHAADTBwAA1AcAANUHAADWBwAA1wcAANgHAADZBwAA2gcAANsHAADcBwAA3QcAAN4HAADfBwAA4AcAAOEHAADiBwAA4wcAAOQHAADlBwAA\"},\"shape\":[57],\"dtype\":\"int32\",\"order\":\"little\"}],[\"Governo Estadual\",{\"type\":\"ndarray\",\"array\":{\"type\":\"bytes\",\"data\":\"Ayv946n8AUClOrl1vs78PyvlJ0V79vk/i2EED7TG+j/NhC3ndhIBQBGcFsNtxv0/94Yw0mY69j+lSIopSiL2PzrNgwlkDvc/khQPk5QK+T8iapCrsiD1P0oH80YcI/Q/WZbJ5XKs8z//Ma2ARiD0P77BNvm+H+4/CX75/4L97D/hF/rl5ijuP45gNEKeAvE/1A9g82zl6D/e68BMWfTqP5eFFO1XR/Q/FRchj4UZ+D90H62qwDH0P+V1MEh5nfQ/oTUy+z3j9D/MD/KoFaPvPw2Np/kUxfA/ZnqS6c2l9T9DGd2QohT4P7OBndT/0vU/6zaIVPjN4D/QaVuOZG3lP6w3vYVJR+o/Bl/ZfURP9D+EvNT1IK7hPwIQF9i1ZeY/BgHbtoWY6z/dCedUZ23nP2U3Gmzq+OE/LvY/QXIF4z/MVzf4RZ7lP8d3DaHVSuc/T/g3P2+s4D+YW5JsNSXmPx/6CS7cguw/GcQHTfPS8T9Fv7hdK0bpP0FOUZ0iBuc/ArEwKp3n7T/JQeN0vqXvP0ylDXs3kuI/nRoqrW/73j+6PJK5gwLgPzCAk/hda+A/mAY7OlsR1z+JaR+m3rXZP9P5wO8Um+I/\"},\"shape\":[57],\"dtype\":\"float64\",\"order\":\"little\"}],[\"Governo_Estadual\",{\"type\":\"ndarray\",\"array\":{\"type\":\"bytes\",\"data\":\"Ayv946n8AUClOrl1vs78PyvlJ0V79vk/i2EED7TG+j/NhC3ndhIBQBGcFsNtxv0/94Yw0mY69j+lSIopSiL2PzrNgwlkDvc/khQPk5QK+T8iapCrsiD1P0oH80YcI/Q/WZbJ5XKs8z//Ma2ARiD0P77BNvm+H+4/CX75/4L97D/hF/rl5ijuP45gNEKeAvE/1A9g82zl6D/e68BMWfTqP5eFFO1XR/Q/FRchj4UZ+D90H62qwDH0P+V1MEh5nfQ/oTUy+z3j9D/MD/KoFaPvPw2Np/kUxfA/ZnqS6c2l9T9DGd2QohT4P7OBndT/0vU/6zaIVPjN4D/QaVuOZG3lP6w3vYVJR+o/Bl/ZfURP9D+EvNT1IK7hPwIQF9i1ZeY/BgHbtoWY6z/dCedUZ23nP2U3Gmzq+OE/LvY/QXIF4z/MVzf4RZ7lP8d3DaHVSuc/T/g3P2+s4D+YW5JsNSXmPx/6CS7cguw/GcQHTfPS8T9Fv7hdK0bpP0FOUZ0iBuc/ArEwKp3n7T/JQeN0vqXvP0ylDXs3kuI/nRoqrW/73j+6PJK5gwLgPzCAk/hda+A/mAY7OlsR1z+JaR+m3rXZP9P5wO8Um+I/\"},\"shape\":[57],\"dtype\":\"float64\",\"order\":\"little\"}],[\"Investimentos\",[\"Governo Estadual\",\"Governo Estadual\",\"Governo Estadual\",\"Governo Estadual\",\"Governo Estadual\",\"Governo Estadual\",\"Governo Estadual\",\"Governo Estadual\",\"Governo Estadual\",\"Governo Estadual\",\"Governo Estadual\",\"Governo Estadual\",\"Governo Estadual\",\"Governo Estadual\",\"Governo Estadual\",\"Governo Estadual\",\"Governo Estadual\",\"Governo Estadual\",\"Governo Estadual\",\"Governo Estadual\",\"Governo Estadual\",\"Governo Estadual\",\"Governo Estadual\",\"Governo Estadual\",\"Governo Estadual\",\"Governo Estadual\",\"Governo Estadual\",\"Governo Estadual\",\"Governo Estadual\",\"Governo Estadual\",\"Governo Estadual\",\"Governo Estadual\",\"Governo Estadual\",\"Governo Estadual\",\"Governo Estadual\",\"Governo Estadual\",\"Governo Estadual\",\"Governo Estadual\",\"Governo Estadual\",\"Governo Estadual\",\"Governo Estadual\",\"Governo Estadual\",\"Governo Estadual\",\"Governo Estadual\",\"Governo Estadual\",\"Governo Estadual\",\"Governo Estadual\",\"Governo Estadual\",\"Governo Estadual\",\"Governo Estadual\",\"Governo Estadual\",\"Governo Estadual\",\"Governo Estadual\",\"Governo Estadual\",\"Governo Estadual\",\"Governo Estadual\",\"Governo Estadual\"]]]}}},\"view\":{\"type\":\"object\",\"name\":\"CDSView\",\"id\":\"c30a3622-4242-48f0-9df5-8e0b4ba8ad97\",\"attributes\":{\"filter\":{\"type\":\"object\",\"name\":\"AllIndices\",\"id\":\"8b3d0cb6-e369-4522-9bf9-5caa2f9d2fd5\"}}},\"glyph\":{\"type\":\"object\",\"name\":\"Line\",\"id\":\"070f5a3f-39d8-4d9b-a5de-9b75600872fc\",\"attributes\":{\"tags\":[\"apply_ranges\"],\"x\":{\"type\":\"field\",\"field\":\"Ano\"},\"y\":{\"type\":\"field\",\"field\":\"Governo Estadual\"},\"line_color\":\"#fc4f30\",\"line_width\":2}},\"selection_glyph\":{\"type\":\"object\",\"name\":\"Line\",\"id\":\"13c7a63c-ede9-4a34-a082-e1a5a1f1c5d6\",\"attributes\":{\"tags\":[\"apply_ranges\"],\"x\":{\"type\":\"field\",\"field\":\"Ano\"},\"y\":{\"type\":\"field\",\"field\":\"Governo Estadual\"},\"line_color\":\"#fc4f30\",\"line_width\":2}},\"nonselection_glyph\":{\"type\":\"object\",\"name\":\"Line\",\"id\":\"0e26f54a-4c85-433b-bca9-d36b39e43165\",\"attributes\":{\"tags\":[\"apply_ranges\"],\"x\":{\"type\":\"field\",\"field\":\"Ano\"},\"y\":{\"type\":\"field\",\"field\":\"Governo Estadual\"},\"line_color\":\"#fc4f30\",\"line_alpha\":0.1,\"line_width\":2}},\"muted_glyph\":{\"type\":\"object\",\"name\":\"Line\",\"id\":\"833e8224-e1a1-4107-85fa-1781ad30ee4a\",\"attributes\":{\"tags\":[\"apply_ranges\"],\"x\":{\"type\":\"field\",\"field\":\"Ano\"},\"y\":{\"type\":\"field\",\"field\":\"Governo Estadual\"},\"line_color\":\"#fc4f30\",\"line_alpha\":0.2,\"line_width\":2}}}},{\"type\":\"object\",\"name\":\"GlyphRenderer\",\"id\":\"3ff79218-5dae-403c-b2a0-5d408ba641f3\",\"attributes\":{\"name\":\"Governo Municipal\",\"data_source\":{\"type\":\"object\",\"name\":\"ColumnDataSource\",\"id\":\"be4fce77-4797-4b91-8326-1b02e2ffc054\",\"attributes\":{\"selected\":{\"type\":\"object\",\"name\":\"Selection\",\"id\":\"dbd7c862-b92a-4b48-970c-98094e131721\",\"attributes\":{\"indices\":[],\"line_indices\":[]}},\"selection_policy\":{\"type\":\"object\",\"name\":\"UnionRenderers\",\"id\":\"21ae6ac8-8374-48fc-99e1-4fdd7be321ae\"},\"data\":{\"type\":\"map\",\"entries\":[[\"Ano\",{\"type\":\"ndarray\",\"array\":{\"type\":\"bytes\",\"data\":\"rQcAAK4HAACvBwAAsAcAALEHAACyBwAAswcAALQHAAC1BwAAtgcAALcHAAC4BwAAuQcAALoHAAC7BwAAvAcAAL0HAAC+BwAAvwcAAMAHAADBBwAAwgcAAMMHAADEBwAAxQcAAMYHAADHBwAAyAcAAMkHAADKBwAAywcAAMwHAADNBwAAzgcAAM8HAADQBwAA0QcAANIHAADTBwAA1AcAANUHAADWBwAA1wcAANgHAADZBwAA2gcAANsHAADcBwAA3QcAAN4HAADfBwAA4AcAAOEHAADiBwAA4wcAAOQHAADlBwAA\"},\"shape\":[57],\"dtype\":\"int32\",\"order\":\"little\"}],[\"Governo Municipal\",{\"type\":\"ndarray\",\"array\":{\"type\":\"bytes\",\"data\":\"tt1ZQPrE4T8CGIKs5WThP+KafQndFe4/mum1cO+d8T+BsxlkeKzyP3afWgwJVe8/Hkb9ODQ68T8wRHdvJRDqP+VYS3I+zeQ/F4Ujhxd55T/Nkh7wbbrpPywIoQjpRus/KQJM5mUt6j/wX7rJxtfqP1P7eAmSs+c/13IgtDQp5z8iVwdPGe/mP8KPxiEDL+U/RPpGhfxl2T/BAMzwQqbgPyGdYD3tdOk/RHUg2cou6T/M3XrdqejrP6Z9KD2bqO8/ziTu3LdA5D+2Iaz04c/9PzhZHw5Hl+s/0xSeMwYe8z8kRoPMtKPtP0HLpMpsC/I/0F5oBFlJ8j+gyotoxwzyP9Y1hpuWwOU/qoS9Dfm26T8x87gGNr/oP7iABGKofeg/HRc+Yt7v5D93yBH2jGDuP6iqdv1i3+c/OHIqkY4a6T9HyOnrCIfjP3TaGvYId+o/ti8dBi4i6j+6k/54Cy7wP1TIQob84Oc/HAjFmiKT7D8x13jshEnrP+3LBj7eJ+4/W/nvEqRT5D+I/7Rbx+jnP9bsCfX0TuU/4/O1wxPf5D9fvBPf5uLXP9FHm7X9Wd4/WOdwYV7g4T9lS+DRzNnpP9gTO9U1rOE/\"},\"shape\":[57],\"dtype\":\"float64\",\"order\":\"little\"}],[\"Governo_Municipal\",{\"type\":\"ndarray\",\"array\":{\"type\":\"bytes\",\"data\":\"tt1ZQPrE4T8CGIKs5WThP+KafQndFe4/mum1cO+d8T+BsxlkeKzyP3afWgwJVe8/Hkb9ODQ68T8wRHdvJRDqP+VYS3I+zeQ/F4Ujhxd55T/Nkh7wbbrpPywIoQjpRus/KQJM5mUt6j/wX7rJxtfqP1P7eAmSs+c/13IgtDQp5z8iVwdPGe/mP8KPxiEDL+U/RPpGhfxl2T/BAMzwQqbgPyGdYD3tdOk/RHUg2cou6T/M3XrdqejrP6Z9KD2bqO8/ziTu3LdA5D+2Iaz04c/9PzhZHw5Hl+s/0xSeMwYe8z8kRoPMtKPtP0HLpMpsC/I/0F5oBFlJ8j+gyotoxwzyP9Y1hpuWwOU/qoS9Dfm26T8x87gGNr/oP7iABGKofeg/HRc+Yt7v5D93yBH2jGDuP6iqdv1i3+c/OHIqkY4a6T9HyOnrCIfjP3TaGvYId+o/ti8dBi4i6j+6k/54Cy7wP1TIQob84Oc/HAjFmiKT7D8x13jshEnrP+3LBj7eJ+4/W/nvEqRT5D+I/7Rbx+jnP9bsCfX0TuU/4/O1wxPf5D9fvBPf5uLXP9FHm7X9Wd4/WOdwYV7g4T9lS+DRzNnpP9gTO9U1rOE/\"},\"shape\":[57],\"dtype\":\"float64\",\"order\":\"little\"}],[\"Investimentos\",[\"Governo Municipal\",\"Governo Municipal\",\"Governo Municipal\",\"Governo Municipal\",\"Governo Municipal\",\"Governo Municipal\",\"Governo Municipal\",\"Governo Municipal\",\"Governo Municipal\",\"Governo Municipal\",\"Governo Municipal\",\"Governo Municipal\",\"Governo Municipal\",\"Governo Municipal\",\"Governo Municipal\",\"Governo Municipal\",\"Governo Municipal\",\"Governo Municipal\",\"Governo Municipal\",\"Governo Municipal\",\"Governo Municipal\",\"Governo Municipal\",\"Governo Municipal\",\"Governo Municipal\",\"Governo Municipal\",\"Governo Municipal\",\"Governo Municipal\",\"Governo Municipal\",\"Governo Municipal\",\"Governo Municipal\",\"Governo Municipal\",\"Governo Municipal\",\"Governo Municipal\",\"Governo Municipal\",\"Governo Municipal\",\"Governo Municipal\",\"Governo Municipal\",\"Governo Municipal\",\"Governo Municipal\",\"Governo Municipal\",\"Governo Municipal\",\"Governo Municipal\",\"Governo Municipal\",\"Governo Municipal\",\"Governo Municipal\",\"Governo Municipal\",\"Governo Municipal\",\"Governo Municipal\",\"Governo Municipal\",\"Governo Municipal\",\"Governo Municipal\",\"Governo Municipal\",\"Governo Municipal\",\"Governo Municipal\",\"Governo Municipal\",\"Governo Municipal\",\"Governo Municipal\"]]]}}},\"view\":{\"type\":\"object\",\"name\":\"CDSView\",\"id\":\"5c6d8c8b-719c-49ba-ac2d-a8d6c9549936\",\"attributes\":{\"filter\":{\"type\":\"object\",\"name\":\"AllIndices\",\"id\":\"18056ed5-1bcb-4df1-a0cc-398c3ac5ad4f\"}}},\"glyph\":{\"type\":\"object\",\"name\":\"Line\",\"id\":\"96a7a9d9-b4e3-482d-be62-f4e8ddb1ce6d\",\"attributes\":{\"tags\":[\"apply_ranges\"],\"x\":{\"type\":\"field\",\"field\":\"Ano\"},\"y\":{\"type\":\"field\",\"field\":\"Governo Municipal\"},\"line_color\":\"#e5ae38\",\"line_width\":2}},\"selection_glyph\":{\"type\":\"object\",\"name\":\"Line\",\"id\":\"68552aab-aa3c-4fc7-9248-5bbfe3cf714c\",\"attributes\":{\"tags\":[\"apply_ranges\"],\"x\":{\"type\":\"field\",\"field\":\"Ano\"},\"y\":{\"type\":\"field\",\"field\":\"Governo Municipal\"},\"line_color\":\"#e5ae38\",\"line_width\":2}},\"nonselection_glyph\":{\"type\":\"object\",\"name\":\"Line\",\"id\":\"faafb021-c63c-4e84-acb9-5fb761737e41\",\"attributes\":{\"tags\":[\"apply_ranges\"],\"x\":{\"type\":\"field\",\"field\":\"Ano\"},\"y\":{\"type\":\"field\",\"field\":\"Governo Municipal\"},\"line_color\":\"#e5ae38\",\"line_alpha\":0.1,\"line_width\":2}},\"muted_glyph\":{\"type\":\"object\",\"name\":\"Line\",\"id\":\"f1931e52-903f-423b-a3aa-85ebcdcf5be7\",\"attributes\":{\"tags\":[\"apply_ranges\"],\"x\":{\"type\":\"field\",\"field\":\"Ano\"},\"y\":{\"type\":\"field\",\"field\":\"Governo Municipal\"},\"line_color\":\"#e5ae38\",\"line_alpha\":0.2,\"line_width\":2}}}}],\"toolbar\":{\"type\":\"object\",\"name\":\"Toolbar\",\"id\":\"80fdde5f-0a1e-4fce-95ac-82a9a63513b6\",\"attributes\":{\"tools\":[{\"type\":\"object\",\"name\":\"WheelZoomTool\",\"id\":\"3513508f-2ef2-4ab8-b68d-4b4047907183\",\"attributes\":{\"tags\":[\"hv_created\"],\"renderers\":\"auto\",\"zoom_together\":\"none\"}},{\"type\":\"object\",\"name\":\"HoverTool\",\"id\":\"73d257ed-ac13-4d34-933f-eeb22d740fed\",\"attributes\":{\"tags\":[\"hv_created\"],\"renderers\":[{\"id\":\"36983e2e-b3a8-4d59-bece-605fccdff080\"}],\"tooltips\":[[\"Investimentos\",\"@{Investimentos}\"],[\"Ano\",\"@{Ano}\"],[\"value\",\"@{Governo_Central}\"]]}},{\"type\":\"object\",\"name\":\"HoverTool\",\"id\":\"a06815b4-bbdc-40a7-b5af-bf7368c6ba98\",\"attributes\":{\"tags\":[\"hv_created\"],\"renderers\":[{\"id\":\"37d3cefa-9e33-4d78-bf55-9c7091298aeb\"}],\"tooltips\":[[\"Investimentos\",\"@{Investimentos}\"],[\"Ano\",\"@{Ano}\"],[\"value\",\"@{Governo_Estadual}\"]]}},{\"type\":\"object\",\"name\":\"HoverTool\",\"id\":\"c51d0d4b-d4e2-4fe1-b7da-dcf19b49736e\",\"attributes\":{\"tags\":[\"hv_created\"],\"renderers\":[{\"id\":\"3ff79218-5dae-403c-b2a0-5d408ba641f3\"}],\"tooltips\":[[\"Investimentos\",\"@{Investimentos}\"],[\"Ano\",\"@{Ano}\"],[\"value\",\"@{Governo_Municipal}\"]]}},{\"type\":\"object\",\"name\":\"SaveTool\",\"id\":\"8b2cc2b0-44ac-4f91-be31-7b791fb3f841\"},{\"type\":\"object\",\"name\":\"PanTool\",\"id\":\"c8d521a5-5a65-4282-8347-87c3f44978d2\"},{\"type\":\"object\",\"name\":\"BoxZoomTool\",\"id\":\"588265da-22fd-487f-9d3a-1eb2f5bd09a3\",\"attributes\":{\"overlay\":{\"type\":\"object\",\"name\":\"BoxAnnotation\",\"id\":\"4fb7ec04-5be8-474d-9e28-bc8a8653dbff\",\"attributes\":{\"syncable\":false,\"level\":\"overlay\",\"visible\":false,\"left\":{\"type\":\"number\",\"value\":\"nan\"},\"right\":{\"type\":\"number\",\"value\":\"nan\"},\"top\":{\"type\":\"number\",\"value\":\"nan\"},\"bottom\":{\"type\":\"number\",\"value\":\"nan\"},\"left_units\":\"canvas\",\"right_units\":\"canvas\",\"top_units\":\"canvas\",\"bottom_units\":\"canvas\",\"line_color\":\"black\",\"line_alpha\":1.0,\"line_width\":2,\"line_dash\":[4,4],\"fill_color\":\"lightgrey\",\"fill_alpha\":0.5}}}},{\"type\":\"object\",\"name\":\"ResetTool\",\"id\":\"767af018-bad3-4f60-bc08-4157b0cf5793\"}],\"active_drag\":{\"id\":\"c8d521a5-5a65-4282-8347-87c3f44978d2\"},\"active_scroll\":{\"id\":\"3513508f-2ef2-4ab8-b68d-4b4047907183\"}}},\"left\":[{\"type\":\"object\",\"name\":\"LinearAxis\",\"id\":\"8d17355b-f2ff-47bf-acad-456c95a40e98\",\"attributes\":{\"ticker\":{\"type\":\"object\",\"name\":\"BasicTicker\",\"id\":\"2648f2cb-5df8-4ee8-84ff-32ad7baf0481\",\"attributes\":{\"desired_num_ticks\":12,\"mantissas\":[1,2,5]}},\"formatter\":{\"type\":\"object\",\"name\":\"PrintfTickFormatter\",\"id\":\"0c08b532-6bbe-410f-a60e-fd5c32d53a80\",\"attributes\":{\"format\":\"%.1f\"}},\"axis_label\":\"% do PIB\",\"axis_label_text_font_size\":\"8pt\",\"major_label_policy\":{\"type\":\"object\",\"name\":\"AllLabels\",\"id\":\"ba02fa60-9260-4442-b40d-f8475fd12ad0\"},\"major_label_text_font_size\":\"8pt\"}}],\"below\":[{\"type\":\"object\",\"name\":\"LinearAxis\",\"id\":\"6e880c11-e4d4-4aab-872d-cc9dc8af25a9\",\"attributes\":{\"ticker\":{\"type\":\"object\",\"name\":\"BasicTicker\",\"id\":\"8bea5f81-393a-4de6-809c-15fe98d166cc\",\"attributes\":{\"desired_num_ticks\":18,\"mantissas\":[1,2,5]}},\"formatter\":{\"type\":\"object\",\"name\":\"BasicTickFormatter\",\"id\":\"e05f0b52-0803-4d26-b5fe-13e09a00c385\"},\"axis_label\":\"\",\"axis_label_text_font_size\":\"8pt\",\"major_label_policy\":{\"type\":\"object\",\"name\":\"AllLabels\",\"id\":\"4537fc06-45b5-47fd-879e-005df1f8670b\"},\"major_label_text_font_size\":\"8pt\"}},{\"type\":\"object\",\"name\":\"Legend\",\"id\":\"6e93161d-3398-47d1-b0c0-7c36e2f43757\",\"attributes\":{\"location\":[0,0],\"orientation\":\"horizontal\",\"title\":\"Investimentos\",\"click_policy\":\"mute\",\"items\":[{\"type\":\"object\",\"name\":\"LegendItem\",\"id\":\"8fd10c16-214f-483b-88db-a2f446881e1b\",\"attributes\":{\"label\":{\"type\":\"value\",\"value\":\"Governo Central\"},\"renderers\":[{\"id\":\"36983e2e-b3a8-4d59-bece-605fccdff080\"}]}},{\"type\":\"object\",\"name\":\"LegendItem\",\"id\":\"bc399ed7-1fdd-4781-b4ed-bc5df3a361c1\",\"attributes\":{\"label\":{\"type\":\"value\",\"value\":\"Governo Estadual\"},\"renderers\":[{\"id\":\"37d3cefa-9e33-4d78-bf55-9c7091298aeb\"}]}},{\"type\":\"object\",\"name\":\"LegendItem\",\"id\":\"834b21bd-d878-41aa-bad3-23a34838aa19\",\"attributes\":{\"label\":{\"type\":\"value\",\"value\":\"Governo Municipal\"},\"renderers\":[{\"id\":\"3ff79218-5dae-403c-b2a0-5d408ba641f3\"}]}}]}}],\"center\":[{\"type\":\"object\",\"name\":\"Grid\",\"id\":\"791861a3-4302-481a-a868-3f35cb797c23\",\"attributes\":{\"axis\":{\"id\":\"6e880c11-e4d4-4aab-872d-cc9dc8af25a9\"},\"grid_line_color\":null}},{\"type\":\"object\",\"name\":\"Grid\",\"id\":\"dafa764c-bea9-4ce3-8a78-7f0ba644f45c\",\"attributes\":{\"dimension\":1,\"axis\":{\"id\":\"8d17355b-f2ff-47bf-acad-456c95a40e98\"},\"grid_line_color\":null}}],\"min_border_top\":10,\"min_border_bottom\":10,\"min_border_left\":10,\"min_border_right\":10,\"output_backend\":\"webgl\"}},{\"type\":\"object\",\"name\":\"Spacer\",\"id\":\"b4f004ce-e15e-48c2-a89e-aaff3ce25f01\",\"attributes\":{\"name\":\"HSpacer00584\",\"stylesheets\":[\"\\n:host(.pn-loading):before, .pn-loading:before {\\n  background-color: #c3c3c3;\\n  mask-size: auto calc(min(50%, 400px));\\n  -webkit-mask-size: auto calc(min(50%, 400px));\\n}\",{\"id\":\"a4803d37-d236-4133-b89c-47f9b2304c90\"},{\"id\":\"dd51e1c1-a976-43e3-9f44-684e3b89b091\"},{\"id\":\"99489e33-0d5f-4ca0-a320-4299045422dd\"}],\"margin\":0,\"sizing_mode\":\"stretch_width\",\"align\":\"start\"}}]}}],\"defs\":[{\"type\":\"model\",\"name\":\"ReactiveHTML1\"},{\"type\":\"model\",\"name\":\"FlexBox1\",\"properties\":[{\"name\":\"align_content\",\"kind\":\"Any\",\"default\":\"flex-start\"},{\"name\":\"align_items\",\"kind\":\"Any\",\"default\":\"flex-start\"},{\"name\":\"flex_direction\",\"kind\":\"Any\",\"default\":\"row\"},{\"name\":\"flex_wrap\",\"kind\":\"Any\",\"default\":\"wrap\"},{\"name\":\"gap\",\"kind\":\"Any\",\"default\":\"\"},{\"name\":\"justify_content\",\"kind\":\"Any\",\"default\":\"flex-start\"}]},{\"type\":\"model\",\"name\":\"FloatPanel1\",\"properties\":[{\"name\":\"config\",\"kind\":\"Any\",\"default\":{\"type\":\"map\"}},{\"name\":\"contained\",\"kind\":\"Any\",\"default\":true},{\"name\":\"position\",\"kind\":\"Any\",\"default\":\"right-top\"},{\"name\":\"offsetx\",\"kind\":\"Any\",\"default\":null},{\"name\":\"offsety\",\"kind\":\"Any\",\"default\":null},{\"name\":\"theme\",\"kind\":\"Any\",\"default\":\"primary\"},{\"name\":\"status\",\"kind\":\"Any\",\"default\":\"normalized\"}]},{\"type\":\"model\",\"name\":\"GridStack1\",\"properties\":[{\"name\":\"mode\",\"kind\":\"Any\",\"default\":\"warn\"},{\"name\":\"ncols\",\"kind\":\"Any\",\"default\":null},{\"name\":\"nrows\",\"kind\":\"Any\",\"default\":null},{\"name\":\"allow_resize\",\"kind\":\"Any\",\"default\":true},{\"name\":\"allow_drag\",\"kind\":\"Any\",\"default\":true},{\"name\":\"state\",\"kind\":\"Any\",\"default\":[]}]},{\"type\":\"model\",\"name\":\"drag1\",\"properties\":[{\"name\":\"slider_width\",\"kind\":\"Any\",\"default\":5},{\"name\":\"slider_color\",\"kind\":\"Any\",\"default\":\"black\"},{\"name\":\"value\",\"kind\":\"Any\",\"default\":50}]},{\"type\":\"model\",\"name\":\"click1\",\"properties\":[{\"name\":\"terminal_output\",\"kind\":\"Any\",\"default\":\"\"},{\"name\":\"debug_name\",\"kind\":\"Any\",\"default\":\"\"},{\"name\":\"clears\",\"kind\":\"Any\",\"default\":0}]},{\"type\":\"model\",\"name\":\"FastWrapper1\",\"properties\":[{\"name\":\"object\",\"kind\":\"Any\",\"default\":null},{\"name\":\"style\",\"kind\":\"Any\",\"default\":null}]},{\"type\":\"model\",\"name\":\"NotificationAreaBase1\",\"properties\":[{\"name\":\"js_events\",\"kind\":\"Any\",\"default\":{\"type\":\"map\"}},{\"name\":\"position\",\"kind\":\"Any\",\"default\":\"bottom-right\"},{\"name\":\"_clear\",\"kind\":\"Any\",\"default\":0}]},{\"type\":\"model\",\"name\":\"NotificationArea1\",\"properties\":[{\"name\":\"js_events\",\"kind\":\"Any\",\"default\":{\"type\":\"map\"}},{\"name\":\"notifications\",\"kind\":\"Any\",\"default\":[]},{\"name\":\"position\",\"kind\":\"Any\",\"default\":\"bottom-right\"},{\"name\":\"_clear\",\"kind\":\"Any\",\"default\":0},{\"name\":\"types\",\"kind\":\"Any\",\"default\":[{\"type\":\"map\",\"entries\":[[\"type\",\"warning\"],[\"background\",\"#ffc107\"],[\"icon\",{\"type\":\"map\",\"entries\":[[\"className\",\"fas fa-exclamation-triangle\"],[\"tagName\",\"i\"],[\"color\",\"white\"]]}]]},{\"type\":\"map\",\"entries\":[[\"type\",\"info\"],[\"background\",\"#007bff\"],[\"icon\",{\"type\":\"map\",\"entries\":[[\"className\",\"fas fa-info-circle\"],[\"tagName\",\"i\"],[\"color\",\"white\"]]}]]}]}]},{\"type\":\"model\",\"name\":\"Notification\",\"properties\":[{\"name\":\"background\",\"kind\":\"Any\",\"default\":null},{\"name\":\"duration\",\"kind\":\"Any\",\"default\":3000},{\"name\":\"icon\",\"kind\":\"Any\",\"default\":null},{\"name\":\"message\",\"kind\":\"Any\",\"default\":\"\"},{\"name\":\"notification_type\",\"kind\":\"Any\",\"default\":null},{\"name\":\"_destroyed\",\"kind\":\"Any\",\"default\":false}]},{\"type\":\"model\",\"name\":\"TemplateActions1\",\"properties\":[{\"name\":\"open_modal\",\"kind\":\"Any\",\"default\":0},{\"name\":\"close_modal\",\"kind\":\"Any\",\"default\":0}]},{\"type\":\"model\",\"name\":\"BootstrapTemplateActions1\",\"properties\":[{\"name\":\"open_modal\",\"kind\":\"Any\",\"default\":0},{\"name\":\"close_modal\",\"kind\":\"Any\",\"default\":0}]},{\"type\":\"model\",\"name\":\"TemplateEditor1\",\"properties\":[{\"name\":\"layout\",\"kind\":\"Any\",\"default\":[]}]},{\"type\":\"model\",\"name\":\"MaterialTemplateActions1\",\"properties\":[{\"name\":\"open_modal\",\"kind\":\"Any\",\"default\":0},{\"name\":\"close_modal\",\"kind\":\"Any\",\"default\":0}]},{\"type\":\"model\",\"name\":\"copy_to_clipboard1\",\"properties\":[{\"name\":\"fill\",\"kind\":\"Any\",\"default\":\"none\"},{\"name\":\"value\",\"kind\":\"Any\",\"default\":null}]}]}};\n",
       "  var render_items = [{\"docid\":\"b8183dec-fea9-48ee-aadb-8b6bdafa5608\",\"roots\":{\"90290a60-8c38-475d-b9af-7abeb961bd94\":\"e85b08e8-a474-44c5-992d-66f8997fc31c\"},\"root_ids\":[\"90290a60-8c38-475d-b9af-7abeb961bd94\"]}];\n",
       "  var docs = Object.values(docs_json)\n",
       "  if (!docs) {\n",
       "    return\n",
       "  }\n",
       "  const py_version = docs[0].version.replace('rc', '-rc.').replace('.dev', '-dev.')\n",
       "  async function embed_document(root) {\n",
       "    var Bokeh = get_bokeh(root)\n",
       "    await Bokeh.embed.embed_items_notebook(docs_json, render_items);\n",
       "    for (const render_item of render_items) {\n",
       "      for (const root_id of render_item.root_ids) {\n",
       "\tconst id_el = document.getElementById(root_id)\n",
       "\tif (id_el.children.length && id_el.children[0].hasAttribute('data-root-id')) {\n",
       "\t  const root_el = id_el.children[0]\n",
       "\t  root_el.id = root_el.id + '-rendered'\n",
       "\t  for (const child of root_el.children) {\n",
       "            // Ensure JupyterLab does not capture keyboard shortcuts\n",
       "            // see: https://jupyterlab.readthedocs.io/en/4.1.x/extension/notebook.html#keyboard-interaction-model\n",
       "\t    child.setAttribute('data-lm-suppress-shortcuts', 'true')\n",
       "\t  }\n",
       "\t}\n",
       "      }\n",
       "    }\n",
       "  }\n",
       "  function get_bokeh(root) {\n",
       "    if (root.Bokeh === undefined) {\n",
       "      return null\n",
       "    } else if (root.Bokeh.version !== py_version) {\n",
       "      if (root.Bokeh.versions === undefined || !root.Bokeh.versions.has(py_version)) {\n",
       "\treturn null\n",
       "      }\n",
       "      return root.Bokeh.versions.get(py_version);\n",
       "    } else if (root.Bokeh.version === py_version) {\n",
       "      return root.Bokeh\n",
       "    }\n",
       "    return null\n",
       "  }\n",
       "  function is_loaded(root) {\n",
       "    var Bokeh = get_bokeh(root)\n",
       "    return (Bokeh != null && Bokeh.Panel !== undefined)\n",
       "  }\n",
       "  if (is_loaded(root)) {\n",
       "    embed_document(root);\n",
       "  } else {\n",
       "    var attempts = 0;\n",
       "    var timer = setInterval(function(root) {\n",
       "      if (is_loaded(root)) {\n",
       "        clearInterval(timer);\n",
       "        embed_document(root);\n",
       "      } else if (document.readyState == \"complete\") {\n",
       "        attempts++;\n",
       "        if (attempts > 200) {\n",
       "          clearInterval(timer);\n",
       "\t  var Bokeh = get_bokeh(root)\n",
       "\t  if (Bokeh == null || Bokeh.Panel == null) {\n",
       "            console.warn(\"Panel: ERROR: Unable to run Panel code because Bokeh or Panel library is missing\");\n",
       "\t  } else {\n",
       "\t    console.warn(\"Panel: WARNING: Attempting to render but not all required libraries could be resolved.\")\n",
       "\t    embed_document(root)\n",
       "\t  }\n",
       "        }\n",
       "      }\n",
       "    }, 25, root)\n",
       "  }\n",
       "})(window);</script>"
      ],
      "text/plain": [
       ":NdOverlay   [Investimentos]\n",
       "   :Curve   [Ano]   (value)"
      ]
     },
     "execution_count": 9,
     "metadata": {
      "application/vnd.holoviews_exec.v0+json": {
       "id": "90290a60-8c38-475d-b9af-7abeb961bd94"
      }
     },
     "output_type": "execute_result"
    }
   ],
   "source": [
    "fbcf_3"
   ]
  },
  {
   "cell_type": "markdown",
   "metadata": {
    "slideshow": {
     "slide_type": "slide"
    }
   },
   "source": [
    "## Commodities e crescimento\n",
    "\n",
    "Agora, o *setor externo*. Como já visto antes, um fator que pode ter afetado positivamente o crescimento dos países da América Latina nos anos 2000 e 2010 foi o aumento dos preços das *commodities* (produtos agrícolas e minerais)."
   ]
  },
  {
   "cell_type": "markdown",
   "metadata": {
    "slideshow": {
     "slide_type": "fragment"
    }
   },
   "source": [
    "Em que medida os países da América Latina se beneficiaram do chamado *boom* das commodities? Ver o caso do Brasil abaixo. Observando-se os resultados dos *termos de troca* na região, o Brasil claramente beneficiou-se da expansão do comércio internacional entre 2003-2013. "
   ]
  },
  {
   "cell_type": "markdown",
   "metadata": {
    "slideshow": {
     "slide_type": "fragment"
    }
   },
   "source": [
    "Outro indicador: em termos de *participação relativa nas exportações globais*, houve reversão na queda do Brasil ocorrida nos anos 1980 até meados da década de 2000. Mesmo assim, o percentual (1% das exportações globais) de 2005-2010 foi o mesmo alcançado em 1981-1985. Comparar com Índia e China, por exemplo."
   ]
  },
  {
   "cell_type": "markdown",
   "metadata": {
    "slideshow": {
     "slide_type": "slide"
    }
   },
   "source": [
    "## <center>Efeito dos termos de troca, América Latina</center>\n",
    "\n",
    "<center><img src=\"al_trade_gains.png\" width=\"600\" height=\"450\"></center>"
   ]
  },
  {
   "cell_type": "markdown",
   "metadata": {
    "slideshow": {
     "slide_type": "slide"
    }
   },
   "source": [
    "## <center>Participação nas exportações globais</center>\n",
    "\n",
    "<center><img src=\"al_exports_brics.png\" width=\"700\" height=\"450\"></center>"
   ]
  },
  {
   "cell_type": "markdown",
   "metadata": {
    "slideshow": {
     "slide_type": "slide"
    }
   },
   "source": [
    "## Crescimento comparado\n",
    "\n",
    "Apesar do efeito positivo dos preços externos e do comércio, o crescimento econômico do Brasil ficou distante do obtido pelas economias mais dinâmicas internacionalmente."
   ]
  },
  {
   "cell_type": "markdown",
   "metadata": {
    "slideshow": {
     "slide_type": "fragment"
    }
   },
   "source": [
    "Mesmo na região, o crescimento econômico do Brasil nas décadas de 2000 e 2010 permaneceu abaixo da média de outros países."
   ]
  },
  {
   "cell_type": "markdown",
   "metadata": {
    "slideshow": {
     "slide_type": "fragment"
    }
   },
   "source": [
    "Ver as comparações com a média da América Latina e de subregiões abaixo."
   ]
  },
  {
   "cell_type": "markdown",
   "metadata": {
    "slideshow": {
     "slide_type": "slide"
    }
   },
   "source": [
    "## <center>Crescimento comparado na América Latina</center>\n",
    "\n",
    "<center><img src=\"al_crescimento_pib.png\" width=\"900\" height=\"450\"></center>"
   ]
  },
  {
   "cell_type": "markdown",
   "metadata": {
    "slideshow": {
     "slide_type": "slide"
    }
   },
   "source": [
    "## Conteúdo tecnológico\n",
    "\n",
    "Vejamos agora os resultados de indicadores que medem o desempenho econômico do Brasil pelo ângulo das *mudanças estruturais*."
   ]
  },
  {
   "cell_type": "markdown",
   "metadata": {
    "slideshow": {
     "slide_type": "fragment"
    }
   },
   "source": [
    "A figura abaixo mostra que o conteúdo tecnológico das exportações brasileiras mudou substancialmente entre as décadas de 1960 e 1980 (ver definição)."
   ]
  },
  {
   "cell_type": "markdown",
   "metadata": {
    "slideshow": {
     "slide_type": "fragment"
    }
   },
   "source": [
    "Após 1990, a estrutura manteve-se similar à alcançada até então, com participação ainda maior das exportações de alta tecnologia."
   ]
  },
  {
   "cell_type": "markdown",
   "metadata": {
    "slideshow": {
     "slide_type": "subslide"
    }
   },
   "source": [
    "Dúvida: como interpretar esse resultado diante da estagnação global da produtividade da indústria, que veremos em seguida?"
   ]
  },
  {
   "cell_type": "markdown",
   "metadata": {
    "slideshow": {
     "slide_type": "subslide"
    }
   },
   "source": [
    "## <center>Conteúdo tecnológico das exportações, Brasil</center>\n",
    "\n",
    "<center><img src=\"br_exp_tech.png\" width=\"900\" height=\"450\"></center>"
   ]
  },
  {
   "cell_type": "markdown",
   "metadata": {
    "slideshow": {
     "slide_type": "slide"
    }
   },
   "source": [
    "## Produtividade comparada\n",
    "\n",
    "Podemos ver agora o desempenho da *produtividade do trabalho* do Brasil no longo prazo, primeiro em termos comparativos. "
   ]
  },
  {
   "cell_type": "markdown",
   "metadata": {
    "slideshow": {
     "slide_type": "fragment"
    }
   },
   "source": [
    "O ano de 1980 (possivelmente um pouco antes) marcou uma inflexão no crescimento da produtividade do trabalho."
   ]
  },
  {
   "cell_type": "markdown",
   "metadata": {
    "slideshow": {
     "slide_type": "fragment"
    }
   },
   "source": [
    "Abaixo uma figura comparando Brasil com Coreia do Sul diretamente e ambos em relação aos Estados Unidos. "
   ]
  },
  {
   "cell_type": "markdown",
   "metadata": {
    "slideshow": {
     "slide_type": "slide"
    }
   },
   "source": [
    "## <center>Produtividade comparada, Brasil e Coreia</center>\n",
    "\n",
    "<center><img src=\"br_produtividade_cor.png\" width=\"600\" height=\"450\"></center>"
   ]
  },
  {
   "cell_type": "markdown",
   "metadata": {
    "slideshow": {
     "slide_type": "slide"
    }
   },
   "source": [
    "## Crescimento e mudança estrutural\n",
    "\n",
    "Vejamos os resultados desagregados por setores, agora utilizando dados das Contas Nacionais, os mais detalhados disponíveis para o Brasil."
   ]
  },
  {
   "cell_type": "markdown",
   "metadata": {
    "slideshow": {
     "slide_type": "fragment"
    }
   },
   "source": [
    "O resultado mais notável e discrepante em relação aos anos do pós-II Guerra Mundial foi o baixíssimo *crescimento do valor adicionado* da indústria (1,1% ao ano entre 1995-2009)."
   ]
  },
  {
   "cell_type": "markdown",
   "metadata": {
    "slideshow": {
     "slide_type": "fragment"
    }
   },
   "source": [
    "O desempenho da agricultura foi bastante superior (3,6% a.a. em 1995-2009), mas sua baixa participação no valor da produção diminuiu seu impacto agregado - Serviços dominam."
   ]
  },
  {
   "cell_type": "markdown",
   "metadata": {
    "slideshow": {
     "slide_type": "slide"
    }
   },
   "source": [
    "## <center>Crescimento setorial</center>\n",
    "\n",
    "<center><img src=\"br_setores_1995_2009.png\" width=\"900\" height=\"450\"></center>"
   ]
  },
  {
   "cell_type": "markdown",
   "metadata": {
    "slideshow": {
     "slide_type": "slide"
    }
   },
   "source": [
    "## Produtividade setorial\n",
    "\n",
    "O mesmo aconteceu com relação à *produtividade do trabalho*: crescimento da produtividade da indústria nas últimas décadas foi **negativo (-0,5% a.a)**. Entre 1945-1980 = 5,8% a.a. (embora as estatísticas não sejam diretamente comparáveis).\n"
   ]
  },
  {
   "cell_type": "markdown",
   "metadata": {
    "slideshow": {
     "slide_type": "fragment"
    }
   },
   "source": [
    "O crescimento da agricultura foi elevado (4,5% a.a. em 1995-2009), mas a sua pequena participação no emprego e no valor da produção reduziu seu impacto na economia."
   ]
  },
  {
   "cell_type": "markdown",
   "metadata": {
    "slideshow": {
     "slide_type": "fragment"
    }
   },
   "source": [
    "Resultado: no conjunto, a produtividade agregada da economia cresceu apenas 0,8% ao ano entre 1995-2009. "
   ]
  },
  {
   "cell_type": "markdown",
   "metadata": {
    "slideshow": {
     "slide_type": "subslide"
    }
   },
   "source": [
    "## <center>Produtividade do trabalho por setores</center>\n",
    "\n",
    "<center><img src=\"br_produtividade_1995_2009.png\" width=\"900\" height=\"450\"></center>"
   ]
  },
  {
   "cell_type": "markdown",
   "metadata": {
    "slideshow": {
     "slide_type": "slide"
    }
   },
   "source": [
    "## Indústria e revisão dos dados\n",
    "\n",
    "Por fim, qual foi a trajetória da indústria de tranformação no conjunto da economia brasileira no período? E o fenômeno do que é chamado de desindustrialização, ou seja, a queda da participação relativa da indústria no emprego e no produto da economia?"
   ]
  },
  {
   "cell_type": "markdown",
   "metadata": {
    "slideshow": {
     "slide_type": "fragment"
    }
   },
   "source": [
    "A avaliação quantitativa do desempenho da indústria a este respeito é prejudicada por *dois problemas* quanto aos dados oficiais: "
   ]
  },
  {
   "cell_type": "markdown",
   "metadata": {
    "slideshow": {
     "slide_type": "fragment"
    }
   },
   "source": [
    "i) houve duas revisões metodológicas pelo IBGE das séries históricas da indústria em 1990 e 1995 que levaram à superestimação da queda observada com valores da produção correntes (ver texto de Bonelli e Pessôa); "
   ]
  },
  {
   "cell_type": "markdown",
   "metadata": {
    "slideshow": {
     "slide_type": "subslide"
    }
   },
   "source": [
    "ii) nas séries em preços correntes não se computaram as mudanças nos preços relativos, particularmente o menor crescimento dos preços da indústria em relação a outros setores (idem)."
   ]
  },
  {
   "cell_type": "markdown",
   "metadata": {
    "slideshow": {
     "slide_type": "slide"
    }
   },
   "source": [
    "## Redução relativa da indústria\n",
    "\n",
    "Considerando-se esses dois elementos, a série revisada com correção dos preços correntes anteriores a 1995 e a série com preços constantes são apresentadas a seguir (Bonelli e Pessôa)."
   ]
  },
  {
   "cell_type": "markdown",
   "metadata": {
    "slideshow": {
     "slide_type": "fragment"
    }
   },
   "source": [
    "Observar que, pela série original (traços), a indústria de transformação alcançou uma participação de mais de 35% em 1985, caindo abruptamente nos anos seguintes e atingindo 15% do PIB em 2011."
   ]
  },
  {
   "cell_type": "markdown",
   "metadata": {
    "slideshow": {
     "slide_type": "fragment"
    }
   },
   "source": [
    "A série corrigida a preços correntes (pontos) é muito menor do que a original, com a participação relativa da indústria chegando a 24% em 1985 (em vez de 35% da série anterior)."
   ]
  },
  {
   "cell_type": "markdown",
   "metadata": {
    "slideshow": {
     "slide_type": "subslide"
    }
   },
   "source": [
    "Por sua vez, a segunda série corrigida, a preços constantes (linha contínua), desloca a inflexão na participação relativa da indústria para antes de 1985, ou seja, para os anos 1973-1976."
   ]
  },
  {
   "cell_type": "markdown",
   "metadata": {
    "slideshow": {
     "slide_type": "fragment"
    }
   },
   "source": [
    "Dois resultados, portanto: a preços correntes corrigidos, a queda na participação da indústria (desindustrialização) teria ocorrido a partir de meados da década de 1980; a preços constantes, o início da desindustrialização teria se dado já a partir de meados dos anos 1970."
   ]
  },
  {
   "cell_type": "markdown",
   "metadata": {
    "slideshow": {
     "slide_type": "slide"
    }
   },
   "source": [
    "## <center>Produtividade do trabalho por setores</center>\n",
    "\n",
    "<center><img src=\"br_desindustrialização.png\" width=\"700\" height=\"450\"></center>"
   ]
  }
 ],
 "metadata": {
  "celltoolbar": "Slideshow",
  "kernelspec": {
   "display_name": "Python 3 (ipykernel)",
   "language": "python",
   "name": "python3"
  },
  "language_info": {
   "codemirror_mode": {
    "name": "ipython",
    "version": 3
   },
   "file_extension": ".py",
   "mimetype": "text/x-python",
   "name": "python",
   "nbconvert_exporter": "python",
   "pygments_lexer": "ipython3",
   "version": "3.9.23"
  },
  "toc": {
   "base_numbering": 1,
   "nav_menu": {},
   "number_sections": false,
   "sideBar": true,
   "skip_h1_title": false,
   "title_cell": "Table of Contents",
   "title_sidebar": "Contents",
   "toc_cell": false,
   "toc_position": {},
   "toc_section_display": true,
   "toc_window_display": false
  }
 },
 "nbformat": 4,
 "nbformat_minor": 4
}
