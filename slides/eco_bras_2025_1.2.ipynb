{
 "cells": [
  {
   "cell_type": "markdown",
   "metadata": {
    "editable": true,
    "slideshow": {
     "slide_type": "fragment"
    },
    "tags": []
   },
   "source": [
    "## <center>Economia Brasileira - FEA-USP</center>\n",
    "\n",
    "### <center>Aula 2 - A crise do desenvolvimentismo: a política econômica entre 1961-1964 (parte 2)</center>\n",
    "\n",
    "#### <center>Renato Perim Colistete</center>\n",
    "\n",
    "\n",
    "#### <center>2025</center>"
   ]
  },
  {
   "cell_type": "markdown",
   "metadata": {
    "editable": true,
    "slideshow": {
     "slide_type": "slide"
    },
    "tags": []
   },
   "source": [
    "## Objetivos\n",
    "\n",
    "Nesta segunda aula do tópico 1, trataremos da política econômica no governo João Goulart, em especial o Plano Trienal.\n",
    "\n",
    "Serão discutidos, primeiro, o contexto e a motivação do Plano.\n",
    "\n",
    "Em seguida, veremos quais foram os principais componentes do Plano, sua implementação e seus resultados - comparando com os anos anteriores dos governos JK e JQ."
   ]
  },
  {
   "cell_type": "markdown",
   "metadata": {
    "editable": true,
    "slideshow": {
     "slide_type": "slide"
    },
    "tags": []
   },
   "source": [
    "## Goulart\n",
    "\n",
    "O período que compreende o governo do presidente [João Goulart](https://cpdoc.fgv.br/biografias/joao-goulart) foi marcado por instabilidade institucional e conflitos. Na prática, foram dois governos: parlamentarista (set/1961 a jan/1963) e presidencialista (jan/1963 a mar/1964)."
   ]
  },
  {
   "cell_type": "markdown",
   "metadata": {
    "editable": true,
    "slideshow": {
     "slide_type": "fragment"
    },
    "tags": []
   },
   "source": [
    "No período *parlamentarista*, houve 3 primeiros-ministros (Tancredo Neves, Brochado da Rocha e Hermes Lima) e 2 ministros da Fazenda (Walther Moreira Salles, até set/1962; Miguel Calmon, até jan/1963, sem contar os interinos)."
   ]
  },
  {
   "cell_type": "markdown",
   "metadata": {
    "editable": true,
    "slideshow": {
     "slide_type": "fragment"
    },
    "tags": []
   },
   "source": [
    "No período *presidencialista*, foram 3 ministros da Fazenda: San Tiago Dantas, até jun/1963; Carvalho Pinto, até dez/1963, e Ney Galvão, até abr/1964."
   ]
  },
  {
   "cell_type": "markdown",
   "metadata": {
    "editable": true,
    "slideshow": {
     "slide_type": "slide"
    },
    "tags": []
   },
   "source": [
    "## Parlamentarismo\n",
    "\n",
    "Durante o período de Tancredo Neves como Primeiro-Ministro (set/1961 a jun/1962) foram lançados dois programas de estabilização: o Plano de Emergência (set/1961) e o Plano de Economia (mar/1962), ambos com Moreira Salles no Ministério da Fazenda."
   ]
  },
  {
   "cell_type": "markdown",
   "metadata": {
    "editable": true,
    "slideshow": {
     "slide_type": "fragment"
    },
    "tags": []
   },
   "source": [
    "*Plano de Emergência*: apenas orientação geral, sem detalhamento de\n",
    "metas, compreendendo restrição ao crédito, limitação de reajustes\n",
    "salariais de acordo com produtividade, mais corte de gastos públicos e\n",
    "aumento da arrecadação."
   ]
  },
  {
   "cell_type": "markdown",
   "metadata": {
    "slideshow": {
     "slide_type": "fragment"
    }
   },
   "source": [
    "*Plano de Economia*: corte de gastos e aumento de receitas públicas, com\n",
    "metas para o déficit; metas trimestrais de expansão do crédito do BB (teto\n",
    "de 10% em relação a 1961). Metas foram implementadas nos primeiros\n",
    "meses, mas em jun/1962 passaram a ser abandonadas."
   ]
  },
  {
   "cell_type": "markdown",
   "metadata": {
    "editable": true,
    "slideshow": {
     "slide_type": "slide"
    },
    "tags": []
   },
   "source": [
    "## O Plano Trienal\n",
    "\n",
    "Em set/1962, o Congresso aprovou o [plebiscito](https://pt.wikipedia.org/wiki/Referendo_no_Brasil_em_1963), realizado em\n",
    "6/1/1963, que decidiu (82% dos votos) pelo retorno ao\n",
    "presidencialismo."
   ]
  },
  {
   "cell_type": "markdown",
   "metadata": {
    "editable": true,
    "slideshow": {
     "slide_type": "fragment"
    },
    "tags": []
   },
   "source": [
    "Goulart havia encarregado (em set/1962) [Celso Furtado](https://www18.fgv.br/CPDOC/acervo/dicionarios/verbete-biografico/celso-monteiro-furtado), primeiro secretário-executivo da [SUDENE](https://www18.fgv.br/CPDOC/acervo/dicionarios/verbete-tematico/superintendencia-do-desenvolvimento-do-nordeste-sudene) e ministro extraordinário do Planejamento, de elaborar um plano que combinasse crescimento e estabilização."
   ]
  },
  {
   "cell_type": "markdown",
   "metadata": {
    "editable": true,
    "slideshow": {
     "slide_type": "fragment"
    },
    "tags": []
   },
   "source": [
    "Em dez/1962, Furtado anunciou o [Plano Trienal](https://www18.fgv.br/CPDOC/acervo/dicionarios/verbete-tematico/plano-trienal-de-desenvolvimento-economico-e-social), que daria o tom da política econômica pelo menos de janeiro a junho de 1963."
   ]
  },
  {
   "cell_type": "markdown",
   "metadata": {
    "editable": true,
    "slideshow": {
     "slide_type": "slide"
    },
    "tags": []
   },
   "source": [
    "## Motivações\n",
    "\n",
    "O Plano Trienal foi motivado por razões tanto econômicas quanto\n",
    "políticas."
   ]
  },
  {
   "cell_type": "markdown",
   "metadata": {
    "editable": true,
    "slideshow": {
     "slide_type": "fragment"
    },
    "tags": []
   },
   "source": [
    "De um lado, a situação externa havia se agravado em 1962: os encargos da dívida externa previstos para 1963 chegaram a 62% da receita de exportações. Portanto, novamente: necessidade de negociação da dívida externa."
   ]
  },
  {
   "cell_type": "markdown",
   "metadata": {
    "editable": true,
    "slideshow": {
     "slide_type": "fragment"
    },
    "tags": []
   },
   "source": [
    "De outro lado, Goulart buscava consolidar seu apoio político entre\n",
    "centro, esquerda e sindicatos."
   ]
  },
  {
   "cell_type": "markdown",
   "metadata": {
    "slideshow": {
     "slide_type": "slide"
    }
   },
   "source": [
    "## Objetivos\n",
    "\n",
    "Principais pontos do Plano Trienal:"
   ]
  },
  {
   "cell_type": "markdown",
   "metadata": {
    "slideshow": {
     "slide_type": "fragment"
    }
   },
   "source": [
    "- diagnóstico tradicional da inflação, com déficit público levando a\n",
    "emissões e daí à inflação – também como causa de excesso de\n",
    "demanda (?);"
   ]
  },
  {
   "cell_type": "markdown",
   "metadata": {
    "slideshow": {
     "slide_type": "fragment"
    }
   },
   "source": [
    "- proposta *gradualista* de combate à inflação (será?);"
   ]
  },
  {
   "cell_type": "markdown",
   "metadata": {
    "slideshow": {
     "slide_type": "fragment"
    }
   },
   "source": [
    "- necessidade de correção de preços públicos defasados, redução do\n",
    "déficit público e controle monetário;"
   ]
  },
  {
   "cell_type": "markdown",
   "metadata": {
    "slideshow": {
     "slide_type": "subslide"
    }
   },
   "source": [
    "- reformas de base: agrária, educação, fiscal (ver adiante);"
   ]
  },
  {
   "cell_type": "markdown",
   "metadata": {
    "slideshow": {
     "slide_type": "fragment"
    }
   },
   "source": [
    "- meta de 7% de crescimento do PIB, 3,9% do PIB per capita;"
   ]
  },
  {
   "cell_type": "markdown",
   "metadata": {
    "slideshow": {
     "slide_type": "fragment"
    }
   },
   "source": [
    "- meta de inflação de 25% em 1963 e 10% em 1965 (inflação em\n",
    "1962 foi de 50%);"
   ]
  },
  {
   "cell_type": "markdown",
   "metadata": {
    "editable": true,
    "slideshow": {
     "slide_type": "fragment"
    },
    "tags": []
   },
   "source": [
    "- limites nominais da expansão do crédito de 35% (contra inflação anualizada de 60%);"
   ]
  },
  {
   "cell_type": "markdown",
   "metadata": {
    "editable": true,
    "slideshow": {
     "slide_type": "subslide"
    },
    "tags": []
   },
   "source": [
    "- aumento do compulsório sobre os depósitos à vista de 24 para 28%;"
   ]
  },
  {
   "cell_type": "markdown",
   "metadata": {
    "slideshow": {
     "slide_type": "fragment"
    }
   },
   "source": [
    "- reajustes nas tarifas dos transportes urbanos (trens do subúrbio do\n",
    "RJ: 5 vezes);"
   ]
  },
  {
   "cell_type": "markdown",
   "metadata": {
    "editable": true,
    "slideshow": {
     "slide_type": "fragment"
    },
    "tags": []
   },
   "source": [
    "- aumentos dos preços do trigo e dos derivados de petróleo em 70 e 100%, devido à retirada de subsídios; desvalorização cambial (30% em abr/1963);"
   ]
  },
  {
   "cell_type": "markdown",
   "metadata": {
    "editable": true,
    "slideshow": {
     "slide_type": "fragment"
    },
    "tags": []
   },
   "source": [
    "- redução do reajuste (40%) dos salários públicos;"
   ]
  },
  {
   "cell_type": "markdown",
   "metadata": {
    "slideshow": {
     "slide_type": "fragment"
    }
   },
   "source": [
    "- convite à missão do FMI. "
   ]
  },
  {
   "cell_type": "markdown",
   "metadata": {
    "slideshow": {
     "slide_type": "slide"
    }
   },
   "source": [
    "## Reformas de base\n",
    "\n",
    "Em que consistiam as chamadas “reformas de base”? Dois objetivos:\n",
    "superar limitações na estrutura produtiva e reduzir a desigualdade\n",
    "da distribuição de renda."
   ]
  },
  {
   "cell_type": "markdown",
   "metadata": {
    "slideshow": {
     "slide_type": "fragment"
    }
   },
   "source": [
    "P.ex., com a *reforma agrária*, pretendia-se i) ampliar a\n",
    "produtividade/produção agrícola e o mercado do setor rural e ii)\n",
    "elevar a renda de pequenos e médios produtores."
   ]
  },
  {
   "cell_type": "markdown",
   "metadata": {
    "slideshow": {
     "slide_type": "fragment"
    }
   },
   "source": [
    "*Reforma fiscal*: i) racionalizar a tributação e ii) elevar a carga\n",
    "tributária sobre as faixas de renda e riqueza mais altas."
   ]
  },
  {
   "cell_type": "markdown",
   "metadata": {
    "slideshow": {
     "slide_type": "slide"
    }
   },
   "source": [
    "## Radical ou moderada?\n",
    "\n",
    "Princípio geral da reforma agrária (Mensagem Presidencial, 1964).\n",
    "Radical ou moderada?"
   ]
  },
  {
   "cell_type": "markdown",
   "metadata": {
    "slideshow": {
     "slide_type": "fragment"
    }
   },
   "source": [
    "> “ Poderão ser desapropriadas, mediante pagamento em títulos públicos de\n",
    "valor reajustável, na forma que a lei determinar:\n",
    "a) todas as propriedades não exploradas;\n",
    "b) as parcelas não exploradas de propriedades parcialmente aproveitadas,\n",
    "quando excederem a metade da área total. ”"
   ]
  },
  {
   "cell_type": "markdown",
   "metadata": {
    "slideshow": {
     "slide_type": "slide"
    }
   },
   "source": [
    "## Decreto\n",
    "\n",
    "Por sua vez, o decreto de 13 de março de 1964, anunciado em\n",
    "comício na Central do Brasil, regulamentou o princípio anunciado\n",
    "na Mensagem de 1964:"
   ]
  },
  {
   "cell_type": "markdown",
   "metadata": {
    "slideshow": {
     "slide_type": "fragment"
    }
   },
   "source": [
    "> “Art. 1o Ficam declaradas de interêsse social para efeito de desapropriação, (...)\n",
    "as áreas rurais compreendidas em um raio de 10 (dez) quilômetros dos eixos\n",
    "das rodovias e ferrovias federais, e as terras beneficiadas ou recuperadas por\n",
    "investimentos exclusivos da União em obras de irrigação, drenagem e\n",
    "açudagem.”"
   ]
  },
  {
   "cell_type": "markdown",
   "metadata": {
    "slideshow": {
     "slide_type": "fragment"
    }
   },
   "source": [
    "> Excluídas (art. 2o): “as que não tenham área superior a 500 (quinhentos)\n",
    "hectares, quando situadas ao longo dos eixos rodoviários e ferroviários, e 30\n",
    "(trinta) hectares, quando localizadas em terras beneficiadas ou recuperadas em\n",
    "virtude de obras de irrigação, drenagem e açudagem, abrangidas pelo presente\n",
    "decreto;”"
   ]
  },
  {
   "cell_type": "markdown",
   "metadata": {
    "slideshow": {
     "slide_type": "slide"
    }
   },
   "source": [
    "## Negociações\n",
    "\n",
    "Paralelamente, em mar/1963, o ministro da Fazenda, San Tiago\n",
    "Dantas, viajou para os EUA para negociar a dívida externa e novos\n",
    "empréstimos."
   ]
  },
  {
   "cell_type": "markdown",
   "metadata": {
    "slideshow": {
     "slide_type": "fragment"
    }
   },
   "source": [
    "O resultado da negociação foi pífio, obtendo US\\\\$ 398,5 milhões, dos\n",
    "quais apenas US$ 84 milhões consistiam em desembolso imediato –\n",
    "o restante condicionado a um programa de estabilização."
   ]
  },
  {
   "cell_type": "markdown",
   "metadata": {
    "slideshow": {
     "slide_type": "fragment"
    }
   },
   "source": [
    "Ainda assim, desses US$ 84 milhões, 30 milhões seriam destinados\n",
    "à indenização da ITT, que foi estatizada pelo governador do RS,\n",
    "Leonel Brizola, no início de 1962."
   ]
  },
  {
   "cell_type": "markdown",
   "metadata": {
    "slideshow": {
     "slide_type": "slide"
    }
   },
   "source": [
    "## Liquidez\n",
    "\n",
    "Já a partir de jan/1963, houve acentuada redução do crédito e da\n",
    "oferta monetária (0% em jan/abr 1963)."
   ]
  },
  {
   "cell_type": "markdown",
   "metadata": {
    "slideshow": {
     "slide_type": "fragment"
    }
   },
   "source": [
    "Mesmo assim, houve repique inflacionário em janeiro e fevereiro de\n",
    "1963, possivelmente devido aos ajustes no câmbio e à liberação de\n",
    "preços administrados e tarifas públicas."
   ]
  },
  {
   "cell_type": "markdown",
   "metadata": {
    "slideshow": {
     "slide_type": "fragment"
    }
   },
   "source": [
    "Nos três meses seguintes o crescimento dos preços foi baixo, de 2%\n",
    "em média; em junho, porém, preços subiram 8%. Ver tabela a seguir para a\n",
    "evolução do crédito."
   ]
  },
  {
   "cell_type": "markdown",
   "metadata": {
    "slideshow": {
     "slide_type": "subslide"
    }
   },
   "source": [
    "## <center>Crédito e liquidez</center>\n",
    "\n",
    "<center><img src=\"credito_jg.png\"></center>"
   ]
  },
  {
   "cell_type": "markdown",
   "metadata": {
    "slideshow": {
     "slide_type": "slide"
    }
   },
   "source": [
    "## Resistência\n",
    "\n",
    "A política deflacionária dos primeiros meses de 1963 levou a uma\n",
    "crescente oposição ao Plano Trienal. Os industriais de São Paulo,\n",
    "por exemplo, criticavam a escassez do crédito e a queda na produção\n",
    "industrial."
   ]
  },
  {
   "cell_type": "markdown",
   "metadata": {
    "slideshow": {
     "slide_type": "fragment"
    }
   },
   "source": [
    "O funcionalismo civil e militar rejeitou a proposta de 40% de\n",
    "reajuste, reivindicando 70% ou pelo menos 60%."
   ]
  },
  {
   "cell_type": "markdown",
   "metadata": {
    "slideshow": {
     "slide_type": "fragment"
    }
   },
   "source": [
    "Além disso, a inflação corretiva nos primeiros meses deteriorava\n",
    "ainda mais o apoio ao Plano."
   ]
  },
  {
   "cell_type": "markdown",
   "metadata": {
    "slideshow": {
     "slide_type": "slide"
    }
   },
   "source": [
    "## Impactos\n",
    "\n",
    "Além da inflação corretiva, os efeitos da política deflacionária do\n",
    "Plano Trienal foram sentidos diretamente na produção industrial."
   ]
  },
  {
   "cell_type": "markdown",
   "metadata": {
    "slideshow": {
     "slide_type": "fragment"
    }
   },
   "source": [
    "A queda do produto industrial em 1963 foi de -0,2%, mesmo\n",
    "incluindo o 2o semestre do ano, quando a política deflacionária foi\n",
    "em grande parte abandonada."
   ]
  },
  {
   "cell_type": "markdown",
   "metadata": {
    "slideshow": {
     "slide_type": "fragment"
    }
   },
   "source": [
    "Quanto aos setores industriais, material de transporte\n",
    "(automobilística), material elétrico e têxtil estiveram entre os que\n",
    "mais sofreram com a recessão."
   ]
  },
  {
   "cell_type": "markdown",
   "metadata": {
    "editable": true,
    "slideshow": {
     "slide_type": "slide"
    },
    "tags": []
   },
   "source": [
    "### <center>Taxa anual de crescimento da indústria de transformação, Brasil, 1955-1964 (em %)<center>\n",
    "\n",
    "|  Anos  | Indústria |\n",
    "|:------:|:--------:|\n",
    "|  1955  |   8,8    |\n",
    "|  1956  |   2,9    |\n",
    "|  1957  |   7,7    |\n",
    "|  1958  |  10,8    |\n",
    "|  1959  |   9,8    |\n",
    "|  1960  |   9,4    |\n",
    "|  1961  |  11,1    |\n",
    "|  1962  |   8,1    |\n",
    "|  1963  |  -0,2    |\n",
    "|  1964  |   5,0    |\n",
    "\n",
    "<center>Fonte: IBGE (1990).<center>\n",
    "\n"
   ]
  },
  {
   "cell_type": "markdown",
   "metadata": {
    "editable": true,
    "slideshow": {
     "slide_type": "subslide"
    },
    "tags": []
   },
   "source": [
    "## <center>Setores industriais</center>\n",
    "\n",
    "<center><img src=\"setores_jg.png\", width=900></center>"
   ]
  },
  {
   "cell_type": "markdown",
   "metadata": {
    "slideshow": {
     "slide_type": "slide"
    }
   },
   "source": [
    "## Fracasso\n",
    "\n",
    "Os crescentes protestos contra a política econômica, além do\n",
    "fracasso da negociação externa, levaram na prática ao abandono do\n",
    "Plano já em maio/1963."
   ]
  },
  {
   "cell_type": "markdown",
   "metadata": {
    "editable": true,
    "slideshow": {
     "slide_type": "fragment"
    },
    "tags": []
   },
   "source": [
    "Em maio, o Congresso aprovou, com concordância do governo, reajuste de 70% nos salários do setor público federal."
   ]
  },
  {
   "cell_type": "markdown",
   "metadata": {
    "editable": true,
    "slideshow": {
     "slide_type": "fragment"
    },
    "tags": []
   },
   "source": [
    "A missão do FMI (que havia chegado em maio), retorna em junho manifestando-se contrária à concessão de novos empréstimos ao governo."
   ]
  },
  {
   "cell_type": "markdown",
   "metadata": {
    "editable": true,
    "slideshow": {
     "slide_type": "slide"
    },
    "tags": []
   },
   "source": [
    "## Reforma ministerial\n",
    "\n",
    "Em jun/1963, Goulart promoveu nova reforma ministerial,\n",
    "buscando reformular sua base política de apoio."
   ]
  },
  {
   "cell_type": "markdown",
   "metadata": {
    "slideshow": {
     "slide_type": "fragment"
    }
   },
   "source": [
    "San Tiago Dantas foi substituído por Carvalho Pinto no MF; Celso\n",
    "Furtado permaneceu no governo, mas sem participar mais das\n",
    "decisões."
   ]
  },
  {
   "cell_type": "markdown",
   "metadata": {
    "slideshow": {
     "slide_type": "fragment"
    }
   },
   "source": [
    "Com isso o governo abandonou a política de estabilização e voltou-\n",
    "se à tentativa de implementar a parte relativa às reformas – sem\n",
    "sucesso, porém. Carvalho Pinto, conservador, foi logo substituído\n",
    "(em dez.) por Ney Galvão. Ver as tabelas com os resultados macro\n",
    "do período."
   ]
  },
  {
   "cell_type": "markdown",
   "metadata": {
    "editable": true,
    "slideshow": {
     "slide_type": "slide"
    },
    "tags": []
   },
   "source": [
    "## <center>Contas externas</center>\n",
    "\n",
    "### <center>Contas externas, Brasil, 1955-1964 (em milhões de dólares)<center>\n",
    "\n",
    "|  Anos  |   X   |   M   | Saldo (X-M) | Serviços | Saldo CC | I direto e financ. | Amort. | Saldo CK | Saldo BP |\n",
    "|:------:|:-----:|:-----:|:-----------:|:--------:|:--------:|:-----------------:|:------:|:--------:|:--------:|\n",
    "|  1955  | 1419  | 1099  |     320     |   -308   |     2    |        127        |  -140  |     3    |    17    |\n",
    "|  1956  | 1483  | 1046  |     437     |   -369   |    57    |        320        |  -187  |   151    |   194    |\n",
    "|  1957  | 1392  | 1285  |     107     |   -358   |  -264    |        462        |  -242  |   255    |  -171    |\n",
    "|  1958  | 1244  | 1179  |      65     |   -309   |  -248    |        483        |  -324  |   184    |  -253    |\n",
    "|  1959  | 1282  | 1210  |      72     |   -373   |   -10    |        563        |  -377  |   182    |  -154    |\n",
    "|  1960  | 1270  | 1293  |     -23     |   -459   |  -478    |        447        |  -417  |    58    |  -410    |\n",
    "|  1961  | 1405  | 1292  |     113     |   -350   |  -222    |        687        |  -327  |   288    |  -152    |\n",
    "|  1962  | 1215  | 1334  |    -119     |   -389   |  -394    |        310        |  -181  |   346    |  -346    |\n",
    "|  1963  | 1406  | 1294  |     112     |   -269   |  -114    |        280        |  -364  |    54    |  -244    |\n",
    "|  1964  | 1430  | 1086  |     344     |   -259   |   140    |        249        |  -277  |    82    |     4    |\n",
    "\n",
    "<center>Fonte: IBGE (1990).<center>"
   ]
  },
  {
   "cell_type": "markdown",
   "metadata": {
    "editable": true,
    "jp-MarkdownHeadingCollapsed": true,
    "slideshow": {
     "slide_type": "slide"
    },
    "tags": []
   },
   "source": [
    "### <center>Indicadores do setor externo, Brasil, 1955-1964<center>\n",
    "\n",
    "|  Anos  | Taxa de câmbio implícita | Termos de troca (1930=100) | Capacidade para importar (1930=100) |\n",
    "|:------:|:-----------------------:|:--------------------------:|:--------------------------------:|\n",
    "|  1955  |         42,032         |          151,5            |            154,9               |\n",
    "|  1956  |         48,258         |          152,8            |            167,3               |\n",
    "|  1957  |         51,062         |          150,3            |            155,7               |\n",
    "|  1958  |         64,359         |          145,3            |            142,8               |\n",
    "|  1959  |        101,933         |          139,9            |            161,1               |\n",
    "|  1960  |        127,551         |          131,6            |            147,7               |\n",
    "|  1961  |        190,188         |          131,1            |            155,8               |\n",
    "|  1962  |        304,502         |          128,5            |            148,5               |\n",
    "|  1963  |        460,325         |          121,4            |            152,8               |\n",
    "|  1964  |        898,711         |          148,6            |            160,4               |\n",
    "\n",
    "<center>Fonte: IBGE (1990).<center> \n",
    "<center>Notas: taxa de câmbio implícita = valor das exportações e importações em cruzeiros / valor das exportações e importações em dólares; \n",
    "    \n",
    "<center>termos de troca = Px/Pm; capacidade para importar = termos de troca x quantum de exportação.<center>"
   ]
  },
  {
   "cell_type": "markdown",
   "metadata": {
    "editable": true,
    "slideshow": {
     "slide_type": "slide"
    },
    "tags": []
   },
   "source": [
    "### <center>Contas públicas e saldos cambiais</center>\n",
    "\n",
    "<center><img src=\"publica_jg.png\", width=900></center>"
   ]
  },
  {
   "cell_type": "markdown",
   "metadata": {
    "editable": true,
    "slideshow": {
     "slide_type": "slide"
    },
    "tags": []
   },
   "source": [
    "### <center>Meios de pagamento e preços, Brasil, 1955-1964 (em %)<center>\n",
    "\n",
    "|  Anos  | Meios de pagamento (M1) | M1 a preços de 1964 | Preços (RJ) |\n",
    "|:------:|:------------------------:|:-------------------:|:-----------:|\n",
    "|  1955  |          19,4           |         0,9        |     23,0    |\n",
    "|  1956  |          20,5           |         2,6        |     21,0    |\n",
    "|  1957  |          29,9           |        15,8        |     16,1    |\n",
    "|  1958  |          26,9           |         5,9        |     14,8    |\n",
    "|  1959  |          36,8           |         7,1        |     39,2    |\n",
    "|  1960  |          41,0           |         7,3        |     29,5    |\n",
    "|  1961  |          48,3           |         4,5        |     33,2    |\n",
    "|  1962  |          59,9           |         3,7        |     49,4    |\n",
    "|  1963  |          71,3           |        -6,3        |     72,8    |\n",
    "|  1964  |          84,5           |         7,9        |     91,8    |\n",
    "\n",
    "<center>Fonte: Goldsmith (1986) e Abreu (1990).<center>\n",
    "\n"
   ]
  },
  {
   "cell_type": "markdown",
   "metadata": {
    "editable": true,
    "slideshow": {
     "slide_type": "slide"
    },
    "tags": []
   },
   "source": [
    "### <center>Receita e Despesa, Brasil, 1955-1964 (em bilhões de cruzeiros)<center>\n",
    "\n",
    "|  Anos  | Receita Arrecadada (União) | Despesa Efetuada (União) | Superávit ou Déficit |\n",
    "|:------:|:--------------------------:|:------------------------:|:--------------------:|\n",
    "|  1955  |          55,7              |          63,3           |        -7,6         |\n",
    "|  1956  |          74,1              |         107,0           |       -32,9         |\n",
    "|  1957  |          85,8              |         119,0           |       -33,2         |\n",
    "|  1958  |         118,0              |         149,0           |       -31,0         |\n",
    "|  1959  |         158,0              |         184,0           |       -26,0         |\n",
    "|  1960  |         233,0              |         265,0           |       -32,0         |\n",
    "|  1961  |         318,0              |         420,0           |      -102,0         |\n",
    "|  1962  |         512,0              |         727,0           |      -215,0         |\n",
    "|  1963  |         953,0              |        1278,0           |      -325,0         |\n",
    "|  1964  |        2010,0              |        2771,0           |      -761,0         |\n",
    "\n",
    "<center>Fonte: Goldsmith (1986).<center>\n",
    "\n"
   ]
  },
  {
   "cell_type": "markdown",
   "metadata": {
    "editable": true,
    "slideshow": {
     "slide_type": "slide"
    },
    "tags": []
   },
   "source": [
    "\n",
    "### <center>Receitas de impostos, Brasil, 1955-1964 (em %)<center>\n",
    "\n",
    "|  Anos  |  Total impostos/PIB  |  Impostos diretos  |  Impostos indiretos  |  Subsídios  |\n",
    "|:------:|:--------------------:|:------------------:|:--------------------:|:-----------:|\n",
    "|  1955  |        18,4         |        29,4        |         55,6         |     0,7     |\n",
    "|  1956  |        19,4         |        29,9        |         57,7         |     2,3     |\n",
    "|  1957  |        19,6         |        29,8        |         57,3         |     2,1     |\n",
    "|  1958  |        22,7         |        26,4        |         61,3         |     5,3     |\n",
    "|  1959  |        22,6         |        26,6        |         65,4         |     4,3     |\n",
    "|  1960  |        23,2         |        24,5        |         62,0         |     3,8     |\n",
    "|  1961  |        20,8         |        28,8        |         61,7         |     5,8     |\n",
    "|  1962  |        19,8         |        27,5        |         66,0         |     6,9     |\n",
    "|  1963  |        19,0         |        26,3        |         64,4         |     8,7     |\n",
    "|  1964  |        18,8         |        28,7        |         74,0         |     8,9     |\n",
    "\n",
    "<center>Fonte: Goldsmith (1986).<center>\n",
    "\n"
   ]
  },
  {
   "cell_type": "markdown",
   "metadata": {
    "editable": true,
    "slideshow": {
     "slide_type": "slide"
    },
    "tags": []
   },
   "source": [
    "## <center>PIB</center>\n",
    "\n",
    "### <center>Taxas anuais de crescimento do PIB e PIB per capita (em %)</center>\n",
    "\n",
    "| Anos | PIB  | PIB per capita |\n",
    "|:----:|:----:|:--------------:|\n",
    "| 1955 | 6,8  | 3,8            |\n",
    "| 1956 | 3,0  | 0,3            |\n",
    "| 1957 | 7,3  | 4,3            |\n",
    "| 1958 | 8,0  | 5,0            |\n",
    "| 1959 | 9,8  | 6,7            |\n",
    "| 1960 | 9,4  | 6,4            |\n",
    "| 1961 | 8,6  | 5,6            |\n",
    "| 1962 | 6,6  | 3,6            |\n",
    "| 1963 | 0,6  | -2,2           |\n",
    "| 1964 | 3,4  | 0,4            |\n"
   ]
  },
  {
   "cell_type": "markdown",
   "metadata": {
    "editable": true,
    "slideshow": {
     "slide_type": "subslide"
    },
    "tags": []
   },
   "source": [
    "### <center>Taxas médias de crescimento (total e per capita, %)</center>\n",
    "\n",
    "| Período  | PIB  | PIB per capita |\n",
    "|:--------:|:----:|:--------------:|\n",
    "| 1956–60  | 6,0  | 3,8            |\n",
    "| 1961–64  | 5,0  | 1,3            |\n",
    "| 1963–64  | 2,0  | -0,9           |\n",
    "\n",
    "<center>Fonte: Goldsmith (1986)</center>"
   ]
  },
  {
   "cell_type": "markdown",
   "metadata": {
    "editable": true,
    "slideshow": {
     "slide_type": "slide"
    },
    "tags": []
   },
   "source": [
    "## Questões\n",
    "\n",
    "Analise o contexto externo e interno dos primeiros dois anos\n",
    "do governo Goulart. Quais foram as restrições à política\n",
    "macroeconômica herdadas dos governos anteriores?\n",
    "\n",
    "Apresente as medidas principais do Plano Trienal. Analise sua\n",
    "consistência interna tendo em vista os dois objetivos centrais\n",
    "do Plano – estabilização e crescimento.\n",
    "\n",
    "A partir dos dados dos agregados macro, analise os efeitos do\n",
    "Plano Trienal. Quais podem ter sido os principais\n",
    "responsáveis pelo abandono do Plano em tão curto espaço de\n",
    "tempo?"
   ]
  }
 ],
 "metadata": {
  "celltoolbar": "Slideshow",
  "kernelspec": {
   "display_name": "Python 3 (ipykernel)",
   "language": "python",
   "name": "python3"
  },
  "language_info": {
   "codemirror_mode": {
    "name": "ipython",
    "version": 3
   },
   "file_extension": ".py",
   "mimetype": "text/x-python",
   "name": "python",
   "nbconvert_exporter": "python",
   "pygments_lexer": "ipython3",
   "version": "3.9.21"
  },
  "toc": {
   "base_numbering": 1,
   "nav_menu": {},
   "number_sections": false,
   "sideBar": false,
   "skip_h1_title": false,
   "title_cell": "Table of Contents",
   "title_sidebar": "Contents",
   "toc_cell": false,
   "toc_position": {},
   "toc_section_display": false,
   "toc_window_display": false
  }
 },
 "nbformat": 4,
 "nbformat_minor": 4
}
