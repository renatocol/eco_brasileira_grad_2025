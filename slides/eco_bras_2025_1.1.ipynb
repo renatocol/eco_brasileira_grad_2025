{
 "cells": [
  {
   "cell_type": "markdown",
   "metadata": {
    "editable": true,
    "slideshow": {
     "slide_type": "fragment"
    },
    "tags": []
   },
   "source": [
    "## <center>Economia Brasileira - FEA-USP</center>\n",
    "\n",
    "### <center>Aula 1 - A crise do desenvolvimentismo: a política econômica entre 1961-1964 (parte 1)</center>\n",
    "\n",
    "#### <center>Renato Perim Colistete</center>\n",
    "\n",
    "\n",
    "#### <center>2025</center>"
   ]
  },
  {
   "cell_type": "markdown",
   "metadata": {
    "slideshow": {
     "slide_type": "slide"
    }
   },
   "source": [
    "## Objetivos\n",
    "\n",
    "Nesta e na próxima aula, estudaremos o período crítico do início da década de 1960 abrangendo os governos Jânio Quadros e João Goulart.\n",
    "\n",
    "Hoje nos concentraremos na gestão da política econômica no curto governo Jânio Quadros.\n",
    "\n",
    "Será dado destaque à situação externa crítica vivida no momento e a reformulação da política cambial, com seus resultados macroeconômicos de curto prazo."
   ]
  },
  {
   "cell_type": "markdown",
   "metadata": {
    "slideshow": {
     "slide_type": "slide"
    }
   },
   "source": [
    "## Estabilização\n",
    "\n",
    "As peças centrais da política de estabilização do governo [Jânio Quadros](https://cpdoc.fgv.br/biografias/janio-quadros) (jan-ago/1961) foram a renegociação da dívida externa e a [Instrução no. 204](http://www.bcb.gov.br/pre/Historia/Sumoc/Instrucoes/instrucao204.pdf) da SUMOC, de 13/3/1961."
   ]
  },
  {
   "cell_type": "markdown",
   "metadata": {
    "slideshow": {
     "slide_type": "fragment"
    }
   },
   "source": [
    "Principais formuladores: [Clemente Mariani](http://cpdoc.fgv.br/producao/dossies/AEraVargas2/biografias/clemente_mariani), Ministro da Fazenda;\n",
    "[Octávio Gouveia de Bulhões](http://cpdoc.fgv.br/producao/dossies/AEraVargas2/biografias/otavio_gouveia_de_bulhoes), Superintendente da SUMOC\n",
    "(idealizador da reforma cambial)."
   ]
  },
  {
   "cell_type": "markdown",
   "metadata": {
    "slideshow": {
     "slide_type": "fragment"
    }
   },
   "source": [
    "Além de representar uma mudança no regime cambial adotado em\n",
    "ago/1957, a Instrução no 204 visou enfrentar o agudo\n",
    "desequilíbrio externo com taxas de câmbio realistas."
   ]
  },
  {
   "cell_type": "markdown",
   "metadata": {
    "slideshow": {
     "slide_type": "slide"
    }
   },
   "source": [
    "## Instrução no. 204\n",
    "\n",
    "Os dois objetivos imediatos da [Instrução no. 204](https://www.bcb.gov.br/pre/Historia/Sumoc/Instrucoes/instrucao204.pdf): desvalorização do cruzeiro e\n",
    "unificação do mercado cambial. As mudanças principais:"
   ]
  },
  {
   "cell_type": "markdown",
   "metadata": {
    "slideshow": {
     "slide_type": "fragment"
    }
   },
   "source": [
    "- os produtos da *categoria geral* de **importação** (vigente desde a Lei de Tarifas\n",
    "de 1957, compreendendo produtos sem oferta suficiente no mercado doméstico)\n",
    "foram *transferidos para o mercado livre, sem leilão*;\n"
   ]
  },
  {
   "cell_type": "markdown",
   "metadata": {
    "slideshow": {
     "slide_type": "fragment"
    }
   },
   "source": [
    "- Os importadores deveriam apresentar Certificados de Cobertura Cambial obtidos junto à Cacex/Banco do\n",
    "Brasil para desembaraço das importações. Limite dos contratos de câmbio por\n",
    "pessoa jurídica individual (firma) de US$ 20.000,00 semanais;"
   ]
  },
  {
   "cell_type": "markdown",
   "metadata": {
    "slideshow": {
     "slide_type": "subslide"
    }
   },
   "source": [
    "- para obter os Certificados de Cobertura Cambial, os importadores (da\n",
    "categoria geral) deveriam realizar depósito compulsório no Banco do Brasil\n",
    "por 150 dias de 100% do valor em cruzeiros das importações, com remuneração\n",
    "de 6% ao ano, contra o qual receberiam *letra de importação* (depósito de 100%\n",
    "foi alterado para 150% ainda em 1961);"
   ]
  },
  {
   "cell_type": "markdown",
   "metadata": {
    "slideshow": {
     "slide_type": "fragment"
    }
   },
   "source": [
    "- continuaram a ser realizados leilões para a *categoria especial* (bens\n",
    "com abastecimento doméstico satisfatório), abastecida por uma cota\n",
    "global de divisas definida pela Sumoc. A mesma regra acima de depósito\n",
    "do valor da importação por 150 dias em troca de letras de importação foi\n",
    "aplicada à categoria;"
   ]
  },
  {
   "cell_type": "markdown",
   "metadata": {
    "slideshow": {
     "slide_type": "fragment"
    }
   },
   "source": [
    "- o “câmbio de custo” da *categoria preferencial* (trigo, petróleo e\n",
    "derivados, papel de imprensa, fertilizantes e equipamentos prioritários)\n",
    "foi reajustado em 100%, passando de Cr\\\\$ 100/dólar para Cr\\\\$ 200/dólar\n",
    "(pago em duas vezes: Cr\\\\$ 150 à vista, Cr\\\\$ 50 em 120 dias). Idem para\n",
    "transferências financeiras da União, estados e municípios vinculadas a\n",
    "empréstimos, créditos e financiamentos;"
   ]
  },
  {
   "cell_type": "markdown",
   "metadata": {
    "slideshow": {
     "slide_type": "subslide"
    }
   },
   "source": [
    "- As **divisas de exportação** seriam vendidas no mercado livre,\n",
    "exceto as de café e cacau, que receberiam as bonificações vigentes\n",
    "(Cr$ 90,00/dólar para café);"
   ]
  },
  {
   "cell_type": "markdown",
   "metadata": {
    "slideshow": {
     "slide_type": "fragment"
    }
   },
   "source": [
    "- A diferença entre as bonificações fixas do café/cacau e a taxa de\n",
    "venda de divisas no mercado livre seria apropriada pelo Banco do\n",
    "Brasil para financiar os programas de defesa dos dois produtos."
   ]
  },
  {
   "cell_type": "markdown",
   "metadata": {
    "slideshow": {
     "slide_type": "fragment"
    }
   },
   "source": [
    "Notar: as divisas de exportação de outros produtos (inclusive\n",
    "manufaturados) já haviam passado a ser vendidas no mercado livre de\n",
    "câmbio em 1959 (ver a seguir). Houve apenas uma mudança com a Instrução no. 204: os exportadores desses bens\n",
    "receberiam o equivalente a Cr$100/dólar em Letras do Banco do\n",
    "Brasil, com prazo de 120 dias e rendimento nominal de 6% a.a."
   ]
  },
  {
   "cell_type": "markdown",
   "metadata": {
    "slideshow": {
     "slide_type": "slide"
    }
   },
   "source": [
    "## Ajustes e ágio\n",
    "\n",
    "Posteriormente, foram editadas outras instruções relativas ao câmbio.\n",
    "Entre as novas mudanças houve a transferência para o mercado\n",
    "livre de produtos da categoria preferencial, como veremos."
   ]
  },
  {
   "cell_type": "markdown",
   "metadata": {
    "slideshow": {
     "slide_type": "fragment"
    }
   },
   "source": [
    "Apesar dos ajustes, continuaram as dificuldades no acesso às\n",
    "divisas, com surgimento de “boneco” (ágio pago pelos\n",
    "importadores nas compras de divisas dos exportadores)."
   ]
  },
  {
   "cell_type": "markdown",
   "metadata": {
    "slideshow": {
     "slide_type": "fragment"
    }
   },
   "source": [
    "No final, o custo efetivo do câmbio de importação era igual à taxa do mercado livre + deságio das letras de importação do Banco do Brasil + boneco."
   ]
  },
  {
   "cell_type": "markdown",
   "metadata": {
    "slideshow": {
     "slide_type": "slide"
    }
   },
   "source": [
    "## Câmbio de exportação\n",
    "\n",
    "Como observado acima, as taxas de câmbio de exportação já haviam sido\n",
    "simplificadas em 1959, pela [Instrução no. 192](http://www.bcb.gov.br/pre/Historia/Sumoc/Instrucoes/instrucao192.pdf). Nela foram estabelecidas:"
   ]
  },
  {
   "cell_type": "markdown",
   "metadata": {
    "slideshow": {
     "slide_type": "fragment"
    }
   },
   "source": [
    "- 1a categoria, com bonificação fixa de Cr$ 57,64/dólar: café e cacau\n",
    "em amêndoas;"
   ]
  },
  {
   "cell_type": "markdown",
   "metadata": {
    "slideshow": {
     "slide_type": "fragment"
    }
   },
   "source": [
    "- 2a categoria, com bonificação fixa de Cr$ 81,64/dólar: derivados de\n",
    "cacau, mamona e óleo cru mineral e derivados;"
   ]
  },
  {
   "cell_type": "markdown",
   "metadata": {
    "slideshow": {
     "slide_type": "subslide"
    }
   },
   "source": [
    "- todos os outros produtos de exportação (inclusive manufaturados)\n",
    "passaram a ser negociados no mercado de taxa livre."
   ]
  },
  {
   "cell_type": "markdown",
   "metadata": {
    "slideshow": {
     "slide_type": "fragment"
    }
   },
   "source": [
    "Notar que o licenciamento\n",
    "de exportação foi sujeito à seguinte condição pela Inst. 192: pelo menos\n",
    "70% da mão de obra e das matérias-primas dos produtos exportados\n",
    "teriam de ser locais (nacionais, mercado doméstico) (item II)."
   ]
  },
  {
   "cell_type": "markdown",
   "metadata": {
    "slideshow": {
     "slide_type": "slide"
    }
   },
   "source": [
    "## Resistências\n",
    "\n",
    "O objetivo de unificar os mercados de câmbio e retirar os\n",
    "subsídios implícitos sofreu resistências."
   ]
  },
  {
   "cell_type": "markdown",
   "metadata": {
    "slideshow": {
     "slide_type": "fragment"
    }
   },
   "source": [
    "Uma reação veio da Cacex, que sustentava que a demanda de bens\n",
    "de luxo era inelástica, de modo que contar apenas com as novas\n",
    "tarifas de 1957 levaria a importações de bens de luxo muito\n",
    "elevadas (100 milhões de dólares, estimados)."
   ]
  },
  {
   "cell_type": "markdown",
   "metadata": {
    "slideshow": {
     "slide_type": "fragment"
    }
   },
   "source": [
    "Clemente Mariani também manteve (na Instrução no. 204) o confisco cambial sobre café e cacau,\n",
    "deixando esses produtos fora do mercado livre; além disso,\n",
    "manteve-se o câmbio de custo (+100%) para petróleo e trigo."
   ]
  },
  {
   "cell_type": "markdown",
   "metadata": {
    "slideshow": {
     "slide_type": "slide"
    }
   },
   "source": [
    "## Ajustes\n",
    "\n",
    "Mas logo a seguir, a [Instrução no 208](http://www.bcb.gov.br/pre/Historia/Sumoc/Instrucoes/instrucao208.pdf) da SUMOC, de jun/1961, transferiu petróleo e trigo para a categoria livre (papel de imprensa\n",
    "já havia sido transferido antes)."
   ]
  },
  {
   "cell_type": "markdown",
   "metadata": {
    "slideshow": {
     "slide_type": "fragment"
    }
   },
   "source": [
    "Três outras instruções foram editadas em seguida, com alterações e aperfeiçoamentos."
   ]
  },
  {
   "cell_type": "markdown",
   "metadata": {
    "slideshow": {
     "slide_type": "fragment"
    }
   },
   "source": [
    "Basicamente, as principais mudanças da Instrução no 204 e seguintes promoveram a progressiva unificação do câmbio e a eliminação do subsídio às importações de trigo, petróleo e derivados."
   ]
  },
  {
   "cell_type": "markdown",
   "metadata": {
    "slideshow": {
     "slide_type": "slide"
    }
   },
   "source": [
    "## Efeitos\n",
    "\n",
    "A Instrução no 204 não foi suficiente para corrigir a apreciação\n",
    "cambial de 1960, mas auxiliou a recuperação das receitas de\n",
    "exportação."
   ]
  },
  {
   "cell_type": "markdown",
   "metadata": {
    "slideshow": {
     "slide_type": "fragment"
    }
   },
   "source": [
    "De maneira geral, adotou-se um regime de taxa flutuante\n",
    "administrada. Houve progressiva expansão do mercado livre: 85%\n",
    "das transações no mercado livre no quarto trimestre de 1961."
   ]
  },
  {
   "cell_type": "markdown",
   "metadata": {
    "slideshow": {
     "slide_type": "fragment"
    }
   },
   "source": [
    "O desempenho comercial melhorou em 1961 – aumento de 10,6% no\n",
    "valor exportado em relação a 1960, com importações estáveis. Veremos os resultados do comércio em outra aula."
   ]
  },
  {
   "cell_type": "markdown",
   "metadata": {
    "slideshow": {
     "slide_type": "slide"
    }
   },
   "source": [
    "## Inflação\n",
    "\n",
    "No curto prazo, a inflação ficou relativamente estável. Mas no médio\n",
    "prazo há duas hipóteses quanto ao efeito da Instrução no 204 sobre\n",
    "preços:"
   ]
  },
  {
   "cell_type": "markdown",
   "metadata": {
    "slideshow": {
     "slide_type": "fragment"
    }
   },
   "source": [
    "i) crescente desequilíbrio fiscal devido ao fim do saldo da conta de Ágios e Bonificações, sem que houvesse contrapartida fiscal – daí, aumento das emissões (porém a conta das letras de importação continuou positiva e crescente);"
   ]
  },
  {
   "cell_type": "markdown",
   "metadata": {
    "slideshow": {
     "slide_type": "fragment"
    }
   },
   "source": [
    "ii) depreciação do câmbio, em particular das importações essenciais (petróleo e trigo) levou a um choque de oferta, que diante da estrutura oligopolizada, do poder dos sindicatos e da política monetária expansiva, levou à propagação da inflação nos anos seguintes."
   ]
  },
  {
   "cell_type": "markdown",
   "metadata": {
    "slideshow": {
     "slide_type": "slide"
    }
   },
   "source": [
    "## Empréstimos\n",
    "\n",
    "Por fim, em março-junho/1961, o governo (com Walter Moreira Salles,\n",
    "embaixador em Washington) negociou empréstimos com credores\n",
    "americanos e europeus a fim de reescalonar a dívida externa que\n",
    "venceria em 1961 e 1965."
   ]
  },
  {
   "cell_type": "markdown",
   "metadata": {
    "slideshow": {
     "slide_type": "fragment"
    }
   },
   "source": [
    "Total de empréstimos negociados: US\\\\$ 874 milhões nos EUA e US$\n",
    "224 milhões na Europa."
   ]
  },
  {
   "cell_type": "markdown",
   "metadata": {
    "slideshow": {
     "slide_type": "fragment"
    }
   },
   "source": [
    "Porém, a melhora nas contas externas foi de curto prazo: já em 1962\n",
    "a situação agravou-se. A renúncia de Jânio em agosto de 1961 apenas\n",
    "piorou ainda mais a situação externa e interna."
   ]
  },
  {
   "cell_type": "markdown",
   "metadata": {
    "slideshow": {
     "slide_type": "slide"
    }
   },
   "source": [
    "## Questões\n",
    "\n",
    "Analise os itens do texto original da Instrução no. 204 da SUMOC e comente quais foram os aspectos mais importantes da nova legislação para o regime cambial vigente.\n",
    "\n",
    "Um objetivo imediato da Instrução no. 204 foi a unificação das taxas de câmbio. Em que medida o objetivo foi alcançado? Por que se buscava tal objetivo?\n",
    "\n",
    "No contexto das políticas fiscal e monetária vigentes, analise os impactos da nova política cambial no governo Jânio Quadros. Os resultados foram sustentáveis no médio prazo?"
   ]
  }
 ],
 "metadata": {
  "celltoolbar": "Slideshow",
  "kernelspec": {
   "display_name": "Python 3 (ipykernel)",
   "language": "python",
   "name": "python3"
  },
  "language_info": {
   "codemirror_mode": {
    "name": "ipython",
    "version": 3
   },
   "file_extension": ".py",
   "mimetype": "text/x-python",
   "name": "python",
   "nbconvert_exporter": "python",
   "pygments_lexer": "ipython3",
   "version": "3.9.21"
  },
  "toc": {
   "base_numbering": 1,
   "nav_menu": {},
   "number_sections": false,
   "sideBar": false,
   "skip_h1_title": false,
   "title_cell": "Table of Contents",
   "title_sidebar": "Contents",
   "toc_cell": false,
   "toc_position": {},
   "toc_section_display": false,
   "toc_window_display": false
  }
 },
 "nbformat": 4,
 "nbformat_minor": 4
}
