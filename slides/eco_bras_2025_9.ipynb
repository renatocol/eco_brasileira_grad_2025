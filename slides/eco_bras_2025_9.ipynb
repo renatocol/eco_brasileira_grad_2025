{
 "cells": [
  {
   "cell_type": "markdown",
   "metadata": {
    "slideshow": {
     "slide_type": "slide"
    }
   },
   "source": [
    "## <center>Economia Brasileira - FEA-USP</center>\n",
    "\n",
    "### <center>Aula 9 - Plano Real</center>\n",
    "\n",
    "#### <center>Renato Perim Colistete</center>\n",
    "\n",
    "\n",
    "#### <center>2025</center>  "
   ]
  },
  {
   "cell_type": "markdown",
   "metadata": {
    "slideshow": {
     "slide_type": "slide"
    }
   },
   "source": [
    "## Objetivos\n",
    "\n",
    "Hoje analisaremos as principais medidas do Plano Real, o último plano de estabilização do período estudado.\n",
    "\n",
    "Começamos expondo a lógica geral do Plano, seguida pelos detalhes das medidas que culminaram com a adoção de um novo padrão monetário.\n",
    "\n",
    "Em seguida, avaliaremos os resultados do Plano até o fim da década de 2000."
   ]
  },
  {
   "cell_type": "markdown",
   "metadata": {
    "slideshow": {
     "slide_type": "slide"
    }
   },
   "source": [
    "## Lógica do Plano\n",
    "\n",
    "A principal inspiração do Plano Real foi o chamado \"plano Larida\" (Persio Arida e André Lara Resende, 1983; versão em português, 1986; ver no site do curso) que previa uma reforma monetária com a coexistência de duas moedas: moeda antiga (cruzeiro) e moeda nova (indexada, paridade diária com ORTN) ambas como meio de troca e unidade de conta. "
   ]
  },
  {
   "cell_type": "markdown",
   "metadata": {
    "slideshow": {
     "slide_type": "fragment"
    }
   },
   "source": [
    "O Plano Real adotou a mesma noção de reforma monetária com moeda indexada, mas adaptando-a:"
   ]
  },
  {
   "cell_type": "markdown",
   "metadata": {
    "slideshow": {
     "slide_type": "fragment"
    }
   },
   "source": [
    "- em um *primeiro momento*, a moeda antiga (Cruzeiro Real) continuaria circulando com a função de meio de troca;"
   ]
  },
  {
   "cell_type": "markdown",
   "metadata": {
    "slideshow": {
     "slide_type": "slide"
    }
   },
   "source": [
    "## Lógica\n",
    "\n",
    "- a função de unidade de conta (e indiretamente de reserva de valor) seria exercida tansitoriamente por um índice (Unidade Real de Valor, [URV](https://centrodeeconomiapolitica.org.br/repojs/index.php/journal/article/view/1299/1284)). A URV seria reajustada pela variação diária da inflação e resguardada pela ação do Banco Central no mercado de câmbio para acompanhar a flutuação do dólar;"
   ]
  },
  {
   "cell_type": "markdown",
   "metadata": {
    "editable": true,
    "slideshow": {
     "slide_type": "fragment"
    },
    "tags": []
   },
   "source": [
    "- todos os contratos e preços (salários, aluguéis, ativos financeiros) seriam reajustados de acordo com a variação diária da URV, mas com pagamentos em Cruzeiro Real (moeda antiga);"
   ]
  },
  {
   "cell_type": "markdown",
   "metadata": {
    "editable": true,
    "slideshow": {
     "slide_type": "fragment"
    },
    "tags": []
   },
   "source": [
    "- a adesão à URV seria voluntária, embora induzida pelo governo com o objetivo de alinhar os preços relativos principais da economia;"
   ]
  },
  {
   "cell_type": "markdown",
   "metadata": {
    "editable": true,
    "slideshow": {
     "slide_type": "slide"
    },
    "tags": []
   },
   "source": [
    "## Lógica\n",
    "\n",
    "- essa *primeira fase* somente se encerraria quando todos os contratos e preços fossem expressos em URV;"
   ]
  },
  {
   "cell_type": "markdown",
   "metadata": {
    "editable": true,
    "slideshow": {
     "slide_type": "fragment"
    },
    "tags": []
   },
   "source": [
    "- a *segunda fase* da reforma monetária se daria com o abandono da moeda antiga e a adoção da URV como meio de troca e demais funções de meio circulante, convertendo-se na nova moeda e passando a chamar-se Real."
   ]
  },
  {
   "cell_type": "markdown",
   "metadata": {
    "editable": true,
    "slideshow": {
     "slide_type": "fragment"
    },
    "tags": []
   },
   "source": [
    "- por fim, a nova moeda teria uma paridade fixa (com bandas) em relação ao dólar."
   ]
  },
  {
   "cell_type": "markdown",
   "metadata": {
    "editable": true,
    "slideshow": {
     "slide_type": "subslide"
    },
    "tags": []
   },
   "source": [
    "- Vejamos a seguir os detalhes da implementação do Plano e resultados."
   ]
  },
  {
   "cell_type": "markdown",
   "metadata": {
    "slideshow": {
     "slide_type": "slide"
    }
   },
   "source": [
    "## Contexto\n",
    "\n",
    "O Plano Real foi implementado em 3 etapas nas gestões de Fernando Henrique Cardoso (maio/1993-mar/1994) e Rubens Ricúpero (mar/1994-set/1994) no Ministério da Fazenda, durante o governo [Itamar Franco](http://www.fgv.br/cpdoc/acervo/dicionarios/verbete-biografico/itamar-augusto-cautiero-franco) (dez/1992-jan/1995)."
   ]
  },
  {
   "cell_type": "markdown",
   "metadata": {
    "slideshow": {
     "slide_type": "fragment"
    }
   },
   "source": [
    "As etapas compreenderam medidas de ajuste fiscal, realinhamento de preços (desindexação) e criação da nova moeda com âncora cambial."
   ]
  },
  {
   "cell_type": "markdown",
   "metadata": {
    "slideshow": {
     "slide_type": "fragment"
    }
   },
   "source": [
    "*Ajuste fiscal*: em maio/1993 foi anunciado o Programa de Ação Imediata (PAI) e em fev/1994 o Fundo Social de Emergência, que buscavam reduzir sonegação, aumentar a arrecadação (IPMF, a vigorar em 1994), regularizar os pagamentos das dívidas dos estados, flexibilizar a vinculação de receitas federais (da Constituição de 1988), ampliar privatizações."
   ]
  },
  {
   "cell_type": "markdown",
   "metadata": {
    "slideshow": {
     "slide_type": "subslide"
    }
   },
   "source": [
    "Observem, porém, que o a ajuste fiscal previsto não foi bem-sucedido – pelo contrário, os anos seguintes serão de grande aumento da dívida pública, como veremos depois. Não obstante, a inflação continuou baixa."
   ]
  },
  {
   "cell_type": "markdown",
   "metadata": {
    "editable": true,
    "slideshow": {
     "slide_type": "slide"
    },
    "tags": []
   },
   "source": [
    "## URV\n",
    "\n",
    "*Realinhamento de preços e URV*: a segunda fase do Plano tratou da inércia inflacionária e do problema do realinhamento dos preços relativos."
   ]
  },
  {
   "cell_type": "markdown",
   "metadata": {
    "slideshow": {
     "slide_type": "fragment"
    }
   },
   "source": [
    "Em vez de congelamento, a [Medida Provisória no. 434 de 27/3/1994](http://www2.camara.leg.br/legin/fed/medpro/1994/medidaprovisoria-434-27-fevereiro-1994-373885-publicacaooriginal-1-pe.html) criou uma unidade de conta de adesão voluntária, a *Unidade Real de Valor (URV)*, vigente a partir de 1/3/1994 (no valor de Cr$ 647,50 neste dia)."
   ]
  },
  {
   "cell_type": "markdown",
   "metadata": {
    "editable": true,
    "slideshow": {
     "slide_type": "fragment"
    },
    "tags": []
   },
   "source": [
    "A URV conviveu com a “moeda velha” (Cruzeiro Real, instituído em julho/1993, vigorando de 1/8/1993 até 30/06/1994) e tornou-se o indexador de contratos e aplicações financeiras. "
   ]
  },
  {
   "cell_type": "markdown",
   "metadata": {
    "editable": true,
    "slideshow": {
     "slide_type": "subslide"
    },
    "tags": []
   },
   "source": [
    "Até junho/1994, o Banco Central fixou a paridade diária entre as duas moedas, baseada na média dos principais índices de preços (IGP-M, IPCA-E e IPC-FIPE), suplementada pela ação da Autoridade Monetária no mercado de câmbio visando acompanhar a flutuação do dólar."
   ]
  },
  {
   "cell_type": "markdown",
   "metadata": {
    "editable": true,
    "slideshow": {
     "slide_type": "fragment"
    },
    "tags": []
   },
   "source": [
    "Os *salários* foram convertidos pela média dos 4 meses anteriores, sendo fixados pela URV de 1o de março. Os reajustes nos dissídios coletivos seguiram o valor da URV – ou seja, os salários foram indexados mensalmente."
   ]
  },
  {
   "cell_type": "markdown",
   "metadata": {
    "editable": true,
    "slideshow": {
     "slide_type": "slide"
    },
    "tags": []
   },
   "source": [
    "## Âncora cambial\n",
    "\n",
    "*Âncora cambial*: a terceira fase foi inaugurada com a [Medida Provisória no. 542](https://www2.camara.leg.br/legin/fed/medpro/1994/medidaprovisoria-542-30-junho-1994-375071-publicacaooriginal-1-pe.html),\n",
    "de 30/6/1994, que instituiu o Real como nova unidade monetária (= 2.750,00\n",
    "cruzeiros reais) a partir de 1/7/1994. "
   ]
  },
  {
   "cell_type": "markdown",
   "metadata": {
    "slideshow": {
     "slide_type": "fragment"
    }
   },
   "source": [
    "- A moeda antiga continuou sendo aceita por 30 dias."
   ]
  },
  {
   "cell_type": "markdown",
   "metadata": {
    "slideshow": {
     "slide_type": "fragment"
    }
   },
   "source": [
    "- A oferta monetária (base monetária) passou a ser lastreada nas reservas cambiais, em tese sob paridade R$ 1 = US\\\\$1, com autoridade conferida ao Banco Central para definir bandas de variação."
   ]
  },
  {
   "cell_type": "markdown",
   "metadata": {
    "editable": true,
    "slideshow": {
     "slide_type": "slide"
    },
    "tags": []
   },
   "source": [
    "## Política cambial\n",
    "\n",
    "Um peça central do Plano foi a fixação da taxa de câmbio nominal ao dólar. A política cambial, contudo, passou por diferentes momentos quando vista pelo ângulo da taxa de câmbio real. Três pelo menos:"
   ]
  },
  {
   "cell_type": "markdown",
   "metadata": {
    "editable": true,
    "slideshow": {
     "slide_type": "fragment"
    },
    "tags": []
   },
   "source": [
    "- apreciação do Real nos 3 primeiros meses, com a defasagem de preços internos > preços internacionais;"
   ]
  },
  {
   "cell_type": "markdown",
   "metadata": {
    "editable": true,
    "slideshow": {
     "slide_type": "fragment"
    },
    "tags": []
   },
   "source": [
    "- ajustes marginais na taxa nominal até dez/1995, mas ainda mantendo o Real apreciado (magnitude a depender dos índices de preços utilizados); "
   ]
  },
  {
   "cell_type": "markdown",
   "metadata": {
    "editable": true,
    "slideshow": {
     "slide_type": "subslide"
    },
    "tags": []
   },
   "source": [
    "- início de 1996, alteração das bandas cambiais e minidesvalorizações mais frequentes, com depreciação do Real. Sucessivas crises desde final de 1997 levaram a desvalorizações acentuadas e, a partir de jan/1999, ao câmbio flutuante, em meio a uma crise cambial."
   ]
  },
  {
   "cell_type": "markdown",
   "metadata": {
    "editable": true,
    "slideshow": {
     "slide_type": "subslide"
    },
    "tags": []
   },
   "source": [
    "### <center></center>\n",
    "\n",
    "<center><img src=\"br_cambio_real.png\" width=\"700\" height=\"500\"></center>"
   ]
  },
  {
   "cell_type": "markdown",
   "metadata": {
    "slideshow": {
     "slide_type": "slide"
    }
   },
   "source": [
    "## Política monetária\n",
    "\n",
    "Paralelamente, o Banco Central adotou uma política rígida de controle da oferta monetária e do crédito, mostrando compromisso inequívoco com a estabilidade monetária. "
   ]
  },
  {
   "cell_type": "markdown",
   "metadata": {
    "editable": true,
    "slideshow": {
     "slide_type": "fragment"
    },
    "tags": []
   },
   "source": [
    "O compulsório sobre depósitos à vista subiu de 40 para 100% imediatamente após o anúncio do Plano. Outro exemplo, no final de 1997, em meio à crise asiática e fuga de capitais, BC duplicou a taxa de juro nominal."
   ]
  },
  {
   "cell_type": "markdown",
   "metadata": {
    "editable": true,
    "slideshow": {
     "slide_type": "fragment"
    },
    "tags": []
   },
   "source": [
    "Notar: como em outros planos de estabilização a partir do Plano Bresser, embora por meios diferentes, o objetivo foi controlar a liquidez e o risco de \"explosão de demanda\" no início da estabilização."
   ]
  },
  {
   "cell_type": "markdown",
   "metadata": {
    "slideshow": {
     "slide_type": "slide"
    }
   },
   "source": [
    "## Juros\n",
    "\n",
    "A política monetária apertada traduziu-se em elevadas taxas de juros reais desde o início do Plano Real – média de 20% entre 1994-1998, com percentuais ainda maiores em momentos críticos, como na crise cambial de 1999, como veremos adiante."
   ]
  },
  {
   "cell_type": "markdown",
   "metadata": {
    "slideshow": {
     "slide_type": "fragment"
    }
   },
   "source": [
    "Ao lado da âncora cambial, a *taxa de juros* operou como a segunda peça central (ou possivelmente a peça determinante) no programa de estabilização. "
   ]
  },
  {
   "cell_type": "markdown",
   "metadata": {
    "slideshow": {
     "slide_type": "fragment"
    }
   },
   "source": [
    "Primeiro, a contenção da demanda possivelmente contribuiu para os resultados da inflação."
   ]
  },
  {
   "cell_type": "markdown",
   "metadata": {
    "slideshow": {
     "slide_type": "subslide"
    }
   },
   "source": [
    "Segundo, a atração de capital externo foi vital para o balanço de pagamentos durante o ajuste."
   ]
  },
  {
   "cell_type": "markdown",
   "metadata": {
    "slideshow": {
     "slide_type": "slide"
    }
   },
   "source": [
    "## Capital externo\n",
    "\n",
    "A atração bem-sucedida de capital externo (financiamentos e investimentos de curto e longo prazos) contou com duas condições externas novas e altamente favoráveis não só para o Brasil, mas para toda a América Latina, conforme vimos anteriormente:"
   ]
  },
  {
   "cell_type": "markdown",
   "metadata": {
    "slideshow": {
     "slide_type": "fragment"
    }
   },
   "source": [
    "- a grande liquidez internacional e"
   ]
  },
  {
   "cell_type": "markdown",
   "metadata": {
    "slideshow": {
     "slide_type": "fragment"
    }
   },
   "source": [
    "- a conclusão da reestruturação da dívida sob o Plano Brady em 1994, que reforçou o influxo de capital já substancial desde 1992 (conf. aula anterior)."
   ]
  },
  {
   "cell_type": "markdown",
   "metadata": {
    "slideshow": {
     "slide_type": "fragment"
    }
   },
   "source": [
    "Por outro lado, as taxas de juros elevadas aumentaram as dificuldades para o ajuste das contas do governo, reforçando o aumento da dívida pública."
   ]
  },
  {
   "cell_type": "markdown",
   "metadata": {
    "slideshow": {
     "slide_type": "slide"
    }
   },
   "source": [
    "## Setor público e conceitos\n",
    "\n",
    "O efeito da estabilização sobre as contas do governo pode ser visto por meio dos conceitos da dívida pública:"
   ]
  },
  {
   "cell_type": "markdown",
   "metadata": {
    "slideshow": {
     "slide_type": "fragment"
    }
   },
   "source": [
    "- *conceito “nominal”* do resultado do setor público inclui juros e atualização monetária, tendo se mantido elevado e negativo no período em questão;"
   ]
  },
  {
   "cell_type": "markdown",
   "metadata": {
    "slideshow": {
     "slide_type": "fragment"
    }
   },
   "source": [
    "- *resultado “operacional”* inclui os juros (reais) mas exclui a atualização monetária da dívida pública;"
   ]
  },
  {
   "cell_type": "markdown",
   "metadata": {
    "slideshow": {
     "slide_type": "subslide"
    }
   },
   "source": [
    "- *resultado “primário”* corresponde ao balanço das receitas e despesas do setor público, excluindo os juros e atualização monetária, ou seja, é o componente não-financeiro dos resultados. Constitui assim uma medida do esforço fiscal do setor público."
   ]
  },
  {
   "cell_type": "markdown",
   "metadata": {
    "slideshow": {
     "slide_type": "slide"
    }
   },
   "source": [
    "## Dívida pública e NFSP\n",
    "\n",
    "A título de exemplo, em 1998 o total de juros sobre a dívida pública líquida atingiu 7,5% do PIB. Deduzidos do superávit primário de 0,01% do PIB, a *necessidade de financiamento do setor público (NFSP)* totalizou 7,5% do PIB naquele ano. Ver:"
   ]
  },
  {
   "cell_type": "markdown",
   "metadata": {
    "slideshow": {
     "slide_type": "fragment"
    }
   },
   "source": [
    "### <center></center>\n",
    "\n",
    "<center><img src=\"br_nfsp_real.png\" width=\"700\" height=\"500\"></center>"
   ]
  },
  {
   "cell_type": "markdown",
   "metadata": {
    "slideshow": {
     "slide_type": "slide"
    }
   },
   "source": [
    "## Desequilíbrio\n",
    "\n",
    "O controle da inflação pelo Plano Real não se traduziu imediatamente em melhoria nos indicadores econômicos. Ao contrário, houve agravamento dos desequilíbrios interno e externo."
   ]
  },
  {
   "cell_type": "markdown",
   "metadata": {
    "slideshow": {
     "slide_type": "fragment"
    }
   },
   "source": [
    "O resultado primário do setor público caiu de 5,2% em 1994 para 0,27% em 1995, -0,09% em 1996, -0,95 em 1997 e 0,01% do PIB em 1998, recuperando-se somente em 1999, com 3,2% do PIB."
   ]
  },
  {
   "cell_type": "markdown",
   "metadata": {
    "slideshow": {
     "slide_type": "fragment"
    }
   },
   "source": [
    "Ou seja, uma suposta premissa do sucesso da estabilização não ocorreu de fato. Qual foi a causa?"
   ]
  },
  {
   "cell_type": "markdown",
   "metadata": {
    "slideshow": {
     "slide_type": "subslide"
    }
   },
   "source": [
    "### <center></center>\n",
    "\n",
    "<center><img src=\"br_fiscal_1994_2000.png\" width=\"700\" height=\"500\"></center>"
   ]
  },
  {
   "cell_type": "markdown",
   "metadata": {
    "slideshow": {
     "slide_type": "slide"
    }
   },
   "source": [
    "## Efeito Tanzi às avessas\n",
    "\n",
    "Uma explicação para o resultado fiscal negativo nos primeiros anos do Real é o chamado \"efeito Tanzi às avessas\" (ou \"efeito Bacha\"). "
   ]
  },
  {
   "cell_type": "markdown",
   "metadata": {
    "slideshow": {
     "slide_type": "fragment"
    }
   },
   "source": [
    "Efeito Tanzi: queda do valor real da receita de tributos resultante do aumento dos preços entre o momento do fator gerador e o momento do recolhimento efetivo do tributo. Fenômeno conhecido em períodos de alta inflação ou hiperinflação, mas *quando não há indexação generalizada*.   "
   ]
  },
  {
   "cell_type": "markdown",
   "metadata": {
    "slideshow": {
     "slide_type": "fragment"
    }
   },
   "source": [
    "\"Efeito Tanzi às avessas\": em uma economia de alta inflação *e* indexada como a brasileira, as receitas fiscais eram indexadas mas as despesas eram orçadas pelo valor nominal (e contingenciadas), com a inflação ao longo do ano favorecendo o balanço da União, estados e municípios."
   ]
  },
  {
   "cell_type": "markdown",
   "metadata": {
    "editable": true,
    "slideshow": {
     "slide_type": "subslide"
    },
    "tags": []
   },
   "source": [
    "Assim, com a estabilização de preços, União e governos subnacionais deixaram de contar com a redução real das despesas (causada pela inflação alta) frente a receita indexada."
   ]
  },
  {
   "cell_type": "markdown",
   "metadata": {
    "editable": true,
    "slideshow": {
     "slide_type": "slide"
    },
    "tags": []
   },
   "source": [
    "## Situação externa\n",
    "\n",
    "O Plano Real também trouxe resultados contraditórios no setor externo. "
   ]
  },
  {
   "cell_type": "markdown",
   "metadata": {
    "editable": true,
    "slideshow": {
     "slide_type": "fragment"
    },
    "tags": []
   },
   "source": [
    "A rigidez do câmbio nominal e a apreciação do Real levaram à piora de indicadores de vulnerabilidade relativos ao comércio externo, revertendo os resultados positivos desde 1982."
   ]
  },
  {
   "cell_type": "markdown",
   "metadata": {
    "editable": true,
    "slideshow": {
     "slide_type": "fragment"
    },
    "tags": []
   },
   "source": [
    "Não obstante, as altas taxas de juro (contribuindo para a atração de capitais externos, reforçada pela reestruturação da dívida externa em 1994) e o mercado internacional de alta liquidez preservaram o equilíbrio do balanço de pagamentos - exceto nos meses críticos de 1997 a 1999."
   ]
  },
  {
   "cell_type": "markdown",
   "metadata": {
    "editable": true,
    "slideshow": {
     "slide_type": "subslide"
    },
    "tags": []
   },
   "source": [
    "### <center></center>\n",
    "\n",
    "<center><img src=\"br_serv_divida_real.png\" width=\"700\" height=\"500\"></center>"
   ]
  },
  {
   "cell_type": "markdown",
   "metadata": {
    "editable": true,
    "slideshow": {
     "slide_type": "slide"
    },
    "tags": []
   },
   "source": [
    "## Incertezas\n",
    "\n",
    "A crise da Ásia no 2o semestre de 1997 e da Rússia em agosto de 1998 tiveram grande impacto sobre o Brasil, com pressão contra o Real resultante das remessas maciças de capital para o exterior."
   ]
  },
  {
   "cell_type": "markdown",
   "metadata": {
    "editable": true,
    "slideshow": {
     "slide_type": "fragment"
    },
    "tags": []
   },
   "source": [
    "O contágio da crise da Rússia foi amplificado pela incerteza das eleições presidenciais em nov/1998, com Fernando Henrique Cardoso candidato à reeleição. "
   ]
  },
  {
   "cell_type": "markdown",
   "metadata": {
    "slideshow": {
     "slide_type": "fragment"
    }
   },
   "source": [
    "Apesar da elevação da taxa de juros (girando em torno de 40% no final de 1998/início de 1999), as reservas em moeda estrangeira despencaram."
   ]
  },
  {
   "cell_type": "markdown",
   "metadata": {
    "slideshow": {
     "slide_type": "subslide"
    }
   },
   "source": [
    "Sob pressão, o governo iniciou conversações com o FMI para um aporte de recursos de emergência e fechou acordo em dez/1998. "
   ]
  },
  {
   "cell_type": "markdown",
   "metadata": {
    "slideshow": {
     "slide_type": "slide"
    }
   },
   "source": [
    "## Socorro externo\n",
    "\n",
    "O acordo externo de dez/1998 garantiu US$ 43 bilhões, condicionados a um ajuste fiscal com superávit primário de 4\\% do PIB. "
   ]
  },
  {
   "cell_type": "markdown",
   "metadata": {
    "slideshow": {
     "slide_type": "fragment"
    }
   },
   "source": [
    "Seja como resultado do condicionamento imposto pelo acordo externo ou por outro motivo, o fato é que a partir de 1999 o balanço fiscal tornou-se finalmente positivo e substancial (ver figura anterior com superávit primário)."
   ]
  },
  {
   "cell_type": "markdown",
   "metadata": {
    "editable": true,
    "slideshow": {
     "slide_type": "fragment"
    },
    "tags": []
   },
   "source": [
    "Ver a seguir cronologia da crise até dia 13/1/1999, data da mudança na direção do Banco Central, com a saída de Gustavo Franco, sua substituição por Francisco Lopes e abandono do câmbio fixo com bandas do Real."
   ]
  },
  {
   "cell_type": "markdown",
   "metadata": {
    "editable": true,
    "slideshow": {
     "slide_type": "subslide"
    },
    "tags": []
   },
   "source": [
    "### <center></center>\n",
    "\n",
    "<center><img src=\"br_cronologia_real.png\" width=\"700\" height=\"500\"></center>"
   ]
  },
  {
   "cell_type": "markdown",
   "metadata": {
    "editable": true,
    "slideshow": {
     "slide_type": "slide"
    },
    "tags": []
   },
   "source": [
    "### Instabilidade e colapso cambial\n",
    "\n",
    "Mesmo após a eleição de Fernando Henrique Cardoso para o segundo mandato, a instabilidade persistiu, com fuga crescente de capitais.\n"
   ]
  },
  {
   "cell_type": "markdown",
   "metadata": {
    "editable": true,
    "slideshow": {
     "slide_type": "fragment"
    },
    "tags": []
   },
   "source": [
    "Em 13/1/1999, o presidente do Banco Central, Gustavo Franco, foi substituído por Francisco Lopes. A gestão de Francisco Lopes foi curta (até 1/2/1999), tendo Armínio Fraga assumido em seguida (4/3/1999 a 1/1/2003)."
   ]
  },
  {
   "cell_type": "markdown",
   "metadata": {
    "slideshow": {
     "slide_type": "fragment"
    }
   },
   "source": [
    "Inicialmente, o Banco Central (ainda com Francisco Lopes) buscou controlar a fuga de capital anunciando nova banda cambial entre R\\\\$ 1,20-1,32/US$."
   ]
  },
  {
   "cell_type": "markdown",
   "metadata": {
    "slideshow": {
     "slide_type": "slide"
    }
   },
   "source": [
    "## Câmbio flutuante e taxa de juros\n",
    "\n",
    "Com a persistência das saídas maciças de capital, o Real passou a flutuar a partir de 18/1/1999, chegando a R\\\\$2,16/US$ em março/1999. "
   ]
  },
  {
   "cell_type": "markdown",
   "metadata": {
    "slideshow": {
     "slide_type": "fragment"
    }
   },
   "source": [
    "Em reunião do Conselho de Política Monetária (Copom) em 4/3/1999, no início da gestão de Armínio Fraga, a taxa média de juros foi elevada para 45% a.a. (comparada a 25% a.a. da reunião de 18/1/1999). Ver histórico das taxas de juros [aqui](https://www.bcb.gov.br/controleinflacao/historicotaxasjuros)."
   ]
  },
  {
   "cell_type": "markdown",
   "metadata": {
    "slideshow": {
     "slide_type": "fragment"
    }
   },
   "source": [
    "Na época, houve expectativa disseminada de que o fim do regime de câmbio fixo/bandas e a grande desvalorização do Real resultassem em um impacto direto sobre custos, expectativas inflacionárias, repasses para preços e retomada da inflação."
   ]
  },
  {
   "cell_type": "markdown",
   "metadata": {
    "slideshow": {
     "slide_type": "subslide"
    }
   },
   "source": [
    "Porém, o efeito da desvalorização foi absorvido sem repique inflacionário e o câmbio flutuante consolidou-se como peça central do regime macroeconômico. "
   ]
  },
  {
   "cell_type": "markdown",
   "metadata": {
    "slideshow": {
     "slide_type": "slide"
    }
   },
   "source": [
    "## Pacto\n",
    "\n",
    "Entre 1999 e 2001 a situação macroeconômica manteve-se sob controle, até o ataque às Torres Gêmeas de 11/9/2001 em Nova York e a disputa eleitoral de 2002 adicionarem novos fatores de instabilidade."
   ]
  },
  {
   "cell_type": "markdown",
   "metadata": {
    "slideshow": {
     "slide_type": "fragment"
    }
   },
   "source": [
    "O governo empenhou-se em tentativas de novo acordo de liquidez com o FMI desde maio/junho de 2002. \n"
   ]
  },
  {
   "cell_type": "markdown",
   "metadata": {
    "slideshow": {
     "slide_type": "fragment"
    }
   },
   "source": [
    "Porém, somente após negociação com a equipe do candidato da oposição, Lula, o novo empréstimo foi acertado – US$ 30 bilhões em ago/2002 (com meta de superávit primário de 3,75%)."
   ]
  },
  {
   "cell_type": "markdown",
   "metadata": {
    "slideshow": {
     "slide_type": "subslide"
    }
   },
   "source": [
    "Esse momento marca o início do compromisso da oposição com a continuidade do regime macroeconômico iniciado com o Plano Real."
   ]
  },
  {
   "cell_type": "markdown",
   "metadata": {
    "slideshow": {
     "slide_type": "slide"
    }
   },
   "source": [
    "## Copom e metas de inflação\n",
    "\n",
    "Duas medidas complementares e importantes para a estabilidade monetária: "
   ]
  },
  {
   "cell_type": "markdown",
   "metadata": {
    "slideshow": {
     "slide_type": "fragment"
    }
   },
   "source": [
    "- Criação do Comitê de Política Monetária (Copom) em 1996 ([Circular no. 2.698](https://www.bcb.gov.br/pre/normativos/circ/1996/pdf/circ_2698_v1_O.pdf) do Banco Central) com o objetivo de \"estabelecer diretrizes da política monetária\" e definir a taxa básica de juros."
   ]
  },
  {
   "cell_type": "markdown",
   "metadata": {
    "slideshow": {
     "slide_type": "fragment"
    }
   },
   "source": [
    "- Regime de Metas de Inflação ([Decreto no 3.088 de 21/6/1999](https://www2.camara.leg.br/legin/fed/decret/1999/decreto-3088-21-junho-1999-370656-publicacaooriginal-1-pe.html)), definindo metas \"representadas por variações anuais de índice de preços de ampla divulgação\" (vejam os detalhes da Circular e do Decreto nos links)."
   ]
  },
  {
   "cell_type": "markdown",
   "metadata": {
    "slideshow": {
     "slide_type": "slide"
    }
   },
   "source": [
    "## Lei de Responsabilidade Fiscal\n",
    "\n",
    "Do lado fiscal, outro marco da época foi a aprovação da [Lei complementar no. 101, 4/5/2000](http://www.planalto.gov.br/ccivil_03/leis/lcp/lcp101.htm), a Lei de Responsabilidade Fiscal (LRF). "
   ]
  },
  {
   "cell_type": "markdown",
   "metadata": {
    "slideshow": {
     "slide_type": "fragment"
    }
   },
   "source": [
    "A LRF definiu código de conduta para a gestão das contas públicas nos três poderes e nas três esferas de governo, regulamentando o art. 163 da Constituição de 1988. Objetivos básicos: fiscalização e transparência."
   ]
  },
  {
   "cell_type": "markdown",
   "metadata": {
    "slideshow": {
     "slide_type": "fragment"
    }
   },
   "source": [
    "Instrumentos: Plano Plurianual (PPA, vetada), Leis de Diretrizes Orçamentárias (LDO) e Lei Orçamentária Anual (LOA), vinculando planejamento e execução do gasto público, sendo impedida a criação de despesa continuada (2 anos) sem previsão de receita. Conceito central é a Receita Corrente Líquida (RCL)."
   ]
  },
  {
   "cell_type": "markdown",
   "metadata": {
    "slideshow": {
     "slide_type": "slide"
    }
   },
   "source": [
    "## LRF\n",
    "\n",
    "*Limites de gastos com pessoal*: 50% da RCL para a União, 60% para estados e municípios, com repartição das despesas entre judiciário, executivo, legislativo e ministério público para os entes da federação."
   ]
  },
  {
   "cell_type": "markdown",
   "metadata": {
    "slideshow": {
     "slide_type": "fragment"
    }
   },
   "source": [
    "*Limites de endividamento* (definidos pelo Senado): da União, 3,5 vezes a RCL; e depois de 15 anos, dos estados, 2 vezes a RCL; dos municípios, 1,2 vezes a RCL."
   ]
  },
  {
   "cell_type": "markdown",
   "metadata": {
    "slideshow": {
     "slide_type": "fragment"
    }
   },
   "source": [
    "*Regras adicionais* com Constituição e emendas constitucionais do Fundef (1998-2006) e Fundeb (2007-2020)."
   ]
  },
  {
   "cell_type": "markdown",
   "metadata": {
    "slideshow": {
     "slide_type": "slide"
    }
   },
   "source": [
    "## Fundef e Fundeb\n",
    "\n",
    "Pontos básicos do Fundo de Manutenção e Desenvolvimento do Ensino Fundamental e de Valorização do Magistério [Fundef](http://www.planalto.gov.br/ccivil_03/Constituicao/Emendas/Emc/emc14.htm) e do Fundo de Manutenção e Desenvolvimento da Educação Básica [Fundeb](http://www.planalto.gov.br/ccivil_03/constituicao/emendas/emc/emc53.htm):"
   ]
  },
  {
   "cell_type": "markdown",
   "metadata": {
    "slideshow": {
     "slide_type": "fragment"
    }
   },
   "source": [
    "- limites mínimos de gasto com educação da União (18%), estados e municípios (25%, dos quais 60%\n",
    "para ensino básico no caso dos municípios), com 60% destinados para vencimentos dos professores mais valor mínimo de gasto por aluno matriculado."
   ]
  },
  {
   "cell_type": "markdown",
   "metadata": {
    "slideshow": {
     "slide_type": "fragment"
    }
   },
   "source": [
    " - Limite mínimo de gasto com saúde da União (regra específica), estados (12%) e municípios (15%)."
   ]
  },
  {
   "cell_type": "markdown",
   "metadata": {
    "slideshow": {
     "slide_type": "subslide"
    }
   },
   "source": [
    "Para finalizar, vejamos alguns dados básicos do desempenho macroeconômico do período."
   ]
  },
  {
   "cell_type": "code",
   "execution_count": 20,
   "metadata": {
    "slideshow": {
     "slide_type": "notes"
    }
   },
   "outputs": [
    {
     "data": {
      "application/javascript": [
       "(function(root) {\n",
       "  function now() {\n",
       "    return new Date();\n",
       "  }\n",
       "\n",
       "  var force = true;\n",
       "  var py_version = '3.4.2'.replace('rc', '-rc.').replace('.dev', '-dev.');\n",
       "  var reloading = false;\n",
       "  var Bokeh = root.Bokeh;\n",
       "\n",
       "  if (typeof (root._bokeh_timeout) === \"undefined\" || force) {\n",
       "    root._bokeh_timeout = Date.now() + 5000;\n",
       "    root._bokeh_failed_load = false;\n",
       "  }\n",
       "\n",
       "  function run_callbacks() {\n",
       "    try {\n",
       "      root._bokeh_onload_callbacks.forEach(function(callback) {\n",
       "        if (callback != null)\n",
       "          callback();\n",
       "      });\n",
       "    } finally {\n",
       "      delete root._bokeh_onload_callbacks;\n",
       "    }\n",
       "    console.debug(\"Bokeh: all callbacks have finished\");\n",
       "  }\n",
       "\n",
       "  function load_libs(css_urls, js_urls, js_modules, js_exports, callback) {\n",
       "    if (css_urls == null) css_urls = [];\n",
       "    if (js_urls == null) js_urls = [];\n",
       "    if (js_modules == null) js_modules = [];\n",
       "    if (js_exports == null) js_exports = {};\n",
       "\n",
       "    root._bokeh_onload_callbacks.push(callback);\n",
       "\n",
       "    if (root._bokeh_is_loading > 0) {\n",
       "      console.debug(\"Bokeh: BokehJS is being loaded, scheduling callback at\", now());\n",
       "      return null;\n",
       "    }\n",
       "    if (js_urls.length === 0 && js_modules.length === 0 && Object.keys(js_exports).length === 0) {\n",
       "      run_callbacks();\n",
       "      return null;\n",
       "    }\n",
       "    if (!reloading) {\n",
       "      console.debug(\"Bokeh: BokehJS not loaded, scheduling load and callback at\", now());\n",
       "    }\n",
       "\n",
       "    function on_load() {\n",
       "      root._bokeh_is_loading--;\n",
       "      if (root._bokeh_is_loading === 0) {\n",
       "        console.debug(\"Bokeh: all BokehJS libraries/stylesheets loaded\");\n",
       "        run_callbacks()\n",
       "      }\n",
       "    }\n",
       "    window._bokeh_on_load = on_load\n",
       "\n",
       "    function on_error() {\n",
       "      console.error(\"failed to load \" + url);\n",
       "    }\n",
       "\n",
       "    var skip = [];\n",
       "    if (window.requirejs) {\n",
       "      window.requirejs.config({'packages': {}, 'paths': {}, 'shim': {}});\n",
       "      root._bokeh_is_loading = css_urls.length + 0;\n",
       "    } else {\n",
       "      root._bokeh_is_loading = css_urls.length + js_urls.length + js_modules.length + Object.keys(js_exports).length;\n",
       "    }\n",
       "\n",
       "    var existing_stylesheets = []\n",
       "    var links = document.getElementsByTagName('link')\n",
       "    for (var i = 0; i < links.length; i++) {\n",
       "      var link = links[i]\n",
       "      if (link.href != null) {\n",
       "\texisting_stylesheets.push(link.href)\n",
       "      }\n",
       "    }\n",
       "    for (var i = 0; i < css_urls.length; i++) {\n",
       "      var url = css_urls[i];\n",
       "      if (existing_stylesheets.indexOf(url) !== -1) {\n",
       "\ton_load()\n",
       "\tcontinue;\n",
       "      }\n",
       "      const element = document.createElement(\"link\");\n",
       "      element.onload = on_load;\n",
       "      element.onerror = on_error;\n",
       "      element.rel = \"stylesheet\";\n",
       "      element.type = \"text/css\";\n",
       "      element.href = url;\n",
       "      console.debug(\"Bokeh: injecting link tag for BokehJS stylesheet: \", url);\n",
       "      document.body.appendChild(element);\n",
       "    }    var existing_scripts = []\n",
       "    var scripts = document.getElementsByTagName('script')\n",
       "    for (var i = 0; i < scripts.length; i++) {\n",
       "      var script = scripts[i]\n",
       "      if (script.src != null) {\n",
       "\texisting_scripts.push(script.src)\n",
       "      }\n",
       "    }\n",
       "    for (var i = 0; i < js_urls.length; i++) {\n",
       "      var url = js_urls[i];\n",
       "      if (skip.indexOf(url) !== -1 || existing_scripts.indexOf(url) !== -1) {\n",
       "\tif (!window.requirejs) {\n",
       "\t  on_load();\n",
       "\t}\n",
       "\tcontinue;\n",
       "      }\n",
       "      var element = document.createElement('script');\n",
       "      element.onload = on_load;\n",
       "      element.onerror = on_error;\n",
       "      element.async = false;\n",
       "      element.src = url;\n",
       "      console.debug(\"Bokeh: injecting script tag for BokehJS library: \", url);\n",
       "      document.head.appendChild(element);\n",
       "    }\n",
       "    for (var i = 0; i < js_modules.length; i++) {\n",
       "      var url = js_modules[i];\n",
       "      if (skip.indexOf(url) !== -1 || existing_scripts.indexOf(url) !== -1) {\n",
       "\tif (!window.requirejs) {\n",
       "\t  on_load();\n",
       "\t}\n",
       "\tcontinue;\n",
       "      }\n",
       "      var element = document.createElement('script');\n",
       "      element.onload = on_load;\n",
       "      element.onerror = on_error;\n",
       "      element.async = false;\n",
       "      element.src = url;\n",
       "      element.type = \"module\";\n",
       "      console.debug(\"Bokeh: injecting script tag for BokehJS library: \", url);\n",
       "      document.head.appendChild(element);\n",
       "    }\n",
       "    for (const name in js_exports) {\n",
       "      var url = js_exports[name];\n",
       "      if (skip.indexOf(url) >= 0 || root[name] != null) {\n",
       "\tif (!window.requirejs) {\n",
       "\t  on_load();\n",
       "\t}\n",
       "\tcontinue;\n",
       "      }\n",
       "      var element = document.createElement('script');\n",
       "      element.onerror = on_error;\n",
       "      element.async = false;\n",
       "      element.type = \"module\";\n",
       "      console.debug(\"Bokeh: injecting script tag for BokehJS library: \", url);\n",
       "      element.textContent = `\n",
       "      import ${name} from \"${url}\"\n",
       "      window.${name} = ${name}\n",
       "      window._bokeh_on_load()\n",
       "      `\n",
       "      document.head.appendChild(element);\n",
       "    }\n",
       "    if (!js_urls.length && !js_modules.length) {\n",
       "      on_load()\n",
       "    }\n",
       "  };\n",
       "\n",
       "  function inject_raw_css(css) {\n",
       "    const element = document.createElement(\"style\");\n",
       "    element.appendChild(document.createTextNode(css));\n",
       "    document.body.appendChild(element);\n",
       "  }\n",
       "\n",
       "  var js_urls = [\"https://cdn.bokeh.org/bokeh/release/bokeh-3.4.2.min.js\", \"https://cdn.bokeh.org/bokeh/release/bokeh-gl-3.4.2.min.js\", \"https://cdn.bokeh.org/bokeh/release/bokeh-widgets-3.4.2.min.js\", \"https://cdn.bokeh.org/bokeh/release/bokeh-tables-3.4.2.min.js\", \"https://cdn.holoviz.org/panel/1.4.5/dist/panel.min.js\"];\n",
       "  var js_modules = [];\n",
       "  var js_exports = {};\n",
       "  var css_urls = [];\n",
       "  var inline_js = [    function(Bokeh) {\n",
       "      Bokeh.set_log_level(\"info\");\n",
       "    },\n",
       "function(Bokeh) {} // ensure no trailing comma for IE\n",
       "  ];\n",
       "\n",
       "  function run_inline_js() {\n",
       "    if ((root.Bokeh !== undefined) || (force === true)) {\n",
       "      for (var i = 0; i < inline_js.length; i++) {\n",
       "\ttry {\n",
       "          inline_js[i].call(root, root.Bokeh);\n",
       "\t} catch(e) {\n",
       "\t  if (!reloading) {\n",
       "\t    throw e;\n",
       "\t  }\n",
       "\t}\n",
       "      }\n",
       "      // Cache old bokeh versions\n",
       "      if (Bokeh != undefined && !reloading) {\n",
       "\tvar NewBokeh = root.Bokeh;\n",
       "\tif (Bokeh.versions === undefined) {\n",
       "\t  Bokeh.versions = new Map();\n",
       "\t}\n",
       "\tif (NewBokeh.version !== Bokeh.version) {\n",
       "\t  Bokeh.versions.set(NewBokeh.version, NewBokeh)\n",
       "\t}\n",
       "\troot.Bokeh = Bokeh;\n",
       "      }} else if (Date.now() < root._bokeh_timeout) {\n",
       "      setTimeout(run_inline_js, 100);\n",
       "    } else if (!root._bokeh_failed_load) {\n",
       "      console.log(\"Bokeh: BokehJS failed to load within specified timeout.\");\n",
       "      root._bokeh_failed_load = true;\n",
       "    }\n",
       "    root._bokeh_is_initializing = false\n",
       "  }\n",
       "\n",
       "  function load_or_wait() {\n",
       "    // Implement a backoff loop that tries to ensure we do not load multiple\n",
       "    // versions of Bokeh and its dependencies at the same time.\n",
       "    // In recent versions we use the root._bokeh_is_initializing flag\n",
       "    // to determine whether there is an ongoing attempt to initialize\n",
       "    // bokeh, however for backward compatibility we also try to ensure\n",
       "    // that we do not start loading a newer (Panel>=1.0 and Bokeh>3) version\n",
       "    // before older versions are fully initialized.\n",
       "    if (root._bokeh_is_initializing && Date.now() > root._bokeh_timeout) {\n",
       "      root._bokeh_is_initializing = false;\n",
       "      root._bokeh_onload_callbacks = undefined;\n",
       "      console.log(\"Bokeh: BokehJS was loaded multiple times but one version failed to initialize.\");\n",
       "      load_or_wait();\n",
       "    } else if (root._bokeh_is_initializing || (typeof root._bokeh_is_initializing === \"undefined\" && root._bokeh_onload_callbacks !== undefined)) {\n",
       "      setTimeout(load_or_wait, 100);\n",
       "    } else {\n",
       "      root._bokeh_is_initializing = true\n",
       "      root._bokeh_onload_callbacks = []\n",
       "      var bokeh_loaded = Bokeh != null && (Bokeh.version === py_version || (Bokeh.versions !== undefined && Bokeh.versions.has(py_version)));\n",
       "      if (!reloading && !bokeh_loaded) {\n",
       "\troot.Bokeh = undefined;\n",
       "      }\n",
       "      load_libs(css_urls, js_urls, js_modules, js_exports, function() {\n",
       "\tconsole.debug(\"Bokeh: BokehJS plotting callback run at\", now());\n",
       "\trun_inline_js();\n",
       "      });\n",
       "    }\n",
       "  }\n",
       "  // Give older versions of the autoload script a head-start to ensure\n",
       "  // they initialize before we start loading newer version.\n",
       "  setTimeout(load_or_wait, 100)\n",
       "}(window));"
      ],
      "application/vnd.holoviews_load.v0+json": "(function(root) {\n  function now() {\n    return new Date();\n  }\n\n  var force = true;\n  var py_version = '3.4.2'.replace('rc', '-rc.').replace('.dev', '-dev.');\n  var reloading = false;\n  var Bokeh = root.Bokeh;\n\n  if (typeof (root._bokeh_timeout) === \"undefined\" || force) {\n    root._bokeh_timeout = Date.now() + 5000;\n    root._bokeh_failed_load = false;\n  }\n\n  function run_callbacks() {\n    try {\n      root._bokeh_onload_callbacks.forEach(function(callback) {\n        if (callback != null)\n          callback();\n      });\n    } finally {\n      delete root._bokeh_onload_callbacks;\n    }\n    console.debug(\"Bokeh: all callbacks have finished\");\n  }\n\n  function load_libs(css_urls, js_urls, js_modules, js_exports, callback) {\n    if (css_urls == null) css_urls = [];\n    if (js_urls == null) js_urls = [];\n    if (js_modules == null) js_modules = [];\n    if (js_exports == null) js_exports = {};\n\n    root._bokeh_onload_callbacks.push(callback);\n\n    if (root._bokeh_is_loading > 0) {\n      console.debug(\"Bokeh: BokehJS is being loaded, scheduling callback at\", now());\n      return null;\n    }\n    if (js_urls.length === 0 && js_modules.length === 0 && Object.keys(js_exports).length === 0) {\n      run_callbacks();\n      return null;\n    }\n    if (!reloading) {\n      console.debug(\"Bokeh: BokehJS not loaded, scheduling load and callback at\", now());\n    }\n\n    function on_load() {\n      root._bokeh_is_loading--;\n      if (root._bokeh_is_loading === 0) {\n        console.debug(\"Bokeh: all BokehJS libraries/stylesheets loaded\");\n        run_callbacks()\n      }\n    }\n    window._bokeh_on_load = on_load\n\n    function on_error() {\n      console.error(\"failed to load \" + url);\n    }\n\n    var skip = [];\n    if (window.requirejs) {\n      window.requirejs.config({'packages': {}, 'paths': {}, 'shim': {}});\n      root._bokeh_is_loading = css_urls.length + 0;\n    } else {\n      root._bokeh_is_loading = css_urls.length + js_urls.length + js_modules.length + Object.keys(js_exports).length;\n    }\n\n    var existing_stylesheets = []\n    var links = document.getElementsByTagName('link')\n    for (var i = 0; i < links.length; i++) {\n      var link = links[i]\n      if (link.href != null) {\n\texisting_stylesheets.push(link.href)\n      }\n    }\n    for (var i = 0; i < css_urls.length; i++) {\n      var url = css_urls[i];\n      if (existing_stylesheets.indexOf(url) !== -1) {\n\ton_load()\n\tcontinue;\n      }\n      const element = document.createElement(\"link\");\n      element.onload = on_load;\n      element.onerror = on_error;\n      element.rel = \"stylesheet\";\n      element.type = \"text/css\";\n      element.href = url;\n      console.debug(\"Bokeh: injecting link tag for BokehJS stylesheet: \", url);\n      document.body.appendChild(element);\n    }    var existing_scripts = []\n    var scripts = document.getElementsByTagName('script')\n    for (var i = 0; i < scripts.length; i++) {\n      var script = scripts[i]\n      if (script.src != null) {\n\texisting_scripts.push(script.src)\n      }\n    }\n    for (var i = 0; i < js_urls.length; i++) {\n      var url = js_urls[i];\n      if (skip.indexOf(url) !== -1 || existing_scripts.indexOf(url) !== -1) {\n\tif (!window.requirejs) {\n\t  on_load();\n\t}\n\tcontinue;\n      }\n      var element = document.createElement('script');\n      element.onload = on_load;\n      element.onerror = on_error;\n      element.async = false;\n      element.src = url;\n      console.debug(\"Bokeh: injecting script tag for BokehJS library: \", url);\n      document.head.appendChild(element);\n    }\n    for (var i = 0; i < js_modules.length; i++) {\n      var url = js_modules[i];\n      if (skip.indexOf(url) !== -1 || existing_scripts.indexOf(url) !== -1) {\n\tif (!window.requirejs) {\n\t  on_load();\n\t}\n\tcontinue;\n      }\n      var element = document.createElement('script');\n      element.onload = on_load;\n      element.onerror = on_error;\n      element.async = false;\n      element.src = url;\n      element.type = \"module\";\n      console.debug(\"Bokeh: injecting script tag for BokehJS library: \", url);\n      document.head.appendChild(element);\n    }\n    for (const name in js_exports) {\n      var url = js_exports[name];\n      if (skip.indexOf(url) >= 0 || root[name] != null) {\n\tif (!window.requirejs) {\n\t  on_load();\n\t}\n\tcontinue;\n      }\n      var element = document.createElement('script');\n      element.onerror = on_error;\n      element.async = false;\n      element.type = \"module\";\n      console.debug(\"Bokeh: injecting script tag for BokehJS library: \", url);\n      element.textContent = `\n      import ${name} from \"${url}\"\n      window.${name} = ${name}\n      window._bokeh_on_load()\n      `\n      document.head.appendChild(element);\n    }\n    if (!js_urls.length && !js_modules.length) {\n      on_load()\n    }\n  };\n\n  function inject_raw_css(css) {\n    const element = document.createElement(\"style\");\n    element.appendChild(document.createTextNode(css));\n    document.body.appendChild(element);\n  }\n\n  var js_urls = [\"https://cdn.bokeh.org/bokeh/release/bokeh-3.4.2.min.js\", \"https://cdn.bokeh.org/bokeh/release/bokeh-gl-3.4.2.min.js\", \"https://cdn.bokeh.org/bokeh/release/bokeh-widgets-3.4.2.min.js\", \"https://cdn.bokeh.org/bokeh/release/bokeh-tables-3.4.2.min.js\", \"https://cdn.holoviz.org/panel/1.4.5/dist/panel.min.js\"];\n  var js_modules = [];\n  var js_exports = {};\n  var css_urls = [];\n  var inline_js = [    function(Bokeh) {\n      Bokeh.set_log_level(\"info\");\n    },\nfunction(Bokeh) {} // ensure no trailing comma for IE\n  ];\n\n  function run_inline_js() {\n    if ((root.Bokeh !== undefined) || (force === true)) {\n      for (var i = 0; i < inline_js.length; i++) {\n\ttry {\n          inline_js[i].call(root, root.Bokeh);\n\t} catch(e) {\n\t  if (!reloading) {\n\t    throw e;\n\t  }\n\t}\n      }\n      // Cache old bokeh versions\n      if (Bokeh != undefined && !reloading) {\n\tvar NewBokeh = root.Bokeh;\n\tif (Bokeh.versions === undefined) {\n\t  Bokeh.versions = new Map();\n\t}\n\tif (NewBokeh.version !== Bokeh.version) {\n\t  Bokeh.versions.set(NewBokeh.version, NewBokeh)\n\t}\n\troot.Bokeh = Bokeh;\n      }} else if (Date.now() < root._bokeh_timeout) {\n      setTimeout(run_inline_js, 100);\n    } else if (!root._bokeh_failed_load) {\n      console.log(\"Bokeh: BokehJS failed to load within specified timeout.\");\n      root._bokeh_failed_load = true;\n    }\n    root._bokeh_is_initializing = false\n  }\n\n  function load_or_wait() {\n    // Implement a backoff loop that tries to ensure we do not load multiple\n    // versions of Bokeh and its dependencies at the same time.\n    // In recent versions we use the root._bokeh_is_initializing flag\n    // to determine whether there is an ongoing attempt to initialize\n    // bokeh, however for backward compatibility we also try to ensure\n    // that we do not start loading a newer (Panel>=1.0 and Bokeh>3) version\n    // before older versions are fully initialized.\n    if (root._bokeh_is_initializing && Date.now() > root._bokeh_timeout) {\n      root._bokeh_is_initializing = false;\n      root._bokeh_onload_callbacks = undefined;\n      console.log(\"Bokeh: BokehJS was loaded multiple times but one version failed to initialize.\");\n      load_or_wait();\n    } else if (root._bokeh_is_initializing || (typeof root._bokeh_is_initializing === \"undefined\" && root._bokeh_onload_callbacks !== undefined)) {\n      setTimeout(load_or_wait, 100);\n    } else {\n      root._bokeh_is_initializing = true\n      root._bokeh_onload_callbacks = []\n      var bokeh_loaded = Bokeh != null && (Bokeh.version === py_version || (Bokeh.versions !== undefined && Bokeh.versions.has(py_version)));\n      if (!reloading && !bokeh_loaded) {\n\troot.Bokeh = undefined;\n      }\n      load_libs(css_urls, js_urls, js_modules, js_exports, function() {\n\tconsole.debug(\"Bokeh: BokehJS plotting callback run at\", now());\n\trun_inline_js();\n      });\n    }\n  }\n  // Give older versions of the autoload script a head-start to ensure\n  // they initialize before we start loading newer version.\n  setTimeout(load_or_wait, 100)\n}(window));"
     },
     "metadata": {},
     "output_type": "display_data"
    },
    {
     "data": {
      "application/javascript": [
       "\n",
       "if ((window.PyViz === undefined) || (window.PyViz instanceof HTMLElement)) {\n",
       "  window.PyViz = {comms: {}, comm_status:{}, kernels:{}, receivers: {}, plot_index: []}\n",
       "}\n",
       "\n",
       "\n",
       "    function JupyterCommManager() {\n",
       "    }\n",
       "\n",
       "    JupyterCommManager.prototype.register_target = function(plot_id, comm_id, msg_handler) {\n",
       "      if (window.comm_manager || ((window.Jupyter !== undefined) && (Jupyter.notebook.kernel != null))) {\n",
       "        var comm_manager = window.comm_manager || Jupyter.notebook.kernel.comm_manager;\n",
       "        comm_manager.register_target(comm_id, function(comm) {\n",
       "          comm.on_msg(msg_handler);\n",
       "        });\n",
       "      } else if ((plot_id in window.PyViz.kernels) && (window.PyViz.kernels[plot_id])) {\n",
       "        window.PyViz.kernels[plot_id].registerCommTarget(comm_id, function(comm) {\n",
       "          comm.onMsg = msg_handler;\n",
       "        });\n",
       "      } else if (typeof google != 'undefined' && google.colab.kernel != null) {\n",
       "        google.colab.kernel.comms.registerTarget(comm_id, (comm) => {\n",
       "          var messages = comm.messages[Symbol.asyncIterator]();\n",
       "          function processIteratorResult(result) {\n",
       "            var message = result.value;\n",
       "            console.log(message)\n",
       "            var content = {data: message.data, comm_id};\n",
       "            var buffers = []\n",
       "            for (var buffer of message.buffers || []) {\n",
       "              buffers.push(new DataView(buffer))\n",
       "            }\n",
       "            var metadata = message.metadata || {};\n",
       "            var msg = {content, buffers, metadata}\n",
       "            msg_handler(msg);\n",
       "            return messages.next().then(processIteratorResult);\n",
       "          }\n",
       "          return messages.next().then(processIteratorResult);\n",
       "        })\n",
       "      }\n",
       "    }\n",
       "\n",
       "    JupyterCommManager.prototype.get_client_comm = function(plot_id, comm_id, msg_handler) {\n",
       "      if (comm_id in window.PyViz.comms) {\n",
       "        return window.PyViz.comms[comm_id];\n",
       "      } else if (window.comm_manager || ((window.Jupyter !== undefined) && (Jupyter.notebook.kernel != null))) {\n",
       "        var comm_manager = window.comm_manager || Jupyter.notebook.kernel.comm_manager;\n",
       "        var comm = comm_manager.new_comm(comm_id, {}, {}, {}, comm_id);\n",
       "        if (msg_handler) {\n",
       "          comm.on_msg(msg_handler);\n",
       "        }\n",
       "      } else if ((plot_id in window.PyViz.kernels) && (window.PyViz.kernels[plot_id])) {\n",
       "        var comm = window.PyViz.kernels[plot_id].connectToComm(comm_id);\n",
       "        comm.open();\n",
       "        if (msg_handler) {\n",
       "          comm.onMsg = msg_handler;\n",
       "        }\n",
       "      } else if (typeof google != 'undefined' && google.colab.kernel != null) {\n",
       "        var comm_promise = google.colab.kernel.comms.open(comm_id)\n",
       "        comm_promise.then((comm) => {\n",
       "          window.PyViz.comms[comm_id] = comm;\n",
       "          if (msg_handler) {\n",
       "            var messages = comm.messages[Symbol.asyncIterator]();\n",
       "            function processIteratorResult(result) {\n",
       "              var message = result.value;\n",
       "              var content = {data: message.data};\n",
       "              var metadata = message.metadata || {comm_id};\n",
       "              var msg = {content, metadata}\n",
       "              msg_handler(msg);\n",
       "              return messages.next().then(processIteratorResult);\n",
       "            }\n",
       "            return messages.next().then(processIteratorResult);\n",
       "          }\n",
       "        })\n",
       "        var sendClosure = (data, metadata, buffers, disposeOnDone) => {\n",
       "          return comm_promise.then((comm) => {\n",
       "            comm.send(data, metadata, buffers, disposeOnDone);\n",
       "          });\n",
       "        };\n",
       "        var comm = {\n",
       "          send: sendClosure\n",
       "        };\n",
       "      }\n",
       "      window.PyViz.comms[comm_id] = comm;\n",
       "      return comm;\n",
       "    }\n",
       "    window.PyViz.comm_manager = new JupyterCommManager();\n",
       "    \n",
       "\n",
       "\n",
       "var JS_MIME_TYPE = 'application/javascript';\n",
       "var HTML_MIME_TYPE = 'text/html';\n",
       "var EXEC_MIME_TYPE = 'application/vnd.holoviews_exec.v0+json';\n",
       "var CLASS_NAME = 'output';\n",
       "\n",
       "/**\n",
       " * Render data to the DOM node\n",
       " */\n",
       "function render(props, node) {\n",
       "  var div = document.createElement(\"div\");\n",
       "  var script = document.createElement(\"script\");\n",
       "  node.appendChild(div);\n",
       "  node.appendChild(script);\n",
       "}\n",
       "\n",
       "/**\n",
       " * Handle when a new output is added\n",
       " */\n",
       "function handle_add_output(event, handle) {\n",
       "  var output_area = handle.output_area;\n",
       "  var output = handle.output;\n",
       "  if ((output.data == undefined) || (!output.data.hasOwnProperty(EXEC_MIME_TYPE))) {\n",
       "    return\n",
       "  }\n",
       "  var id = output.metadata[EXEC_MIME_TYPE][\"id\"];\n",
       "  var toinsert = output_area.element.find(\".\" + CLASS_NAME.split(' ')[0]);\n",
       "  if (id !== undefined) {\n",
       "    var nchildren = toinsert.length;\n",
       "    var html_node = toinsert[nchildren-1].children[0];\n",
       "    html_node.innerHTML = output.data[HTML_MIME_TYPE];\n",
       "    var scripts = [];\n",
       "    var nodelist = html_node.querySelectorAll(\"script\");\n",
       "    for (var i in nodelist) {\n",
       "      if (nodelist.hasOwnProperty(i)) {\n",
       "        scripts.push(nodelist[i])\n",
       "      }\n",
       "    }\n",
       "\n",
       "    scripts.forEach( function (oldScript) {\n",
       "      var newScript = document.createElement(\"script\");\n",
       "      var attrs = [];\n",
       "      var nodemap = oldScript.attributes;\n",
       "      for (var j in nodemap) {\n",
       "        if (nodemap.hasOwnProperty(j)) {\n",
       "          attrs.push(nodemap[j])\n",
       "        }\n",
       "      }\n",
       "      attrs.forEach(function(attr) { newScript.setAttribute(attr.name, attr.value) });\n",
       "      newScript.appendChild(document.createTextNode(oldScript.innerHTML));\n",
       "      oldScript.parentNode.replaceChild(newScript, oldScript);\n",
       "    });\n",
       "    if (JS_MIME_TYPE in output.data) {\n",
       "      toinsert[nchildren-1].children[1].textContent = output.data[JS_MIME_TYPE];\n",
       "    }\n",
       "    output_area._hv_plot_id = id;\n",
       "    if ((window.Bokeh !== undefined) && (id in Bokeh.index)) {\n",
       "      window.PyViz.plot_index[id] = Bokeh.index[id];\n",
       "    } else {\n",
       "      window.PyViz.plot_index[id] = null;\n",
       "    }\n",
       "  } else if (output.metadata[EXEC_MIME_TYPE][\"server_id\"] !== undefined) {\n",
       "    var bk_div = document.createElement(\"div\");\n",
       "    bk_div.innerHTML = output.data[HTML_MIME_TYPE];\n",
       "    var script_attrs = bk_div.children[0].attributes;\n",
       "    for (var i = 0; i < script_attrs.length; i++) {\n",
       "      toinsert[toinsert.length - 1].childNodes[1].setAttribute(script_attrs[i].name, script_attrs[i].value);\n",
       "    }\n",
       "    // store reference to server id on output_area\n",
       "    output_area._bokeh_server_id = output.metadata[EXEC_MIME_TYPE][\"server_id\"];\n",
       "  }\n",
       "}\n",
       "\n",
       "/**\n",
       " * Handle when an output is cleared or removed\n",
       " */\n",
       "function handle_clear_output(event, handle) {\n",
       "  var id = handle.cell.output_area._hv_plot_id;\n",
       "  var server_id = handle.cell.output_area._bokeh_server_id;\n",
       "  if (((id === undefined) || !(id in PyViz.plot_index)) && (server_id !== undefined)) { return; }\n",
       "  var comm = window.PyViz.comm_manager.get_client_comm(\"hv-extension-comm\", \"hv-extension-comm\", function () {});\n",
       "  if (server_id !== null) {\n",
       "    comm.send({event_type: 'server_delete', 'id': server_id});\n",
       "    return;\n",
       "  } else if (comm !== null) {\n",
       "    comm.send({event_type: 'delete', 'id': id});\n",
       "  }\n",
       "  delete PyViz.plot_index[id];\n",
       "  if ((window.Bokeh !== undefined) & (id in window.Bokeh.index)) {\n",
       "    var doc = window.Bokeh.index[id].model.document\n",
       "    doc.clear();\n",
       "    const i = window.Bokeh.documents.indexOf(doc);\n",
       "    if (i > -1) {\n",
       "      window.Bokeh.documents.splice(i, 1);\n",
       "    }\n",
       "  }\n",
       "}\n",
       "\n",
       "/**\n",
       " * Handle kernel restart event\n",
       " */\n",
       "function handle_kernel_cleanup(event, handle) {\n",
       "  delete PyViz.comms[\"hv-extension-comm\"];\n",
       "  window.PyViz.plot_index = {}\n",
       "}\n",
       "\n",
       "/**\n",
       " * Handle update_display_data messages\n",
       " */\n",
       "function handle_update_output(event, handle) {\n",
       "  handle_clear_output(event, {cell: {output_area: handle.output_area}})\n",
       "  handle_add_output(event, handle)\n",
       "}\n",
       "\n",
       "function register_renderer(events, OutputArea) {\n",
       "  function append_mime(data, metadata, element) {\n",
       "    // create a DOM node to render to\n",
       "    var toinsert = this.create_output_subarea(\n",
       "    metadata,\n",
       "    CLASS_NAME,\n",
       "    EXEC_MIME_TYPE\n",
       "    );\n",
       "    this.keyboard_manager.register_events(toinsert);\n",
       "    // Render to node\n",
       "    var props = {data: data, metadata: metadata[EXEC_MIME_TYPE]};\n",
       "    render(props, toinsert[0]);\n",
       "    element.append(toinsert);\n",
       "    return toinsert\n",
       "  }\n",
       "\n",
       "  events.on('output_added.OutputArea', handle_add_output);\n",
       "  events.on('output_updated.OutputArea', handle_update_output);\n",
       "  events.on('clear_output.CodeCell', handle_clear_output);\n",
       "  events.on('delete.Cell', handle_clear_output);\n",
       "  events.on('kernel_ready.Kernel', handle_kernel_cleanup);\n",
       "\n",
       "  OutputArea.prototype.register_mime_type(EXEC_MIME_TYPE, append_mime, {\n",
       "    safe: true,\n",
       "    index: 0\n",
       "  });\n",
       "}\n",
       "\n",
       "if (window.Jupyter !== undefined) {\n",
       "  try {\n",
       "    var events = require('base/js/events');\n",
       "    var OutputArea = require('notebook/js/outputarea').OutputArea;\n",
       "    if (OutputArea.prototype.mime_types().indexOf(EXEC_MIME_TYPE) == -1) {\n",
       "      register_renderer(events, OutputArea);\n",
       "    }\n",
       "  } catch(err) {\n",
       "  }\n",
       "}\n"
      ],
      "application/vnd.holoviews_load.v0+json": "\nif ((window.PyViz === undefined) || (window.PyViz instanceof HTMLElement)) {\n  window.PyViz = {comms: {}, comm_status:{}, kernels:{}, receivers: {}, plot_index: []}\n}\n\n\n    function JupyterCommManager() {\n    }\n\n    JupyterCommManager.prototype.register_target = function(plot_id, comm_id, msg_handler) {\n      if (window.comm_manager || ((window.Jupyter !== undefined) && (Jupyter.notebook.kernel != null))) {\n        var comm_manager = window.comm_manager || Jupyter.notebook.kernel.comm_manager;\n        comm_manager.register_target(comm_id, function(comm) {\n          comm.on_msg(msg_handler);\n        });\n      } else if ((plot_id in window.PyViz.kernels) && (window.PyViz.kernels[plot_id])) {\n        window.PyViz.kernels[plot_id].registerCommTarget(comm_id, function(comm) {\n          comm.onMsg = msg_handler;\n        });\n      } else if (typeof google != 'undefined' && google.colab.kernel != null) {\n        google.colab.kernel.comms.registerTarget(comm_id, (comm) => {\n          var messages = comm.messages[Symbol.asyncIterator]();\n          function processIteratorResult(result) {\n            var message = result.value;\n            console.log(message)\n            var content = {data: message.data, comm_id};\n            var buffers = []\n            for (var buffer of message.buffers || []) {\n              buffers.push(new DataView(buffer))\n            }\n            var metadata = message.metadata || {};\n            var msg = {content, buffers, metadata}\n            msg_handler(msg);\n            return messages.next().then(processIteratorResult);\n          }\n          return messages.next().then(processIteratorResult);\n        })\n      }\n    }\n\n    JupyterCommManager.prototype.get_client_comm = function(plot_id, comm_id, msg_handler) {\n      if (comm_id in window.PyViz.comms) {\n        return window.PyViz.comms[comm_id];\n      } else if (window.comm_manager || ((window.Jupyter !== undefined) && (Jupyter.notebook.kernel != null))) {\n        var comm_manager = window.comm_manager || Jupyter.notebook.kernel.comm_manager;\n        var comm = comm_manager.new_comm(comm_id, {}, {}, {}, comm_id);\n        if (msg_handler) {\n          comm.on_msg(msg_handler);\n        }\n      } else if ((plot_id in window.PyViz.kernels) && (window.PyViz.kernels[plot_id])) {\n        var comm = window.PyViz.kernels[plot_id].connectToComm(comm_id);\n        comm.open();\n        if (msg_handler) {\n          comm.onMsg = msg_handler;\n        }\n      } else if (typeof google != 'undefined' && google.colab.kernel != null) {\n        var comm_promise = google.colab.kernel.comms.open(comm_id)\n        comm_promise.then((comm) => {\n          window.PyViz.comms[comm_id] = comm;\n          if (msg_handler) {\n            var messages = comm.messages[Symbol.asyncIterator]();\n            function processIteratorResult(result) {\n              var message = result.value;\n              var content = {data: message.data};\n              var metadata = message.metadata || {comm_id};\n              var msg = {content, metadata}\n              msg_handler(msg);\n              return messages.next().then(processIteratorResult);\n            }\n            return messages.next().then(processIteratorResult);\n          }\n        })\n        var sendClosure = (data, metadata, buffers, disposeOnDone) => {\n          return comm_promise.then((comm) => {\n            comm.send(data, metadata, buffers, disposeOnDone);\n          });\n        };\n        var comm = {\n          send: sendClosure\n        };\n      }\n      window.PyViz.comms[comm_id] = comm;\n      return comm;\n    }\n    window.PyViz.comm_manager = new JupyterCommManager();\n    \n\n\nvar JS_MIME_TYPE = 'application/javascript';\nvar HTML_MIME_TYPE = 'text/html';\nvar EXEC_MIME_TYPE = 'application/vnd.holoviews_exec.v0+json';\nvar CLASS_NAME = 'output';\n\n/**\n * Render data to the DOM node\n */\nfunction render(props, node) {\n  var div = document.createElement(\"div\");\n  var script = document.createElement(\"script\");\n  node.appendChild(div);\n  node.appendChild(script);\n}\n\n/**\n * Handle when a new output is added\n */\nfunction handle_add_output(event, handle) {\n  var output_area = handle.output_area;\n  var output = handle.output;\n  if ((output.data == undefined) || (!output.data.hasOwnProperty(EXEC_MIME_TYPE))) {\n    return\n  }\n  var id = output.metadata[EXEC_MIME_TYPE][\"id\"];\n  var toinsert = output_area.element.find(\".\" + CLASS_NAME.split(' ')[0]);\n  if (id !== undefined) {\n    var nchildren = toinsert.length;\n    var html_node = toinsert[nchildren-1].children[0];\n    html_node.innerHTML = output.data[HTML_MIME_TYPE];\n    var scripts = [];\n    var nodelist = html_node.querySelectorAll(\"script\");\n    for (var i in nodelist) {\n      if (nodelist.hasOwnProperty(i)) {\n        scripts.push(nodelist[i])\n      }\n    }\n\n    scripts.forEach( function (oldScript) {\n      var newScript = document.createElement(\"script\");\n      var attrs = [];\n      var nodemap = oldScript.attributes;\n      for (var j in nodemap) {\n        if (nodemap.hasOwnProperty(j)) {\n          attrs.push(nodemap[j])\n        }\n      }\n      attrs.forEach(function(attr) { newScript.setAttribute(attr.name, attr.value) });\n      newScript.appendChild(document.createTextNode(oldScript.innerHTML));\n      oldScript.parentNode.replaceChild(newScript, oldScript);\n    });\n    if (JS_MIME_TYPE in output.data) {\n      toinsert[nchildren-1].children[1].textContent = output.data[JS_MIME_TYPE];\n    }\n    output_area._hv_plot_id = id;\n    if ((window.Bokeh !== undefined) && (id in Bokeh.index)) {\n      window.PyViz.plot_index[id] = Bokeh.index[id];\n    } else {\n      window.PyViz.plot_index[id] = null;\n    }\n  } else if (output.metadata[EXEC_MIME_TYPE][\"server_id\"] !== undefined) {\n    var bk_div = document.createElement(\"div\");\n    bk_div.innerHTML = output.data[HTML_MIME_TYPE];\n    var script_attrs = bk_div.children[0].attributes;\n    for (var i = 0; i < script_attrs.length; i++) {\n      toinsert[toinsert.length - 1].childNodes[1].setAttribute(script_attrs[i].name, script_attrs[i].value);\n    }\n    // store reference to server id on output_area\n    output_area._bokeh_server_id = output.metadata[EXEC_MIME_TYPE][\"server_id\"];\n  }\n}\n\n/**\n * Handle when an output is cleared or removed\n */\nfunction handle_clear_output(event, handle) {\n  var id = handle.cell.output_area._hv_plot_id;\n  var server_id = handle.cell.output_area._bokeh_server_id;\n  if (((id === undefined) || !(id in PyViz.plot_index)) && (server_id !== undefined)) { return; }\n  var comm = window.PyViz.comm_manager.get_client_comm(\"hv-extension-comm\", \"hv-extension-comm\", function () {});\n  if (server_id !== null) {\n    comm.send({event_type: 'server_delete', 'id': server_id});\n    return;\n  } else if (comm !== null) {\n    comm.send({event_type: 'delete', 'id': id});\n  }\n  delete PyViz.plot_index[id];\n  if ((window.Bokeh !== undefined) & (id in window.Bokeh.index)) {\n    var doc = window.Bokeh.index[id].model.document\n    doc.clear();\n    const i = window.Bokeh.documents.indexOf(doc);\n    if (i > -1) {\n      window.Bokeh.documents.splice(i, 1);\n    }\n  }\n}\n\n/**\n * Handle kernel restart event\n */\nfunction handle_kernel_cleanup(event, handle) {\n  delete PyViz.comms[\"hv-extension-comm\"];\n  window.PyViz.plot_index = {}\n}\n\n/**\n * Handle update_display_data messages\n */\nfunction handle_update_output(event, handle) {\n  handle_clear_output(event, {cell: {output_area: handle.output_area}})\n  handle_add_output(event, handle)\n}\n\nfunction register_renderer(events, OutputArea) {\n  function append_mime(data, metadata, element) {\n    // create a DOM node to render to\n    var toinsert = this.create_output_subarea(\n    metadata,\n    CLASS_NAME,\n    EXEC_MIME_TYPE\n    );\n    this.keyboard_manager.register_events(toinsert);\n    // Render to node\n    var props = {data: data, metadata: metadata[EXEC_MIME_TYPE]};\n    render(props, toinsert[0]);\n    element.append(toinsert);\n    return toinsert\n  }\n\n  events.on('output_added.OutputArea', handle_add_output);\n  events.on('output_updated.OutputArea', handle_update_output);\n  events.on('clear_output.CodeCell', handle_clear_output);\n  events.on('delete.Cell', handle_clear_output);\n  events.on('kernel_ready.Kernel', handle_kernel_cleanup);\n\n  OutputArea.prototype.register_mime_type(EXEC_MIME_TYPE, append_mime, {\n    safe: true,\n    index: 0\n  });\n}\n\nif (window.Jupyter !== undefined) {\n  try {\n    var events = require('base/js/events');\n    var OutputArea = require('notebook/js/outputarea').OutputArea;\n    if (OutputArea.prototype.mime_types().indexOf(EXEC_MIME_TYPE) == -1) {\n      register_renderer(events, OutputArea);\n    }\n  } catch(err) {\n  }\n}\n"
     },
     "metadata": {},
     "output_type": "display_data"
    },
    {
     "data": {
      "text/html": [
       "<style>*[data-root-id],\n",
       "*[data-root-id] > * {\n",
       "  box-sizing: border-box;\n",
       "  font-family: var(--jp-ui-font-family);\n",
       "  font-size: var(--jp-ui-font-size1);\n",
       "  color: var(--vscode-editor-foreground, var(--jp-ui-font-color1));\n",
       "}\n",
       "\n",
       "/* Override VSCode background color */\n",
       ".cell-output-ipywidget-background:has(\n",
       "    > .cell-output-ipywidget-background > .lm-Widget > *[data-root-id]\n",
       "  ),\n",
       ".cell-output-ipywidget-background:has(> .lm-Widget > *[data-root-id]) {\n",
       "  background-color: transparent !important;\n",
       "}\n",
       "</style>"
      ]
     },
     "metadata": {},
     "output_type": "display_data"
    },
    {
     "data": {
      "application/vnd.holoviews_exec.v0+json": "",
      "text/html": [
       "<div id='7f0426ee-9af7-4161-8e93-a972df90bd5d'>\n",
       "  <div id=\"a800e9c2-8d96-4777-915b-4e9f66360fca\" data-root-id=\"7f0426ee-9af7-4161-8e93-a972df90bd5d\" style=\"display: contents;\"></div>\n",
       "</div>\n",
       "<script type=\"application/javascript\">(function(root) {\n",
       "  var docs_json = {\"a5da966c-6f9f-4be8-8fd2-cc118cedd304\":{\"version\":\"3.4.2\",\"title\":\"Bokeh Application\",\"roots\":[{\"type\":\"object\",\"name\":\"panel.models.browser.BrowserInfo\",\"id\":\"7f0426ee-9af7-4161-8e93-a972df90bd5d\"},{\"type\":\"object\",\"name\":\"panel.models.comm_manager.CommManager\",\"id\":\"ae625046-48a0-4948-9be6-3badb1e6d621\",\"attributes\":{\"plot_id\":\"7f0426ee-9af7-4161-8e93-a972df90bd5d\",\"comm_id\":\"b2b15752112741a19e84cffbdbf8fd4c\",\"client_comm_id\":\"48ce808e4b3c4d19b7d47a1e0715cdb4\"}}],\"defs\":[{\"type\":\"model\",\"name\":\"ReactiveHTML1\"},{\"type\":\"model\",\"name\":\"FlexBox1\",\"properties\":[{\"name\":\"align_content\",\"kind\":\"Any\",\"default\":\"flex-start\"},{\"name\":\"align_items\",\"kind\":\"Any\",\"default\":\"flex-start\"},{\"name\":\"flex_direction\",\"kind\":\"Any\",\"default\":\"row\"},{\"name\":\"flex_wrap\",\"kind\":\"Any\",\"default\":\"wrap\"},{\"name\":\"gap\",\"kind\":\"Any\",\"default\":\"\"},{\"name\":\"justify_content\",\"kind\":\"Any\",\"default\":\"flex-start\"}]},{\"type\":\"model\",\"name\":\"FloatPanel1\",\"properties\":[{\"name\":\"config\",\"kind\":\"Any\",\"default\":{\"type\":\"map\"}},{\"name\":\"contained\",\"kind\":\"Any\",\"default\":true},{\"name\":\"position\",\"kind\":\"Any\",\"default\":\"right-top\"},{\"name\":\"offsetx\",\"kind\":\"Any\",\"default\":null},{\"name\":\"offsety\",\"kind\":\"Any\",\"default\":null},{\"name\":\"theme\",\"kind\":\"Any\",\"default\":\"primary\"},{\"name\":\"status\",\"kind\":\"Any\",\"default\":\"normalized\"}]},{\"type\":\"model\",\"name\":\"GridStack1\",\"properties\":[{\"name\":\"mode\",\"kind\":\"Any\",\"default\":\"warn\"},{\"name\":\"ncols\",\"kind\":\"Any\",\"default\":null},{\"name\":\"nrows\",\"kind\":\"Any\",\"default\":null},{\"name\":\"allow_resize\",\"kind\":\"Any\",\"default\":true},{\"name\":\"allow_drag\",\"kind\":\"Any\",\"default\":true},{\"name\":\"state\",\"kind\":\"Any\",\"default\":[]}]},{\"type\":\"model\",\"name\":\"drag1\",\"properties\":[{\"name\":\"slider_width\",\"kind\":\"Any\",\"default\":5},{\"name\":\"slider_color\",\"kind\":\"Any\",\"default\":\"black\"},{\"name\":\"value\",\"kind\":\"Any\",\"default\":50}]},{\"type\":\"model\",\"name\":\"click1\",\"properties\":[{\"name\":\"terminal_output\",\"kind\":\"Any\",\"default\":\"\"},{\"name\":\"debug_name\",\"kind\":\"Any\",\"default\":\"\"},{\"name\":\"clears\",\"kind\":\"Any\",\"default\":0}]},{\"type\":\"model\",\"name\":\"FastWrapper1\",\"properties\":[{\"name\":\"object\",\"kind\":\"Any\",\"default\":null},{\"name\":\"style\",\"kind\":\"Any\",\"default\":null}]},{\"type\":\"model\",\"name\":\"NotificationAreaBase1\",\"properties\":[{\"name\":\"js_events\",\"kind\":\"Any\",\"default\":{\"type\":\"map\"}},{\"name\":\"position\",\"kind\":\"Any\",\"default\":\"bottom-right\"},{\"name\":\"_clear\",\"kind\":\"Any\",\"default\":0}]},{\"type\":\"model\",\"name\":\"NotificationArea1\",\"properties\":[{\"name\":\"js_events\",\"kind\":\"Any\",\"default\":{\"type\":\"map\"}},{\"name\":\"notifications\",\"kind\":\"Any\",\"default\":[]},{\"name\":\"position\",\"kind\":\"Any\",\"default\":\"bottom-right\"},{\"name\":\"_clear\",\"kind\":\"Any\",\"default\":0},{\"name\":\"types\",\"kind\":\"Any\",\"default\":[{\"type\":\"map\",\"entries\":[[\"type\",\"warning\"],[\"background\",\"#ffc107\"],[\"icon\",{\"type\":\"map\",\"entries\":[[\"className\",\"fas fa-exclamation-triangle\"],[\"tagName\",\"i\"],[\"color\",\"white\"]]}]]},{\"type\":\"map\",\"entries\":[[\"type\",\"info\"],[\"background\",\"#007bff\"],[\"icon\",{\"type\":\"map\",\"entries\":[[\"className\",\"fas fa-info-circle\"],[\"tagName\",\"i\"],[\"color\",\"white\"]]}]]}]}]},{\"type\":\"model\",\"name\":\"Notification\",\"properties\":[{\"name\":\"background\",\"kind\":\"Any\",\"default\":null},{\"name\":\"duration\",\"kind\":\"Any\",\"default\":3000},{\"name\":\"icon\",\"kind\":\"Any\",\"default\":null},{\"name\":\"message\",\"kind\":\"Any\",\"default\":\"\"},{\"name\":\"notification_type\",\"kind\":\"Any\",\"default\":null},{\"name\":\"_destroyed\",\"kind\":\"Any\",\"default\":false}]},{\"type\":\"model\",\"name\":\"TemplateActions1\",\"properties\":[{\"name\":\"open_modal\",\"kind\":\"Any\",\"default\":0},{\"name\":\"close_modal\",\"kind\":\"Any\",\"default\":0}]},{\"type\":\"model\",\"name\":\"BootstrapTemplateActions1\",\"properties\":[{\"name\":\"open_modal\",\"kind\":\"Any\",\"default\":0},{\"name\":\"close_modal\",\"kind\":\"Any\",\"default\":0}]},{\"type\":\"model\",\"name\":\"TemplateEditor1\",\"properties\":[{\"name\":\"layout\",\"kind\":\"Any\",\"default\":[]}]},{\"type\":\"model\",\"name\":\"MaterialTemplateActions1\",\"properties\":[{\"name\":\"open_modal\",\"kind\":\"Any\",\"default\":0},{\"name\":\"close_modal\",\"kind\":\"Any\",\"default\":0}]},{\"type\":\"model\",\"name\":\"copy_to_clipboard1\",\"properties\":[{\"name\":\"fill\",\"kind\":\"Any\",\"default\":\"none\"},{\"name\":\"value\",\"kind\":\"Any\",\"default\":null}]}]}};\n",
       "  var render_items = [{\"docid\":\"a5da966c-6f9f-4be8-8fd2-cc118cedd304\",\"roots\":{\"7f0426ee-9af7-4161-8e93-a972df90bd5d\":\"a800e9c2-8d96-4777-915b-4e9f66360fca\"},\"root_ids\":[\"7f0426ee-9af7-4161-8e93-a972df90bd5d\"]}];\n",
       "  var docs = Object.values(docs_json)\n",
       "  if (!docs) {\n",
       "    return\n",
       "  }\n",
       "  const py_version = docs[0].version.replace('rc', '-rc.').replace('.dev', '-dev.')\n",
       "  async function embed_document(root) {\n",
       "    var Bokeh = get_bokeh(root)\n",
       "    await Bokeh.embed.embed_items_notebook(docs_json, render_items);\n",
       "    for (const render_item of render_items) {\n",
       "      for (const root_id of render_item.root_ids) {\n",
       "\tconst id_el = document.getElementById(root_id)\n",
       "\tif (id_el.children.length && id_el.children[0].hasAttribute('data-root-id')) {\n",
       "\t  const root_el = id_el.children[0]\n",
       "\t  root_el.id = root_el.id + '-rendered'\n",
       "\t  for (const child of root_el.children) {\n",
       "            // Ensure JupyterLab does not capture keyboard shortcuts\n",
       "            // see: https://jupyterlab.readthedocs.io/en/4.1.x/extension/notebook.html#keyboard-interaction-model\n",
       "\t    child.setAttribute('data-lm-suppress-shortcuts', 'true')\n",
       "\t  }\n",
       "\t}\n",
       "      }\n",
       "    }\n",
       "  }\n",
       "  function get_bokeh(root) {\n",
       "    if (root.Bokeh === undefined) {\n",
       "      return null\n",
       "    } else if (root.Bokeh.version !== py_version) {\n",
       "      if (root.Bokeh.versions === undefined || !root.Bokeh.versions.has(py_version)) {\n",
       "\treturn null\n",
       "      }\n",
       "      return root.Bokeh.versions.get(py_version);\n",
       "    } else if (root.Bokeh.version === py_version) {\n",
       "      return root.Bokeh\n",
       "    }\n",
       "    return null\n",
       "  }\n",
       "  function is_loaded(root) {\n",
       "    var Bokeh = get_bokeh(root)\n",
       "    return (Bokeh != null && Bokeh.Panel !== undefined)\n",
       "  }\n",
       "  if (is_loaded(root)) {\n",
       "    embed_document(root);\n",
       "  } else {\n",
       "    var attempts = 0;\n",
       "    var timer = setInterval(function(root) {\n",
       "      if (is_loaded(root)) {\n",
       "        clearInterval(timer);\n",
       "        embed_document(root);\n",
       "      } else if (document.readyState == \"complete\") {\n",
       "        attempts++;\n",
       "        if (attempts > 200) {\n",
       "          clearInterval(timer);\n",
       "\t  var Bokeh = get_bokeh(root)\n",
       "\t  if (Bokeh == null || Bokeh.Panel == null) {\n",
       "            console.warn(\"Panel: ERROR: Unable to run Panel code because Bokeh or Panel library is missing\");\n",
       "\t  } else {\n",
       "\t    console.warn(\"Panel: WARNING: Attempting to render but not all required libraries could be resolved.\")\n",
       "\t    embed_document(root)\n",
       "\t  }\n",
       "        }\n",
       "      }\n",
       "    }, 25, root)\n",
       "  }\n",
       "})(window);</script>"
      ]
     },
     "metadata": {
      "application/vnd.holoviews_exec.v0+json": {
       "id": "7f0426ee-9af7-4161-8e93-a972df90bd5d"
      }
     },
     "output_type": "display_data"
    },
    {
     "data": {
      "application/javascript": [
       "(function(root) {\n",
       "  function now() {\n",
       "    return new Date();\n",
       "  }\n",
       "\n",
       "  var force = true;\n",
       "  var py_version = '3.4.2'.replace('rc', '-rc.').replace('.dev', '-dev.');\n",
       "  var reloading = true;\n",
       "  var Bokeh = root.Bokeh;\n",
       "\n",
       "  if (typeof (root._bokeh_timeout) === \"undefined\" || force) {\n",
       "    root._bokeh_timeout = Date.now() + 5000;\n",
       "    root._bokeh_failed_load = false;\n",
       "  }\n",
       "\n",
       "  function run_callbacks() {\n",
       "    try {\n",
       "      root._bokeh_onload_callbacks.forEach(function(callback) {\n",
       "        if (callback != null)\n",
       "          callback();\n",
       "      });\n",
       "    } finally {\n",
       "      delete root._bokeh_onload_callbacks;\n",
       "    }\n",
       "    console.debug(\"Bokeh: all callbacks have finished\");\n",
       "  }\n",
       "\n",
       "  function load_libs(css_urls, js_urls, js_modules, js_exports, callback) {\n",
       "    if (css_urls == null) css_urls = [];\n",
       "    if (js_urls == null) js_urls = [];\n",
       "    if (js_modules == null) js_modules = [];\n",
       "    if (js_exports == null) js_exports = {};\n",
       "\n",
       "    root._bokeh_onload_callbacks.push(callback);\n",
       "\n",
       "    if (root._bokeh_is_loading > 0) {\n",
       "      console.debug(\"Bokeh: BokehJS is being loaded, scheduling callback at\", now());\n",
       "      return null;\n",
       "    }\n",
       "    if (js_urls.length === 0 && js_modules.length === 0 && Object.keys(js_exports).length === 0) {\n",
       "      run_callbacks();\n",
       "      return null;\n",
       "    }\n",
       "    if (!reloading) {\n",
       "      console.debug(\"Bokeh: BokehJS not loaded, scheduling load and callback at\", now());\n",
       "    }\n",
       "\n",
       "    function on_load() {\n",
       "      root._bokeh_is_loading--;\n",
       "      if (root._bokeh_is_loading === 0) {\n",
       "        console.debug(\"Bokeh: all BokehJS libraries/stylesheets loaded\");\n",
       "        run_callbacks()\n",
       "      }\n",
       "    }\n",
       "    window._bokeh_on_load = on_load\n",
       "\n",
       "    function on_error() {\n",
       "      console.error(\"failed to load \" + url);\n",
       "    }\n",
       "\n",
       "    var skip = [];\n",
       "    if (window.requirejs) {\n",
       "      window.requirejs.config({'packages': {}, 'paths': {}, 'shim': {}});\n",
       "      root._bokeh_is_loading = css_urls.length + 0;\n",
       "    } else {\n",
       "      root._bokeh_is_loading = css_urls.length + js_urls.length + js_modules.length + Object.keys(js_exports).length;\n",
       "    }\n",
       "\n",
       "    var existing_stylesheets = []\n",
       "    var links = document.getElementsByTagName('link')\n",
       "    for (var i = 0; i < links.length; i++) {\n",
       "      var link = links[i]\n",
       "      if (link.href != null) {\n",
       "\texisting_stylesheets.push(link.href)\n",
       "      }\n",
       "    }\n",
       "    for (var i = 0; i < css_urls.length; i++) {\n",
       "      var url = css_urls[i];\n",
       "      if (existing_stylesheets.indexOf(url) !== -1) {\n",
       "\ton_load()\n",
       "\tcontinue;\n",
       "      }\n",
       "      const element = document.createElement(\"link\");\n",
       "      element.onload = on_load;\n",
       "      element.onerror = on_error;\n",
       "      element.rel = \"stylesheet\";\n",
       "      element.type = \"text/css\";\n",
       "      element.href = url;\n",
       "      console.debug(\"Bokeh: injecting link tag for BokehJS stylesheet: \", url);\n",
       "      document.body.appendChild(element);\n",
       "    }    var existing_scripts = []\n",
       "    var scripts = document.getElementsByTagName('script')\n",
       "    for (var i = 0; i < scripts.length; i++) {\n",
       "      var script = scripts[i]\n",
       "      if (script.src != null) {\n",
       "\texisting_scripts.push(script.src)\n",
       "      }\n",
       "    }\n",
       "    for (var i = 0; i < js_urls.length; i++) {\n",
       "      var url = js_urls[i];\n",
       "      if (skip.indexOf(url) !== -1 || existing_scripts.indexOf(url) !== -1) {\n",
       "\tif (!window.requirejs) {\n",
       "\t  on_load();\n",
       "\t}\n",
       "\tcontinue;\n",
       "      }\n",
       "      var element = document.createElement('script');\n",
       "      element.onload = on_load;\n",
       "      element.onerror = on_error;\n",
       "      element.async = false;\n",
       "      element.src = url;\n",
       "      console.debug(\"Bokeh: injecting script tag for BokehJS library: \", url);\n",
       "      document.head.appendChild(element);\n",
       "    }\n",
       "    for (var i = 0; i < js_modules.length; i++) {\n",
       "      var url = js_modules[i];\n",
       "      if (skip.indexOf(url) !== -1 || existing_scripts.indexOf(url) !== -1) {\n",
       "\tif (!window.requirejs) {\n",
       "\t  on_load();\n",
       "\t}\n",
       "\tcontinue;\n",
       "      }\n",
       "      var element = document.createElement('script');\n",
       "      element.onload = on_load;\n",
       "      element.onerror = on_error;\n",
       "      element.async = false;\n",
       "      element.src = url;\n",
       "      element.type = \"module\";\n",
       "      console.debug(\"Bokeh: injecting script tag for BokehJS library: \", url);\n",
       "      document.head.appendChild(element);\n",
       "    }\n",
       "    for (const name in js_exports) {\n",
       "      var url = js_exports[name];\n",
       "      if (skip.indexOf(url) >= 0 || root[name] != null) {\n",
       "\tif (!window.requirejs) {\n",
       "\t  on_load();\n",
       "\t}\n",
       "\tcontinue;\n",
       "      }\n",
       "      var element = document.createElement('script');\n",
       "      element.onerror = on_error;\n",
       "      element.async = false;\n",
       "      element.type = \"module\";\n",
       "      console.debug(\"Bokeh: injecting script tag for BokehJS library: \", url);\n",
       "      element.textContent = `\n",
       "      import ${name} from \"${url}\"\n",
       "      window.${name} = ${name}\n",
       "      window._bokeh_on_load()\n",
       "      `\n",
       "      document.head.appendChild(element);\n",
       "    }\n",
       "    if (!js_urls.length && !js_modules.length) {\n",
       "      on_load()\n",
       "    }\n",
       "  };\n",
       "\n",
       "  function inject_raw_css(css) {\n",
       "    const element = document.createElement(\"style\");\n",
       "    element.appendChild(document.createTextNode(css));\n",
       "    document.body.appendChild(element);\n",
       "  }\n",
       "\n",
       "  var js_urls = [];\n",
       "  var js_modules = [];\n",
       "  var js_exports = {};\n",
       "  var css_urls = [];\n",
       "  var inline_js = [    function(Bokeh) {\n",
       "      Bokeh.set_log_level(\"info\");\n",
       "    },\n",
       "function(Bokeh) {} // ensure no trailing comma for IE\n",
       "  ];\n",
       "\n",
       "  function run_inline_js() {\n",
       "    if ((root.Bokeh !== undefined) || (force === true)) {\n",
       "      for (var i = 0; i < inline_js.length; i++) {\n",
       "\ttry {\n",
       "          inline_js[i].call(root, root.Bokeh);\n",
       "\t} catch(e) {\n",
       "\t  if (!reloading) {\n",
       "\t    throw e;\n",
       "\t  }\n",
       "\t}\n",
       "      }\n",
       "      // Cache old bokeh versions\n",
       "      if (Bokeh != undefined && !reloading) {\n",
       "\tvar NewBokeh = root.Bokeh;\n",
       "\tif (Bokeh.versions === undefined) {\n",
       "\t  Bokeh.versions = new Map();\n",
       "\t}\n",
       "\tif (NewBokeh.version !== Bokeh.version) {\n",
       "\t  Bokeh.versions.set(NewBokeh.version, NewBokeh)\n",
       "\t}\n",
       "\troot.Bokeh = Bokeh;\n",
       "      }} else if (Date.now() < root._bokeh_timeout) {\n",
       "      setTimeout(run_inline_js, 100);\n",
       "    } else if (!root._bokeh_failed_load) {\n",
       "      console.log(\"Bokeh: BokehJS failed to load within specified timeout.\");\n",
       "      root._bokeh_failed_load = true;\n",
       "    }\n",
       "    root._bokeh_is_initializing = false\n",
       "  }\n",
       "\n",
       "  function load_or_wait() {\n",
       "    // Implement a backoff loop that tries to ensure we do not load multiple\n",
       "    // versions of Bokeh and its dependencies at the same time.\n",
       "    // In recent versions we use the root._bokeh_is_initializing flag\n",
       "    // to determine whether there is an ongoing attempt to initialize\n",
       "    // bokeh, however for backward compatibility we also try to ensure\n",
       "    // that we do not start loading a newer (Panel>=1.0 and Bokeh>3) version\n",
       "    // before older versions are fully initialized.\n",
       "    if (root._bokeh_is_initializing && Date.now() > root._bokeh_timeout) {\n",
       "      root._bokeh_is_initializing = false;\n",
       "      root._bokeh_onload_callbacks = undefined;\n",
       "      console.log(\"Bokeh: BokehJS was loaded multiple times but one version failed to initialize.\");\n",
       "      load_or_wait();\n",
       "    } else if (root._bokeh_is_initializing || (typeof root._bokeh_is_initializing === \"undefined\" && root._bokeh_onload_callbacks !== undefined)) {\n",
       "      setTimeout(load_or_wait, 100);\n",
       "    } else {\n",
       "      root._bokeh_is_initializing = true\n",
       "      root._bokeh_onload_callbacks = []\n",
       "      var bokeh_loaded = Bokeh != null && (Bokeh.version === py_version || (Bokeh.versions !== undefined && Bokeh.versions.has(py_version)));\n",
       "      if (!reloading && !bokeh_loaded) {\n",
       "\troot.Bokeh = undefined;\n",
       "      }\n",
       "      load_libs(css_urls, js_urls, js_modules, js_exports, function() {\n",
       "\tconsole.debug(\"Bokeh: BokehJS plotting callback run at\", now());\n",
       "\trun_inline_js();\n",
       "      });\n",
       "    }\n",
       "  }\n",
       "  // Give older versions of the autoload script a head-start to ensure\n",
       "  // they initialize before we start loading newer version.\n",
       "  setTimeout(load_or_wait, 100)\n",
       "}(window));"
      ],
      "application/vnd.holoviews_load.v0+json": "(function(root) {\n  function now() {\n    return new Date();\n  }\n\n  var force = true;\n  var py_version = '3.4.2'.replace('rc', '-rc.').replace('.dev', '-dev.');\n  var reloading = true;\n  var Bokeh = root.Bokeh;\n\n  if (typeof (root._bokeh_timeout) === \"undefined\" || force) {\n    root._bokeh_timeout = Date.now() + 5000;\n    root._bokeh_failed_load = false;\n  }\n\n  function run_callbacks() {\n    try {\n      root._bokeh_onload_callbacks.forEach(function(callback) {\n        if (callback != null)\n          callback();\n      });\n    } finally {\n      delete root._bokeh_onload_callbacks;\n    }\n    console.debug(\"Bokeh: all callbacks have finished\");\n  }\n\n  function load_libs(css_urls, js_urls, js_modules, js_exports, callback) {\n    if (css_urls == null) css_urls = [];\n    if (js_urls == null) js_urls = [];\n    if (js_modules == null) js_modules = [];\n    if (js_exports == null) js_exports = {};\n\n    root._bokeh_onload_callbacks.push(callback);\n\n    if (root._bokeh_is_loading > 0) {\n      console.debug(\"Bokeh: BokehJS is being loaded, scheduling callback at\", now());\n      return null;\n    }\n    if (js_urls.length === 0 && js_modules.length === 0 && Object.keys(js_exports).length === 0) {\n      run_callbacks();\n      return null;\n    }\n    if (!reloading) {\n      console.debug(\"Bokeh: BokehJS not loaded, scheduling load and callback at\", now());\n    }\n\n    function on_load() {\n      root._bokeh_is_loading--;\n      if (root._bokeh_is_loading === 0) {\n        console.debug(\"Bokeh: all BokehJS libraries/stylesheets loaded\");\n        run_callbacks()\n      }\n    }\n    window._bokeh_on_load = on_load\n\n    function on_error() {\n      console.error(\"failed to load \" + url);\n    }\n\n    var skip = [];\n    if (window.requirejs) {\n      window.requirejs.config({'packages': {}, 'paths': {}, 'shim': {}});\n      root._bokeh_is_loading = css_urls.length + 0;\n    } else {\n      root._bokeh_is_loading = css_urls.length + js_urls.length + js_modules.length + Object.keys(js_exports).length;\n    }\n\n    var existing_stylesheets = []\n    var links = document.getElementsByTagName('link')\n    for (var i = 0; i < links.length; i++) {\n      var link = links[i]\n      if (link.href != null) {\n\texisting_stylesheets.push(link.href)\n      }\n    }\n    for (var i = 0; i < css_urls.length; i++) {\n      var url = css_urls[i];\n      if (existing_stylesheets.indexOf(url) !== -1) {\n\ton_load()\n\tcontinue;\n      }\n      const element = document.createElement(\"link\");\n      element.onload = on_load;\n      element.onerror = on_error;\n      element.rel = \"stylesheet\";\n      element.type = \"text/css\";\n      element.href = url;\n      console.debug(\"Bokeh: injecting link tag for BokehJS stylesheet: \", url);\n      document.body.appendChild(element);\n    }    var existing_scripts = []\n    var scripts = document.getElementsByTagName('script')\n    for (var i = 0; i < scripts.length; i++) {\n      var script = scripts[i]\n      if (script.src != null) {\n\texisting_scripts.push(script.src)\n      }\n    }\n    for (var i = 0; i < js_urls.length; i++) {\n      var url = js_urls[i];\n      if (skip.indexOf(url) !== -1 || existing_scripts.indexOf(url) !== -1) {\n\tif (!window.requirejs) {\n\t  on_load();\n\t}\n\tcontinue;\n      }\n      var element = document.createElement('script');\n      element.onload = on_load;\n      element.onerror = on_error;\n      element.async = false;\n      element.src = url;\n      console.debug(\"Bokeh: injecting script tag for BokehJS library: \", url);\n      document.head.appendChild(element);\n    }\n    for (var i = 0; i < js_modules.length; i++) {\n      var url = js_modules[i];\n      if (skip.indexOf(url) !== -1 || existing_scripts.indexOf(url) !== -1) {\n\tif (!window.requirejs) {\n\t  on_load();\n\t}\n\tcontinue;\n      }\n      var element = document.createElement('script');\n      element.onload = on_load;\n      element.onerror = on_error;\n      element.async = false;\n      element.src = url;\n      element.type = \"module\";\n      console.debug(\"Bokeh: injecting script tag for BokehJS library: \", url);\n      document.head.appendChild(element);\n    }\n    for (const name in js_exports) {\n      var url = js_exports[name];\n      if (skip.indexOf(url) >= 0 || root[name] != null) {\n\tif (!window.requirejs) {\n\t  on_load();\n\t}\n\tcontinue;\n      }\n      var element = document.createElement('script');\n      element.onerror = on_error;\n      element.async = false;\n      element.type = \"module\";\n      console.debug(\"Bokeh: injecting script tag for BokehJS library: \", url);\n      element.textContent = `\n      import ${name} from \"${url}\"\n      window.${name} = ${name}\n      window._bokeh_on_load()\n      `\n      document.head.appendChild(element);\n    }\n    if (!js_urls.length && !js_modules.length) {\n      on_load()\n    }\n  };\n\n  function inject_raw_css(css) {\n    const element = document.createElement(\"style\");\n    element.appendChild(document.createTextNode(css));\n    document.body.appendChild(element);\n  }\n\n  var js_urls = [];\n  var js_modules = [];\n  var js_exports = {};\n  var css_urls = [];\n  var inline_js = [    function(Bokeh) {\n      Bokeh.set_log_level(\"info\");\n    },\nfunction(Bokeh) {} // ensure no trailing comma for IE\n  ];\n\n  function run_inline_js() {\n    if ((root.Bokeh !== undefined) || (force === true)) {\n      for (var i = 0; i < inline_js.length; i++) {\n\ttry {\n          inline_js[i].call(root, root.Bokeh);\n\t} catch(e) {\n\t  if (!reloading) {\n\t    throw e;\n\t  }\n\t}\n      }\n      // Cache old bokeh versions\n      if (Bokeh != undefined && !reloading) {\n\tvar NewBokeh = root.Bokeh;\n\tif (Bokeh.versions === undefined) {\n\t  Bokeh.versions = new Map();\n\t}\n\tif (NewBokeh.version !== Bokeh.version) {\n\t  Bokeh.versions.set(NewBokeh.version, NewBokeh)\n\t}\n\troot.Bokeh = Bokeh;\n      }} else if (Date.now() < root._bokeh_timeout) {\n      setTimeout(run_inline_js, 100);\n    } else if (!root._bokeh_failed_load) {\n      console.log(\"Bokeh: BokehJS failed to load within specified timeout.\");\n      root._bokeh_failed_load = true;\n    }\n    root._bokeh_is_initializing = false\n  }\n\n  function load_or_wait() {\n    // Implement a backoff loop that tries to ensure we do not load multiple\n    // versions of Bokeh and its dependencies at the same time.\n    // In recent versions we use the root._bokeh_is_initializing flag\n    // to determine whether there is an ongoing attempt to initialize\n    // bokeh, however for backward compatibility we also try to ensure\n    // that we do not start loading a newer (Panel>=1.0 and Bokeh>3) version\n    // before older versions are fully initialized.\n    if (root._bokeh_is_initializing && Date.now() > root._bokeh_timeout) {\n      root._bokeh_is_initializing = false;\n      root._bokeh_onload_callbacks = undefined;\n      console.log(\"Bokeh: BokehJS was loaded multiple times but one version failed to initialize.\");\n      load_or_wait();\n    } else if (root._bokeh_is_initializing || (typeof root._bokeh_is_initializing === \"undefined\" && root._bokeh_onload_callbacks !== undefined)) {\n      setTimeout(load_or_wait, 100);\n    } else {\n      root._bokeh_is_initializing = true\n      root._bokeh_onload_callbacks = []\n      var bokeh_loaded = Bokeh != null && (Bokeh.version === py_version || (Bokeh.versions !== undefined && Bokeh.versions.has(py_version)));\n      if (!reloading && !bokeh_loaded) {\n\troot.Bokeh = undefined;\n      }\n      load_libs(css_urls, js_urls, js_modules, js_exports, function() {\n\tconsole.debug(\"Bokeh: BokehJS plotting callback run at\", now());\n\trun_inline_js();\n      });\n    }\n  }\n  // Give older versions of the autoload script a head-start to ensure\n  // they initialize before we start loading newer version.\n  setTimeout(load_or_wait, 100)\n}(window));"
     },
     "metadata": {},
     "output_type": "display_data"
    },
    {
     "data": {
      "application/javascript": [
       "\n",
       "if ((window.PyViz === undefined) || (window.PyViz instanceof HTMLElement)) {\n",
       "  window.PyViz = {comms: {}, comm_status:{}, kernels:{}, receivers: {}, plot_index: []}\n",
       "}\n",
       "\n",
       "\n",
       "    function JupyterCommManager() {\n",
       "    }\n",
       "\n",
       "    JupyterCommManager.prototype.register_target = function(plot_id, comm_id, msg_handler) {\n",
       "      if (window.comm_manager || ((window.Jupyter !== undefined) && (Jupyter.notebook.kernel != null))) {\n",
       "        var comm_manager = window.comm_manager || Jupyter.notebook.kernel.comm_manager;\n",
       "        comm_manager.register_target(comm_id, function(comm) {\n",
       "          comm.on_msg(msg_handler);\n",
       "        });\n",
       "      } else if ((plot_id in window.PyViz.kernels) && (window.PyViz.kernels[plot_id])) {\n",
       "        window.PyViz.kernels[plot_id].registerCommTarget(comm_id, function(comm) {\n",
       "          comm.onMsg = msg_handler;\n",
       "        });\n",
       "      } else if (typeof google != 'undefined' && google.colab.kernel != null) {\n",
       "        google.colab.kernel.comms.registerTarget(comm_id, (comm) => {\n",
       "          var messages = comm.messages[Symbol.asyncIterator]();\n",
       "          function processIteratorResult(result) {\n",
       "            var message = result.value;\n",
       "            console.log(message)\n",
       "            var content = {data: message.data, comm_id};\n",
       "            var buffers = []\n",
       "            for (var buffer of message.buffers || []) {\n",
       "              buffers.push(new DataView(buffer))\n",
       "            }\n",
       "            var metadata = message.metadata || {};\n",
       "            var msg = {content, buffers, metadata}\n",
       "            msg_handler(msg);\n",
       "            return messages.next().then(processIteratorResult);\n",
       "          }\n",
       "          return messages.next().then(processIteratorResult);\n",
       "        })\n",
       "      }\n",
       "    }\n",
       "\n",
       "    JupyterCommManager.prototype.get_client_comm = function(plot_id, comm_id, msg_handler) {\n",
       "      if (comm_id in window.PyViz.comms) {\n",
       "        return window.PyViz.comms[comm_id];\n",
       "      } else if (window.comm_manager || ((window.Jupyter !== undefined) && (Jupyter.notebook.kernel != null))) {\n",
       "        var comm_manager = window.comm_manager || Jupyter.notebook.kernel.comm_manager;\n",
       "        var comm = comm_manager.new_comm(comm_id, {}, {}, {}, comm_id);\n",
       "        if (msg_handler) {\n",
       "          comm.on_msg(msg_handler);\n",
       "        }\n",
       "      } else if ((plot_id in window.PyViz.kernels) && (window.PyViz.kernels[plot_id])) {\n",
       "        var comm = window.PyViz.kernels[plot_id].connectToComm(comm_id);\n",
       "        comm.open();\n",
       "        if (msg_handler) {\n",
       "          comm.onMsg = msg_handler;\n",
       "        }\n",
       "      } else if (typeof google != 'undefined' && google.colab.kernel != null) {\n",
       "        var comm_promise = google.colab.kernel.comms.open(comm_id)\n",
       "        comm_promise.then((comm) => {\n",
       "          window.PyViz.comms[comm_id] = comm;\n",
       "          if (msg_handler) {\n",
       "            var messages = comm.messages[Symbol.asyncIterator]();\n",
       "            function processIteratorResult(result) {\n",
       "              var message = result.value;\n",
       "              var content = {data: message.data};\n",
       "              var metadata = message.metadata || {comm_id};\n",
       "              var msg = {content, metadata}\n",
       "              msg_handler(msg);\n",
       "              return messages.next().then(processIteratorResult);\n",
       "            }\n",
       "            return messages.next().then(processIteratorResult);\n",
       "          }\n",
       "        })\n",
       "        var sendClosure = (data, metadata, buffers, disposeOnDone) => {\n",
       "          return comm_promise.then((comm) => {\n",
       "            comm.send(data, metadata, buffers, disposeOnDone);\n",
       "          });\n",
       "        };\n",
       "        var comm = {\n",
       "          send: sendClosure\n",
       "        };\n",
       "      }\n",
       "      window.PyViz.comms[comm_id] = comm;\n",
       "      return comm;\n",
       "    }\n",
       "    window.PyViz.comm_manager = new JupyterCommManager();\n",
       "    \n",
       "\n",
       "\n",
       "var JS_MIME_TYPE = 'application/javascript';\n",
       "var HTML_MIME_TYPE = 'text/html';\n",
       "var EXEC_MIME_TYPE = 'application/vnd.holoviews_exec.v0+json';\n",
       "var CLASS_NAME = 'output';\n",
       "\n",
       "/**\n",
       " * Render data to the DOM node\n",
       " */\n",
       "function render(props, node) {\n",
       "  var div = document.createElement(\"div\");\n",
       "  var script = document.createElement(\"script\");\n",
       "  node.appendChild(div);\n",
       "  node.appendChild(script);\n",
       "}\n",
       "\n",
       "/**\n",
       " * Handle when a new output is added\n",
       " */\n",
       "function handle_add_output(event, handle) {\n",
       "  var output_area = handle.output_area;\n",
       "  var output = handle.output;\n",
       "  if ((output.data == undefined) || (!output.data.hasOwnProperty(EXEC_MIME_TYPE))) {\n",
       "    return\n",
       "  }\n",
       "  var id = output.metadata[EXEC_MIME_TYPE][\"id\"];\n",
       "  var toinsert = output_area.element.find(\".\" + CLASS_NAME.split(' ')[0]);\n",
       "  if (id !== undefined) {\n",
       "    var nchildren = toinsert.length;\n",
       "    var html_node = toinsert[nchildren-1].children[0];\n",
       "    html_node.innerHTML = output.data[HTML_MIME_TYPE];\n",
       "    var scripts = [];\n",
       "    var nodelist = html_node.querySelectorAll(\"script\");\n",
       "    for (var i in nodelist) {\n",
       "      if (nodelist.hasOwnProperty(i)) {\n",
       "        scripts.push(nodelist[i])\n",
       "      }\n",
       "    }\n",
       "\n",
       "    scripts.forEach( function (oldScript) {\n",
       "      var newScript = document.createElement(\"script\");\n",
       "      var attrs = [];\n",
       "      var nodemap = oldScript.attributes;\n",
       "      for (var j in nodemap) {\n",
       "        if (nodemap.hasOwnProperty(j)) {\n",
       "          attrs.push(nodemap[j])\n",
       "        }\n",
       "      }\n",
       "      attrs.forEach(function(attr) { newScript.setAttribute(attr.name, attr.value) });\n",
       "      newScript.appendChild(document.createTextNode(oldScript.innerHTML));\n",
       "      oldScript.parentNode.replaceChild(newScript, oldScript);\n",
       "    });\n",
       "    if (JS_MIME_TYPE in output.data) {\n",
       "      toinsert[nchildren-1].children[1].textContent = output.data[JS_MIME_TYPE];\n",
       "    }\n",
       "    output_area._hv_plot_id = id;\n",
       "    if ((window.Bokeh !== undefined) && (id in Bokeh.index)) {\n",
       "      window.PyViz.plot_index[id] = Bokeh.index[id];\n",
       "    } else {\n",
       "      window.PyViz.plot_index[id] = null;\n",
       "    }\n",
       "  } else if (output.metadata[EXEC_MIME_TYPE][\"server_id\"] !== undefined) {\n",
       "    var bk_div = document.createElement(\"div\");\n",
       "    bk_div.innerHTML = output.data[HTML_MIME_TYPE];\n",
       "    var script_attrs = bk_div.children[0].attributes;\n",
       "    for (var i = 0; i < script_attrs.length; i++) {\n",
       "      toinsert[toinsert.length - 1].childNodes[1].setAttribute(script_attrs[i].name, script_attrs[i].value);\n",
       "    }\n",
       "    // store reference to server id on output_area\n",
       "    output_area._bokeh_server_id = output.metadata[EXEC_MIME_TYPE][\"server_id\"];\n",
       "  }\n",
       "}\n",
       "\n",
       "/**\n",
       " * Handle when an output is cleared or removed\n",
       " */\n",
       "function handle_clear_output(event, handle) {\n",
       "  var id = handle.cell.output_area._hv_plot_id;\n",
       "  var server_id = handle.cell.output_area._bokeh_server_id;\n",
       "  if (((id === undefined) || !(id in PyViz.plot_index)) && (server_id !== undefined)) { return; }\n",
       "  var comm = window.PyViz.comm_manager.get_client_comm(\"hv-extension-comm\", \"hv-extension-comm\", function () {});\n",
       "  if (server_id !== null) {\n",
       "    comm.send({event_type: 'server_delete', 'id': server_id});\n",
       "    return;\n",
       "  } else if (comm !== null) {\n",
       "    comm.send({event_type: 'delete', 'id': id});\n",
       "  }\n",
       "  delete PyViz.plot_index[id];\n",
       "  if ((window.Bokeh !== undefined) & (id in window.Bokeh.index)) {\n",
       "    var doc = window.Bokeh.index[id].model.document\n",
       "    doc.clear();\n",
       "    const i = window.Bokeh.documents.indexOf(doc);\n",
       "    if (i > -1) {\n",
       "      window.Bokeh.documents.splice(i, 1);\n",
       "    }\n",
       "  }\n",
       "}\n",
       "\n",
       "/**\n",
       " * Handle kernel restart event\n",
       " */\n",
       "function handle_kernel_cleanup(event, handle) {\n",
       "  delete PyViz.comms[\"hv-extension-comm\"];\n",
       "  window.PyViz.plot_index = {}\n",
       "}\n",
       "\n",
       "/**\n",
       " * Handle update_display_data messages\n",
       " */\n",
       "function handle_update_output(event, handle) {\n",
       "  handle_clear_output(event, {cell: {output_area: handle.output_area}})\n",
       "  handle_add_output(event, handle)\n",
       "}\n",
       "\n",
       "function register_renderer(events, OutputArea) {\n",
       "  function append_mime(data, metadata, element) {\n",
       "    // create a DOM node to render to\n",
       "    var toinsert = this.create_output_subarea(\n",
       "    metadata,\n",
       "    CLASS_NAME,\n",
       "    EXEC_MIME_TYPE\n",
       "    );\n",
       "    this.keyboard_manager.register_events(toinsert);\n",
       "    // Render to node\n",
       "    var props = {data: data, metadata: metadata[EXEC_MIME_TYPE]};\n",
       "    render(props, toinsert[0]);\n",
       "    element.append(toinsert);\n",
       "    return toinsert\n",
       "  }\n",
       "\n",
       "  events.on('output_added.OutputArea', handle_add_output);\n",
       "  events.on('output_updated.OutputArea', handle_update_output);\n",
       "  events.on('clear_output.CodeCell', handle_clear_output);\n",
       "  events.on('delete.Cell', handle_clear_output);\n",
       "  events.on('kernel_ready.Kernel', handle_kernel_cleanup);\n",
       "\n",
       "  OutputArea.prototype.register_mime_type(EXEC_MIME_TYPE, append_mime, {\n",
       "    safe: true,\n",
       "    index: 0\n",
       "  });\n",
       "}\n",
       "\n",
       "if (window.Jupyter !== undefined) {\n",
       "  try {\n",
       "    var events = require('base/js/events');\n",
       "    var OutputArea = require('notebook/js/outputarea').OutputArea;\n",
       "    if (OutputArea.prototype.mime_types().indexOf(EXEC_MIME_TYPE) == -1) {\n",
       "      register_renderer(events, OutputArea);\n",
       "    }\n",
       "  } catch(err) {\n",
       "  }\n",
       "}\n"
      ],
      "application/vnd.holoviews_load.v0+json": "\nif ((window.PyViz === undefined) || (window.PyViz instanceof HTMLElement)) {\n  window.PyViz = {comms: {}, comm_status:{}, kernels:{}, receivers: {}, plot_index: []}\n}\n\n\n    function JupyterCommManager() {\n    }\n\n    JupyterCommManager.prototype.register_target = function(plot_id, comm_id, msg_handler) {\n      if (window.comm_manager || ((window.Jupyter !== undefined) && (Jupyter.notebook.kernel != null))) {\n        var comm_manager = window.comm_manager || Jupyter.notebook.kernel.comm_manager;\n        comm_manager.register_target(comm_id, function(comm) {\n          comm.on_msg(msg_handler);\n        });\n      } else if ((plot_id in window.PyViz.kernels) && (window.PyViz.kernels[plot_id])) {\n        window.PyViz.kernels[plot_id].registerCommTarget(comm_id, function(comm) {\n          comm.onMsg = msg_handler;\n        });\n      } else if (typeof google != 'undefined' && google.colab.kernel != null) {\n        google.colab.kernel.comms.registerTarget(comm_id, (comm) => {\n          var messages = comm.messages[Symbol.asyncIterator]();\n          function processIteratorResult(result) {\n            var message = result.value;\n            console.log(message)\n            var content = {data: message.data, comm_id};\n            var buffers = []\n            for (var buffer of message.buffers || []) {\n              buffers.push(new DataView(buffer))\n            }\n            var metadata = message.metadata || {};\n            var msg = {content, buffers, metadata}\n            msg_handler(msg);\n            return messages.next().then(processIteratorResult);\n          }\n          return messages.next().then(processIteratorResult);\n        })\n      }\n    }\n\n    JupyterCommManager.prototype.get_client_comm = function(plot_id, comm_id, msg_handler) {\n      if (comm_id in window.PyViz.comms) {\n        return window.PyViz.comms[comm_id];\n      } else if (window.comm_manager || ((window.Jupyter !== undefined) && (Jupyter.notebook.kernel != null))) {\n        var comm_manager = window.comm_manager || Jupyter.notebook.kernel.comm_manager;\n        var comm = comm_manager.new_comm(comm_id, {}, {}, {}, comm_id);\n        if (msg_handler) {\n          comm.on_msg(msg_handler);\n        }\n      } else if ((plot_id in window.PyViz.kernels) && (window.PyViz.kernels[plot_id])) {\n        var comm = window.PyViz.kernels[plot_id].connectToComm(comm_id);\n        comm.open();\n        if (msg_handler) {\n          comm.onMsg = msg_handler;\n        }\n      } else if (typeof google != 'undefined' && google.colab.kernel != null) {\n        var comm_promise = google.colab.kernel.comms.open(comm_id)\n        comm_promise.then((comm) => {\n          window.PyViz.comms[comm_id] = comm;\n          if (msg_handler) {\n            var messages = comm.messages[Symbol.asyncIterator]();\n            function processIteratorResult(result) {\n              var message = result.value;\n              var content = {data: message.data};\n              var metadata = message.metadata || {comm_id};\n              var msg = {content, metadata}\n              msg_handler(msg);\n              return messages.next().then(processIteratorResult);\n            }\n            return messages.next().then(processIteratorResult);\n          }\n        })\n        var sendClosure = (data, metadata, buffers, disposeOnDone) => {\n          return comm_promise.then((comm) => {\n            comm.send(data, metadata, buffers, disposeOnDone);\n          });\n        };\n        var comm = {\n          send: sendClosure\n        };\n      }\n      window.PyViz.comms[comm_id] = comm;\n      return comm;\n    }\n    window.PyViz.comm_manager = new JupyterCommManager();\n    \n\n\nvar JS_MIME_TYPE = 'application/javascript';\nvar HTML_MIME_TYPE = 'text/html';\nvar EXEC_MIME_TYPE = 'application/vnd.holoviews_exec.v0+json';\nvar CLASS_NAME = 'output';\n\n/**\n * Render data to the DOM node\n */\nfunction render(props, node) {\n  var div = document.createElement(\"div\");\n  var script = document.createElement(\"script\");\n  node.appendChild(div);\n  node.appendChild(script);\n}\n\n/**\n * Handle when a new output is added\n */\nfunction handle_add_output(event, handle) {\n  var output_area = handle.output_area;\n  var output = handle.output;\n  if ((output.data == undefined) || (!output.data.hasOwnProperty(EXEC_MIME_TYPE))) {\n    return\n  }\n  var id = output.metadata[EXEC_MIME_TYPE][\"id\"];\n  var toinsert = output_area.element.find(\".\" + CLASS_NAME.split(' ')[0]);\n  if (id !== undefined) {\n    var nchildren = toinsert.length;\n    var html_node = toinsert[nchildren-1].children[0];\n    html_node.innerHTML = output.data[HTML_MIME_TYPE];\n    var scripts = [];\n    var nodelist = html_node.querySelectorAll(\"script\");\n    for (var i in nodelist) {\n      if (nodelist.hasOwnProperty(i)) {\n        scripts.push(nodelist[i])\n      }\n    }\n\n    scripts.forEach( function (oldScript) {\n      var newScript = document.createElement(\"script\");\n      var attrs = [];\n      var nodemap = oldScript.attributes;\n      for (var j in nodemap) {\n        if (nodemap.hasOwnProperty(j)) {\n          attrs.push(nodemap[j])\n        }\n      }\n      attrs.forEach(function(attr) { newScript.setAttribute(attr.name, attr.value) });\n      newScript.appendChild(document.createTextNode(oldScript.innerHTML));\n      oldScript.parentNode.replaceChild(newScript, oldScript);\n    });\n    if (JS_MIME_TYPE in output.data) {\n      toinsert[nchildren-1].children[1].textContent = output.data[JS_MIME_TYPE];\n    }\n    output_area._hv_plot_id = id;\n    if ((window.Bokeh !== undefined) && (id in Bokeh.index)) {\n      window.PyViz.plot_index[id] = Bokeh.index[id];\n    } else {\n      window.PyViz.plot_index[id] = null;\n    }\n  } else if (output.metadata[EXEC_MIME_TYPE][\"server_id\"] !== undefined) {\n    var bk_div = document.createElement(\"div\");\n    bk_div.innerHTML = output.data[HTML_MIME_TYPE];\n    var script_attrs = bk_div.children[0].attributes;\n    for (var i = 0; i < script_attrs.length; i++) {\n      toinsert[toinsert.length - 1].childNodes[1].setAttribute(script_attrs[i].name, script_attrs[i].value);\n    }\n    // store reference to server id on output_area\n    output_area._bokeh_server_id = output.metadata[EXEC_MIME_TYPE][\"server_id\"];\n  }\n}\n\n/**\n * Handle when an output is cleared or removed\n */\nfunction handle_clear_output(event, handle) {\n  var id = handle.cell.output_area._hv_plot_id;\n  var server_id = handle.cell.output_area._bokeh_server_id;\n  if (((id === undefined) || !(id in PyViz.plot_index)) && (server_id !== undefined)) { return; }\n  var comm = window.PyViz.comm_manager.get_client_comm(\"hv-extension-comm\", \"hv-extension-comm\", function () {});\n  if (server_id !== null) {\n    comm.send({event_type: 'server_delete', 'id': server_id});\n    return;\n  } else if (comm !== null) {\n    comm.send({event_type: 'delete', 'id': id});\n  }\n  delete PyViz.plot_index[id];\n  if ((window.Bokeh !== undefined) & (id in window.Bokeh.index)) {\n    var doc = window.Bokeh.index[id].model.document\n    doc.clear();\n    const i = window.Bokeh.documents.indexOf(doc);\n    if (i > -1) {\n      window.Bokeh.documents.splice(i, 1);\n    }\n  }\n}\n\n/**\n * Handle kernel restart event\n */\nfunction handle_kernel_cleanup(event, handle) {\n  delete PyViz.comms[\"hv-extension-comm\"];\n  window.PyViz.plot_index = {}\n}\n\n/**\n * Handle update_display_data messages\n */\nfunction handle_update_output(event, handle) {\n  handle_clear_output(event, {cell: {output_area: handle.output_area}})\n  handle_add_output(event, handle)\n}\n\nfunction register_renderer(events, OutputArea) {\n  function append_mime(data, metadata, element) {\n    // create a DOM node to render to\n    var toinsert = this.create_output_subarea(\n    metadata,\n    CLASS_NAME,\n    EXEC_MIME_TYPE\n    );\n    this.keyboard_manager.register_events(toinsert);\n    // Render to node\n    var props = {data: data, metadata: metadata[EXEC_MIME_TYPE]};\n    render(props, toinsert[0]);\n    element.append(toinsert);\n    return toinsert\n  }\n\n  events.on('output_added.OutputArea', handle_add_output);\n  events.on('output_updated.OutputArea', handle_update_output);\n  events.on('clear_output.CodeCell', handle_clear_output);\n  events.on('delete.Cell', handle_clear_output);\n  events.on('kernel_ready.Kernel', handle_kernel_cleanup);\n\n  OutputArea.prototype.register_mime_type(EXEC_MIME_TYPE, append_mime, {\n    safe: true,\n    index: 0\n  });\n}\n\nif (window.Jupyter !== undefined) {\n  try {\n    var events = require('base/js/events');\n    var OutputArea = require('notebook/js/outputarea').OutputArea;\n    if (OutputArea.prototype.mime_types().indexOf(EXEC_MIME_TYPE) == -1) {\n      register_renderer(events, OutputArea);\n    }\n  } catch(err) {\n  }\n}\n"
     },
     "metadata": {},
     "output_type": "display_data"
    },
    {
     "data": {
      "text/html": [
       "<style>*[data-root-id],\n",
       "*[data-root-id] > * {\n",
       "  box-sizing: border-box;\n",
       "  font-family: var(--jp-ui-font-family);\n",
       "  font-size: var(--jp-ui-font-size1);\n",
       "  color: var(--vscode-editor-foreground, var(--jp-ui-font-color1));\n",
       "}\n",
       "\n",
       "/* Override VSCode background color */\n",
       ".cell-output-ipywidget-background:has(\n",
       "    > .cell-output-ipywidget-background > .lm-Widget > *[data-root-id]\n",
       "  ),\n",
       ".cell-output-ipywidget-background:has(> .lm-Widget > *[data-root-id]) {\n",
       "  background-color: transparent !important;\n",
       "}\n",
       "</style>"
      ]
     },
     "metadata": {},
     "output_type": "display_data"
    }
   ],
   "source": [
    "import pandas as pd\n",
    "import numpy as np\n",
    "\n",
    "import holoviews as hv\n",
    "from holoviews import dim, opts\n",
    "import hvplot.pandas\n",
    "hv.extension('matplotlib')"
   ]
  },
  {
   "cell_type": "code",
   "execution_count": 68,
   "metadata": {
    "slideshow": {
     "slide_type": "notes"
    }
   },
   "outputs": [],
   "source": [
    "p = pd.read_excel('ipc_fipe_1990_2001_ano.xlsx')\n",
    "\n",
    "pr_ano = p.hvplot.bar('Ano', 'IPC-SP',\n",
    "                      height=350,\n",
    "                      width=700,\n",
    "                      rot=35,\n",
    "                      padding=0.02,\n",
    "                      legend=False,\n",
    "                      color='red',\n",
    "                      xticks = 18,\n",
    "                      xlim=(1974, 2002),\n",
    "                      xlabel='',\n",
    "                      ylabel='crescimento anual, %',\n",
    "                      label='Crescimento anual do IPC-FIPE, 1990-2001, %'\n",
    "                     ).opts(fontsize={'title': 14, 'labels': 11,\n",
    "                                      'xticks': 11, 'yticks': 11}).opts(multi_level=False)"
   ]
  },
  {
   "cell_type": "code",
   "execution_count": 69,
   "metadata": {
    "slideshow": {
     "slide_type": "slide"
    }
   },
   "outputs": [
    {
     "data": {
      "text/html": [
       "<img src='data:image/png;base64,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' style='max-width:100%; margin: auto; display: block; '/>"
      ],
      "text/plain": [
       ":Bars   [Ano]   (IPC-SP)"
      ]
     },
     "execution_count": 69,
     "metadata": {
      "application/vnd.holoviews_exec.v0+json": {}
     },
     "output_type": "execute_result"
    }
   ],
   "source": [
    "pr_ano"
   ]
  },
  {
   "cell_type": "code",
   "execution_count": 48,
   "metadata": {
    "slideshow": {
     "slide_type": "notes"
    }
   },
   "outputs": [],
   "source": [
    "prod = pd.read_excel('br_pib_1990-2001.xlsx')\n",
    "\n",
    "produto = prod.hvplot.bar('Ano', ['PIB','Indústria'],\n",
    "                          height=450,\n",
    "                          width=600,\n",
    "                          rot=0,\n",
    "                          padding=0.02,\n",
    "                          legend='bottom',\n",
    "                          cmap='Set1',\n",
    "                          ylim=(-10, 10),\n",
    "                          group_label= 'Produto',\n",
    "                          yticks=12,\n",
    "                          xlabel='',\n",
    "                          ylabel='crescimento anual, %',\n",
    "                          label='Crescimento do PIB e da indústria, Brasil, 1990-2001, em %'\n",
    "                         ).opts(fontsize={'title': 14, 'labels': 11, 'xticks': 11, \n",
    "                                          'yticks': 11, 'legend': 11}).opts(multi_level=False)"
   ]
  },
  {
   "cell_type": "code",
   "execution_count": 49,
   "metadata": {
    "slideshow": {
     "slide_type": "slide"
    }
   },
   "outputs": [
    {
     "data": {
      "text/html": [
       "<img src='data:image/png;base64,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' style='max-width:100%; margin: auto; display: block; '/>"
      ],
      "text/plain": [
       ":Bars   [Ano,Produto]   (value)"
      ]
     },
     "execution_count": 49,
     "metadata": {
      "application/vnd.holoviews_exec.v0+json": {}
     },
     "output_type": "execute_result"
    }
   ],
   "source": [
    "produto"
   ]
  },
  {
   "cell_type": "code",
   "execution_count": 44,
   "metadata": {
    "slideshow": {
     "slide_type": "notes"
    }
   },
   "outputs": [],
   "source": [
    "tc = pd.read_excel('br_terms_1990_2021.xlsx')\n",
    "\n",
    "termos = tc.hvplot.line('Ano', 'Termos de troca',\n",
    "                        height=350,\n",
    "                        width=600,\n",
    "                        rot=0,\n",
    "                        padding=0.02,\n",
    "                        color='darkviolet',\n",
    "                        ylim=(50, 120),\n",
    "                        yticks=8,\n",
    "                        xlim=(1990, 2000),\n",
    "                        xticks=12,\n",
    "                        xlabel='',\n",
    "                        ylabel='Índice, 2006=100',\n",
    "                        label='Termos de troca, Brasil, 1980-2000 (2006=100)'\n",
    "                       ).opts(fontsize={'title': 14, 'labels': 11, 'xticks': 11, 'yticks': 11})"
   ]
  },
  {
   "cell_type": "code",
   "execution_count": 45,
   "metadata": {
    "slideshow": {
     "slide_type": "slide"
    }
   },
   "outputs": [
    {
     "data": {
      "text/html": [
       "<img src='data:image/png;base64,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' style='max-width:100%; margin: auto; display: block; '/>"
      ],
      "text/plain": [
       ":Curve   [Ano]   (Termos de troca)"
      ]
     },
     "execution_count": 45,
     "metadata": {
      "application/vnd.holoviews_exec.v0+json": {}
     },
     "output_type": "execute_result"
    }
   ],
   "source": [
    "termos"
   ]
  },
  {
   "cell_type": "code",
   "execution_count": 36,
   "metadata": {
    "slideshow": {
     "slide_type": "notes"
    }
   },
   "outputs": [],
   "source": [
    "bal = pd.read_excel('br_bcom_1990_2000.xlsx')\n",
    "\n",
    "bal_comercial = bal.hvplot.bar('Ano', ['Exportação', 'Importação'],\n",
    "                               height=450,\n",
    "                               width=660,\n",
    "                               rot=0,\n",
    "                               stacked=False,\n",
    "                               padding=0.02,\n",
    "                               legend='bottom',\n",
    "                               cmap='tab10',\n",
    "                               yformatter='%.0f',\n",
    "                               ylim=(0, 70000),\n",
    "                               group_label= 'Comércio externo',\n",
    "                               xlabel='',\n",
    "                               ylabel='',\n",
    "                               label='Exportações e importações, Brasil, 1990-2000 (milhões US$)'\n",
    "                              ).opts(fontsize={'title': 14, 'labels': 11, 'xticks': 11, \n",
    "                                               'yticks': 11, 'legend': 11}).opts(multi_level=False)"
   ]
  },
  {
   "cell_type": "code",
   "execution_count": 37,
   "metadata": {
    "slideshow": {
     "slide_type": "slide"
    }
   },
   "outputs": [
    {
     "data": {
      "text/html": [
       "<img src='data:image/png;base64,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' style='max-width:100%; margin: auto; display: block; '/>"
      ],
      "text/plain": [
       ":Bars   [Ano,Comércio externo]   (value)"
      ]
     },
     "execution_count": 37,
     "metadata": {
      "application/vnd.holoviews_exec.v0+json": {}
     },
     "output_type": "execute_result"
    }
   ],
   "source": [
    "bal_comercial"
   ]
  },
  {
   "cell_type": "code",
   "execution_count": 70,
   "metadata": {
    "slideshow": {
     "slide_type": "notes"
    }
   },
   "outputs": [],
   "source": [
    "bp = pd.read_excel('br_bp_1990_2000.xlsx')\n",
    "\n",
    "saldos = bp.hvplot.bar('Ano', ['Bal. Comercial', 'Trans. Correntes', 'Conta capital', 'BP'],\n",
    "                       height=450,\n",
    "                       width=600,\n",
    "                       rot=0,\n",
    "                       stacked=True,\n",
    "                       padding=0.02,\n",
    "                       legend='bottom',\n",
    "                       cmap='tab10',\n",
    "                       ylim=(-60000, 80000),\n",
    "                       yticks=8,\n",
    "                       yformatter='%.0f',\n",
    "                       group_label= 'Comércio externo',                       \n",
    "                       xlabel='',\n",
    "                       ylabel='',\n",
    "                       label='Balanço de pagamentos, Brasil, 1990-2000 (milhões US$)'\n",
    "                      ).opts(fontsize={'title': 14, 'labels': 11, 'xticks': 11, \n",
    "                                       'yticks': 11, 'legend': 11}).opts(multi_level=False)"
   ]
  },
  {
   "cell_type": "code",
   "execution_count": 71,
   "metadata": {
    "slideshow": {
     "slide_type": "slide"
    }
   },
   "outputs": [
    {
     "data": {
      "text/html": [
       "<img src='data:image/png;base64,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' style='max-width:100%; margin: auto; display: block; '/>"
      ],
      "text/plain": [
       ":Bars   [Ano,Comércio externo]   (value)"
      ]
     },
     "execution_count": 71,
     "metadata": {
      "application/vnd.holoviews_exec.v0+json": {}
     },
     "output_type": "execute_result"
    }
   ],
   "source": [
    "saldos"
   ]
  }
 ],
 "metadata": {
  "celltoolbar": "Slideshow",
  "kernelspec": {
   "display_name": "Python 3 (ipykernel)",
   "language": "python",
   "name": "python3"
  },
  "language_info": {
   "codemirror_mode": {
    "name": "ipython",
    "version": 3
   },
   "file_extension": ".py",
   "mimetype": "text/x-python",
   "name": "python",
   "nbconvert_exporter": "python",
   "pygments_lexer": "ipython3",
   "version": "3.9.22"
  },
  "toc": {
   "base_numbering": 1,
   "nav_menu": {},
   "number_sections": false,
   "sideBar": true,
   "skip_h1_title": false,
   "title_cell": "Table of Contents",
   "title_sidebar": "Contents",
   "toc_cell": false,
   "toc_position": {},
   "toc_section_display": true,
   "toc_window_display": false
  }
 },
 "nbformat": 4,
 "nbformat_minor": 4
}
