{
 "cells": [
  {
   "cell_type": "markdown",
   "metadata": {
    "slideshow": {
     "slide_type": "slide"
    }
   },
   "source": [
    "## <center>Economia Brasileira - FEA-USP</center>\n",
    "\n",
    "### <center>Aula 8 - Planos de Estabilização (parte 3)</center>\n",
    "\n",
    "#### <center>Renato Perim Colistete</center>\n",
    "\n",
    "\n",
    "#### <center>2025</center>  "
   ]
  },
  {
   "cell_type": "markdown",
   "metadata": {
    "slideshow": {
     "slide_type": "slide"
    }
   },
   "source": [
    "## Objetivos\n",
    "\n",
    "Analisaremos hoje o *quarto* programa de estabilização heterodoxo, o Plano Collor.\n",
    "\n",
    "Concentraremos a atenção na política de estabilização propriamente dita, deixando os outros elementos do Plano (privatização, liberalização comercial, desregulamentação) para aula posterior.\n",
    "\n",
    "Veremos as medidas principais do Plano, sua lógica, suas consequências e as ideias que o inspiraram."
   ]
  },
  {
   "cell_type": "markdown",
   "metadata": {
    "editable": true,
    "slideshow": {
     "slide_type": "slide"
    },
    "tags": []
   },
   "source": [
    "## Contexto\n",
    "\n",
    "Após o fracasso dos Planos Bresser (junho de 1987) e Verão (janeiro de 1989), o início do novo governo de [Fernando Collor](http://www.fgv.br/cpdoc/acervo/dicionarios/verbete-biografico/collor-fernando) em meio à explosão inflacionária praticamente forçou uma ação imediata."
   ]
  },
  {
   "cell_type": "markdown",
   "metadata": {
    "editable": true,
    "slideshow": {
     "slide_type": "fragment"
    },
    "tags": []
   },
   "source": [
    "O IPCA acumulado de 12 meses em março/1990 chegou a 7.497,86%!! O IPC-FIPE foi de 6.873,6%."
   ]
  },
  {
   "cell_type": "markdown",
   "metadata": {
    "slideshow": {
     "slide_type": "fragment"
    }
   },
   "source": [
    "Ver a evolução dos preços (IPC-IBGE) mês a mês do início do Plano Verão (fev/1989) até as vésperas do Plano Collor (fev/1990):"
   ]
  },
  {
   "cell_type": "markdown",
   "metadata": {
    "editable": true,
    "slideshow": {
     "slide_type": "subslide"
    },
    "tags": []
   },
   "source": [
    "#### <center>IPC-IBGE antes do Plano Collor</center>\n",
    "\n",
    "<center><img src=\"br_ipc_1989_1990.png\" width=\"700\" height=\"450\"></center>"
   ]
  },
  {
   "cell_type": "markdown",
   "metadata": {
    "slideshow": {
     "slide_type": "slide"
    }
   },
   "source": [
    "## Anúncio\n",
    "\n",
    "Em 16/3/1990, um dia após a posse presidencial, foi anunciado o Plano Brasil Novo – ou Plano Collor, como ficou conhecido."
   ]
  },
  {
   "cell_type": "markdown",
   "metadata": {
    "slideshow": {
     "slide_type": "fragment"
    }
   },
   "source": [
    " O Plano Collor foi abrangente, compreendendo administração e finanças públicas, privatizações, câmbio, salários e regime comercial, além da política (e reforma) monetária."
   ]
  },
  {
   "cell_type": "markdown",
   "metadata": {
    "slideshow": {
     "slide_type": "fragment"
    }
   },
   "source": [
    "Analisaremos hoje apenas a política de estabilização de preços (outros aspectos do Plano serão vistos em aula posterior)."
   ]
  },
  {
   "cell_type": "markdown",
   "metadata": {
    "slideshow": {
     "slide_type": "subslide"
    }
   },
   "source": [
    "## Diagnóstico\n",
    "\n",
    "O plano foi produto de uma reavaliação das experiências de choque heterodoxo desde o Plano Cruzado."
   ]
  },
  {
   "cell_type": "markdown",
   "metadata": {
    "slideshow": {
     "slide_type": "fragment"
    }
   },
   "source": [
    "Congelamento de preços e desindexação continuaram a ser considerados medidas necessárias para a estabilização dos preços."
   ]
  },
  {
   "cell_type": "markdown",
   "metadata": {
    "slideshow": {
     "slide_type": "fragment"
    }
   },
   "source": [
    "*Mas* tornou-se opinião dominante que o foco da política monetária deveria concentrar-se nos ativos financeiros públicos e privados (que eram negociados ou tinham como referência o mercado diário de compra e recompra de títulos públicos, o *overnight*) que eram, ao mesmo tempo, riqueza privada e liquidez."
   ]
  },
  {
   "cell_type": "markdown",
   "metadata": {
    "slideshow": {
     "slide_type": "subslide"
    }
   },
   "source": [
    "## Liquidez\n",
    "\n",
    "Desta forma, sob o regime de alta inflação e indexação existente no Brasil da época, o conceito relevante de moeda abrangeria ativos financeiros de elevada liquidez (= quase-moeda). A referência principal tornou-se o $M4$ (30-35% do PIB). "
   ]
  },
  {
   "cell_type": "markdown",
   "metadata": {
    "slideshow": {
     "slide_type": "fragment"
    }
   },
   "source": [
    "$M4$ = *papel moeda em poder do público + depósitos à vista + títulos públicos em poder do público + depósitos de poupança + títulos privados*\n",
    "\n",
    "- títulos públicos: federais, estaduais e municipais\n",
    "\n",
    "- títulos privados: depósitos a prazo, letras de câmbio e letras hipotecárias"
   ]
  },
  {
   "cell_type": "markdown",
   "metadata": {
    "slideshow": {
     "slide_type": "subslide"
    }
   },
   "source": [
    "Segundo o diagnóstico subjacente do Plano, portanto, o $M4$ seria o agregado que deveria ser o foco de controle, não a base monetária e o M1."
   ]
  },
  {
   "cell_type": "markdown",
   "metadata": {
    "slideshow": {
     "slide_type": "subslide"
    }
   },
   "source": [
    "## Indexação e moeda\n",
    "\n",
    "Um intervalo para observar um fato importante: no $M4$, todos os ativos exceto o M1 eram indexados, com remuneração diária (*overnight*) no mínimo pela taxa de inflação. "
   ]
  },
  {
   "cell_type": "markdown",
   "metadata": {
    "slideshow": {
     "slide_type": "fragment"
    }
   },
   "source": [
    "Qual a implicação? Uma vez que o valor nominal da maior parte do $M4$ (= $M4 - M1$) era corrigido pela inflação, a própria inflação garantia o crescimento dessa parcela do $M4$ (aproximadamente 80% do $M4$). "
   ]
  },
  {
   "cell_type": "markdown",
   "metadata": {
    "slideshow": {
     "slide_type": "fragment"
    }
   },
   "source": [
    "Como o Banco Central garantia a liquidação diária dos títulos públicos, o que servia de base também para o mercado de títulos privados, o $M1$ era endogenamente determinado pelos outros agregados do $M4$ e também pelo crescimento da inflação."
   ]
  },
  {
   "cell_type": "markdown",
   "metadata": {
    "slideshow": {
     "slide_type": "slide"
    }
   },
   "source": [
    "## Princípios básicos\n",
    "\n",
    "O diagnóstico esboçado acima pelo Plano Collor foi compartilhado por economistas de diferentes posições, conforme será visto adiante. Mas quais foram os princípios básicos do Plano no que diz respeito à estabilização?"
   ]
  },
  {
   "cell_type": "markdown",
   "metadata": {
    "slideshow": {
     "slide_type": "fragment"
    }
   },
   "source": [
    "- primeiro, tal como nos choques heterodoxos anteriores, adoção de *novo padrão monetário* com reintrodução do *Cruzeiro* e *congelamento* de preços."
   ]
  },
  {
   "cell_type": "markdown",
   "metadata": {
    "slideshow": {
     "slide_type": "fragment"
    }
   },
   "source": [
    "- segundo, após o congelamento, desindexação via *prefixação* de todos os contratos e preços."
   ]
  },
  {
   "cell_type": "markdown",
   "metadata": {
    "slideshow": {
     "slide_type": "subslide"
    }
   },
   "source": [
    "- Mas desta vez introduziu-se uma novidade: *bloqueio (ou confisco) da liquidez* da maior parte do estoque dos ativos financeiros definidos no $M4$ para conter os efeitos pós-choque, partindo do diagnóstico acima."
   ]
  },
  {
   "cell_type": "markdown",
   "metadata": {
    "slideshow": {
     "slide_type": "slide"
    }
   },
   "source": [
    "## Medidas\n",
    "\n",
    "As principais medidas (ver os detalhes no texto original do Plano no site do curso):"
   ]
  },
  {
   "cell_type": "markdown",
   "metadata": {
    "slideshow": {
     "slide_type": "fragment"
    }
   },
   "source": [
    "- reforma monetária com retorno ao Cruzeiro, tendo valor equivalente a 1 Cruzado Novo (Cr\\\\$ 1,00 = NCZ$ 1,00)."
   ]
  },
  {
   "cell_type": "markdown",
   "metadata": {
    "slideshow": {
     "slide_type": "fragment"
    }
   },
   "source": [
    "- os valores em cruzados novos foram recolhidos ao Banco Central por *18 meses, devendo ser devolvidos em 12 parcelas* a partir de setembro de 1991, com correção monetária mais juros de 6% a.a."
   ]
  },
  {
   "cell_type": "markdown",
   "metadata": {
    "slideshow": {
     "slide_type": "fragment"
    }
   },
   "source": [
    "- Valores em *depósitos à vista e cadernetas de poupança* até NCz$ 50.000 (+- 1.300 dólares) puderam ser convertidos\n",
    "imediatamente para cruzeiros e sacados pelos titulares, após pagamento de 8\\% de IOF. O restante se sujeitaria à regra acima. "
   ]
  },
  {
   "cell_type": "markdown",
   "metadata": {
    "slideshow": {
     "slide_type": "slide"
    }
   },
   "source": [
    "## Medidas\n",
    "\n",
    "- Outros ativos, tais como fundos de curto prazo, aplicações no *overnight* e contas remuneradas, tiveram limite menor de resgate: NCz$ 25.000,00 ou 20% do total, prevalecendo o maior. Estimativa de que 80\\% do total da liquidez (M4) em cruzados novos tenham sido retidos."
   ]
  },
  {
   "cell_type": "markdown",
   "metadata": {
    "slideshow": {
     "slide_type": "fragment"
    }
   },
   "source": [
    "- Pagamentos de dívidas contratadas até dia 15/3 seriam debitados nas contas em cruzados novos dos devedores e creditados nas contas do credores, também em cruzados novos."
   ]
  },
  {
   "cell_type": "markdown",
   "metadata": {
    "slideshow": {
     "slide_type": "fragment"
    }
   },
   "source": [
    "- Os cruzados novos bloqueados podiam ser usados por 60 dias para pagamento de impostos, taxas e contribuições previdenciárias, e por 180 dias para pagamentos de dívidas (contraídas antes de 15/3/1990) entre pessoas físicas e jurídicas. "
   ]
  },
  {
   "cell_type": "markdown",
   "metadata": {
    "slideshow": {
     "slide_type": "subslide"
    }
   },
   "source": [
    "- Além disso, previa-se a alteração desses prazos ou a realização de leilões de conversão antecipada de cruzados novos, de acordo com as necessidades identificadas pelo governo."
   ]
  },
  {
   "cell_type": "markdown",
   "metadata": {
    "slideshow": {
     "slide_type": "slide"
    }
   },
   "source": [
    "## Salários\n",
    "\n",
    "- A *política salarial* foi mantida até 1 de abril, sendo o salário de março corrigido pela inflação de fevereiro. Daí em diante, *salários e preços seriam prefixados*, com um piso para os salários e um teto para o reajuste de preços."
   ]
  },
  {
   "cell_type": "markdown",
   "metadata": {
    "slideshow": {
     "slide_type": "fragment"
    }
   },
   "source": [
    "- Tanto os salários quanto os preços poderiam ser reajustados apenas uma vez dentro do mês (não em relação ao mês anterior). O teto dos preços seria anunciado todo dia 1o do mês, a partir de maio. "
   ]
  },
  {
   "cell_type": "markdown",
   "metadata": {
    "editable": true,
    "slideshow": {
     "slide_type": "fragment"
    },
    "tags": []
   },
   "source": [
    "- O reajuste do piso salarial seria sempre um pouco maior do que o teto dos preços – parte da chamada \"política de rendas\" do Plano."
   ]
  },
  {
   "cell_type": "markdown",
   "metadata": {
    "editable": true,
    "slideshow": {
     "slide_type": "subslide"
    },
    "tags": []
   },
   "source": [
    "Definição geral de política de rendas: diferentes formas de\n",
    "intervenção em preços, salários, juros e câmbio, geralmente coordenadas pelo\n",
    "Estado, visando alcançar metas de redistribuição de renda, controlar preços ou\n",
    "redirecionar a alocação de recursos."
   ]
  },
  {
   "cell_type": "markdown",
   "metadata": {
    "editable": true,
    "slideshow": {
     "slide_type": "subslide"
    },
    "tags": []
   },
   "source": [
    "- Para o *salário mínimo*, revisão automática a cada três meses de eventuais perdas com a regra acima, além de 5% de aumento real (também parte da política de rendas do Plano)."
   ]
  },
  {
   "cell_type": "markdown",
   "metadata": {
    "slideshow": {
     "slide_type": "slide"
    }
   },
   "source": [
    "## Desindexação\n",
    "\n",
    "- No âmbito da desindexação, a partir da data do Plano os contratos seriam corrigidos pelo *índice prefixado de inflação* estabelecido pelo governo, ou seja, não mais pelo repasse dos índices passados de inflação."
   ]
  },
  {
   "cell_type": "markdown",
   "metadata": {
    "slideshow": {
     "slide_type": "fragment"
    }
   },
   "source": [
    "- Títulos do governo (Bônus do Tesouro Nacional ou BTN) também seriam corrigidos pelo índice prefixado."
   ]
  },
  {
   "cell_type": "markdown",
   "metadata": {
    "slideshow": {
     "slide_type": "fragment"
    }
   },
   "source": [
    "- Política cambial: câmbio *flutuante*, ou seja, determinado pela compra e venda de divisas no mercado, complementadas por atuação do Banco Central para evitar variações excessivas."
   ]
  },
  {
   "cell_type": "markdown",
   "metadata": {
    "slideshow": {
     "slide_type": "subslide"
    }
   },
   "source": [
    "- Tarifas e preços públicos seriam alinhados antes de seu congelamento."
   ]
  },
  {
   "cell_type": "markdown",
   "metadata": {
    "editable": true,
    "slideshow": {
     "slide_type": "fragment"
    },
    "tags": []
   },
   "source": [
    "Notar: desindexação foi o termo utilizado pelos formuladores referindo-se ao desconto da inflação antecipada e embutida nos contratos. A indexação propriamente dita (reajuste com base na variação % de valores de ativos) continuou sendo adotada amplamente."
   ]
  },
  {
   "cell_type": "markdown",
   "metadata": {
    "editable": true,
    "slideshow": {
     "slide_type": "slide"
    },
    "tags": []
   },
   "source": [
    "### Origens\n",
    "\n",
    "Há pouca clareza quanto às ideias que levaram à adoção do confisco dos ativos financeiros pela equipe econômica. Os princípios que fundamentaram o Plano nunca foram elaborados de maneira formal previamente."
   ]
  },
  {
   "cell_type": "markdown",
   "metadata": {
    "slideshow": {
     "slide_type": "fragment"
    }
   },
   "source": [
    "Principais nomes na gestão do Plano: Zélia Cardoso de Mello, Ministra da Fazenda; Ibrahim Eris, Banco Central, e Antonio Kandir, secretário de política econômica."
   ]
  },
  {
   "cell_type": "markdown",
   "metadata": {
    "slideshow": {
     "slide_type": "fragment"
    }
   },
   "source": [
    "Mas a noção de um corte radical de liquidez como passo necessário para o sucesso de um choque heterodoxo foi defendida por vários autores na época (ver entrevistas Collor no site do curso). "
   ]
  },
  {
   "cell_type": "markdown",
   "metadata": {
    "slideshow": {
     "slide_type": "subslide"
    }
   },
   "source": [
    "O bloqueio da liquidez também foi avaliado e apoiado por outros economistas da oposição, do PSDB e do PT (antes da eleição)."
   ]
  },
  {
   "cell_type": "markdown",
   "metadata": {
    "slideshow": {
     "slide_type": "fragment"
    }
   },
   "source": [
    "Uma explicação, por exemplo, dizia que havia dois circuitos monetários paralelos: circulação industrial (produção) x circulação financeira (mercado financeiro, especulação). O bloqueio seria a forma de controlar a autonomia adquirida pelo segundo circuito."
   ]
  },
  {
   "cell_type": "markdown",
   "metadata": {
    "slideshow": {
     "slide_type": "slide"
    }
   },
   "source": [
    "## Efeitos de curto prazo\n",
    "\n",
    "Houve instantânea e enorme retração da liquidez com a confisco dos ativos financeiros, mas M1 e base monetária começaram a crescer rapidamente nas semanas seguintes, com melhora do crédito já em abril/1990. Notar: a política monetária foi expansiva a partir do confisco."
   ]
  },
  {
   "cell_type": "markdown",
   "metadata": {
    "editable": true,
    "slideshow": {
     "slide_type": "fragment"
    },
    "tags": []
   },
   "source": [
    "O rendimento diário dos títulos públicos no *overnight* prosseguiu intocado, reforçando o potencial de aumento da base monetária e do $M1$."
   ]
  },
  {
   "cell_type": "markdown",
   "metadata": {
    "slideshow": {
     "slide_type": "fragment"
    }
   },
   "source": [
    "O confisco dos ativos financeiros atuou pelo lado da demanda das famílias (via retenção dos saques da poupança, p.ex.), mas é provável que o efeito maior tenha sido pelo lado da oferta (via interrupção de negócios e desorganização da cadeia produtiva)."
   ]
  },
  {
   "cell_type": "markdown",
   "metadata": {
    "editable": true,
    "slideshow": {
     "slide_type": "subslide"
    },
    "tags": []
   },
   "source": [
    "O impacto sobre a produção foi massivo: grande contração da atividade econômica, com o PIB caindo -4,4% e a produção industrial -9,5% em 1990."
   ]
  },
  {
   "cell_type": "markdown",
   "metadata": {
    "editable": true,
    "slideshow": {
     "slide_type": "fragment"
    },
    "tags": []
   },
   "source": [
    "Os preços caíram de 80% em março para 10% nos primeiros meses do Plano. Mas a queda perdeu fôlego e a inflação chegou a 1.639% em 1990 (IPC-FIPE). "
   ]
  },
  {
   "cell_type": "markdown",
   "metadata": {
    "editable": true,
    "slideshow": {
     "slide_type": "slide"
    },
    "tags": []
   },
   "source": [
    "## Plano Collor II\n",
    "\n",
    "Em 31 de janeiro de 1991 o governo anunciou o Plano Collor II, uma nova tentativa de estabilização no momento em que a crise se aprofundava."
   ]
  },
  {
   "cell_type": "markdown",
   "metadata": {
    "editable": true,
    "slideshow": {
     "slide_type": "fragment"
    },
    "tags": []
   },
   "source": [
    "Novamente o Plano recorreu ao congelamento de preços, mas desta vez com congelamento da taxa de câmbio e tablita de conversão para as obrigações financeiras."
   ]
  },
  {
   "cell_type": "markdown",
   "metadata": {
    "slideshow": {
     "slide_type": "fragment"
    }
   },
   "source": [
    "Os resultados sobre a inflação foram efêmeros e, no geral, novamente inócuos. A deterioração econômica converteu-se em crise política e em out/1992 Collor sofreu *impeachment*."
   ]
  },
  {
   "cell_type": "markdown",
   "metadata": {
    "slideshow": {
     "slide_type": "subslide"
    }
   },
   "source": [
    "Vejamos os dados do período. Observem em particular o desempenho da conta capital no balanço de pagamentos *a partir de 1992*."
   ]
  },
  {
   "cell_type": "code",
   "execution_count": 1,
   "metadata": {
    "slideshow": {
     "slide_type": "notes"
    }
   },
   "outputs": [
    {
     "data": {
      "application/javascript": [
       "(function(root) {\n",
       "  function now() {\n",
       "    return new Date();\n",
       "  }\n",
       "\n",
       "  var force = true;\n",
       "  var py_version = '3.4.2'.replace('rc', '-rc.').replace('.dev', '-dev.');\n",
       "  var reloading = false;\n",
       "  var Bokeh = root.Bokeh;\n",
       "\n",
       "  if (typeof (root._bokeh_timeout) === \"undefined\" || force) {\n",
       "    root._bokeh_timeout = Date.now() + 5000;\n",
       "    root._bokeh_failed_load = false;\n",
       "  }\n",
       "\n",
       "  function run_callbacks() {\n",
       "    try {\n",
       "      root._bokeh_onload_callbacks.forEach(function(callback) {\n",
       "        if (callback != null)\n",
       "          callback();\n",
       "      });\n",
       "    } finally {\n",
       "      delete root._bokeh_onload_callbacks;\n",
       "    }\n",
       "    console.debug(\"Bokeh: all callbacks have finished\");\n",
       "  }\n",
       "\n",
       "  function load_libs(css_urls, js_urls, js_modules, js_exports, callback) {\n",
       "    if (css_urls == null) css_urls = [];\n",
       "    if (js_urls == null) js_urls = [];\n",
       "    if (js_modules == null) js_modules = [];\n",
       "    if (js_exports == null) js_exports = {};\n",
       "\n",
       "    root._bokeh_onload_callbacks.push(callback);\n",
       "\n",
       "    if (root._bokeh_is_loading > 0) {\n",
       "      console.debug(\"Bokeh: BokehJS is being loaded, scheduling callback at\", now());\n",
       "      return null;\n",
       "    }\n",
       "    if (js_urls.length === 0 && js_modules.length === 0 && Object.keys(js_exports).length === 0) {\n",
       "      run_callbacks();\n",
       "      return null;\n",
       "    }\n",
       "    if (!reloading) {\n",
       "      console.debug(\"Bokeh: BokehJS not loaded, scheduling load and callback at\", now());\n",
       "    }\n",
       "\n",
       "    function on_load() {\n",
       "      root._bokeh_is_loading--;\n",
       "      if (root._bokeh_is_loading === 0) {\n",
       "        console.debug(\"Bokeh: all BokehJS libraries/stylesheets loaded\");\n",
       "        run_callbacks()\n",
       "      }\n",
       "    }\n",
       "    window._bokeh_on_load = on_load\n",
       "\n",
       "    function on_error() {\n",
       "      console.error(\"failed to load \" + url);\n",
       "    }\n",
       "\n",
       "    var skip = [];\n",
       "    if (window.requirejs) {\n",
       "      window.requirejs.config({'packages': {}, 'paths': {}, 'shim': {}});\n",
       "      root._bokeh_is_loading = css_urls.length + 0;\n",
       "    } else {\n",
       "      root._bokeh_is_loading = css_urls.length + js_urls.length + js_modules.length + Object.keys(js_exports).length;\n",
       "    }\n",
       "\n",
       "    var existing_stylesheets = []\n",
       "    var links = document.getElementsByTagName('link')\n",
       "    for (var i = 0; i < links.length; i++) {\n",
       "      var link = links[i]\n",
       "      if (link.href != null) {\n",
       "\texisting_stylesheets.push(link.href)\n",
       "      }\n",
       "    }\n",
       "    for (var i = 0; i < css_urls.length; i++) {\n",
       "      var url = css_urls[i];\n",
       "      if (existing_stylesheets.indexOf(url) !== -1) {\n",
       "\ton_load()\n",
       "\tcontinue;\n",
       "      }\n",
       "      const element = document.createElement(\"link\");\n",
       "      element.onload = on_load;\n",
       "      element.onerror = on_error;\n",
       "      element.rel = \"stylesheet\";\n",
       "      element.type = \"text/css\";\n",
       "      element.href = url;\n",
       "      console.debug(\"Bokeh: injecting link tag for BokehJS stylesheet: \", url);\n",
       "      document.body.appendChild(element);\n",
       "    }    var existing_scripts = []\n",
       "    var scripts = document.getElementsByTagName('script')\n",
       "    for (var i = 0; i < scripts.length; i++) {\n",
       "      var script = scripts[i]\n",
       "      if (script.src != null) {\n",
       "\texisting_scripts.push(script.src)\n",
       "      }\n",
       "    }\n",
       "    for (var i = 0; i < js_urls.length; i++) {\n",
       "      var url = js_urls[i];\n",
       "      if (skip.indexOf(url) !== -1 || existing_scripts.indexOf(url) !== -1) {\n",
       "\tif (!window.requirejs) {\n",
       "\t  on_load();\n",
       "\t}\n",
       "\tcontinue;\n",
       "      }\n",
       "      var element = document.createElement('script');\n",
       "      element.onload = on_load;\n",
       "      element.onerror = on_error;\n",
       "      element.async = false;\n",
       "      element.src = url;\n",
       "      console.debug(\"Bokeh: injecting script tag for BokehJS library: \", url);\n",
       "      document.head.appendChild(element);\n",
       "    }\n",
       "    for (var i = 0; i < js_modules.length; i++) {\n",
       "      var url = js_modules[i];\n",
       "      if (skip.indexOf(url) !== -1 || existing_scripts.indexOf(url) !== -1) {\n",
       "\tif (!window.requirejs) {\n",
       "\t  on_load();\n",
       "\t}\n",
       "\tcontinue;\n",
       "      }\n",
       "      var element = document.createElement('script');\n",
       "      element.onload = on_load;\n",
       "      element.onerror = on_error;\n",
       "      element.async = false;\n",
       "      element.src = url;\n",
       "      element.type = \"module\";\n",
       "      console.debug(\"Bokeh: injecting script tag for BokehJS library: \", url);\n",
       "      document.head.appendChild(element);\n",
       "    }\n",
       "    for (const name in js_exports) {\n",
       "      var url = js_exports[name];\n",
       "      if (skip.indexOf(url) >= 0 || root[name] != null) {\n",
       "\tif (!window.requirejs) {\n",
       "\t  on_load();\n",
       "\t}\n",
       "\tcontinue;\n",
       "      }\n",
       "      var element = document.createElement('script');\n",
       "      element.onerror = on_error;\n",
       "      element.async = false;\n",
       "      element.type = \"module\";\n",
       "      console.debug(\"Bokeh: injecting script tag for BokehJS library: \", url);\n",
       "      element.textContent = `\n",
       "      import ${name} from \"${url}\"\n",
       "      window.${name} = ${name}\n",
       "      window._bokeh_on_load()\n",
       "      `\n",
       "      document.head.appendChild(element);\n",
       "    }\n",
       "    if (!js_urls.length && !js_modules.length) {\n",
       "      on_load()\n",
       "    }\n",
       "  };\n",
       "\n",
       "  function inject_raw_css(css) {\n",
       "    const element = document.createElement(\"style\");\n",
       "    element.appendChild(document.createTextNode(css));\n",
       "    document.body.appendChild(element);\n",
       "  }\n",
       "\n",
       "  var js_urls = [\"https://cdn.bokeh.org/bokeh/release/bokeh-3.4.2.min.js\", \"https://cdn.bokeh.org/bokeh/release/bokeh-gl-3.4.2.min.js\", \"https://cdn.bokeh.org/bokeh/release/bokeh-widgets-3.4.2.min.js\", \"https://cdn.bokeh.org/bokeh/release/bokeh-tables-3.4.2.min.js\", \"https://cdn.holoviz.org/panel/1.4.5/dist/panel.min.js\"];\n",
       "  var js_modules = [];\n",
       "  var js_exports = {};\n",
       "  var css_urls = [];\n",
       "  var inline_js = [    function(Bokeh) {\n",
       "      Bokeh.set_log_level(\"info\");\n",
       "    },\n",
       "function(Bokeh) {} // ensure no trailing comma for IE\n",
       "  ];\n",
       "\n",
       "  function run_inline_js() {\n",
       "    if ((root.Bokeh !== undefined) || (force === true)) {\n",
       "      for (var i = 0; i < inline_js.length; i++) {\n",
       "\ttry {\n",
       "          inline_js[i].call(root, root.Bokeh);\n",
       "\t} catch(e) {\n",
       "\t  if (!reloading) {\n",
       "\t    throw e;\n",
       "\t  }\n",
       "\t}\n",
       "      }\n",
       "      // Cache old bokeh versions\n",
       "      if (Bokeh != undefined && !reloading) {\n",
       "\tvar NewBokeh = root.Bokeh;\n",
       "\tif (Bokeh.versions === undefined) {\n",
       "\t  Bokeh.versions = new Map();\n",
       "\t}\n",
       "\tif (NewBokeh.version !== Bokeh.version) {\n",
       "\t  Bokeh.versions.set(NewBokeh.version, NewBokeh)\n",
       "\t}\n",
       "\troot.Bokeh = Bokeh;\n",
       "      }} else if (Date.now() < root._bokeh_timeout) {\n",
       "      setTimeout(run_inline_js, 100);\n",
       "    } else if (!root._bokeh_failed_load) {\n",
       "      console.log(\"Bokeh: BokehJS failed to load within specified timeout.\");\n",
       "      root._bokeh_failed_load = true;\n",
       "    }\n",
       "    root._bokeh_is_initializing = false\n",
       "  }\n",
       "\n",
       "  function load_or_wait() {\n",
       "    // Implement a backoff loop that tries to ensure we do not load multiple\n",
       "    // versions of Bokeh and its dependencies at the same time.\n",
       "    // In recent versions we use the root._bokeh_is_initializing flag\n",
       "    // to determine whether there is an ongoing attempt to initialize\n",
       "    // bokeh, however for backward compatibility we also try to ensure\n",
       "    // that we do not start loading a newer (Panel>=1.0 and Bokeh>3) version\n",
       "    // before older versions are fully initialized.\n",
       "    if (root._bokeh_is_initializing && Date.now() > root._bokeh_timeout) {\n",
       "      root._bokeh_is_initializing = false;\n",
       "      root._bokeh_onload_callbacks = undefined;\n",
       "      console.log(\"Bokeh: BokehJS was loaded multiple times but one version failed to initialize.\");\n",
       "      load_or_wait();\n",
       "    } else if (root._bokeh_is_initializing || (typeof root._bokeh_is_initializing === \"undefined\" && root._bokeh_onload_callbacks !== undefined)) {\n",
       "      setTimeout(load_or_wait, 100);\n",
       "    } else {\n",
       "      root._bokeh_is_initializing = true\n",
       "      root._bokeh_onload_callbacks = []\n",
       "      var bokeh_loaded = Bokeh != null && (Bokeh.version === py_version || (Bokeh.versions !== undefined && Bokeh.versions.has(py_version)));\n",
       "      if (!reloading && !bokeh_loaded) {\n",
       "\troot.Bokeh = undefined;\n",
       "      }\n",
       "      load_libs(css_urls, js_urls, js_modules, js_exports, function() {\n",
       "\tconsole.debug(\"Bokeh: BokehJS plotting callback run at\", now());\n",
       "\trun_inline_js();\n",
       "      });\n",
       "    }\n",
       "  }\n",
       "  // Give older versions of the autoload script a head-start to ensure\n",
       "  // they initialize before we start loading newer version.\n",
       "  setTimeout(load_or_wait, 100)\n",
       "}(window));"
      ],
      "application/vnd.holoviews_load.v0+json": "(function(root) {\n  function now() {\n    return new Date();\n  }\n\n  var force = true;\n  var py_version = '3.4.2'.replace('rc', '-rc.').replace('.dev', '-dev.');\n  var reloading = false;\n  var Bokeh = root.Bokeh;\n\n  if (typeof (root._bokeh_timeout) === \"undefined\" || force) {\n    root._bokeh_timeout = Date.now() + 5000;\n    root._bokeh_failed_load = false;\n  }\n\n  function run_callbacks() {\n    try {\n      root._bokeh_onload_callbacks.forEach(function(callback) {\n        if (callback != null)\n          callback();\n      });\n    } finally {\n      delete root._bokeh_onload_callbacks;\n    }\n    console.debug(\"Bokeh: all callbacks have finished\");\n  }\n\n  function load_libs(css_urls, js_urls, js_modules, js_exports, callback) {\n    if (css_urls == null) css_urls = [];\n    if (js_urls == null) js_urls = [];\n    if (js_modules == null) js_modules = [];\n    if (js_exports == null) js_exports = {};\n\n    root._bokeh_onload_callbacks.push(callback);\n\n    if (root._bokeh_is_loading > 0) {\n      console.debug(\"Bokeh: BokehJS is being loaded, scheduling callback at\", now());\n      return null;\n    }\n    if (js_urls.length === 0 && js_modules.length === 0 && Object.keys(js_exports).length === 0) {\n      run_callbacks();\n      return null;\n    }\n    if (!reloading) {\n      console.debug(\"Bokeh: BokehJS not loaded, scheduling load and callback at\", now());\n    }\n\n    function on_load() {\n      root._bokeh_is_loading--;\n      if (root._bokeh_is_loading === 0) {\n        console.debug(\"Bokeh: all BokehJS libraries/stylesheets loaded\");\n        run_callbacks()\n      }\n    }\n    window._bokeh_on_load = on_load\n\n    function on_error() {\n      console.error(\"failed to load \" + url);\n    }\n\n    var skip = [];\n    if (window.requirejs) {\n      window.requirejs.config({'packages': {}, 'paths': {}, 'shim': {}});\n      root._bokeh_is_loading = css_urls.length + 0;\n    } else {\n      root._bokeh_is_loading = css_urls.length + js_urls.length + js_modules.length + Object.keys(js_exports).length;\n    }\n\n    var existing_stylesheets = []\n    var links = document.getElementsByTagName('link')\n    for (var i = 0; i < links.length; i++) {\n      var link = links[i]\n      if (link.href != null) {\n\texisting_stylesheets.push(link.href)\n      }\n    }\n    for (var i = 0; i < css_urls.length; i++) {\n      var url = css_urls[i];\n      if (existing_stylesheets.indexOf(url) !== -1) {\n\ton_load()\n\tcontinue;\n      }\n      const element = document.createElement(\"link\");\n      element.onload = on_load;\n      element.onerror = on_error;\n      element.rel = \"stylesheet\";\n      element.type = \"text/css\";\n      element.href = url;\n      console.debug(\"Bokeh: injecting link tag for BokehJS stylesheet: \", url);\n      document.body.appendChild(element);\n    }    var existing_scripts = []\n    var scripts = document.getElementsByTagName('script')\n    for (var i = 0; i < scripts.length; i++) {\n      var script = scripts[i]\n      if (script.src != null) {\n\texisting_scripts.push(script.src)\n      }\n    }\n    for (var i = 0; i < js_urls.length; i++) {\n      var url = js_urls[i];\n      if (skip.indexOf(url) !== -1 || existing_scripts.indexOf(url) !== -1) {\n\tif (!window.requirejs) {\n\t  on_load();\n\t}\n\tcontinue;\n      }\n      var element = document.createElement('script');\n      element.onload = on_load;\n      element.onerror = on_error;\n      element.async = false;\n      element.src = url;\n      console.debug(\"Bokeh: injecting script tag for BokehJS library: \", url);\n      document.head.appendChild(element);\n    }\n    for (var i = 0; i < js_modules.length; i++) {\n      var url = js_modules[i];\n      if (skip.indexOf(url) !== -1 || existing_scripts.indexOf(url) !== -1) {\n\tif (!window.requirejs) {\n\t  on_load();\n\t}\n\tcontinue;\n      }\n      var element = document.createElement('script');\n      element.onload = on_load;\n      element.onerror = on_error;\n      element.async = false;\n      element.src = url;\n      element.type = \"module\";\n      console.debug(\"Bokeh: injecting script tag for BokehJS library: \", url);\n      document.head.appendChild(element);\n    }\n    for (const name in js_exports) {\n      var url = js_exports[name];\n      if (skip.indexOf(url) >= 0 || root[name] != null) {\n\tif (!window.requirejs) {\n\t  on_load();\n\t}\n\tcontinue;\n      }\n      var element = document.createElement('script');\n      element.onerror = on_error;\n      element.async = false;\n      element.type = \"module\";\n      console.debug(\"Bokeh: injecting script tag for BokehJS library: \", url);\n      element.textContent = `\n      import ${name} from \"${url}\"\n      window.${name} = ${name}\n      window._bokeh_on_load()\n      `\n      document.head.appendChild(element);\n    }\n    if (!js_urls.length && !js_modules.length) {\n      on_load()\n    }\n  };\n\n  function inject_raw_css(css) {\n    const element = document.createElement(\"style\");\n    element.appendChild(document.createTextNode(css));\n    document.body.appendChild(element);\n  }\n\n  var js_urls = [\"https://cdn.bokeh.org/bokeh/release/bokeh-3.4.2.min.js\", \"https://cdn.bokeh.org/bokeh/release/bokeh-gl-3.4.2.min.js\", \"https://cdn.bokeh.org/bokeh/release/bokeh-widgets-3.4.2.min.js\", \"https://cdn.bokeh.org/bokeh/release/bokeh-tables-3.4.2.min.js\", \"https://cdn.holoviz.org/panel/1.4.5/dist/panel.min.js\"];\n  var js_modules = [];\n  var js_exports = {};\n  var css_urls = [];\n  var inline_js = [    function(Bokeh) {\n      Bokeh.set_log_level(\"info\");\n    },\nfunction(Bokeh) {} // ensure no trailing comma for IE\n  ];\n\n  function run_inline_js() {\n    if ((root.Bokeh !== undefined) || (force === true)) {\n      for (var i = 0; i < inline_js.length; i++) {\n\ttry {\n          inline_js[i].call(root, root.Bokeh);\n\t} catch(e) {\n\t  if (!reloading) {\n\t    throw e;\n\t  }\n\t}\n      }\n      // Cache old bokeh versions\n      if (Bokeh != undefined && !reloading) {\n\tvar NewBokeh = root.Bokeh;\n\tif (Bokeh.versions === undefined) {\n\t  Bokeh.versions = new Map();\n\t}\n\tif (NewBokeh.version !== Bokeh.version) {\n\t  Bokeh.versions.set(NewBokeh.version, NewBokeh)\n\t}\n\troot.Bokeh = Bokeh;\n      }} else if (Date.now() < root._bokeh_timeout) {\n      setTimeout(run_inline_js, 100);\n    } else if (!root._bokeh_failed_load) {\n      console.log(\"Bokeh: BokehJS failed to load within specified timeout.\");\n      root._bokeh_failed_load = true;\n    }\n    root._bokeh_is_initializing = false\n  }\n\n  function load_or_wait() {\n    // Implement a backoff loop that tries to ensure we do not load multiple\n    // versions of Bokeh and its dependencies at the same time.\n    // In recent versions we use the root._bokeh_is_initializing flag\n    // to determine whether there is an ongoing attempt to initialize\n    // bokeh, however for backward compatibility we also try to ensure\n    // that we do not start loading a newer (Panel>=1.0 and Bokeh>3) version\n    // before older versions are fully initialized.\n    if (root._bokeh_is_initializing && Date.now() > root._bokeh_timeout) {\n      root._bokeh_is_initializing = false;\n      root._bokeh_onload_callbacks = undefined;\n      console.log(\"Bokeh: BokehJS was loaded multiple times but one version failed to initialize.\");\n      load_or_wait();\n    } else if (root._bokeh_is_initializing || (typeof root._bokeh_is_initializing === \"undefined\" && root._bokeh_onload_callbacks !== undefined)) {\n      setTimeout(load_or_wait, 100);\n    } else {\n      root._bokeh_is_initializing = true\n      root._bokeh_onload_callbacks = []\n      var bokeh_loaded = Bokeh != null && (Bokeh.version === py_version || (Bokeh.versions !== undefined && Bokeh.versions.has(py_version)));\n      if (!reloading && !bokeh_loaded) {\n\troot.Bokeh = undefined;\n      }\n      load_libs(css_urls, js_urls, js_modules, js_exports, function() {\n\tconsole.debug(\"Bokeh: BokehJS plotting callback run at\", now());\n\trun_inline_js();\n      });\n    }\n  }\n  // Give older versions of the autoload script a head-start to ensure\n  // they initialize before we start loading newer version.\n  setTimeout(load_or_wait, 100)\n}(window));"
     },
     "metadata": {},
     "output_type": "display_data"
    },
    {
     "data": {
      "application/javascript": [
       "\n",
       "if ((window.PyViz === undefined) || (window.PyViz instanceof HTMLElement)) {\n",
       "  window.PyViz = {comms: {}, comm_status:{}, kernels:{}, receivers: {}, plot_index: []}\n",
       "}\n",
       "\n",
       "\n",
       "    function JupyterCommManager() {\n",
       "    }\n",
       "\n",
       "    JupyterCommManager.prototype.register_target = function(plot_id, comm_id, msg_handler) {\n",
       "      if (window.comm_manager || ((window.Jupyter !== undefined) && (Jupyter.notebook.kernel != null))) {\n",
       "        var comm_manager = window.comm_manager || Jupyter.notebook.kernel.comm_manager;\n",
       "        comm_manager.register_target(comm_id, function(comm) {\n",
       "          comm.on_msg(msg_handler);\n",
       "        });\n",
       "      } else if ((plot_id in window.PyViz.kernels) && (window.PyViz.kernels[plot_id])) {\n",
       "        window.PyViz.kernels[plot_id].registerCommTarget(comm_id, function(comm) {\n",
       "          comm.onMsg = msg_handler;\n",
       "        });\n",
       "      } else if (typeof google != 'undefined' && google.colab.kernel != null) {\n",
       "        google.colab.kernel.comms.registerTarget(comm_id, (comm) => {\n",
       "          var messages = comm.messages[Symbol.asyncIterator]();\n",
       "          function processIteratorResult(result) {\n",
       "            var message = result.value;\n",
       "            console.log(message)\n",
       "            var content = {data: message.data, comm_id};\n",
       "            var buffers = []\n",
       "            for (var buffer of message.buffers || []) {\n",
       "              buffers.push(new DataView(buffer))\n",
       "            }\n",
       "            var metadata = message.metadata || {};\n",
       "            var msg = {content, buffers, metadata}\n",
       "            msg_handler(msg);\n",
       "            return messages.next().then(processIteratorResult);\n",
       "          }\n",
       "          return messages.next().then(processIteratorResult);\n",
       "        })\n",
       "      }\n",
       "    }\n",
       "\n",
       "    JupyterCommManager.prototype.get_client_comm = function(plot_id, comm_id, msg_handler) {\n",
       "      if (comm_id in window.PyViz.comms) {\n",
       "        return window.PyViz.comms[comm_id];\n",
       "      } else if (window.comm_manager || ((window.Jupyter !== undefined) && (Jupyter.notebook.kernel != null))) {\n",
       "        var comm_manager = window.comm_manager || Jupyter.notebook.kernel.comm_manager;\n",
       "        var comm = comm_manager.new_comm(comm_id, {}, {}, {}, comm_id);\n",
       "        if (msg_handler) {\n",
       "          comm.on_msg(msg_handler);\n",
       "        }\n",
       "      } else if ((plot_id in window.PyViz.kernels) && (window.PyViz.kernels[plot_id])) {\n",
       "        var comm = window.PyViz.kernels[plot_id].connectToComm(comm_id);\n",
       "        comm.open();\n",
       "        if (msg_handler) {\n",
       "          comm.onMsg = msg_handler;\n",
       "        }\n",
       "      } else if (typeof google != 'undefined' && google.colab.kernel != null) {\n",
       "        var comm_promise = google.colab.kernel.comms.open(comm_id)\n",
       "        comm_promise.then((comm) => {\n",
       "          window.PyViz.comms[comm_id] = comm;\n",
       "          if (msg_handler) {\n",
       "            var messages = comm.messages[Symbol.asyncIterator]();\n",
       "            function processIteratorResult(result) {\n",
       "              var message = result.value;\n",
       "              var content = {data: message.data};\n",
       "              var metadata = message.metadata || {comm_id};\n",
       "              var msg = {content, metadata}\n",
       "              msg_handler(msg);\n",
       "              return messages.next().then(processIteratorResult);\n",
       "            }\n",
       "            return messages.next().then(processIteratorResult);\n",
       "          }\n",
       "        })\n",
       "        var sendClosure = (data, metadata, buffers, disposeOnDone) => {\n",
       "          return comm_promise.then((comm) => {\n",
       "            comm.send(data, metadata, buffers, disposeOnDone);\n",
       "          });\n",
       "        };\n",
       "        var comm = {\n",
       "          send: sendClosure\n",
       "        };\n",
       "      }\n",
       "      window.PyViz.comms[comm_id] = comm;\n",
       "      return comm;\n",
       "    }\n",
       "    window.PyViz.comm_manager = new JupyterCommManager();\n",
       "    \n",
       "\n",
       "\n",
       "var JS_MIME_TYPE = 'application/javascript';\n",
       "var HTML_MIME_TYPE = 'text/html';\n",
       "var EXEC_MIME_TYPE = 'application/vnd.holoviews_exec.v0+json';\n",
       "var CLASS_NAME = 'output';\n",
       "\n",
       "/**\n",
       " * Render data to the DOM node\n",
       " */\n",
       "function render(props, node) {\n",
       "  var div = document.createElement(\"div\");\n",
       "  var script = document.createElement(\"script\");\n",
       "  node.appendChild(div);\n",
       "  node.appendChild(script);\n",
       "}\n",
       "\n",
       "/**\n",
       " * Handle when a new output is added\n",
       " */\n",
       "function handle_add_output(event, handle) {\n",
       "  var output_area = handle.output_area;\n",
       "  var output = handle.output;\n",
       "  if ((output.data == undefined) || (!output.data.hasOwnProperty(EXEC_MIME_TYPE))) {\n",
       "    return\n",
       "  }\n",
       "  var id = output.metadata[EXEC_MIME_TYPE][\"id\"];\n",
       "  var toinsert = output_area.element.find(\".\" + CLASS_NAME.split(' ')[0]);\n",
       "  if (id !== undefined) {\n",
       "    var nchildren = toinsert.length;\n",
       "    var html_node = toinsert[nchildren-1].children[0];\n",
       "    html_node.innerHTML = output.data[HTML_MIME_TYPE];\n",
       "    var scripts = [];\n",
       "    var nodelist = html_node.querySelectorAll(\"script\");\n",
       "    for (var i in nodelist) {\n",
       "      if (nodelist.hasOwnProperty(i)) {\n",
       "        scripts.push(nodelist[i])\n",
       "      }\n",
       "    }\n",
       "\n",
       "    scripts.forEach( function (oldScript) {\n",
       "      var newScript = document.createElement(\"script\");\n",
       "      var attrs = [];\n",
       "      var nodemap = oldScript.attributes;\n",
       "      for (var j in nodemap) {\n",
       "        if (nodemap.hasOwnProperty(j)) {\n",
       "          attrs.push(nodemap[j])\n",
       "        }\n",
       "      }\n",
       "      attrs.forEach(function(attr) { newScript.setAttribute(attr.name, attr.value) });\n",
       "      newScript.appendChild(document.createTextNode(oldScript.innerHTML));\n",
       "      oldScript.parentNode.replaceChild(newScript, oldScript);\n",
       "    });\n",
       "    if (JS_MIME_TYPE in output.data) {\n",
       "      toinsert[nchildren-1].children[1].textContent = output.data[JS_MIME_TYPE];\n",
       "    }\n",
       "    output_area._hv_plot_id = id;\n",
       "    if ((window.Bokeh !== undefined) && (id in Bokeh.index)) {\n",
       "      window.PyViz.plot_index[id] = Bokeh.index[id];\n",
       "    } else {\n",
       "      window.PyViz.plot_index[id] = null;\n",
       "    }\n",
       "  } else if (output.metadata[EXEC_MIME_TYPE][\"server_id\"] !== undefined) {\n",
       "    var bk_div = document.createElement(\"div\");\n",
       "    bk_div.innerHTML = output.data[HTML_MIME_TYPE];\n",
       "    var script_attrs = bk_div.children[0].attributes;\n",
       "    for (var i = 0; i < script_attrs.length; i++) {\n",
       "      toinsert[toinsert.length - 1].childNodes[1].setAttribute(script_attrs[i].name, script_attrs[i].value);\n",
       "    }\n",
       "    // store reference to server id on output_area\n",
       "    output_area._bokeh_server_id = output.metadata[EXEC_MIME_TYPE][\"server_id\"];\n",
       "  }\n",
       "}\n",
       "\n",
       "/**\n",
       " * Handle when an output is cleared or removed\n",
       " */\n",
       "function handle_clear_output(event, handle) {\n",
       "  var id = handle.cell.output_area._hv_plot_id;\n",
       "  var server_id = handle.cell.output_area._bokeh_server_id;\n",
       "  if (((id === undefined) || !(id in PyViz.plot_index)) && (server_id !== undefined)) { return; }\n",
       "  var comm = window.PyViz.comm_manager.get_client_comm(\"hv-extension-comm\", \"hv-extension-comm\", function () {});\n",
       "  if (server_id !== null) {\n",
       "    comm.send({event_type: 'server_delete', 'id': server_id});\n",
       "    return;\n",
       "  } else if (comm !== null) {\n",
       "    comm.send({event_type: 'delete', 'id': id});\n",
       "  }\n",
       "  delete PyViz.plot_index[id];\n",
       "  if ((window.Bokeh !== undefined) & (id in window.Bokeh.index)) {\n",
       "    var doc = window.Bokeh.index[id].model.document\n",
       "    doc.clear();\n",
       "    const i = window.Bokeh.documents.indexOf(doc);\n",
       "    if (i > -1) {\n",
       "      window.Bokeh.documents.splice(i, 1);\n",
       "    }\n",
       "  }\n",
       "}\n",
       "\n",
       "/**\n",
       " * Handle kernel restart event\n",
       " */\n",
       "function handle_kernel_cleanup(event, handle) {\n",
       "  delete PyViz.comms[\"hv-extension-comm\"];\n",
       "  window.PyViz.plot_index = {}\n",
       "}\n",
       "\n",
       "/**\n",
       " * Handle update_display_data messages\n",
       " */\n",
       "function handle_update_output(event, handle) {\n",
       "  handle_clear_output(event, {cell: {output_area: handle.output_area}})\n",
       "  handle_add_output(event, handle)\n",
       "}\n",
       "\n",
       "function register_renderer(events, OutputArea) {\n",
       "  function append_mime(data, metadata, element) {\n",
       "    // create a DOM node to render to\n",
       "    var toinsert = this.create_output_subarea(\n",
       "    metadata,\n",
       "    CLASS_NAME,\n",
       "    EXEC_MIME_TYPE\n",
       "    );\n",
       "    this.keyboard_manager.register_events(toinsert);\n",
       "    // Render to node\n",
       "    var props = {data: data, metadata: metadata[EXEC_MIME_TYPE]};\n",
       "    render(props, toinsert[0]);\n",
       "    element.append(toinsert);\n",
       "    return toinsert\n",
       "  }\n",
       "\n",
       "  events.on('output_added.OutputArea', handle_add_output);\n",
       "  events.on('output_updated.OutputArea', handle_update_output);\n",
       "  events.on('clear_output.CodeCell', handle_clear_output);\n",
       "  events.on('delete.Cell', handle_clear_output);\n",
       "  events.on('kernel_ready.Kernel', handle_kernel_cleanup);\n",
       "\n",
       "  OutputArea.prototype.register_mime_type(EXEC_MIME_TYPE, append_mime, {\n",
       "    safe: true,\n",
       "    index: 0\n",
       "  });\n",
       "}\n",
       "\n",
       "if (window.Jupyter !== undefined) {\n",
       "  try {\n",
       "    var events = require('base/js/events');\n",
       "    var OutputArea = require('notebook/js/outputarea').OutputArea;\n",
       "    if (OutputArea.prototype.mime_types().indexOf(EXEC_MIME_TYPE) == -1) {\n",
       "      register_renderer(events, OutputArea);\n",
       "    }\n",
       "  } catch(err) {\n",
       "  }\n",
       "}\n"
      ],
      "application/vnd.holoviews_load.v0+json": "\nif ((window.PyViz === undefined) || (window.PyViz instanceof HTMLElement)) {\n  window.PyViz = {comms: {}, comm_status:{}, kernels:{}, receivers: {}, plot_index: []}\n}\n\n\n    function JupyterCommManager() {\n    }\n\n    JupyterCommManager.prototype.register_target = function(plot_id, comm_id, msg_handler) {\n      if (window.comm_manager || ((window.Jupyter !== undefined) && (Jupyter.notebook.kernel != null))) {\n        var comm_manager = window.comm_manager || Jupyter.notebook.kernel.comm_manager;\n        comm_manager.register_target(comm_id, function(comm) {\n          comm.on_msg(msg_handler);\n        });\n      } else if ((plot_id in window.PyViz.kernels) && (window.PyViz.kernels[plot_id])) {\n        window.PyViz.kernels[plot_id].registerCommTarget(comm_id, function(comm) {\n          comm.onMsg = msg_handler;\n        });\n      } else if (typeof google != 'undefined' && google.colab.kernel != null) {\n        google.colab.kernel.comms.registerTarget(comm_id, (comm) => {\n          var messages = comm.messages[Symbol.asyncIterator]();\n          function processIteratorResult(result) {\n            var message = result.value;\n            console.log(message)\n            var content = {data: message.data, comm_id};\n            var buffers = []\n            for (var buffer of message.buffers || []) {\n              buffers.push(new DataView(buffer))\n            }\n            var metadata = message.metadata || {};\n            var msg = {content, buffers, metadata}\n            msg_handler(msg);\n            return messages.next().then(processIteratorResult);\n          }\n          return messages.next().then(processIteratorResult);\n        })\n      }\n    }\n\n    JupyterCommManager.prototype.get_client_comm = function(plot_id, comm_id, msg_handler) {\n      if (comm_id in window.PyViz.comms) {\n        return window.PyViz.comms[comm_id];\n      } else if (window.comm_manager || ((window.Jupyter !== undefined) && (Jupyter.notebook.kernel != null))) {\n        var comm_manager = window.comm_manager || Jupyter.notebook.kernel.comm_manager;\n        var comm = comm_manager.new_comm(comm_id, {}, {}, {}, comm_id);\n        if (msg_handler) {\n          comm.on_msg(msg_handler);\n        }\n      } else if ((plot_id in window.PyViz.kernels) && (window.PyViz.kernels[plot_id])) {\n        var comm = window.PyViz.kernels[plot_id].connectToComm(comm_id);\n        comm.open();\n        if (msg_handler) {\n          comm.onMsg = msg_handler;\n        }\n      } else if (typeof google != 'undefined' && google.colab.kernel != null) {\n        var comm_promise = google.colab.kernel.comms.open(comm_id)\n        comm_promise.then((comm) => {\n          window.PyViz.comms[comm_id] = comm;\n          if (msg_handler) {\n            var messages = comm.messages[Symbol.asyncIterator]();\n            function processIteratorResult(result) {\n              var message = result.value;\n              var content = {data: message.data};\n              var metadata = message.metadata || {comm_id};\n              var msg = {content, metadata}\n              msg_handler(msg);\n              return messages.next().then(processIteratorResult);\n            }\n            return messages.next().then(processIteratorResult);\n          }\n        })\n        var sendClosure = (data, metadata, buffers, disposeOnDone) => {\n          return comm_promise.then((comm) => {\n            comm.send(data, metadata, buffers, disposeOnDone);\n          });\n        };\n        var comm = {\n          send: sendClosure\n        };\n      }\n      window.PyViz.comms[comm_id] = comm;\n      return comm;\n    }\n    window.PyViz.comm_manager = new JupyterCommManager();\n    \n\n\nvar JS_MIME_TYPE = 'application/javascript';\nvar HTML_MIME_TYPE = 'text/html';\nvar EXEC_MIME_TYPE = 'application/vnd.holoviews_exec.v0+json';\nvar CLASS_NAME = 'output';\n\n/**\n * Render data to the DOM node\n */\nfunction render(props, node) {\n  var div = document.createElement(\"div\");\n  var script = document.createElement(\"script\");\n  node.appendChild(div);\n  node.appendChild(script);\n}\n\n/**\n * Handle when a new output is added\n */\nfunction handle_add_output(event, handle) {\n  var output_area = handle.output_area;\n  var output = handle.output;\n  if ((output.data == undefined) || (!output.data.hasOwnProperty(EXEC_MIME_TYPE))) {\n    return\n  }\n  var id = output.metadata[EXEC_MIME_TYPE][\"id\"];\n  var toinsert = output_area.element.find(\".\" + CLASS_NAME.split(' ')[0]);\n  if (id !== undefined) {\n    var nchildren = toinsert.length;\n    var html_node = toinsert[nchildren-1].children[0];\n    html_node.innerHTML = output.data[HTML_MIME_TYPE];\n    var scripts = [];\n    var nodelist = html_node.querySelectorAll(\"script\");\n    for (var i in nodelist) {\n      if (nodelist.hasOwnProperty(i)) {\n        scripts.push(nodelist[i])\n      }\n    }\n\n    scripts.forEach( function (oldScript) {\n      var newScript = document.createElement(\"script\");\n      var attrs = [];\n      var nodemap = oldScript.attributes;\n      for (var j in nodemap) {\n        if (nodemap.hasOwnProperty(j)) {\n          attrs.push(nodemap[j])\n        }\n      }\n      attrs.forEach(function(attr) { newScript.setAttribute(attr.name, attr.value) });\n      newScript.appendChild(document.createTextNode(oldScript.innerHTML));\n      oldScript.parentNode.replaceChild(newScript, oldScript);\n    });\n    if (JS_MIME_TYPE in output.data) {\n      toinsert[nchildren-1].children[1].textContent = output.data[JS_MIME_TYPE];\n    }\n    output_area._hv_plot_id = id;\n    if ((window.Bokeh !== undefined) && (id in Bokeh.index)) {\n      window.PyViz.plot_index[id] = Bokeh.index[id];\n    } else {\n      window.PyViz.plot_index[id] = null;\n    }\n  } else if (output.metadata[EXEC_MIME_TYPE][\"server_id\"] !== undefined) {\n    var bk_div = document.createElement(\"div\");\n    bk_div.innerHTML = output.data[HTML_MIME_TYPE];\n    var script_attrs = bk_div.children[0].attributes;\n    for (var i = 0; i < script_attrs.length; i++) {\n      toinsert[toinsert.length - 1].childNodes[1].setAttribute(script_attrs[i].name, script_attrs[i].value);\n    }\n    // store reference to server id on output_area\n    output_area._bokeh_server_id = output.metadata[EXEC_MIME_TYPE][\"server_id\"];\n  }\n}\n\n/**\n * Handle when an output is cleared or removed\n */\nfunction handle_clear_output(event, handle) {\n  var id = handle.cell.output_area._hv_plot_id;\n  var server_id = handle.cell.output_area._bokeh_server_id;\n  if (((id === undefined) || !(id in PyViz.plot_index)) && (server_id !== undefined)) { return; }\n  var comm = window.PyViz.comm_manager.get_client_comm(\"hv-extension-comm\", \"hv-extension-comm\", function () {});\n  if (server_id !== null) {\n    comm.send({event_type: 'server_delete', 'id': server_id});\n    return;\n  } else if (comm !== null) {\n    comm.send({event_type: 'delete', 'id': id});\n  }\n  delete PyViz.plot_index[id];\n  if ((window.Bokeh !== undefined) & (id in window.Bokeh.index)) {\n    var doc = window.Bokeh.index[id].model.document\n    doc.clear();\n    const i = window.Bokeh.documents.indexOf(doc);\n    if (i > -1) {\n      window.Bokeh.documents.splice(i, 1);\n    }\n  }\n}\n\n/**\n * Handle kernel restart event\n */\nfunction handle_kernel_cleanup(event, handle) {\n  delete PyViz.comms[\"hv-extension-comm\"];\n  window.PyViz.plot_index = {}\n}\n\n/**\n * Handle update_display_data messages\n */\nfunction handle_update_output(event, handle) {\n  handle_clear_output(event, {cell: {output_area: handle.output_area}})\n  handle_add_output(event, handle)\n}\n\nfunction register_renderer(events, OutputArea) {\n  function append_mime(data, metadata, element) {\n    // create a DOM node to render to\n    var toinsert = this.create_output_subarea(\n    metadata,\n    CLASS_NAME,\n    EXEC_MIME_TYPE\n    );\n    this.keyboard_manager.register_events(toinsert);\n    // Render to node\n    var props = {data: data, metadata: metadata[EXEC_MIME_TYPE]};\n    render(props, toinsert[0]);\n    element.append(toinsert);\n    return toinsert\n  }\n\n  events.on('output_added.OutputArea', handle_add_output);\n  events.on('output_updated.OutputArea', handle_update_output);\n  events.on('clear_output.CodeCell', handle_clear_output);\n  events.on('delete.Cell', handle_clear_output);\n  events.on('kernel_ready.Kernel', handle_kernel_cleanup);\n\n  OutputArea.prototype.register_mime_type(EXEC_MIME_TYPE, append_mime, {\n    safe: true,\n    index: 0\n  });\n}\n\nif (window.Jupyter !== undefined) {\n  try {\n    var events = require('base/js/events');\n    var OutputArea = require('notebook/js/outputarea').OutputArea;\n    if (OutputArea.prototype.mime_types().indexOf(EXEC_MIME_TYPE) == -1) {\n      register_renderer(events, OutputArea);\n    }\n  } catch(err) {\n  }\n}\n"
     },
     "metadata": {},
     "output_type": "display_data"
    },
    {
     "data": {
      "text/html": [
       "<style>*[data-root-id],\n",
       "*[data-root-id] > * {\n",
       "  box-sizing: border-box;\n",
       "  font-family: var(--jp-ui-font-family);\n",
       "  font-size: var(--jp-ui-font-size1);\n",
       "  color: var(--vscode-editor-foreground, var(--jp-ui-font-color1));\n",
       "}\n",
       "\n",
       "/* Override VSCode background color */\n",
       ".cell-output-ipywidget-background:has(\n",
       "    > .cell-output-ipywidget-background > .lm-Widget > *[data-root-id]\n",
       "  ),\n",
       ".cell-output-ipywidget-background:has(> .lm-Widget > *[data-root-id]) {\n",
       "  background-color: transparent !important;\n",
       "}\n",
       "</style>"
      ]
     },
     "metadata": {},
     "output_type": "display_data"
    },
    {
     "data": {
      "application/vnd.holoviews_exec.v0+json": "",
      "text/html": [
       "<div id='5c5e5721-f567-4e78-8e4a-743d895d9cbe'>\n",
       "  <div id=\"c825ef6a-606b-4b17-ade7-ecd54492d512\" data-root-id=\"5c5e5721-f567-4e78-8e4a-743d895d9cbe\" style=\"display: contents;\"></div>\n",
       "</div>\n",
       "<script type=\"application/javascript\">(function(root) {\n",
       "  var docs_json = {\"6697e70e-403a-4b73-aa77-8f4da14a1bca\":{\"version\":\"3.4.2\",\"title\":\"Bokeh Application\",\"roots\":[{\"type\":\"object\",\"name\":\"panel.models.browser.BrowserInfo\",\"id\":\"5c5e5721-f567-4e78-8e4a-743d895d9cbe\"},{\"type\":\"object\",\"name\":\"panel.models.comm_manager.CommManager\",\"id\":\"142b9d35-600e-446a-932c-c37fa3176a52\",\"attributes\":{\"plot_id\":\"5c5e5721-f567-4e78-8e4a-743d895d9cbe\",\"comm_id\":\"d88856ac317841089364248cd32bc602\",\"client_comm_id\":\"b459538c5a5245e381392e3fd596f689\"}}],\"defs\":[{\"type\":\"model\",\"name\":\"ReactiveHTML1\"},{\"type\":\"model\",\"name\":\"FlexBox1\",\"properties\":[{\"name\":\"align_content\",\"kind\":\"Any\",\"default\":\"flex-start\"},{\"name\":\"align_items\",\"kind\":\"Any\",\"default\":\"flex-start\"},{\"name\":\"flex_direction\",\"kind\":\"Any\",\"default\":\"row\"},{\"name\":\"flex_wrap\",\"kind\":\"Any\",\"default\":\"wrap\"},{\"name\":\"gap\",\"kind\":\"Any\",\"default\":\"\"},{\"name\":\"justify_content\",\"kind\":\"Any\",\"default\":\"flex-start\"}]},{\"type\":\"model\",\"name\":\"FloatPanel1\",\"properties\":[{\"name\":\"config\",\"kind\":\"Any\",\"default\":{\"type\":\"map\"}},{\"name\":\"contained\",\"kind\":\"Any\",\"default\":true},{\"name\":\"position\",\"kind\":\"Any\",\"default\":\"right-top\"},{\"name\":\"offsetx\",\"kind\":\"Any\",\"default\":null},{\"name\":\"offsety\",\"kind\":\"Any\",\"default\":null},{\"name\":\"theme\",\"kind\":\"Any\",\"default\":\"primary\"},{\"name\":\"status\",\"kind\":\"Any\",\"default\":\"normalized\"}]},{\"type\":\"model\",\"name\":\"GridStack1\",\"properties\":[{\"name\":\"mode\",\"kind\":\"Any\",\"default\":\"warn\"},{\"name\":\"ncols\",\"kind\":\"Any\",\"default\":null},{\"name\":\"nrows\",\"kind\":\"Any\",\"default\":null},{\"name\":\"allow_resize\",\"kind\":\"Any\",\"default\":true},{\"name\":\"allow_drag\",\"kind\":\"Any\",\"default\":true},{\"name\":\"state\",\"kind\":\"Any\",\"default\":[]}]},{\"type\":\"model\",\"name\":\"drag1\",\"properties\":[{\"name\":\"slider_width\",\"kind\":\"Any\",\"default\":5},{\"name\":\"slider_color\",\"kind\":\"Any\",\"default\":\"black\"},{\"name\":\"value\",\"kind\":\"Any\",\"default\":50}]},{\"type\":\"model\",\"name\":\"click1\",\"properties\":[{\"name\":\"terminal_output\",\"kind\":\"Any\",\"default\":\"\"},{\"name\":\"debug_name\",\"kind\":\"Any\",\"default\":\"\"},{\"name\":\"clears\",\"kind\":\"Any\",\"default\":0}]},{\"type\":\"model\",\"name\":\"FastWrapper1\",\"properties\":[{\"name\":\"object\",\"kind\":\"Any\",\"default\":null},{\"name\":\"style\",\"kind\":\"Any\",\"default\":null}]},{\"type\":\"model\",\"name\":\"NotificationAreaBase1\",\"properties\":[{\"name\":\"js_events\",\"kind\":\"Any\",\"default\":{\"type\":\"map\"}},{\"name\":\"position\",\"kind\":\"Any\",\"default\":\"bottom-right\"},{\"name\":\"_clear\",\"kind\":\"Any\",\"default\":0}]},{\"type\":\"model\",\"name\":\"NotificationArea1\",\"properties\":[{\"name\":\"js_events\",\"kind\":\"Any\",\"default\":{\"type\":\"map\"}},{\"name\":\"notifications\",\"kind\":\"Any\",\"default\":[]},{\"name\":\"position\",\"kind\":\"Any\",\"default\":\"bottom-right\"},{\"name\":\"_clear\",\"kind\":\"Any\",\"default\":0},{\"name\":\"types\",\"kind\":\"Any\",\"default\":[{\"type\":\"map\",\"entries\":[[\"type\",\"warning\"],[\"background\",\"#ffc107\"],[\"icon\",{\"type\":\"map\",\"entries\":[[\"className\",\"fas fa-exclamation-triangle\"],[\"tagName\",\"i\"],[\"color\",\"white\"]]}]]},{\"type\":\"map\",\"entries\":[[\"type\",\"info\"],[\"background\",\"#007bff\"],[\"icon\",{\"type\":\"map\",\"entries\":[[\"className\",\"fas fa-info-circle\"],[\"tagName\",\"i\"],[\"color\",\"white\"]]}]]}]}]},{\"type\":\"model\",\"name\":\"Notification\",\"properties\":[{\"name\":\"background\",\"kind\":\"Any\",\"default\":null},{\"name\":\"duration\",\"kind\":\"Any\",\"default\":3000},{\"name\":\"icon\",\"kind\":\"Any\",\"default\":null},{\"name\":\"message\",\"kind\":\"Any\",\"default\":\"\"},{\"name\":\"notification_type\",\"kind\":\"Any\",\"default\":null},{\"name\":\"_destroyed\",\"kind\":\"Any\",\"default\":false}]},{\"type\":\"model\",\"name\":\"TemplateActions1\",\"properties\":[{\"name\":\"open_modal\",\"kind\":\"Any\",\"default\":0},{\"name\":\"close_modal\",\"kind\":\"Any\",\"default\":0}]},{\"type\":\"model\",\"name\":\"BootstrapTemplateActions1\",\"properties\":[{\"name\":\"open_modal\",\"kind\":\"Any\",\"default\":0},{\"name\":\"close_modal\",\"kind\":\"Any\",\"default\":0}]},{\"type\":\"model\",\"name\":\"TemplateEditor1\",\"properties\":[{\"name\":\"layout\",\"kind\":\"Any\",\"default\":[]}]},{\"type\":\"model\",\"name\":\"MaterialTemplateActions1\",\"properties\":[{\"name\":\"open_modal\",\"kind\":\"Any\",\"default\":0},{\"name\":\"close_modal\",\"kind\":\"Any\",\"default\":0}]},{\"type\":\"model\",\"name\":\"copy_to_clipboard1\",\"properties\":[{\"name\":\"fill\",\"kind\":\"Any\",\"default\":\"none\"},{\"name\":\"value\",\"kind\":\"Any\",\"default\":null}]}]}};\n",
       "  var render_items = [{\"docid\":\"6697e70e-403a-4b73-aa77-8f4da14a1bca\",\"roots\":{\"5c5e5721-f567-4e78-8e4a-743d895d9cbe\":\"c825ef6a-606b-4b17-ade7-ecd54492d512\"},\"root_ids\":[\"5c5e5721-f567-4e78-8e4a-743d895d9cbe\"]}];\n",
       "  var docs = Object.values(docs_json)\n",
       "  if (!docs) {\n",
       "    return\n",
       "  }\n",
       "  const py_version = docs[0].version.replace('rc', '-rc.').replace('.dev', '-dev.')\n",
       "  async function embed_document(root) {\n",
       "    var Bokeh = get_bokeh(root)\n",
       "    await Bokeh.embed.embed_items_notebook(docs_json, render_items);\n",
       "    for (const render_item of render_items) {\n",
       "      for (const root_id of render_item.root_ids) {\n",
       "\tconst id_el = document.getElementById(root_id)\n",
       "\tif (id_el.children.length && id_el.children[0].hasAttribute('data-root-id')) {\n",
       "\t  const root_el = id_el.children[0]\n",
       "\t  root_el.id = root_el.id + '-rendered'\n",
       "\t  for (const child of root_el.children) {\n",
       "            // Ensure JupyterLab does not capture keyboard shortcuts\n",
       "            // see: https://jupyterlab.readthedocs.io/en/4.1.x/extension/notebook.html#keyboard-interaction-model\n",
       "\t    child.setAttribute('data-lm-suppress-shortcuts', 'true')\n",
       "\t  }\n",
       "\t}\n",
       "      }\n",
       "    }\n",
       "  }\n",
       "  function get_bokeh(root) {\n",
       "    if (root.Bokeh === undefined) {\n",
       "      return null\n",
       "    } else if (root.Bokeh.version !== py_version) {\n",
       "      if (root.Bokeh.versions === undefined || !root.Bokeh.versions.has(py_version)) {\n",
       "\treturn null\n",
       "      }\n",
       "      return root.Bokeh.versions.get(py_version);\n",
       "    } else if (root.Bokeh.version === py_version) {\n",
       "      return root.Bokeh\n",
       "    }\n",
       "    return null\n",
       "  }\n",
       "  function is_loaded(root) {\n",
       "    var Bokeh = get_bokeh(root)\n",
       "    return (Bokeh != null && Bokeh.Panel !== undefined)\n",
       "  }\n",
       "  if (is_loaded(root)) {\n",
       "    embed_document(root);\n",
       "  } else {\n",
       "    var attempts = 0;\n",
       "    var timer = setInterval(function(root) {\n",
       "      if (is_loaded(root)) {\n",
       "        clearInterval(timer);\n",
       "        embed_document(root);\n",
       "      } else if (document.readyState == \"complete\") {\n",
       "        attempts++;\n",
       "        if (attempts > 200) {\n",
       "          clearInterval(timer);\n",
       "\t  var Bokeh = get_bokeh(root)\n",
       "\t  if (Bokeh == null || Bokeh.Panel == null) {\n",
       "            console.warn(\"Panel: ERROR: Unable to run Panel code because Bokeh or Panel library is missing\");\n",
       "\t  } else {\n",
       "\t    console.warn(\"Panel: WARNING: Attempting to render but not all required libraries could be resolved.\")\n",
       "\t    embed_document(root)\n",
       "\t  }\n",
       "        }\n",
       "      }\n",
       "    }, 25, root)\n",
       "  }\n",
       "})(window);</script>"
      ]
     },
     "metadata": {
      "application/vnd.holoviews_exec.v0+json": {
       "id": "5c5e5721-f567-4e78-8e4a-743d895d9cbe"
      }
     },
     "output_type": "display_data"
    },
    {
     "data": {
      "application/javascript": [
       "(function(root) {\n",
       "  function now() {\n",
       "    return new Date();\n",
       "  }\n",
       "\n",
       "  var force = true;\n",
       "  var py_version = '3.4.2'.replace('rc', '-rc.').replace('.dev', '-dev.');\n",
       "  var reloading = true;\n",
       "  var Bokeh = root.Bokeh;\n",
       "\n",
       "  if (typeof (root._bokeh_timeout) === \"undefined\" || force) {\n",
       "    root._bokeh_timeout = Date.now() + 5000;\n",
       "    root._bokeh_failed_load = false;\n",
       "  }\n",
       "\n",
       "  function run_callbacks() {\n",
       "    try {\n",
       "      root._bokeh_onload_callbacks.forEach(function(callback) {\n",
       "        if (callback != null)\n",
       "          callback();\n",
       "      });\n",
       "    } finally {\n",
       "      delete root._bokeh_onload_callbacks;\n",
       "    }\n",
       "    console.debug(\"Bokeh: all callbacks have finished\");\n",
       "  }\n",
       "\n",
       "  function load_libs(css_urls, js_urls, js_modules, js_exports, callback) {\n",
       "    if (css_urls == null) css_urls = [];\n",
       "    if (js_urls == null) js_urls = [];\n",
       "    if (js_modules == null) js_modules = [];\n",
       "    if (js_exports == null) js_exports = {};\n",
       "\n",
       "    root._bokeh_onload_callbacks.push(callback);\n",
       "\n",
       "    if (root._bokeh_is_loading > 0) {\n",
       "      console.debug(\"Bokeh: BokehJS is being loaded, scheduling callback at\", now());\n",
       "      return null;\n",
       "    }\n",
       "    if (js_urls.length === 0 && js_modules.length === 0 && Object.keys(js_exports).length === 0) {\n",
       "      run_callbacks();\n",
       "      return null;\n",
       "    }\n",
       "    if (!reloading) {\n",
       "      console.debug(\"Bokeh: BokehJS not loaded, scheduling load and callback at\", now());\n",
       "    }\n",
       "\n",
       "    function on_load() {\n",
       "      root._bokeh_is_loading--;\n",
       "      if (root._bokeh_is_loading === 0) {\n",
       "        console.debug(\"Bokeh: all BokehJS libraries/stylesheets loaded\");\n",
       "        run_callbacks()\n",
       "      }\n",
       "    }\n",
       "    window._bokeh_on_load = on_load\n",
       "\n",
       "    function on_error() {\n",
       "      console.error(\"failed to load \" + url);\n",
       "    }\n",
       "\n",
       "    var skip = [];\n",
       "    if (window.requirejs) {\n",
       "      window.requirejs.config({'packages': {}, 'paths': {}, 'shim': {}});\n",
       "      root._bokeh_is_loading = css_urls.length + 0;\n",
       "    } else {\n",
       "      root._bokeh_is_loading = css_urls.length + js_urls.length + js_modules.length + Object.keys(js_exports).length;\n",
       "    }\n",
       "\n",
       "    var existing_stylesheets = []\n",
       "    var links = document.getElementsByTagName('link')\n",
       "    for (var i = 0; i < links.length; i++) {\n",
       "      var link = links[i]\n",
       "      if (link.href != null) {\n",
       "\texisting_stylesheets.push(link.href)\n",
       "      }\n",
       "    }\n",
       "    for (var i = 0; i < css_urls.length; i++) {\n",
       "      var url = css_urls[i];\n",
       "      if (existing_stylesheets.indexOf(url) !== -1) {\n",
       "\ton_load()\n",
       "\tcontinue;\n",
       "      }\n",
       "      const element = document.createElement(\"link\");\n",
       "      element.onload = on_load;\n",
       "      element.onerror = on_error;\n",
       "      element.rel = \"stylesheet\";\n",
       "      element.type = \"text/css\";\n",
       "      element.href = url;\n",
       "      console.debug(\"Bokeh: injecting link tag for BokehJS stylesheet: \", url);\n",
       "      document.body.appendChild(element);\n",
       "    }    var existing_scripts = []\n",
       "    var scripts = document.getElementsByTagName('script')\n",
       "    for (var i = 0; i < scripts.length; i++) {\n",
       "      var script = scripts[i]\n",
       "      if (script.src != null) {\n",
       "\texisting_scripts.push(script.src)\n",
       "      }\n",
       "    }\n",
       "    for (var i = 0; i < js_urls.length; i++) {\n",
       "      var url = js_urls[i];\n",
       "      if (skip.indexOf(url) !== -1 || existing_scripts.indexOf(url) !== -1) {\n",
       "\tif (!window.requirejs) {\n",
       "\t  on_load();\n",
       "\t}\n",
       "\tcontinue;\n",
       "      }\n",
       "      var element = document.createElement('script');\n",
       "      element.onload = on_load;\n",
       "      element.onerror = on_error;\n",
       "      element.async = false;\n",
       "      element.src = url;\n",
       "      console.debug(\"Bokeh: injecting script tag for BokehJS library: \", url);\n",
       "      document.head.appendChild(element);\n",
       "    }\n",
       "    for (var i = 0; i < js_modules.length; i++) {\n",
       "      var url = js_modules[i];\n",
       "      if (skip.indexOf(url) !== -1 || existing_scripts.indexOf(url) !== -1) {\n",
       "\tif (!window.requirejs) {\n",
       "\t  on_load();\n",
       "\t}\n",
       "\tcontinue;\n",
       "      }\n",
       "      var element = document.createElement('script');\n",
       "      element.onload = on_load;\n",
       "      element.onerror = on_error;\n",
       "      element.async = false;\n",
       "      element.src = url;\n",
       "      element.type = \"module\";\n",
       "      console.debug(\"Bokeh: injecting script tag for BokehJS library: \", url);\n",
       "      document.head.appendChild(element);\n",
       "    }\n",
       "    for (const name in js_exports) {\n",
       "      var url = js_exports[name];\n",
       "      if (skip.indexOf(url) >= 0 || root[name] != null) {\n",
       "\tif (!window.requirejs) {\n",
       "\t  on_load();\n",
       "\t}\n",
       "\tcontinue;\n",
       "      }\n",
       "      var element = document.createElement('script');\n",
       "      element.onerror = on_error;\n",
       "      element.async = false;\n",
       "      element.type = \"module\";\n",
       "      console.debug(\"Bokeh: injecting script tag for BokehJS library: \", url);\n",
       "      element.textContent = `\n",
       "      import ${name} from \"${url}\"\n",
       "      window.${name} = ${name}\n",
       "      window._bokeh_on_load()\n",
       "      `\n",
       "      document.head.appendChild(element);\n",
       "    }\n",
       "    if (!js_urls.length && !js_modules.length) {\n",
       "      on_load()\n",
       "    }\n",
       "  };\n",
       "\n",
       "  function inject_raw_css(css) {\n",
       "    const element = document.createElement(\"style\");\n",
       "    element.appendChild(document.createTextNode(css));\n",
       "    document.body.appendChild(element);\n",
       "  }\n",
       "\n",
       "  var js_urls = [];\n",
       "  var js_modules = [];\n",
       "  var js_exports = {};\n",
       "  var css_urls = [];\n",
       "  var inline_js = [    function(Bokeh) {\n",
       "      Bokeh.set_log_level(\"info\");\n",
       "    },\n",
       "function(Bokeh) {} // ensure no trailing comma for IE\n",
       "  ];\n",
       "\n",
       "  function run_inline_js() {\n",
       "    if ((root.Bokeh !== undefined) || (force === true)) {\n",
       "      for (var i = 0; i < inline_js.length; i++) {\n",
       "\ttry {\n",
       "          inline_js[i].call(root, root.Bokeh);\n",
       "\t} catch(e) {\n",
       "\t  if (!reloading) {\n",
       "\t    throw e;\n",
       "\t  }\n",
       "\t}\n",
       "      }\n",
       "      // Cache old bokeh versions\n",
       "      if (Bokeh != undefined && !reloading) {\n",
       "\tvar NewBokeh = root.Bokeh;\n",
       "\tif (Bokeh.versions === undefined) {\n",
       "\t  Bokeh.versions = new Map();\n",
       "\t}\n",
       "\tif (NewBokeh.version !== Bokeh.version) {\n",
       "\t  Bokeh.versions.set(NewBokeh.version, NewBokeh)\n",
       "\t}\n",
       "\troot.Bokeh = Bokeh;\n",
       "      }} else if (Date.now() < root._bokeh_timeout) {\n",
       "      setTimeout(run_inline_js, 100);\n",
       "    } else if (!root._bokeh_failed_load) {\n",
       "      console.log(\"Bokeh: BokehJS failed to load within specified timeout.\");\n",
       "      root._bokeh_failed_load = true;\n",
       "    }\n",
       "    root._bokeh_is_initializing = false\n",
       "  }\n",
       "\n",
       "  function load_or_wait() {\n",
       "    // Implement a backoff loop that tries to ensure we do not load multiple\n",
       "    // versions of Bokeh and its dependencies at the same time.\n",
       "    // In recent versions we use the root._bokeh_is_initializing flag\n",
       "    // to determine whether there is an ongoing attempt to initialize\n",
       "    // bokeh, however for backward compatibility we also try to ensure\n",
       "    // that we do not start loading a newer (Panel>=1.0 and Bokeh>3) version\n",
       "    // before older versions are fully initialized.\n",
       "    if (root._bokeh_is_initializing && Date.now() > root._bokeh_timeout) {\n",
       "      root._bokeh_is_initializing = false;\n",
       "      root._bokeh_onload_callbacks = undefined;\n",
       "      console.log(\"Bokeh: BokehJS was loaded multiple times but one version failed to initialize.\");\n",
       "      load_or_wait();\n",
       "    } else if (root._bokeh_is_initializing || (typeof root._bokeh_is_initializing === \"undefined\" && root._bokeh_onload_callbacks !== undefined)) {\n",
       "      setTimeout(load_or_wait, 100);\n",
       "    } else {\n",
       "      root._bokeh_is_initializing = true\n",
       "      root._bokeh_onload_callbacks = []\n",
       "      var bokeh_loaded = Bokeh != null && (Bokeh.version === py_version || (Bokeh.versions !== undefined && Bokeh.versions.has(py_version)));\n",
       "      if (!reloading && !bokeh_loaded) {\n",
       "\troot.Bokeh = undefined;\n",
       "      }\n",
       "      load_libs(css_urls, js_urls, js_modules, js_exports, function() {\n",
       "\tconsole.debug(\"Bokeh: BokehJS plotting callback run at\", now());\n",
       "\trun_inline_js();\n",
       "      });\n",
       "    }\n",
       "  }\n",
       "  // Give older versions of the autoload script a head-start to ensure\n",
       "  // they initialize before we start loading newer version.\n",
       "  setTimeout(load_or_wait, 100)\n",
       "}(window));"
      ],
      "application/vnd.holoviews_load.v0+json": "(function(root) {\n  function now() {\n    return new Date();\n  }\n\n  var force = true;\n  var py_version = '3.4.2'.replace('rc', '-rc.').replace('.dev', '-dev.');\n  var reloading = true;\n  var Bokeh = root.Bokeh;\n\n  if (typeof (root._bokeh_timeout) === \"undefined\" || force) {\n    root._bokeh_timeout = Date.now() + 5000;\n    root._bokeh_failed_load = false;\n  }\n\n  function run_callbacks() {\n    try {\n      root._bokeh_onload_callbacks.forEach(function(callback) {\n        if (callback != null)\n          callback();\n      });\n    } finally {\n      delete root._bokeh_onload_callbacks;\n    }\n    console.debug(\"Bokeh: all callbacks have finished\");\n  }\n\n  function load_libs(css_urls, js_urls, js_modules, js_exports, callback) {\n    if (css_urls == null) css_urls = [];\n    if (js_urls == null) js_urls = [];\n    if (js_modules == null) js_modules = [];\n    if (js_exports == null) js_exports = {};\n\n    root._bokeh_onload_callbacks.push(callback);\n\n    if (root._bokeh_is_loading > 0) {\n      console.debug(\"Bokeh: BokehJS is being loaded, scheduling callback at\", now());\n      return null;\n    }\n    if (js_urls.length === 0 && js_modules.length === 0 && Object.keys(js_exports).length === 0) {\n      run_callbacks();\n      return null;\n    }\n    if (!reloading) {\n      console.debug(\"Bokeh: BokehJS not loaded, scheduling load and callback at\", now());\n    }\n\n    function on_load() {\n      root._bokeh_is_loading--;\n      if (root._bokeh_is_loading === 0) {\n        console.debug(\"Bokeh: all BokehJS libraries/stylesheets loaded\");\n        run_callbacks()\n      }\n    }\n    window._bokeh_on_load = on_load\n\n    function on_error() {\n      console.error(\"failed to load \" + url);\n    }\n\n    var skip = [];\n    if (window.requirejs) {\n      window.requirejs.config({'packages': {}, 'paths': {}, 'shim': {}});\n      root._bokeh_is_loading = css_urls.length + 0;\n    } else {\n      root._bokeh_is_loading = css_urls.length + js_urls.length + js_modules.length + Object.keys(js_exports).length;\n    }\n\n    var existing_stylesheets = []\n    var links = document.getElementsByTagName('link')\n    for (var i = 0; i < links.length; i++) {\n      var link = links[i]\n      if (link.href != null) {\n\texisting_stylesheets.push(link.href)\n      }\n    }\n    for (var i = 0; i < css_urls.length; i++) {\n      var url = css_urls[i];\n      if (existing_stylesheets.indexOf(url) !== -1) {\n\ton_load()\n\tcontinue;\n      }\n      const element = document.createElement(\"link\");\n      element.onload = on_load;\n      element.onerror = on_error;\n      element.rel = \"stylesheet\";\n      element.type = \"text/css\";\n      element.href = url;\n      console.debug(\"Bokeh: injecting link tag for BokehJS stylesheet: \", url);\n      document.body.appendChild(element);\n    }    var existing_scripts = []\n    var scripts = document.getElementsByTagName('script')\n    for (var i = 0; i < scripts.length; i++) {\n      var script = scripts[i]\n      if (script.src != null) {\n\texisting_scripts.push(script.src)\n      }\n    }\n    for (var i = 0; i < js_urls.length; i++) {\n      var url = js_urls[i];\n      if (skip.indexOf(url) !== -1 || existing_scripts.indexOf(url) !== -1) {\n\tif (!window.requirejs) {\n\t  on_load();\n\t}\n\tcontinue;\n      }\n      var element = document.createElement('script');\n      element.onload = on_load;\n      element.onerror = on_error;\n      element.async = false;\n      element.src = url;\n      console.debug(\"Bokeh: injecting script tag for BokehJS library: \", url);\n      document.head.appendChild(element);\n    }\n    for (var i = 0; i < js_modules.length; i++) {\n      var url = js_modules[i];\n      if (skip.indexOf(url) !== -1 || existing_scripts.indexOf(url) !== -1) {\n\tif (!window.requirejs) {\n\t  on_load();\n\t}\n\tcontinue;\n      }\n      var element = document.createElement('script');\n      element.onload = on_load;\n      element.onerror = on_error;\n      element.async = false;\n      element.src = url;\n      element.type = \"module\";\n      console.debug(\"Bokeh: injecting script tag for BokehJS library: \", url);\n      document.head.appendChild(element);\n    }\n    for (const name in js_exports) {\n      var url = js_exports[name];\n      if (skip.indexOf(url) >= 0 || root[name] != null) {\n\tif (!window.requirejs) {\n\t  on_load();\n\t}\n\tcontinue;\n      }\n      var element = document.createElement('script');\n      element.onerror = on_error;\n      element.async = false;\n      element.type = \"module\";\n      console.debug(\"Bokeh: injecting script tag for BokehJS library: \", url);\n      element.textContent = `\n      import ${name} from \"${url}\"\n      window.${name} = ${name}\n      window._bokeh_on_load()\n      `\n      document.head.appendChild(element);\n    }\n    if (!js_urls.length && !js_modules.length) {\n      on_load()\n    }\n  };\n\n  function inject_raw_css(css) {\n    const element = document.createElement(\"style\");\n    element.appendChild(document.createTextNode(css));\n    document.body.appendChild(element);\n  }\n\n  var js_urls = [];\n  var js_modules = [];\n  var js_exports = {};\n  var css_urls = [];\n  var inline_js = [    function(Bokeh) {\n      Bokeh.set_log_level(\"info\");\n    },\nfunction(Bokeh) {} // ensure no trailing comma for IE\n  ];\n\n  function run_inline_js() {\n    if ((root.Bokeh !== undefined) || (force === true)) {\n      for (var i = 0; i < inline_js.length; i++) {\n\ttry {\n          inline_js[i].call(root, root.Bokeh);\n\t} catch(e) {\n\t  if (!reloading) {\n\t    throw e;\n\t  }\n\t}\n      }\n      // Cache old bokeh versions\n      if (Bokeh != undefined && !reloading) {\n\tvar NewBokeh = root.Bokeh;\n\tif (Bokeh.versions === undefined) {\n\t  Bokeh.versions = new Map();\n\t}\n\tif (NewBokeh.version !== Bokeh.version) {\n\t  Bokeh.versions.set(NewBokeh.version, NewBokeh)\n\t}\n\troot.Bokeh = Bokeh;\n      }} else if (Date.now() < root._bokeh_timeout) {\n      setTimeout(run_inline_js, 100);\n    } else if (!root._bokeh_failed_load) {\n      console.log(\"Bokeh: BokehJS failed to load within specified timeout.\");\n      root._bokeh_failed_load = true;\n    }\n    root._bokeh_is_initializing = false\n  }\n\n  function load_or_wait() {\n    // Implement a backoff loop that tries to ensure we do not load multiple\n    // versions of Bokeh and its dependencies at the same time.\n    // In recent versions we use the root._bokeh_is_initializing flag\n    // to determine whether there is an ongoing attempt to initialize\n    // bokeh, however for backward compatibility we also try to ensure\n    // that we do not start loading a newer (Panel>=1.0 and Bokeh>3) version\n    // before older versions are fully initialized.\n    if (root._bokeh_is_initializing && Date.now() > root._bokeh_timeout) {\n      root._bokeh_is_initializing = false;\n      root._bokeh_onload_callbacks = undefined;\n      console.log(\"Bokeh: BokehJS was loaded multiple times but one version failed to initialize.\");\n      load_or_wait();\n    } else if (root._bokeh_is_initializing || (typeof root._bokeh_is_initializing === \"undefined\" && root._bokeh_onload_callbacks !== undefined)) {\n      setTimeout(load_or_wait, 100);\n    } else {\n      root._bokeh_is_initializing = true\n      root._bokeh_onload_callbacks = []\n      var bokeh_loaded = Bokeh != null && (Bokeh.version === py_version || (Bokeh.versions !== undefined && Bokeh.versions.has(py_version)));\n      if (!reloading && !bokeh_loaded) {\n\troot.Bokeh = undefined;\n      }\n      load_libs(css_urls, js_urls, js_modules, js_exports, function() {\n\tconsole.debug(\"Bokeh: BokehJS plotting callback run at\", now());\n\trun_inline_js();\n      });\n    }\n  }\n  // Give older versions of the autoload script a head-start to ensure\n  // they initialize before we start loading newer version.\n  setTimeout(load_or_wait, 100)\n}(window));"
     },
     "metadata": {},
     "output_type": "display_data"
    },
    {
     "data": {
      "application/javascript": [
       "\n",
       "if ((window.PyViz === undefined) || (window.PyViz instanceof HTMLElement)) {\n",
       "  window.PyViz = {comms: {}, comm_status:{}, kernels:{}, receivers: {}, plot_index: []}\n",
       "}\n",
       "\n",
       "\n",
       "    function JupyterCommManager() {\n",
       "    }\n",
       "\n",
       "    JupyterCommManager.prototype.register_target = function(plot_id, comm_id, msg_handler) {\n",
       "      if (window.comm_manager || ((window.Jupyter !== undefined) && (Jupyter.notebook.kernel != null))) {\n",
       "        var comm_manager = window.comm_manager || Jupyter.notebook.kernel.comm_manager;\n",
       "        comm_manager.register_target(comm_id, function(comm) {\n",
       "          comm.on_msg(msg_handler);\n",
       "        });\n",
       "      } else if ((plot_id in window.PyViz.kernels) && (window.PyViz.kernels[plot_id])) {\n",
       "        window.PyViz.kernels[plot_id].registerCommTarget(comm_id, function(comm) {\n",
       "          comm.onMsg = msg_handler;\n",
       "        });\n",
       "      } else if (typeof google != 'undefined' && google.colab.kernel != null) {\n",
       "        google.colab.kernel.comms.registerTarget(comm_id, (comm) => {\n",
       "          var messages = comm.messages[Symbol.asyncIterator]();\n",
       "          function processIteratorResult(result) {\n",
       "            var message = result.value;\n",
       "            console.log(message)\n",
       "            var content = {data: message.data, comm_id};\n",
       "            var buffers = []\n",
       "            for (var buffer of message.buffers || []) {\n",
       "              buffers.push(new DataView(buffer))\n",
       "            }\n",
       "            var metadata = message.metadata || {};\n",
       "            var msg = {content, buffers, metadata}\n",
       "            msg_handler(msg);\n",
       "            return messages.next().then(processIteratorResult);\n",
       "          }\n",
       "          return messages.next().then(processIteratorResult);\n",
       "        })\n",
       "      }\n",
       "    }\n",
       "\n",
       "    JupyterCommManager.prototype.get_client_comm = function(plot_id, comm_id, msg_handler) {\n",
       "      if (comm_id in window.PyViz.comms) {\n",
       "        return window.PyViz.comms[comm_id];\n",
       "      } else if (window.comm_manager || ((window.Jupyter !== undefined) && (Jupyter.notebook.kernel != null))) {\n",
       "        var comm_manager = window.comm_manager || Jupyter.notebook.kernel.comm_manager;\n",
       "        var comm = comm_manager.new_comm(comm_id, {}, {}, {}, comm_id);\n",
       "        if (msg_handler) {\n",
       "          comm.on_msg(msg_handler);\n",
       "        }\n",
       "      } else if ((plot_id in window.PyViz.kernels) && (window.PyViz.kernels[plot_id])) {\n",
       "        var comm = window.PyViz.kernels[plot_id].connectToComm(comm_id);\n",
       "        comm.open();\n",
       "        if (msg_handler) {\n",
       "          comm.onMsg = msg_handler;\n",
       "        }\n",
       "      } else if (typeof google != 'undefined' && google.colab.kernel != null) {\n",
       "        var comm_promise = google.colab.kernel.comms.open(comm_id)\n",
       "        comm_promise.then((comm) => {\n",
       "          window.PyViz.comms[comm_id] = comm;\n",
       "          if (msg_handler) {\n",
       "            var messages = comm.messages[Symbol.asyncIterator]();\n",
       "            function processIteratorResult(result) {\n",
       "              var message = result.value;\n",
       "              var content = {data: message.data};\n",
       "              var metadata = message.metadata || {comm_id};\n",
       "              var msg = {content, metadata}\n",
       "              msg_handler(msg);\n",
       "              return messages.next().then(processIteratorResult);\n",
       "            }\n",
       "            return messages.next().then(processIteratorResult);\n",
       "          }\n",
       "        })\n",
       "        var sendClosure = (data, metadata, buffers, disposeOnDone) => {\n",
       "          return comm_promise.then((comm) => {\n",
       "            comm.send(data, metadata, buffers, disposeOnDone);\n",
       "          });\n",
       "        };\n",
       "        var comm = {\n",
       "          send: sendClosure\n",
       "        };\n",
       "      }\n",
       "      window.PyViz.comms[comm_id] = comm;\n",
       "      return comm;\n",
       "    }\n",
       "    window.PyViz.comm_manager = new JupyterCommManager();\n",
       "    \n",
       "\n",
       "\n",
       "var JS_MIME_TYPE = 'application/javascript';\n",
       "var HTML_MIME_TYPE = 'text/html';\n",
       "var EXEC_MIME_TYPE = 'application/vnd.holoviews_exec.v0+json';\n",
       "var CLASS_NAME = 'output';\n",
       "\n",
       "/**\n",
       " * Render data to the DOM node\n",
       " */\n",
       "function render(props, node) {\n",
       "  var div = document.createElement(\"div\");\n",
       "  var script = document.createElement(\"script\");\n",
       "  node.appendChild(div);\n",
       "  node.appendChild(script);\n",
       "}\n",
       "\n",
       "/**\n",
       " * Handle when a new output is added\n",
       " */\n",
       "function handle_add_output(event, handle) {\n",
       "  var output_area = handle.output_area;\n",
       "  var output = handle.output;\n",
       "  if ((output.data == undefined) || (!output.data.hasOwnProperty(EXEC_MIME_TYPE))) {\n",
       "    return\n",
       "  }\n",
       "  var id = output.metadata[EXEC_MIME_TYPE][\"id\"];\n",
       "  var toinsert = output_area.element.find(\".\" + CLASS_NAME.split(' ')[0]);\n",
       "  if (id !== undefined) {\n",
       "    var nchildren = toinsert.length;\n",
       "    var html_node = toinsert[nchildren-1].children[0];\n",
       "    html_node.innerHTML = output.data[HTML_MIME_TYPE];\n",
       "    var scripts = [];\n",
       "    var nodelist = html_node.querySelectorAll(\"script\");\n",
       "    for (var i in nodelist) {\n",
       "      if (nodelist.hasOwnProperty(i)) {\n",
       "        scripts.push(nodelist[i])\n",
       "      }\n",
       "    }\n",
       "\n",
       "    scripts.forEach( function (oldScript) {\n",
       "      var newScript = document.createElement(\"script\");\n",
       "      var attrs = [];\n",
       "      var nodemap = oldScript.attributes;\n",
       "      for (var j in nodemap) {\n",
       "        if (nodemap.hasOwnProperty(j)) {\n",
       "          attrs.push(nodemap[j])\n",
       "        }\n",
       "      }\n",
       "      attrs.forEach(function(attr) { newScript.setAttribute(attr.name, attr.value) });\n",
       "      newScript.appendChild(document.createTextNode(oldScript.innerHTML));\n",
       "      oldScript.parentNode.replaceChild(newScript, oldScript);\n",
       "    });\n",
       "    if (JS_MIME_TYPE in output.data) {\n",
       "      toinsert[nchildren-1].children[1].textContent = output.data[JS_MIME_TYPE];\n",
       "    }\n",
       "    output_area._hv_plot_id = id;\n",
       "    if ((window.Bokeh !== undefined) && (id in Bokeh.index)) {\n",
       "      window.PyViz.plot_index[id] = Bokeh.index[id];\n",
       "    } else {\n",
       "      window.PyViz.plot_index[id] = null;\n",
       "    }\n",
       "  } else if (output.metadata[EXEC_MIME_TYPE][\"server_id\"] !== undefined) {\n",
       "    var bk_div = document.createElement(\"div\");\n",
       "    bk_div.innerHTML = output.data[HTML_MIME_TYPE];\n",
       "    var script_attrs = bk_div.children[0].attributes;\n",
       "    for (var i = 0; i < script_attrs.length; i++) {\n",
       "      toinsert[toinsert.length - 1].childNodes[1].setAttribute(script_attrs[i].name, script_attrs[i].value);\n",
       "    }\n",
       "    // store reference to server id on output_area\n",
       "    output_area._bokeh_server_id = output.metadata[EXEC_MIME_TYPE][\"server_id\"];\n",
       "  }\n",
       "}\n",
       "\n",
       "/**\n",
       " * Handle when an output is cleared or removed\n",
       " */\n",
       "function handle_clear_output(event, handle) {\n",
       "  var id = handle.cell.output_area._hv_plot_id;\n",
       "  var server_id = handle.cell.output_area._bokeh_server_id;\n",
       "  if (((id === undefined) || !(id in PyViz.plot_index)) && (server_id !== undefined)) { return; }\n",
       "  var comm = window.PyViz.comm_manager.get_client_comm(\"hv-extension-comm\", \"hv-extension-comm\", function () {});\n",
       "  if (server_id !== null) {\n",
       "    comm.send({event_type: 'server_delete', 'id': server_id});\n",
       "    return;\n",
       "  } else if (comm !== null) {\n",
       "    comm.send({event_type: 'delete', 'id': id});\n",
       "  }\n",
       "  delete PyViz.plot_index[id];\n",
       "  if ((window.Bokeh !== undefined) & (id in window.Bokeh.index)) {\n",
       "    var doc = window.Bokeh.index[id].model.document\n",
       "    doc.clear();\n",
       "    const i = window.Bokeh.documents.indexOf(doc);\n",
       "    if (i > -1) {\n",
       "      window.Bokeh.documents.splice(i, 1);\n",
       "    }\n",
       "  }\n",
       "}\n",
       "\n",
       "/**\n",
       " * Handle kernel restart event\n",
       " */\n",
       "function handle_kernel_cleanup(event, handle) {\n",
       "  delete PyViz.comms[\"hv-extension-comm\"];\n",
       "  window.PyViz.plot_index = {}\n",
       "}\n",
       "\n",
       "/**\n",
       " * Handle update_display_data messages\n",
       " */\n",
       "function handle_update_output(event, handle) {\n",
       "  handle_clear_output(event, {cell: {output_area: handle.output_area}})\n",
       "  handle_add_output(event, handle)\n",
       "}\n",
       "\n",
       "function register_renderer(events, OutputArea) {\n",
       "  function append_mime(data, metadata, element) {\n",
       "    // create a DOM node to render to\n",
       "    var toinsert = this.create_output_subarea(\n",
       "    metadata,\n",
       "    CLASS_NAME,\n",
       "    EXEC_MIME_TYPE\n",
       "    );\n",
       "    this.keyboard_manager.register_events(toinsert);\n",
       "    // Render to node\n",
       "    var props = {data: data, metadata: metadata[EXEC_MIME_TYPE]};\n",
       "    render(props, toinsert[0]);\n",
       "    element.append(toinsert);\n",
       "    return toinsert\n",
       "  }\n",
       "\n",
       "  events.on('output_added.OutputArea', handle_add_output);\n",
       "  events.on('output_updated.OutputArea', handle_update_output);\n",
       "  events.on('clear_output.CodeCell', handle_clear_output);\n",
       "  events.on('delete.Cell', handle_clear_output);\n",
       "  events.on('kernel_ready.Kernel', handle_kernel_cleanup);\n",
       "\n",
       "  OutputArea.prototype.register_mime_type(EXEC_MIME_TYPE, append_mime, {\n",
       "    safe: true,\n",
       "    index: 0\n",
       "  });\n",
       "}\n",
       "\n",
       "if (window.Jupyter !== undefined) {\n",
       "  try {\n",
       "    var events = require('base/js/events');\n",
       "    var OutputArea = require('notebook/js/outputarea').OutputArea;\n",
       "    if (OutputArea.prototype.mime_types().indexOf(EXEC_MIME_TYPE) == -1) {\n",
       "      register_renderer(events, OutputArea);\n",
       "    }\n",
       "  } catch(err) {\n",
       "  }\n",
       "}\n"
      ],
      "application/vnd.holoviews_load.v0+json": "\nif ((window.PyViz === undefined) || (window.PyViz instanceof HTMLElement)) {\n  window.PyViz = {comms: {}, comm_status:{}, kernels:{}, receivers: {}, plot_index: []}\n}\n\n\n    function JupyterCommManager() {\n    }\n\n    JupyterCommManager.prototype.register_target = function(plot_id, comm_id, msg_handler) {\n      if (window.comm_manager || ((window.Jupyter !== undefined) && (Jupyter.notebook.kernel != null))) {\n        var comm_manager = window.comm_manager || Jupyter.notebook.kernel.comm_manager;\n        comm_manager.register_target(comm_id, function(comm) {\n          comm.on_msg(msg_handler);\n        });\n      } else if ((plot_id in window.PyViz.kernels) && (window.PyViz.kernels[plot_id])) {\n        window.PyViz.kernels[plot_id].registerCommTarget(comm_id, function(comm) {\n          comm.onMsg = msg_handler;\n        });\n      } else if (typeof google != 'undefined' && google.colab.kernel != null) {\n        google.colab.kernel.comms.registerTarget(comm_id, (comm) => {\n          var messages = comm.messages[Symbol.asyncIterator]();\n          function processIteratorResult(result) {\n            var message = result.value;\n            console.log(message)\n            var content = {data: message.data, comm_id};\n            var buffers = []\n            for (var buffer of message.buffers || []) {\n              buffers.push(new DataView(buffer))\n            }\n            var metadata = message.metadata || {};\n            var msg = {content, buffers, metadata}\n            msg_handler(msg);\n            return messages.next().then(processIteratorResult);\n          }\n          return messages.next().then(processIteratorResult);\n        })\n      }\n    }\n\n    JupyterCommManager.prototype.get_client_comm = function(plot_id, comm_id, msg_handler) {\n      if (comm_id in window.PyViz.comms) {\n        return window.PyViz.comms[comm_id];\n      } else if (window.comm_manager || ((window.Jupyter !== undefined) && (Jupyter.notebook.kernel != null))) {\n        var comm_manager = window.comm_manager || Jupyter.notebook.kernel.comm_manager;\n        var comm = comm_manager.new_comm(comm_id, {}, {}, {}, comm_id);\n        if (msg_handler) {\n          comm.on_msg(msg_handler);\n        }\n      } else if ((plot_id in window.PyViz.kernels) && (window.PyViz.kernels[plot_id])) {\n        var comm = window.PyViz.kernels[plot_id].connectToComm(comm_id);\n        comm.open();\n        if (msg_handler) {\n          comm.onMsg = msg_handler;\n        }\n      } else if (typeof google != 'undefined' && google.colab.kernel != null) {\n        var comm_promise = google.colab.kernel.comms.open(comm_id)\n        comm_promise.then((comm) => {\n          window.PyViz.comms[comm_id] = comm;\n          if (msg_handler) {\n            var messages = comm.messages[Symbol.asyncIterator]();\n            function processIteratorResult(result) {\n              var message = result.value;\n              var content = {data: message.data};\n              var metadata = message.metadata || {comm_id};\n              var msg = {content, metadata}\n              msg_handler(msg);\n              return messages.next().then(processIteratorResult);\n            }\n            return messages.next().then(processIteratorResult);\n          }\n        })\n        var sendClosure = (data, metadata, buffers, disposeOnDone) => {\n          return comm_promise.then((comm) => {\n            comm.send(data, metadata, buffers, disposeOnDone);\n          });\n        };\n        var comm = {\n          send: sendClosure\n        };\n      }\n      window.PyViz.comms[comm_id] = comm;\n      return comm;\n    }\n    window.PyViz.comm_manager = new JupyterCommManager();\n    \n\n\nvar JS_MIME_TYPE = 'application/javascript';\nvar HTML_MIME_TYPE = 'text/html';\nvar EXEC_MIME_TYPE = 'application/vnd.holoviews_exec.v0+json';\nvar CLASS_NAME = 'output';\n\n/**\n * Render data to the DOM node\n */\nfunction render(props, node) {\n  var div = document.createElement(\"div\");\n  var script = document.createElement(\"script\");\n  node.appendChild(div);\n  node.appendChild(script);\n}\n\n/**\n * Handle when a new output is added\n */\nfunction handle_add_output(event, handle) {\n  var output_area = handle.output_area;\n  var output = handle.output;\n  if ((output.data == undefined) || (!output.data.hasOwnProperty(EXEC_MIME_TYPE))) {\n    return\n  }\n  var id = output.metadata[EXEC_MIME_TYPE][\"id\"];\n  var toinsert = output_area.element.find(\".\" + CLASS_NAME.split(' ')[0]);\n  if (id !== undefined) {\n    var nchildren = toinsert.length;\n    var html_node = toinsert[nchildren-1].children[0];\n    html_node.innerHTML = output.data[HTML_MIME_TYPE];\n    var scripts = [];\n    var nodelist = html_node.querySelectorAll(\"script\");\n    for (var i in nodelist) {\n      if (nodelist.hasOwnProperty(i)) {\n        scripts.push(nodelist[i])\n      }\n    }\n\n    scripts.forEach( function (oldScript) {\n      var newScript = document.createElement(\"script\");\n      var attrs = [];\n      var nodemap = oldScript.attributes;\n      for (var j in nodemap) {\n        if (nodemap.hasOwnProperty(j)) {\n          attrs.push(nodemap[j])\n        }\n      }\n      attrs.forEach(function(attr) { newScript.setAttribute(attr.name, attr.value) });\n      newScript.appendChild(document.createTextNode(oldScript.innerHTML));\n      oldScript.parentNode.replaceChild(newScript, oldScript);\n    });\n    if (JS_MIME_TYPE in output.data) {\n      toinsert[nchildren-1].children[1].textContent = output.data[JS_MIME_TYPE];\n    }\n    output_area._hv_plot_id = id;\n    if ((window.Bokeh !== undefined) && (id in Bokeh.index)) {\n      window.PyViz.plot_index[id] = Bokeh.index[id];\n    } else {\n      window.PyViz.plot_index[id] = null;\n    }\n  } else if (output.metadata[EXEC_MIME_TYPE][\"server_id\"] !== undefined) {\n    var bk_div = document.createElement(\"div\");\n    bk_div.innerHTML = output.data[HTML_MIME_TYPE];\n    var script_attrs = bk_div.children[0].attributes;\n    for (var i = 0; i < script_attrs.length; i++) {\n      toinsert[toinsert.length - 1].childNodes[1].setAttribute(script_attrs[i].name, script_attrs[i].value);\n    }\n    // store reference to server id on output_area\n    output_area._bokeh_server_id = output.metadata[EXEC_MIME_TYPE][\"server_id\"];\n  }\n}\n\n/**\n * Handle when an output is cleared or removed\n */\nfunction handle_clear_output(event, handle) {\n  var id = handle.cell.output_area._hv_plot_id;\n  var server_id = handle.cell.output_area._bokeh_server_id;\n  if (((id === undefined) || !(id in PyViz.plot_index)) && (server_id !== undefined)) { return; }\n  var comm = window.PyViz.comm_manager.get_client_comm(\"hv-extension-comm\", \"hv-extension-comm\", function () {});\n  if (server_id !== null) {\n    comm.send({event_type: 'server_delete', 'id': server_id});\n    return;\n  } else if (comm !== null) {\n    comm.send({event_type: 'delete', 'id': id});\n  }\n  delete PyViz.plot_index[id];\n  if ((window.Bokeh !== undefined) & (id in window.Bokeh.index)) {\n    var doc = window.Bokeh.index[id].model.document\n    doc.clear();\n    const i = window.Bokeh.documents.indexOf(doc);\n    if (i > -1) {\n      window.Bokeh.documents.splice(i, 1);\n    }\n  }\n}\n\n/**\n * Handle kernel restart event\n */\nfunction handle_kernel_cleanup(event, handle) {\n  delete PyViz.comms[\"hv-extension-comm\"];\n  window.PyViz.plot_index = {}\n}\n\n/**\n * Handle update_display_data messages\n */\nfunction handle_update_output(event, handle) {\n  handle_clear_output(event, {cell: {output_area: handle.output_area}})\n  handle_add_output(event, handle)\n}\n\nfunction register_renderer(events, OutputArea) {\n  function append_mime(data, metadata, element) {\n    // create a DOM node to render to\n    var toinsert = this.create_output_subarea(\n    metadata,\n    CLASS_NAME,\n    EXEC_MIME_TYPE\n    );\n    this.keyboard_manager.register_events(toinsert);\n    // Render to node\n    var props = {data: data, metadata: metadata[EXEC_MIME_TYPE]};\n    render(props, toinsert[0]);\n    element.append(toinsert);\n    return toinsert\n  }\n\n  events.on('output_added.OutputArea', handle_add_output);\n  events.on('output_updated.OutputArea', handle_update_output);\n  events.on('clear_output.CodeCell', handle_clear_output);\n  events.on('delete.Cell', handle_clear_output);\n  events.on('kernel_ready.Kernel', handle_kernel_cleanup);\n\n  OutputArea.prototype.register_mime_type(EXEC_MIME_TYPE, append_mime, {\n    safe: true,\n    index: 0\n  });\n}\n\nif (window.Jupyter !== undefined) {\n  try {\n    var events = require('base/js/events');\n    var OutputArea = require('notebook/js/outputarea').OutputArea;\n    if (OutputArea.prototype.mime_types().indexOf(EXEC_MIME_TYPE) == -1) {\n      register_renderer(events, OutputArea);\n    }\n  } catch(err) {\n  }\n}\n"
     },
     "metadata": {},
     "output_type": "display_data"
    },
    {
     "data": {
      "text/html": [
       "<style>*[data-root-id],\n",
       "*[data-root-id] > * {\n",
       "  box-sizing: border-box;\n",
       "  font-family: var(--jp-ui-font-family);\n",
       "  font-size: var(--jp-ui-font-size1);\n",
       "  color: var(--vscode-editor-foreground, var(--jp-ui-font-color1));\n",
       "}\n",
       "\n",
       "/* Override VSCode background color */\n",
       ".cell-output-ipywidget-background:has(\n",
       "    > .cell-output-ipywidget-background > .lm-Widget > *[data-root-id]\n",
       "  ),\n",
       ".cell-output-ipywidget-background:has(> .lm-Widget > *[data-root-id]) {\n",
       "  background-color: transparent !important;\n",
       "}\n",
       "</style>"
      ]
     },
     "metadata": {},
     "output_type": "display_data"
    }
   ],
   "source": [
    "import pandas as pd\n",
    "import numpy as np\n",
    "\n",
    "import holoviews as hv\n",
    "from holoviews import dim, opts\n",
    "import hvplot.pandas\n",
    "hv.extension('matplotlib')"
   ]
  },
  {
   "cell_type": "code",
   "execution_count": 5,
   "metadata": {
    "slideshow": {
     "slide_type": "notes"
    }
   },
   "outputs": [],
   "source": [
    "prod = pd.read_excel('br_pib_1986-1993.xlsx')\n",
    "\n",
    "produto = prod.hvplot.bar('Ano', ['PIB','Indústria'],\n",
    "                          height=450,\n",
    "                          width=600,\n",
    "                          rot=0,\n",
    "                          padding=0.02,\n",
    "                          legend='bottom',\n",
    "                          cmap='Set2',\n",
    "                          ylim=(-10, 12),\n",
    "                          yticks=12,\n",
    "                          group_label='Produto',\n",
    "                          xlabel='',\n",
    "                          ylabel='taxa de crescimento anual, %',\n",
    "                          label='Crescimento do PIB e da indústria, Brasil, 1986-1993, em %'\n",
    "                         ).opts(fontsize={'title': 14, 'labels': 11, 'xticks': 11, \n",
    "                                          'yticks': 11, 'legend': 11}).opts(multi_level=False)"
   ]
  },
  {
   "cell_type": "code",
   "execution_count": 6,
   "metadata": {
    "slideshow": {
     "slide_type": "slide"
    }
   },
   "outputs": [
    {
     "data": {
      "text/html": [
       "<img src='data:image/png;base64,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' style='max-width:100%; margin: auto; display: block; '/>"
      ],
      "text/plain": [
       ":Bars   [Ano,Produto]   (value)"
      ]
     },
     "execution_count": 6,
     "metadata": {
      "application/vnd.holoviews_exec.v0+json": {}
     },
     "output_type": "execute_result"
    }
   ],
   "source": [
    "produto"
   ]
  },
  {
   "cell_type": "code",
   "execution_count": 7,
   "metadata": {
    "slideshow": {
     "slide_type": "notes"
    }
   },
   "outputs": [],
   "source": [
    "p = pd.read_excel('ipc_fipe_1985_1995.xlsx')\n",
    "\n",
    "pr_ano = p.hvplot.bar('Ano', 'IPC-SP',\n",
    "                      height=350,\n",
    "                      width=600,\n",
    "                      rot=0,\n",
    "                      padding=(0.02),\n",
    "                      legend=False,\n",
    "                      color='red',\n",
    "                      xticks=12,\n",
    "                      xlabel='',\n",
    "                      ylabel='crescimento anual, %',\n",
    "                      label='Taxa de inflação, IPC-FIPE, 1985-1995, %'\n",
    "                     ).opts(fontsize={'title': 14, 'labels': 11,\n",
    "                                      'xticks': 11, 'yticks': 11}).opts(multi_level=False)"
   ]
  },
  {
   "cell_type": "code",
   "execution_count": 8,
   "metadata": {
    "slideshow": {
     "slide_type": "slide"
    }
   },
   "outputs": [
    {
     "data": {
      "text/html": [
       "<img src='data:image/png;base64,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' style='max-width:100%; margin: auto; display: block; '/>"
      ],
      "text/plain": [
       ":Bars   [Ano]   (IPC-SP)"
      ]
     },
     "execution_count": 8,
     "metadata": {
      "application/vnd.holoviews_exec.v0+json": {}
     },
     "output_type": "execute_result"
    }
   ],
   "source": [
    "pr_ano"
   ]
  },
  {
   "cell_type": "code",
   "execution_count": 9,
   "metadata": {
    "slideshow": {
     "slide_type": "notes"
    }
   },
   "outputs": [],
   "source": [
    "tc = pd.read_excel('br_terms_1970_1995.xlsx')\n",
    "\n",
    "termos = tc.hvplot.line('Ano', 'Termos de troca',\n",
    "                        height=350,\n",
    "                        width=600,\n",
    "                        rot=0,\n",
    "                        padding=0.02,\n",
    "                        color='darkviolet',\n",
    "                        ylim=(50, 150),\n",
    "                        yticks=8,\n",
    "                        xlim=(1970, 1995),\n",
    "                        xticks=6,\n",
    "                        xlabel='',\n",
    "                        ylabel='Índice, 2006=100',\n",
    "                        label='Termos de troca, Brasil, 1970-1995 (2006=100)'\n",
    "                       ).opts(fontsize={'title': 14, 'labels': 11, 'xticks': 11, 'yticks': 11})"
   ]
  },
  {
   "cell_type": "code",
   "execution_count": 10,
   "metadata": {
    "slideshow": {
     "slide_type": "slide"
    }
   },
   "outputs": [
    {
     "data": {
      "text/html": [
       "<img src='data:image/png;base64,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' style='max-width:100%; margin: auto; display: block; '/>"
      ],
      "text/plain": [
       ":Curve   [Ano]   (Termos de troca)"
      ]
     },
     "execution_count": 10,
     "metadata": {
      "application/vnd.holoviews_exec.v0+json": {}
     },
     "output_type": "execute_result"
    }
   ],
   "source": [
    "termos"
   ]
  },
  {
   "cell_type": "code",
   "execution_count": 11,
   "metadata": {
    "slideshow": {
     "slide_type": "notes"
    }
   },
   "outputs": [],
   "source": [
    "bal = pd.read_excel('br_bcom_1985_1995.xlsx')\n",
    "\n",
    "bal_comercial = bal.hvplot.bar('Ano', ['Exportação', 'Importação'],\n",
    "                                height=450,\n",
    "                                width=600,\n",
    "                                rot=0,\n",
    "                                padding=0.02,\n",
    "                                legend='bottom',\n",
    "                                cmap='tab10',\n",
    "                                yformatter='%.0f',\n",
    "                                xticks=12,\n",
    "                                ylim=(0, 55000),\n",
    "                                group_label='Comércio externo',\n",
    "                                xlabel='',\n",
    "                                ylabel='',\n",
    "                                label='Exportações e importações, Brasil, 1985-1995 (milhões US$)'\n",
    "                               ).opts(fontsize={'title': 14, 'labels': 11, 'xticks': 11, \n",
    "                                                'yticks': 11, 'legend': 11}).opts(multi_level=False)"
   ]
  },
  {
   "cell_type": "code",
   "execution_count": 12,
   "metadata": {
    "slideshow": {
     "slide_type": "slide"
    }
   },
   "outputs": [
    {
     "data": {
      "text/html": [
       "<img src='data:image/png;base64,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' style='max-width:100%; margin: auto; display: block; '/>"
      ],
      "text/plain": [
       ":Bars   [Ano,Comércio externo]   (value)"
      ]
     },
     "execution_count": 12,
     "metadata": {
      "application/vnd.holoviews_exec.v0+json": {}
     },
     "output_type": "execute_result"
    }
   ],
   "source": [
    "bal_comercial"
   ]
  },
  {
   "cell_type": "code",
   "execution_count": 17,
   "metadata": {
    "slideshow": {
     "slide_type": "notes"
    }
   },
   "outputs": [],
   "source": [
    "bp = pd.read_excel('br_bp_1985_1995.xlsx')\n",
    "\n",
    "saldos = bp.hvplot.bar('Ano', ['Bal. Comercial', 'Trans. Correntes', 'Conta capital', 'BP'],\n",
    "                       height=350,\n",
    "                       width=600,\n",
    "                       rot=0,\n",
    "                       stacked=True,\n",
    "                       padding=0.02,\n",
    "                       legend='bottom',\n",
    "                       cmap='tab10',\n",
    "                       ylim=(-25000, 80000),\n",
    "                       yticks=8,\n",
    "                       yformatter='%.0f',\n",
    "                       group_label='Saldos das contas',\n",
    "                       xlabel='',\n",
    "                       ylabel='',\n",
    "                      ).opts(fontsize={'title': 14, 'labels': 11, 'xticks': 11, \n",
    "                                       'yticks': 11, 'legend': 11}).opts(multi_level=False)"
   ]
  },
  {
   "cell_type": "code",
   "execution_count": 18,
   "metadata": {
    "slideshow": {
     "slide_type": "slide"
    }
   },
   "outputs": [
    {
     "data": {
      "text/html": [
       "<img src='data:image/png;base64,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' style='max-width:100%; margin: auto; display: block; '/>"
      ],
      "text/plain": [
       ":Bars   [Ano,Saldos das contas]   (value)"
      ]
     },
     "execution_count": 18,
     "metadata": {
      "application/vnd.holoviews_exec.v0+json": {}
     },
     "output_type": "execute_result"
    }
   ],
   "source": [
    "saldos"
   ]
  }
 ],
 "metadata": {
  "celltoolbar": "Slideshow",
  "kernelspec": {
   "display_name": "Python 3 (ipykernel)",
   "language": "python",
   "name": "python3"
  },
  "language_info": {
   "codemirror_mode": {
    "name": "ipython",
    "version": 3
   },
   "file_extension": ".py",
   "mimetype": "text/x-python",
   "name": "python",
   "nbconvert_exporter": "python",
   "pygments_lexer": "ipython3",
   "version": "3.9.22"
  },
  "toc": {
   "base_numbering": 1,
   "nav_menu": {},
   "number_sections": false,
   "sideBar": true,
   "skip_h1_title": false,
   "title_cell": "Table of Contents",
   "title_sidebar": "Contents",
   "toc_cell": false,
   "toc_position": {},
   "toc_section_display": true,
   "toc_window_display": false
  }
 },
 "nbformat": 4,
 "nbformat_minor": 4
}
