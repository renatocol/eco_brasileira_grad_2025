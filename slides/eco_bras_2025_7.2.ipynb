{
 "cells": [
  {
   "cell_type": "markdown",
   "metadata": {
    "editable": true,
    "slideshow": {
     "slide_type": "slide"
    },
    "tags": []
   },
   "source": [
    "## <center>Economia Brasileira - FEA-USP</center>\n",
    "\n",
    "### <center>Aula 7 - A política macroeconômica na crise externa (1980-1985) (parte 2)</center>\n",
    "\n",
    "#### <center>Renato Perim Colistete</center>\n",
    "\n",
    "\n",
    "#### <center>2025</center>  "
   ]
  },
  {
   "cell_type": "markdown",
   "metadata": {
    "heading_collapsed": true,
    "slideshow": {
     "slide_type": "slide"
    }
   },
   "source": [
    "## Objetivos\n",
    "\n",
    "Nesta aula abordamos o contexto mais geral da dívida externa no início dos anos 1980 e suas repercussões internas sobre a Autoridade Monetária e o Tesouro.\n",
    "\n",
    "Começamos apresentando a situação geral da América Latina e do Brasil no contexto da crise da dívida externa.\n",
    "\n",
    "Em seguida, passamos para uma breve introdução à forma pela qual a crise externa afetou os orçamentos do Banco Central e do Tesouro Nacional. "
   ]
  },
  {
   "cell_type": "markdown",
   "metadata": {
    "slideshow": {
     "slide_type": "slide"
    }
   },
   "source": [
    "## Choque\n",
    "\n",
    "O impacto da dívida externa foi tanto direto (via agudo desequilíbrio externo) quanto indireto (via instabilidade macroeconômica, crise do setor público e alta inflação) nas economias da América Latina e Brasil."
   ]
  },
  {
   "cell_type": "markdown",
   "metadata": {
    "slideshow": {
     "slide_type": "fragment"
    }
   },
   "source": [
    "Os efeitos mais severos do endividamento começaram a ser sentidos com a política anti-inflacionária adotada pelo FED a partir de 1979, no início da gestão de Paul Volcker ainda no governo de Jimmy Carter. A taxa de juros subiu de 10,25% a.a. em 1979 para 20% a.a. em março de 1980."
   ]
  },
  {
   "cell_type": "markdown",
   "metadata": {
    "slideshow": {
     "slide_type": "fragment"
    }
   },
   "source": [
    "A decisão do FED teve impacto direto e duradouro sobre o serviço da dívida externa acumulada nos anos anteriores, situação ainda mais agravada com a queda dos preços de *commodities* não petróleo."
   ]
  },
  {
   "cell_type": "markdown",
   "metadata": {
    "slideshow": {
     "slide_type": "slide"
    }
   },
   "source": [
    "## Juros\n",
    "\n",
    "A taxa de juros para os empréstimos da América Latina oscilaram de 1 a 5% a.a. de 1975 a 1981."
   ]
  },
  {
   "cell_type": "markdown",
   "metadata": {
    "slideshow": {
     "slide_type": "fragment"
    }
   },
   "source": [
    "Daí em diante até o início do século XXI, a taxa variou entre 10 e 12% a.a."
   ]
  },
  {
   "cell_type": "markdown",
   "metadata": {
    "slideshow": {
     "slide_type": "fragment"
    }
   },
   "source": [
    "A América Latina só conseguiu taxas de juros similares às de 1975-1981 durante a expansão da economia global em 2005-2008. Os preços das *commodities* também acompanharam a mesma tendência. Ver os gráficos a seguir."
   ]
  },
  {
   "cell_type": "markdown",
   "metadata": {
    "editable": true,
    "slideshow": {
     "slide_type": "slide"
    },
    "tags": []
   },
   "source": [
    "### <center>Taxas de juros reais, 1963-2009</center>\n",
    "\n",
    "<center><img src=\"al_juros.png\" width=\"700\"></center>"
   ]
  },
  {
   "cell_type": "markdown",
   "metadata": {
    "slideshow": {
     "slide_type": "subslide"
    }
   },
   "source": [
    "#### <center>Preços reais de produtos básicos não derivados de petróleo (1980=100)</center>\n",
    "\n",
    "<center><img src=\"al_commodities.png\" width=\"700\" height=\"450\"></center>"
   ]
  },
  {
   "cell_type": "markdown",
   "metadata": {
    "slideshow": {
     "slide_type": "slide"
    }
   },
   "source": [
    "## Efeitos\n",
    "\n",
    "Como vimos antes, o endividamento externo na América Latina cresceu rapidamente durante a segunda metade da década de 1970. Brasil, portanto, seguiu a tendência geral na região."
   ]
  },
  {
   "cell_type": "markdown",
   "metadata": {
    "slideshow": {
     "slide_type": "fragment"
    }
   },
   "source": [
    "Com a elevação das taxas de juros, o serviço da dívida externa explodiu, com o momento mais crítico em 1986-87."
   ]
  },
  {
   "cell_type": "markdown",
   "metadata": {
    "slideshow": {
     "slide_type": "fragment"
    }
   },
   "source": [
    "Ver a seguir dois indicadores importantes: dívida externa como porcentagem das exportações e do PIB."
   ]
  },
  {
   "cell_type": "markdown",
   "metadata": {
    "slideshow": {
     "slide_type": "subslide"
    }
   },
   "source": [
    "#### <center>Dívida externa, exportações e PIB, América Latina, 1970-2008</center>\n",
    "\n",
    "<center><img src=\"al_divida.png\" width=\"700\" height=\"450\"></center>"
   ]
  },
  {
   "cell_type": "markdown",
   "metadata": {
    "slideshow": {
     "slide_type": "slide"
    }
   },
   "source": [
    "## Transferências\n",
    "\n",
    "A transferência líquida de recursos para a América Latina foi positiva até 1982. A partir da moratória do México, o fluxo inverteu- se."
   ]
  },
  {
   "cell_type": "markdown",
   "metadata": {
    "slideshow": {
     "slide_type": "fragment"
    }
   },
   "source": [
    "Enquanto nos anos 1970 a entrada de recursos externos foi de 2% do PIB aproximadamente, os números tornaram-se negativos na década de 1980."
   ]
  },
  {
   "cell_type": "markdown",
   "metadata": {
    "slideshow": {
     "slide_type": "fragment"
    }
   },
   "source": [
    "A transferência de recursos para o exterior *chegou a 6% do PIB* da região, mantendo-se negativa por toda a década de 1980. Ver a seguir."
   ]
  },
  {
   "cell_type": "markdown",
   "metadata": {
    "slideshow": {
     "slide_type": "subslide"
    }
   },
   "source": [
    "#### <center>Transferência líquida de recursos, América Latina (% do PIB a preços correntes)</center>\n",
    "\n",
    "<center><img src=\"al_transfers.png\" width=\"700\" height=\"450\"></center>"
   ]
  },
  {
   "cell_type": "markdown",
   "metadata": {
    "slideshow": {
     "slide_type": "slide"
    }
   },
   "source": [
    "## Negociação da dívida externa\n",
    "\n",
    "O primeiro [Plano Baker](https://en.wikipedia.org/wiki/Baker_Plan_(debt_relief) (1986) pressupôs a existência de uma crise de liquidez (e não insolvência) na América Latina e fracassou. O segundo Plano Baker veio em 1987, com medidas mais efetivas de recompra da dívida, bônus com taxas reduzidas e trocas de títulos da dívida, mas ainda assim bastante limitado."
   ]
  },
  {
   "cell_type": "markdown",
   "metadata": {
    "slideshow": {
     "slide_type": "fragment"
    }
   },
   "source": [
    "O [Plano Brady](https://www.emta.org/template.aspx?id=35) foi introduzido em março de 1989 e marcou a terceira etapa da crise da dívida. O Plano implementou um amplo programa de reestruturação da dívida dos bancos comerciais credores, condicionado a acordos com o FMI."
   ]
  },
  {
   "cell_type": "markdown",
   "metadata": {
    "slideshow": {
     "slide_type": "subslide"
    }
   },
   "source": [
    "O Plano Brady ofereceu vários instrumentos (recompra de dívida, descontos em troca de redução do estoque da dívida, redução de juros, entre outros) para reestruturação da dívida externa, com lançamento dos Brady bonds. Com o plano, os canais de financiamento externo voltaram a funcionar (lembrar: Brasil concluiu seu acordo em 1994)."
   ]
  },
  {
   "cell_type": "markdown",
   "metadata": {
    "slideshow": {
     "slide_type": "slide"
    }
   },
   "source": [
    "## Preços\n",
    "\n",
    "O enorme ajuste macroeconômico na década de 1980 foi acompanhado por uma explosão dos preços na América Latina."
   ]
  },
  {
   "cell_type": "markdown",
   "metadata": {
    "slideshow": {
     "slide_type": "fragment"
    }
   },
   "source": [
    "Tanto a escassez de divisas quanto a necessidade de apoiar o ajuste externo via aumento de exportações levaram à desvalorização das moedas nacionais. "
   ]
  },
  {
   "cell_type": "markdown",
   "metadata": {
    "slideshow": {
     "slide_type": "fragment"
    }
   },
   "source": [
    "O refinanciamento das dívidas públicas elevadas pressionou a subida dos juros, frequentemente com financiamento inflacionário (p.ex. via Banco do Brasil atuando como banco do Tesouro, com emissão de moeda pelo Banco Central)."
   ]
  },
  {
   "cell_type": "markdown",
   "metadata": {
    "slideshow": {
     "slide_type": "slide"
    }
   },
   "source": [
    "A inflação fugiu ao controle em vários países, com cinco casos de hiperinflação: Argentina, Bolívia, Brasil, Nicarágua e Peru. Mas notar a queda dos preços praticamente sincronizada na América Latina no início dos anos 1990. Coincidência? Ver a seguir."
   ]
  },
  {
   "cell_type": "markdown",
   "metadata": {
    "slideshow": {
     "slide_type": "subslide"
    }
   },
   "source": [
    "#### <center>Inflação, América Latina, 1950-2008 (IPC, mediana, 18 países)</center>\n",
    "\n",
    "<center><img src=\"al_prices.png\" width=\"700\" height=\"450\"></center>"
   ]
  },
  {
   "cell_type": "markdown",
   "metadata": {
    "slideshow": {
     "slide_type": "slide"
    }
   },
   "source": [
    "## A situação no Brasil em 1980\n",
    "\n",
    "Agora de volta ao Brasil. Ao final da década de 1970, as crescentes despesas financeiras com a dívida externa brasileira continuaram a pressionar o balanço de pagamentos, com reflexos diretos sobre o orçamento público."
   ]
  },
  {
   "cell_type": "markdown",
   "metadata": {
    "slideshow": {
     "slide_type": "fragment"
    }
   },
   "source": [
    "As reservas alcançaram seu nível mais elevado em 1978, a partir de quando começaram a cair rapidamente conforme aumentavam as remessas para o exterior."
   ]
  },
  {
   "cell_type": "markdown",
   "metadata": {
    "slideshow": {
     "slide_type": "fragment"
    }
   },
   "source": [
    "Dois fatos cruciais já vistos para essa mudança em 1979: crescente resistência dos credores a novos empréstimos e a subida dos juros internacionais. Um resultado imediato foi que os pagamentos de juros da dívida externa pelo Banco Central e Governo Federal tornaram-se positivos a partir de 1980. Ver o gráfico a seguir."
   ]
  },
  {
   "cell_type": "code",
   "execution_count": 8,
   "metadata": {
    "slideshow": {
     "slide_type": "notes"
    }
   },
   "outputs": [
    {
     "data": {
      "application/javascript": [
       "(function(root) {\n",
       "  function now() {\n",
       "    return new Date();\n",
       "  }\n",
       "\n",
       "  var force = true;\n",
       "  var py_version = '3.4.2'.replace('rc', '-rc.').replace('.dev', '-dev.');\n",
       "  var reloading = false;\n",
       "  var Bokeh = root.Bokeh;\n",
       "\n",
       "  if (typeof (root._bokeh_timeout) === \"undefined\" || force) {\n",
       "    root._bokeh_timeout = Date.now() + 5000;\n",
       "    root._bokeh_failed_load = false;\n",
       "  }\n",
       "\n",
       "  function run_callbacks() {\n",
       "    try {\n",
       "      root._bokeh_onload_callbacks.forEach(function(callback) {\n",
       "        if (callback != null)\n",
       "          callback();\n",
       "      });\n",
       "    } finally {\n",
       "      delete root._bokeh_onload_callbacks;\n",
       "    }\n",
       "    console.debug(\"Bokeh: all callbacks have finished\");\n",
       "  }\n",
       "\n",
       "  function load_libs(css_urls, js_urls, js_modules, js_exports, callback) {\n",
       "    if (css_urls == null) css_urls = [];\n",
       "    if (js_urls == null) js_urls = [];\n",
       "    if (js_modules == null) js_modules = [];\n",
       "    if (js_exports == null) js_exports = {};\n",
       "\n",
       "    root._bokeh_onload_callbacks.push(callback);\n",
       "\n",
       "    if (root._bokeh_is_loading > 0) {\n",
       "      console.debug(\"Bokeh: BokehJS is being loaded, scheduling callback at\", now());\n",
       "      return null;\n",
       "    }\n",
       "    if (js_urls.length === 0 && js_modules.length === 0 && Object.keys(js_exports).length === 0) {\n",
       "      run_callbacks();\n",
       "      return null;\n",
       "    }\n",
       "    if (!reloading) {\n",
       "      console.debug(\"Bokeh: BokehJS not loaded, scheduling load and callback at\", now());\n",
       "    }\n",
       "\n",
       "    function on_load() {\n",
       "      root._bokeh_is_loading--;\n",
       "      if (root._bokeh_is_loading === 0) {\n",
       "        console.debug(\"Bokeh: all BokehJS libraries/stylesheets loaded\");\n",
       "        run_callbacks()\n",
       "      }\n",
       "    }\n",
       "    window._bokeh_on_load = on_load\n",
       "\n",
       "    function on_error() {\n",
       "      console.error(\"failed to load \" + url);\n",
       "    }\n",
       "\n",
       "    var skip = [];\n",
       "    if (window.requirejs) {\n",
       "      window.requirejs.config({'packages': {}, 'paths': {}, 'shim': {}});\n",
       "      root._bokeh_is_loading = css_urls.length + 0;\n",
       "    } else {\n",
       "      root._bokeh_is_loading = css_urls.length + js_urls.length + js_modules.length + Object.keys(js_exports).length;\n",
       "    }\n",
       "\n",
       "    var existing_stylesheets = []\n",
       "    var links = document.getElementsByTagName('link')\n",
       "    for (var i = 0; i < links.length; i++) {\n",
       "      var link = links[i]\n",
       "      if (link.href != null) {\n",
       "\texisting_stylesheets.push(link.href)\n",
       "      }\n",
       "    }\n",
       "    for (var i = 0; i < css_urls.length; i++) {\n",
       "      var url = css_urls[i];\n",
       "      if (existing_stylesheets.indexOf(url) !== -1) {\n",
       "\ton_load()\n",
       "\tcontinue;\n",
       "      }\n",
       "      const element = document.createElement(\"link\");\n",
       "      element.onload = on_load;\n",
       "      element.onerror = on_error;\n",
       "      element.rel = \"stylesheet\";\n",
       "      element.type = \"text/css\";\n",
       "      element.href = url;\n",
       "      console.debug(\"Bokeh: injecting link tag for BokehJS stylesheet: \", url);\n",
       "      document.body.appendChild(element);\n",
       "    }    var existing_scripts = []\n",
       "    var scripts = document.getElementsByTagName('script')\n",
       "    for (var i = 0; i < scripts.length; i++) {\n",
       "      var script = scripts[i]\n",
       "      if (script.src != null) {\n",
       "\texisting_scripts.push(script.src)\n",
       "      }\n",
       "    }\n",
       "    for (var i = 0; i < js_urls.length; i++) {\n",
       "      var url = js_urls[i];\n",
       "      if (skip.indexOf(url) !== -1 || existing_scripts.indexOf(url) !== -1) {\n",
       "\tif (!window.requirejs) {\n",
       "\t  on_load();\n",
       "\t}\n",
       "\tcontinue;\n",
       "      }\n",
       "      var element = document.createElement('script');\n",
       "      element.onload = on_load;\n",
       "      element.onerror = on_error;\n",
       "      element.async = false;\n",
       "      element.src = url;\n",
       "      console.debug(\"Bokeh: injecting script tag for BokehJS library: \", url);\n",
       "      document.head.appendChild(element);\n",
       "    }\n",
       "    for (var i = 0; i < js_modules.length; i++) {\n",
       "      var url = js_modules[i];\n",
       "      if (skip.indexOf(url) !== -1 || existing_scripts.indexOf(url) !== -1) {\n",
       "\tif (!window.requirejs) {\n",
       "\t  on_load();\n",
       "\t}\n",
       "\tcontinue;\n",
       "      }\n",
       "      var element = document.createElement('script');\n",
       "      element.onload = on_load;\n",
       "      element.onerror = on_error;\n",
       "      element.async = false;\n",
       "      element.src = url;\n",
       "      element.type = \"module\";\n",
       "      console.debug(\"Bokeh: injecting script tag for BokehJS library: \", url);\n",
       "      document.head.appendChild(element);\n",
       "    }\n",
       "    for (const name in js_exports) {\n",
       "      var url = js_exports[name];\n",
       "      if (skip.indexOf(url) >= 0 || root[name] != null) {\n",
       "\tif (!window.requirejs) {\n",
       "\t  on_load();\n",
       "\t}\n",
       "\tcontinue;\n",
       "      }\n",
       "      var element = document.createElement('script');\n",
       "      element.onerror = on_error;\n",
       "      element.async = false;\n",
       "      element.type = \"module\";\n",
       "      console.debug(\"Bokeh: injecting script tag for BokehJS library: \", url);\n",
       "      element.textContent = `\n",
       "      import ${name} from \"${url}\"\n",
       "      window.${name} = ${name}\n",
       "      window._bokeh_on_load()\n",
       "      `\n",
       "      document.head.appendChild(element);\n",
       "    }\n",
       "    if (!js_urls.length && !js_modules.length) {\n",
       "      on_load()\n",
       "    }\n",
       "  };\n",
       "\n",
       "  function inject_raw_css(css) {\n",
       "    const element = document.createElement(\"style\");\n",
       "    element.appendChild(document.createTextNode(css));\n",
       "    document.body.appendChild(element);\n",
       "  }\n",
       "\n",
       "  var js_urls = [\"https://cdn.bokeh.org/bokeh/release/bokeh-3.4.2.min.js\", \"https://cdn.bokeh.org/bokeh/release/bokeh-gl-3.4.2.min.js\", \"https://cdn.bokeh.org/bokeh/release/bokeh-widgets-3.4.2.min.js\", \"https://cdn.bokeh.org/bokeh/release/bokeh-tables-3.4.2.min.js\", \"https://cdn.holoviz.org/panel/1.4.5/dist/panel.min.js\"];\n",
       "  var js_modules = [];\n",
       "  var js_exports = {};\n",
       "  var css_urls = [];\n",
       "  var inline_js = [    function(Bokeh) {\n",
       "      Bokeh.set_log_level(\"info\");\n",
       "    },\n",
       "function(Bokeh) {} // ensure no trailing comma for IE\n",
       "  ];\n",
       "\n",
       "  function run_inline_js() {\n",
       "    if ((root.Bokeh !== undefined) || (force === true)) {\n",
       "      for (var i = 0; i < inline_js.length; i++) {\n",
       "\ttry {\n",
       "          inline_js[i].call(root, root.Bokeh);\n",
       "\t} catch(e) {\n",
       "\t  if (!reloading) {\n",
       "\t    throw e;\n",
       "\t  }\n",
       "\t}\n",
       "      }\n",
       "      // Cache old bokeh versions\n",
       "      if (Bokeh != undefined && !reloading) {\n",
       "\tvar NewBokeh = root.Bokeh;\n",
       "\tif (Bokeh.versions === undefined) {\n",
       "\t  Bokeh.versions = new Map();\n",
       "\t}\n",
       "\tif (NewBokeh.version !== Bokeh.version) {\n",
       "\t  Bokeh.versions.set(NewBokeh.version, NewBokeh)\n",
       "\t}\n",
       "\troot.Bokeh = Bokeh;\n",
       "      }} else if (Date.now() < root._bokeh_timeout) {\n",
       "      setTimeout(run_inline_js, 100);\n",
       "    } else if (!root._bokeh_failed_load) {\n",
       "      console.log(\"Bokeh: BokehJS failed to load within specified timeout.\");\n",
       "      root._bokeh_failed_load = true;\n",
       "    }\n",
       "    root._bokeh_is_initializing = false\n",
       "  }\n",
       "\n",
       "  function load_or_wait() {\n",
       "    // Implement a backoff loop that tries to ensure we do not load multiple\n",
       "    // versions of Bokeh and its dependencies at the same time.\n",
       "    // In recent versions we use the root._bokeh_is_initializing flag\n",
       "    // to determine whether there is an ongoing attempt to initialize\n",
       "    // bokeh, however for backward compatibility we also try to ensure\n",
       "    // that we do not start loading a newer (Panel>=1.0 and Bokeh>3) version\n",
       "    // before older versions are fully initialized.\n",
       "    if (root._bokeh_is_initializing && Date.now() > root._bokeh_timeout) {\n",
       "      root._bokeh_is_initializing = false;\n",
       "      root._bokeh_onload_callbacks = undefined;\n",
       "      console.log(\"Bokeh: BokehJS was loaded multiple times but one version failed to initialize.\");\n",
       "      load_or_wait();\n",
       "    } else if (root._bokeh_is_initializing || (typeof root._bokeh_is_initializing === \"undefined\" && root._bokeh_onload_callbacks !== undefined)) {\n",
       "      setTimeout(load_or_wait, 100);\n",
       "    } else {\n",
       "      root._bokeh_is_initializing = true\n",
       "      root._bokeh_onload_callbacks = []\n",
       "      var bokeh_loaded = Bokeh != null && (Bokeh.version === py_version || (Bokeh.versions !== undefined && Bokeh.versions.has(py_version)));\n",
       "      if (!reloading && !bokeh_loaded) {\n",
       "\troot.Bokeh = undefined;\n",
       "      }\n",
       "      load_libs(css_urls, js_urls, js_modules, js_exports, function() {\n",
       "\tconsole.debug(\"Bokeh: BokehJS plotting callback run at\", now());\n",
       "\trun_inline_js();\n",
       "      });\n",
       "    }\n",
       "  }\n",
       "  // Give older versions of the autoload script a head-start to ensure\n",
       "  // they initialize before we start loading newer version.\n",
       "  setTimeout(load_or_wait, 100)\n",
       "}(window));"
      ],
      "application/vnd.holoviews_load.v0+json": "(function(root) {\n  function now() {\n    return new Date();\n  }\n\n  var force = true;\n  var py_version = '3.4.2'.replace('rc', '-rc.').replace('.dev', '-dev.');\n  var reloading = false;\n  var Bokeh = root.Bokeh;\n\n  if (typeof (root._bokeh_timeout) === \"undefined\" || force) {\n    root._bokeh_timeout = Date.now() + 5000;\n    root._bokeh_failed_load = false;\n  }\n\n  function run_callbacks() {\n    try {\n      root._bokeh_onload_callbacks.forEach(function(callback) {\n        if (callback != null)\n          callback();\n      });\n    } finally {\n      delete root._bokeh_onload_callbacks;\n    }\n    console.debug(\"Bokeh: all callbacks have finished\");\n  }\n\n  function load_libs(css_urls, js_urls, js_modules, js_exports, callback) {\n    if (css_urls == null) css_urls = [];\n    if (js_urls == null) js_urls = [];\n    if (js_modules == null) js_modules = [];\n    if (js_exports == null) js_exports = {};\n\n    root._bokeh_onload_callbacks.push(callback);\n\n    if (root._bokeh_is_loading > 0) {\n      console.debug(\"Bokeh: BokehJS is being loaded, scheduling callback at\", now());\n      return null;\n    }\n    if (js_urls.length === 0 && js_modules.length === 0 && Object.keys(js_exports).length === 0) {\n      run_callbacks();\n      return null;\n    }\n    if (!reloading) {\n      console.debug(\"Bokeh: BokehJS not loaded, scheduling load and callback at\", now());\n    }\n\n    function on_load() {\n      root._bokeh_is_loading--;\n      if (root._bokeh_is_loading === 0) {\n        console.debug(\"Bokeh: all BokehJS libraries/stylesheets loaded\");\n        run_callbacks()\n      }\n    }\n    window._bokeh_on_load = on_load\n\n    function on_error() {\n      console.error(\"failed to load \" + url);\n    }\n\n    var skip = [];\n    if (window.requirejs) {\n      window.requirejs.config({'packages': {}, 'paths': {}, 'shim': {}});\n      root._bokeh_is_loading = css_urls.length + 0;\n    } else {\n      root._bokeh_is_loading = css_urls.length + js_urls.length + js_modules.length + Object.keys(js_exports).length;\n    }\n\n    var existing_stylesheets = []\n    var links = document.getElementsByTagName('link')\n    for (var i = 0; i < links.length; i++) {\n      var link = links[i]\n      if (link.href != null) {\n\texisting_stylesheets.push(link.href)\n      }\n    }\n    for (var i = 0; i < css_urls.length; i++) {\n      var url = css_urls[i];\n      if (existing_stylesheets.indexOf(url) !== -1) {\n\ton_load()\n\tcontinue;\n      }\n      const element = document.createElement(\"link\");\n      element.onload = on_load;\n      element.onerror = on_error;\n      element.rel = \"stylesheet\";\n      element.type = \"text/css\";\n      element.href = url;\n      console.debug(\"Bokeh: injecting link tag for BokehJS stylesheet: \", url);\n      document.body.appendChild(element);\n    }    var existing_scripts = []\n    var scripts = document.getElementsByTagName('script')\n    for (var i = 0; i < scripts.length; i++) {\n      var script = scripts[i]\n      if (script.src != null) {\n\texisting_scripts.push(script.src)\n      }\n    }\n    for (var i = 0; i < js_urls.length; i++) {\n      var url = js_urls[i];\n      if (skip.indexOf(url) !== -1 || existing_scripts.indexOf(url) !== -1) {\n\tif (!window.requirejs) {\n\t  on_load();\n\t}\n\tcontinue;\n      }\n      var element = document.createElement('script');\n      element.onload = on_load;\n      element.onerror = on_error;\n      element.async = false;\n      element.src = url;\n      console.debug(\"Bokeh: injecting script tag for BokehJS library: \", url);\n      document.head.appendChild(element);\n    }\n    for (var i = 0; i < js_modules.length; i++) {\n      var url = js_modules[i];\n      if (skip.indexOf(url) !== -1 || existing_scripts.indexOf(url) !== -1) {\n\tif (!window.requirejs) {\n\t  on_load();\n\t}\n\tcontinue;\n      }\n      var element = document.createElement('script');\n      element.onload = on_load;\n      element.onerror = on_error;\n      element.async = false;\n      element.src = url;\n      element.type = \"module\";\n      console.debug(\"Bokeh: injecting script tag for BokehJS library: \", url);\n      document.head.appendChild(element);\n    }\n    for (const name in js_exports) {\n      var url = js_exports[name];\n      if (skip.indexOf(url) >= 0 || root[name] != null) {\n\tif (!window.requirejs) {\n\t  on_load();\n\t}\n\tcontinue;\n      }\n      var element = document.createElement('script');\n      element.onerror = on_error;\n      element.async = false;\n      element.type = \"module\";\n      console.debug(\"Bokeh: injecting script tag for BokehJS library: \", url);\n      element.textContent = `\n      import ${name} from \"${url}\"\n      window.${name} = ${name}\n      window._bokeh_on_load()\n      `\n      document.head.appendChild(element);\n    }\n    if (!js_urls.length && !js_modules.length) {\n      on_load()\n    }\n  };\n\n  function inject_raw_css(css) {\n    const element = document.createElement(\"style\");\n    element.appendChild(document.createTextNode(css));\n    document.body.appendChild(element);\n  }\n\n  var js_urls = [\"https://cdn.bokeh.org/bokeh/release/bokeh-3.4.2.min.js\", \"https://cdn.bokeh.org/bokeh/release/bokeh-gl-3.4.2.min.js\", \"https://cdn.bokeh.org/bokeh/release/bokeh-widgets-3.4.2.min.js\", \"https://cdn.bokeh.org/bokeh/release/bokeh-tables-3.4.2.min.js\", \"https://cdn.holoviz.org/panel/1.4.5/dist/panel.min.js\"];\n  var js_modules = [];\n  var js_exports = {};\n  var css_urls = [];\n  var inline_js = [    function(Bokeh) {\n      Bokeh.set_log_level(\"info\");\n    },\nfunction(Bokeh) {} // ensure no trailing comma for IE\n  ];\n\n  function run_inline_js() {\n    if ((root.Bokeh !== undefined) || (force === true)) {\n      for (var i = 0; i < inline_js.length; i++) {\n\ttry {\n          inline_js[i].call(root, root.Bokeh);\n\t} catch(e) {\n\t  if (!reloading) {\n\t    throw e;\n\t  }\n\t}\n      }\n      // Cache old bokeh versions\n      if (Bokeh != undefined && !reloading) {\n\tvar NewBokeh = root.Bokeh;\n\tif (Bokeh.versions === undefined) {\n\t  Bokeh.versions = new Map();\n\t}\n\tif (NewBokeh.version !== Bokeh.version) {\n\t  Bokeh.versions.set(NewBokeh.version, NewBokeh)\n\t}\n\troot.Bokeh = Bokeh;\n      }} else if (Date.now() < root._bokeh_timeout) {\n      setTimeout(run_inline_js, 100);\n    } else if (!root._bokeh_failed_load) {\n      console.log(\"Bokeh: BokehJS failed to load within specified timeout.\");\n      root._bokeh_failed_load = true;\n    }\n    root._bokeh_is_initializing = false\n  }\n\n  function load_or_wait() {\n    // Implement a backoff loop that tries to ensure we do not load multiple\n    // versions of Bokeh and its dependencies at the same time.\n    // In recent versions we use the root._bokeh_is_initializing flag\n    // to determine whether there is an ongoing attempt to initialize\n    // bokeh, however for backward compatibility we also try to ensure\n    // that we do not start loading a newer (Panel>=1.0 and Bokeh>3) version\n    // before older versions are fully initialized.\n    if (root._bokeh_is_initializing && Date.now() > root._bokeh_timeout) {\n      root._bokeh_is_initializing = false;\n      root._bokeh_onload_callbacks = undefined;\n      console.log(\"Bokeh: BokehJS was loaded multiple times but one version failed to initialize.\");\n      load_or_wait();\n    } else if (root._bokeh_is_initializing || (typeof root._bokeh_is_initializing === \"undefined\" && root._bokeh_onload_callbacks !== undefined)) {\n      setTimeout(load_or_wait, 100);\n    } else {\n      root._bokeh_is_initializing = true\n      root._bokeh_onload_callbacks = []\n      var bokeh_loaded = Bokeh != null && (Bokeh.version === py_version || (Bokeh.versions !== undefined && Bokeh.versions.has(py_version)));\n      if (!reloading && !bokeh_loaded) {\n\troot.Bokeh = undefined;\n      }\n      load_libs(css_urls, js_urls, js_modules, js_exports, function() {\n\tconsole.debug(\"Bokeh: BokehJS plotting callback run at\", now());\n\trun_inline_js();\n      });\n    }\n  }\n  // Give older versions of the autoload script a head-start to ensure\n  // they initialize before we start loading newer version.\n  setTimeout(load_or_wait, 100)\n}(window));"
     },
     "metadata": {},
     "output_type": "display_data"
    },
    {
     "data": {
      "application/javascript": [
       "\n",
       "if ((window.PyViz === undefined) || (window.PyViz instanceof HTMLElement)) {\n",
       "  window.PyViz = {comms: {}, comm_status:{}, kernels:{}, receivers: {}, plot_index: []}\n",
       "}\n",
       "\n",
       "\n",
       "    function JupyterCommManager() {\n",
       "    }\n",
       "\n",
       "    JupyterCommManager.prototype.register_target = function(plot_id, comm_id, msg_handler) {\n",
       "      if (window.comm_manager || ((window.Jupyter !== undefined) && (Jupyter.notebook.kernel != null))) {\n",
       "        var comm_manager = window.comm_manager || Jupyter.notebook.kernel.comm_manager;\n",
       "        comm_manager.register_target(comm_id, function(comm) {\n",
       "          comm.on_msg(msg_handler);\n",
       "        });\n",
       "      } else if ((plot_id in window.PyViz.kernels) && (window.PyViz.kernels[plot_id])) {\n",
       "        window.PyViz.kernels[plot_id].registerCommTarget(comm_id, function(comm) {\n",
       "          comm.onMsg = msg_handler;\n",
       "        });\n",
       "      } else if (typeof google != 'undefined' && google.colab.kernel != null) {\n",
       "        google.colab.kernel.comms.registerTarget(comm_id, (comm) => {\n",
       "          var messages = comm.messages[Symbol.asyncIterator]();\n",
       "          function processIteratorResult(result) {\n",
       "            var message = result.value;\n",
       "            console.log(message)\n",
       "            var content = {data: message.data, comm_id};\n",
       "            var buffers = []\n",
       "            for (var buffer of message.buffers || []) {\n",
       "              buffers.push(new DataView(buffer))\n",
       "            }\n",
       "            var metadata = message.metadata || {};\n",
       "            var msg = {content, buffers, metadata}\n",
       "            msg_handler(msg);\n",
       "            return messages.next().then(processIteratorResult);\n",
       "          }\n",
       "          return messages.next().then(processIteratorResult);\n",
       "        })\n",
       "      }\n",
       "    }\n",
       "\n",
       "    JupyterCommManager.prototype.get_client_comm = function(plot_id, comm_id, msg_handler) {\n",
       "      if (comm_id in window.PyViz.comms) {\n",
       "        return window.PyViz.comms[comm_id];\n",
       "      } else if (window.comm_manager || ((window.Jupyter !== undefined) && (Jupyter.notebook.kernel != null))) {\n",
       "        var comm_manager = window.comm_manager || Jupyter.notebook.kernel.comm_manager;\n",
       "        var comm = comm_manager.new_comm(comm_id, {}, {}, {}, comm_id);\n",
       "        if (msg_handler) {\n",
       "          comm.on_msg(msg_handler);\n",
       "        }\n",
       "      } else if ((plot_id in window.PyViz.kernels) && (window.PyViz.kernels[plot_id])) {\n",
       "        var comm = window.PyViz.kernels[plot_id].connectToComm(comm_id);\n",
       "        comm.open();\n",
       "        if (msg_handler) {\n",
       "          comm.onMsg = msg_handler;\n",
       "        }\n",
       "      } else if (typeof google != 'undefined' && google.colab.kernel != null) {\n",
       "        var comm_promise = google.colab.kernel.comms.open(comm_id)\n",
       "        comm_promise.then((comm) => {\n",
       "          window.PyViz.comms[comm_id] = comm;\n",
       "          if (msg_handler) {\n",
       "            var messages = comm.messages[Symbol.asyncIterator]();\n",
       "            function processIteratorResult(result) {\n",
       "              var message = result.value;\n",
       "              var content = {data: message.data};\n",
       "              var metadata = message.metadata || {comm_id};\n",
       "              var msg = {content, metadata}\n",
       "              msg_handler(msg);\n",
       "              return messages.next().then(processIteratorResult);\n",
       "            }\n",
       "            return messages.next().then(processIteratorResult);\n",
       "          }\n",
       "        })\n",
       "        var sendClosure = (data, metadata, buffers, disposeOnDone) => {\n",
       "          return comm_promise.then((comm) => {\n",
       "            comm.send(data, metadata, buffers, disposeOnDone);\n",
       "          });\n",
       "        };\n",
       "        var comm = {\n",
       "          send: sendClosure\n",
       "        };\n",
       "      }\n",
       "      window.PyViz.comms[comm_id] = comm;\n",
       "      return comm;\n",
       "    }\n",
       "    window.PyViz.comm_manager = new JupyterCommManager();\n",
       "    \n",
       "\n",
       "\n",
       "var JS_MIME_TYPE = 'application/javascript';\n",
       "var HTML_MIME_TYPE = 'text/html';\n",
       "var EXEC_MIME_TYPE = 'application/vnd.holoviews_exec.v0+json';\n",
       "var CLASS_NAME = 'output';\n",
       "\n",
       "/**\n",
       " * Render data to the DOM node\n",
       " */\n",
       "function render(props, node) {\n",
       "  var div = document.createElement(\"div\");\n",
       "  var script = document.createElement(\"script\");\n",
       "  node.appendChild(div);\n",
       "  node.appendChild(script);\n",
       "}\n",
       "\n",
       "/**\n",
       " * Handle when a new output is added\n",
       " */\n",
       "function handle_add_output(event, handle) {\n",
       "  var output_area = handle.output_area;\n",
       "  var output = handle.output;\n",
       "  if ((output.data == undefined) || (!output.data.hasOwnProperty(EXEC_MIME_TYPE))) {\n",
       "    return\n",
       "  }\n",
       "  var id = output.metadata[EXEC_MIME_TYPE][\"id\"];\n",
       "  var toinsert = output_area.element.find(\".\" + CLASS_NAME.split(' ')[0]);\n",
       "  if (id !== undefined) {\n",
       "    var nchildren = toinsert.length;\n",
       "    var html_node = toinsert[nchildren-1].children[0];\n",
       "    html_node.innerHTML = output.data[HTML_MIME_TYPE];\n",
       "    var scripts = [];\n",
       "    var nodelist = html_node.querySelectorAll(\"script\");\n",
       "    for (var i in nodelist) {\n",
       "      if (nodelist.hasOwnProperty(i)) {\n",
       "        scripts.push(nodelist[i])\n",
       "      }\n",
       "    }\n",
       "\n",
       "    scripts.forEach( function (oldScript) {\n",
       "      var newScript = document.createElement(\"script\");\n",
       "      var attrs = [];\n",
       "      var nodemap = oldScript.attributes;\n",
       "      for (var j in nodemap) {\n",
       "        if (nodemap.hasOwnProperty(j)) {\n",
       "          attrs.push(nodemap[j])\n",
       "        }\n",
       "      }\n",
       "      attrs.forEach(function(attr) { newScript.setAttribute(attr.name, attr.value) });\n",
       "      newScript.appendChild(document.createTextNode(oldScript.innerHTML));\n",
       "      oldScript.parentNode.replaceChild(newScript, oldScript);\n",
       "    });\n",
       "    if (JS_MIME_TYPE in output.data) {\n",
       "      toinsert[nchildren-1].children[1].textContent = output.data[JS_MIME_TYPE];\n",
       "    }\n",
       "    output_area._hv_plot_id = id;\n",
       "    if ((window.Bokeh !== undefined) && (id in Bokeh.index)) {\n",
       "      window.PyViz.plot_index[id] = Bokeh.index[id];\n",
       "    } else {\n",
       "      window.PyViz.plot_index[id] = null;\n",
       "    }\n",
       "  } else if (output.metadata[EXEC_MIME_TYPE][\"server_id\"] !== undefined) {\n",
       "    var bk_div = document.createElement(\"div\");\n",
       "    bk_div.innerHTML = output.data[HTML_MIME_TYPE];\n",
       "    var script_attrs = bk_div.children[0].attributes;\n",
       "    for (var i = 0; i < script_attrs.length; i++) {\n",
       "      toinsert[toinsert.length - 1].childNodes[1].setAttribute(script_attrs[i].name, script_attrs[i].value);\n",
       "    }\n",
       "    // store reference to server id on output_area\n",
       "    output_area._bokeh_server_id = output.metadata[EXEC_MIME_TYPE][\"server_id\"];\n",
       "  }\n",
       "}\n",
       "\n",
       "/**\n",
       " * Handle when an output is cleared or removed\n",
       " */\n",
       "function handle_clear_output(event, handle) {\n",
       "  var id = handle.cell.output_area._hv_plot_id;\n",
       "  var server_id = handle.cell.output_area._bokeh_server_id;\n",
       "  if (((id === undefined) || !(id in PyViz.plot_index)) && (server_id !== undefined)) { return; }\n",
       "  var comm = window.PyViz.comm_manager.get_client_comm(\"hv-extension-comm\", \"hv-extension-comm\", function () {});\n",
       "  if (server_id !== null) {\n",
       "    comm.send({event_type: 'server_delete', 'id': server_id});\n",
       "    return;\n",
       "  } else if (comm !== null) {\n",
       "    comm.send({event_type: 'delete', 'id': id});\n",
       "  }\n",
       "  delete PyViz.plot_index[id];\n",
       "  if ((window.Bokeh !== undefined) & (id in window.Bokeh.index)) {\n",
       "    var doc = window.Bokeh.index[id].model.document\n",
       "    doc.clear();\n",
       "    const i = window.Bokeh.documents.indexOf(doc);\n",
       "    if (i > -1) {\n",
       "      window.Bokeh.documents.splice(i, 1);\n",
       "    }\n",
       "  }\n",
       "}\n",
       "\n",
       "/**\n",
       " * Handle kernel restart event\n",
       " */\n",
       "function handle_kernel_cleanup(event, handle) {\n",
       "  delete PyViz.comms[\"hv-extension-comm\"];\n",
       "  window.PyViz.plot_index = {}\n",
       "}\n",
       "\n",
       "/**\n",
       " * Handle update_display_data messages\n",
       " */\n",
       "function handle_update_output(event, handle) {\n",
       "  handle_clear_output(event, {cell: {output_area: handle.output_area}})\n",
       "  handle_add_output(event, handle)\n",
       "}\n",
       "\n",
       "function register_renderer(events, OutputArea) {\n",
       "  function append_mime(data, metadata, element) {\n",
       "    // create a DOM node to render to\n",
       "    var toinsert = this.create_output_subarea(\n",
       "    metadata,\n",
       "    CLASS_NAME,\n",
       "    EXEC_MIME_TYPE\n",
       "    );\n",
       "    this.keyboard_manager.register_events(toinsert);\n",
       "    // Render to node\n",
       "    var props = {data: data, metadata: metadata[EXEC_MIME_TYPE]};\n",
       "    render(props, toinsert[0]);\n",
       "    element.append(toinsert);\n",
       "    return toinsert\n",
       "  }\n",
       "\n",
       "  events.on('output_added.OutputArea', handle_add_output);\n",
       "  events.on('output_updated.OutputArea', handle_update_output);\n",
       "  events.on('clear_output.CodeCell', handle_clear_output);\n",
       "  events.on('delete.Cell', handle_clear_output);\n",
       "  events.on('kernel_ready.Kernel', handle_kernel_cleanup);\n",
       "\n",
       "  OutputArea.prototype.register_mime_type(EXEC_MIME_TYPE, append_mime, {\n",
       "    safe: true,\n",
       "    index: 0\n",
       "  });\n",
       "}\n",
       "\n",
       "if (window.Jupyter !== undefined) {\n",
       "  try {\n",
       "    var events = require('base/js/events');\n",
       "    var OutputArea = require('notebook/js/outputarea').OutputArea;\n",
       "    if (OutputArea.prototype.mime_types().indexOf(EXEC_MIME_TYPE) == -1) {\n",
       "      register_renderer(events, OutputArea);\n",
       "    }\n",
       "  } catch(err) {\n",
       "  }\n",
       "}\n"
      ],
      "application/vnd.holoviews_load.v0+json": "\nif ((window.PyViz === undefined) || (window.PyViz instanceof HTMLElement)) {\n  window.PyViz = {comms: {}, comm_status:{}, kernels:{}, receivers: {}, plot_index: []}\n}\n\n\n    function JupyterCommManager() {\n    }\n\n    JupyterCommManager.prototype.register_target = function(plot_id, comm_id, msg_handler) {\n      if (window.comm_manager || ((window.Jupyter !== undefined) && (Jupyter.notebook.kernel != null))) {\n        var comm_manager = window.comm_manager || Jupyter.notebook.kernel.comm_manager;\n        comm_manager.register_target(comm_id, function(comm) {\n          comm.on_msg(msg_handler);\n        });\n      } else if ((plot_id in window.PyViz.kernels) && (window.PyViz.kernels[plot_id])) {\n        window.PyViz.kernels[plot_id].registerCommTarget(comm_id, function(comm) {\n          comm.onMsg = msg_handler;\n        });\n      } else if (typeof google != 'undefined' && google.colab.kernel != null) {\n        google.colab.kernel.comms.registerTarget(comm_id, (comm) => {\n          var messages = comm.messages[Symbol.asyncIterator]();\n          function processIteratorResult(result) {\n            var message = result.value;\n            console.log(message)\n            var content = {data: message.data, comm_id};\n            var buffers = []\n            for (var buffer of message.buffers || []) {\n              buffers.push(new DataView(buffer))\n            }\n            var metadata = message.metadata || {};\n            var msg = {content, buffers, metadata}\n            msg_handler(msg);\n            return messages.next().then(processIteratorResult);\n          }\n          return messages.next().then(processIteratorResult);\n        })\n      }\n    }\n\n    JupyterCommManager.prototype.get_client_comm = function(plot_id, comm_id, msg_handler) {\n      if (comm_id in window.PyViz.comms) {\n        return window.PyViz.comms[comm_id];\n      } else if (window.comm_manager || ((window.Jupyter !== undefined) && (Jupyter.notebook.kernel != null))) {\n        var comm_manager = window.comm_manager || Jupyter.notebook.kernel.comm_manager;\n        var comm = comm_manager.new_comm(comm_id, {}, {}, {}, comm_id);\n        if (msg_handler) {\n          comm.on_msg(msg_handler);\n        }\n      } else if ((plot_id in window.PyViz.kernels) && (window.PyViz.kernels[plot_id])) {\n        var comm = window.PyViz.kernels[plot_id].connectToComm(comm_id);\n        comm.open();\n        if (msg_handler) {\n          comm.onMsg = msg_handler;\n        }\n      } else if (typeof google != 'undefined' && google.colab.kernel != null) {\n        var comm_promise = google.colab.kernel.comms.open(comm_id)\n        comm_promise.then((comm) => {\n          window.PyViz.comms[comm_id] = comm;\n          if (msg_handler) {\n            var messages = comm.messages[Symbol.asyncIterator]();\n            function processIteratorResult(result) {\n              var message = result.value;\n              var content = {data: message.data};\n              var metadata = message.metadata || {comm_id};\n              var msg = {content, metadata}\n              msg_handler(msg);\n              return messages.next().then(processIteratorResult);\n            }\n            return messages.next().then(processIteratorResult);\n          }\n        })\n        var sendClosure = (data, metadata, buffers, disposeOnDone) => {\n          return comm_promise.then((comm) => {\n            comm.send(data, metadata, buffers, disposeOnDone);\n          });\n        };\n        var comm = {\n          send: sendClosure\n        };\n      }\n      window.PyViz.comms[comm_id] = comm;\n      return comm;\n    }\n    window.PyViz.comm_manager = new JupyterCommManager();\n    \n\n\nvar JS_MIME_TYPE = 'application/javascript';\nvar HTML_MIME_TYPE = 'text/html';\nvar EXEC_MIME_TYPE = 'application/vnd.holoviews_exec.v0+json';\nvar CLASS_NAME = 'output';\n\n/**\n * Render data to the DOM node\n */\nfunction render(props, node) {\n  var div = document.createElement(\"div\");\n  var script = document.createElement(\"script\");\n  node.appendChild(div);\n  node.appendChild(script);\n}\n\n/**\n * Handle when a new output is added\n */\nfunction handle_add_output(event, handle) {\n  var output_area = handle.output_area;\n  var output = handle.output;\n  if ((output.data == undefined) || (!output.data.hasOwnProperty(EXEC_MIME_TYPE))) {\n    return\n  }\n  var id = output.metadata[EXEC_MIME_TYPE][\"id\"];\n  var toinsert = output_area.element.find(\".\" + CLASS_NAME.split(' ')[0]);\n  if (id !== undefined) {\n    var nchildren = toinsert.length;\n    var html_node = toinsert[nchildren-1].children[0];\n    html_node.innerHTML = output.data[HTML_MIME_TYPE];\n    var scripts = [];\n    var nodelist = html_node.querySelectorAll(\"script\");\n    for (var i in nodelist) {\n      if (nodelist.hasOwnProperty(i)) {\n        scripts.push(nodelist[i])\n      }\n    }\n\n    scripts.forEach( function (oldScript) {\n      var newScript = document.createElement(\"script\");\n      var attrs = [];\n      var nodemap = oldScript.attributes;\n      for (var j in nodemap) {\n        if (nodemap.hasOwnProperty(j)) {\n          attrs.push(nodemap[j])\n        }\n      }\n      attrs.forEach(function(attr) { newScript.setAttribute(attr.name, attr.value) });\n      newScript.appendChild(document.createTextNode(oldScript.innerHTML));\n      oldScript.parentNode.replaceChild(newScript, oldScript);\n    });\n    if (JS_MIME_TYPE in output.data) {\n      toinsert[nchildren-1].children[1].textContent = output.data[JS_MIME_TYPE];\n    }\n    output_area._hv_plot_id = id;\n    if ((window.Bokeh !== undefined) && (id in Bokeh.index)) {\n      window.PyViz.plot_index[id] = Bokeh.index[id];\n    } else {\n      window.PyViz.plot_index[id] = null;\n    }\n  } else if (output.metadata[EXEC_MIME_TYPE][\"server_id\"] !== undefined) {\n    var bk_div = document.createElement(\"div\");\n    bk_div.innerHTML = output.data[HTML_MIME_TYPE];\n    var script_attrs = bk_div.children[0].attributes;\n    for (var i = 0; i < script_attrs.length; i++) {\n      toinsert[toinsert.length - 1].childNodes[1].setAttribute(script_attrs[i].name, script_attrs[i].value);\n    }\n    // store reference to server id on output_area\n    output_area._bokeh_server_id = output.metadata[EXEC_MIME_TYPE][\"server_id\"];\n  }\n}\n\n/**\n * Handle when an output is cleared or removed\n */\nfunction handle_clear_output(event, handle) {\n  var id = handle.cell.output_area._hv_plot_id;\n  var server_id = handle.cell.output_area._bokeh_server_id;\n  if (((id === undefined) || !(id in PyViz.plot_index)) && (server_id !== undefined)) { return; }\n  var comm = window.PyViz.comm_manager.get_client_comm(\"hv-extension-comm\", \"hv-extension-comm\", function () {});\n  if (server_id !== null) {\n    comm.send({event_type: 'server_delete', 'id': server_id});\n    return;\n  } else if (comm !== null) {\n    comm.send({event_type: 'delete', 'id': id});\n  }\n  delete PyViz.plot_index[id];\n  if ((window.Bokeh !== undefined) & (id in window.Bokeh.index)) {\n    var doc = window.Bokeh.index[id].model.document\n    doc.clear();\n    const i = window.Bokeh.documents.indexOf(doc);\n    if (i > -1) {\n      window.Bokeh.documents.splice(i, 1);\n    }\n  }\n}\n\n/**\n * Handle kernel restart event\n */\nfunction handle_kernel_cleanup(event, handle) {\n  delete PyViz.comms[\"hv-extension-comm\"];\n  window.PyViz.plot_index = {}\n}\n\n/**\n * Handle update_display_data messages\n */\nfunction handle_update_output(event, handle) {\n  handle_clear_output(event, {cell: {output_area: handle.output_area}})\n  handle_add_output(event, handle)\n}\n\nfunction register_renderer(events, OutputArea) {\n  function append_mime(data, metadata, element) {\n    // create a DOM node to render to\n    var toinsert = this.create_output_subarea(\n    metadata,\n    CLASS_NAME,\n    EXEC_MIME_TYPE\n    );\n    this.keyboard_manager.register_events(toinsert);\n    // Render to node\n    var props = {data: data, metadata: metadata[EXEC_MIME_TYPE]};\n    render(props, toinsert[0]);\n    element.append(toinsert);\n    return toinsert\n  }\n\n  events.on('output_added.OutputArea', handle_add_output);\n  events.on('output_updated.OutputArea', handle_update_output);\n  events.on('clear_output.CodeCell', handle_clear_output);\n  events.on('delete.Cell', handle_clear_output);\n  events.on('kernel_ready.Kernel', handle_kernel_cleanup);\n\n  OutputArea.prototype.register_mime_type(EXEC_MIME_TYPE, append_mime, {\n    safe: true,\n    index: 0\n  });\n}\n\nif (window.Jupyter !== undefined) {\n  try {\n    var events = require('base/js/events');\n    var OutputArea = require('notebook/js/outputarea').OutputArea;\n    if (OutputArea.prototype.mime_types().indexOf(EXEC_MIME_TYPE) == -1) {\n      register_renderer(events, OutputArea);\n    }\n  } catch(err) {\n  }\n}\n"
     },
     "metadata": {},
     "output_type": "display_data"
    },
    {
     "data": {
      "text/html": [
       "<style>*[data-root-id],\n",
       "*[data-root-id] > * {\n",
       "  box-sizing: border-box;\n",
       "  font-family: var(--jp-ui-font-family);\n",
       "  font-size: var(--jp-ui-font-size1);\n",
       "  color: var(--vscode-editor-foreground, var(--jp-ui-font-color1));\n",
       "}\n",
       "\n",
       "/* Override VSCode background color */\n",
       ".cell-output-ipywidget-background:has(\n",
       "    > .cell-output-ipywidget-background > .lm-Widget > *[data-root-id]\n",
       "  ),\n",
       ".cell-output-ipywidget-background:has(> .lm-Widget > *[data-root-id]) {\n",
       "  background-color: transparent !important;\n",
       "}\n",
       "</style>"
      ]
     },
     "metadata": {},
     "output_type": "display_data"
    },
    {
     "data": {
      "application/vnd.holoviews_exec.v0+json": "",
      "text/html": [
       "<div id='fc0a7129-239a-483d-8d3b-ea2d7ecc7bcc'>\n",
       "  <div id=\"ee38f0a2-56dd-42b8-a1f5-3756b6608376\" data-root-id=\"fc0a7129-239a-483d-8d3b-ea2d7ecc7bcc\" style=\"display: contents;\"></div>\n",
       "</div>\n",
       "<script type=\"application/javascript\">(function(root) {\n",
       "  var docs_json = {\"b3b5fbad-d104-4737-b1e3-5b2a922c44db\":{\"version\":\"3.4.2\",\"title\":\"Bokeh Application\",\"roots\":[{\"type\":\"object\",\"name\":\"panel.models.browser.BrowserInfo\",\"id\":\"fc0a7129-239a-483d-8d3b-ea2d7ecc7bcc\"},{\"type\":\"object\",\"name\":\"panel.models.comm_manager.CommManager\",\"id\":\"046b9e69-98ea-4c72-8bb1-66acb5342741\",\"attributes\":{\"plot_id\":\"fc0a7129-239a-483d-8d3b-ea2d7ecc7bcc\",\"comm_id\":\"1fde9c1d644e4b348a219b85773bd10f\",\"client_comm_id\":\"25839d0501284112bfc25fab7b4bf47f\"}}],\"defs\":[{\"type\":\"model\",\"name\":\"ReactiveHTML1\"},{\"type\":\"model\",\"name\":\"FlexBox1\",\"properties\":[{\"name\":\"align_content\",\"kind\":\"Any\",\"default\":\"flex-start\"},{\"name\":\"align_items\",\"kind\":\"Any\",\"default\":\"flex-start\"},{\"name\":\"flex_direction\",\"kind\":\"Any\",\"default\":\"row\"},{\"name\":\"flex_wrap\",\"kind\":\"Any\",\"default\":\"wrap\"},{\"name\":\"gap\",\"kind\":\"Any\",\"default\":\"\"},{\"name\":\"justify_content\",\"kind\":\"Any\",\"default\":\"flex-start\"}]},{\"type\":\"model\",\"name\":\"FloatPanel1\",\"properties\":[{\"name\":\"config\",\"kind\":\"Any\",\"default\":{\"type\":\"map\"}},{\"name\":\"contained\",\"kind\":\"Any\",\"default\":true},{\"name\":\"position\",\"kind\":\"Any\",\"default\":\"right-top\"},{\"name\":\"offsetx\",\"kind\":\"Any\",\"default\":null},{\"name\":\"offsety\",\"kind\":\"Any\",\"default\":null},{\"name\":\"theme\",\"kind\":\"Any\",\"default\":\"primary\"},{\"name\":\"status\",\"kind\":\"Any\",\"default\":\"normalized\"}]},{\"type\":\"model\",\"name\":\"GridStack1\",\"properties\":[{\"name\":\"mode\",\"kind\":\"Any\",\"default\":\"warn\"},{\"name\":\"ncols\",\"kind\":\"Any\",\"default\":null},{\"name\":\"nrows\",\"kind\":\"Any\",\"default\":null},{\"name\":\"allow_resize\",\"kind\":\"Any\",\"default\":true},{\"name\":\"allow_drag\",\"kind\":\"Any\",\"default\":true},{\"name\":\"state\",\"kind\":\"Any\",\"default\":[]}]},{\"type\":\"model\",\"name\":\"drag1\",\"properties\":[{\"name\":\"slider_width\",\"kind\":\"Any\",\"default\":5},{\"name\":\"slider_color\",\"kind\":\"Any\",\"default\":\"black\"},{\"name\":\"value\",\"kind\":\"Any\",\"default\":50}]},{\"type\":\"model\",\"name\":\"click1\",\"properties\":[{\"name\":\"terminal_output\",\"kind\":\"Any\",\"default\":\"\"},{\"name\":\"debug_name\",\"kind\":\"Any\",\"default\":\"\"},{\"name\":\"clears\",\"kind\":\"Any\",\"default\":0}]},{\"type\":\"model\",\"name\":\"FastWrapper1\",\"properties\":[{\"name\":\"object\",\"kind\":\"Any\",\"default\":null},{\"name\":\"style\",\"kind\":\"Any\",\"default\":null}]},{\"type\":\"model\",\"name\":\"NotificationAreaBase1\",\"properties\":[{\"name\":\"js_events\",\"kind\":\"Any\",\"default\":{\"type\":\"map\"}},{\"name\":\"position\",\"kind\":\"Any\",\"default\":\"bottom-right\"},{\"name\":\"_clear\",\"kind\":\"Any\",\"default\":0}]},{\"type\":\"model\",\"name\":\"NotificationArea1\",\"properties\":[{\"name\":\"js_events\",\"kind\":\"Any\",\"default\":{\"type\":\"map\"}},{\"name\":\"notifications\",\"kind\":\"Any\",\"default\":[]},{\"name\":\"position\",\"kind\":\"Any\",\"default\":\"bottom-right\"},{\"name\":\"_clear\",\"kind\":\"Any\",\"default\":0},{\"name\":\"types\",\"kind\":\"Any\",\"default\":[{\"type\":\"map\",\"entries\":[[\"type\",\"warning\"],[\"background\",\"#ffc107\"],[\"icon\",{\"type\":\"map\",\"entries\":[[\"className\",\"fas fa-exclamation-triangle\"],[\"tagName\",\"i\"],[\"color\",\"white\"]]}]]},{\"type\":\"map\",\"entries\":[[\"type\",\"info\"],[\"background\",\"#007bff\"],[\"icon\",{\"type\":\"map\",\"entries\":[[\"className\",\"fas fa-info-circle\"],[\"tagName\",\"i\"],[\"color\",\"white\"]]}]]}]}]},{\"type\":\"model\",\"name\":\"Notification\",\"properties\":[{\"name\":\"background\",\"kind\":\"Any\",\"default\":null},{\"name\":\"duration\",\"kind\":\"Any\",\"default\":3000},{\"name\":\"icon\",\"kind\":\"Any\",\"default\":null},{\"name\":\"message\",\"kind\":\"Any\",\"default\":\"\"},{\"name\":\"notification_type\",\"kind\":\"Any\",\"default\":null},{\"name\":\"_destroyed\",\"kind\":\"Any\",\"default\":false}]},{\"type\":\"model\",\"name\":\"TemplateActions1\",\"properties\":[{\"name\":\"open_modal\",\"kind\":\"Any\",\"default\":0},{\"name\":\"close_modal\",\"kind\":\"Any\",\"default\":0}]},{\"type\":\"model\",\"name\":\"BootstrapTemplateActions1\",\"properties\":[{\"name\":\"open_modal\",\"kind\":\"Any\",\"default\":0},{\"name\":\"close_modal\",\"kind\":\"Any\",\"default\":0}]},{\"type\":\"model\",\"name\":\"TemplateEditor1\",\"properties\":[{\"name\":\"layout\",\"kind\":\"Any\",\"default\":[]}]},{\"type\":\"model\",\"name\":\"MaterialTemplateActions1\",\"properties\":[{\"name\":\"open_modal\",\"kind\":\"Any\",\"default\":0},{\"name\":\"close_modal\",\"kind\":\"Any\",\"default\":0}]},{\"type\":\"model\",\"name\":\"copy_to_clipboard1\",\"properties\":[{\"name\":\"fill\",\"kind\":\"Any\",\"default\":\"none\"},{\"name\":\"value\",\"kind\":\"Any\",\"default\":null}]}]}};\n",
       "  var render_items = [{\"docid\":\"b3b5fbad-d104-4737-b1e3-5b2a922c44db\",\"roots\":{\"fc0a7129-239a-483d-8d3b-ea2d7ecc7bcc\":\"ee38f0a2-56dd-42b8-a1f5-3756b6608376\"},\"root_ids\":[\"fc0a7129-239a-483d-8d3b-ea2d7ecc7bcc\"]}];\n",
       "  var docs = Object.values(docs_json)\n",
       "  if (!docs) {\n",
       "    return\n",
       "  }\n",
       "  const py_version = docs[0].version.replace('rc', '-rc.').replace('.dev', '-dev.')\n",
       "  async function embed_document(root) {\n",
       "    var Bokeh = get_bokeh(root)\n",
       "    await Bokeh.embed.embed_items_notebook(docs_json, render_items);\n",
       "    for (const render_item of render_items) {\n",
       "      for (const root_id of render_item.root_ids) {\n",
       "\tconst id_el = document.getElementById(root_id)\n",
       "\tif (id_el.children.length && id_el.children[0].hasAttribute('data-root-id')) {\n",
       "\t  const root_el = id_el.children[0]\n",
       "\t  root_el.id = root_el.id + '-rendered'\n",
       "\t  for (const child of root_el.children) {\n",
       "            // Ensure JupyterLab does not capture keyboard shortcuts\n",
       "            // see: https://jupyterlab.readthedocs.io/en/4.1.x/extension/notebook.html#keyboard-interaction-model\n",
       "\t    child.setAttribute('data-lm-suppress-shortcuts', 'true')\n",
       "\t  }\n",
       "\t}\n",
       "      }\n",
       "    }\n",
       "  }\n",
       "  function get_bokeh(root) {\n",
       "    if (root.Bokeh === undefined) {\n",
       "      return null\n",
       "    } else if (root.Bokeh.version !== py_version) {\n",
       "      if (root.Bokeh.versions === undefined || !root.Bokeh.versions.has(py_version)) {\n",
       "\treturn null\n",
       "      }\n",
       "      return root.Bokeh.versions.get(py_version);\n",
       "    } else if (root.Bokeh.version === py_version) {\n",
       "      return root.Bokeh\n",
       "    }\n",
       "    return null\n",
       "  }\n",
       "  function is_loaded(root) {\n",
       "    var Bokeh = get_bokeh(root)\n",
       "    return (Bokeh != null && Bokeh.Panel !== undefined)\n",
       "  }\n",
       "  if (is_loaded(root)) {\n",
       "    embed_document(root);\n",
       "  } else {\n",
       "    var attempts = 0;\n",
       "    var timer = setInterval(function(root) {\n",
       "      if (is_loaded(root)) {\n",
       "        clearInterval(timer);\n",
       "        embed_document(root);\n",
       "      } else if (document.readyState == \"complete\") {\n",
       "        attempts++;\n",
       "        if (attempts > 200) {\n",
       "          clearInterval(timer);\n",
       "\t  var Bokeh = get_bokeh(root)\n",
       "\t  if (Bokeh == null || Bokeh.Panel == null) {\n",
       "            console.warn(\"Panel: ERROR: Unable to run Panel code because Bokeh or Panel library is missing\");\n",
       "\t  } else {\n",
       "\t    console.warn(\"Panel: WARNING: Attempting to render but not all required libraries could be resolved.\")\n",
       "\t    embed_document(root)\n",
       "\t  }\n",
       "        }\n",
       "      }\n",
       "    }, 25, root)\n",
       "  }\n",
       "})(window);</script>"
      ]
     },
     "metadata": {
      "application/vnd.holoviews_exec.v0+json": {
       "id": "fc0a7129-239a-483d-8d3b-ea2d7ecc7bcc"
      }
     },
     "output_type": "display_data"
    },
    {
     "data": {
      "application/javascript": [
       "(function(root) {\n",
       "  function now() {\n",
       "    return new Date();\n",
       "  }\n",
       "\n",
       "  var force = true;\n",
       "  var py_version = '3.4.2'.replace('rc', '-rc.').replace('.dev', '-dev.');\n",
       "  var reloading = true;\n",
       "  var Bokeh = root.Bokeh;\n",
       "\n",
       "  if (typeof (root._bokeh_timeout) === \"undefined\" || force) {\n",
       "    root._bokeh_timeout = Date.now() + 5000;\n",
       "    root._bokeh_failed_load = false;\n",
       "  }\n",
       "\n",
       "  function run_callbacks() {\n",
       "    try {\n",
       "      root._bokeh_onload_callbacks.forEach(function(callback) {\n",
       "        if (callback != null)\n",
       "          callback();\n",
       "      });\n",
       "    } finally {\n",
       "      delete root._bokeh_onload_callbacks;\n",
       "    }\n",
       "    console.debug(\"Bokeh: all callbacks have finished\");\n",
       "  }\n",
       "\n",
       "  function load_libs(css_urls, js_urls, js_modules, js_exports, callback) {\n",
       "    if (css_urls == null) css_urls = [];\n",
       "    if (js_urls == null) js_urls = [];\n",
       "    if (js_modules == null) js_modules = [];\n",
       "    if (js_exports == null) js_exports = {};\n",
       "\n",
       "    root._bokeh_onload_callbacks.push(callback);\n",
       "\n",
       "    if (root._bokeh_is_loading > 0) {\n",
       "      console.debug(\"Bokeh: BokehJS is being loaded, scheduling callback at\", now());\n",
       "      return null;\n",
       "    }\n",
       "    if (js_urls.length === 0 && js_modules.length === 0 && Object.keys(js_exports).length === 0) {\n",
       "      run_callbacks();\n",
       "      return null;\n",
       "    }\n",
       "    if (!reloading) {\n",
       "      console.debug(\"Bokeh: BokehJS not loaded, scheduling load and callback at\", now());\n",
       "    }\n",
       "\n",
       "    function on_load() {\n",
       "      root._bokeh_is_loading--;\n",
       "      if (root._bokeh_is_loading === 0) {\n",
       "        console.debug(\"Bokeh: all BokehJS libraries/stylesheets loaded\");\n",
       "        run_callbacks()\n",
       "      }\n",
       "    }\n",
       "    window._bokeh_on_load = on_load\n",
       "\n",
       "    function on_error() {\n",
       "      console.error(\"failed to load \" + url);\n",
       "    }\n",
       "\n",
       "    var skip = [];\n",
       "    if (window.requirejs) {\n",
       "      window.requirejs.config({'packages': {}, 'paths': {}, 'shim': {}});\n",
       "      root._bokeh_is_loading = css_urls.length + 0;\n",
       "    } else {\n",
       "      root._bokeh_is_loading = css_urls.length + js_urls.length + js_modules.length + Object.keys(js_exports).length;\n",
       "    }\n",
       "\n",
       "    var existing_stylesheets = []\n",
       "    var links = document.getElementsByTagName('link')\n",
       "    for (var i = 0; i < links.length; i++) {\n",
       "      var link = links[i]\n",
       "      if (link.href != null) {\n",
       "\texisting_stylesheets.push(link.href)\n",
       "      }\n",
       "    }\n",
       "    for (var i = 0; i < css_urls.length; i++) {\n",
       "      var url = css_urls[i];\n",
       "      if (existing_stylesheets.indexOf(url) !== -1) {\n",
       "\ton_load()\n",
       "\tcontinue;\n",
       "      }\n",
       "      const element = document.createElement(\"link\");\n",
       "      element.onload = on_load;\n",
       "      element.onerror = on_error;\n",
       "      element.rel = \"stylesheet\";\n",
       "      element.type = \"text/css\";\n",
       "      element.href = url;\n",
       "      console.debug(\"Bokeh: injecting link tag for BokehJS stylesheet: \", url);\n",
       "      document.body.appendChild(element);\n",
       "    }    var existing_scripts = []\n",
       "    var scripts = document.getElementsByTagName('script')\n",
       "    for (var i = 0; i < scripts.length; i++) {\n",
       "      var script = scripts[i]\n",
       "      if (script.src != null) {\n",
       "\texisting_scripts.push(script.src)\n",
       "      }\n",
       "    }\n",
       "    for (var i = 0; i < js_urls.length; i++) {\n",
       "      var url = js_urls[i];\n",
       "      if (skip.indexOf(url) !== -1 || existing_scripts.indexOf(url) !== -1) {\n",
       "\tif (!window.requirejs) {\n",
       "\t  on_load();\n",
       "\t}\n",
       "\tcontinue;\n",
       "      }\n",
       "      var element = document.createElement('script');\n",
       "      element.onload = on_load;\n",
       "      element.onerror = on_error;\n",
       "      element.async = false;\n",
       "      element.src = url;\n",
       "      console.debug(\"Bokeh: injecting script tag for BokehJS library: \", url);\n",
       "      document.head.appendChild(element);\n",
       "    }\n",
       "    for (var i = 0; i < js_modules.length; i++) {\n",
       "      var url = js_modules[i];\n",
       "      if (skip.indexOf(url) !== -1 || existing_scripts.indexOf(url) !== -1) {\n",
       "\tif (!window.requirejs) {\n",
       "\t  on_load();\n",
       "\t}\n",
       "\tcontinue;\n",
       "      }\n",
       "      var element = document.createElement('script');\n",
       "      element.onload = on_load;\n",
       "      element.onerror = on_error;\n",
       "      element.async = false;\n",
       "      element.src = url;\n",
       "      element.type = \"module\";\n",
       "      console.debug(\"Bokeh: injecting script tag for BokehJS library: \", url);\n",
       "      document.head.appendChild(element);\n",
       "    }\n",
       "    for (const name in js_exports) {\n",
       "      var url = js_exports[name];\n",
       "      if (skip.indexOf(url) >= 0 || root[name] != null) {\n",
       "\tif (!window.requirejs) {\n",
       "\t  on_load();\n",
       "\t}\n",
       "\tcontinue;\n",
       "      }\n",
       "      var element = document.createElement('script');\n",
       "      element.onerror = on_error;\n",
       "      element.async = false;\n",
       "      element.type = \"module\";\n",
       "      console.debug(\"Bokeh: injecting script tag for BokehJS library: \", url);\n",
       "      element.textContent = `\n",
       "      import ${name} from \"${url}\"\n",
       "      window.${name} = ${name}\n",
       "      window._bokeh_on_load()\n",
       "      `\n",
       "      document.head.appendChild(element);\n",
       "    }\n",
       "    if (!js_urls.length && !js_modules.length) {\n",
       "      on_load()\n",
       "    }\n",
       "  };\n",
       "\n",
       "  function inject_raw_css(css) {\n",
       "    const element = document.createElement(\"style\");\n",
       "    element.appendChild(document.createTextNode(css));\n",
       "    document.body.appendChild(element);\n",
       "  }\n",
       "\n",
       "  var js_urls = [];\n",
       "  var js_modules = [];\n",
       "  var js_exports = {};\n",
       "  var css_urls = [];\n",
       "  var inline_js = [    function(Bokeh) {\n",
       "      Bokeh.set_log_level(\"info\");\n",
       "    },\n",
       "function(Bokeh) {} // ensure no trailing comma for IE\n",
       "  ];\n",
       "\n",
       "  function run_inline_js() {\n",
       "    if ((root.Bokeh !== undefined) || (force === true)) {\n",
       "      for (var i = 0; i < inline_js.length; i++) {\n",
       "\ttry {\n",
       "          inline_js[i].call(root, root.Bokeh);\n",
       "\t} catch(e) {\n",
       "\t  if (!reloading) {\n",
       "\t    throw e;\n",
       "\t  }\n",
       "\t}\n",
       "      }\n",
       "      // Cache old bokeh versions\n",
       "      if (Bokeh != undefined && !reloading) {\n",
       "\tvar NewBokeh = root.Bokeh;\n",
       "\tif (Bokeh.versions === undefined) {\n",
       "\t  Bokeh.versions = new Map();\n",
       "\t}\n",
       "\tif (NewBokeh.version !== Bokeh.version) {\n",
       "\t  Bokeh.versions.set(NewBokeh.version, NewBokeh)\n",
       "\t}\n",
       "\troot.Bokeh = Bokeh;\n",
       "      }} else if (Date.now() < root._bokeh_timeout) {\n",
       "      setTimeout(run_inline_js, 100);\n",
       "    } else if (!root._bokeh_failed_load) {\n",
       "      console.log(\"Bokeh: BokehJS failed to load within specified timeout.\");\n",
       "      root._bokeh_failed_load = true;\n",
       "    }\n",
       "    root._bokeh_is_initializing = false\n",
       "  }\n",
       "\n",
       "  function load_or_wait() {\n",
       "    // Implement a backoff loop that tries to ensure we do not load multiple\n",
       "    // versions of Bokeh and its dependencies at the same time.\n",
       "    // In recent versions we use the root._bokeh_is_initializing flag\n",
       "    // to determine whether there is an ongoing attempt to initialize\n",
       "    // bokeh, however for backward compatibility we also try to ensure\n",
       "    // that we do not start loading a newer (Panel>=1.0 and Bokeh>3) version\n",
       "    // before older versions are fully initialized.\n",
       "    if (root._bokeh_is_initializing && Date.now() > root._bokeh_timeout) {\n",
       "      root._bokeh_is_initializing = false;\n",
       "      root._bokeh_onload_callbacks = undefined;\n",
       "      console.log(\"Bokeh: BokehJS was loaded multiple times but one version failed to initialize.\");\n",
       "      load_or_wait();\n",
       "    } else if (root._bokeh_is_initializing || (typeof root._bokeh_is_initializing === \"undefined\" && root._bokeh_onload_callbacks !== undefined)) {\n",
       "      setTimeout(load_or_wait, 100);\n",
       "    } else {\n",
       "      root._bokeh_is_initializing = true\n",
       "      root._bokeh_onload_callbacks = []\n",
       "      var bokeh_loaded = Bokeh != null && (Bokeh.version === py_version || (Bokeh.versions !== undefined && Bokeh.versions.has(py_version)));\n",
       "      if (!reloading && !bokeh_loaded) {\n",
       "\troot.Bokeh = undefined;\n",
       "      }\n",
       "      load_libs(css_urls, js_urls, js_modules, js_exports, function() {\n",
       "\tconsole.debug(\"Bokeh: BokehJS plotting callback run at\", now());\n",
       "\trun_inline_js();\n",
       "      });\n",
       "    }\n",
       "  }\n",
       "  // Give older versions of the autoload script a head-start to ensure\n",
       "  // they initialize before we start loading newer version.\n",
       "  setTimeout(load_or_wait, 100)\n",
       "}(window));"
      ],
      "application/vnd.holoviews_load.v0+json": "(function(root) {\n  function now() {\n    return new Date();\n  }\n\n  var force = true;\n  var py_version = '3.4.2'.replace('rc', '-rc.').replace('.dev', '-dev.');\n  var reloading = true;\n  var Bokeh = root.Bokeh;\n\n  if (typeof (root._bokeh_timeout) === \"undefined\" || force) {\n    root._bokeh_timeout = Date.now() + 5000;\n    root._bokeh_failed_load = false;\n  }\n\n  function run_callbacks() {\n    try {\n      root._bokeh_onload_callbacks.forEach(function(callback) {\n        if (callback != null)\n          callback();\n      });\n    } finally {\n      delete root._bokeh_onload_callbacks;\n    }\n    console.debug(\"Bokeh: all callbacks have finished\");\n  }\n\n  function load_libs(css_urls, js_urls, js_modules, js_exports, callback) {\n    if (css_urls == null) css_urls = [];\n    if (js_urls == null) js_urls = [];\n    if (js_modules == null) js_modules = [];\n    if (js_exports == null) js_exports = {};\n\n    root._bokeh_onload_callbacks.push(callback);\n\n    if (root._bokeh_is_loading > 0) {\n      console.debug(\"Bokeh: BokehJS is being loaded, scheduling callback at\", now());\n      return null;\n    }\n    if (js_urls.length === 0 && js_modules.length === 0 && Object.keys(js_exports).length === 0) {\n      run_callbacks();\n      return null;\n    }\n    if (!reloading) {\n      console.debug(\"Bokeh: BokehJS not loaded, scheduling load and callback at\", now());\n    }\n\n    function on_load() {\n      root._bokeh_is_loading--;\n      if (root._bokeh_is_loading === 0) {\n        console.debug(\"Bokeh: all BokehJS libraries/stylesheets loaded\");\n        run_callbacks()\n      }\n    }\n    window._bokeh_on_load = on_load\n\n    function on_error() {\n      console.error(\"failed to load \" + url);\n    }\n\n    var skip = [];\n    if (window.requirejs) {\n      window.requirejs.config({'packages': {}, 'paths': {}, 'shim': {}});\n      root._bokeh_is_loading = css_urls.length + 0;\n    } else {\n      root._bokeh_is_loading = css_urls.length + js_urls.length + js_modules.length + Object.keys(js_exports).length;\n    }\n\n    var existing_stylesheets = []\n    var links = document.getElementsByTagName('link')\n    for (var i = 0; i < links.length; i++) {\n      var link = links[i]\n      if (link.href != null) {\n\texisting_stylesheets.push(link.href)\n      }\n    }\n    for (var i = 0; i < css_urls.length; i++) {\n      var url = css_urls[i];\n      if (existing_stylesheets.indexOf(url) !== -1) {\n\ton_load()\n\tcontinue;\n      }\n      const element = document.createElement(\"link\");\n      element.onload = on_load;\n      element.onerror = on_error;\n      element.rel = \"stylesheet\";\n      element.type = \"text/css\";\n      element.href = url;\n      console.debug(\"Bokeh: injecting link tag for BokehJS stylesheet: \", url);\n      document.body.appendChild(element);\n    }    var existing_scripts = []\n    var scripts = document.getElementsByTagName('script')\n    for (var i = 0; i < scripts.length; i++) {\n      var script = scripts[i]\n      if (script.src != null) {\n\texisting_scripts.push(script.src)\n      }\n    }\n    for (var i = 0; i < js_urls.length; i++) {\n      var url = js_urls[i];\n      if (skip.indexOf(url) !== -1 || existing_scripts.indexOf(url) !== -1) {\n\tif (!window.requirejs) {\n\t  on_load();\n\t}\n\tcontinue;\n      }\n      var element = document.createElement('script');\n      element.onload = on_load;\n      element.onerror = on_error;\n      element.async = false;\n      element.src = url;\n      console.debug(\"Bokeh: injecting script tag for BokehJS library: \", url);\n      document.head.appendChild(element);\n    }\n    for (var i = 0; i < js_modules.length; i++) {\n      var url = js_modules[i];\n      if (skip.indexOf(url) !== -1 || existing_scripts.indexOf(url) !== -1) {\n\tif (!window.requirejs) {\n\t  on_load();\n\t}\n\tcontinue;\n      }\n      var element = document.createElement('script');\n      element.onload = on_load;\n      element.onerror = on_error;\n      element.async = false;\n      element.src = url;\n      element.type = \"module\";\n      console.debug(\"Bokeh: injecting script tag for BokehJS library: \", url);\n      document.head.appendChild(element);\n    }\n    for (const name in js_exports) {\n      var url = js_exports[name];\n      if (skip.indexOf(url) >= 0 || root[name] != null) {\n\tif (!window.requirejs) {\n\t  on_load();\n\t}\n\tcontinue;\n      }\n      var element = document.createElement('script');\n      element.onerror = on_error;\n      element.async = false;\n      element.type = \"module\";\n      console.debug(\"Bokeh: injecting script tag for BokehJS library: \", url);\n      element.textContent = `\n      import ${name} from \"${url}\"\n      window.${name} = ${name}\n      window._bokeh_on_load()\n      `\n      document.head.appendChild(element);\n    }\n    if (!js_urls.length && !js_modules.length) {\n      on_load()\n    }\n  };\n\n  function inject_raw_css(css) {\n    const element = document.createElement(\"style\");\n    element.appendChild(document.createTextNode(css));\n    document.body.appendChild(element);\n  }\n\n  var js_urls = [];\n  var js_modules = [];\n  var js_exports = {};\n  var css_urls = [];\n  var inline_js = [    function(Bokeh) {\n      Bokeh.set_log_level(\"info\");\n    },\nfunction(Bokeh) {} // ensure no trailing comma for IE\n  ];\n\n  function run_inline_js() {\n    if ((root.Bokeh !== undefined) || (force === true)) {\n      for (var i = 0; i < inline_js.length; i++) {\n\ttry {\n          inline_js[i].call(root, root.Bokeh);\n\t} catch(e) {\n\t  if (!reloading) {\n\t    throw e;\n\t  }\n\t}\n      }\n      // Cache old bokeh versions\n      if (Bokeh != undefined && !reloading) {\n\tvar NewBokeh = root.Bokeh;\n\tif (Bokeh.versions === undefined) {\n\t  Bokeh.versions = new Map();\n\t}\n\tif (NewBokeh.version !== Bokeh.version) {\n\t  Bokeh.versions.set(NewBokeh.version, NewBokeh)\n\t}\n\troot.Bokeh = Bokeh;\n      }} else if (Date.now() < root._bokeh_timeout) {\n      setTimeout(run_inline_js, 100);\n    } else if (!root._bokeh_failed_load) {\n      console.log(\"Bokeh: BokehJS failed to load within specified timeout.\");\n      root._bokeh_failed_load = true;\n    }\n    root._bokeh_is_initializing = false\n  }\n\n  function load_or_wait() {\n    // Implement a backoff loop that tries to ensure we do not load multiple\n    // versions of Bokeh and its dependencies at the same time.\n    // In recent versions we use the root._bokeh_is_initializing flag\n    // to determine whether there is an ongoing attempt to initialize\n    // bokeh, however for backward compatibility we also try to ensure\n    // that we do not start loading a newer (Panel>=1.0 and Bokeh>3) version\n    // before older versions are fully initialized.\n    if (root._bokeh_is_initializing && Date.now() > root._bokeh_timeout) {\n      root._bokeh_is_initializing = false;\n      root._bokeh_onload_callbacks = undefined;\n      console.log(\"Bokeh: BokehJS was loaded multiple times but one version failed to initialize.\");\n      load_or_wait();\n    } else if (root._bokeh_is_initializing || (typeof root._bokeh_is_initializing === \"undefined\" && root._bokeh_onload_callbacks !== undefined)) {\n      setTimeout(load_or_wait, 100);\n    } else {\n      root._bokeh_is_initializing = true\n      root._bokeh_onload_callbacks = []\n      var bokeh_loaded = Bokeh != null && (Bokeh.version === py_version || (Bokeh.versions !== undefined && Bokeh.versions.has(py_version)));\n      if (!reloading && !bokeh_loaded) {\n\troot.Bokeh = undefined;\n      }\n      load_libs(css_urls, js_urls, js_modules, js_exports, function() {\n\tconsole.debug(\"Bokeh: BokehJS plotting callback run at\", now());\n\trun_inline_js();\n      });\n    }\n  }\n  // Give older versions of the autoload script a head-start to ensure\n  // they initialize before we start loading newer version.\n  setTimeout(load_or_wait, 100)\n}(window));"
     },
     "metadata": {},
     "output_type": "display_data"
    },
    {
     "data": {
      "application/javascript": [
       "\n",
       "if ((window.PyViz === undefined) || (window.PyViz instanceof HTMLElement)) {\n",
       "  window.PyViz = {comms: {}, comm_status:{}, kernels:{}, receivers: {}, plot_index: []}\n",
       "}\n",
       "\n",
       "\n",
       "    function JupyterCommManager() {\n",
       "    }\n",
       "\n",
       "    JupyterCommManager.prototype.register_target = function(plot_id, comm_id, msg_handler) {\n",
       "      if (window.comm_manager || ((window.Jupyter !== undefined) && (Jupyter.notebook.kernel != null))) {\n",
       "        var comm_manager = window.comm_manager || Jupyter.notebook.kernel.comm_manager;\n",
       "        comm_manager.register_target(comm_id, function(comm) {\n",
       "          comm.on_msg(msg_handler);\n",
       "        });\n",
       "      } else if ((plot_id in window.PyViz.kernels) && (window.PyViz.kernels[plot_id])) {\n",
       "        window.PyViz.kernels[plot_id].registerCommTarget(comm_id, function(comm) {\n",
       "          comm.onMsg = msg_handler;\n",
       "        });\n",
       "      } else if (typeof google != 'undefined' && google.colab.kernel != null) {\n",
       "        google.colab.kernel.comms.registerTarget(comm_id, (comm) => {\n",
       "          var messages = comm.messages[Symbol.asyncIterator]();\n",
       "          function processIteratorResult(result) {\n",
       "            var message = result.value;\n",
       "            console.log(message)\n",
       "            var content = {data: message.data, comm_id};\n",
       "            var buffers = []\n",
       "            for (var buffer of message.buffers || []) {\n",
       "              buffers.push(new DataView(buffer))\n",
       "            }\n",
       "            var metadata = message.metadata || {};\n",
       "            var msg = {content, buffers, metadata}\n",
       "            msg_handler(msg);\n",
       "            return messages.next().then(processIteratorResult);\n",
       "          }\n",
       "          return messages.next().then(processIteratorResult);\n",
       "        })\n",
       "      }\n",
       "    }\n",
       "\n",
       "    JupyterCommManager.prototype.get_client_comm = function(plot_id, comm_id, msg_handler) {\n",
       "      if (comm_id in window.PyViz.comms) {\n",
       "        return window.PyViz.comms[comm_id];\n",
       "      } else if (window.comm_manager || ((window.Jupyter !== undefined) && (Jupyter.notebook.kernel != null))) {\n",
       "        var comm_manager = window.comm_manager || Jupyter.notebook.kernel.comm_manager;\n",
       "        var comm = comm_manager.new_comm(comm_id, {}, {}, {}, comm_id);\n",
       "        if (msg_handler) {\n",
       "          comm.on_msg(msg_handler);\n",
       "        }\n",
       "      } else if ((plot_id in window.PyViz.kernels) && (window.PyViz.kernels[plot_id])) {\n",
       "        var comm = window.PyViz.kernels[plot_id].connectToComm(comm_id);\n",
       "        comm.open();\n",
       "        if (msg_handler) {\n",
       "          comm.onMsg = msg_handler;\n",
       "        }\n",
       "      } else if (typeof google != 'undefined' && google.colab.kernel != null) {\n",
       "        var comm_promise = google.colab.kernel.comms.open(comm_id)\n",
       "        comm_promise.then((comm) => {\n",
       "          window.PyViz.comms[comm_id] = comm;\n",
       "          if (msg_handler) {\n",
       "            var messages = comm.messages[Symbol.asyncIterator]();\n",
       "            function processIteratorResult(result) {\n",
       "              var message = result.value;\n",
       "              var content = {data: message.data};\n",
       "              var metadata = message.metadata || {comm_id};\n",
       "              var msg = {content, metadata}\n",
       "              msg_handler(msg);\n",
       "              return messages.next().then(processIteratorResult);\n",
       "            }\n",
       "            return messages.next().then(processIteratorResult);\n",
       "          }\n",
       "        })\n",
       "        var sendClosure = (data, metadata, buffers, disposeOnDone) => {\n",
       "          return comm_promise.then((comm) => {\n",
       "            comm.send(data, metadata, buffers, disposeOnDone);\n",
       "          });\n",
       "        };\n",
       "        var comm = {\n",
       "          send: sendClosure\n",
       "        };\n",
       "      }\n",
       "      window.PyViz.comms[comm_id] = comm;\n",
       "      return comm;\n",
       "    }\n",
       "    window.PyViz.comm_manager = new JupyterCommManager();\n",
       "    \n",
       "\n",
       "\n",
       "var JS_MIME_TYPE = 'application/javascript';\n",
       "var HTML_MIME_TYPE = 'text/html';\n",
       "var EXEC_MIME_TYPE = 'application/vnd.holoviews_exec.v0+json';\n",
       "var CLASS_NAME = 'output';\n",
       "\n",
       "/**\n",
       " * Render data to the DOM node\n",
       " */\n",
       "function render(props, node) {\n",
       "  var div = document.createElement(\"div\");\n",
       "  var script = document.createElement(\"script\");\n",
       "  node.appendChild(div);\n",
       "  node.appendChild(script);\n",
       "}\n",
       "\n",
       "/**\n",
       " * Handle when a new output is added\n",
       " */\n",
       "function handle_add_output(event, handle) {\n",
       "  var output_area = handle.output_area;\n",
       "  var output = handle.output;\n",
       "  if ((output.data == undefined) || (!output.data.hasOwnProperty(EXEC_MIME_TYPE))) {\n",
       "    return\n",
       "  }\n",
       "  var id = output.metadata[EXEC_MIME_TYPE][\"id\"];\n",
       "  var toinsert = output_area.element.find(\".\" + CLASS_NAME.split(' ')[0]);\n",
       "  if (id !== undefined) {\n",
       "    var nchildren = toinsert.length;\n",
       "    var html_node = toinsert[nchildren-1].children[0];\n",
       "    html_node.innerHTML = output.data[HTML_MIME_TYPE];\n",
       "    var scripts = [];\n",
       "    var nodelist = html_node.querySelectorAll(\"script\");\n",
       "    for (var i in nodelist) {\n",
       "      if (nodelist.hasOwnProperty(i)) {\n",
       "        scripts.push(nodelist[i])\n",
       "      }\n",
       "    }\n",
       "\n",
       "    scripts.forEach( function (oldScript) {\n",
       "      var newScript = document.createElement(\"script\");\n",
       "      var attrs = [];\n",
       "      var nodemap = oldScript.attributes;\n",
       "      for (var j in nodemap) {\n",
       "        if (nodemap.hasOwnProperty(j)) {\n",
       "          attrs.push(nodemap[j])\n",
       "        }\n",
       "      }\n",
       "      attrs.forEach(function(attr) { newScript.setAttribute(attr.name, attr.value) });\n",
       "      newScript.appendChild(document.createTextNode(oldScript.innerHTML));\n",
       "      oldScript.parentNode.replaceChild(newScript, oldScript);\n",
       "    });\n",
       "    if (JS_MIME_TYPE in output.data) {\n",
       "      toinsert[nchildren-1].children[1].textContent = output.data[JS_MIME_TYPE];\n",
       "    }\n",
       "    output_area._hv_plot_id = id;\n",
       "    if ((window.Bokeh !== undefined) && (id in Bokeh.index)) {\n",
       "      window.PyViz.plot_index[id] = Bokeh.index[id];\n",
       "    } else {\n",
       "      window.PyViz.plot_index[id] = null;\n",
       "    }\n",
       "  } else if (output.metadata[EXEC_MIME_TYPE][\"server_id\"] !== undefined) {\n",
       "    var bk_div = document.createElement(\"div\");\n",
       "    bk_div.innerHTML = output.data[HTML_MIME_TYPE];\n",
       "    var script_attrs = bk_div.children[0].attributes;\n",
       "    for (var i = 0; i < script_attrs.length; i++) {\n",
       "      toinsert[toinsert.length - 1].childNodes[1].setAttribute(script_attrs[i].name, script_attrs[i].value);\n",
       "    }\n",
       "    // store reference to server id on output_area\n",
       "    output_area._bokeh_server_id = output.metadata[EXEC_MIME_TYPE][\"server_id\"];\n",
       "  }\n",
       "}\n",
       "\n",
       "/**\n",
       " * Handle when an output is cleared or removed\n",
       " */\n",
       "function handle_clear_output(event, handle) {\n",
       "  var id = handle.cell.output_area._hv_plot_id;\n",
       "  var server_id = handle.cell.output_area._bokeh_server_id;\n",
       "  if (((id === undefined) || !(id in PyViz.plot_index)) && (server_id !== undefined)) { return; }\n",
       "  var comm = window.PyViz.comm_manager.get_client_comm(\"hv-extension-comm\", \"hv-extension-comm\", function () {});\n",
       "  if (server_id !== null) {\n",
       "    comm.send({event_type: 'server_delete', 'id': server_id});\n",
       "    return;\n",
       "  } else if (comm !== null) {\n",
       "    comm.send({event_type: 'delete', 'id': id});\n",
       "  }\n",
       "  delete PyViz.plot_index[id];\n",
       "  if ((window.Bokeh !== undefined) & (id in window.Bokeh.index)) {\n",
       "    var doc = window.Bokeh.index[id].model.document\n",
       "    doc.clear();\n",
       "    const i = window.Bokeh.documents.indexOf(doc);\n",
       "    if (i > -1) {\n",
       "      window.Bokeh.documents.splice(i, 1);\n",
       "    }\n",
       "  }\n",
       "}\n",
       "\n",
       "/**\n",
       " * Handle kernel restart event\n",
       " */\n",
       "function handle_kernel_cleanup(event, handle) {\n",
       "  delete PyViz.comms[\"hv-extension-comm\"];\n",
       "  window.PyViz.plot_index = {}\n",
       "}\n",
       "\n",
       "/**\n",
       " * Handle update_display_data messages\n",
       " */\n",
       "function handle_update_output(event, handle) {\n",
       "  handle_clear_output(event, {cell: {output_area: handle.output_area}})\n",
       "  handle_add_output(event, handle)\n",
       "}\n",
       "\n",
       "function register_renderer(events, OutputArea) {\n",
       "  function append_mime(data, metadata, element) {\n",
       "    // create a DOM node to render to\n",
       "    var toinsert = this.create_output_subarea(\n",
       "    metadata,\n",
       "    CLASS_NAME,\n",
       "    EXEC_MIME_TYPE\n",
       "    );\n",
       "    this.keyboard_manager.register_events(toinsert);\n",
       "    // Render to node\n",
       "    var props = {data: data, metadata: metadata[EXEC_MIME_TYPE]};\n",
       "    render(props, toinsert[0]);\n",
       "    element.append(toinsert);\n",
       "    return toinsert\n",
       "  }\n",
       "\n",
       "  events.on('output_added.OutputArea', handle_add_output);\n",
       "  events.on('output_updated.OutputArea', handle_update_output);\n",
       "  events.on('clear_output.CodeCell', handle_clear_output);\n",
       "  events.on('delete.Cell', handle_clear_output);\n",
       "  events.on('kernel_ready.Kernel', handle_kernel_cleanup);\n",
       "\n",
       "  OutputArea.prototype.register_mime_type(EXEC_MIME_TYPE, append_mime, {\n",
       "    safe: true,\n",
       "    index: 0\n",
       "  });\n",
       "}\n",
       "\n",
       "if (window.Jupyter !== undefined) {\n",
       "  try {\n",
       "    var events = require('base/js/events');\n",
       "    var OutputArea = require('notebook/js/outputarea').OutputArea;\n",
       "    if (OutputArea.prototype.mime_types().indexOf(EXEC_MIME_TYPE) == -1) {\n",
       "      register_renderer(events, OutputArea);\n",
       "    }\n",
       "  } catch(err) {\n",
       "  }\n",
       "}\n"
      ],
      "application/vnd.holoviews_load.v0+json": "\nif ((window.PyViz === undefined) || (window.PyViz instanceof HTMLElement)) {\n  window.PyViz = {comms: {}, comm_status:{}, kernels:{}, receivers: {}, plot_index: []}\n}\n\n\n    function JupyterCommManager() {\n    }\n\n    JupyterCommManager.prototype.register_target = function(plot_id, comm_id, msg_handler) {\n      if (window.comm_manager || ((window.Jupyter !== undefined) && (Jupyter.notebook.kernel != null))) {\n        var comm_manager = window.comm_manager || Jupyter.notebook.kernel.comm_manager;\n        comm_manager.register_target(comm_id, function(comm) {\n          comm.on_msg(msg_handler);\n        });\n      } else if ((plot_id in window.PyViz.kernels) && (window.PyViz.kernels[plot_id])) {\n        window.PyViz.kernels[plot_id].registerCommTarget(comm_id, function(comm) {\n          comm.onMsg = msg_handler;\n        });\n      } else if (typeof google != 'undefined' && google.colab.kernel != null) {\n        google.colab.kernel.comms.registerTarget(comm_id, (comm) => {\n          var messages = comm.messages[Symbol.asyncIterator]();\n          function processIteratorResult(result) {\n            var message = result.value;\n            console.log(message)\n            var content = {data: message.data, comm_id};\n            var buffers = []\n            for (var buffer of message.buffers || []) {\n              buffers.push(new DataView(buffer))\n            }\n            var metadata = message.metadata || {};\n            var msg = {content, buffers, metadata}\n            msg_handler(msg);\n            return messages.next().then(processIteratorResult);\n          }\n          return messages.next().then(processIteratorResult);\n        })\n      }\n    }\n\n    JupyterCommManager.prototype.get_client_comm = function(plot_id, comm_id, msg_handler) {\n      if (comm_id in window.PyViz.comms) {\n        return window.PyViz.comms[comm_id];\n      } else if (window.comm_manager || ((window.Jupyter !== undefined) && (Jupyter.notebook.kernel != null))) {\n        var comm_manager = window.comm_manager || Jupyter.notebook.kernel.comm_manager;\n        var comm = comm_manager.new_comm(comm_id, {}, {}, {}, comm_id);\n        if (msg_handler) {\n          comm.on_msg(msg_handler);\n        }\n      } else if ((plot_id in window.PyViz.kernels) && (window.PyViz.kernels[plot_id])) {\n        var comm = window.PyViz.kernels[plot_id].connectToComm(comm_id);\n        comm.open();\n        if (msg_handler) {\n          comm.onMsg = msg_handler;\n        }\n      } else if (typeof google != 'undefined' && google.colab.kernel != null) {\n        var comm_promise = google.colab.kernel.comms.open(comm_id)\n        comm_promise.then((comm) => {\n          window.PyViz.comms[comm_id] = comm;\n          if (msg_handler) {\n            var messages = comm.messages[Symbol.asyncIterator]();\n            function processIteratorResult(result) {\n              var message = result.value;\n              var content = {data: message.data};\n              var metadata = message.metadata || {comm_id};\n              var msg = {content, metadata}\n              msg_handler(msg);\n              return messages.next().then(processIteratorResult);\n            }\n            return messages.next().then(processIteratorResult);\n          }\n        })\n        var sendClosure = (data, metadata, buffers, disposeOnDone) => {\n          return comm_promise.then((comm) => {\n            comm.send(data, metadata, buffers, disposeOnDone);\n          });\n        };\n        var comm = {\n          send: sendClosure\n        };\n      }\n      window.PyViz.comms[comm_id] = comm;\n      return comm;\n    }\n    window.PyViz.comm_manager = new JupyterCommManager();\n    \n\n\nvar JS_MIME_TYPE = 'application/javascript';\nvar HTML_MIME_TYPE = 'text/html';\nvar EXEC_MIME_TYPE = 'application/vnd.holoviews_exec.v0+json';\nvar CLASS_NAME = 'output';\n\n/**\n * Render data to the DOM node\n */\nfunction render(props, node) {\n  var div = document.createElement(\"div\");\n  var script = document.createElement(\"script\");\n  node.appendChild(div);\n  node.appendChild(script);\n}\n\n/**\n * Handle when a new output is added\n */\nfunction handle_add_output(event, handle) {\n  var output_area = handle.output_area;\n  var output = handle.output;\n  if ((output.data == undefined) || (!output.data.hasOwnProperty(EXEC_MIME_TYPE))) {\n    return\n  }\n  var id = output.metadata[EXEC_MIME_TYPE][\"id\"];\n  var toinsert = output_area.element.find(\".\" + CLASS_NAME.split(' ')[0]);\n  if (id !== undefined) {\n    var nchildren = toinsert.length;\n    var html_node = toinsert[nchildren-1].children[0];\n    html_node.innerHTML = output.data[HTML_MIME_TYPE];\n    var scripts = [];\n    var nodelist = html_node.querySelectorAll(\"script\");\n    for (var i in nodelist) {\n      if (nodelist.hasOwnProperty(i)) {\n        scripts.push(nodelist[i])\n      }\n    }\n\n    scripts.forEach( function (oldScript) {\n      var newScript = document.createElement(\"script\");\n      var attrs = [];\n      var nodemap = oldScript.attributes;\n      for (var j in nodemap) {\n        if (nodemap.hasOwnProperty(j)) {\n          attrs.push(nodemap[j])\n        }\n      }\n      attrs.forEach(function(attr) { newScript.setAttribute(attr.name, attr.value) });\n      newScript.appendChild(document.createTextNode(oldScript.innerHTML));\n      oldScript.parentNode.replaceChild(newScript, oldScript);\n    });\n    if (JS_MIME_TYPE in output.data) {\n      toinsert[nchildren-1].children[1].textContent = output.data[JS_MIME_TYPE];\n    }\n    output_area._hv_plot_id = id;\n    if ((window.Bokeh !== undefined) && (id in Bokeh.index)) {\n      window.PyViz.plot_index[id] = Bokeh.index[id];\n    } else {\n      window.PyViz.plot_index[id] = null;\n    }\n  } else if (output.metadata[EXEC_MIME_TYPE][\"server_id\"] !== undefined) {\n    var bk_div = document.createElement(\"div\");\n    bk_div.innerHTML = output.data[HTML_MIME_TYPE];\n    var script_attrs = bk_div.children[0].attributes;\n    for (var i = 0; i < script_attrs.length; i++) {\n      toinsert[toinsert.length - 1].childNodes[1].setAttribute(script_attrs[i].name, script_attrs[i].value);\n    }\n    // store reference to server id on output_area\n    output_area._bokeh_server_id = output.metadata[EXEC_MIME_TYPE][\"server_id\"];\n  }\n}\n\n/**\n * Handle when an output is cleared or removed\n */\nfunction handle_clear_output(event, handle) {\n  var id = handle.cell.output_area._hv_plot_id;\n  var server_id = handle.cell.output_area._bokeh_server_id;\n  if (((id === undefined) || !(id in PyViz.plot_index)) && (server_id !== undefined)) { return; }\n  var comm = window.PyViz.comm_manager.get_client_comm(\"hv-extension-comm\", \"hv-extension-comm\", function () {});\n  if (server_id !== null) {\n    comm.send({event_type: 'server_delete', 'id': server_id});\n    return;\n  } else if (comm !== null) {\n    comm.send({event_type: 'delete', 'id': id});\n  }\n  delete PyViz.plot_index[id];\n  if ((window.Bokeh !== undefined) & (id in window.Bokeh.index)) {\n    var doc = window.Bokeh.index[id].model.document\n    doc.clear();\n    const i = window.Bokeh.documents.indexOf(doc);\n    if (i > -1) {\n      window.Bokeh.documents.splice(i, 1);\n    }\n  }\n}\n\n/**\n * Handle kernel restart event\n */\nfunction handle_kernel_cleanup(event, handle) {\n  delete PyViz.comms[\"hv-extension-comm\"];\n  window.PyViz.plot_index = {}\n}\n\n/**\n * Handle update_display_data messages\n */\nfunction handle_update_output(event, handle) {\n  handle_clear_output(event, {cell: {output_area: handle.output_area}})\n  handle_add_output(event, handle)\n}\n\nfunction register_renderer(events, OutputArea) {\n  function append_mime(data, metadata, element) {\n    // create a DOM node to render to\n    var toinsert = this.create_output_subarea(\n    metadata,\n    CLASS_NAME,\n    EXEC_MIME_TYPE\n    );\n    this.keyboard_manager.register_events(toinsert);\n    // Render to node\n    var props = {data: data, metadata: metadata[EXEC_MIME_TYPE]};\n    render(props, toinsert[0]);\n    element.append(toinsert);\n    return toinsert\n  }\n\n  events.on('output_added.OutputArea', handle_add_output);\n  events.on('output_updated.OutputArea', handle_update_output);\n  events.on('clear_output.CodeCell', handle_clear_output);\n  events.on('delete.Cell', handle_clear_output);\n  events.on('kernel_ready.Kernel', handle_kernel_cleanup);\n\n  OutputArea.prototype.register_mime_type(EXEC_MIME_TYPE, append_mime, {\n    safe: true,\n    index: 0\n  });\n}\n\nif (window.Jupyter !== undefined) {\n  try {\n    var events = require('base/js/events');\n    var OutputArea = require('notebook/js/outputarea').OutputArea;\n    if (OutputArea.prototype.mime_types().indexOf(EXEC_MIME_TYPE) == -1) {\n      register_renderer(events, OutputArea);\n    }\n  } catch(err) {\n  }\n}\n"
     },
     "metadata": {},
     "output_type": "display_data"
    },
    {
     "data": {
      "text/html": [
       "<style>*[data-root-id],\n",
       "*[data-root-id] > * {\n",
       "  box-sizing: border-box;\n",
       "  font-family: var(--jp-ui-font-family);\n",
       "  font-size: var(--jp-ui-font-size1);\n",
       "  color: var(--vscode-editor-foreground, var(--jp-ui-font-color1));\n",
       "}\n",
       "\n",
       "/* Override VSCode background color */\n",
       ".cell-output-ipywidget-background:has(\n",
       "    > .cell-output-ipywidget-background > .lm-Widget > *[data-root-id]\n",
       "  ),\n",
       ".cell-output-ipywidget-background:has(> .lm-Widget > *[data-root-id]) {\n",
       "  background-color: transparent !important;\n",
       "}\n",
       "</style>"
      ]
     },
     "metadata": {},
     "output_type": "display_data"
    }
   ],
   "source": [
    "import pandas as pd\n",
    "import numpy as np\n",
    "\n",
    "import holoviews as hv\n",
    "from holoviews import dim, opts\n",
    "import hvplot.pandas\n",
    "hv.extension('matplotlib')"
   ]
  },
  {
   "cell_type": "code",
   "execution_count": 46,
   "metadata": {
    "slideshow": {
     "slide_type": "notes"
    }
   },
   "outputs": [],
   "source": [
    "res = pd.read_excel('br_reservas_1976_1985.xlsx')\n",
    "\n",
    "reservas = res.hvplot.bar('Ano', ['Reservas cambiais da AM', 'Juros pagos por AM e Tesouro'],\n",
    "                          height=400,\n",
    "                          width=550,\n",
    "                          rot=0,\n",
    "                          stacked=False,\n",
    "                          padding=0.02,\n",
    "                          legend='bottom',\n",
    "                          grid=False,\n",
    "                          cmap='coolwarm',\n",
    "                          ylim=(-2000, 14000),\n",
    "                          yformatter='%.0f',\n",
    "                          xlabel='',\n",
    "                          ylabel='',\n",
    "                          group_label='Reservas vs Juros', \n",
    "                          label='Reservas e juros, Brasil, 1976-1985 (em milhões, US$)',\n",
    "                          #legend_labels='teste'\n",
    "                         ).opts(fontsize={'title': 11.5, 'labels': 9, 'xticks': 9, \n",
    "                                          'yticks': 9, 'legend': 9}).opts(multi_level=False)"
   ]
  },
  {
   "cell_type": "code",
   "execution_count": 47,
   "metadata": {
    "slideshow": {
     "slide_type": "subslide"
    }
   },
   "outputs": [
    {
     "data": {
      "text/html": [
       "<img src='data:image/png;base64,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' style='max-width:100%; margin: auto; display: block; '/>"
      ],
      "text/plain": [
       ":Bars   [Ano,Reservas vs Juros]   (value)"
      ]
     },
     "execution_count": 47,
     "metadata": {
      "application/vnd.holoviews_exec.v0+json": {}
     },
     "output_type": "execute_result"
    }
   ],
   "source": [
    "reservas"
   ]
  },
  {
   "cell_type": "markdown",
   "metadata": {
    "slideshow": {
     "slide_type": "slide"
    }
   },
   "source": [
    "## Ônus do ajuste\n",
    "\n",
    "A Autoridade Monetária e o Tesouro assumiram o ônus do ajuste externo, em um processo de “socialização de prejuízos” e “estatização da dívida externa”, como já foi visto."
   ]
  },
  {
   "cell_type": "markdown",
   "metadata": {
    "slideshow": {
     "slide_type": "fragment"
    }
   },
   "source": [
    "Vários mecanismos viabilizaram esse processo de transferência de risco/custo cambial do setor privado para o setor público (AM, Tesouro e estatais): Circular no 230 (1974; para os bancos na Resolução no. 63), Resolução no\n",
    "432 (1977; empresas, Resolução no. 4131), ORTN cambiais, além do uso das estatais para captar recursos externos novos."
   ]
  },
  {
   "cell_type": "markdown",
   "metadata": {
    "slideshow": {
     "slide_type": "fragment"
    }
   },
   "source": [
    "Da mesma forma, os chamados “depósitos de projetos” do setor público foram amplamente utilizados e contribuíram para o desequilíbrio do setor público: "
   ]
  },
  {
   "cell_type": "markdown",
   "metadata": {
    "slideshow": {
     "slide_type": "subslide"
    }
   },
   "source": [
    "- Avisos GB-588 de 1967 = Banco do Brasil honrava os compromissos externos em atraso das entidades públicas; "
   ]
  },
  {
   "cell_type": "markdown",
   "metadata": {
    "slideshow": {
     "slide_type": "fragment"
    }
   },
   "source": [
    "- MF-30 de 1983 = Banco do Brasil regulariza com empréstimos às entidades públicas endividadas no exterior os compromissos cambiais pendentes. Entidades públicas = governos estaduais e municipais, estatais. Ver a seguir."
   ]
  },
  {
   "cell_type": "code",
   "execution_count": 48,
   "metadata": {
    "slideshow": {
     "slide_type": "notes"
    }
   },
   "outputs": [],
   "source": [
    "transf = pd.read_excel('br_transf_1979_1985.xlsx')\n",
    "\n",
    "serviços = transf.hvplot.bar('Ano', ['Pagamentos do serviço da dívida externa do setor público'],\n",
    "                             height=400,\n",
    "                             width=650,\n",
    "                             rot=0,\n",
    "                             stacked=False,\n",
    "                             padding=0.02,\n",
    "                             legend='bottom',\n",
    "                             color='firebrick',\n",
    "                             ylim=(0, 5000),\n",
    "                             yformatter='%.0f',\n",
    "                             xlabel='',\n",
    "                             ylabel='',\n",
    "                             group_label='Serviço da dívida externa', \n",
    "                             label='Serviço da dívida externa do setor público, Brasil, 1979-85 (em milhões, US$)'\n",
    "                            ).opts(fontsize={'title': 10, 'labels': 9, 'xticks': 9, \n",
    "                                             'yticks': 9, 'legend': 9}).opts(multi_level=False)"
   ]
  },
  {
   "cell_type": "code",
   "execution_count": 49,
   "metadata": {
    "slideshow": {
     "slide_type": "subslide"
    }
   },
   "outputs": [
    {
     "data": {
      "text/html": [
       "<img src='data:image/png;base64,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' style='max-width:100%; margin: auto; display: block; '/>"
      ],
      "text/plain": [
       ":Bars   [Ano,Serviço da dívida externa]   (value)"
      ]
     },
     "execution_count": 49,
     "metadata": {
      "application/vnd.holoviews_exec.v0+json": {}
     },
     "output_type": "execute_result"
    }
   ],
   "source": [
    "serviços"
   ]
  },
  {
   "cell_type": "markdown",
   "metadata": {
    "slideshow": {
     "slide_type": "slide"
    }
   },
   "source": [
    "## Passivo da Autoridade Monetária\n",
    "\n",
    "O desequilíbrio do setor público gerado pela absorção dos custos do endividamento externo pode ser visto por meio das contas consolidadas das Autoridades Monetárias (Banco Central e Banco do Brasil)."
   ]
  },
  {
   "cell_type": "markdown",
   "metadata": {
    "slideshow": {
     "slide_type": "fragment"
    }
   },
   "source": [
    "Na figura a seguir, são apresentadas as contas do passivo, ou seja, as fontes de recursos das AM: Base Monetária (PMpp + total das reservas bancárias), Títulos Federais junto ao público (dívida pública) e Contas Cambiais/Depósitos em Moedas Estrangeiras."
   ]
  },
  {
   "cell_type": "markdown",
   "metadata": {
    "slideshow": {
     "slide_type": "fragment"
    }
   },
   "source": [
    "Notem que o peso relativo da Base Monetária declina (por que?) e aumenta a importância do passivo denominado em moeda estrangeira (as contas mencionadas anteriormente) ao lado da dívida mobiliária federal."
   ]
  },
  {
   "cell_type": "markdown",
   "metadata": {
    "slideshow": {
     "slide_type": "subslide"
    }
   },
   "source": [
    "### <center>Recursos da AM</center>\n",
    "\n",
    "<center><img src=\"br_passivoAM.png\" width=\"700\" height=\"450\"></center>"
   ]
  },
  {
   "cell_type": "markdown",
   "metadata": {
    "slideshow": {
     "slide_type": "slide"
    }
   },
   "source": [
    "## Passivo do Tesouro\n",
    "\n",
    "A deterioração das finanças do setor público também pode ser vista nas contas do Tesouro Nacional."
   ]
  },
  {
   "cell_type": "markdown",
   "metadata": {
    "slideshow": {
     "slide_type": "fragment"
    }
   },
   "source": [
    "A “Execução de caixa” fechou os anos em equilíbrio, tanto porque o governo gastava toda a receita de impostos ou porque transferia os saldos para outras contas do orçamento. As outras contas, inclusive de origem financeira, apresentaram crescente déficit."
   ]
  },
  {
   "cell_type": "markdown",
   "metadata": {
    "slideshow": {
     "slide_type": "fragment"
    }
   },
   "source": [
    "Definições: “Outras operações” = despesa financeira do Tesouro com o Banco Central; “Adiantamentos”= créditos do Banco do Brasil a diversas operações do Tesouro: subsídios ao trigo, petróleo, preços mínimos agrícolas, Aviso GB-588, MF-30, entre outros."
   ]
  },
  {
   "cell_type": "markdown",
   "metadata": {
    "jp-MarkdownHeadingCollapsed": true,
    "slideshow": {
     "slide_type": "subslide"
    }
   },
   "source": [
    "### <center>Contas do Tesouro</center>\n",
    "\n",
    "<center><img src=\"br_passivo_tesouro.png\" width=\"700\" height=\"450\"></center>"
   ]
  },
  {
   "cell_type": "markdown",
   "metadata": {
    "slideshow": {
     "slide_type": "slide"
    }
   },
   "source": [
    "## Dívida pública e crise externa\n",
    "\n",
    "Em resumo, a dívida do setor público (Autoridades Monetárias e Tesouro, além das estatais) cresceu rapidamente após as medidas de estabilização pós-1980 e o agravamento da crise do balanço de pagamentos."
   ]
  },
  {
   "cell_type": "markdown",
   "metadata": {
    "slideshow": {
     "slide_type": "fragment"
    }
   },
   "source": [
    "Houve relação direta entre crise externa e endividamento do setor público, com a captação de recursos externos pela AM para formação de reservas e a transferência do custo crescente da dívida externa para o setor público, via:"
   ]
  },
  {
   "cell_type": "markdown",
   "metadata": {
    "slideshow": {
     "slide_type": "fragment"
    }
   },
   "source": [
    "- utilização de empresas públicas para captar recursos externos, "
   ]
  },
  {
   "cell_type": "markdown",
   "metadata": {
    "slideshow": {
     "slide_type": "fragment"
    }
   },
   "source": [
    "- depósitos junto ao Banco Central e "
   ]
  },
  {
   "cell_type": "markdown",
   "metadata": {
    "slideshow": {
     "slide_type": "subslide"
    }
   },
   "source": [
    "- encargos das entidades públicas assumidos pelo Banco do Brasil (além da contenção de tarifas e preços públicos). "
   ]
  },
  {
   "cell_type": "markdown",
   "metadata": {
    "slideshow": {
     "slide_type": "fragment"
    }
   },
   "source": [
    "Ou seja, o *setor público* absorveu a maior parte do ajuste externo nos anos 1980."
   ]
  },
  {
   "cell_type": "markdown",
   "metadata": {
    "slideshow": {
     "slide_type": "fragment"
    }
   },
   "source": [
    "De sua parte, as *empresas e bancos privados* que captaram recursos no exterior ajustaram-se com sucesso, seja retirando-se do mercado de recursos externos ou mediante transferência de seus encargos para o setor público, desde a 2a metade da década de 1970."
   ]
  },
  {
   "cell_type": "markdown",
   "metadata": {
    "slideshow": {
     "slide_type": "slide"
    }
   },
   "source": [
    "## Questões\n",
    "\n",
    "Defina: o que seria a “socialização das perdas” no contexto da economia brasileira das décadas de 1970 e 1980?\n",
    "\n",
    "Analise como o ajuste à crise externa se manifestou nas contas das Autoridades Monetárias.\n",
    "\n",
    "E como foi este ajuste da parte do Tesouro? Quais foram os efeitos possíveis deste ajuste sobre os tipos de gastos do setor público?"
   ]
  }
 ],
 "metadata": {
  "celltoolbar": "Slideshow",
  "kernelspec": {
   "display_name": "Python 3 (ipykernel)",
   "language": "python",
   "name": "python3"
  },
  "language_info": {
   "codemirror_mode": {
    "name": "ipython",
    "version": 3
   },
   "file_extension": ".py",
   "mimetype": "text/x-python",
   "name": "python",
   "nbconvert_exporter": "python",
   "pygments_lexer": "ipython3",
   "version": "3.9.22"
  },
  "toc": {
   "base_numbering": 1,
   "nav_menu": {},
   "number_sections": false,
   "sideBar": true,
   "skip_h1_title": false,
   "title_cell": "Table of Contents",
   "title_sidebar": "Contents",
   "toc_cell": false,
   "toc_position": {},
   "toc_section_display": true,
   "toc_window_display": false
  }
 },
 "nbformat": 4,
 "nbformat_minor": 4
}
